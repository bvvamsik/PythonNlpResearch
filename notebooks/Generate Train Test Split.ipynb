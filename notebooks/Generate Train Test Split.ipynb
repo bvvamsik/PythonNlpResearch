{
 "cells": [
  {
   "cell_type": "code",
   "execution_count": 399,
   "metadata": {
    "collapsed": true
   },
   "outputs": [],
   "source": [
    "%matplotlib inline\n",
    "from collections import defaultdict"
   ]
  },
  {
   "cell_type": "markdown",
   "metadata": {},
   "source": [
    "# Settings"
   ]
  },
  {
   "cell_type": "code",
   "execution_count": 400,
   "metadata": {
    "collapsed": false
   },
   "outputs": [
    {
     "name": "stdout",
     "output_type": "stream",
     "text": [
      "Root: /Users/simon.hughes/Google Drive/Phd/Data/SkinCancer/Thesis_Dataset/\n",
      "\n",
      "/Users/simon.hughes/Google Drive/Phd/Data/SkinCancer/Thesis_Dataset/All_Files/\n",
      "/Users/simon.hughes/Google Drive/Phd/Data/SkinCancer/Thesis_Dataset/Training/\n",
      "/Users/simon.hughes/Google Drive/Phd/Data/SkinCancer/Thesis_Dataset/Test/\n"
     ]
    }
   ],
   "source": [
    "PCT_TEST_SPLIT = 0.2\n",
    "\n",
    "#Source Folder (essay_folder) - CHANGE THIS ONE SETTING TO SWITCH BETWEEN CB AND SC!!!!!\n",
    "\n",
    "#essay_folder = \"CoralBleaching/BrattData/EBA1415_Merged/\"\n",
    "essay_folder = \"SkinCancer/EBA1415_Merged/\"\n",
    "\n",
    "\n",
    "\n",
    "data_dir = \"/Users/simon.hughes/Google Drive/Phd/Data/\"\n",
    "folder = data_dir + essay_folder\n",
    "\n",
    "root_folder = data_dir + essay_folder.split(\"/\")[0] + \"/Thesis_Dataset/\"\n",
    "print \"Root: \" + root_folder\n",
    "\n",
    "all_folder      = root_folder + \"All_Files/\"\n",
    "test_folder     = root_folder + \"Test/\"\n",
    "training_folder = root_folder + \"Training/\"\n",
    "\n",
    "print \"\"\n",
    "for f in [all_folder, training_folder, test_folder]:\n",
    "    print f"
   ]
  },
  {
   "cell_type": "markdown",
   "metadata": {},
   "source": [
    "# Map .ann And .txt Files"
   ]
  },
  {
   "cell_type": "code",
   "execution_count": 363,
   "metadata": {
    "collapsed": true
   },
   "outputs": [],
   "source": [
    "import os, re\n",
    "\n",
    "def find_files(folder, regex, remove_empty = False):\n",
    "    \"\"\"\n",
    "    Find all files matching the [regex] pattern in [folder]\n",
    "\n",
    "    folder  :   string\n",
    "                    folder to search (not recursive)\n",
    "    regex   :   string (NOT regex object)\n",
    "                    pattern to match\n",
    "    \"\"\"\n",
    "    files = os.listdir(folder)\n",
    "    matches = [os.path.abspath(os.path.join(folder, f))\n",
    "               for f in files\n",
    "               if re.search(regex, f, re.IGNORECASE)]\n",
    "\n",
    "    if remove_empty:\n",
    "        matches = [f for f in matches if os.path.getsize(f) > 0]\n",
    "    matches.sort()\n",
    "    return matches"
   ]
  },
  {
   "cell_type": "code",
   "execution_count": 364,
   "metadata": {
    "collapsed": false
   },
   "outputs": [
    {
     "data": {
      "text/plain": [
       "(1107, 1114)"
      ]
     },
     "execution_count": 364,
     "metadata": {},
     "output_type": "execute_result"
    }
   ],
   "source": [
    "ann_files = find_files(folder, \"\\.ann$\", remove_empty=True)\n",
    "txt_files = find_files(folder, \"\\.txt$\", remove_empty=True)\n",
    "len(ann_files), len(txt_files)"
   ]
  },
  {
   "cell_type": "code",
   "execution_count": 365,
   "metadata": {
    "collapsed": false
   },
   "outputs": [
    {
     "data": {
      "text/plain": [
       "(1107, 1114)"
      ]
     },
     "execution_count": 365,
     "metadata": {},
     "output_type": "execute_result"
    }
   ],
   "source": [
    "def get_prefix(fname):\n",
    "    return fname[:-4]\n",
    "\n",
    "dct_ann = defaultdict(set)\n",
    "for ann in ann_files:\n",
    "    prefix = get_prefix(ann)\n",
    "    dct_ann[prefix].add(ann)\n",
    "\n",
    "dct_txt = defaultdict(set)\n",
    "for txt in txt_files:\n",
    "    prefix = get_prefix(txt)\n",
    "    dct_txt[prefix].add(txt)\n",
    "\n",
    "len(dct_ann), len(dct_txt)"
   ]
  },
  {
   "cell_type": "markdown",
   "metadata": {},
   "source": [
    "### Joined Represents a Mapping Between Prefixes and (.ann,.txt) Filenames"
   ]
  },
  {
   "cell_type": "code",
   "execution_count": 366,
   "metadata": {
    "collapsed": false
   },
   "outputs": [
    {
     "data": {
      "text/plain": [
       "1107"
      ]
     },
     "execution_count": 366,
     "metadata": {},
     "output_type": "execute_result"
    }
   ],
   "source": [
    "joined = {}\n",
    "for prfx in dct_ann.keys():\n",
    "    if prfx in dct_txt:\n",
    "        joined[prfx] = (dct_ann[prfx], dct_txt[prfx])\n",
    "len(joined)"
   ]
  },
  {
   "cell_type": "markdown",
   "metadata": {},
   "source": [
    "# Load and Parse Actual The Essay Files (Removing Invalid and Empty Files)"
   ]
  },
  {
   "cell_type": "code",
   "execution_count": 370,
   "metadata": {
    "collapsed": false
   },
   "outputs": [
    {
     "name": "stdout",
     "output_type": "stream",
     "text": [
      "Results Dir: /Users/simon.hughes/Google Drive/Phd/Results/\n",
      "Data Dir:    /Users/simon.hughes/Google Drive/Phd/Data/\n",
      "Root Dir:    /Users/simon.hughes/GitHub/NlpResearch/\n",
      "Public Data: /Users/simon.hughes/GitHub/NlpResearch/Data/PublicDatasets/\n",
      "1107 files found\n",
      "Skipping /Users/simon.hughes/Google Drive/Phd/Data/SkinCancer/EBA1415_Merged/EBA1415_BGJD_1_SC_ES-05728.ann file as .txt file is no essay'\n",
      "Skipping /Users/simon.hughes/Google Drive/Phd/Data/SkinCancer/EBA1415_Merged/EBA1415_BGJD_1_SC_ES-5726_9.ann file as .txt file is no essay.'\n",
      "Skipping /Users/simon.hughes/Google Drive/Phd/Data/SkinCancer/EBA1415_Merged/EBA1415_KYLS_6_SC_ES-05674.ann file as .txt file is no essay'\n",
      "Skipping /Users/simon.hughes/Google Drive/Phd/Data/SkinCancer/EBA1415_Merged/EBA1415_LRJE_7_SC_ES-05142.ann file as .txt file is no essay'\n",
      "Skipping /Users/simon.hughes/Google Drive/Phd/Data/SkinCancer/EBA1415_Merged/EBA1415_RDCS_1_SC_ES-04696.ann file as .txt file is no essay//'\n",
      "Skipping /Users/simon.hughes/Google Drive/Phd/Data/SkinCancer/EBA1415_Merged/EBA1415_SVJJ_2_SC_ES-05617.ann file as .txt file is no essay'\n",
      "Skipping /Users/simon.hughes/Google Drive/Phd/Data/SkinCancer/EBA1415_Merged/EBA1415_SWAF_1_SC_ES-04832.ann file as .txt file is no essay.'\n",
      "Skipping /Users/simon.hughes/Google Drive/Phd/Data/SkinCancer/EBA1415_Merged/EBA1415_SWAF_1_SC_ES-04834.ann file as .txt file is no essay.'\n",
      "Skipping /Users/simon.hughes/Google Drive/Phd/Data/SkinCancer/EBA1415_Merged/EBA1415_SWSP_1_SC_ES-04853.ann file as .txt file is no essay  //'\n",
      "Skipping /Users/simon.hughes/Google Drive/Phd/Data/SkinCancer/EBA1415_Merged/EBA1415_SYMS_3_SC_ES-05900.ann file as .txt file is no essay.'\n",
      "Skipping /Users/simon.hughes/Google Drive/Phd/Data/SkinCancer/EBA1415_Merged/EBA1415_SYMS_4_SC_ES-05980.ann file as .txt file is no essay.'\n",
      "Skipping /Users/simon.hughes/Google Drive/Phd/Data/SkinCancer/EBA1415_Merged/EBA1415_TFHC_1_SC_ES-05937.ann file as .txt file is no essay.'\n",
      "Skipping /Users/simon.hughes/Google Drive/Phd/Data/SkinCancer/EBA1415_Merged/EBA1415_TRDJ_11_SC_ES-05721.ann file as .txt file is no essay.'\n",
      "Skipping /Users/simon.hughes/Google Drive/Phd/Data/SkinCancer/EBA1415_Merged/EBA1415_TRKM_1_SC_ES-05026.ann file as .txt file is no essay.'\n",
      "Skipping /Users/simon.hughes/Google Drive/Phd/Data/SkinCancer/EBA1415_Merged/EBA1415_TTKP_4-5_SC_ES-04924.ann file as .txt file is no essay.'\n",
      "Skipping /Users/simon.hughes/Google Drive/Phd/Data/SkinCancer/EBA1415_Merged/EBA1415_TWDG_11_SC_ES-05463.ann file as .txt file is no essay.'\n",
      "Skipping /Users/simon.hughes/Google Drive/Phd/Data/SkinCancer/EBA1415_Merged/EBA1415_TWJB_7_SC_ES-05897.ann file as .txt file is no essay.'\n",
      "Skipping /Users/simon.hughes/Google Drive/Phd/Data/SkinCancer/EBA1415_Merged/EBA1415_TWNB_2_SC_ES-04977.ann file as .txt file is no essay'\n",
      "Skipping /Users/simon.hughes/Google Drive/Phd/Data/SkinCancer/EBA1415_Merged/EBA1415_WSAL_2_SC_ES-05361.ann file as .txt file is no essay'\n",
      "1088 essays processed\n",
      "CPU times: user 5.44 s, sys: 185 ms, total: 5.63 s\n",
      "Wall time: 6.98 s\n"
     ]
    }
   ],
   "source": [
    "%%time\n",
    "from BrattEssay import load_bratt_essays\n",
    "from collections import defaultdict\n",
    "from IterableFP import flatten\n",
    "from Settings import Settings\n",
    "settings = Settings()\n",
    "essays = load_bratt_essays(folder)"
   ]
  },
  {
   "cell_type": "markdown",
   "metadata": {},
   "source": [
    "### Now Remove Invalid Files from the Joined List"
   ]
  },
  {
   "cell_type": "code",
   "execution_count": 371,
   "metadata": {
    "collapsed": false
   },
   "outputs": [
    {
     "data": {
      "text/plain": [
       "(1088, 1088, 1107)"
      ]
     },
     "execution_count": 371,
     "metadata": {},
     "output_type": "execute_result"
    }
   ],
   "source": [
    "valid_essays = set(map(lambda essay: get_prefix(essay.full_path), essays))\n",
    "match = set((e for e in valid_essays if e in joined))\n",
    "len(valid_essays), len(match), len(joined)"
   ]
  },
  {
   "cell_type": "code",
   "execution_count": 372,
   "metadata": {
    "collapsed": false
   },
   "outputs": [
    {
     "name": "stdout",
     "output_type": "stream",
     "text": [
      "19 Essays deleted\n",
      "1088 1088 1088\n"
     ]
    }
   ],
   "source": [
    "deleted = 0\n",
    "for e in list(joined.keys()):\n",
    "    if e not in match:\n",
    "        del joined[e]\n",
    "        deleted+=1\n",
    "print deleted, \"Essays deleted\"\n",
    "print len(valid_essays), len(match), len(joined)"
   ]
  },
  {
   "cell_type": "markdown",
   "metadata": {},
   "source": [
    "# Partition into Train and Test Sets"
   ]
  },
  {
   "cell_type": "markdown",
   "metadata": {},
   "source": [
    "## 1. Calculate the Partition Sizes (in ints):"
   ]
  },
  {
   "cell_type": "code",
   "execution_count": 373,
   "metadata": {
    "collapsed": false
   },
   "outputs": [
    {
     "name": "stdout",
     "output_type": "stream",
     "text": [
      "Test: 218 \tTrain: 870 \tTotal: 1088\n",
      "20.0368 %\n"
     ]
    }
   ],
   "source": [
    "num = len(joined.keys())\n",
    "n_test = int(round(PCT_TEST_SPLIT * len(joined.keys())))\n",
    "print \"Test:\", n_test, \"\\tTrain:\", num - n_test, \"\\tTotal:\", num\n",
    "print round(float(n_test) / num * 100,4), \"%\""
   ]
  },
  {
   "cell_type": "code",
   "execution_count": 374,
   "metadata": {
    "collapsed": false
   },
   "outputs": [],
   "source": [
    "assert num == len(essays), \"Total should match number of essays\""
   ]
  },
  {
   "cell_type": "markdown",
   "metadata": {},
   "source": [
    "## 2. Create Partition, and Compute Code Distributions"
   ]
  },
  {
   "cell_type": "markdown",
   "metadata": {},
   "source": [
    "### Compute Counts Across Whole Corpus"
   ]
  },
  {
   "cell_type": "code",
   "execution_count": 375,
   "metadata": {
    "collapsed": false
   },
   "outputs": [
    {
     "data": {
      "text/plain": [
       "(684521, 10670, 112)"
      ]
     },
     "execution_count": 375,
     "metadata": {},
     "output_type": "execute_result"
    }
   ],
   "source": [
    "nm_wds = 0\n",
    "num_sentences = 0\n",
    "all_codes = set()\n",
    "for essay in essays:\n",
    "    for sentence in essay.tagged_sentences:\n",
    "        num_sentences+=1\n",
    "        for wd, tags in sentence:\n",
    "            num_wds +=1\n",
    "            all_codes.update(tags)\n",
    "num_wds, num_sentences, len(all_codes)"
   ]
  },
  {
   "cell_type": "markdown",
   "metadata": {},
   "source": [
    "### Segment Codes by Category"
   ]
  },
  {
   "cell_type": "code",
   "execution_count": 376,
   "metadata": {
    "collapsed": false
   },
   "outputs": [
    {
     "name": "stdout",
     "output_type": "stream",
     "text": [
      "regular ['1', '2', '3', '4', '5', '6', '11', '12', '50']\n",
      "causal Causer:1->Result:2\n",
      "Causer:1->Result:3\n",
      "Causer:1->Result:4\n",
      "Causer:1->Result:5\n",
      "Causer:1->Result:50\n",
      "Causer:1->Result:Anaphor\n",
      "Causer:1->Result:rhetorical\n",
      "Causer:11->Result:12\n",
      "Causer:11->Result:3\n",
      "Causer:11->Result:4\n",
      "Causer:11->Result:5\n",
      "Causer:11->Result:50\n",
      "Causer:11->Result:Anaphor\n",
      "Causer:12->Result:12\n",
      "Causer:12->Result:2\n",
      "Causer:12->Result:3\n",
      "Causer:12->Result:4\n",
      "Causer:12->Result:5\n",
      "Causer:12->Result:50\n",
      "Causer:12->Result:Anaphor\n",
      "Causer:2->Result:1\n",
      "Causer:2->Result:11\n",
      "Causer:2->Result:2\n",
      "Causer:2->Result:3\n",
      "Causer:2->Result:4\n",
      "Causer:2->Result:5\n",
      "Causer:2->Result:50\n",
      "Causer:2->Result:6\n",
      "Causer:2->Result:Anaphor\n",
      "Causer:2->Result:rhetorical\n",
      "Causer:3->Result:11\n",
      "Causer:3->Result:2\n",
      "Causer:3->Result:4\n",
      "Causer:3->Result:5\n",
      "Causer:3->Result:50\n",
      "Causer:3->Result:6\n",
      "Causer:3->Result:Anaphor\n",
      "Causer:3->Result:rhetorical\n",
      "Causer:4->Result:11\n",
      "Causer:4->Result:12\n",
      "Causer:4->Result:4\n",
      "Causer:4->Result:5\n",
      "Causer:4->Result:50\n",
      "Causer:4->Result:6\n",
      "Causer:4->Result:Anaphor\n",
      "Causer:5->Result:12\n",
      "Causer:5->Result:4\n",
      "Causer:5->Result:5\n",
      "Causer:5->Result:50\n",
      "Causer:5->Result:6\n",
      "Causer:5->Result:Anaphor\n",
      "Causer:5->Result:rhetorical\n",
      "Causer:50->Result:2\n",
      "Causer:50->Result:3\n",
      "Causer:50->Result:4\n",
      "Causer:50->Result:5\n",
      "Causer:50->Result:other\n",
      "Causer:6->Result:3\n",
      "Causer:6->Result:4\n",
      "Causer:6->Result:5\n",
      "Causer:6->Result:50\n",
      "Causer:6->Result:Anaphor\n",
      "Causer:Anaphor->Result:1\n",
      "Causer:Anaphor->Result:11\n",
      "Causer:Anaphor->Result:12\n",
      "Causer:Anaphor->Result:2\n",
      "Causer:Anaphor->Result:3\n",
      "Causer:Anaphor->Result:4\n",
      "Causer:Anaphor->Result:5\n",
      "Causer:Anaphor->Result:50\n",
      "Causer:Anaphor->Result:6\n",
      "Causer:Anaphor->Result:Anaphor\n",
      "Causer:rhetorical->Result:50\n"
     ]
    }
   ],
   "source": [
    "regular_codes = sorted([c for c in all_codes if c[0].isdigit()], key=lambda c: (len(c), c))\n",
    "causal_codes = sorted([c for c in all_codes if \"->\" in c])\n",
    "print \"regular\", regular_codes\n",
    "print \"causal\", \"\\n\".join(causal_codes)"
   ]
  },
  {
   "cell_type": "code",
   "execution_count": 377,
   "metadata": {
    "collapsed": false
   },
   "outputs": [],
   "source": [
    "def compute_tag_distributions(essays, codes=None):\n",
    "    if not codes:\n",
    "        codes = all_codes\n",
    "    else:\n",
    "        codes = set(codes)\n",
    "        \n",
    "    wd_tag_freq = defaultdict(int)\n",
    "    sent_tag_freq = defaultdict(int)\n",
    "    num_wds = 0\n",
    "    num_sentences = 0\n",
    "    for essay in essays:\n",
    "        for sentence in essay.tagged_sentences:\n",
    "            num_sentences+=1\n",
    "            # compute unique tags for sentence for computing sentence distributions\n",
    "            un_tags = set()\n",
    "            for wd, tags in sentence:\n",
    "                num_wds +=1\n",
    "                tags = tags.intersection(codes)\n",
    "                if not tags:\n",
    "                    continue\n",
    "        \n",
    "                un_tags.update(tags)\n",
    "                for tag in tags:\n",
    "                    wd_tag_freq[tag] += 1\n",
    "            for tag in un_tags:\n",
    "                sent_tag_freq[tag] += 1\n",
    "    \n",
    "    for tag in wd_tag_freq.keys():\n",
    "        wd_tag_freq[tag] = float(wd_tag_freq[tag])/ float(num_wds)\n",
    "        sent_tag_freq[tag] = float(sent_tag_freq[tag] / float(num_sentences))\n",
    "    \n",
    "    return wd_tag_freq, sent_tag_freq"
   ]
  },
  {
   "cell_type": "code",
   "execution_count": 378,
   "metadata": {
    "collapsed": false
   },
   "outputs": [],
   "source": [
    "import pandas as pd\n",
    "def to_df(freq_dct):\n",
    "    return pd.DataFrame({\"codes\": freq_dct.keys(), \"freq\": freq_dct.values()}).sort_values(\"codes\")"
   ]
  },
  {
   "cell_type": "code",
   "execution_count": 379,
   "metadata": {
    "collapsed": false
   },
   "outputs": [
    {
     "data": {
      "text/html": [
       "<div>\n",
       "<table border=\"1\" class=\"dataframe\">\n",
       "  <thead>\n",
       "    <tr style=\"text-align: right;\">\n",
       "      <th></th>\n",
       "      <th>codes</th>\n",
       "      <th>freq</th>\n",
       "    </tr>\n",
       "  </thead>\n",
       "  <tbody>\n",
       "    <tr>\n",
       "      <th>3</th>\n",
       "      <td>1</td>\n",
       "      <td>0.033803</td>\n",
       "    </tr>\n",
       "    <tr>\n",
       "      <th>0</th>\n",
       "      <td>11</td>\n",
       "      <td>0.003311</td>\n",
       "    </tr>\n",
       "    <tr>\n",
       "      <th>1</th>\n",
       "      <td>12</td>\n",
       "      <td>0.005218</td>\n",
       "    </tr>\n",
       "    <tr>\n",
       "      <th>5</th>\n",
       "      <td>2</td>\n",
       "      <td>0.033306</td>\n",
       "    </tr>\n",
       "    <tr>\n",
       "      <th>4</th>\n",
       "      <td>3</td>\n",
       "      <td>0.022969</td>\n",
       "    </tr>\n",
       "    <tr>\n",
       "      <th>7</th>\n",
       "      <td>4</td>\n",
       "      <td>0.018607</td>\n",
       "    </tr>\n",
       "    <tr>\n",
       "      <th>6</th>\n",
       "      <td>5</td>\n",
       "      <td>0.028226</td>\n",
       "    </tr>\n",
       "    <tr>\n",
       "      <th>2</th>\n",
       "      <td>50</td>\n",
       "      <td>0.063649</td>\n",
       "    </tr>\n",
       "    <tr>\n",
       "      <th>8</th>\n",
       "      <td>6</td>\n",
       "      <td>0.028756</td>\n",
       "    </tr>\n",
       "  </tbody>\n",
       "</table>\n",
       "</div>"
      ],
      "text/plain": [
       "  codes      freq\n",
       "3     1  0.033803\n",
       "0    11  0.003311\n",
       "1    12  0.005218\n",
       "5     2  0.033306\n",
       "4     3  0.022969\n",
       "7     4  0.018607\n",
       "6     5  0.028226\n",
       "2    50  0.063649\n",
       "8     6  0.028756"
      ]
     },
     "execution_count": 379,
     "metadata": {},
     "output_type": "execute_result"
    }
   ],
   "source": [
    "wd_freq, sent_freq = compute_tag_distributions(essays, regular_codes)\n",
    "to_df(wd_freq)"
   ]
  },
  {
   "cell_type": "code",
   "execution_count": 380,
   "metadata": {
    "collapsed": false
   },
   "outputs": [
    {
     "data": {
      "text/html": [
       "<div>\n",
       "<table border=\"1\" class=\"dataframe\">\n",
       "  <thead>\n",
       "    <tr style=\"text-align: right;\">\n",
       "      <th></th>\n",
       "      <th>codes</th>\n",
       "      <th>freq</th>\n",
       "    </tr>\n",
       "  </thead>\n",
       "  <tbody>\n",
       "    <tr>\n",
       "      <th>3</th>\n",
       "      <td>1</td>\n",
       "      <td>0.134583</td>\n",
       "    </tr>\n",
       "    <tr>\n",
       "      <th>0</th>\n",
       "      <td>11</td>\n",
       "      <td>0.029803</td>\n",
       "    </tr>\n",
       "    <tr>\n",
       "      <th>1</th>\n",
       "      <td>12</td>\n",
       "      <td>0.060825</td>\n",
       "    </tr>\n",
       "    <tr>\n",
       "      <th>5</th>\n",
       "      <td>2</td>\n",
       "      <td>0.172165</td>\n",
       "    </tr>\n",
       "    <tr>\n",
       "      <th>4</th>\n",
       "      <td>3</td>\n",
       "      <td>0.126898</td>\n",
       "    </tr>\n",
       "    <tr>\n",
       "      <th>7</th>\n",
       "      <td>4</td>\n",
       "      <td>0.077132</td>\n",
       "    </tr>\n",
       "    <tr>\n",
       "      <th>6</th>\n",
       "      <td>5</td>\n",
       "      <td>0.219400</td>\n",
       "    </tr>\n",
       "    <tr>\n",
       "      <th>2</th>\n",
       "      <td>50</td>\n",
       "      <td>0.292877</td>\n",
       "    </tr>\n",
       "    <tr>\n",
       "      <th>8</th>\n",
       "      <td>6</td>\n",
       "      <td>0.092034</td>\n",
       "    </tr>\n",
       "  </tbody>\n",
       "</table>\n",
       "</div>"
      ],
      "text/plain": [
       "  codes      freq\n",
       "3     1  0.134583\n",
       "0    11  0.029803\n",
       "1    12  0.060825\n",
       "5     2  0.172165\n",
       "4     3  0.126898\n",
       "7     4  0.077132\n",
       "6     5  0.219400\n",
       "2    50  0.292877\n",
       "8     6  0.092034"
      ]
     },
     "execution_count": 380,
     "metadata": {},
     "output_type": "execute_result"
    }
   ],
   "source": [
    "to_df(sent_freq)"
   ]
  },
  {
   "cell_type": "code",
   "execution_count": 381,
   "metadata": {
    "collapsed": false
   },
   "outputs": [
    {
     "name": "stdout",
     "output_type": "stream",
     "text": [
      "0.237845427559\n",
      "1.20571696345\n"
     ]
    }
   ],
   "source": [
    "print sum(wd_freq.values()) # A lot of words have 0 tags\n",
    "print sum(sent_freq.values()) # overlapping codes, a small number of sentences with no codes"
   ]
  },
  {
   "cell_type": "code",
   "execution_count": 382,
   "metadata": {
    "collapsed": true
   },
   "outputs": [],
   "source": [
    "import numpy as np\n",
    "from numpy import random\n",
    "def random_splt(essays, n_test):\n",
    "    np_essays = np.asarray(essays)\n",
    "    # inplace shuffle\n",
    "    random.shuffle(np_essays)\n",
    "    test, train = np_essays[:n_test], np_essays[n_test:]\n",
    "    assert len(test) == n_test, \"Test set size does not equal expected\"\n",
    "    return train, test"
   ]
  },
  {
   "cell_type": "code",
   "execution_count": 383,
   "metadata": {
    "collapsed": false
   },
   "outputs": [
    {
     "data": {
      "text/plain": [
       "(870, 218)"
      ]
     },
     "execution_count": 383,
     "metadata": {},
     "output_type": "execute_result"
    }
   ],
   "source": [
    "# Test Function\n",
    "train, test = random_splt(essays, n_test)\n",
    "assert n_test == len(test), \"Test set not expected size\"\n",
    "assert len(essays) == (len(train) + len(test)), \"Train and Test set sizes should equal total essays size\"\n",
    "len(train), len(test)"
   ]
  },
  {
   "cell_type": "markdown",
   "metadata": {},
   "source": [
    "### Compute Kullback-Leibler Divergence to Find the Closest Distribution"
   ]
  },
  {
   "cell_type": "code",
   "execution_count": 384,
   "metadata": {
    "collapsed": true
   },
   "outputs": [],
   "source": [
    "# log is not defined if the denom is 0. if the denom is 0\n",
    "# this is a bad split, as we want all codes to be represented\n",
    "# so return max_val, as we are trying to minimize the divergence\n",
    "max_val = 99999999\n",
    "def kl(a,b):\n",
    "    join = zip(a,b)\n",
    "    kl_val_a = 0.0\n",
    "    kl_val_b = 0.0\n",
    "    for pa, pb in join:\n",
    "        if pa == 0.0 or pb == 0.0:\n",
    "            return max_val,max_val\n",
    "        kl_val_a += pa*np.log(pa/pb)\n",
    "        kl_val_b += pb*np.log(pb/pa)\n",
    "    return kl_val_a, kl_val_b"
   ]
  },
  {
   "cell_type": "code",
   "execution_count": 385,
   "metadata": {
    "collapsed": true
   },
   "outputs": [],
   "source": [
    "def compare_wd_tag_dist(test_essays, codes):\n",
    "    all_wd_freq, _ = compute_tag_distributions(essays, codes)\n",
    "    test_wd_freq,_ = compute_tag_distributions(test_essays, codes)\n",
    "    return pd.merge(to_df(all_wd_freq), to_df(test_wd_freq), on=\"codes\", suffixes=[\"all\", \"test\"])\n",
    "\n",
    "def compare_sent_tag_dist(test_essays, codes):\n",
    "    _, all_sent_freq  = compute_tag_distributions(essays, codes)\n",
    "    _, test_sent_freq = compute_tag_distributions(test_essays, codes)\n",
    "    return pd.merge(to_df(all_sent_freq), to_df(test_sent_freq), on=\"codes\", suffixes=[\"all\", \"test\"])"
   ]
  },
  {
   "cell_type": "markdown",
   "metadata": {},
   "source": [
    "## Compute Best Split Using Concept Codes Only"
   ]
  },
  {
   "cell_type": "raw",
   "metadata": {},
   "source": [
    "%%time\n",
    "kl_vals = {}\n",
    "for i in range(1000):\n",
    "    train, test = random_splt(essays, n_test)\n",
    "    test_wd_freq, test_sent_freq = compute_tag_distributions(test, regular_codes)\n",
    "    vals = kl(wd_freq.values(), test_wd_freq.values())\n",
    "    # map to abs values\n",
    "    vals = list(map(abs, vals))\n",
    "    max_val = max(vals)\n",
    "    kl_vals[max_val] = (train,test)\n",
    "\n",
    "# Get best\n",
    "best_kl_code, best_code_split = min(kl_vals.items(), key=lambda (k,v): k)\n",
    "best_kl_code"
   ]
  },
  {
   "cell_type": "raw",
   "metadata": {},
   "source": [
    "_, best_testsplit_code = best_code_split\n",
    "best_kl_code"
   ]
  },
  {
   "cell_type": "markdown",
   "metadata": {},
   "source": [
    "## Compute Best Split Using Causal Codes"
   ]
  },
  {
   "cell_type": "code",
   "execution_count": 386,
   "metadata": {
    "collapsed": false
   },
   "outputs": [
    {
     "name": "stdout",
     "output_type": "stream",
     "text": [
      "CPU times: user 3min 4s, sys: 930 ms, total: 3min 5s\n",
      "Wall time: 3min 6s\n"
     ]
    }
   ],
   "source": [
    "%%time\n",
    "kl_vals = {}\n",
    "for i in range(10000):\n",
    "    train, test = random_splt(essays, n_test)\n",
    "    test_wd_freq, test_sent_freq = compute_tag_distributions(test, causal_codes)\n",
    "    vals = kl(wd_tag_freq_causal.values(), test_wd_freq.values())\n",
    "    # map to abs values\n",
    "    vals = list(map(abs, vals))\n",
    "    max_val = max(vals)\n",
    "    kl_vals[max_val] = (train,test)\n",
    "\n",
    "# Get best\n",
    "best_kl_causal, best_split_causal = min(kl_vals.items(), key=lambda (k,v): k)\n",
    "best_kl_causal"
   ]
  },
  {
   "cell_type": "code",
   "execution_count": 387,
   "metadata": {
    "collapsed": false
   },
   "outputs": [
    {
     "data": {
      "text/plain": [
       "0.79766564645457294"
      ]
     },
     "execution_count": 387,
     "metadata": {},
     "output_type": "execute_result"
    }
   ],
   "source": [
    "_, best_testsplit_causal = best_split_causal\n",
    "best_kl_causal"
   ]
  },
  {
   "cell_type": "markdown",
   "metadata": {},
   "source": [
    "### Compute KL on Regular Codes for the Best Causal Split"
   ]
  },
  {
   "cell_type": "code",
   "execution_count": 388,
   "metadata": {
    "collapsed": false
   },
   "outputs": [
    {
     "data": {
      "text/plain": [
       "(0.011444446156568817, -0.010455432911394072)"
      ]
     },
     "execution_count": 388,
     "metadata": {},
     "output_type": "execute_result"
    }
   ],
   "source": [
    "wtfreq, _ = compute_tag_distributions(best_testsplit_causal, regular_codes)\n",
    "vals = kl(wd_freq.values(), wtfreq.values())\n",
    "vals"
   ]
  },
  {
   "cell_type": "markdown",
   "metadata": {},
   "source": [
    "## Inspect The Distributions"
   ]
  },
  {
   "cell_type": "code",
   "execution_count": 389,
   "metadata": {
    "collapsed": false
   },
   "outputs": [
    {
     "data": {
      "text/html": [
       "<div>\n",
       "<table border=\"1\" class=\"dataframe\">\n",
       "  <thead>\n",
       "    <tr style=\"text-align: right;\">\n",
       "      <th></th>\n",
       "      <th>codes</th>\n",
       "      <th>freqall</th>\n",
       "      <th>freqtest</th>\n",
       "    </tr>\n",
       "  </thead>\n",
       "  <tbody>\n",
       "    <tr>\n",
       "      <th>0</th>\n",
       "      <td>1</td>\n",
       "      <td>0.033803</td>\n",
       "      <td>0.029959</td>\n",
       "    </tr>\n",
       "    <tr>\n",
       "      <th>1</th>\n",
       "      <td>11</td>\n",
       "      <td>0.003311</td>\n",
       "      <td>0.002525</td>\n",
       "    </tr>\n",
       "    <tr>\n",
       "      <th>2</th>\n",
       "      <td>12</td>\n",
       "      <td>0.005218</td>\n",
       "      <td>0.005105</td>\n",
       "    </tr>\n",
       "    <tr>\n",
       "      <th>3</th>\n",
       "      <td>2</td>\n",
       "      <td>0.033306</td>\n",
       "      <td>0.032343</td>\n",
       "    </tr>\n",
       "    <tr>\n",
       "      <th>4</th>\n",
       "      <td>3</td>\n",
       "      <td>0.022969</td>\n",
       "      <td>0.022581</td>\n",
       "    </tr>\n",
       "    <tr>\n",
       "      <th>5</th>\n",
       "      <td>4</td>\n",
       "      <td>0.018607</td>\n",
       "      <td>0.018149</td>\n",
       "    </tr>\n",
       "    <tr>\n",
       "      <th>6</th>\n",
       "      <td>5</td>\n",
       "      <td>0.028226</td>\n",
       "      <td>0.027350</td>\n",
       "    </tr>\n",
       "    <tr>\n",
       "      <th>7</th>\n",
       "      <td>50</td>\n",
       "      <td>0.063649</td>\n",
       "      <td>0.062582</td>\n",
       "    </tr>\n",
       "    <tr>\n",
       "      <th>8</th>\n",
       "      <td>6</td>\n",
       "      <td>0.028756</td>\n",
       "      <td>0.026312</td>\n",
       "    </tr>\n",
       "  </tbody>\n",
       "</table>\n",
       "</div>"
      ],
      "text/plain": [
       "  codes   freqall  freqtest\n",
       "0     1  0.033803  0.029959\n",
       "1    11  0.003311  0.002525\n",
       "2    12  0.005218  0.005105\n",
       "3     2  0.033306  0.032343\n",
       "4     3  0.022969  0.022581\n",
       "5     4  0.018607  0.018149\n",
       "6     5  0.028226  0.027350\n",
       "7    50  0.063649  0.062582\n",
       "8     6  0.028756  0.026312"
      ]
     },
     "execution_count": 389,
     "metadata": {},
     "output_type": "execute_result"
    }
   ],
   "source": [
    "df = compare_wd_tag_dist(best_testsplit_causal, regular_codes)\n",
    "df"
   ]
  },
  {
   "cell_type": "code",
   "execution_count": 390,
   "metadata": {
    "collapsed": false
   },
   "outputs": [
    {
     "data": {
      "text/html": [
       "<div>\n",
       "<table border=\"1\" class=\"dataframe\">\n",
       "  <thead>\n",
       "    <tr style=\"text-align: right;\">\n",
       "      <th></th>\n",
       "      <th>codes</th>\n",
       "      <th>freqall</th>\n",
       "      <th>freqtest</th>\n",
       "    </tr>\n",
       "  </thead>\n",
       "  <tbody>\n",
       "    <tr>\n",
       "      <th>0</th>\n",
       "      <td>Causer:1-&gt;Result:2</td>\n",
       "      <td>0.037745</td>\n",
       "      <td>0.036298</td>\n",
       "    </tr>\n",
       "    <tr>\n",
       "      <th>1</th>\n",
       "      <td>Causer:1-&gt;Result:3</td>\n",
       "      <td>0.005672</td>\n",
       "      <td>0.003927</td>\n",
       "    </tr>\n",
       "    <tr>\n",
       "      <th>2</th>\n",
       "      <td>Causer:1-&gt;Result:5</td>\n",
       "      <td>0.001918</td>\n",
       "      <td>0.000533</td>\n",
       "    </tr>\n",
       "    <tr>\n",
       "      <th>3</th>\n",
       "      <td>Causer:1-&gt;Result:50</td>\n",
       "      <td>0.033720</td>\n",
       "      <td>0.032091</td>\n",
       "    </tr>\n",
       "    <tr>\n",
       "      <th>4</th>\n",
       "      <td>Causer:1-&gt;Result:Anaphor</td>\n",
       "      <td>0.002178</td>\n",
       "      <td>0.001543</td>\n",
       "    </tr>\n",
       "    <tr>\n",
       "      <th>5</th>\n",
       "      <td>Causer:11-&gt;Result:12</td>\n",
       "      <td>0.006866</td>\n",
       "      <td>0.005526</td>\n",
       "    </tr>\n",
       "    <tr>\n",
       "      <th>6</th>\n",
       "      <td>Causer:11-&gt;Result:3</td>\n",
       "      <td>0.000929</td>\n",
       "      <td>0.001066</td>\n",
       "    </tr>\n",
       "    <tr>\n",
       "      <th>7</th>\n",
       "      <td>Causer:11-&gt;Result:5</td>\n",
       "      <td>0.000293</td>\n",
       "      <td>0.000281</td>\n",
       "    </tr>\n",
       "    <tr>\n",
       "      <th>8</th>\n",
       "      <td>Causer:11-&gt;Result:50</td>\n",
       "      <td>0.004212</td>\n",
       "      <td>0.002048</td>\n",
       "    </tr>\n",
       "    <tr>\n",
       "      <th>9</th>\n",
       "      <td>Causer:12-&gt;Result:2</td>\n",
       "      <td>0.000708</td>\n",
       "      <td>0.000870</td>\n",
       "    </tr>\n",
       "    <tr>\n",
       "      <th>10</th>\n",
       "      <td>Causer:12-&gt;Result:3</td>\n",
       "      <td>0.009497</td>\n",
       "      <td>0.009089</td>\n",
       "    </tr>\n",
       "    <tr>\n",
       "      <th>11</th>\n",
       "      <td>Causer:12-&gt;Result:5</td>\n",
       "      <td>0.000166</td>\n",
       "      <td>0.000112</td>\n",
       "    </tr>\n",
       "    <tr>\n",
       "      <th>12</th>\n",
       "      <td>Causer:12-&gt;Result:Anaphor</td>\n",
       "      <td>0.000243</td>\n",
       "      <td>0.000561</td>\n",
       "    </tr>\n",
       "    <tr>\n",
       "      <th>13</th>\n",
       "      <td>Causer:2-&gt;Result:3</td>\n",
       "      <td>0.013555</td>\n",
       "      <td>0.014390</td>\n",
       "    </tr>\n",
       "    <tr>\n",
       "      <th>14</th>\n",
       "      <td>Causer:2-&gt;Result:4</td>\n",
       "      <td>0.004444</td>\n",
       "      <td>0.003787</td>\n",
       "    </tr>\n",
       "    <tr>\n",
       "      <th>15</th>\n",
       "      <td>Causer:2-&gt;Result:5</td>\n",
       "      <td>0.006103</td>\n",
       "      <td>0.005246</td>\n",
       "    </tr>\n",
       "    <tr>\n",
       "      <th>16</th>\n",
       "      <td>Causer:2-&gt;Result:50</td>\n",
       "      <td>0.039818</td>\n",
       "      <td>0.037561</td>\n",
       "    </tr>\n",
       "    <tr>\n",
       "      <th>17</th>\n",
       "      <td>Causer:2-&gt;Result:Anaphor</td>\n",
       "      <td>0.003328</td>\n",
       "      <td>0.003478</td>\n",
       "    </tr>\n",
       "    <tr>\n",
       "      <th>18</th>\n",
       "      <td>Causer:3-&gt;Result:2</td>\n",
       "      <td>0.000105</td>\n",
       "      <td>0.000393</td>\n",
       "    </tr>\n",
       "    <tr>\n",
       "      <th>19</th>\n",
       "      <td>Causer:3-&gt;Result:4</td>\n",
       "      <td>0.013930</td>\n",
       "      <td>0.015597</td>\n",
       "    </tr>\n",
       "    <tr>\n",
       "      <th>20</th>\n",
       "      <td>Causer:3-&gt;Result:5</td>\n",
       "      <td>0.002056</td>\n",
       "      <td>0.000813</td>\n",
       "    </tr>\n",
       "    <tr>\n",
       "      <th>21</th>\n",
       "      <td>Causer:3-&gt;Result:50</td>\n",
       "      <td>0.022316</td>\n",
       "      <td>0.026424</td>\n",
       "    </tr>\n",
       "    <tr>\n",
       "      <th>22</th>\n",
       "      <td>Causer:3-&gt;Result:6</td>\n",
       "      <td>0.002067</td>\n",
       "      <td>0.001346</td>\n",
       "    </tr>\n",
       "    <tr>\n",
       "      <th>23</th>\n",
       "      <td>Causer:3-&gt;Result:Anaphor</td>\n",
       "      <td>0.001774</td>\n",
       "      <td>0.000926</td>\n",
       "    </tr>\n",
       "    <tr>\n",
       "      <th>24</th>\n",
       "      <td>Causer:4-&gt;Result:12</td>\n",
       "      <td>0.000044</td>\n",
       "      <td>0.000224</td>\n",
       "    </tr>\n",
       "    <tr>\n",
       "      <th>25</th>\n",
       "      <td>Causer:4-&gt;Result:4</td>\n",
       "      <td>0.000094</td>\n",
       "      <td>0.000224</td>\n",
       "    </tr>\n",
       "    <tr>\n",
       "      <th>26</th>\n",
       "      <td>Causer:4-&gt;Result:5</td>\n",
       "      <td>0.012681</td>\n",
       "      <td>0.012090</td>\n",
       "    </tr>\n",
       "    <tr>\n",
       "      <th>27</th>\n",
       "      <td>Causer:4-&gt;Result:50</td>\n",
       "      <td>0.006020</td>\n",
       "      <td>0.004937</td>\n",
       "    </tr>\n",
       "    <tr>\n",
       "      <th>28</th>\n",
       "      <td>Causer:4-&gt;Result:6</td>\n",
       "      <td>0.003400</td>\n",
       "      <td>0.003198</td>\n",
       "    </tr>\n",
       "    <tr>\n",
       "      <th>29</th>\n",
       "      <td>Causer:4-&gt;Result:Anaphor</td>\n",
       "      <td>0.001150</td>\n",
       "      <td>0.001178</td>\n",
       "    </tr>\n",
       "    <tr>\n",
       "      <th>30</th>\n",
       "      <td>Causer:5-&gt;Result:4</td>\n",
       "      <td>0.002880</td>\n",
       "      <td>0.003114</td>\n",
       "    </tr>\n",
       "    <tr>\n",
       "      <th>31</th>\n",
       "      <td>Causer:5-&gt;Result:5</td>\n",
       "      <td>0.000376</td>\n",
       "      <td>0.000281</td>\n",
       "    </tr>\n",
       "    <tr>\n",
       "      <th>32</th>\n",
       "      <td>Causer:5-&gt;Result:50</td>\n",
       "      <td>0.053135</td>\n",
       "      <td>0.054896</td>\n",
       "    </tr>\n",
       "    <tr>\n",
       "      <th>33</th>\n",
       "      <td>Causer:5-&gt;Result:6</td>\n",
       "      <td>0.031940</td>\n",
       "      <td>0.029566</td>\n",
       "    </tr>\n",
       "    <tr>\n",
       "      <th>34</th>\n",
       "      <td>Causer:5-&gt;Result:Anaphor</td>\n",
       "      <td>0.003798</td>\n",
       "      <td>0.001992</td>\n",
       "    </tr>\n",
       "    <tr>\n",
       "      <th>35</th>\n",
       "      <td>Causer:50-&gt;Result:3</td>\n",
       "      <td>0.000144</td>\n",
       "      <td>0.000729</td>\n",
       "    </tr>\n",
       "    <tr>\n",
       "      <th>36</th>\n",
       "      <td>Causer:50-&gt;Result:5</td>\n",
       "      <td>0.000083</td>\n",
       "      <td>0.000252</td>\n",
       "    </tr>\n",
       "    <tr>\n",
       "      <th>37</th>\n",
       "      <td>Causer:6-&gt;Result:3</td>\n",
       "      <td>0.000033</td>\n",
       "      <td>0.000168</td>\n",
       "    </tr>\n",
       "    <tr>\n",
       "      <th>38</th>\n",
       "      <td>Causer:6-&gt;Result:4</td>\n",
       "      <td>0.000133</td>\n",
       "      <td>0.000309</td>\n",
       "    </tr>\n",
       "    <tr>\n",
       "      <th>39</th>\n",
       "      <td>Causer:6-&gt;Result:5</td>\n",
       "      <td>0.000503</td>\n",
       "      <td>0.000168</td>\n",
       "    </tr>\n",
       "    <tr>\n",
       "      <th>40</th>\n",
       "      <td>Causer:6-&gt;Result:50</td>\n",
       "      <td>0.022405</td>\n",
       "      <td>0.018542</td>\n",
       "    </tr>\n",
       "    <tr>\n",
       "      <th>41</th>\n",
       "      <td>Causer:6-&gt;Result:Anaphor</td>\n",
       "      <td>0.000431</td>\n",
       "      <td>0.000309</td>\n",
       "    </tr>\n",
       "    <tr>\n",
       "      <th>42</th>\n",
       "      <td>Causer:Anaphor-&gt;Result:12</td>\n",
       "      <td>0.001095</td>\n",
       "      <td>0.000954</td>\n",
       "    </tr>\n",
       "    <tr>\n",
       "      <th>43</th>\n",
       "      <td>Causer:Anaphor-&gt;Result:2</td>\n",
       "      <td>0.000940</td>\n",
       "      <td>0.001823</td>\n",
       "    </tr>\n",
       "    <tr>\n",
       "      <th>44</th>\n",
       "      <td>Causer:Anaphor-&gt;Result:3</td>\n",
       "      <td>0.000614</td>\n",
       "      <td>0.000645</td>\n",
       "    </tr>\n",
       "    <tr>\n",
       "      <th>45</th>\n",
       "      <td>Causer:Anaphor-&gt;Result:4</td>\n",
       "      <td>0.001045</td>\n",
       "      <td>0.001851</td>\n",
       "    </tr>\n",
       "    <tr>\n",
       "      <th>46</th>\n",
       "      <td>Causer:Anaphor-&gt;Result:5</td>\n",
       "      <td>0.000663</td>\n",
       "      <td>0.000365</td>\n",
       "    </tr>\n",
       "    <tr>\n",
       "      <th>47</th>\n",
       "      <td>Causer:Anaphor-&gt;Result:50</td>\n",
       "      <td>0.003566</td>\n",
       "      <td>0.002665</td>\n",
       "    </tr>\n",
       "    <tr>\n",
       "      <th>48</th>\n",
       "      <td>Causer:Anaphor-&gt;Result:6</td>\n",
       "      <td>0.002438</td>\n",
       "      <td>0.002300</td>\n",
       "    </tr>\n",
       "    <tr>\n",
       "      <th>49</th>\n",
       "      <td>Causer:rhetorical-&gt;Result:50</td>\n",
       "      <td>0.000531</td>\n",
       "      <td>0.000505</td>\n",
       "    </tr>\n",
       "  </tbody>\n",
       "</table>\n",
       "</div>"
      ],
      "text/plain": [
       "                           codes   freqall  freqtest\n",
       "0             Causer:1->Result:2  0.037745  0.036298\n",
       "1             Causer:1->Result:3  0.005672  0.003927\n",
       "2             Causer:1->Result:5  0.001918  0.000533\n",
       "3            Causer:1->Result:50  0.033720  0.032091\n",
       "4       Causer:1->Result:Anaphor  0.002178  0.001543\n",
       "5           Causer:11->Result:12  0.006866  0.005526\n",
       "6            Causer:11->Result:3  0.000929  0.001066\n",
       "7            Causer:11->Result:5  0.000293  0.000281\n",
       "8           Causer:11->Result:50  0.004212  0.002048\n",
       "9            Causer:12->Result:2  0.000708  0.000870\n",
       "10           Causer:12->Result:3  0.009497  0.009089\n",
       "11           Causer:12->Result:5  0.000166  0.000112\n",
       "12     Causer:12->Result:Anaphor  0.000243  0.000561\n",
       "13            Causer:2->Result:3  0.013555  0.014390\n",
       "14            Causer:2->Result:4  0.004444  0.003787\n",
       "15            Causer:2->Result:5  0.006103  0.005246\n",
       "16           Causer:2->Result:50  0.039818  0.037561\n",
       "17      Causer:2->Result:Anaphor  0.003328  0.003478\n",
       "18            Causer:3->Result:2  0.000105  0.000393\n",
       "19            Causer:3->Result:4  0.013930  0.015597\n",
       "20            Causer:3->Result:5  0.002056  0.000813\n",
       "21           Causer:3->Result:50  0.022316  0.026424\n",
       "22            Causer:3->Result:6  0.002067  0.001346\n",
       "23      Causer:3->Result:Anaphor  0.001774  0.000926\n",
       "24           Causer:4->Result:12  0.000044  0.000224\n",
       "25            Causer:4->Result:4  0.000094  0.000224\n",
       "26            Causer:4->Result:5  0.012681  0.012090\n",
       "27           Causer:4->Result:50  0.006020  0.004937\n",
       "28            Causer:4->Result:6  0.003400  0.003198\n",
       "29      Causer:4->Result:Anaphor  0.001150  0.001178\n",
       "30            Causer:5->Result:4  0.002880  0.003114\n",
       "31            Causer:5->Result:5  0.000376  0.000281\n",
       "32           Causer:5->Result:50  0.053135  0.054896\n",
       "33            Causer:5->Result:6  0.031940  0.029566\n",
       "34      Causer:5->Result:Anaphor  0.003798  0.001992\n",
       "35           Causer:50->Result:3  0.000144  0.000729\n",
       "36           Causer:50->Result:5  0.000083  0.000252\n",
       "37            Causer:6->Result:3  0.000033  0.000168\n",
       "38            Causer:6->Result:4  0.000133  0.000309\n",
       "39            Causer:6->Result:5  0.000503  0.000168\n",
       "40           Causer:6->Result:50  0.022405  0.018542\n",
       "41      Causer:6->Result:Anaphor  0.000431  0.000309\n",
       "42     Causer:Anaphor->Result:12  0.001095  0.000954\n",
       "43      Causer:Anaphor->Result:2  0.000940  0.001823\n",
       "44      Causer:Anaphor->Result:3  0.000614  0.000645\n",
       "45      Causer:Anaphor->Result:4  0.001045  0.001851\n",
       "46      Causer:Anaphor->Result:5  0.000663  0.000365\n",
       "47     Causer:Anaphor->Result:50  0.003566  0.002665\n",
       "48      Causer:Anaphor->Result:6  0.002438  0.002300\n",
       "49  Causer:rhetorical->Result:50  0.000531  0.000505"
      ]
     },
     "execution_count": 390,
     "metadata": {},
     "output_type": "execute_result"
    }
   ],
   "source": [
    "df = compare_wd_tag_dist(best_testsplit_causal, causal_codes)\n",
    "df"
   ]
  },
  {
   "cell_type": "markdown",
   "metadata": {},
   "source": [
    "## Plot The Distributions"
   ]
  },
  {
   "cell_type": "code",
   "execution_count": 391,
   "metadata": {
    "collapsed": false
   },
   "outputs": [],
   "source": [
    "def plot_distribution(essays, codes):\n",
    "    df1 = compare_wd_tag_dist(essays, codes)\n",
    "    df2 = pd.DataFrame(df1[[\"freqtest\",\"freqall\"]])\n",
    "    df2.set_index(df1[\"codes\"].values, inplace=True)\n",
    "    df2.plot.bar(figsize=(15,8), color=['r', 'yellow'])"
   ]
  },
  {
   "cell_type": "code",
   "execution_count": 392,
   "metadata": {
    "collapsed": false
   },
   "outputs": [
    {
     "data": {
      "image/png": "[encoded data removed]",
      "text/plain": [
       "<matplotlib.figure.Figure at 0x131887910>"
      ]
     },
     "metadata": {},
     "output_type": "display_data"
    }
   ],
   "source": [
    "plot_distribution(best_testsplit_causal, regular_codes)"
   ]
  },
  {
   "cell_type": "code",
   "execution_count": 393,
   "metadata": {
    "collapsed": false
   },
   "outputs": [
    {
     "data": {
      "image/png": "[encoded data removed]",
      "text/plain": [
       "<matplotlib.figure.Figure at 0x12afca650>"
      ]
     },
     "metadata": {},
     "output_type": "display_data"
    }
   ],
   "source": [
    "plot_distribution(best_testsplit_causal, causal_codes)"
   ]
  },
  {
   "cell_type": "markdown",
   "metadata": {},
   "source": [
    "## Move The Files"
   ]
  },
  {
   "cell_type": "code",
   "execution_count": 394,
   "metadata": {
    "collapsed": false
   },
   "outputs": [],
   "source": [
    "import shutil\n",
    "\n",
    "def copy_file(from_file, to_dir):\n",
    "    to_file = os.path.join(to_dir, os.path.basename(from_file))\n",
    "    if os.path.exists(to_file):\n",
    "        print \"File already exists: %s deleting\" % to_file\n",
    "        os.remove(to_file)\n",
    "        shutil.copyfile(from_file, to_file)                    \n",
    "    else:\n",
    "        shutil.copyfile(from_file, to_file)\n",
    "\n",
    "def copy_files(essays, to_dir):\n",
    "    cnt = 0\n",
    "    \n",
    "    # Delete destination folder first\n",
    "    if os.path.exists(to_dir):\n",
    "        shutil.rmtree(to_dir, ignore_errors=True)\n",
    "        \n",
    "    os.mkdir(to_dir)\n",
    "    \n",
    "    ann_files = [e.full_path for e in essays]\n",
    "    pairs = [joined[get_prefix(f)] for f in ann_files]\n",
    "    \n",
    "    for ann, txt in pairs:\n",
    "        for a in ann:\n",
    "            copy_file(a, to_dir)\n",
    "        for t in txt:\n",
    "            copy_file(t, to_dir)\n",
    "        cnt += 2\n",
    "             \n",
    "    print \"Moved %s files\" % str(cnt)"
   ]
  },
  {
   "cell_type": "code",
   "execution_count": 401,
   "metadata": {
    "collapsed": false
   },
   "outputs": [
    {
     "name": "stdout",
     "output_type": "stream",
     "text": [
      "Moved 2176 files\n"
     ]
    }
   ],
   "source": [
    "copy_files(essays, all_folder)"
   ]
  },
  {
   "cell_type": "code",
   "execution_count": 402,
   "metadata": {
    "collapsed": false
   },
   "outputs": [
    {
     "name": "stdout",
     "output_type": "stream",
     "text": [
      "Moved 1740 files\n",
      "Moved 436 files\n"
     ]
    }
   ],
   "source": [
    "train, test = best_split_causal\n",
    "copy_files(train, training_folder)\n",
    "copy_files(test,  test_folder)"
   ]
  },
  {
   "cell_type": "code",
   "execution_count": 403,
   "metadata": {
    "collapsed": false
   },
   "outputs": [
    {
     "data": {
      "text/plain": [
       "(226, 218)"
      ]
     },
     "execution_count": 403,
     "metadata": {},
     "output_type": "execute_result"
    }
   ],
   "source": [
    "452/2, n_test"
   ]
  },
  {
   "cell_type": "code",
   "execution_count": 404,
   "metadata": {
    "collapsed": false
   },
   "outputs": [
    {
     "data": {
      "text/plain": [
       "(218, 218)"
      ]
     },
     "execution_count": 404,
     "metadata": {},
     "output_type": "execute_result"
    }
   ],
   "source": [
    "436/2, n_test"
   ]
  }
 ],
 "metadata": {
  "anaconda-cloud": {},
  "kernelspec": {
   "display_name": "Python [conda env:phd]",
   "language": "python",
   "name": "conda-env-phd-py"
  },
  "language_info": {
   "codemirror_mode": {
    "name": "ipython",
    "version": 2
   },
   "file_extension": ".py",
   "mimetype": "text/x-python",
   "name": "python",
   "nbconvert_exporter": "python",
   "pygments_lexer": "ipython2",
   "version": "2.7.13"
  }
 },
 "nbformat": 4,
 "nbformat_minor": 2
}
