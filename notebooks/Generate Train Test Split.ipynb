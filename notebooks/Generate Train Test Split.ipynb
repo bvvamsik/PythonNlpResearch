{
 "cells": [
  {
   "cell_type": "markdown",
   "metadata": {},
   "source": [
    "# Settings"
   ]
  },
  {
   "cell_type": "code",
   "execution_count": 4,
   "metadata": {
    "collapsed": true
   },
   "outputs": [],
   "source": [
    "%matplotlib inline\n",
    "from collections import defaultdict\n",
    "\n",
    "PCT_TEST_SPLIT = 0.2\n",
    "\n",
    "data_dir = \"/Users/simon.hughes/Google Drive/Phd/Data/\"\n",
    "folder = data_dir + \"CoralBleaching/BrattData/EBA1415_Merged/\""
   ]
  },
  {
   "cell_type": "markdown",
   "metadata": {},
   "source": [
    "# Map .ann And .txt Files"
   ]
  },
  {
   "cell_type": "code",
   "execution_count": 5,
   "metadata": {
    "collapsed": true
   },
   "outputs": [],
   "source": [
    "import os, re\n",
    "\n",
    "def find_files(folder, regex, remove_empty = False):\n",
    "    \"\"\"\n",
    "    Find all files matching the [regex] pattern in [folder]\n",
    "\n",
    "    folder  :   string\n",
    "                    folder to search (not recursive)\n",
    "    regex   :   string (NOT regex object)\n",
    "                    pattern to match\n",
    "    \"\"\"\n",
    "    files = os.listdir(folder)\n",
    "    matches = [os.path.abspath(os.path.join(folder, f))\n",
    "               for f in files\n",
    "               if re.search(regex, f, re.IGNORECASE)]\n",
    "\n",
    "    if remove_empty:\n",
    "        matches = [f for f in matches if os.path.getsize(f) > 0]\n",
    "    matches.sort()\n",
    "    return matches"
   ]
  },
  {
   "cell_type": "code",
   "execution_count": 6,
   "metadata": {
    "collapsed": false
   },
   "outputs": [
    {
     "data": {
      "text/plain": [
       "(1154, 1161)"
      ]
     },
     "execution_count": 6,
     "metadata": {},
     "output_type": "execute_result"
    }
   ],
   "source": [
    "ann_files = find_files(folder, \"\\.ann$\", remove_empty=True)\n",
    "txt_files = find_files(folder, \"\\.txt$\", remove_empty=True)\n",
    "len(ann_files), len(txt_files)"
   ]
  },
  {
   "cell_type": "code",
   "execution_count": 26,
   "metadata": {
    "collapsed": false
   },
   "outputs": [
    {
     "data": {
      "text/plain": [
       "(1154, 1161)"
      ]
     },
     "execution_count": 26,
     "metadata": {},
     "output_type": "execute_result"
    }
   ],
   "source": [
    "def get_prefix(fname):\n",
    "    return fname[:-4]\n",
    "\n",
    "dct_ann = defaultdict(set)\n",
    "for ann in ann_files:\n",
    "    prefix = get_prefix(ann)\n",
    "    dct_ann[prefix].add(ann)\n",
    "\n",
    "dct_txt = defaultdict(set)\n",
    "for txt in txt_files:\n",
    "    prefix = get_prefix(txt)\n",
    "    dct_txt[prefix].add(txt)\n",
    "\n",
    "len(dct_ann), len(dct_txt)"
   ]
  },
  {
   "cell_type": "markdown",
   "metadata": {},
   "source": [
    "### Joined Represents a Mapping Between Prefixes and (.ann,.txt) Filenames"
   ]
  },
  {
   "cell_type": "code",
   "execution_count": 27,
   "metadata": {
    "collapsed": false
   },
   "outputs": [
    {
     "data": {
      "text/plain": [
       "1154"
      ]
     },
     "execution_count": 27,
     "metadata": {},
     "output_type": "execute_result"
    }
   ],
   "source": [
    "joined = {}\n",
    "for prfx in dct_ann.keys():\n",
    "    if prfx in dct_txt:\n",
    "        joined[prfx] = (dct_ann[prfx], dct_txt[prfx])\n",
    "len(joined)"
   ]
  },
  {
   "cell_type": "markdown",
   "metadata": {},
   "source": [
    "# Load and Parse Actual The Essay Files (Removing Invalid and Empty Files)"
   ]
  },
  {
   "cell_type": "code",
   "execution_count": 16,
   "metadata": {
    "collapsed": false
   },
   "outputs": [
    {
     "name": "stdout",
     "output_type": "stream",
     "text": [
      "Results Dir: /Users/simon.hughes/Google Drive/Phd/Results/\n",
      "Data Dir:    /Users/simon.hughes/Google Drive/Phd/Data/\n",
      "Root Dir:    /Users/simon.hughes/GitHub/NlpResearch/\n",
      "Public Data: /Users/simon.hughes/GitHub/NlpResearch/Data/PublicDatasets/\n",
      "1154 files found\n",
      "Skipping /Users/simon.hughes/Google Drive/Phd/Data/CoralBleaching/BrattData/EBA1415_Merged/EBA1415_AEKD_4_CB_ES-05571.ann file as .txt file is no essay'\n",
      "Skipping /Users/simon.hughes/Google Drive/Phd/Data/CoralBleaching/BrattData/EBA1415_Merged/EBA1415_AEKD_4_CB_ES-05904.ann file as .txt file is no essay'\n",
      "Skipping /Users/simon.hughes/Google Drive/Phd/Data/CoralBleaching/BrattData/EBA1415_Merged/EBA1415_BGJD_1_CB_ES-05733.ann file as .txt file is no essay //'\n",
      "Skipping /Users/simon.hughes/Google Drive/Phd/Data/CoralBleaching/BrattData/EBA1415_Merged/EBA1415_ERSK_7_CB_ES-05798.ann file as .txt file is no essay //'\n",
      "Skipping /Users/simon.hughes/Google Drive/Phd/Data/CoralBleaching/BrattData/EBA1415_Merged/EBA1415_KYLS_5_CB_ES-05671.ann file as .txt file is no essay //'\n",
      "Skipping /Users/simon.hughes/Google Drive/Phd/Data/CoralBleaching/BrattData/EBA1415_Merged/EBA1415_LRJE_5_CB_ES-05128.ann file as .txt file is no essay'\n",
      "Skipping /Users/simon.hughes/Google Drive/Phd/Data/CoralBleaching/BrattData/EBA1415_Merged/EBA1415_SVJJ_2_CB_ES-05612.ann file as .txt file is no essay  //'\n",
      "Skipping /Users/simon.hughes/Google Drive/Phd/Data/CoralBleaching/BrattData/EBA1415_Merged/EBA1415_SVJJ_2_CB_ES-05617.ann file as .txt file is no essay  //'\n",
      "Skipping /Users/simon.hughes/Google Drive/Phd/Data/CoralBleaching/BrattData/EBA1415_Merged/EBA1415_SVJJ_4_CB_ES-05632.ann file as .txt file is no essay  //'\n",
      "Skipping /Users/simon.hughes/Google Drive/Phd/Data/CoralBleaching/BrattData/EBA1415_Merged/EBA1415_SVJJ_4_CB_ES-05640.ann file as .txt file is no essay.'\n",
      "Skipping /Users/simon.hughes/Google Drive/Phd/Data/CoralBleaching/BrattData/EBA1415_Merged/EBA1415_SWSP_4_CB_ES-05459.ann file as .txt file is no essay  //'\n",
      "Skipping /Users/simon.hughes/Google Drive/Phd/Data/CoralBleaching/BrattData/EBA1415_Merged/EBA1415_TFBM_1_CB_ES-05484.ann file as .txt file is no essay. //'\n",
      "Skipping /Users/simon.hughes/Google Drive/Phd/Data/CoralBleaching/BrattData/EBA1415_Merged/EBA1415_TFBM_1_CB_ES-05485.ann file as .txt file is no essay.  //'\n",
      "Skipping /Users/simon.hughes/Google Drive/Phd/Data/CoralBleaching/BrattData/EBA1415_Merged/EBA1415_TFBM_2_CB_ES-05548.ann file as .txt file is no essay  //'\n",
      "Skipping /Users/simon.hughes/Google Drive/Phd/Data/CoralBleaching/BrattData/EBA1415_Merged/EBA1415_TFMV_3_CB_ES-05845.ann file as .txt file is no essay'\n",
      "Skipping /Users/simon.hughes/Google Drive/Phd/Data/CoralBleaching/BrattData/EBA1415_Merged/EBA1415_TRDJ_11_CB_ES-05715.ann file as .txt file is no essay.'\n",
      "Skipping /Users/simon.hughes/Google Drive/Phd/Data/CoralBleaching/BrattData/EBA1415_Merged/EBA1415_TRDJ_11_CB_ES-05721.ann file as .txt file is no essay.'\n",
      "Skipping /Users/simon.hughes/Google Drive/Phd/Data/CoralBleaching/BrattData/EBA1415_Merged/EBA1415_TRDJ_2_CB_ES-06128.ann file as .txt file is no essay.'\n",
      "Skipping /Users/simon.hughes/Google Drive/Phd/Data/CoralBleaching/BrattData/EBA1415_Merged/EBA1415_TRDJ_2_CB_ES-06132.ann file as .txt file is no essay.'\n",
      "Skipping /Users/simon.hughes/Google Drive/Phd/Data/CoralBleaching/BrattData/EBA1415_Merged/EBA1415_TRKM_1_CB_ES-05025.ann file as .txt file is no essay.'\n",
      "Skipping /Users/simon.hughes/Google Drive/Phd/Data/CoralBleaching/BrattData/EBA1415_Merged/EBA1415_TRKM_1_CB_ES-05030.ann file as .txt file is no essay.'\n",
      "Skipping /Users/simon.hughes/Google Drive/Phd/Data/CoralBleaching/BrattData/EBA1415_Merged/EBA1415_TTCM_2_CB_ES-06140.ann file as .txt file is no essay.'\n",
      "Skipping /Users/simon.hughes/Google Drive/Phd/Data/CoralBleaching/BrattData/EBA1415_Merged/EBA1415_TTCM_910_CB_ES-06149.ann file as .txt file is no essay.'\n",
      "Skipping /Users/simon.hughes/Google Drive/Phd/Data/CoralBleaching/BrattData/EBA1415_Merged/EBA1415_TTCM_910_CB_ES-06153.ann file as .txt file is no essay.'\n",
      "Skipping /Users/simon.hughes/Google Drive/Phd/Data/CoralBleaching/BrattData/EBA1415_Merged/EBA1415_TTKP_7-8_CB_ES-06174.ann file as .txt file is no essay.'\n",
      "Skipping /Users/simon.hughes/Google Drive/Phd/Data/CoralBleaching/BrattData/EBA1415_Merged/EBA1415post_TWNB_2_CB_ES-04948.ann file as .txt file is no essay.'\n",
      "1128 essays processed\n"
     ]
    }
   ],
   "source": [
    "from BrattEssay import load_bratt_essays\n",
    "from collections import defaultdict\n",
    "from IterableFP import flatten\n",
    "from Settings import Settings\n",
    "\n",
    "settings = Settings()\n",
    "essays = load_bratt_essays(folder)"
   ]
  },
  {
   "cell_type": "markdown",
   "metadata": {},
   "source": [
    "### Now Remove Invalid Files from the Joined List"
   ]
  },
  {
   "cell_type": "code",
   "execution_count": 40,
   "metadata": {
    "collapsed": false
   },
   "outputs": [
    {
     "data": {
      "text/plain": [
       "(1128, 1128, 1128)"
      ]
     },
     "execution_count": 40,
     "metadata": {},
     "output_type": "execute_result"
    }
   ],
   "source": [
    "valid_essays = set(map(lambda essay: get_prefix(essay.full_path), essays))\n",
    "match = set((e for e in valid_essays if e in joined))\n",
    "len(valid_essays), len(match), len(joined)"
   ]
  },
  {
   "cell_type": "code",
   "execution_count": 41,
   "metadata": {
    "collapsed": false
   },
   "outputs": [
    {
     "name": "stdout",
     "output_type": "stream",
     "text": [
      "0 Essays deleted\n",
      "1128 1128 1128\n"
     ]
    }
   ],
   "source": [
    "deleted = 0\n",
    "for e in list(joined.keys()):\n",
    "    if e not in match:\n",
    "        del joined[e]\n",
    "        deleted+=1\n",
    "print deleted, \"Essays deleted\"\n",
    "print len(valid_essays), len(match), len(joined)"
   ]
  },
  {
   "cell_type": "markdown",
   "metadata": {},
   "source": [
    "# Partition into Train and Test Sets"
   ]
  },
  {
   "cell_type": "markdown",
   "metadata": {},
   "source": [
    "### 1. Calculate the Partition Sizes (in ints):"
   ]
  },
  {
   "cell_type": "code",
   "execution_count": 101,
   "metadata": {
    "collapsed": false
   },
   "outputs": [
    {
     "name": "stdout",
     "output_type": "stream",
     "text": [
      "Test: 226 \tTrain: 902 \tTotal: 1128\n",
      "20.0355 %\n"
     ]
    }
   ],
   "source": [
    "num = len(joined.keys())\n",
    "n_test = int(round(PCT_TEST_SPLIT * len(joined.keys())))\n",
    "print \"Test:\", n_test, \"\\tTrain:\", num - n_test, \"\\tTotal:\", num\n",
    "print round(float(n_test) / num * 100,4), \"%\""
   ]
  },
  {
   "cell_type": "code",
   "execution_count": 107,
   "metadata": {
    "collapsed": false
   },
   "outputs": [],
   "source": [
    "assert num == len(essays), \"Total should match number of essays\""
   ]
  },
  {
   "cell_type": "markdown",
   "metadata": {},
   "source": [
    "### 2. Create Partition, and Compute Code Distributions"
   ]
  },
  {
   "cell_type": "markdown",
   "metadata": {},
   "source": [
    "### Compute Counts Across Whole Corpus"
   ]
  },
  {
   "cell_type": "code",
   "execution_count": 53,
   "metadata": {
    "collapsed": false
   },
   "outputs": [
    {
     "data": {
      "text/plain": [
       "(503622, 10210, 190)"
      ]
     },
     "execution_count": 53,
     "metadata": {},
     "output_type": "execute_result"
    }
   ],
   "source": [
    "nm_wds = 0\n",
    "num_sentences = 0\n",
    "all_codes = set()\n",
    "for essay in essays:\n",
    "    for sentence in essay.tagged_sentences:\n",
    "        num_sentences+=1\n",
    "        for wd, tags in sentence:\n",
    "            num_wds +=1\n",
    "            all_codes.update(tags)\n",
    "num_wds, num_sentences, len(all_codes)"
   ]
  },
  {
   "cell_type": "markdown",
   "metadata": {},
   "source": [
    "### Segment Codes by Category"
   ]
  },
  {
   "cell_type": "code",
   "execution_count": 69,
   "metadata": {
    "collapsed": false
   },
   "outputs": [
    {
     "name": "stdout",
     "output_type": "stream",
     "text": [
      "regular ['1', '2', '3', '4', '5', '6', '7', '11', '12', '13', '14', '50', '5b']\n",
      "causal Causer:1->Result:11\n",
      "Causer:1->Result:13\n",
      "Causer:1->Result:14\n",
      "Causer:1->Result:2\n",
      "Causer:1->Result:3\n",
      "Causer:1->Result:4\n",
      "Causer:1->Result:5\n",
      "Causer:1->Result:50\n",
      "Causer:1->Result:6\n",
      "Causer:1->Result:7\n",
      "Causer:1->Result:Anaphor\n",
      "Causer:1->Result:other\n",
      "Causer:1->Result:rhetorical\n",
      "Causer:11->Result:11\n",
      "Causer:11->Result:12\n",
      "Causer:11->Result:13\n",
      "Causer:11->Result:14\n",
      "Causer:11->Result:3\n",
      "Causer:11->Result:4\n",
      "Causer:11->Result:50\n",
      "Causer:11->Result:6\n",
      "Causer:11->Result:Anaphor\n",
      "Causer:11->Result:rhetorical\n",
      "Causer:12->Result:11\n",
      "Causer:12->Result:13\n",
      "Causer:12->Result:14\n",
      "Causer:12->Result:50\n",
      "Causer:12->Result:5b\n",
      "Causer:12->Result:7\n",
      "Causer:13->Result:11\n",
      "Causer:13->Result:12\n",
      "Causer:13->Result:14\n",
      "Causer:13->Result:4\n",
      "Causer:13->Result:5\n",
      "Causer:13->Result:50\n",
      "Causer:13->Result:6\n",
      "Causer:13->Result:7\n",
      "Causer:13->Result:Anaphor\n",
      "Causer:13->Result:rhetorical\n",
      "Causer:14->Result:50\n",
      "Causer:14->Result:6\n",
      "Causer:14->Result:7\n",
      "Causer:14->Result:rhetorical\n",
      "Causer:2->Result:1\n",
      "Causer:2->Result:3\n",
      "Causer:2->Result:50\n",
      "Causer:2->Result:6\n",
      "Causer:2->Result:Anaphor\n",
      "Causer:3->Result:1\n",
      "Causer:3->Result:13\n",
      "Causer:3->Result:14\n",
      "Causer:3->Result:2\n",
      "Causer:3->Result:4\n",
      "Causer:3->Result:5\n",
      "Causer:3->Result:50\n",
      "Causer:3->Result:5b\n",
      "Causer:3->Result:6\n",
      "Causer:3->Result:7\n",
      "Causer:3->Result:Anaphor\n",
      "Causer:3->Result:rhetorical\n",
      "Causer:4->Result:11\n",
      "Causer:4->Result:13\n",
      "Causer:4->Result:14\n",
      "Causer:4->Result:3\n",
      "Causer:4->Result:5\n",
      "Causer:4->Result:50\n",
      "Causer:4->Result:5b\n",
      "Causer:4->Result:6\n",
      "Causer:4->Result:7\n",
      "Causer:4->Result:Anaphor\n",
      "Causer:4->Result:Change-factor\n",
      "Causer:4->Result:rhetorical\n",
      "Causer:5->Result:11\n",
      "Causer:5->Result:13\n",
      "Causer:5->Result:14\n",
      "Causer:5->Result:3\n",
      "Causer:5->Result:4\n",
      "Causer:5->Result:50\n",
      "Causer:5->Result:5b\n",
      "Causer:5->Result:7\n",
      "Causer:5->Result:Anaphor\n",
      "Causer:5->Result:rhetorical\n",
      "Causer:50->Result:1\n",
      "Causer:50->Result:3\n",
      "Causer:50->Result:50\n",
      "Causer:50->Result:7\n",
      "Causer:50->Result:other\n",
      "Causer:50->Result:rhetorical\n",
      "Causer:5b->Result:14\n",
      "Causer:5b->Result:5\n",
      "Causer:5b->Result:50\n",
      "Causer:5b->Result:7\n",
      "Causer:5b->Result:Anaphor\n",
      "Causer:5b->Result:rhetorical\n",
      "Causer:6->Result:14\n",
      "Causer:6->Result:5\n",
      "Causer:6->Result:50\n",
      "Causer:6->Result:5b\n",
      "Causer:6->Result:7\n",
      "Causer:6->Result:Anaphor\n",
      "Causer:6->Result:other\n",
      "Causer:6->Result:rhetorical\n",
      "Causer:7->Result:1\n",
      "Causer:7->Result:13\n",
      "Causer:7->Result:14\n",
      "Causer:7->Result:4\n",
      "Causer:7->Result:5\n",
      "Causer:7->Result:50\n",
      "Causer:7->Result:5b\n",
      "Causer:7->Result:Anaphor\n",
      "Causer:7->Result:rhetorical\n",
      "Causer:Anaphor->Result:11\n",
      "Causer:Anaphor->Result:12\n",
      "Causer:Anaphor->Result:13\n",
      "Causer:Anaphor->Result:14\n",
      "Causer:Anaphor->Result:2\n",
      "Causer:Anaphor->Result:3\n",
      "Causer:Anaphor->Result:4\n",
      "Causer:Anaphor->Result:5\n",
      "Causer:Anaphor->Result:50\n",
      "Causer:Anaphor->Result:5b\n",
      "Causer:Anaphor->Result:6\n",
      "Causer:Anaphor->Result:7\n",
      "Causer:Anaphor->Result:Anaphor\n",
      "Causer:Anaphor->Result:other\n",
      "Causer:Anaphor->Result:rhetorical\n",
      "Causer:Change-factor->Result:50\n",
      "Causer:other->Result:3\n",
      "Causer:other->Result:50\n",
      "Causer:other->Result:6\n",
      "Causer:other->Result:7\n",
      "Causer:rhetorical->Result:5\n",
      "Causer:rhetorical->Result:50\n",
      "Causer:rhetorical->Result:5b\n",
      "Causer:rhetorical->Result:Anaphor\n"
     ]
    }
   ],
   "source": [
    "regular_codes = sorted([c for c in all_codes if c[0].isdigit()], key=lambda c: (len(c), c))\n",
    "causal_codes = sorted([c for c in all_codes if \"->\" in c])\n",
    "print \"regular\", regular_codes\n",
    "print \"causal\", \"\\n\".join(causal_codes)"
   ]
  },
  {
   "cell_type": "code",
   "execution_count": 258,
   "metadata": {
    "collapsed": false
   },
   "outputs": [],
   "source": [
    "def compute_tag_distributions(essays, codes=None):\n",
    "    if not codes:\n",
    "        codes = all_codes\n",
    "    else:\n",
    "        codes = set(codes)\n",
    "        \n",
    "    wd_tag_freq = defaultdict(int)\n",
    "    sent_tag_freq = defaultdict(int)\n",
    "    num_wds = 0\n",
    "    num_sentences = 0\n",
    "    for essay in essays:\n",
    "        for sentence in essay.tagged_sentences:\n",
    "            num_sentences+=1\n",
    "            # compute unique tags for sentence for computing sentence distributions\n",
    "            un_tags = set()\n",
    "            for wd, tags in sentence:\n",
    "                num_wds +=1\n",
    "                tags = tags.intersection(codes)\n",
    "                if not tags:\n",
    "                    continue\n",
    "        \n",
    "                un_tags.update(tags)\n",
    "                for tag in tags:\n",
    "                    wd_tag_freq[tag] += 1\n",
    "            for tag in un_tags:\n",
    "                sent_tag_freq[tag] += 1\n",
    "    \n",
    "    for tag in wd_tag_freq.keys():\n",
    "        wd_tag_freq[tag] = float(wd_tag_freq[tag])/ float(num_wds)\n",
    "        sent_tag_freq[tag] = float(sent_tag_freq[tag] / float(num_sentences))\n",
    "    \n",
    "    return wd_tag_freq, sent_tag_freq"
   ]
  },
  {
   "cell_type": "code",
   "execution_count": 259,
   "metadata": {
    "collapsed": false
   },
   "outputs": [],
   "source": [
    "import pandas as pd\n",
    "def to_df(freq_dct):\n",
    "    return pd.DataFrame({\"codes\": freq_dct.keys(), \"freq\": freq_dct.values()}).sort_values(\"codes\")"
   ]
  },
  {
   "cell_type": "code",
   "execution_count": 260,
   "metadata": {
    "collapsed": false
   },
   "outputs": [
    {
     "data": {
      "text/html": [
       "<div>\n",
       "<table border=\"1\" class=\"dataframe\">\n",
       "  <thead>\n",
       "    <tr style=\"text-align: right;\">\n",
       "      <th></th>\n",
       "      <th>codes</th>\n",
       "      <th>freq</th>\n",
       "    </tr>\n",
       "  </thead>\n",
       "  <tbody>\n",
       "    <tr>\n",
       "      <th>5</th>\n",
       "      <td>1</td>\n",
       "      <td>0.033245</td>\n",
       "    </tr>\n",
       "    <tr>\n",
       "      <th>0</th>\n",
       "      <td>11</td>\n",
       "      <td>0.006267</td>\n",
       "    </tr>\n",
       "    <tr>\n",
       "      <th>2</th>\n",
       "      <td>12</td>\n",
       "      <td>0.005069</td>\n",
       "    </tr>\n",
       "    <tr>\n",
       "      <th>1</th>\n",
       "      <td>13</td>\n",
       "      <td>0.013367</td>\n",
       "    </tr>\n",
       "    <tr>\n",
       "      <th>3</th>\n",
       "      <td>14</td>\n",
       "      <td>0.014713</td>\n",
       "    </tr>\n",
       "    <tr>\n",
       "      <th>7</th>\n",
       "      <td>2</td>\n",
       "      <td>0.008494</td>\n",
       "    </tr>\n",
       "    <tr>\n",
       "      <th>6</th>\n",
       "      <td>3</td>\n",
       "      <td>0.053600</td>\n",
       "    </tr>\n",
       "    <tr>\n",
       "      <th>9</th>\n",
       "      <td>4</td>\n",
       "      <td>0.018853</td>\n",
       "    </tr>\n",
       "    <tr>\n",
       "      <th>8</th>\n",
       "      <td>5</td>\n",
       "      <td>0.014535</td>\n",
       "    </tr>\n",
       "    <tr>\n",
       "      <th>4</th>\n",
       "      <td>50</td>\n",
       "      <td>0.088596</td>\n",
       "    </tr>\n",
       "    <tr>\n",
       "      <th>12</th>\n",
       "      <td>5b</td>\n",
       "      <td>0.014499</td>\n",
       "    </tr>\n",
       "    <tr>\n",
       "      <th>11</th>\n",
       "      <td>6</td>\n",
       "      <td>0.008763</td>\n",
       "    </tr>\n",
       "    <tr>\n",
       "      <th>10</th>\n",
       "      <td>7</td>\n",
       "      <td>0.030326</td>\n",
       "    </tr>\n",
       "  </tbody>\n",
       "</table>\n",
       "</div>"
      ],
      "text/plain": [
       "   codes      freq\n",
       "5      1  0.033245\n",
       "0     11  0.006267\n",
       "2     12  0.005069\n",
       "1     13  0.013367\n",
       "3     14  0.014713\n",
       "7      2  0.008494\n",
       "6      3  0.053600\n",
       "9      4  0.018853\n",
       "8      5  0.014535\n",
       "4     50  0.088596\n",
       "12    5b  0.014499\n",
       "11     6  0.008763\n",
       "10     7  0.030326"
      ]
     },
     "execution_count": 260,
     "metadata": {},
     "output_type": "execute_result"
    }
   ],
   "source": [
    "wd_freq, sent_freq = compute_tag_distributions(essays, regular_codes)\n",
    "to_df(wd_freq)"
   ]
  },
  {
   "cell_type": "code",
   "execution_count": 94,
   "metadata": {
    "collapsed": false
   },
   "outputs": [
    {
     "data": {
      "text/html": [
       "<div>\n",
       "<table border=\"1\" class=\"dataframe\">\n",
       "  <thead>\n",
       "    <tr style=\"text-align: right;\">\n",
       "      <th></th>\n",
       "      <th>codes</th>\n",
       "      <th>freq</th>\n",
       "    </tr>\n",
       "  </thead>\n",
       "  <tbody>\n",
       "    <tr>\n",
       "      <th>5</th>\n",
       "      <td>1</td>\n",
       "      <td>0.126934</td>\n",
       "    </tr>\n",
       "    <tr>\n",
       "      <th>0</th>\n",
       "      <td>11</td>\n",
       "      <td>0.036631</td>\n",
       "    </tr>\n",
       "    <tr>\n",
       "      <th>2</th>\n",
       "      <td>12</td>\n",
       "      <td>0.012243</td>\n",
       "    </tr>\n",
       "    <tr>\n",
       "      <th>1</th>\n",
       "      <td>13</td>\n",
       "      <td>0.049167</td>\n",
       "    </tr>\n",
       "    <tr>\n",
       "      <th>3</th>\n",
       "      <td>14</td>\n",
       "      <td>0.033399</td>\n",
       "    </tr>\n",
       "    <tr>\n",
       "      <th>7</th>\n",
       "      <td>2</td>\n",
       "      <td>0.022625</td>\n",
       "    </tr>\n",
       "    <tr>\n",
       "      <th>6</th>\n",
       "      <td>3</td>\n",
       "      <td>0.146131</td>\n",
       "    </tr>\n",
       "    <tr>\n",
       "      <th>9</th>\n",
       "      <td>4</td>\n",
       "      <td>0.054065</td>\n",
       "    </tr>\n",
       "    <tr>\n",
       "      <th>8</th>\n",
       "      <td>5</td>\n",
       "      <td>0.062488</td>\n",
       "    </tr>\n",
       "    <tr>\n",
       "      <th>4</th>\n",
       "      <td>50</td>\n",
       "      <td>0.393830</td>\n",
       "    </tr>\n",
       "    <tr>\n",
       "      <th>12</th>\n",
       "      <td>5b</td>\n",
       "      <td>0.027032</td>\n",
       "    </tr>\n",
       "    <tr>\n",
       "      <th>11</th>\n",
       "      <td>6</td>\n",
       "      <td>0.040059</td>\n",
       "    </tr>\n",
       "    <tr>\n",
       "      <th>10</th>\n",
       "      <td>7</td>\n",
       "      <td>0.091675</td>\n",
       "    </tr>\n",
       "  </tbody>\n",
       "</table>\n",
       "</div>"
      ],
      "text/plain": [
       "   codes      freq\n",
       "5      1  0.126934\n",
       "0     11  0.036631\n",
       "2     12  0.012243\n",
       "1     13  0.049167\n",
       "3     14  0.033399\n",
       "7      2  0.022625\n",
       "6      3  0.146131\n",
       "9      4  0.054065\n",
       "8      5  0.062488\n",
       "4     50  0.393830\n",
       "12    5b  0.027032\n",
       "11     6  0.040059\n",
       "10     7  0.091675"
      ]
     },
     "execution_count": 94,
     "metadata": {},
     "output_type": "execute_result"
    }
   ],
   "source": [
    "to_df(sent_freq)"
   ]
  },
  {
   "cell_type": "code",
   "execution_count": 97,
   "metadata": {
    "collapsed": false
   },
   "outputs": [
    {
     "name": "stdout",
     "output_type": "stream",
     "text": [
      "0.310327984083\n",
      "1.09627815867\n"
     ]
    }
   ],
   "source": [
    "print sum(wd_freq.values()) # A lot of words have 0 tags\n",
    "print sum(sent_freq.values()) # overlapping codes, a small number of sentences with no codes"
   ]
  },
  {
   "cell_type": "code",
   "execution_count": 111,
   "metadata": {
    "collapsed": true
   },
   "outputs": [],
   "source": [
    "import numpy as np\n",
    "from numpy import random\n",
    "def random_splt(essays, n_test):\n",
    "    np_essays = np.asarray(essays)\n",
    "    # inplace shuffle\n",
    "    random.shuffle(np_essays)\n",
    "    test, train = np_essays[:n_test], np_essays[n_test:]\n",
    "    assert len(test) == n_test, \"Test set size does not equal expected\"\n",
    "    return train, test"
   ]
  },
  {
   "cell_type": "code",
   "execution_count": 115,
   "metadata": {
    "collapsed": false
   },
   "outputs": [
    {
     "data": {
      "text/plain": [
       "(902, 226)"
      ]
     },
     "execution_count": 115,
     "metadata": {},
     "output_type": "execute_result"
    }
   ],
   "source": [
    "# Test Function\n",
    "train, test = random_splt(essays, n_test)\n",
    "assert n_test == len(test), \"Test set not expected size\"\n",
    "assert len(essays) == (len(train) + len(test)), \"Train and Test set sizes should equal total essays size\"\n",
    "len(train), len(test)"
   ]
  },
  {
   "cell_type": "markdown",
   "metadata": {},
   "source": [
    "## Compute Kullback-Leibler Divergence to Find the Closest Distribution"
   ]
  },
  {
   "cell_type": "code",
   "execution_count": 200,
   "metadata": {
    "collapsed": true
   },
   "outputs": [],
   "source": [
    "# log is not defined if the denom is 0. if the denom is 0\n",
    "# this is a bad split, as we want all codes to be represented\n",
    "# so return max_val, as we are trying to minimize the divergence\n",
    "max_val = 99999999\n",
    "def kl(a,b):\n",
    "    join = zip(a,b)\n",
    "    kl_val_a = 0.0\n",
    "    kl_val_b = 0.0\n",
    "    for pa, pb in join:\n",
    "        if pa == 0.0 or pb == 0.0:\n",
    "            return max_val,max_val\n",
    "        kl_val_a += pa*np.log(pa/pb)\n",
    "        kl_val_b += pb*np.log(pb/pa)\n",
    "    return kl_val_a, kl_val_b"
   ]
  },
  {
   "cell_type": "code",
   "execution_count": 201,
   "metadata": {
    "collapsed": true
   },
   "outputs": [],
   "source": [
    "def compare_wd_tag_dist(test_essays, codes):\n",
    "    all_wd_freq, _ = compute_tag_distributions(essays, codes)\n",
    "    test_wd_freq,_ = compute_tag_distributions(test_essays, codes)\n",
    "    return pd.merge(to_df(all_wd_freq), to_df(test_wd_freq), on=\"codes\", suffixes=[\"all\", \"test\"])\n",
    "\n",
    "def compare_sent_tag_dist(test_essays, codes):\n",
    "    _, all_sent_freq  = compute_tag_distributions(essays, codes)\n",
    "    _, test_sent_freq = compute_tag_distributions(test_essays, codes)\n",
    "    return pd.merge(to_df(all_sent_freq), to_df(test_sent_freq), on=\"codes\", suffixes=[\"all\", \"test\"])"
   ]
  },
  {
   "cell_type": "code",
   "execution_count": 194,
   "metadata": {
    "collapsed": false
   },
   "outputs": [
    {
     "name": "stdout",
     "output_type": "stream",
     "text": [
      "CPU times: user 14.5 s, sys: 24 ms, total: 14.5 s\n",
      "Wall time: 14.5 s\n"
     ]
    }
   ],
   "source": [
    "%%time\n",
    "kl_vals = {}\n",
    "for i in range(1000):\n",
    "    train, test = random_splt(essays, n_test)\n",
    "    test_wd_freq, test_sent_freq = compute_tag_distributions(test, regular_codes)\n",
    "    vals = kl(wd_freq.values(), test_wd_freq.values())\n",
    "    # map to abs values\n",
    "    vals = list(map(abs, vals))\n",
    "    max_val = max(vals)\n",
    "    kl_vals[max_val] = (train,test)\n",
    "\n",
    "# Get best\n",
    "best_kl_code, best_code_split = min(kl_vals.items(), key=lambda (k,v): k)\n",
    "best_kl_code"
   ]
  },
  {
   "cell_type": "code",
   "execution_count": 204,
   "metadata": {
    "collapsed": false
   },
   "outputs": [
    {
     "data": {
      "text/plain": [
       "0.00055890516668596945"
      ]
     },
     "execution_count": 204,
     "metadata": {},
     "output_type": "execute_result"
    }
   ],
   "source": [
    "best_kl_code"
   ]
  },
  {
   "cell_type": "code",
   "execution_count": 202,
   "metadata": {
    "collapsed": false
   },
   "outputs": [
    {
     "data": {
      "text/html": [
       "<div>\n",
       "<table border=\"1\" class=\"dataframe\">\n",
       "  <thead>\n",
       "    <tr style=\"text-align: right;\">\n",
       "      <th></th>\n",
       "      <th>codes</th>\n",
       "      <th>freqall</th>\n",
       "      <th>freqtest</th>\n",
       "    </tr>\n",
       "  </thead>\n",
       "  <tbody>\n",
       "    <tr>\n",
       "      <th>0</th>\n",
       "      <td>1</td>\n",
       "      <td>0.033245</td>\n",
       "      <td>0.033315</td>\n",
       "    </tr>\n",
       "    <tr>\n",
       "      <th>1</th>\n",
       "      <td>11</td>\n",
       "      <td>0.006267</td>\n",
       "      <td>0.006847</td>\n",
       "    </tr>\n",
       "    <tr>\n",
       "      <th>2</th>\n",
       "      <td>12</td>\n",
       "      <td>0.005069</td>\n",
       "      <td>0.004184</td>\n",
       "    </tr>\n",
       "    <tr>\n",
       "      <th>3</th>\n",
       "      <td>13</td>\n",
       "      <td>0.013367</td>\n",
       "      <td>0.015374</td>\n",
       "    </tr>\n",
       "    <tr>\n",
       "      <th>4</th>\n",
       "      <td>14</td>\n",
       "      <td>0.014713</td>\n",
       "      <td>0.015754</td>\n",
       "    </tr>\n",
       "    <tr>\n",
       "      <th>5</th>\n",
       "      <td>2</td>\n",
       "      <td>0.008494</td>\n",
       "      <td>0.008115</td>\n",
       "    </tr>\n",
       "    <tr>\n",
       "      <th>6</th>\n",
       "      <td>3</td>\n",
       "      <td>0.053600</td>\n",
       "      <td>0.053000</td>\n",
       "    </tr>\n",
       "    <tr>\n",
       "      <th>7</th>\n",
       "      <td>4</td>\n",
       "      <td>0.018853</td>\n",
       "      <td>0.018734</td>\n",
       "    </tr>\n",
       "    <tr>\n",
       "      <th>8</th>\n",
       "      <td>5</td>\n",
       "      <td>0.014535</td>\n",
       "      <td>0.012838</td>\n",
       "    </tr>\n",
       "    <tr>\n",
       "      <th>9</th>\n",
       "      <td>50</td>\n",
       "      <td>0.088596</td>\n",
       "      <td>0.091261</td>\n",
       "    </tr>\n",
       "    <tr>\n",
       "      <th>10</th>\n",
       "      <td>5b</td>\n",
       "      <td>0.014499</td>\n",
       "      <td>0.014328</td>\n",
       "    </tr>\n",
       "    <tr>\n",
       "      <th>11</th>\n",
       "      <td>6</td>\n",
       "      <td>0.008763</td>\n",
       "      <td>0.008147</td>\n",
       "    </tr>\n",
       "    <tr>\n",
       "      <th>12</th>\n",
       "      <td>7</td>\n",
       "      <td>0.030326</td>\n",
       "      <td>0.028465</td>\n",
       "    </tr>\n",
       "  </tbody>\n",
       "</table>\n",
       "</div>"
      ],
      "text/plain": [
       "   codes   freqall  freqtest\n",
       "0      1  0.033245  0.033315\n",
       "1     11  0.006267  0.006847\n",
       "2     12  0.005069  0.004184\n",
       "3     13  0.013367  0.015374\n",
       "4     14  0.014713  0.015754\n",
       "5      2  0.008494  0.008115\n",
       "6      3  0.053600  0.053000\n",
       "7      4  0.018853  0.018734\n",
       "8      5  0.014535  0.012838\n",
       "9     50  0.088596  0.091261\n",
       "10    5b  0.014499  0.014328\n",
       "11     6  0.008763  0.008147\n",
       "12     7  0.030326  0.028465"
      ]
     },
     "execution_count": 202,
     "metadata": {},
     "output_type": "execute_result"
    }
   ],
   "source": [
    "train, test = best_code_split\n",
    "compare_wd_tag_dist(test, regular_codes)"
   ]
  },
  {
   "cell_type": "code",
   "execution_count": 203,
   "metadata": {
    "collapsed": false
   },
   "outputs": [
    {
     "data": {
      "text/html": [
       "<div>\n",
       "<table border=\"1\" class=\"dataframe\">\n",
       "  <thead>\n",
       "    <tr style=\"text-align: right;\">\n",
       "      <th></th>\n",
       "      <th>codes</th>\n",
       "      <th>freqall</th>\n",
       "      <th>freqtest</th>\n",
       "    </tr>\n",
       "  </thead>\n",
       "  <tbody>\n",
       "    <tr>\n",
       "      <th>0</th>\n",
       "      <td>Causer:1-&gt;Result:2</td>\n",
       "      <td>0.006964</td>\n",
       "      <td>0.005103</td>\n",
       "    </tr>\n",
       "    <tr>\n",
       "      <th>1</th>\n",
       "      <td>Causer:1-&gt;Result:3</td>\n",
       "      <td>0.017525</td>\n",
       "      <td>0.014677</td>\n",
       "    </tr>\n",
       "    <tr>\n",
       "      <th>2</th>\n",
       "      <td>Causer:1-&gt;Result:50</td>\n",
       "      <td>0.025698</td>\n",
       "      <td>0.021904</td>\n",
       "    </tr>\n",
       "    <tr>\n",
       "      <th>3</th>\n",
       "      <td>Causer:1-&gt;Result:7</td>\n",
       "      <td>0.000465</td>\n",
       "      <td>0.001078</td>\n",
       "    </tr>\n",
       "    <tr>\n",
       "      <th>4</th>\n",
       "      <td>Causer:1-&gt;Result:rhetorical</td>\n",
       "      <td>0.001936</td>\n",
       "      <td>0.001743</td>\n",
       "    </tr>\n",
       "    <tr>\n",
       "      <th>5</th>\n",
       "      <td>Causer:11-&gt;Result:12</td>\n",
       "      <td>0.005272</td>\n",
       "      <td>0.005008</td>\n",
       "    </tr>\n",
       "    <tr>\n",
       "      <th>6</th>\n",
       "      <td>Causer:11-&gt;Result:13</td>\n",
       "      <td>0.007244</td>\n",
       "      <td>0.009256</td>\n",
       "    </tr>\n",
       "    <tr>\n",
       "      <th>7</th>\n",
       "      <td>Causer:11-&gt;Result:14</td>\n",
       "      <td>0.001042</td>\n",
       "      <td>0.000951</td>\n",
       "    </tr>\n",
       "    <tr>\n",
       "      <th>8</th>\n",
       "      <td>Causer:11-&gt;Result:3</td>\n",
       "      <td>0.000274</td>\n",
       "      <td>0.000285</td>\n",
       "    </tr>\n",
       "    <tr>\n",
       "      <th>9</th>\n",
       "      <td>Causer:11-&gt;Result:50</td>\n",
       "      <td>0.004039</td>\n",
       "      <td>0.005230</td>\n",
       "    </tr>\n",
       "    <tr>\n",
       "      <th>10</th>\n",
       "      <td>Causer:11-&gt;Result:Anaphor</td>\n",
       "      <td>0.000536</td>\n",
       "      <td>0.000507</td>\n",
       "    </tr>\n",
       "    <tr>\n",
       "      <th>11</th>\n",
       "      <td>Causer:12-&gt;Result:13</td>\n",
       "      <td>0.006410</td>\n",
       "      <td>0.007005</td>\n",
       "    </tr>\n",
       "    <tr>\n",
       "      <th>12</th>\n",
       "      <td>Causer:12-&gt;Result:50</td>\n",
       "      <td>0.000602</td>\n",
       "      <td>0.001014</td>\n",
       "    </tr>\n",
       "    <tr>\n",
       "      <th>13</th>\n",
       "      <td>Causer:12-&gt;Result:7</td>\n",
       "      <td>0.000197</td>\n",
       "      <td>0.000380</td>\n",
       "    </tr>\n",
       "    <tr>\n",
       "      <th>14</th>\n",
       "      <td>Causer:13-&gt;Result:12</td>\n",
       "      <td>0.000167</td>\n",
       "      <td>0.000254</td>\n",
       "    </tr>\n",
       "    <tr>\n",
       "      <th>15</th>\n",
       "      <td>Causer:13-&gt;Result:14</td>\n",
       "      <td>0.006326</td>\n",
       "      <td>0.007481</td>\n",
       "    </tr>\n",
       "    <tr>\n",
       "      <th>16</th>\n",
       "      <td>Causer:13-&gt;Result:5</td>\n",
       "      <td>0.000054</td>\n",
       "      <td>0.000285</td>\n",
       "    </tr>\n",
       "    <tr>\n",
       "      <th>17</th>\n",
       "      <td>Causer:13-&gt;Result:50</td>\n",
       "      <td>0.006594</td>\n",
       "      <td>0.007069</td>\n",
       "    </tr>\n",
       "    <tr>\n",
       "      <th>18</th>\n",
       "      <td>Causer:13-&gt;Result:rhetorical</td>\n",
       "      <td>0.000405</td>\n",
       "      <td>0.000190</td>\n",
       "    </tr>\n",
       "    <tr>\n",
       "      <th>19</th>\n",
       "      <td>Causer:14-&gt;Result:50</td>\n",
       "      <td>0.006118</td>\n",
       "      <td>0.005991</td>\n",
       "    </tr>\n",
       "    <tr>\n",
       "      <th>20</th>\n",
       "      <td>Causer:14-&gt;Result:7</td>\n",
       "      <td>0.000262</td>\n",
       "      <td>0.000539</td>\n",
       "    </tr>\n",
       "    <tr>\n",
       "      <th>21</th>\n",
       "      <td>Causer:14-&gt;Result:rhetorical</td>\n",
       "      <td>0.000071</td>\n",
       "      <td>0.000380</td>\n",
       "    </tr>\n",
       "    <tr>\n",
       "      <th>22</th>\n",
       "      <td>Causer:2-&gt;Result:3</td>\n",
       "      <td>0.004134</td>\n",
       "      <td>0.005294</td>\n",
       "    </tr>\n",
       "    <tr>\n",
       "      <th>23</th>\n",
       "      <td>Causer:2-&gt;Result:50</td>\n",
       "      <td>0.000709</td>\n",
       "      <td>0.000792</td>\n",
       "    </tr>\n",
       "    <tr>\n",
       "      <th>24</th>\n",
       "      <td>Causer:2-&gt;Result:6</td>\n",
       "      <td>0.000125</td>\n",
       "      <td>0.000666</td>\n",
       "    </tr>\n",
       "    <tr>\n",
       "      <th>25</th>\n",
       "      <td>Causer:3-&gt;Result:1</td>\n",
       "      <td>0.001138</td>\n",
       "      <td>0.001109</td>\n",
       "    </tr>\n",
       "    <tr>\n",
       "      <th>26</th>\n",
       "      <td>Causer:3-&gt;Result:13</td>\n",
       "      <td>0.000244</td>\n",
       "      <td>0.000475</td>\n",
       "    </tr>\n",
       "    <tr>\n",
       "      <th>27</th>\n",
       "      <td>Causer:3-&gt;Result:14</td>\n",
       "      <td>0.000500</td>\n",
       "      <td>0.000571</td>\n",
       "    </tr>\n",
       "    <tr>\n",
       "      <th>28</th>\n",
       "      <td>Causer:3-&gt;Result:4</td>\n",
       "      <td>0.009424</td>\n",
       "      <td>0.009478</td>\n",
       "    </tr>\n",
       "    <tr>\n",
       "      <th>29</th>\n",
       "      <td>Causer:3-&gt;Result:5</td>\n",
       "      <td>0.009358</td>\n",
       "      <td>0.008844</td>\n",
       "    </tr>\n",
       "    <tr>\n",
       "      <th>...</th>\n",
       "      <td>...</td>\n",
       "      <td>...</td>\n",
       "      <td>...</td>\n",
       "    </tr>\n",
       "    <tr>\n",
       "      <th>40</th>\n",
       "      <td>Causer:4-&gt;Result:Anaphor</td>\n",
       "      <td>0.000310</td>\n",
       "      <td>0.000380</td>\n",
       "    </tr>\n",
       "    <tr>\n",
       "      <th>41</th>\n",
       "      <td>Causer:4-&gt;Result:rhetorical</td>\n",
       "      <td>0.000316</td>\n",
       "      <td>0.001046</td>\n",
       "    </tr>\n",
       "    <tr>\n",
       "      <th>42</th>\n",
       "      <td>Causer:5-&gt;Result:50</td>\n",
       "      <td>0.003568</td>\n",
       "      <td>0.003138</td>\n",
       "    </tr>\n",
       "    <tr>\n",
       "      <th>43</th>\n",
       "      <td>Causer:5-&gt;Result:5b</td>\n",
       "      <td>0.002961</td>\n",
       "      <td>0.002251</td>\n",
       "    </tr>\n",
       "    <tr>\n",
       "      <th>44</th>\n",
       "      <td>Causer:5-&gt;Result:7</td>\n",
       "      <td>0.000882</td>\n",
       "      <td>0.001205</td>\n",
       "    </tr>\n",
       "    <tr>\n",
       "      <th>45</th>\n",
       "      <td>Causer:50-&gt;Result:50</td>\n",
       "      <td>0.000113</td>\n",
       "      <td>0.000222</td>\n",
       "    </tr>\n",
       "    <tr>\n",
       "      <th>46</th>\n",
       "      <td>Causer:50-&gt;Result:7</td>\n",
       "      <td>0.000405</td>\n",
       "      <td>0.000571</td>\n",
       "    </tr>\n",
       "    <tr>\n",
       "      <th>47</th>\n",
       "      <td>Causer:5b-&gt;Result:50</td>\n",
       "      <td>0.002669</td>\n",
       "      <td>0.001109</td>\n",
       "    </tr>\n",
       "    <tr>\n",
       "      <th>48</th>\n",
       "      <td>Causer:5b-&gt;Result:7</td>\n",
       "      <td>0.000655</td>\n",
       "      <td>0.000254</td>\n",
       "    </tr>\n",
       "    <tr>\n",
       "      <th>49</th>\n",
       "      <td>Causer:6-&gt;Result:14</td>\n",
       "      <td>0.004104</td>\n",
       "      <td>0.003899</td>\n",
       "    </tr>\n",
       "    <tr>\n",
       "      <th>50</th>\n",
       "      <td>Causer:6-&gt;Result:5</td>\n",
       "      <td>0.000071</td>\n",
       "      <td>0.000380</td>\n",
       "    </tr>\n",
       "    <tr>\n",
       "      <th>51</th>\n",
       "      <td>Causer:6-&gt;Result:50</td>\n",
       "      <td>0.004843</td>\n",
       "      <td>0.005040</td>\n",
       "    </tr>\n",
       "    <tr>\n",
       "      <th>52</th>\n",
       "      <td>Causer:6-&gt;Result:7</td>\n",
       "      <td>0.011652</td>\n",
       "      <td>0.008337</td>\n",
       "    </tr>\n",
       "    <tr>\n",
       "      <th>53</th>\n",
       "      <td>Causer:6-&gt;Result:Anaphor</td>\n",
       "      <td>0.000167</td>\n",
       "      <td>0.000190</td>\n",
       "    </tr>\n",
       "    <tr>\n",
       "      <th>54</th>\n",
       "      <td>Causer:7-&gt;Result:14</td>\n",
       "      <td>0.000334</td>\n",
       "      <td>0.000317</td>\n",
       "    </tr>\n",
       "    <tr>\n",
       "      <th>55</th>\n",
       "      <td>Causer:7-&gt;Result:4</td>\n",
       "      <td>0.000113</td>\n",
       "      <td>0.000602</td>\n",
       "    </tr>\n",
       "    <tr>\n",
       "      <th>56</th>\n",
       "      <td>Causer:7-&gt;Result:50</td>\n",
       "      <td>0.033180</td>\n",
       "      <td>0.029131</td>\n",
       "    </tr>\n",
       "    <tr>\n",
       "      <th>57</th>\n",
       "      <td>Causer:7-&gt;Result:5b</td>\n",
       "      <td>0.000286</td>\n",
       "      <td>0.000475</td>\n",
       "    </tr>\n",
       "    <tr>\n",
       "      <th>58</th>\n",
       "      <td>Causer:7-&gt;Result:Anaphor</td>\n",
       "      <td>0.000745</td>\n",
       "      <td>0.000222</td>\n",
       "    </tr>\n",
       "    <tr>\n",
       "      <th>59</th>\n",
       "      <td>Causer:7-&gt;Result:rhetorical</td>\n",
       "      <td>0.000733</td>\n",
       "      <td>0.000888</td>\n",
       "    </tr>\n",
       "    <tr>\n",
       "      <th>60</th>\n",
       "      <td>Causer:Anaphor-&gt;Result:14</td>\n",
       "      <td>0.001674</td>\n",
       "      <td>0.001331</td>\n",
       "    </tr>\n",
       "    <tr>\n",
       "      <th>61</th>\n",
       "      <td>Causer:Anaphor-&gt;Result:2</td>\n",
       "      <td>0.000947</td>\n",
       "      <td>0.000697</td>\n",
       "    </tr>\n",
       "    <tr>\n",
       "      <th>62</th>\n",
       "      <td>Causer:Anaphor-&gt;Result:3</td>\n",
       "      <td>0.000822</td>\n",
       "      <td>0.000444</td>\n",
       "    </tr>\n",
       "    <tr>\n",
       "      <th>63</th>\n",
       "      <td>Causer:Anaphor-&gt;Result:50</td>\n",
       "      <td>0.004241</td>\n",
       "      <td>0.003677</td>\n",
       "    </tr>\n",
       "    <tr>\n",
       "      <th>64</th>\n",
       "      <td>Causer:Anaphor-&gt;Result:5b</td>\n",
       "      <td>0.000757</td>\n",
       "      <td>0.000888</td>\n",
       "    </tr>\n",
       "    <tr>\n",
       "      <th>65</th>\n",
       "      <td>Causer:Anaphor-&gt;Result:7</td>\n",
       "      <td>0.000888</td>\n",
       "      <td>0.000444</td>\n",
       "    </tr>\n",
       "    <tr>\n",
       "      <th>66</th>\n",
       "      <td>Causer:other-&gt;Result:50</td>\n",
       "      <td>0.000846</td>\n",
       "      <td>0.001046</td>\n",
       "    </tr>\n",
       "    <tr>\n",
       "      <th>67</th>\n",
       "      <td>Causer:other-&gt;Result:6</td>\n",
       "      <td>0.000220</td>\n",
       "      <td>0.000254</td>\n",
       "    </tr>\n",
       "    <tr>\n",
       "      <th>68</th>\n",
       "      <td>Causer:other-&gt;Result:7</td>\n",
       "      <td>0.000244</td>\n",
       "      <td>0.000729</td>\n",
       "    </tr>\n",
       "    <tr>\n",
       "      <th>69</th>\n",
       "      <td>Causer:rhetorical-&gt;Result:50</td>\n",
       "      <td>0.003854</td>\n",
       "      <td>0.004343</td>\n",
       "    </tr>\n",
       "  </tbody>\n",
       "</table>\n",
       "<p>70 rows × 3 columns</p>\n",
       "</div>"
      ],
      "text/plain": [
       "                           codes   freqall  freqtest\n",
       "0             Causer:1->Result:2  0.006964  0.005103\n",
       "1             Causer:1->Result:3  0.017525  0.014677\n",
       "2            Causer:1->Result:50  0.025698  0.021904\n",
       "3             Causer:1->Result:7  0.000465  0.001078\n",
       "4    Causer:1->Result:rhetorical  0.001936  0.001743\n",
       "5           Causer:11->Result:12  0.005272  0.005008\n",
       "6           Causer:11->Result:13  0.007244  0.009256\n",
       "7           Causer:11->Result:14  0.001042  0.000951\n",
       "8            Causer:11->Result:3  0.000274  0.000285\n",
       "9           Causer:11->Result:50  0.004039  0.005230\n",
       "10     Causer:11->Result:Anaphor  0.000536  0.000507\n",
       "11          Causer:12->Result:13  0.006410  0.007005\n",
       "12          Causer:12->Result:50  0.000602  0.001014\n",
       "13           Causer:12->Result:7  0.000197  0.000380\n",
       "14          Causer:13->Result:12  0.000167  0.000254\n",
       "15          Causer:13->Result:14  0.006326  0.007481\n",
       "16           Causer:13->Result:5  0.000054  0.000285\n",
       "17          Causer:13->Result:50  0.006594  0.007069\n",
       "18  Causer:13->Result:rhetorical  0.000405  0.000190\n",
       "19          Causer:14->Result:50  0.006118  0.005991\n",
       "20           Causer:14->Result:7  0.000262  0.000539\n",
       "21  Causer:14->Result:rhetorical  0.000071  0.000380\n",
       "22            Causer:2->Result:3  0.004134  0.005294\n",
       "23           Causer:2->Result:50  0.000709  0.000792\n",
       "24            Causer:2->Result:6  0.000125  0.000666\n",
       "25            Causer:3->Result:1  0.001138  0.001109\n",
       "26           Causer:3->Result:13  0.000244  0.000475\n",
       "27           Causer:3->Result:14  0.000500  0.000571\n",
       "28            Causer:3->Result:4  0.009424  0.009478\n",
       "29            Causer:3->Result:5  0.009358  0.008844\n",
       "..                           ...       ...       ...\n",
       "40      Causer:4->Result:Anaphor  0.000310  0.000380\n",
       "41   Causer:4->Result:rhetorical  0.000316  0.001046\n",
       "42           Causer:5->Result:50  0.003568  0.003138\n",
       "43           Causer:5->Result:5b  0.002961  0.002251\n",
       "44            Causer:5->Result:7  0.000882  0.001205\n",
       "45          Causer:50->Result:50  0.000113  0.000222\n",
       "46           Causer:50->Result:7  0.000405  0.000571\n",
       "47          Causer:5b->Result:50  0.002669  0.001109\n",
       "48           Causer:5b->Result:7  0.000655  0.000254\n",
       "49           Causer:6->Result:14  0.004104  0.003899\n",
       "50            Causer:6->Result:5  0.000071  0.000380\n",
       "51           Causer:6->Result:50  0.004843  0.005040\n",
       "52            Causer:6->Result:7  0.011652  0.008337\n",
       "53      Causer:6->Result:Anaphor  0.000167  0.000190\n",
       "54           Causer:7->Result:14  0.000334  0.000317\n",
       "55            Causer:7->Result:4  0.000113  0.000602\n",
       "56           Causer:7->Result:50  0.033180  0.029131\n",
       "57           Causer:7->Result:5b  0.000286  0.000475\n",
       "58      Causer:7->Result:Anaphor  0.000745  0.000222\n",
       "59   Causer:7->Result:rhetorical  0.000733  0.000888\n",
       "60     Causer:Anaphor->Result:14  0.001674  0.001331\n",
       "61      Causer:Anaphor->Result:2  0.000947  0.000697\n",
       "62      Causer:Anaphor->Result:3  0.000822  0.000444\n",
       "63     Causer:Anaphor->Result:50  0.004241  0.003677\n",
       "64     Causer:Anaphor->Result:5b  0.000757  0.000888\n",
       "65      Causer:Anaphor->Result:7  0.000888  0.000444\n",
       "66       Causer:other->Result:50  0.000846  0.001046\n",
       "67        Causer:other->Result:6  0.000220  0.000254\n",
       "68        Causer:other->Result:7  0.000244  0.000729\n",
       "69  Causer:rhetorical->Result:50  0.003854  0.004343\n",
       "\n",
       "[70 rows x 3 columns]"
      ]
     },
     "execution_count": 203,
     "metadata": {},
     "output_type": "execute_result"
    }
   ],
   "source": [
    "compare_wd_tag_dist(test, causal_codes)"
   ]
  },
  {
   "cell_type": "code",
   "execution_count": 195,
   "metadata": {
    "collapsed": false
   },
   "outputs": [
    {
     "name": "stdout",
     "output_type": "stream",
     "text": [
      "CPU times: user 2min 25s, sys: 290 ms, total: 2min 26s\n",
      "Wall time: 2min 26s\n"
     ]
    }
   ],
   "source": [
    "%%time\n",
    "kl_vals = {}\n",
    "for i in range(10000):\n",
    "    train, test = random_splt(essays, n_test)\n",
    "    test_wd_freq, test_sent_freq = compute_tag_distributions(test, causal_codes)\n",
    "    vals = kl(wd_tag_freq_causal.values(), test_wd_freq.values())\n",
    "    # map to abs values\n",
    "    vals = list(map(abs, vals))\n",
    "    max_val = max(vals)\n",
    "    kl_vals[max_val] = (train,test)\n",
    "\n",
    "# Get best\n",
    "best_kl_causal, best_split_causl = min(kl_vals.items(), key=lambda (k,v): k)\n",
    "best_kl_causal"
   ]
  },
  {
   "cell_type": "code",
   "execution_count": 207,
   "metadata": {
    "collapsed": false
   },
   "outputs": [
    {
     "data": {
      "text/plain": [
       "0.50412485437339627"
      ]
     },
     "execution_count": 207,
     "metadata": {},
     "output_type": "execute_result"
    }
   ],
   "source": [
    "train, test = best_split_causl\n",
    "best_kl_causal"
   ]
  },
  {
   "cell_type": "code",
   "execution_count": 209,
   "metadata": {
    "collapsed": false
   },
   "outputs": [
    {
     "data": {
      "text/plain": [
       "(-0.02128593796454804, 1.4482732938723295)"
      ]
     },
     "execution_count": 209,
     "metadata": {},
     "output_type": "execute_result"
    }
   ],
   "source": [
    "test_wd_freq_causal, _ = compute_tag_distributions(test, regular_codes)\n",
    "vals = kl(wd_tag_freq_causal.values(), test_wd_freq_causal.values())\n",
    "vals"
   ]
  },
  {
   "cell_type": "code",
   "execution_count": 214,
   "metadata": {
    "collapsed": true
   },
   "outputs": [],
   "source": []
  },
  {
   "cell_type": "code",
   "execution_count": 228,
   "metadata": {
    "collapsed": false
   },
   "outputs": [
    {
     "data": {
      "text/html": [
       "<div>\n",
       "<table border=\"1\" class=\"dataframe\">\n",
       "  <thead>\n",
       "    <tr style=\"text-align: right;\">\n",
       "      <th></th>\n",
       "      <th>codes</th>\n",
       "      <th>freqall</th>\n",
       "      <th>freqtest</th>\n",
       "    </tr>\n",
       "  </thead>\n",
       "  <tbody>\n",
       "    <tr>\n",
       "      <th>0</th>\n",
       "      <td>1</td>\n",
       "      <td>0.033245</td>\n",
       "      <td>0.031195</td>\n",
       "    </tr>\n",
       "    <tr>\n",
       "      <th>1</th>\n",
       "      <td>11</td>\n",
       "      <td>0.006267</td>\n",
       "      <td>0.007698</td>\n",
       "    </tr>\n",
       "    <tr>\n",
       "      <th>2</th>\n",
       "      <td>12</td>\n",
       "      <td>0.005069</td>\n",
       "      <td>0.006516</td>\n",
       "    </tr>\n",
       "    <tr>\n",
       "      <th>3</th>\n",
       "      <td>13</td>\n",
       "      <td>0.013367</td>\n",
       "      <td>0.014214</td>\n",
       "    </tr>\n",
       "    <tr>\n",
       "      <th>4</th>\n",
       "      <td>14</td>\n",
       "      <td>0.014713</td>\n",
       "      <td>0.015309</td>\n",
       "    </tr>\n",
       "    <tr>\n",
       "      <th>5</th>\n",
       "      <td>2</td>\n",
       "      <td>0.008494</td>\n",
       "      <td>0.008044</td>\n",
       "    </tr>\n",
       "    <tr>\n",
       "      <th>6</th>\n",
       "      <td>3</td>\n",
       "      <td>0.053600</td>\n",
       "      <td>0.051780</td>\n",
       "    </tr>\n",
       "    <tr>\n",
       "      <th>7</th>\n",
       "      <td>4</td>\n",
       "      <td>0.018853</td>\n",
       "      <td>0.019086</td>\n",
       "    </tr>\n",
       "    <tr>\n",
       "      <th>8</th>\n",
       "      <td>5</td>\n",
       "      <td>0.014535</td>\n",
       "      <td>0.013060</td>\n",
       "    </tr>\n",
       "    <tr>\n",
       "      <th>9</th>\n",
       "      <td>50</td>\n",
       "      <td>0.088596</td>\n",
       "      <td>0.082947</td>\n",
       "    </tr>\n",
       "    <tr>\n",
       "      <th>10</th>\n",
       "      <td>5b</td>\n",
       "      <td>0.014499</td>\n",
       "      <td>0.015511</td>\n",
       "    </tr>\n",
       "    <tr>\n",
       "      <th>11</th>\n",
       "      <td>6</td>\n",
       "      <td>0.008763</td>\n",
       "      <td>0.008938</td>\n",
       "    </tr>\n",
       "    <tr>\n",
       "      <th>12</th>\n",
       "      <td>7</td>\n",
       "      <td>0.030326</td>\n",
       "      <td>0.029725</td>\n",
       "    </tr>\n",
       "  </tbody>\n",
       "</table>\n",
       "</div>"
      ],
      "text/plain": [
       "   codes   freqall  freqtest\n",
       "0      1  0.033245  0.031195\n",
       "1     11  0.006267  0.007698\n",
       "2     12  0.005069  0.006516\n",
       "3     13  0.013367  0.014214\n",
       "4     14  0.014713  0.015309\n",
       "5      2  0.008494  0.008044\n",
       "6      3  0.053600  0.051780\n",
       "7      4  0.018853  0.019086\n",
       "8      5  0.014535  0.013060\n",
       "9     50  0.088596  0.082947\n",
       "10    5b  0.014499  0.015511\n",
       "11     6  0.008763  0.008938\n",
       "12     7  0.030326  0.029725"
      ]
     },
     "execution_count": 228,
     "metadata": {},
     "output_type": "execute_result"
    }
   ],
   "source": [
    "df = compare_wd_tag_dist(test, regular_codes)\n",
    "df"
   ]
  },
  {
   "cell_type": "code",
   "execution_count": 247,
   "metadata": {
    "collapsed": false
   },
   "outputs": [
    {
     "data": {
      "text/plain": [
       "<matplotlib.axes._subplots.AxesSubplot at 0x127cb9fd0>"
      ]
     },
     "execution_count": 247,
     "metadata": {},
     "output_type": "execute_result"
    },
    {
     "data": {
      "image/png": "[encoded data removed]",
      "text/plain": [
       "<matplotlib.figure.Figure at 0x127cc97d0>"
      ]
     },
     "metadata": {},
     "output_type": "display_data"
    }
   ],
   "source": [
    "df2 = pd.DataFrame(df[[\"freqtest\",\"freqall\"]])\n",
    "df2.set_index(df[\"codes\"].values, inplace=True)\n",
    "df2.plot.bar(figsize=(10,5))"
   ]
  },
  {
   "cell_type": "code",
   "execution_count": 252,
   "metadata": {
    "collapsed": false
   },
   "outputs": [
    {
     "data": {
      "text/plain": [
       "<matplotlib.axes._subplots.AxesSubplot at 0x128a78650>"
      ]
     },
     "execution_count": 252,
     "metadata": {},
     "output_type": "execute_result"
    },
    {
     "data": {
      "image/png": "[encoded data removed]",
      "text/plain": [
       "<matplotlib.figure.Figure at 0x1289acd10>"
      ]
     },
     "metadata": {},
     "output_type": "display_data"
    }
   ],
   "source": [
    "df3 = compare_wd_tag_dist(test, causal_codes)\n",
    "df2 = pd.DataFrame(df3[[\"freqtest\",\"freqall\"]])\n",
    "df2.set_index(df3[\"codes\"].values, inplace=True)\n",
    "df2.plot.bar(figsize=(15,8))"
   ]
  },
  {
   "cell_type": "code",
   "execution_count": 254,
   "metadata": {
    "collapsed": true
   },
   "outputs": [],
   "source": [
    "max_value = 10.0\n",
    "def kl2(a,b):\n",
    "    join = zip(a,b)\n",
    "    kl_val_a = 0.0\n",
    "    kl_val_b = 0.0\n",
    "    for pa, pb in join:\n",
    "        if pa == 0.0:\n",
    "            #both 0.0, shouldn't happen\n",
    "            if pb == 0.0:\n",
    "                continue\n",
    "            kl_val_b += max_value\n",
    "        else: #pa > 0.0\n",
    "            if pb == 0.0:\n",
    "                kl_val_a += max_value\n",
    "            else:\n",
    "                kl_val_a += pa*np.log(pa/pb)\n",
    "                kl_val_b += pb*np.log(pb/pa)                \n",
    "    return kl_val_a, kl_val_b"
   ]
  },
  {
   "cell_type": "code",
   "execution_count": 255,
   "metadata": {
    "collapsed": false
   },
   "outputs": [
    {
     "name": "stdout",
     "output_type": "stream",
     "text": [
      "CPU times: user 2min 28s, sys: 462 ms, total: 2min 28s\n",
      "Wall time: 2min 29s\n"
     ]
    }
   ],
   "source": [
    "%%time\n",
    "kl_vals = {}\n",
    "for i in range(10000):\n",
    "    tr, tst = random_splt(essays, n_test)\n",
    "    test_wd_freq, test_sent_freq = compute_tag_distributions(tst, causal_codes)\n",
    "    vals = kl2(wd_tag_freq_causal.values(), test_wd_freq.values())\n",
    "    # map to abs values\n",
    "    vals = list(map(abs, vals))\n",
    "    max_val = max(vals)\n",
    "    kl_vals[max_val] = (tr,tst)\n",
    "\n",
    "# Get best\n",
    "best_kl_causal2, best_split_causl2 = min(kl_vals.items(), key=lambda (k,v): k)\n",
    "best_kl_causal2"
   ]
  },
  {
   "cell_type": "code",
   "execution_count": 257,
   "metadata": {
    "collapsed": false
   },
   "outputs": [
    {
     "data": {
      "text/plain": [
       "0.49708483344214649"
      ]
     },
     "execution_count": 257,
     "metadata": {},
     "output_type": "execute_result"
    }
   ],
   "source": [
    "best_kl_causal2"
   ]
  },
  {
   "cell_type": "code",
   "execution_count": 261,
   "metadata": {
    "collapsed": false
   },
   "outputs": [
    {
     "data": {
      "text/plain": [
       "<matplotlib.axes._subplots.AxesSubplot at 0x1295478d0>"
      ]
     },
     "execution_count": 261,
     "metadata": {},
     "output_type": "execute_result"
    },
    {
     "data": {
      "image/png": "[encoded data removed]",
      "text/plain": [
       "<matplotlib.figure.Figure at 0x129597e90>"
      ]
     },
     "metadata": {},
     "output_type": "display_data"
    }
   ],
   "source": [
    "train, test = best_split_causl2\n",
    "df3 = compare_wd_tag_dist(test, causal_codes)\n",
    "df2 = pd.DataFrame(df3[[\"freqtest\",\"freqall\"]])\n",
    "df2.set_index(df3[\"codes\"].values, inplace=True)\n",
    "df2.plot.bar(figsize=(15,8))"
   ]
  },
  {
   "cell_type": "code",
   "execution_count": null,
   "metadata": {
    "collapsed": true
   },
   "outputs": [],
   "source": []
  }
 ],
 "metadata": {
  "anaconda-cloud": {},
  "kernelspec": {
   "display_name": "Python [conda env:phd]",
   "language": "python",
   "name": "conda-env-phd-py"
  },
  "language_info": {
   "codemirror_mode": {
    "name": "ipython",
    "version": 2
   },
   "file_extension": ".py",
   "mimetype": "text/x-python",
   "name": "python",
   "nbconvert_exporter": "python",
   "pygments_lexer": "ipython2",
   "version": "2.7.13"
  }
 },
 "nbformat": 4,
 "nbformat_minor": 2
}
