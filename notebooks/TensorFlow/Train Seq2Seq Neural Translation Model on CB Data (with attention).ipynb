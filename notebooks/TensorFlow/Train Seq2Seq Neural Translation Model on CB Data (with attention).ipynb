{
 "cells": [
  {
   "cell_type": "markdown",
   "metadata": {
    "deletable": true,
    "editable": true
   },
   "source": [
    "**NOTE** Try the keras models here: https://github.com/codekansas/keras-language-modeling"
   ]
  },
  {
   "cell_type": "code",
   "execution_count": 2,
   "metadata": {
    "collapsed": false,
    "deletable": true,
    "editable": true
   },
   "outputs": [
    {
     "name": "stdout",
     "output_type": "stream",
     "text": [
      "Already up-to-date.\r\n"
     ]
    }
   ],
   "source": [
    "!cd ~/GitHub/tensorflow_models/\n",
    "!git pull"
   ]
  },
  {
   "cell_type": "code",
   "execution_count": 3,
   "metadata": {
    "collapsed": false,
    "deletable": true,
    "editable": true
   },
   "outputs": [
    {
     "name": "stdout",
     "output_type": "stream",
     "text": [
      "\u001b]0;IPython: notebooks/TensorFlow\u0007\u001b[0;31m---------------------------------------------------------------------------\u001b[0m\r\n",
      "\u001b[0;31mImportError\u001b[0m                               Traceback (most recent call last)\r\n",
      "\u001b[0;32m/Users/simon.hughes/anaconda3/envs/tensorflow_gpu/lib/python3.5/site-packages/tensorflow/python/__init__.py\u001b[0m in \u001b[0;36m<module>\u001b[0;34m()\u001b[0m\r\n",
      "\u001b[1;32m     60\u001b[0m     \u001b[0msys\u001b[0m\u001b[0;34m.\u001b[0m\u001b[0msetdlopenflags\u001b[0m\u001b[0;34m(\u001b[0m\u001b[0m_default_dlopen_flags\u001b[0m \u001b[0;34m|\u001b[0m \u001b[0mctypes\u001b[0m\u001b[0;34m.\u001b[0m\u001b[0mRTLD_GLOBAL\u001b[0m\u001b[0;34m)\u001b[0m\u001b[0;34m\u001b[0m\u001b[0m\r\n",
      "\u001b[0;32m---> 61\u001b[0;31m     \u001b[0;32mfrom\u001b[0m \u001b[0mtensorflow\u001b[0m\u001b[0;34m.\u001b[0m\u001b[0mpython\u001b[0m \u001b[0;32mimport\u001b[0m \u001b[0mpywrap_tensorflow\u001b[0m\u001b[0;34m\u001b[0m\u001b[0m\r\n",
      "\u001b[0m\u001b[1;32m     62\u001b[0m     \u001b[0msys\u001b[0m\u001b[0;34m.\u001b[0m\u001b[0msetdlopenflags\u001b[0m\u001b[0;34m(\u001b[0m\u001b[0m_default_dlopen_flags\u001b[0m\u001b[0;34m)\u001b[0m\u001b[0;34m\u001b[0m\u001b[0m\r\n",
      "\r\n",
      "\u001b[0;32m/Users/simon.hughes/anaconda3/envs/tensorflow_gpu/lib/python3.5/site-packages/tensorflow/python/pywrap_tensorflow.py\u001b[0m in \u001b[0;36m<module>\u001b[0;34m()\u001b[0m\r\n",
      "\u001b[1;32m     27\u001b[0m             \u001b[0;32mreturn\u001b[0m \u001b[0m_mod\u001b[0m\u001b[0;34m\u001b[0m\u001b[0m\r\n",
      "\u001b[0;32m---> 28\u001b[0;31m     \u001b[0m_pywrap_tensorflow\u001b[0m \u001b[0;34m=\u001b[0m \u001b[0mswig_import_helper\u001b[0m\u001b[0;34m(\u001b[0m\u001b[0;34m)\u001b[0m\u001b[0;34m\u001b[0m\u001b[0m\r\n",
      "\u001b[0m\u001b[1;32m     29\u001b[0m     \u001b[0;32mdel\u001b[0m \u001b[0mswig_import_helper\u001b[0m\u001b[0;34m\u001b[0m\u001b[0m\r\n",
      "\r\n",
      "\u001b[0;32m/Users/simon.hughes/anaconda3/envs/tensorflow_gpu/lib/python3.5/site-packages/tensorflow/python/pywrap_tensorflow.py\u001b[0m in \u001b[0;36mswig_import_helper\u001b[0;34m()\u001b[0m\r\n",
      "\u001b[1;32m     23\u001b[0m             \u001b[0;32mtry\u001b[0m\u001b[0;34m:\u001b[0m\u001b[0;34m\u001b[0m\u001b[0m\r\n",
      "\u001b[0;32m---> 24\u001b[0;31m                 \u001b[0m_mod\u001b[0m \u001b[0;34m=\u001b[0m \u001b[0mimp\u001b[0m\u001b[0;34m.\u001b[0m\u001b[0mload_module\u001b[0m\u001b[0;34m(\u001b[0m\u001b[0;34m'_pywrap_tensorflow'\u001b[0m\u001b[0;34m,\u001b[0m \u001b[0mfp\u001b[0m\u001b[0;34m,\u001b[0m \u001b[0mpathname\u001b[0m\u001b[0;34m,\u001b[0m \u001b[0mdescription\u001b[0m\u001b[0;34m)\u001b[0m\u001b[0;34m\u001b[0m\u001b[0m\r\n",
      "\u001b[0m\u001b[1;32m     25\u001b[0m             \u001b[0;32mfinally\u001b[0m\u001b[0;34m:\u001b[0m\u001b[0;34m\u001b[0m\u001b[0m\r\n",
      "\r\n",
      "\u001b[0;32m/Users/simon.hughes/anaconda3/envs/tensorflow_gpu/lib/python3.5/imp.py\u001b[0m in \u001b[0;36mload_module\u001b[0;34m(name, file, filename, details)\u001b[0m\r\n",
      "\u001b[1;32m    241\u001b[0m         \u001b[0;32melse\u001b[0m\u001b[0;34m:\u001b[0m\u001b[0;34m\u001b[0m\u001b[0m\r\n",
      "\u001b[0;32m--> 242\u001b[0;31m             \u001b[0;32mreturn\u001b[0m \u001b[0mload_dynamic\u001b[0m\u001b[0;34m(\u001b[0m\u001b[0mname\u001b[0m\u001b[0;34m,\u001b[0m \u001b[0mfilename\u001b[0m\u001b[0;34m,\u001b[0m \u001b[0mfile\u001b[0m\u001b[0;34m)\u001b[0m\u001b[0;34m\u001b[0m\u001b[0m\r\n",
      "\u001b[0m\u001b[1;32m    243\u001b[0m     \u001b[0;32melif\u001b[0m \u001b[0mtype_\u001b[0m \u001b[0;34m==\u001b[0m \u001b[0mPKG_DIRECTORY\u001b[0m\u001b[0;34m:\u001b[0m\u001b[0;34m\u001b[0m\u001b[0m\r\n",
      "\r\n",
      "\u001b[0;32m/Users/simon.hughes/anaconda3/envs/tensorflow_gpu/lib/python3.5/imp.py\u001b[0m in \u001b[0;36mload_dynamic\u001b[0;34m(name, path, file)\u001b[0m\r\n",
      "\u001b[1;32m    341\u001b[0m             name=name, loader=loader, origin=path)\r\n",
      "\u001b[0;32m--> 342\u001b[0;31m         \u001b[0;32mreturn\u001b[0m \u001b[0m_load\u001b[0m\u001b[0;34m(\u001b[0m\u001b[0mspec\u001b[0m\u001b[0;34m)\u001b[0m\u001b[0;34m\u001b[0m\u001b[0m\r\n",
      "\u001b[0m\u001b[1;32m    343\u001b[0m \u001b[0;34m\u001b[0m\u001b[0m\r\n",
      "\r\n",
      "\u001b[0;31mImportError\u001b[0m: dlopen(/Users/simon.hughes/anaconda3/envs/tensorflow_gpu/lib/python3.5/site-packages/tensorflow/python/_pywrap_tensorflow.so, 10): Library not loaded: @rpath/libcudart.8.0.dylib\r\n",
      "  Referenced from: /Users/simon.hughes/anaconda3/envs/tensorflow_gpu/lib/python3.5/site-packages/tensorflow/python/_pywrap_tensorflow.so\r\n",
      "  Reason: image not found\r\n",
      "\r\n",
      "During handling of the above exception, another exception occurred:\r\n",
      "\r\n",
      "\u001b[0;31mImportError\u001b[0m                               Traceback (most recent call last)\r\n",
      "\u001b[0;32m/Users/simon.hughes/GitHub/tensorflow_models/tutorials/rnn/translate/translate.py\u001b[0m in \u001b[0;36m<module>\u001b[0;34m()\u001b[0m\r\n",
      "\u001b[1;32m     41\u001b[0m \u001b[0;32mimport\u001b[0m \u001b[0mnumpy\u001b[0m \u001b[0;32mas\u001b[0m \u001b[0mnp\u001b[0m\u001b[0;34m\u001b[0m\u001b[0m\r\n",
      "\u001b[1;32m     42\u001b[0m \u001b[0;32mfrom\u001b[0m \u001b[0msix\u001b[0m\u001b[0;34m.\u001b[0m\u001b[0mmoves\u001b[0m \u001b[0;32mimport\u001b[0m \u001b[0mxrange\u001b[0m  \u001b[0;31m# pylint: disable=redefined-builtin\u001b[0m\u001b[0;34m\u001b[0m\u001b[0m\r\n",
      "\u001b[0;32m---> 43\u001b[0;31m \u001b[0;32mimport\u001b[0m \u001b[0mtensorflow\u001b[0m \u001b[0;32mas\u001b[0m \u001b[0mtf\u001b[0m\u001b[0;34m\u001b[0m\u001b[0m\r\n",
      "\u001b[0m\u001b[1;32m     44\u001b[0m \u001b[0;34m\u001b[0m\u001b[0m\r\n",
      "\u001b[1;32m     45\u001b[0m \u001b[0;32mimport\u001b[0m \u001b[0mdata_utils\u001b[0m\u001b[0;34m\u001b[0m\u001b[0m\r\n",
      "\r\n",
      "\u001b[0;32m/Users/simon.hughes/anaconda3/envs/tensorflow_gpu/lib/python3.5/site-packages/tensorflow/__init__.py\u001b[0m in \u001b[0;36m<module>\u001b[0;34m()\u001b[0m\r\n",
      "\u001b[1;32m     22\u001b[0m \u001b[0;34m\u001b[0m\u001b[0m\r\n",
      "\u001b[1;32m     23\u001b[0m \u001b[0;31m# pylint: disable=wildcard-import\u001b[0m\u001b[0;34m\u001b[0m\u001b[0;34m\u001b[0m\u001b[0m\r\n",
      "\u001b[0;32m---> 24\u001b[0;31m \u001b[0;32mfrom\u001b[0m \u001b[0mtensorflow\u001b[0m\u001b[0;34m.\u001b[0m\u001b[0mpython\u001b[0m \u001b[0;32mimport\u001b[0m \u001b[0;34m*\u001b[0m\u001b[0;34m\u001b[0m\u001b[0m\r\n",
      "\u001b[0m\u001b[1;32m     25\u001b[0m \u001b[0;31m# pylint: enable=wildcard-import\u001b[0m\u001b[0;34m\u001b[0m\u001b[0;34m\u001b[0m\u001b[0m\r\n",
      "\u001b[1;32m     26\u001b[0m \u001b[0;34m\u001b[0m\u001b[0m\r\n",
      "\r\n",
      "\u001b[0;32m/Users/simon.hughes/anaconda3/envs/tensorflow_gpu/lib/python3.5/site-packages/tensorflow/python/__init__.py\u001b[0m in \u001b[0;36m<module>\u001b[0;34m()\u001b[0m\r\n",
      "\u001b[1;32m     70\u001b[0m \u001b[0;32mfor\u001b[0m \u001b[0msome\u001b[0m \u001b[0mcommon\u001b[0m \u001b[0mreasons\u001b[0m \u001b[0;32mand\u001b[0m \u001b[0msolutions\u001b[0m\u001b[0;34m.\u001b[0m  \u001b[0mInclude\u001b[0m \u001b[0mthe\u001b[0m \u001b[0mentire\u001b[0m \u001b[0mstack\u001b[0m \u001b[0mtrace\u001b[0m\u001b[0;34m\u001b[0m\u001b[0m\r\n",
      "\u001b[1;32m     71\u001b[0m above this error message when asking for help.\"\"\" % traceback.format_exc()\r\n",
      "\u001b[0;32m---> 72\u001b[0;31m   \u001b[0;32mraise\u001b[0m \u001b[0mImportError\u001b[0m\u001b[0;34m(\u001b[0m\u001b[0mmsg\u001b[0m\u001b[0;34m)\u001b[0m\u001b[0;34m\u001b[0m\u001b[0m\r\n",
      "\u001b[0m\u001b[1;32m     73\u001b[0m \u001b[0;34m\u001b[0m\u001b[0m\r\n",
      "\u001b[1;32m     74\u001b[0m \u001b[0;31m# Protocol buffers\u001b[0m\u001b[0;34m\u001b[0m\u001b[0;34m\u001b[0m\u001b[0m\r\n",
      "\r\n",
      "\u001b[0;31mImportError\u001b[0m: Traceback (most recent call last):\r\n",
      "  File \"/Users/simon.hughes/anaconda3/envs/tensorflow_gpu/lib/python3.5/site-packages/tensorflow/python/__init__.py\", line 61, in <module>\r\n",
      "    from tensorflow.python import pywrap_tensorflow\r\n",
      "  File \"/Users/simon.hughes/anaconda3/envs/tensorflow_gpu/lib/python3.5/site-packages/tensorflow/python/pywrap_tensorflow.py\", line 28, in <module>\r\n",
      "    _pywrap_tensorflow = swig_import_helper()\r\n",
      "  File \"/Users/simon.hughes/anaconda3/envs/tensorflow_gpu/lib/python3.5/site-packages/tensorflow/python/pywrap_tensorflow.py\", line 24, in swig_import_helper\r\n",
      "    _mod = imp.load_module('_pywrap_tensorflow', fp, pathname, description)\r\n",
      "  File \"/Users/simon.hughes/anaconda3/envs/tensorflow_gpu/lib/python3.5/imp.py\", line 242, in load_module\r\n",
      "    return load_dynamic(name, filename, file)\r\n",
      "  File \"/Users/simon.hughes/anaconda3/envs/tensorflow_gpu/lib/python3.5/imp.py\", line 342, in load_dynamic\r\n",
      "    return _load(spec)\r\n",
      "ImportError: dlopen(/Users/simon.hughes/anaconda3/envs/tensorflow_gpu/lib/python3.5/site-packages/tensorflow/python/_pywrap_tensorflow.so, 10): Library not loaded: @rpath/libcudart.8.0.dylib\r\n",
      "  Referenced from: /Users/simon.hughes/anaconda3/envs/tensorflow_gpu/lib/python3.5/site-packages/tensorflow/python/_pywrap_tensorflow.so\r\n",
      "  Reason: image not found\r\n",
      "\r\n",
      "\r\n",
      "Failed to load the native TensorFlow runtime.\r\n",
      "\r\n",
      "See https://github.com/tensorflow/tensorflow/blob/master/tensorflow/g3doc/get_started/os_setup.md#import_error\r\n",
      "\r\n",
      "for some common reasons and solutions.  Include the entire stack trace\r\n",
      "above this error message when asking for help.\r\n"
     ]
    }
   ],
   "source": [
    "!ipython /Users/simon.hughes/GitHub/tensorflow_models/tutorials/rnn/translate/translate.py -- \\\n",
    "    --data_dir \"/Users/simon.hughes/data/tensorflow/translate/tmp\" \\\n",
    "    --train_dir \"/Users/simon.hughes/data/tensorflow/translate/tmp\" \\\n",
    "    --from_train_data=\"/Users/simon.hughes/data/tensorflow/translate/cb/Training/inputs.txt\" \\\n",
    "    --to_train_data  =\"/Users/simon.hughes/data/tensorflow/translate/cb/Training/outputs.txt\" \\\n",
    "    --from_dev_data=\"/Users/simon.hughes/data/tensorflow/translate/cb/Test/inputs.txt\" \\\n",
    "    --to_dev_data  =\"/Users/simon.hughes/data/tensorflow/translate/cb/Test/outputs.txt\" \\\n",
    "    --size=256 --num_layers=2 --steps_per_checkpoint=10"
   ]
  },
  {
   "cell_type": "code",
   "execution_count": null,
   "metadata": {
    "collapsed": true,
    "deletable": true,
    "editable": true
   },
   "outputs": [],
   "source": []
  }
 ],
 "metadata": {
  "kernelspec": {
   "display_name": "Python 2",
   "language": "python",
   "name": "python2"
  },
  "language_info": {
   "codemirror_mode": {
    "name": "ipython",
    "version": 2
   },
   "file_extension": ".py",
   "mimetype": "text/x-python",
   "name": "python",
   "nbconvert_exporter": "python",
   "pygments_lexer": "ipython2",
   "version": "2.7.13"
  }
 },
 "nbformat": 4,
 "nbformat_minor": 2
}
