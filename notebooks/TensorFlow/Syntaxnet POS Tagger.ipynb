{
 "cells": [
  {
   "cell_type": "code",
   "execution_count": 11,
   "metadata": {
    "collapsed": false
   },
   "outputs": [
    {
     "name": "stdout",
     "output_type": "stream",
     "text": [
      "/bin/sh: bazel-bin/syntaxnet/parser_trainer: No such file or directory\r\n"
     ]
    }
   ],
   "source": [
    "!cd /Users/simon.hughes/GitHub/tensorflow_models/syntaxnet\n",
    "!bazel-bin/syntaxnet/parser_trainer \\\n",
    "--task_context=/Users/simon.hughes/GitHub/NlpResearch/PythonNlpResearch/DeepLearning/TensorFlow/SyntaxNet/context.pbtxt \\\n",
    "--arg_prefix=brain_pos \\\n",
    "--compute_lexicon \\\n",
    "--graph_builder=greedy \\\n",
    "--training_corpus=training-corpus \\\n",
    "--tuning_corpus=tuning-corpus \\\n",
    "--output_path='/Users/simon.hughes/data/tensorflow/syntaxnet/tagger/cb/models' \\\n",
    "--batch_size=32 \\\n",
    "--decay_steps=3600 \\\n",
    "--hidden_layer_sizes=128 \\\n",
    "--learning_rate=0.08 \\\n",
    "--momentum=0.9 \\\n",
    "--seed=0 \\\n",
    "--params=128-0.08-3600-0.9-0"
   ]
  },
  {
   "cell_type": "code",
   "execution_count": null,
   "metadata": {
    "collapsed": true
   },
   "outputs": [],
   "source": []
  }
 ],
 "metadata": {
  "kernelspec": {
   "display_name": "Python 2",
   "language": "python",
   "name": "python2"
  },
  "language_info": {
   "codemirror_mode": {
    "name": "ipython",
    "version": 2
   },
   "file_extension": ".py",
   "mimetype": "text/x-python",
   "name": "python",
   "nbconvert_exporter": "python",
   "pygments_lexer": "ipython2",
   "version": "2.7.13"
  }
 },
 "nbformat": 4,
 "nbformat_minor": 2
}
