{
 "cells": [
  {
   "cell_type": "markdown",
   "metadata": {},
   "source": [
    "# Load the Essay Data"
   ]
  },
  {
   "cell_type": "code",
   "execution_count": 9,
   "metadata": {
    "collapsed": true
   },
   "outputs": [],
   "source": [
    "from BrattEssay import load_bratt_essays\n",
    "from collections import defaultdict\n",
    "from IterableFP import flatten\n",
    "from Settings import Settings\n",
    "\n",
    "import pickle\n",
    "\n",
    "import torch\n",
    "from torch import nn\n",
    "from torch import autograd, optim\n",
    "import torch.nn.functional as F"
   ]
  },
  {
   "cell_type": "code",
   "execution_count": 7,
   "metadata": {
    "collapsed": false
   },
   "outputs": [
    {
     "name": "stdout",
     "output_type": "stream",
     "text": [
      "Results Dir: /Users/simon.hughes/Google Drive/Phd/Results/\n",
      "Data Dir:    /Users/simon.hughes/Google Drive/Phd/Data/\n",
      "Root Dir:    /Users/simon.hughes/GitHub/NlpResearch/\n",
      "Public Data: /Users/simon.hughes/GitHub/NlpResearch/Data/PublicDatasets/\n"
     ]
    }
   ],
   "source": [
    "settings = Settings()\n",
    "\n",
    "root_folder      = settings.data_directory + \"CoralBleaching/Thesis_Dataset/\"\n",
    "training_folder  = root_folder + \"Training\" + \"/\"\n",
    "training_pickled = settings.data_directory + \"CoralBleaching/Thesis_Dataset/training.pl\""
   ]
  },
  {
   "cell_type": "code",
   "execution_count": 8,
   "metadata": {
    "collapsed": false
   },
   "outputs": [
    {
     "data": {
      "text/plain": [
       "902"
      ]
     },
     "execution_count": 8,
     "metadata": {},
     "output_type": "execute_result"
    }
   ],
   "source": [
    "with open(training_pickled, \"rb+\") as f:\n",
    "    tagged_essays = pickle.load(f)\n",
    "len(tagged_essays)"
   ]
  },
  {
   "cell_type": "markdown",
   "metadata": {
    "collapsed": true
   },
   "source": [
    "## Prepare Tags"
   ]
  },
  {
   "cell_type": "code",
   "execution_count": 10,
   "metadata": {
    "collapsed": false
   },
   "outputs": [
    {
     "data": {
      "text/plain": [
       "1641"
      ]
     },
     "execution_count": 10,
     "metadata": {},
     "output_type": "execute_result"
    }
   ],
   "source": [
    "tag_freq = defaultdict(int)\n",
    "unique_words = set()\n",
    "for essay in tagged_essays:\n",
    "    for sentence in essay.sentences:\n",
    "        for word, tags in sentence:\n",
    "            unique_words.add(word)\n",
    "            for tag in tags:\n",
    "                tag_freq[tag] += 1\n",
    "\n",
    "EMPTY_TAG = \"Empty\"\n",
    "regular_tags = list((t for t in tag_freq.keys() if t[0].isdigit()))\n",
    "vtags = set(regular_tags)\n",
    "vtags.add(EMPTY_TAG)\n",
    "\n",
    "len(unique_words)"
   ]
  },
  {
   "cell_type": "markdown",
   "metadata": {},
   "source": [
    "## Words To Ids"
   ]
  },
  {
   "cell_type": "code",
   "execution_count": 45,
   "metadata": {
    "collapsed": false
   },
   "outputs": [],
   "source": [
    "from collections import defaultdict\n",
    "\n",
    "word_to_ix = {}\n",
    "tag_to_ix = {}\n",
    "\n",
    "#pre-compute id sequences so we don't have to remap each time\n",
    "#xs\n",
    "wd_id_seqs  = []\n",
    "#ys\n",
    "tag_id_seqs = []\n",
    "# for computing accuracy\n",
    "tag_seqs    = []\n",
    "\n",
    "START = \"<start>\"\n",
    "END   = \"<end>\"\n",
    "\n",
    "for essay in tagged_essays:\n",
    "    for sentence in essay.sentences:\n",
    "        \n",
    "        wd_ids = []\n",
    "        tag_ids = []\n",
    "        tag_seq = []\n",
    "        \n",
    "        wd_id_seqs.append(wd_ids)\n",
    "        tag_id_seqs.append(tag_ids)\n",
    "        tag_seqs.append(tag_seq)\n",
    "        \n",
    "        for word, tags in [(START, set())] + sentence + [(END, set())]:\n",
    "            if word not in word_to_ix:\n",
    "                word_to_ix[word] = len(word_to_ix)\n",
    "            wd_ids.append(word_to_ix[word])\n",
    "            \n",
    "            tags = vtags.intersection(tags)\n",
    "            if len(tags) > 1:\n",
    "                tag = max(tags, key=lambda t: tag_freq[t])                \n",
    "            else:\n",
    "                tag = EMPTY_TAG\n",
    "            if tag not in tag_to_ix:\n",
    "                tag_to_ix[tag] = len(tag_to_ix)\n",
    "            tag_ids.append(tag_to_ix[tag])\n",
    "            tag_seq.append(tag)\n",
    "            \n",
    "# invert the dictionary\n",
    "ix_to_tag  = dict(zip(tag_to_ix.values(),  tag_to_ix.keys()))\n",
    "ix_to_word = dict(zip(word_to_ix.values(), word_to_ix.keys()))\n",
    "\n",
    "len(tag_id_seqs), len(wd_id_seqs)\n",
    "wd_seq_lens  = np.asarray(list(map(len, wd_id_seqs)))\n",
    "tag_seq_lens = np.asarray(list(map(len, tag_id_seqs)))\n",
    "assert set(wd_seq_lens == tag_seq_lens) == set([True]), \"Sequence lengths must match\""
   ]
  },
  {
   "cell_type": "markdown",
   "metadata": {},
   "source": [
    "## Train\\Test Split"
   ]
  },
  {
   "cell_type": "code",
   "execution_count": 22,
   "metadata": {
    "collapsed": false
   },
   "outputs": [
    {
     "data": {
      "text/plain": [
       "(6633, 1659, 6633, 1659)"
      ]
     },
     "execution_count": 22,
     "metadata": {},
     "output_type": "execute_result"
    }
   ],
   "source": [
    "#20% split\n",
    "test_split = 0.2\n",
    "train_size = int((1-test_split) * len(wd_id_seqs))\n",
    "\n",
    "train_xs,   test_xs   = wd_id_seqs[:train_size],  wd_id_seqs[train_size:]\n",
    "train_tags, test_tags = tag_id_seqs[:train_size], tag_id_seqs[train_size:]\n",
    "len(train_xs), len(test_xs), len(train_tags), len(test_tags)"
   ]
  },
  {
   "cell_type": "markdown",
   "metadata": {},
   "source": [
    "## Model"
   ]
  },
  {
   "cell_type": "code",
   "execution_count": 11,
   "metadata": {
    "collapsed": false
   },
   "outputs": [],
   "source": [
    "# These will usually be more like 32 or 64 dimensional.\n",
    "# We will keep them small, so we can see how the weights change as we train.\n",
    "EMBEDDING_DIM = 100\n",
    "HIDDEN_DIM = 128"
   ]
  },
  {
   "cell_type": "code",
   "execution_count": 23,
   "metadata": {
    "collapsed": true
   },
   "outputs": [],
   "source": [
    "class LSTMTagger(nn.Module):\n",
    "    \n",
    "    def __init__(self, embedding_dim, hidden_dim, vocab_size, tagset_size):\n",
    "        super(LSTMTagger, self).__init__()\n",
    "        self.hidden_dim = hidden_dim\n",
    "        \n",
    "        self.word_embeddings = nn.Embedding(vocab_size, embedding_dim)\n",
    "        \n",
    "        # The LSTM takes word embeddings as inputs, and outputs hidden states\n",
    "        # with dimensionality hidden_dim.\n",
    "        self.lstm = nn.LSTM(embedding_dim, hidden_dim)\n",
    "        \n",
    "        # The linear layer that maps from hidden state space to tag space\n",
    "        self.hidden2tag = nn.Linear(hidden_dim, tagset_size)\n",
    "        self.hidden = self.init_hidden()\n",
    "        \n",
    "    def init_hidden(self):\n",
    "        # Before we've done anything, we dont have any hidden state.\n",
    "        # Refer to the Pytorch documentation to see exactly why they have this dimensionality.\n",
    "        # The axes semantics are (num_layers, minibatch_size, hidden_dim)\n",
    "        return (autograd.Variable(torch.Tensor(1, 1, self.hidden_dim)),\n",
    "                autograd.Variable(torch.Tensor(1, 1, self.hidden_dim)))\n",
    "        \n",
    "    def forward(self, sentence):\n",
    "        embeds = self.word_embeddings(sentence)\n",
    "        lstm_out, self.hidden = self.lstm(embeds.view(len(sentence), 1, -1))\n",
    "        tag_space = self.hidden2tag(lstm_out.view(len(sentence), -1))\n",
    "        tag_scores = F.log_softmax(tag_space)\n",
    "        return tag_scores"
   ]
  },
  {
   "cell_type": "markdown",
   "metadata": {},
   "source": [
    "## To and From Ids"
   ]
  },
  {
   "cell_type": "code",
   "execution_count": 46,
   "metadata": {
    "collapsed": false
   },
   "outputs": [
    {
     "data": {
      "text/plain": [
       "['Empty',\n",
       " 'Empty',\n",
       " 'Empty',\n",
       " 'Empty',\n",
       " 'Empty',\n",
       " 'Empty',\n",
       " 'Empty',\n",
       " 'Empty',\n",
       " 'Empty',\n",
       " 'Empty',\n",
       " 'Empty',\n",
       " 'Empty',\n",
       " 'Empty']"
      ]
     },
     "execution_count": 46,
     "metadata": {},
     "output_type": "execute_result"
    }
   ],
   "source": [
    "def prepare_id_sequence(id_seq):\n",
    "    tensor = torch.LongTensor(id_seq)\n",
    "    return autograd.Variable(tensor)\n",
    "\n",
    "def prepare_sequence(seq, to_ix):\n",
    "    idxs = list(map(lambda w: to_ix[w], seq))\n",
    "    return prepare_id_sequence(idxs, to_ix)\n",
    "\n",
    "def argmax(vec):\n",
    "    # return the argmax as a list of python ints\n",
    "    _, ixs = torch.max(vec, 1)\n",
    "    return ixs.view(-1).data.tolist()\n",
    "\n",
    "def map_to(vals, to_other_val):\n",
    "    return list(map(lambda v: to_other_val[v], vals))\n",
    "\n",
    "def to_tags(scores, to_tag):\n",
    "    ids = argmax(scores)\n",
    "    return map_to(ids, to_tag)\n",
    "\n",
    "to_tags(tag_scores, ix_to_tag)"
   ]
  },
  {
   "cell_type": "code",
   "execution_count": 63,
   "metadata": {
    "collapsed": false
   },
   "outputs": [],
   "source": [
    "model = LSTMTagger(EMBEDDING_DIM, HIDDEN_DIM, len(word_to_ix), len(tag_to_ix))\n",
    "loss_function = nn.NLLLoss()\n",
    "#optimizer = optim.SGD(model.parameters(), lr=0.1)\n",
    "optimizer = optim.Adam(model.parameters(), lr=0.1)"
   ]
  },
  {
   "cell_type": "code",
   "execution_count": 64,
   "metadata": {
    "collapsed": false
   },
   "outputs": [
    {
     "name": "stdout",
     "output_type": "stream",
     "text": [
      "Variable containing:\n",
      "-1.5794 -1.5555 -1.6675 -1.6013 -1.6479\n",
      "-1.5386 -1.5978 -1.7189 -1.6167 -1.5839\n",
      "-1.5793 -1.5543 -1.7603 -1.6261 -1.5425\n",
      "-1.5910 -1.6069 -1.6120 -1.7206 -1.5263\n",
      "-1.5610 -1.6532 -1.5819 -1.7082 -1.5519\n",
      "-1.5518 -1.6337 -1.6723 -1.6566 -1.5403\n",
      "-1.6097 -1.5640 -1.7140 -1.5439 -1.6242\n",
      "-1.6030 -1.6098 -1.5694 -1.6509 -1.6159\n",
      "-1.6333 -1.5828 -1.5434 -1.6430 -1.6488\n",
      "-1.5716 -1.6698 -1.5252 -1.7354 -1.5602\n",
      "-1.5349 -1.6556 -1.4689 -1.7087 -1.7023\n",
      "-1.5445 -1.6405 -1.4832 -1.7611 -1.6402\n",
      "-1.5610 -1.6171 -1.5855 -1.6137 -1.6735\n",
      "[torch.FloatTensor of size 13x5]\n",
      "\n"
     ]
    }
   ],
   "source": [
    "# See what the scores are before training\n",
    "# Note that element i,j of the output is the score for tag j for word i.\n",
    "#inputs = prepare_sequence(train_xs[0], word_to_ix)\n",
    "inputs = prepare_id_sequence(train_xs[0])\n",
    "tag_scores = model(inputs)\n",
    "print(tag_scores)"
   ]
  },
  {
   "cell_type": "code",
   "execution_count": null,
   "metadata": {
    "collapsed": false
   },
   "outputs": [
    {
     "name": "stdout",
     "output_type": "stream",
     "text": [
      "Epoch=0\n",
      "Epoch=1\n"
     ]
    }
   ],
   "source": [
    "%%time\n",
    "from numpy.random import shuffle\n",
    "#TODO - shuffle on each epoch\n",
    "#TODO - prepare the sequences once only\n",
    "for epoch in range(100): # again, normally you would NOT do 300 epochs, it is toy data\n",
    "    print(\"Epoch={epoch}\".format(epoch=epoch))\n",
    "    ixs = list(range(len(train_xs)))\n",
    "    # shuffle order of sequences\n",
    "    shuffle(ixs)\n",
    "    for ix in ixs:\n",
    "        sentence, tags = train_xs[ix], train_tags[ix]\n",
    "        # Step 1. Remember that Pytorch accumulates gradients.  We need to clear them out\n",
    "        # before each instance\n",
    "        model.zero_grad()\n",
    "    \n",
    "        # Step 2. Get our inputs ready for the network, that is, turn them into Variables\n",
    "        # of word indices.\n",
    "        sentence_in = prepare_id_sequence(sentence)\n",
    "        targets = prepare_id_sequence(tags)\n",
    "    \n",
    "        # Step 3. Run our forward pass.\n",
    "        tag_scores = model(sentence_in)\n",
    "    \n",
    "        # Step 4. Compute the loss, gradients, and update the parameters by calling\n",
    "        # optimizer.step()\n",
    "        loss = loss_function(tag_scores, targets)\n",
    "        loss.backward()\n",
    "        optimizer.step()"
   ]
  },
  {
   "cell_type": "code",
   "execution_count": 49,
   "metadata": {
    "collapsed": false
   },
   "outputs": [
    {
     "name": "stdout",
     "output_type": "stream",
     "text": [
      "Variable containing:\n",
      "-3.4429e-05 -1.1487e+01 -1.1858e+01 -1.1737e+01 -1.1609e+01\n",
      "-2.9907e-05 -1.1663e+01 -1.1913e+01 -1.1946e+01 -1.1722e+01\n",
      "-9.8127e-06 -1.2718e+01 -1.3139e+01 -1.3063e+01 -1.2812e+01\n",
      "-4.5709e-06 -1.3482e+01 -1.3837e+01 -1.3908e+01 -1.3564e+01\n",
      "-4.1281e-06 -1.3638e+01 -1.3932e+01 -1.3957e+01 -1.3654e+01\n",
      "-2.2053e-06 -1.4173e+01 -1.4577e+01 -1.4622e+01 -1.4339e+01\n",
      "-2.3518e-05 -1.1820e+01 -1.2360e+01 -1.2315e+01 -1.1815e+01\n",
      "-1.0255e-05 -1.2685e+01 -1.3148e+01 -1.3045e+01 -1.2701e+01\n",
      "-1.1635e-04 -1.0442e+01 -1.0636e+01 -1.0638e+01 -1.0148e+01\n",
      "-1.5191e-04 -9.8049e+00 -1.0487e+01 -1.0449e+01 -1.0130e+01\n",
      "-2.5109e-05 -1.1695e+01 -1.2250e+01 -1.2296e+01 -1.1812e+01\n",
      "-3.4449e-06 -1.3621e+01 -1.4161e+01 -1.4170e+01 -1.4014e+01\n",
      "-3.6310e-06 -1.3664e+01 -1.4031e+01 -1.4096e+01 -1.3915e+01\n",
      "[torch.FloatTensor of size 13x5]\n",
      "\n"
     ]
    }
   ],
   "source": [
    "# See what the scores are after training\n",
    "inputs = prepare_id_sequence(train_xs[0])\n",
    "tag_scores = model(inputs)\n",
    "print(tag_scores)"
   ]
  },
  {
   "cell_type": "code",
   "execution_count": 60,
   "metadata": {
    "collapsed": false
   },
   "outputs": [
    {
     "data": {
      "text/plain": [
       "[('<start>', 'Empty'),\n",
       " ('what', 'Empty'),\n",
       " ('leads', 'Empty'),\n",
       " ('to', 'Empty'),\n",
       " ('different', 'Empty'),\n",
       " ('in', 'Empty'),\n",
       " ('the', 'Empty'),\n",
       " ('rates', 'Empty'),\n",
       " ('of', 'Empty'),\n",
       " ('coral', 'Empty'),\n",
       " ('bleaching', 'Empty'),\n",
       " ('is', 'Empty'),\n",
       " ('that', 'Empty'),\n",
       " ('INFREQUENT', 'Empty'),\n",
       " ('different', 'Empty'),\n",
       " ('types', 'Empty'),\n",
       " ('of', 'Empty'),\n",
       " ('INFREQUENT', 'Empty'),\n",
       " ('living', 'Empty'),\n",
       " ('within', 'Empty'),\n",
       " ('the', 'Empty'),\n",
       " ('coral', 'Empty'),\n",
       " ('polyps', 'Empty'),\n",
       " ('gives', 'Empty'),\n",
       " ('the', 'Empty'),\n",
       " ('coral', 'Empty'),\n",
       " ('their', 'Empty'),\n",
       " ('varying', 'Empty'),\n",
       " ('colors', 'Empty'),\n",
       " ('.', 'Empty'),\n",
       " ('<end>', 'Empty')]"
      ]
     },
     "execution_count": 60,
     "metadata": {},
     "output_type": "execute_result"
    }
   ],
   "source": [
    "ix = 10\n",
    "inputs = prepare_id_sequence(train_xs[ix])\n",
    "tag_scores = model(inputs)\n",
    "\n",
    "list(zip(map_to(train_xs[ix],ix_to_word),to_tags(tag_scores, ix_to_tag)))"
   ]
  },
  {
   "cell_type": "code",
   "execution_count": 42,
   "metadata": {
    "collapsed": true
   },
   "outputs": [],
   "source": [
    "from collections import defaultdict\n",
    "\n",
    "def to_ys_by_code(seq_tags):\n",
    "    ys_by_tag = defaultdict(list)\n",
    "    for seq in seq_tags:\n",
    "        for tag in seq:\n",
    "            ys_by_tag[tag].append(1)\n",
    "            for vtag in vtags:\n",
    "                if tag != vtag:\n",
    "                    ys_by_tag.append(0)\n",
    "    return ys_by_tag"
   ]
  },
  {
   "cell_type": "markdown",
   "metadata": {},
   "source": [
    "## TODO - prepare the sequences as Tensors once only\n",
    "## TODO - use a better optimizer - ADAM maybe?"
   ]
  },
  {
   "cell_type": "code",
   "execution_count": null,
   "metadata": {
    "collapsed": true
   },
   "outputs": [],
   "source": []
  }
 ],
 "metadata": {
  "kernelspec": {
   "display_name": "Python 3",
   "language": "python",
   "name": "python3"
  },
  "language_info": {
   "codemirror_mode": {
    "name": "ipython",
    "version": 3
   },
   "file_extension": ".py",
   "mimetype": "text/x-python",
   "name": "python",
   "nbconvert_exporter": "python",
   "pygments_lexer": "ipython3",
   "version": "3.5.3"
  }
 },
 "nbformat": 4,
 "nbformat_minor": 2
}
