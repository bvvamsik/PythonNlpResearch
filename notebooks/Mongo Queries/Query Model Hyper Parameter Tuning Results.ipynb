{
 "cells": [
  {
   "cell_type": "code",
   "execution_count": 5,
   "metadata": {
    "collapsed": true
   },
   "outputs": [],
   "source": [
    "%matplotlib inline\n",
    "import numpy as np\n",
    "import pandas as pd\n",
    "import matplotlib as mpl\n",
    "import matplotlib.pyplot as plt\n",
    "import seaborn as sns\n",
    "import pymongo"
   ]
  },
  {
   "cell_type": "code",
   "execution_count": 6,
   "metadata": {
    "collapsed": true
   },
   "outputs": [],
   "source": [
    "def group_by(df, bycols, agg_map):\n",
    "    \"\"\"\n",
    "\n",
    "    @param df:      DataFrame\n",
    "    @param bycols:  str or list\n",
    "                        Column(s) to group by\n",
    "    @param agg_map: dictionary or list of 2-tuples\n",
    "                        Mapping from column to aggregate function e.g. [(\"city\", \"count\"), (\"salary\", \"mean\"]\n",
    "    @return:        DataFrame\n",
    "                        Flattened dataframe, with multi-level index removed\n",
    "    \"\"\"\n",
    "    grps = []\n",
    "    if type(bycols) == str:\n",
    "        bycols = [bycols]\n",
    "\n",
    "    if type(agg_map) == dict:\n",
    "        agg_map = agg_map.items()\n",
    "\n",
    "    for k,v in agg_map:\n",
    "        grp = df[bycols + [k]].groupby(bycols, ).agg(v)\n",
    "        grp.reset_index(inplace=True)\n",
    "        grp[\"%s(%s)\" % (v,k)] = grp[k]\n",
    "        del grp[k]\n",
    "        grps.append(grp)\n",
    "\n",
    "    m = grps[0]\n",
    "    for grp in grps[1:]:\n",
    "        m = pd.merge(m, grp, on=bycols, how=\"inner\")\n",
    "    return m"
   ]
  },
  {
   "cell_type": "code",
   "execution_count": 8,
   "metadata": {
    "collapsed": false
   },
   "outputs": [
    {
     "data": {
      "text/plain": [
       "[Collection(Database(MongoClient(host=['localhost:27017'], document_class=dict, tz_aware=False, connect=True), u'metrics'), u'CB_TAGGING_TD_CRF_LBL_POWERSET_HYPERPARAM_OPT'),\n",
       " Collection(Database(MongoClient(host=['localhost:27017'], document_class=dict, tz_aware=False, connect=True), u'metrics'), u'CB_TAGGING_VD_CRF_LBL_POWERSET_HYPERPARAM_OPT'),\n",
       " Collection(Database(MongoClient(host=['localhost:27017'], document_class=dict, tz_aware=False, connect=True), u'metrics'), u'SC_TAGGING_TD_CRF_LBL_POWERSET_HYPERPARAM_OPT'),\n",
       " Collection(Database(MongoClient(host=['localhost:27017'], document_class=dict, tz_aware=False, connect=True), u'metrics'), u'SC_TAGGING_VD_CRF_LBL_POWERSET_HYPERPARAM_OPT')]"
      ]
     },
     "execution_count": 8,
     "metadata": {},
     "output_type": "execute_result"
    }
   ],
   "source": [
    "client = pymongo.MongoClient()\n",
    "db = client.metrics\n",
    "\n",
    "model = \"CRF_LBL_POWERSET_HYPERPARAM_OPT\"\n",
    "\n",
    "cb_td, cb_vd, sc_td, sc_vd = \"CB_TAGGING_TD_\" + model, \"CB_TAGGING_VD_\" + model, \"SC_TAGGING_TD_\" + model, \"SC_TAGGING_VD_\" + model\n",
    "cb_td, cb_vd, sc_td, sc_vd = db[cb_td], db[cb_vd], db[sc_td], db[sc_vd]\n",
    "\n",
    "collections = [cb_td, cb_vd, sc_td, sc_vd]\n",
    "collections"
   ]
  },
  {
   "cell_type": "code",
   "execution_count": 116,
   "metadata": {
    "collapsed": false
   },
   "outputs": [
    {
     "data": {
      "text/html": [
       "<div>\n",
       "<table border=\"1\" class=\"dataframe\">\n",
       "  <thead>\n",
       "    <tr style=\"text-align: right;\">\n",
       "      <th></th>\n",
       "      <th>count</th>\n",
       "      <th>micro_f1_score</th>\n",
       "      <th>feature_possible_states</th>\n",
       "      <th>feature_possible_transitions</th>\n",
       "      <th>c2</th>\n",
       "    </tr>\n",
       "  </thead>\n",
       "  <tbody>\n",
       "    <tr>\n",
       "      <th>0</th>\n",
       "      <td>6</td>\n",
       "      <td>0.829887</td>\n",
       "      <td>False</td>\n",
       "      <td>True</td>\n",
       "      <td>1.0</td>\n",
       "    </tr>\n",
       "    <tr>\n",
       "      <th>1</th>\n",
       "      <td>6</td>\n",
       "      <td>0.829362</td>\n",
       "      <td>False</td>\n",
       "      <td>False</td>\n",
       "      <td>1.0</td>\n",
       "    </tr>\n",
       "    <tr>\n",
       "      <th>2</th>\n",
       "      <td>6</td>\n",
       "      <td>0.828921</td>\n",
       "      <td>False</td>\n",
       "      <td>True</td>\n",
       "      <td>0.5</td>\n",
       "    </tr>\n",
       "    <tr>\n",
       "      <th>3</th>\n",
       "      <td>6</td>\n",
       "      <td>0.827848</td>\n",
       "      <td>False</td>\n",
       "      <td>True</td>\n",
       "      <td>2.0</td>\n",
       "    </tr>\n",
       "    <tr>\n",
       "      <th>4</th>\n",
       "      <td>6</td>\n",
       "      <td>0.826696</td>\n",
       "      <td>False</td>\n",
       "      <td>False</td>\n",
       "      <td>0.1</td>\n",
       "    </tr>\n",
       "    <tr>\n",
       "      <th>5</th>\n",
       "      <td>6</td>\n",
       "      <td>0.826487</td>\n",
       "      <td>False</td>\n",
       "      <td>True</td>\n",
       "      <td>0.1</td>\n",
       "    </tr>\n",
       "    <tr>\n",
       "      <th>6</th>\n",
       "      <td>6</td>\n",
       "      <td>0.825993</td>\n",
       "      <td>False</td>\n",
       "      <td>True</td>\n",
       "      <td>3.0</td>\n",
       "    </tr>\n",
       "    <tr>\n",
       "      <th>7</th>\n",
       "      <td>6</td>\n",
       "      <td>0.823951</td>\n",
       "      <td>False</td>\n",
       "      <td>True</td>\n",
       "      <td>4.0</td>\n",
       "    </tr>\n",
       "    <tr>\n",
       "      <th>8</th>\n",
       "      <td>6</td>\n",
       "      <td>0.823901</td>\n",
       "      <td>False</td>\n",
       "      <td>True</td>\n",
       "      <td>5.0</td>\n",
       "    </tr>\n",
       "    <tr>\n",
       "      <th>9</th>\n",
       "      <td>6</td>\n",
       "      <td>0.816441</td>\n",
       "      <td>False</td>\n",
       "      <td>False</td>\n",
       "      <td>10.0</td>\n",
       "    </tr>\n",
       "    <tr>\n",
       "      <th>10</th>\n",
       "      <td>6</td>\n",
       "      <td>0.816386</td>\n",
       "      <td>False</td>\n",
       "      <td>True</td>\n",
       "      <td>10.0</td>\n",
       "    </tr>\n",
       "    <tr>\n",
       "      <th>11</th>\n",
       "      <td>6</td>\n",
       "      <td>0.727121</td>\n",
       "      <td>False</td>\n",
       "      <td>True</td>\n",
       "      <td>100.0</td>\n",
       "    </tr>\n",
       "    <tr>\n",
       "      <th>12</th>\n",
       "      <td>6</td>\n",
       "      <td>0.725274</td>\n",
       "      <td>False</td>\n",
       "      <td>False</td>\n",
       "      <td>100.0</td>\n",
       "    </tr>\n",
       "  </tbody>\n",
       "</table>\n",
       "</div>"
      ],
      "text/plain": [
       "    count  micro_f1_score feature_possible_states  \\\n",
       "0       6        0.829887                   False   \n",
       "1       6        0.829362                   False   \n",
       "2       6        0.828921                   False   \n",
       "3       6        0.827848                   False   \n",
       "4       6        0.826696                   False   \n",
       "5       6        0.826487                   False   \n",
       "6       6        0.825993                   False   \n",
       "7       6        0.823951                   False   \n",
       "8       6        0.823901                   False   \n",
       "9       6        0.816441                   False   \n",
       "10      6        0.816386                   False   \n",
       "11      6        0.727121                   False   \n",
       "12      6        0.725274                   False   \n",
       "\n",
       "   feature_possible_transitions     c2  \n",
       "0                          True    1.0  \n",
       "1                         False    1.0  \n",
       "2                          True    0.5  \n",
       "3                          True    2.0  \n",
       "4                         False    0.1  \n",
       "5                          True    0.1  \n",
       "6                          True    3.0  \n",
       "7                          True    4.0  \n",
       "8                          True    5.0  \n",
       "9                         False   10.0  \n",
       "10                         True   10.0  \n",
       "11                         True  100.0  \n",
       "12                        False  100.0  "
      ]
     },
     "execution_count": 116,
     "metadata": {},
     "output_type": "execute_result"
    }
   ],
   "source": [
    "from pprint import pprint\n",
    "from bson.son import SON # needed to ensure dictionary is ordered (python default is not)\n",
    "\n",
    "import hashlib\n",
    "\n",
    "def hash_feats(fts):\n",
    "    vals = fts.values\n",
    "    joined = \"|\".join(map(str,vals))\n",
    "    return hashlib.sha224(joined).hexdigest()\n",
    "\n",
    "def get_df_sorted_by_f1score(collection, params=None):\n",
    "    if not params:\n",
    "        params = []\n",
    "    if type(params) == str:\n",
    "        params = params.split(\",\")\n",
    "    \n",
    "    project = {\n",
    "            \"weighted_f1_score\":\"$WEIGHTED_MEAN_CONCEPT_CODES.f1_score\",\n",
    "            \"micro_f1_score\":  \"$MICRO_F1.f1_score\",\n",
    "            \"micro_recall\":    \"$MICRO_F1.recall\",\n",
    "            \"micro_precision\": \"$MICRO_F1.precision\",\n",
    "    # PARAMETERS            \n",
    "            \"window_size\":    \"$parameters.window_size\",\n",
    "            #\"feature_possible_states\"      : \"$parameters.feature_possible_states\",\n",
    "            #\"feature_possible_transitions\" : \"$parameters.feature_possible_transitions\",\n",
    "            #\"c2\" :            \"$parameters.c2\",\n",
    "            \"feats\":          \"$parameters.extractors\",\n",
    "            #\"params\":        \"$parameters\",\n",
    "            \"count\": {        \"$size\" : \"$parameters.extractors\" },\n",
    "            \"asof\" :          \"$asof\",\n",
    "            \"_id\":1\n",
    "    }\n",
    "    for param in params:\n",
    "        project[param] = \"$parameters.\" + param\n",
    "\n",
    "    feats_pipeline = [{\n",
    "        \"$project\": project\n",
    "    },\n",
    "    {\n",
    "        \"$match\":{\n",
    "            \"micro_f1_score\": { \"$exists\" : True }        \n",
    "        }\n",
    "    },\n",
    "    {\n",
    "        \"$sort\":{\n",
    "            \"micro_f1_score\": -1\n",
    "        }\n",
    "    },\n",
    "    ]\n",
    "    \n",
    "    rows = [row for row in db[collection].aggregate(feats_pipeline)]\n",
    "    df = pd.DataFrame(rows).sort_values(\"micro_f1_score\", ascending=False)\n",
    "    if params:\n",
    "        df[\"hs_params\"] = df[params].apply(hash_feats, axis=1)\n",
    "    return df\n",
    "\n",
    "cols = \"count,micro_f1_score,feature_possible_states,feature_possible_transitions,c2\".split(\",\")\n",
    "df = get_df_sorted_by_f1score(\"CB_TAGGING_VD_CRF_LBL_POWERSET_HYPERPARAM_OPT\",\n",
    "                         \"feature_possible_states,feature_possible_transitions,c2\".split(\",\"))\n",
    "df[cols]"
   ]
  },
  {
   "cell_type": "code",
   "execution_count": 117,
   "metadata": {
    "collapsed": false
   },
   "outputs": [
    {
     "data": {
      "text/plain": [
       "6989d0cf246f3bece8a1e87fcbf614e43e21feea60b5b44940dd6a23    2\n",
       "7f0a96fda2ae0875792ae14fce12cfe6d3a9c5e8f08616ca1e18ac68    1\n",
       "6d294ca66dad7c2957ee0a439357e8b784d0a9a23db30f9c5c32e0fc    1\n",
       "a7e34bc128be49015484a2803157e647da1df2b9a34758b7b714bd69    1\n",
       "8bb06aad8c2f2c24fc0b755e4889492dd12bbab4cb2c9c4280c8097f    1\n",
       "d23e22c652eb0bf03349a5ee523dd1dd782332e9c7083b52e34e86ff    1\n",
       "cb04724fb2be2bbb37e8eb16100d53eb054ff3091ee9c6b29d99107e    1\n",
       "9522e1be4dc132575d87e0ad8fb6c52e430b1c6fedcd4ba7dcf2040d    1\n",
       "6df2271cb60bd5708083a373b39910a842573f7349840c477d4034d8    1\n",
       "1c0078ca5dc9dcc2e1b58c920ecea9fcd609d20eec07c7a4e2de19d1    1\n",
       "ac1f5f3d41cf9464751808636031a972499746b8cd7664015c8723ee    1\n",
       "709ad79abc4fa79c8f70314acbd828b2f72661f9bbccf6a688132683    1\n",
       "549cf73100940b34b184f0c2bc1733662af22d56c9951693b986cb62    1\n",
       "62671cd202235a7b5c34ba29edd1e6c6162f10040cbaa4691c524ca8    1\n",
       "3e1de563fbf3f2d25013b01d3a1a5c8ad55aa6c7801308aa62d34313    1\n",
       "3529c6512558b4ca164b679a246e7fcc8b9768b63381b3cd63bb2c9e    1\n",
       "d6917f70e519328266aa924fb1a7b436a83bc65a3ac85ec40cd0013e    1\n",
       "23426360dddef273a4970971963ca808c146d63ee0d9d3c0ced1f6f8    1\n",
       "8b840a22456da74ec2de9db9009b5ca595fba8da272030b2e79a9cf2    1\n",
       "d3b0372b6b9006385a6011ffe95ef4f000d7679b349474d2c0c03a0c    1\n",
       "7e60e7390ebd723e74785fc96b261adb53e63d7e4bd893a2a680afa8    1\n",
       "64c78426edc51ebf0929c634400079ea8f89483bb8572acee4cf33ba    1\n",
       "d4dc4b383fc17df2107102b6fc8093bcb4c7ec7efd62d9eda62852bb    1\n",
       "26cfd54ee58cb59788b598cefe4c52c2c5723969af1b76ac8cfed230    1\n",
       "cf3ac96af749a6558336d5959f5bfb6cdedfa63afca1e782e3efc63e    1\n",
       "e0be6b55cc107ff248f3039441d510b3188613d5c8b1e723c709ac38    1\n",
       "41d247cd0c5797a03eb8abe3d8b892843332e486b80968a49c97100e    1\n",
       "Name: hs_params, dtype: int64"
      ]
     },
     "execution_count": 117,
     "metadata": {},
     "output_type": "execute_result"
    }
   ],
   "source": [
    "model = \"AVG_PERCEPTRON_MULTICLASS\"\n",
    "df = get_df_sorted_by_f1score(\"CB_TAGGING_VD_\" + model, \n",
    "                              \"prev_tag_sharing,num_iterations,tag_history,combo_freq_threshold\")\n",
    "df[\"hs_params\"].value_counts()"
   ]
  },
  {
   "cell_type": "code",
   "execution_count": 120,
   "metadata": {
    "collapsed": false
   },
   "outputs": [
    {
     "data": {
      "text/html": [
       "<div>\n",
       "<table border=\"1\" class=\"dataframe\">\n",
       "  <thead>\n",
       "    <tr style=\"text-align: right;\">\n",
       "      <th></th>\n",
       "      <th>_id</th>\n",
       "      <th>asof</th>\n",
       "      <th>combo_freq_threshold</th>\n",
       "      <th>count</th>\n",
       "      <th>feats</th>\n",
       "      <th>micro_f1_score</th>\n",
       "      <th>micro_precision</th>\n",
       "      <th>micro_recall</th>\n",
       "      <th>num_iterations</th>\n",
       "      <th>prev_tag_sharing</th>\n",
       "      <th>tag_history</th>\n",
       "      <th>weighted_f1_score</th>\n",
       "      <th>window_size</th>\n",
       "      <th>hs_params</th>\n",
       "    </tr>\n",
       "  </thead>\n",
       "  <tbody>\n",
       "    <tr>\n",
       "      <th>3</th>\n",
       "      <td>580da4fec1a7cbf7d6ad18e5</td>\n",
       "      <td>2016-10-24 01:06:54.502</td>\n",
       "      <td>5</td>\n",
       "      <td>6</td>\n",
       "      <td>[fn_pos_wd_feats_stemmed[offset:5], fn_pos_ngr...</td>\n",
       "      <td>0.837016</td>\n",
       "      <td>0.886593</td>\n",
       "      <td>0.792689</td>\n",
       "      <td>10</td>\n",
       "      <td>True</td>\n",
       "      <td>15</td>\n",
       "      <td>0.830776</td>\n",
       "      <td>11</td>\n",
       "      <td>6989d0cf246f3bece8a1e87fcbf614e43e21feea60b5b4...</td>\n",
       "    </tr>\n",
       "    <tr>\n",
       "      <th>22</th>\n",
       "      <td>580c855ac1a7cbdacdb3de06</td>\n",
       "      <td>2016-10-23 04:39:38.176</td>\n",
       "      <td>5</td>\n",
       "      <td>6</td>\n",
       "      <td>[fn_pos_wd_feats_stemmed[offset:5], fn_pos_ngr...</td>\n",
       "      <td>0.834754</td>\n",
       "      <td>0.885112</td>\n",
       "      <td>0.789818</td>\n",
       "      <td>10</td>\n",
       "      <td>True</td>\n",
       "      <td>15</td>\n",
       "      <td>0.828199</td>\n",
       "      <td>11</td>\n",
       "      <td>6989d0cf246f3bece8a1e87fcbf614e43e21feea60b5b4...</td>\n",
       "    </tr>\n",
       "  </tbody>\n",
       "</table>\n",
       "</div>"
      ],
      "text/plain": [
       "                         _id                    asof  combo_freq_threshold  \\\n",
       "3   580da4fec1a7cbf7d6ad18e5 2016-10-24 01:06:54.502                     5   \n",
       "22  580c855ac1a7cbdacdb3de06 2016-10-23 04:39:38.176                     5   \n",
       "\n",
       "    count                                              feats  micro_f1_score  \\\n",
       "3       6  [fn_pos_wd_feats_stemmed[offset:5], fn_pos_ngr...        0.837016   \n",
       "22      6  [fn_pos_wd_feats_stemmed[offset:5], fn_pos_ngr...        0.834754   \n",
       "\n",
       "    micro_precision  micro_recall  num_iterations prev_tag_sharing  \\\n",
       "3          0.886593      0.792689              10             True   \n",
       "22         0.885112      0.789818              10             True   \n",
       "\n",
       "    tag_history  weighted_f1_score  window_size  \\\n",
       "3            15           0.830776           11   \n",
       "22           15           0.828199           11   \n",
       "\n",
       "                                            hs_params  \n",
       "3   6989d0cf246f3bece8a1e87fcbf614e43e21feea60b5b4...  \n",
       "22  6989d0cf246f3bece8a1e87fcbf614e43e21feea60b5b4...  "
      ]
     },
     "execution_count": 120,
     "metadata": {},
     "output_type": "execute_result"
    }
   ],
   "source": [
    "df[df[\"hs_params\"] == \"6989d0cf246f3bece8a1e87fcbf614e43e21feea60b5b44940dd6a23\"]#[\"prev_tag_sharing,num_iterations,tag_history,combo_freq_threshold\".split(\",\")]"
   ]
  },
  {
   "cell_type": "code",
   "execution_count": 132,
   "metadata": {
    "collapsed": false
   },
   "outputs": [
    {
     "data": {
      "text/html": [
       "<div>\n",
       "<table border=\"1\" class=\"dataframe\">\n",
       "  <thead>\n",
       "    <tr style=\"text-align: right;\">\n",
       "      <th></th>\n",
       "      <th>_id</th>\n",
       "      <th>asof</th>\n",
       "      <th>combo_freq_threshold</th>\n",
       "      <th>count</th>\n",
       "      <th>feats</th>\n",
       "      <th>micro_f1_score</th>\n",
       "      <th>micro_precision</th>\n",
       "      <th>micro_recall</th>\n",
       "      <th>num_iterations</th>\n",
       "      <th>prev_tag_sharing</th>\n",
       "      <th>tag_history</th>\n",
       "      <th>weighted_f1_score</th>\n",
       "      <th>window_size</th>\n",
       "      <th>hs_params</th>\n",
       "    </tr>\n",
       "  </thead>\n",
       "  <tbody>\n",
       "    <tr>\n",
       "      <th>3</th>\n",
       "      <td>580da4fec1a7cbf7d6ad18e5</td>\n",
       "      <td>2016-10-24 01:06:54.502</td>\n",
       "      <td>5</td>\n",
       "      <td>6</td>\n",
       "      <td>[fn_pos_wd_feats_stemmed[offset:5], fn_pos_ngr...</td>\n",
       "      <td>0.837016</td>\n",
       "      <td>0.886593</td>\n",
       "      <td>0.792689</td>\n",
       "      <td>10</td>\n",
       "      <td>True</td>\n",
       "      <td>15</td>\n",
       "      <td>0.830776</td>\n",
       "      <td>11</td>\n",
       "      <td>6989d0cf246f3bece8a1e87fcbf614e43e21feea60b5b4...</td>\n",
       "    </tr>\n",
       "    <tr>\n",
       "      <th>22</th>\n",
       "      <td>580c855ac1a7cbdacdb3de06</td>\n",
       "      <td>2016-10-23 04:39:38.176</td>\n",
       "      <td>5</td>\n",
       "      <td>6</td>\n",
       "      <td>[fn_pos_wd_feats_stemmed[offset:5], fn_pos_ngr...</td>\n",
       "      <td>0.834754</td>\n",
       "      <td>0.885112</td>\n",
       "      <td>0.789818</td>\n",
       "      <td>10</td>\n",
       "      <td>True</td>\n",
       "      <td>15</td>\n",
       "      <td>0.828199</td>\n",
       "      <td>11</td>\n",
       "      <td>6989d0cf246f3bece8a1e87fcbf614e43e21feea60b5b4...</td>\n",
       "    </tr>\n",
       "  </tbody>\n",
       "</table>\n",
       "</div>"
      ],
      "text/plain": [
       "                         _id                    asof  combo_freq_threshold  \\\n",
       "3   580da4fec1a7cbf7d6ad18e5 2016-10-24 01:06:54.502                     5   \n",
       "22  580c855ac1a7cbdacdb3de06 2016-10-23 04:39:38.176                     5   \n",
       "\n",
       "    count                                              feats  micro_f1_score  \\\n",
       "3       6  [fn_pos_wd_feats_stemmed[offset:5], fn_pos_ngr...        0.837016   \n",
       "22      6  [fn_pos_wd_feats_stemmed[offset:5], fn_pos_ngr...        0.834754   \n",
       "\n",
       "    micro_precision  micro_recall  num_iterations prev_tag_sharing  \\\n",
       "3          0.886593      0.792689              10             True   \n",
       "22         0.885112      0.789818              10             True   \n",
       "\n",
       "    tag_history  weighted_f1_score  window_size  \\\n",
       "3            15           0.830776           11   \n",
       "22           15           0.828199           11   \n",
       "\n",
       "                                            hs_params  \n",
       "3   6989d0cf246f3bece8a1e87fcbf614e43e21feea60b5b4...  \n",
       "22  6989d0cf246f3bece8a1e87fcbf614e43e21feea60b5b4...  "
      ]
     },
     "execution_count": 132,
     "metadata": {},
     "output_type": "execute_result"
    }
   ],
   "source": [
    "df[df[\"hs_params\"].isin([\"6989d0cf246f3bece8a1e87fcbf614e43e21feea60b5b44940dd6a23\"])]"
   ]
  },
  {
   "cell_type": "code",
   "execution_count": 133,
   "metadata": {
    "collapsed": false
   },
   "outputs": [
    {
     "data": {
      "text/plain": [
       "[numpy.datetime64('2016-10-23T00:47:49.642000000'),\n",
       " numpy.datetime64('2016-10-23T01:34:11.096000000'),\n",
       " numpy.datetime64('2016-10-23T02:21:45.581000000'),\n",
       " numpy.datetime64('2016-10-23T03:10:30.662000000'),\n",
       " numpy.datetime64('2016-10-23T03:56:43.655000000'),\n",
       " numpy.datetime64('2016-10-23T04:39:38.176000000'),\n",
       " numpy.datetime64('2016-10-23T05:15:45.307000000'),\n",
       " numpy.datetime64('2016-10-23T06:17:14.175000000'),\n",
       " numpy.datetime64('2016-10-23T07:10:05.447000000'),\n",
       " numpy.datetime64('2016-10-23T08:04:34.405000000'),\n",
       " numpy.datetime64('2016-10-23T09:01:56.280000000'),\n",
       " numpy.datetime64('2016-10-23T10:16:49.350000000'),\n",
       " numpy.datetime64('2016-10-23T11:26:53.820000000'),\n",
       " numpy.datetime64('2016-10-23T19:01:35.079000000'),\n",
       " numpy.datetime64('2016-10-23T19:55:05.809000000'),\n",
       " numpy.datetime64('2016-10-23T20:09:05.817000000'),\n",
       " numpy.datetime64('2016-10-23T20:21:47.180000000'),\n",
       " numpy.datetime64('2016-10-23T20:34:10.061000000'),\n",
       " numpy.datetime64('2016-10-23T20:46:53.685000000'),\n",
       " numpy.datetime64('2016-10-23T20:59:00.648000000'),\n",
       " numpy.datetime64('2016-10-23T21:18:45.796000000'),\n",
       " numpy.datetime64('2016-10-23T21:36:49.262000000'),\n",
       " numpy.datetime64('2016-10-23T21:55:23.093000000'),\n",
       " numpy.datetime64('2016-10-23T22:14:23.215000000'),\n",
       " numpy.datetime64('2016-10-23T22:32:57.983000000'),\n",
       " numpy.datetime64('2016-10-23T23:31:55.576000000'),\n",
       " numpy.datetime64('2016-10-24T00:24:08.213000000'),\n",
       " numpy.datetime64('2016-10-24T01:06:54.502000000')]"
      ]
     },
     "execution_count": 133,
     "metadata": {},
     "output_type": "execute_result"
    }
   ],
   "source": [
    "sorted(df[\"asof\"].values)"
   ]
  },
  {
   "cell_type": "code",
   "execution_count": 199,
   "metadata": {
    "collapsed": false
   },
   "outputs": [
    {
     "name": "stdout",
     "output_type": "stream",
     "text": [
      "CB_TAGGING_VD_WINDOW_CLASSIFIER_BR\n",
      "CB_TAGGING_VD_WINDOW_CLASSIFIER_LBL_POWERSET_MULTICLASS\n",
      "CB_TAGGING_VD_WINDOW_CLASSIFIER_MOST_COMMON_TAG_MULTICLASS\n"
     ]
    }
   ],
   "source": [
    "def get_window_classifier_results(prefix):\n",
    "    collections = \"WINDOW_CLASSIFIER_BR,WINDOW_CLASSIFIER_LBL_POWERSET_MULTICLASS,WINDOW_CLASSIFIER_MOST_COMMON_TAG_MULTICLASS\".split(\",\")\n",
    "    dfs = []\n",
    "    for c in collections:\n",
    "        col = prefix + c\n",
    "        print col\n",
    "        df = dict(get_df_sorted_by_f1score(col).iloc[0,:])\n",
    "        df[\"Collection_\" + prefix[:-1]] = col.replace(prefix,\"\")\n",
    "        dfs.append(df)\n",
    "    return pd.DataFrame(dfs).sort_values(\"micro_f1_score\", ascending=False)\n",
    "\n",
    "df = get_window_classifier_results(\"CB_TAGGING_VD_\")"
   ]
  },
  {
   "cell_type": "code",
   "execution_count": 200,
   "metadata": {
    "collapsed": false
   },
   "outputs": [
    {
     "data": {
      "text/html": [
       "<div>\n",
       "<table border=\"1\" class=\"dataframe\">\n",
       "  <thead>\n",
       "    <tr style=\"text-align: right;\">\n",
       "      <th></th>\n",
       "      <th>Collection_CB_TAGGING_VD</th>\n",
       "      <th>micro_f1_score</th>\n",
       "      <th>micro_recall</th>\n",
       "      <th>micro_precision</th>\n",
       "    </tr>\n",
       "  </thead>\n",
       "  <tbody>\n",
       "    <tr>\n",
       "      <th>2</th>\n",
       "      <td>WINDOW_CLASSIFIER_MOST_COMMON_TAG_MULTICLASS</td>\n",
       "      <td>0.835846</td>\n",
       "      <td>0.793314</td>\n",
       "      <td>0.883197</td>\n",
       "    </tr>\n",
       "    <tr>\n",
       "      <th>1</th>\n",
       "      <td>WINDOW_CLASSIFIER_LBL_POWERSET_MULTICLASS</td>\n",
       "      <td>0.835756</td>\n",
       "      <td>0.793114</td>\n",
       "      <td>0.883244</td>\n",
       "    </tr>\n",
       "    <tr>\n",
       "      <th>0</th>\n",
       "      <td>WINDOW_CLASSIFIER_BR</td>\n",
       "      <td>0.828318</td>\n",
       "      <td>0.777359</td>\n",
       "      <td>0.886428</td>\n",
       "    </tr>\n",
       "  </tbody>\n",
       "</table>\n",
       "</div>"
      ],
      "text/plain": [
       "                       Collection_CB_TAGGING_VD  micro_f1_score  micro_recall  \\\n",
       "2  WINDOW_CLASSIFIER_MOST_COMMON_TAG_MULTICLASS        0.835846      0.793314   \n",
       "1     WINDOW_CLASSIFIER_LBL_POWERSET_MULTICLASS        0.835756      0.793114   \n",
       "0                          WINDOW_CLASSIFIER_BR        0.828318      0.777359   \n",
       "\n",
       "   micro_precision  \n",
       "2         0.883197  \n",
       "1         0.883244  \n",
       "0         0.886428  "
      ]
     },
     "execution_count": 200,
     "metadata": {},
     "output_type": "execute_result"
    }
   ],
   "source": [
    "df[\"Collection_CB_TAGGING_VD,micro_f1_score,micro_recall,micro_precision\".split(\",\")]"
   ]
  },
  {
   "cell_type": "code",
   "execution_count": 202,
   "metadata": {
    "collapsed": false
   },
   "outputs": [
    {
     "name": "stdout",
     "output_type": "stream",
     "text": [
      "SC_TAGGING_VD_WINDOW_CLASSIFIER_BR\n",
      "SC_TAGGING_VD_WINDOW_CLASSIFIER_LBL_POWERSET_MULTICLASS\n",
      "SC_TAGGING_VD_WINDOW_CLASSIFIER_MOST_COMMON_TAG_MULTICLASS\n"
     ]
    },
    {
     "data": {
      "text/html": [
       "<div>\n",
       "<table border=\"1\" class=\"dataframe\">\n",
       "  <thead>\n",
       "    <tr style=\"text-align: right;\">\n",
       "      <th></th>\n",
       "      <th>Collection_SC_TAGGING_VD</th>\n",
       "      <th>micro_f1_score</th>\n",
       "      <th>micro_recall</th>\n",
       "      <th>micro_precision</th>\n",
       "    </tr>\n",
       "  </thead>\n",
       "  <tbody>\n",
       "    <tr>\n",
       "      <th>1</th>\n",
       "      <td>WINDOW_CLASSIFIER_LBL_POWERSET_MULTICLASS</td>\n",
       "      <td>0.813778</td>\n",
       "      <td>0.779144</td>\n",
       "      <td>0.851636</td>\n",
       "    </tr>\n",
       "    <tr>\n",
       "      <th>2</th>\n",
       "      <td>WINDOW_CLASSIFIER_MOST_COMMON_TAG_MULTICLASS</td>\n",
       "      <td>0.813778</td>\n",
       "      <td>0.779144</td>\n",
       "      <td>0.851636</td>\n",
       "    </tr>\n",
       "    <tr>\n",
       "      <th>0</th>\n",
       "      <td>WINDOW_CLASSIFIER_BR</td>\n",
       "      <td>0.807288</td>\n",
       "      <td>0.765052</td>\n",
       "      <td>0.854460</td>\n",
       "    </tr>\n",
       "  </tbody>\n",
       "</table>\n",
       "</div>"
      ],
      "text/plain": [
       "                       Collection_SC_TAGGING_VD  micro_f1_score  micro_recall  \\\n",
       "1     WINDOW_CLASSIFIER_LBL_POWERSET_MULTICLASS        0.813778      0.779144   \n",
       "2  WINDOW_CLASSIFIER_MOST_COMMON_TAG_MULTICLASS        0.813778      0.779144   \n",
       "0                          WINDOW_CLASSIFIER_BR        0.807288      0.765052   \n",
       "\n",
       "   micro_precision  \n",
       "1         0.851636  \n",
       "2         0.851636  \n",
       "0         0.854460  "
      ]
     },
     "execution_count": 202,
     "metadata": {},
     "output_type": "execute_result"
    }
   ],
   "source": [
    "df = get_window_classifier_results(\"SC_TAGGING_VD_\")\n",
    "df[\"Collection_SC_TAGGING_VD,micro_f1_score,micro_recall,micro_precision\".split(\",\")]"
   ]
  },
  {
   "cell_type": "markdown",
   "metadata": {},
   "source": [
    "** Unsurprisingly in this case, as there were only two MLC labels, the score for LBL powerset and Common tag are the same **"
   ]
  },
  {
   "cell_type": "code",
   "execution_count": null,
   "metadata": {
    "collapsed": true
   },
   "outputs": [],
   "source": []
  }
 ],
 "metadata": {
  "anaconda-cloud": {},
  "kernelspec": {
   "display_name": "Python [conda env:phd]",
   "language": "python",
   "name": "conda-env-phd-py"
  },
  "language_info": {
   "codemirror_mode": {
    "name": "ipython",
    "version": 2
   },
   "file_extension": ".py",
   "mimetype": "text/x-python",
   "name": "python",
   "nbconvert_exporter": "python",
   "pygments_lexer": "ipython2",
   "version": "2.7.13"
  }
 },
 "nbformat": 4,
 "nbformat_minor": 2
}
