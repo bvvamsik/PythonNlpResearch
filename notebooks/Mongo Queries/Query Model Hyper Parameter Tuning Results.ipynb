{
 "cells": [
  {
   "cell_type": "code",
   "execution_count": 1,
   "metadata": {
    "collapsed": true
   },
   "outputs": [],
   "source": [
    "%matplotlib inline\n",
    "import numpy as np\n",
    "import pandas as pd\n",
    "import matplotlib as mpl\n",
    "import matplotlib.pyplot as plt\n",
    "import seaborn as sns\n",
    "import pymongo\n",
    "from pprint import pprint"
   ]
  },
  {
   "cell_type": "code",
   "execution_count": 2,
   "metadata": {
    "collapsed": true
   },
   "outputs": [],
   "source": [
    "client = pymongo.MongoClient()\n",
    "db = client.metrics"
   ]
  },
  {
   "cell_type": "code",
   "execution_count": 3,
   "metadata": {
    "collapsed": true
   },
   "outputs": [],
   "source": [
    "def group_by(df, bycols, agg_map):\n",
    "    \"\"\"\n",
    "\n",
    "    @param df:      DataFrame\n",
    "    @param bycols:  str or list\n",
    "                        Column(s) to group by\n",
    "    @param agg_map: dictionary or list of 2-tuples\n",
    "                        Mapping from column to aggregate function e.g. [(\"city\", \"count\"), (\"salary\", \"mean\"]\n",
    "    @return:        DataFrame\n",
    "                        Flattened dataframe, with multi-level index removed\n",
    "    \"\"\"\n",
    "    grps = []\n",
    "    if type(bycols) == str:\n",
    "        bycols = [bycols]\n",
    "\n",
    "    if type(agg_map) == dict:\n",
    "        agg_map = agg_map.items()\n",
    "\n",
    "    for k,v in agg_map:\n",
    "        grp = df[bycols + [k]].groupby(bycols, ).agg(v)\n",
    "        grp.reset_index(inplace=True)\n",
    "        grp[\"%s(%s)\" % (v,k)] = grp[k]\n",
    "        del grp[k]\n",
    "        grps.append(grp)\n",
    "\n",
    "    m = grps[0]\n",
    "    for grp in grps[1:]:\n",
    "        m = pd.merge(m, grp, on=bycols, how=\"inner\")\n",
    "    return m"
   ]
  },
  {
   "cell_type": "code",
   "execution_count": 4,
   "metadata": {
    "collapsed": true
   },
   "outputs": [],
   "source": [
    "from bson.son import SON # needed to ensure dictionary is ordered (python default is not)\n",
    "import hashlib\n",
    "\n",
    "def hash_feats(fts):\n",
    "    vals = fts.values\n",
    "    joined = \"|\".join(map(str,vals))\n",
    "    return hashlib.sha224(joined).hexdigest()\n",
    "\n",
    "def get_df_sorted_by_f1score(collection, params=None, filter_cols=True):\n",
    "    if not params:\n",
    "        params = []\n",
    "    if type(params) == str:\n",
    "        params = params.split(\",\")\n",
    "    \n",
    "    project = {\n",
    "            \"weighted_f1_score\":\"$WEIGHTED_MEAN_CONCEPT_CODES.f1_score\",\n",
    "            \"micro_f1_score\":  \"$MICRO_F1.f1_score\",\n",
    "            \"micro_recall\":    \"$MICRO_F1.recall\",\n",
    "            \"micro_precision\": \"$MICRO_F1.precision\",\n",
    "    \n",
    "    # PARAMETERS            \n",
    "            \"window_size\":    \"$parameters.window_size\",\n",
    "            \"feats\":          \"$parameters.extractors\",\n",
    "            \"count\": {        \"$size\" : \"$parameters.extractors\" },\n",
    "            \"asof\" :          \"$asof\",\n",
    "            \"_id\":1\n",
    "    }\n",
    "    \n",
    "    # No count for HMM\n",
    "    if \"_hmm\" in collection.lower():\n",
    "        del project[\"count\"]\n",
    "    \n",
    "    for param in params:\n",
    "        project[param] = \"$parameters.\" + param\n",
    "\n",
    "    feats_pipeline = [{\n",
    "        \"$project\": project\n",
    "    },\n",
    "    {\n",
    "        \"$match\":{\n",
    "            \"micro_f1_score\": { \"$exists\" : True }        \n",
    "        }\n",
    "    },\n",
    "    {\n",
    "        \"$sort\":{\n",
    "            \"micro_f1_score\": -1\n",
    "        }\n",
    "    },\n",
    "    ]\n",
    "    \n",
    "    rows = [row for row in db[collection].aggregate(feats_pipeline)]\n",
    "    df = pd.DataFrame(rows).sort_values(\"micro_f1_score\", ascending=False)\n",
    "    if params:\n",
    "        df[\"hs_params\"] = df[params].apply(hash_feats, axis=1)\n",
    "        \n",
    "    if filter_cols:\n",
    "        cols = [\"micro_f1_score\", \"micro_recall\" ,\"micro_precision\" ] + params\n",
    "        return df[cols]\n",
    "    return df"
   ]
  },
  {
   "cell_type": "code",
   "execution_count": 5,
   "metadata": {
    "collapsed": true
   },
   "outputs": [],
   "source": [
    "def get_window_classifier_results(prefix):\n",
    "    collections = \"WINDOW_CLASSIFIER_BR,WINDOW_CLASSIFIER_LBL_POWERSET_MULTICLASS,WINDOW_CLASSIFIER_MOST_COMMON_TAG_MULTICLASS\".split(\",\")\n",
    "    dfs = []\n",
    "    for c in collections:\n",
    "        col = prefix + c\n",
    "        print col\n",
    "        df = dict(get_df_sorted_by_f1score(col).iloc[0,:])\n",
    "        df[\"Collection_\" + prefix[:-1]] = col.replace(prefix,\"\")\n",
    "        dfs.append(df)\n",
    "    return pd.DataFrame(dfs).sort_values(\"micro_f1_score\", ascending=False)"
   ]
  },
  {
   "cell_type": "markdown",
   "metadata": {},
   "source": [
    "# Which Problem Transformation Method Was Best?"
   ]
  },
  {
   "cell_type": "code",
   "execution_count": 77,
   "metadata": {
    "collapsed": false
   },
   "outputs": [],
   "source": [
    "def round_data(df, places=3):\n",
    "    df_copy = df.copy()\n",
    "    fmt_str = \"{0:.\" + str(places) + \"f}\"\n",
    "    cols = set([v for v in df_copy.columns.values if \"micro_\" in v])\n",
    "    for c in cols:\n",
    "        df_copy[c] = df[c].apply(lambda d: fmt_str.format(d))  \n",
    "    return df_copy"
   ]
  },
  {
   "cell_type": "markdown",
   "metadata": {},
   "source": [
    "## Coral Bleaching"
   ]
  },
  {
   "cell_type": "code",
   "execution_count": 62,
   "metadata": {
    "collapsed": false
   },
   "outputs": [
    {
     "name": "stdout",
     "output_type": "stream",
     "text": [
      "CB_TAGGING_VD_WINDOW_CLASSIFIER_BR\n",
      "CB_TAGGING_VD_WINDOW_CLASSIFIER_LBL_POWERSET_MULTICLASS\n",
      "CB_TAGGING_VD_WINDOW_CLASSIFIER_MOST_COMMON_TAG_MULTICLASS\n"
     ]
    },
    {
     "data": {
      "text/html": [
       "<div>\n",
       "<table border=\"1\" class=\"dataframe\">\n",
       "  <thead>\n",
       "    <tr style=\"text-align: right;\">\n",
       "      <th></th>\n",
       "      <th>Collection_CB_TAGGING_VD</th>\n",
       "      <th>micro_f1_score</th>\n",
       "      <th>micro_recall</th>\n",
       "      <th>micro_precision</th>\n",
       "    </tr>\n",
       "  </thead>\n",
       "  <tbody>\n",
       "    <tr>\n",
       "      <th>2</th>\n",
       "      <td>WINDOW_CLASSIFIER_MOST_COMMON_TAG_MULTICLASS</td>\n",
       "      <td>0.8317</td>\n",
       "      <td>0.7863</td>\n",
       "      <td>0.8826</td>\n",
       "    </tr>\n",
       "    <tr>\n",
       "      <th>1</th>\n",
       "      <td>WINDOW_CLASSIFIER_LBL_POWERSET_MULTICLASS</td>\n",
       "      <td>0.8316</td>\n",
       "      <td>0.7861</td>\n",
       "      <td>0.8827</td>\n",
       "    </tr>\n",
       "    <tr>\n",
       "      <th>0</th>\n",
       "      <td>WINDOW_CLASSIFIER_BR</td>\n",
       "      <td>0.8247</td>\n",
       "      <td>0.7708</td>\n",
       "      <td>0.8866</td>\n",
       "    </tr>\n",
       "  </tbody>\n",
       "</table>\n",
       "</div>"
      ],
      "text/plain": [
       "                       Collection_CB_TAGGING_VD micro_f1_score micro_recall  \\\n",
       "2  WINDOW_CLASSIFIER_MOST_COMMON_TAG_MULTICLASS         0.8317       0.7863   \n",
       "1     WINDOW_CLASSIFIER_LBL_POWERSET_MULTICLASS         0.8316       0.7861   \n",
       "0                          WINDOW_CLASSIFIER_BR         0.8247       0.7708   \n",
       "\n",
       "  micro_precision  \n",
       "2          0.8826  \n",
       "1          0.8827  \n",
       "0          0.8866  "
      ]
     },
     "execution_count": 62,
     "metadata": {},
     "output_type": "execute_result"
    }
   ],
   "source": [
    "df = get_window_classifier_results(\"CB_TAGGING_VD_\")\n",
    "df = round_data(df, 4)\n",
    "df[\"Collection_CB_TAGGING_VD,micro_f1_score,micro_recall,micro_precision\".split(\",\")]"
   ]
  },
  {
   "cell_type": "markdown",
   "metadata": {},
   "source": [
    "## Skin Cancer"
   ]
  },
  {
   "cell_type": "code",
   "execution_count": 63,
   "metadata": {
    "collapsed": false
   },
   "outputs": [
    {
     "name": "stdout",
     "output_type": "stream",
     "text": [
      "SC_TAGGING_VD_WINDOW_CLASSIFIER_BR\n",
      "SC_TAGGING_VD_WINDOW_CLASSIFIER_LBL_POWERSET_MULTICLASS\n",
      "SC_TAGGING_VD_WINDOW_CLASSIFIER_MOST_COMMON_TAG_MULTICLASS\n"
     ]
    },
    {
     "data": {
      "text/html": [
       "<div>\n",
       "<table border=\"1\" class=\"dataframe\">\n",
       "  <thead>\n",
       "    <tr style=\"text-align: right;\">\n",
       "      <th></th>\n",
       "      <th>Collection_SC_TAGGING_VD</th>\n",
       "      <th>micro_f1_score</th>\n",
       "      <th>micro_recall</th>\n",
       "      <th>micro_precision</th>\n",
       "    </tr>\n",
       "  </thead>\n",
       "  <tbody>\n",
       "    <tr>\n",
       "      <th>1</th>\n",
       "      <td>WINDOW_CLASSIFIER_LBL_POWERSET_MULTICLASS</td>\n",
       "      <td>0.8087</td>\n",
       "      <td>0.7749</td>\n",
       "      <td>0.8456</td>\n",
       "    </tr>\n",
       "    <tr>\n",
       "      <th>2</th>\n",
       "      <td>WINDOW_CLASSIFIER_MOST_COMMON_TAG_MULTICLASS</td>\n",
       "      <td>0.8087</td>\n",
       "      <td>0.7749</td>\n",
       "      <td>0.8456</td>\n",
       "    </tr>\n",
       "    <tr>\n",
       "      <th>0</th>\n",
       "      <td>WINDOW_CLASSIFIER_BR</td>\n",
       "      <td>0.8011</td>\n",
       "      <td>0.7592</td>\n",
       "      <td>0.8478</td>\n",
       "    </tr>\n",
       "  </tbody>\n",
       "</table>\n",
       "</div>"
      ],
      "text/plain": [
       "                       Collection_SC_TAGGING_VD micro_f1_score micro_recall  \\\n",
       "1     WINDOW_CLASSIFIER_LBL_POWERSET_MULTICLASS         0.8087       0.7749   \n",
       "2  WINDOW_CLASSIFIER_MOST_COMMON_TAG_MULTICLASS         0.8087       0.7749   \n",
       "0                          WINDOW_CLASSIFIER_BR         0.8011       0.7592   \n",
       "\n",
       "  micro_precision  \n",
       "1          0.8456  \n",
       "2          0.8456  \n",
       "0          0.8478  "
      ]
     },
     "execution_count": 63,
     "metadata": {},
     "output_type": "execute_result"
    }
   ],
   "source": [
    "df = get_window_classifier_results(\"SC_TAGGING_VD_\")\n",
    "for c in [\"micro_f1_score\",\"micro_recall\",\"micro_precision\"]:\n",
    "    df[c] = df[c].apply(lambda d: \"{0:.4f}\".format(d))  \n",
    "df[\"Collection_SC_TAGGING_VD,micro_f1_score,micro_recall,micro_precision\".split(\",\")]"
   ]
  },
  {
   "cell_type": "markdown",
   "metadata": {},
   "source": [
    "** Unsurprisingly in this case, as there were only two MLC labels, the score for LBL powerset and Common tag are the same **\n",
    "\n",
    "** HOWEVER - why is the multiclass version that much better? It does OVR, and with only 2 records difference, this makes no sense to me **"
   ]
  },
  {
   "cell_type": "markdown",
   "metadata": {},
   "source": [
    "# Hyper Parameter Tuning Results"
   ]
  },
  {
   "cell_type": "code",
   "execution_count": 8,
   "metadata": {
    "collapsed": true
   },
   "outputs": [],
   "source": [
    "# Rows to print - df.head\n",
    "ROWS = 5"
   ]
  },
  {
   "cell_type": "markdown",
   "metadata": {},
   "source": [
    "## Window Based Classifier - Hyper Parameter Tuning"
   ]
  },
  {
   "cell_type": "markdown",
   "metadata": {},
   "source": [
    "### Coral Bleaching"
   ]
  },
  {
   "cell_type": "code",
   "execution_count": 72,
   "metadata": {
    "collapsed": false
   },
   "outputs": [
    {
     "data": {
      "text/html": [
       "<div>\n",
       "<table border=\"1\" class=\"dataframe\">\n",
       "  <thead>\n",
       "    <tr style=\"text-align: right;\">\n",
       "      <th></th>\n",
       "      <th>micro_f1_score</th>\n",
       "      <th>micro_recall</th>\n",
       "      <th>micro_precision</th>\n",
       "      <th>dual</th>\n",
       "      <th>C</th>\n",
       "      <th>penalty</th>\n",
       "      <th>fit_intercept</th>\n",
       "      <th>multi_class</th>\n",
       "      <th>window_size</th>\n",
       "    </tr>\n",
       "  </thead>\n",
       "  <tbody>\n",
       "    <tr>\n",
       "      <th>0</th>\n",
       "      <td>0.8319</td>\n",
       "      <td>0.7814</td>\n",
       "      <td>0.8892</td>\n",
       "      <td>True</td>\n",
       "      <td>0.5</td>\n",
       "      <td>l2</td>\n",
       "      <td>True</td>\n",
       "      <td>ovr</td>\n",
       "      <td>9</td>\n",
       "    </tr>\n",
       "    <tr>\n",
       "      <th>1</th>\n",
       "      <td>0.8318</td>\n",
       "      <td>0.7814</td>\n",
       "      <td>0.8892</td>\n",
       "      <td>False</td>\n",
       "      <td>0.5</td>\n",
       "      <td>l2</td>\n",
       "      <td>True</td>\n",
       "      <td>ovr</td>\n",
       "      <td>9</td>\n",
       "    </tr>\n",
       "    <tr>\n",
       "      <th>2</th>\n",
       "      <td>0.8317</td>\n",
       "      <td>0.7863</td>\n",
       "      <td>0.8826</td>\n",
       "      <td>True</td>\n",
       "      <td>1.0</td>\n",
       "      <td>l2</td>\n",
       "      <td>True</td>\n",
       "      <td>ovr</td>\n",
       "      <td>9</td>\n",
       "    </tr>\n",
       "    <tr>\n",
       "      <th>3</th>\n",
       "      <td>0.8317</td>\n",
       "      <td>0.7863</td>\n",
       "      <td>0.8826</td>\n",
       "      <td>False</td>\n",
       "      <td>1.0</td>\n",
       "      <td>l2</td>\n",
       "      <td>True</td>\n",
       "      <td>ovr</td>\n",
       "      <td>9</td>\n",
       "    </tr>\n",
       "    <tr>\n",
       "      <th>4</th>\n",
       "      <td>0.8286</td>\n",
       "      <td>0.7863</td>\n",
       "      <td>0.8756</td>\n",
       "      <td>False</td>\n",
       "      <td>1.0</td>\n",
       "      <td>l1</td>\n",
       "      <td>True</td>\n",
       "      <td>ovr</td>\n",
       "      <td>9</td>\n",
       "    </tr>\n",
       "  </tbody>\n",
       "</table>\n",
       "</div>"
      ],
      "text/plain": [
       "  micro_f1_score micro_recall micro_precision   dual    C penalty  \\\n",
       "0         0.8319       0.7814          0.8892   True  0.5      l2   \n",
       "1         0.8318       0.7814          0.8892  False  0.5      l2   \n",
       "2         0.8317       0.7863          0.8826   True  1.0      l2   \n",
       "3         0.8317       0.7863          0.8826  False  1.0      l2   \n",
       "4         0.8286       0.7863          0.8756  False  1.0      l1   \n",
       "\n",
       "  fit_intercept multi_class  window_size  \n",
       "0          True         ovr            9  \n",
       "1          True         ovr            9  \n",
       "2          True         ovr            9  \n",
       "3          True         ovr            9  \n",
       "4          True         ovr            9  "
      ]
     },
     "execution_count": 72,
     "metadata": {},
     "output_type": "execute_result"
    }
   ],
   "source": [
    "params = \"dual,C,penalty,fit_intercept,multi_class,window_size\".split(\",\")\n",
    "collection = \"CB_TAGGING_VD_WINDOW_CLASSIFIER_MOST_COMMON_TAG_MULTICLASS_HYPER_PARAM_TUNING\"\n",
    "\n",
    "df = get_df_sorted_by_f1score(collection, params)\n",
    "\n",
    "round_data(df.head(ROWS),4)\n",
    "#df"
   ]
  },
  {
   "cell_type": "markdown",
   "metadata": {},
   "source": [
    "### Skin Cancer"
   ]
  },
  {
   "cell_type": "code",
   "execution_count": 86,
   "metadata": {
    "collapsed": false
   },
   "outputs": [
    {
     "data": {
      "text/html": [
       "<div>\n",
       "<table border=\"1\" class=\"dataframe\">\n",
       "  <thead>\n",
       "    <tr style=\"text-align: right;\">\n",
       "      <th></th>\n",
       "      <th>micro_f1_score</th>\n",
       "      <th>micro_recall</th>\n",
       "      <th>micro_precision</th>\n",
       "      <th>dual</th>\n",
       "      <th>C</th>\n",
       "      <th>penalty</th>\n",
       "      <th>fit_intercept</th>\n",
       "      <th>multi_class</th>\n",
       "      <th>window_size</th>\n",
       "    </tr>\n",
       "  </thead>\n",
       "  <tbody>\n",
       "    <tr>\n",
       "      <th>0</th>\n",
       "      <td>0.810</td>\n",
       "      <td>0.773</td>\n",
       "      <td>0.850</td>\n",
       "      <td>True</td>\n",
       "      <td>0.5</td>\n",
       "      <td>l2</td>\n",
       "      <td>True</td>\n",
       "      <td>ovr</td>\n",
       "      <td>9</td>\n",
       "    </tr>\n",
       "    <tr>\n",
       "      <th>1</th>\n",
       "      <td>0.810</td>\n",
       "      <td>0.772</td>\n",
       "      <td>0.850</td>\n",
       "      <td>False</td>\n",
       "      <td>0.5</td>\n",
       "      <td>l2</td>\n",
       "      <td>True</td>\n",
       "      <td>ovr</td>\n",
       "      <td>9</td>\n",
       "    </tr>\n",
       "    <tr>\n",
       "      <th>2</th>\n",
       "      <td>0.809</td>\n",
       "      <td>0.775</td>\n",
       "      <td>0.846</td>\n",
       "      <td>False</td>\n",
       "      <td>1.0</td>\n",
       "      <td>l2</td>\n",
       "      <td>True</td>\n",
       "      <td>ovr</td>\n",
       "      <td>9</td>\n",
       "    </tr>\n",
       "    <tr>\n",
       "      <th>3</th>\n",
       "      <td>0.809</td>\n",
       "      <td>0.775</td>\n",
       "      <td>0.846</td>\n",
       "      <td>True</td>\n",
       "      <td>1.0</td>\n",
       "      <td>l2</td>\n",
       "      <td>True</td>\n",
       "      <td>ovr</td>\n",
       "      <td>9</td>\n",
       "    </tr>\n",
       "    <tr>\n",
       "      <th>4</th>\n",
       "      <td>0.809</td>\n",
       "      <td>0.777</td>\n",
       "      <td>0.843</td>\n",
       "      <td>False</td>\n",
       "      <td>1.0</td>\n",
       "      <td>l1</td>\n",
       "      <td>True</td>\n",
       "      <td>ovr</td>\n",
       "      <td>9</td>\n",
       "    </tr>\n",
       "  </tbody>\n",
       "</table>\n",
       "</div>"
      ],
      "text/plain": [
       "  micro_f1_score micro_recall micro_precision   dual    C penalty  \\\n",
       "0          0.810        0.773           0.850   True  0.5      l2   \n",
       "1          0.810        0.772           0.850  False  0.5      l2   \n",
       "2          0.809        0.775           0.846  False  1.0      l2   \n",
       "3          0.809        0.775           0.846   True  1.0      l2   \n",
       "4          0.809        0.777           0.843  False  1.0      l1   \n",
       "\n",
       "  fit_intercept multi_class  window_size  \n",
       "0          True         ovr            9  \n",
       "1          True         ovr            9  \n",
       "2          True         ovr            9  \n",
       "3          True         ovr            9  \n",
       "4          True         ovr            9  "
      ]
     },
     "execution_count": 86,
     "metadata": {},
     "output_type": "execute_result"
    }
   ],
   "source": [
    "params = \"dual,C,penalty,fit_intercept,multi_class,window_size\".split(\",\")\n",
    "collection = \"SC_TAGGING_VD_WINDOW_CLASSIFIER_MOST_COMMON_TAG_MULTICLASS_HYPER_PARAM_TUNING\"\n",
    "\n",
    "df = get_df_sorted_by_f1score(collection, params)\n",
    "#df = df[df.dual==True]\n",
    "#df = df[df.C==0.5]\n",
    "#df = df[df.penalty =='l2']\n",
    "round_data(df.head(ROWS),3)"
   ]
  },
  {
   "cell_type": "markdown",
   "metadata": {},
   "source": [
    "### <span style=\"color:red\">Optimal Hyper Parameters are the same for both datasets </span>"
   ]
  },
  {
   "cell_type": "markdown",
   "metadata": {},
   "source": [
    "## CRF Performance - Hyper Parameter Tuning "
   ]
  },
  {
   "cell_type": "markdown",
   "metadata": {},
   "source": [
    "### Coral Bleaching"
   ]
  },
  {
   "cell_type": "code",
   "execution_count": 110,
   "metadata": {
    "collapsed": false
   },
   "outputs": [
    {
     "data": {
      "text/html": [
       "<div>\n",
       "<table border=\"1\" class=\"dataframe\">\n",
       "  <thead>\n",
       "    <tr style=\"text-align: right;\">\n",
       "      <th></th>\n",
       "      <th>micro_f1_score</th>\n",
       "      <th>micro_recall</th>\n",
       "      <th>micro_precision</th>\n",
       "      <th>feature_possible_states</th>\n",
       "      <th>feature_possible_transitions</th>\n",
       "      <th>c2</th>\n",
       "      <th>window_size</th>\n",
       "    </tr>\n",
       "  </thead>\n",
       "  <tbody>\n",
       "    <tr>\n",
       "      <th>0</th>\n",
       "      <td>0.831</td>\n",
       "      <td>0.781</td>\n",
       "      <td>0.888</td>\n",
       "      <td>False</td>\n",
       "      <td>True</td>\n",
       "      <td>0.1</td>\n",
       "      <td>9</td>\n",
       "    </tr>\n",
       "    <tr>\n",
       "      <th>1</th>\n",
       "      <td>0.831</td>\n",
       "      <td>0.782</td>\n",
       "      <td>0.888</td>\n",
       "      <td>False</td>\n",
       "      <td>False</td>\n",
       "      <td>0.1</td>\n",
       "      <td>9</td>\n",
       "    </tr>\n",
       "    <tr>\n",
       "      <th>2</th>\n",
       "      <td>0.831</td>\n",
       "      <td>0.775</td>\n",
       "      <td>0.896</td>\n",
       "      <td>False</td>\n",
       "      <td>False</td>\n",
       "      <td>1.0</td>\n",
       "      <td>9</td>\n",
       "    </tr>\n",
       "    <tr>\n",
       "      <th>3</th>\n",
       "      <td>0.830</td>\n",
       "      <td>0.775</td>\n",
       "      <td>0.895</td>\n",
       "      <td>False</td>\n",
       "      <td>True</td>\n",
       "      <td>1.0</td>\n",
       "      <td>9</td>\n",
       "    </tr>\n",
       "    <tr>\n",
       "      <th>4</th>\n",
       "      <td>0.813</td>\n",
       "      <td>0.743</td>\n",
       "      <td>0.897</td>\n",
       "      <td>False</td>\n",
       "      <td>True</td>\n",
       "      <td>10.0</td>\n",
       "      <td>9</td>\n",
       "    </tr>\n",
       "  </tbody>\n",
       "</table>\n",
       "</div>"
      ],
      "text/plain": [
       "  micro_f1_score micro_recall micro_precision feature_possible_states  \\\n",
       "0          0.831        0.781           0.888                   False   \n",
       "1          0.831        0.782           0.888                   False   \n",
       "2          0.831        0.775           0.896                   False   \n",
       "3          0.830        0.775           0.895                   False   \n",
       "4          0.813        0.743           0.897                   False   \n",
       "\n",
       "  feature_possible_transitions    c2  window_size  \n",
       "0                         True   0.1            9  \n",
       "1                        False   0.1            9  \n",
       "2                        False   1.0            9  \n",
       "3                         True   1.0            9  \n",
       "4                         True  10.0            9  "
      ]
     },
     "execution_count": 110,
     "metadata": {},
     "output_type": "execute_result"
    }
   ],
   "source": [
    "cols = \"micro_f1_score,micro_recall,micro_precision,feature_possible_states,feature_possible_transitions,c2,window_size\".split(\",\")\n",
    "df = get_df_sorted_by_f1score(\"CB_TAGGING_VD_CRF_MOST_COMMON_TAG_HYPERPARAM_OPT\",\n",
    "                         \"feature_possible_states,feature_possible_transitions,c2,window_size\".split(\",\"))\n",
    "\n",
    "#df = df[df.c2==0.1]\n",
    "#df = df[df.feature_possible_transitions==True]\n",
    "\n",
    "round_data(df[cols].head(ROWS), 3)"
   ]
  },
  {
   "cell_type": "markdown",
   "metadata": {},
   "source": [
    "### Skin Cancer"
   ]
  },
  {
   "cell_type": "code",
   "execution_count": 113,
   "metadata": {
    "collapsed": false
   },
   "outputs": [
    {
     "data": {
      "text/html": [
       "<div>\n",
       "<table border=\"1\" class=\"dataframe\">\n",
       "  <thead>\n",
       "    <tr style=\"text-align: right;\">\n",
       "      <th></th>\n",
       "      <th>micro_f1_score</th>\n",
       "      <th>micro_recall</th>\n",
       "      <th>micro_precision</th>\n",
       "      <th>feature_possible_states</th>\n",
       "      <th>feature_possible_transitions</th>\n",
       "      <th>c2</th>\n",
       "      <th>window_size</th>\n",
       "    </tr>\n",
       "  </thead>\n",
       "  <tbody>\n",
       "    <tr>\n",
       "      <th>0</th>\n",
       "      <td>0.799</td>\n",
       "      <td>0.758</td>\n",
       "      <td>0.846</td>\n",
       "      <td>False</td>\n",
       "      <td>True</td>\n",
       "      <td>1.0</td>\n",
       "      <td>9</td>\n",
       "    </tr>\n",
       "    <tr>\n",
       "      <th>1</th>\n",
       "      <td>0.798</td>\n",
       "      <td>0.756</td>\n",
       "      <td>0.844</td>\n",
       "      <td>False</td>\n",
       "      <td>False</td>\n",
       "      <td>1.0</td>\n",
       "      <td>9</td>\n",
       "    </tr>\n",
       "    <tr>\n",
       "      <th>2</th>\n",
       "      <td>0.789</td>\n",
       "      <td>0.754</td>\n",
       "      <td>0.827</td>\n",
       "      <td>False</td>\n",
       "      <td>False</td>\n",
       "      <td>0.1</td>\n",
       "      <td>9</td>\n",
       "    </tr>\n",
       "    <tr>\n",
       "      <th>3</th>\n",
       "      <td>0.789</td>\n",
       "      <td>0.754</td>\n",
       "      <td>0.827</td>\n",
       "      <td>False</td>\n",
       "      <td>True</td>\n",
       "      <td>0.1</td>\n",
       "      <td>9</td>\n",
       "    </tr>\n",
       "    <tr>\n",
       "      <th>4</th>\n",
       "      <td>0.785</td>\n",
       "      <td>0.723</td>\n",
       "      <td>0.859</td>\n",
       "      <td>False</td>\n",
       "      <td>True</td>\n",
       "      <td>10.0</td>\n",
       "      <td>9</td>\n",
       "    </tr>\n",
       "  </tbody>\n",
       "</table>\n",
       "</div>"
      ],
      "text/plain": [
       "  micro_f1_score micro_recall micro_precision feature_possible_states  \\\n",
       "0          0.799        0.758           0.846                   False   \n",
       "1          0.798        0.756           0.844                   False   \n",
       "2          0.789        0.754           0.827                   False   \n",
       "3          0.789        0.754           0.827                   False   \n",
       "4          0.785        0.723           0.859                   False   \n",
       "\n",
       "  feature_possible_transitions    c2  window_size  \n",
       "0                         True   1.0            9  \n",
       "1                        False   1.0            9  \n",
       "2                        False   0.1            9  \n",
       "3                         True   0.1            9  \n",
       "4                         True  10.0            9  "
      ]
     },
     "execution_count": 113,
     "metadata": {},
     "output_type": "execute_result"
    }
   ],
   "source": [
    "cols = \"micro_f1_score,micro_recall,micro_precision,feature_possible_states,feature_possible_transitions,c2,window_size\".split(\",\")\n",
    "df = get_df_sorted_by_f1score(\"SC_TAGGING_VD_CRF_MOST_COMMON_TAG_HYPERPARAM_OPT\",\n",
    "                         \"feature_possible_states,feature_possible_transitions,c2,window_size\".split(\",\"))\n",
    "\n",
    "#df = df[df.c2==1.0]\n",
    "#df = df[df.feature_possible_transitions==True]\n",
    "round_data(df[cols].head(ROWS), 3)"
   ]
  },
  {
   "cell_type": "markdown",
   "metadata": {},
   "source": [
    "### <span style=\"color:red\">Optimal C2 differs between datasets</span>"
   ]
  },
  {
   "cell_type": "markdown",
   "metadata": {},
   "source": [
    "## HMM - Hyper Parameter Tuning (Features in this case)"
   ]
  },
  {
   "cell_type": "markdown",
   "metadata": {},
   "source": [
    "### Coral Bleaching"
   ]
  },
  {
   "cell_type": "code",
   "execution_count": 129,
   "metadata": {
    "collapsed": false
   },
   "outputs": [
    {
     "data": {
      "text/html": [
       "<div>\n",
       "<table border=\"1\" class=\"dataframe\">\n",
       "  <thead>\n",
       "    <tr style=\"text-align: right;\">\n",
       "      <th></th>\n",
       "      <th>micro_f1_score</th>\n",
       "      <th>micro_recall</th>\n",
       "      <th>micro_precision</th>\n",
       "      <th>extractors</th>\n",
       "    </tr>\n",
       "  </thead>\n",
       "  <tbody>\n",
       "    <tr>\n",
       "      <th>0</th>\n",
       "      <td>0.773</td>\n",
       "      <td>0.797</td>\n",
       "      <td>0.750</td>\n",
       "      <td>stemmed_unigrams</td>\n",
       "    </tr>\n",
       "    <tr>\n",
       "      <th>1</th>\n",
       "      <td>0.769</td>\n",
       "      <td>0.785</td>\n",
       "      <td>0.754</td>\n",
       "      <td>unigrams</td>\n",
       "    </tr>\n",
       "  </tbody>\n",
       "</table>\n",
       "</div>"
      ],
      "text/plain": [
       "  micro_f1_score micro_recall micro_precision        extractors\n",
       "0          0.773        0.797           0.750  stemmed_unigrams\n",
       "1          0.769        0.785           0.754          unigrams"
      ]
     },
     "execution_count": 129,
     "metadata": {},
     "output_type": "execute_result"
    }
   ],
   "source": [
    "params = \"extractors\".split(\",\")\n",
    "collection = \"CB_TAGGING_VD_HMM_MOST_COMMON_TAG_MULTICLASS\"\n",
    "\n",
    "df = get_df_sorted_by_f1score(collection, params)\n",
    "round_data(df.head(ROWS))"
   ]
  },
  {
   "cell_type": "markdown",
   "metadata": {},
   "source": [
    "### Skin Cancer"
   ]
  },
  {
   "cell_type": "code",
   "execution_count": 134,
   "metadata": {
    "collapsed": false
   },
   "outputs": [
    {
     "data": {
      "text/html": [
       "<div>\n",
       "<table border=\"1\" class=\"dataframe\">\n",
       "  <thead>\n",
       "    <tr style=\"text-align: right;\">\n",
       "      <th></th>\n",
       "      <th>micro_f1_score</th>\n",
       "      <th>micro_recall</th>\n",
       "      <th>micro_precision</th>\n",
       "      <th>extractors</th>\n",
       "    </tr>\n",
       "  </thead>\n",
       "  <tbody>\n",
       "    <tr>\n",
       "      <th>0</th>\n",
       "      <td>0.674</td>\n",
       "      <td>0.733</td>\n",
       "      <td>0.625</td>\n",
       "      <td>stemmed_unigrams</td>\n",
       "    </tr>\n",
       "    <tr>\n",
       "      <th>1</th>\n",
       "      <td>0.672</td>\n",
       "      <td>0.719</td>\n",
       "      <td>0.631</td>\n",
       "      <td>unigrams</td>\n",
       "    </tr>\n",
       "  </tbody>\n",
       "</table>\n",
       "</div>"
      ],
      "text/plain": [
       "  micro_f1_score micro_recall micro_precision        extractors\n",
       "0          0.674        0.733           0.625  stemmed_unigrams\n",
       "1          0.672        0.719           0.631          unigrams"
      ]
     },
     "execution_count": 134,
     "metadata": {},
     "output_type": "execute_result"
    }
   ],
   "source": [
    "params = \"extractors\".split(\",\")\n",
    "collection = \"SC_TAGGING_VD_HMM_MOST_COMMON_TAG_MULTICLASS\"\n",
    "\n",
    "df = get_df_sorted_by_f1score(collection, params)\n",
    "round_data(df.head(ROWS))"
   ]
  },
  {
   "cell_type": "markdown",
   "metadata": {},
   "source": [
    "## Average Perceptron - Hyper Parameter Tuning Results"
   ]
  },
  {
   "cell_type": "markdown",
   "metadata": {},
   "source": [
    "### Coral Bleaching"
   ]
  },
  {
   "cell_type": "code",
   "execution_count": 118,
   "metadata": {
    "collapsed": false
   },
   "outputs": [
    {
     "data": {
      "text/html": [
       "<div>\n",
       "<table border=\"1\" class=\"dataframe\">\n",
       "  <thead>\n",
       "    <tr style=\"text-align: right;\">\n",
       "      <th></th>\n",
       "      <th>micro_f1_score</th>\n",
       "      <th>micro_recall</th>\n",
       "      <th>micro_precision</th>\n",
       "      <th>tag_history</th>\n",
       "      <th>tag_plus_word</th>\n",
       "      <th>tag_ngram_size</th>\n",
       "      <th>window_size</th>\n",
       "    </tr>\n",
       "  </thead>\n",
       "  <tbody>\n",
       "    <tr>\n",
       "      <th>0</th>\n",
       "      <td>0.833952</td>\n",
       "      <td>0.783277</td>\n",
       "      <td>0.891638</td>\n",
       "      <td>1</td>\n",
       "      <td>5</td>\n",
       "      <td>1</td>\n",
       "      <td>9</td>\n",
       "    </tr>\n",
       "    <tr>\n",
       "      <th>1</th>\n",
       "      <td>0.833277</td>\n",
       "      <td>0.783758</td>\n",
       "      <td>0.889477</td>\n",
       "      <td>1</td>\n",
       "      <td>1</td>\n",
       "      <td>0</td>\n",
       "      <td>9</td>\n",
       "    </tr>\n",
       "    <tr>\n",
       "      <th>2</th>\n",
       "      <td>0.832451</td>\n",
       "      <td>0.782254</td>\n",
       "      <td>0.889531</td>\n",
       "      <td>1</td>\n",
       "      <td>2</td>\n",
       "      <td>0</td>\n",
       "      <td>9</td>\n",
       "    </tr>\n",
       "    <tr>\n",
       "      <th>3</th>\n",
       "      <td>0.832300</td>\n",
       "      <td>0.780962</td>\n",
       "      <td>0.890863</td>\n",
       "      <td>1</td>\n",
       "      <td>2</td>\n",
       "      <td>1</td>\n",
       "      <td>9</td>\n",
       "    </tr>\n",
       "    <tr>\n",
       "      <th>4</th>\n",
       "      <td>0.832263</td>\n",
       "      <td>0.779338</td>\n",
       "      <td>0.892900</td>\n",
       "      <td>1</td>\n",
       "      <td>3</td>\n",
       "      <td>2</td>\n",
       "      <td>9</td>\n",
       "    </tr>\n",
       "  </tbody>\n",
       "</table>\n",
       "</div>"
      ],
      "text/plain": [
       "   micro_f1_score  micro_recall  micro_precision  tag_history  tag_plus_word  \\\n",
       "0        0.833952      0.783277         0.891638            1              5   \n",
       "1        0.833277      0.783758         0.889477            1              1   \n",
       "2        0.832451      0.782254         0.889531            1              2   \n",
       "3        0.832300      0.780962         0.890863            1              2   \n",
       "4        0.832263      0.779338         0.892900            1              3   \n",
       "\n",
       "   tag_ngram_size  window_size  \n",
       "0               1            9  \n",
       "1               0            9  \n",
       "2               0            9  \n",
       "3               1            9  \n",
       "4               2            9  "
      ]
     },
     "execution_count": 118,
     "metadata": {},
     "output_type": "execute_result"
    }
   ],
   "source": [
    "model = \"AVG_PERCEPTRON_MOST_COMMON_TAG_HYPER_PARAM_TUNING\"\n",
    "df = get_df_sorted_by_f1score(\"CB_TAGGING_VD_\" + model, \n",
    "                              \"tag_history,tag_plus_word,tag_ngram_size,window_size\")\n",
    "df.head(ROWS)[\"micro_f1_score,micro_recall,micro_precision,tag_history,tag_plus_word,tag_ngram_size,window_size\".split(\",\")]"
   ]
  },
  {
   "cell_type": "markdown",
   "metadata": {},
   "source": [
    "### Skin Cancer"
   ]
  },
  {
   "cell_type": "code",
   "execution_count": 119,
   "metadata": {
    "collapsed": false
   },
   "outputs": [
    {
     "data": {
      "text/html": [
       "<div>\n",
       "<table border=\"1\" class=\"dataframe\">\n",
       "  <thead>\n",
       "    <tr style=\"text-align: right;\">\n",
       "      <th></th>\n",
       "      <th>micro_f1_score</th>\n",
       "      <th>micro_recall</th>\n",
       "      <th>micro_precision</th>\n",
       "      <th>tag_history</th>\n",
       "      <th>tag_plus_word</th>\n",
       "      <th>tag_ngram_size</th>\n",
       "      <th>window_size</th>\n",
       "    </tr>\n",
       "  </thead>\n",
       "  <tbody>\n",
       "    <tr>\n",
       "      <th>0</th>\n",
       "      <td>0.811597</td>\n",
       "      <td>0.770243</td>\n",
       "      <td>0.857645</td>\n",
       "      <td>5</td>\n",
       "      <td>5</td>\n",
       "      <td>0</td>\n",
       "      <td>9</td>\n",
       "    </tr>\n",
       "    <tr>\n",
       "      <th>1</th>\n",
       "      <td>0.810575</td>\n",
       "      <td>0.768498</td>\n",
       "      <td>0.857528</td>\n",
       "      <td>3</td>\n",
       "      <td>0</td>\n",
       "      <td>0</td>\n",
       "      <td>9</td>\n",
       "    </tr>\n",
       "    <tr>\n",
       "      <th>2</th>\n",
       "      <td>0.810420</td>\n",
       "      <td>0.766216</td>\n",
       "      <td>0.860038</td>\n",
       "      <td>5</td>\n",
       "      <td>0</td>\n",
       "      <td>1</td>\n",
       "      <td>9</td>\n",
       "    </tr>\n",
       "    <tr>\n",
       "      <th>3</th>\n",
       "      <td>0.810124</td>\n",
       "      <td>0.769538</td>\n",
       "      <td>0.855230</td>\n",
       "      <td>2</td>\n",
       "      <td>3</td>\n",
       "      <td>2</td>\n",
       "      <td>9</td>\n",
       "    </tr>\n",
       "    <tr>\n",
       "      <th>4</th>\n",
       "      <td>0.809771</td>\n",
       "      <td>0.768061</td>\n",
       "      <td>0.856272</td>\n",
       "      <td>2</td>\n",
       "      <td>5</td>\n",
       "      <td>0</td>\n",
       "      <td>9</td>\n",
       "    </tr>\n",
       "  </tbody>\n",
       "</table>\n",
       "</div>"
      ],
      "text/plain": [
       "   micro_f1_score  micro_recall  micro_precision  tag_history  tag_plus_word  \\\n",
       "0        0.811597      0.770243         0.857645            5              5   \n",
       "1        0.810575      0.768498         0.857528            3              0   \n",
       "2        0.810420      0.766216         0.860038            5              0   \n",
       "3        0.810124      0.769538         0.855230            2              3   \n",
       "4        0.809771      0.768061         0.856272            2              5   \n",
       "\n",
       "   tag_ngram_size  window_size  \n",
       "0               0            9  \n",
       "1               0            9  \n",
       "2               1            9  \n",
       "3               2            9  \n",
       "4               0            9  "
      ]
     },
     "execution_count": 119,
     "metadata": {},
     "output_type": "execute_result"
    }
   ],
   "source": [
    "model = \"AVG_PERCEPTRON_MOST_COMMON_TAG_HYPER_PARAM_TUNING\"\n",
    "df = get_df_sorted_by_f1score(\"SC_TAGGING_VD_\" + model, \n",
    "                              \"tag_history,tag_plus_word,tag_ngram_size,window_size\")\n",
    "df.head(ROWS)[\"micro_f1_score,micro_recall,micro_precision,tag_history,tag_plus_word,tag_ngram_size,window_size\".split(\",\")]"
   ]
  },
  {
   "cell_type": "markdown",
   "metadata": {},
   "source": [
    "### <span style=\"color:red\">Optimal tag_history and tag_ngram_size differ between datasets</span>"
   ]
  },
  {
   "cell_type": "markdown",
   "metadata": {
    "collapsed": true
   },
   "source": [
    "# Test Set Performance"
   ]
  },
  {
   "cell_type": "markdown",
   "metadata": {},
   "source": [
    "## Window Based Classifier"
   ]
  },
  {
   "cell_type": "markdown",
   "metadata": {},
   "source": [
    "### Coral Bleaching"
   ]
  },
  {
   "cell_type": "code",
   "execution_count": 89,
   "metadata": {
    "collapsed": false
   },
   "outputs": [
    {
     "data": {
      "text/html": [
       "<div>\n",
       "<table border=\"1\" class=\"dataframe\">\n",
       "  <thead>\n",
       "    <tr style=\"text-align: right;\">\n",
       "      <th></th>\n",
       "      <th>micro_f1_score</th>\n",
       "      <th>micro_recall</th>\n",
       "      <th>micro_precision</th>\n",
       "      <th>dual</th>\n",
       "      <th>C</th>\n",
       "      <th>penalty</th>\n",
       "      <th>fit_intercept</th>\n",
       "      <th>multi_class</th>\n",
       "      <th>window_size</th>\n",
       "    </tr>\n",
       "  </thead>\n",
       "  <tbody>\n",
       "    <tr>\n",
       "      <th>0</th>\n",
       "      <td>0.842</td>\n",
       "      <td>0.802</td>\n",
       "      <td>0.885</td>\n",
       "      <td>True</td>\n",
       "      <td>0.5</td>\n",
       "      <td>l2</td>\n",
       "      <td>True</td>\n",
       "      <td>ovr</td>\n",
       "      <td>9</td>\n",
       "    </tr>\n",
       "  </tbody>\n",
       "</table>\n",
       "</div>"
      ],
      "text/plain": [
       "  micro_f1_score micro_recall micro_precision  dual    C penalty  \\\n",
       "0          0.842        0.802           0.885  True  0.5      l2   \n",
       "\n",
       "  fit_intercept multi_class  window_size  \n",
       "0          True         ovr            9  "
      ]
     },
     "execution_count": 89,
     "metadata": {},
     "output_type": "execute_result"
    }
   ],
   "source": [
    "params = \"dual,C,penalty,fit_intercept,multi_class,window_size\".split(\",\")\n",
    "collection = \"TEST_CB_TAGGING_VD_WINDOW_CLASSIFIER_MOST_COMMON_TAG_MULTICLASS\"\n",
    "\n",
    "df = get_df_sorted_by_f1score(collection, params)\n",
    "round_data(df.head(ROWS),3)"
   ]
  },
  {
   "cell_type": "markdown",
   "metadata": {},
   "source": [
    "### Skin Cancer"
   ]
  },
  {
   "cell_type": "code",
   "execution_count": 90,
   "metadata": {
    "collapsed": false
   },
   "outputs": [
    {
     "data": {
      "text/html": [
       "<div>\n",
       "<table border=\"1\" class=\"dataframe\">\n",
       "  <thead>\n",
       "    <tr style=\"text-align: right;\">\n",
       "      <th></th>\n",
       "      <th>micro_f1_score</th>\n",
       "      <th>micro_recall</th>\n",
       "      <th>micro_precision</th>\n",
       "      <th>dual</th>\n",
       "      <th>C</th>\n",
       "      <th>penalty</th>\n",
       "      <th>fit_intercept</th>\n",
       "      <th>multi_class</th>\n",
       "      <th>window_size</th>\n",
       "    </tr>\n",
       "  </thead>\n",
       "  <tbody>\n",
       "    <tr>\n",
       "      <th>0</th>\n",
       "      <td>0.814</td>\n",
       "      <td>0.779</td>\n",
       "      <td>0.853</td>\n",
       "      <td>True</td>\n",
       "      <td>0.5</td>\n",
       "      <td>l2</td>\n",
       "      <td>True</td>\n",
       "      <td>ovr</td>\n",
       "      <td>9</td>\n",
       "    </tr>\n",
       "  </tbody>\n",
       "</table>\n",
       "</div>"
      ],
      "text/plain": [
       "  micro_f1_score micro_recall micro_precision  dual    C penalty  \\\n",
       "0          0.814        0.779           0.853  True  0.5      l2   \n",
       "\n",
       "  fit_intercept multi_class  window_size  \n",
       "0          True         ovr            9  "
      ]
     },
     "execution_count": 90,
     "metadata": {},
     "output_type": "execute_result"
    }
   ],
   "source": [
    "params = \"dual,C,penalty,fit_intercept,multi_class,window_size\".split(\",\")\n",
    "collection = \"TEST_SC_TAGGING_VD_WINDOW_CLASSIFIER_MOST_COMMON_TAG_MULTICLASS\"\n",
    "\n",
    "df = get_df_sorted_by_f1score(collection, params)\n",
    "round_data(df.head(ROWS),3)"
   ]
  },
  {
   "cell_type": "markdown",
   "metadata": {},
   "source": [
    "## CRF"
   ]
  },
  {
   "cell_type": "markdown",
   "metadata": {},
   "source": [
    "### Coral Bleaching"
   ]
  },
  {
   "cell_type": "code",
   "execution_count": 116,
   "metadata": {
    "collapsed": false
   },
   "outputs": [
    {
     "data": {
      "text/html": [
       "<div>\n",
       "<table border=\"1\" class=\"dataframe\">\n",
       "  <thead>\n",
       "    <tr style=\"text-align: right;\">\n",
       "      <th></th>\n",
       "      <th>micro_f1_score</th>\n",
       "      <th>micro_recall</th>\n",
       "      <th>micro_precision</th>\n",
       "      <th>feature_possible_states</th>\n",
       "      <th>feature_possible_transitions</th>\n",
       "      <th>c2</th>\n",
       "      <th>window_size</th>\n",
       "    </tr>\n",
       "  </thead>\n",
       "  <tbody>\n",
       "    <tr>\n",
       "      <th>0</th>\n",
       "      <td>0.840</td>\n",
       "      <td>0.803</td>\n",
       "      <td>0.881</td>\n",
       "      <td>False</td>\n",
       "      <td>True</td>\n",
       "      <td>0.1</td>\n",
       "      <td>9</td>\n",
       "    </tr>\n",
       "  </tbody>\n",
       "</table>\n",
       "</div>"
      ],
      "text/plain": [
       "  micro_f1_score micro_recall micro_precision feature_possible_states  \\\n",
       "0          0.840        0.803           0.881                   False   \n",
       "\n",
       "  feature_possible_transitions   c2  window_size  \n",
       "0                         True  0.1            9  "
      ]
     },
     "execution_count": 116,
     "metadata": {},
     "output_type": "execute_result"
    }
   ],
   "source": [
    "cols = \"micro_f1_score,micro_recall,micro_precision,feature_possible_states,feature_possible_transitions,c2,window_size\".split(\",\")\n",
    "df = get_df_sorted_by_f1score(\"TEST_CB_TAGGING_VD_CRF_MOST_COMMON_TAG\",\n",
    "                         \"feature_possible_states,feature_possible_transitions,c2,window_size\".split(\",\"))\n",
    "round_data(df[cols].head(ROWS),3)"
   ]
  },
  {
   "cell_type": "markdown",
   "metadata": {},
   "source": [
    "## Skin Cancer"
   ]
  },
  {
   "cell_type": "code",
   "execution_count": 117,
   "metadata": {
    "collapsed": false
   },
   "outputs": [
    {
     "data": {
      "text/html": [
       "<div>\n",
       "<table border=\"1\" class=\"dataframe\">\n",
       "  <thead>\n",
       "    <tr style=\"text-align: right;\">\n",
       "      <th></th>\n",
       "      <th>micro_f1_score</th>\n",
       "      <th>micro_recall</th>\n",
       "      <th>micro_precision</th>\n",
       "      <th>feature_possible_states</th>\n",
       "      <th>feature_possible_transitions</th>\n",
       "      <th>c2</th>\n",
       "      <th>window_size</th>\n",
       "    </tr>\n",
       "  </thead>\n",
       "  <tbody>\n",
       "    <tr>\n",
       "      <th>0</th>\n",
       "      <td>0.804</td>\n",
       "      <td>0.759</td>\n",
       "      <td>0.855</td>\n",
       "      <td>False</td>\n",
       "      <td>True</td>\n",
       "      <td>1.0</td>\n",
       "      <td>9</td>\n",
       "    </tr>\n",
       "  </tbody>\n",
       "</table>\n",
       "</div>"
      ],
      "text/plain": [
       "  micro_f1_score micro_recall micro_precision feature_possible_states  \\\n",
       "0          0.804        0.759           0.855                   False   \n",
       "\n",
       "  feature_possible_transitions   c2  window_size  \n",
       "0                         True  1.0            9  "
      ]
     },
     "execution_count": 117,
     "metadata": {},
     "output_type": "execute_result"
    }
   ],
   "source": [
    "cols = \"micro_f1_score,micro_recall,micro_precision,feature_possible_states,feature_possible_transitions,c2,window_size\".split(\",\")\n",
    "df = get_df_sorted_by_f1score(\"TEST_SC_TAGGING_VD_CRF_MOST_COMMON_TAG\",\n",
    "                         \"feature_possible_states,feature_possible_transitions,c2,window_size\".split(\",\"))\n",
    "round_data(df[cols].head(ROWS),3)"
   ]
  },
  {
   "cell_type": "markdown",
   "metadata": {},
   "source": [
    "## HMM"
   ]
  },
  {
   "cell_type": "markdown",
   "metadata": {},
   "source": [
    "### Coral Bleaching"
   ]
  },
  {
   "cell_type": "code",
   "execution_count": 135,
   "metadata": {
    "collapsed": false
   },
   "outputs": [
    {
     "data": {
      "text/html": [
       "<div>\n",
       "<table border=\"1\" class=\"dataframe\">\n",
       "  <thead>\n",
       "    <tr style=\"text-align: right;\">\n",
       "      <th></th>\n",
       "      <th>micro_f1_score</th>\n",
       "      <th>micro_recall</th>\n",
       "      <th>micro_precision</th>\n",
       "      <th>extractors</th>\n",
       "    </tr>\n",
       "  </thead>\n",
       "  <tbody>\n",
       "    <tr>\n",
       "      <th>0</th>\n",
       "      <td>0.764</td>\n",
       "      <td>0.803</td>\n",
       "      <td>0.728</td>\n",
       "      <td>stemmed_unigrams</td>\n",
       "    </tr>\n",
       "  </tbody>\n",
       "</table>\n",
       "</div>"
      ],
      "text/plain": [
       "  micro_f1_score micro_recall micro_precision        extractors\n",
       "0          0.764        0.803           0.728  stemmed_unigrams"
      ]
     },
     "execution_count": 135,
     "metadata": {},
     "output_type": "execute_result"
    }
   ],
   "source": [
    "params = \"extractors\".split(\",\")\n",
    "collection = \"TEST_CB_TAGGING_VD_HMM_MOST_COMMON_TAG_MULTICLASS\"\n",
    "\n",
    "df = get_df_sorted_by_f1score(collection, params)\n",
    "round_data(df.head(ROWS))"
   ]
  },
  {
   "cell_type": "markdown",
   "metadata": {},
   "source": [
    "## Skin Cancer"
   ]
  },
  {
   "cell_type": "code",
   "execution_count": 136,
   "metadata": {
    "collapsed": false
   },
   "outputs": [
    {
     "data": {
      "text/html": [
       "<div>\n",
       "<table border=\"1\" class=\"dataframe\">\n",
       "  <thead>\n",
       "    <tr style=\"text-align: right;\">\n",
       "      <th></th>\n",
       "      <th>micro_f1_score</th>\n",
       "      <th>micro_recall</th>\n",
       "      <th>micro_precision</th>\n",
       "      <th>extractors</th>\n",
       "    </tr>\n",
       "  </thead>\n",
       "  <tbody>\n",
       "    <tr>\n",
       "      <th>0</th>\n",
       "      <td>0.675</td>\n",
       "      <td>0.731</td>\n",
       "      <td>0.628</td>\n",
       "      <td>stemmed_unigrams</td>\n",
       "    </tr>\n",
       "  </tbody>\n",
       "</table>\n",
       "</div>"
      ],
      "text/plain": [
       "  micro_f1_score micro_recall micro_precision        extractors\n",
       "0          0.675        0.731           0.628  stemmed_unigrams"
      ]
     },
     "execution_count": 136,
     "metadata": {},
     "output_type": "execute_result"
    }
   ],
   "source": [
    "params = \"extractors\".split(\",\")\n",
    "collection = \"TEST_SC_TAGGING_VD_HMM_MOST_COMMON_TAG_MULTICLASS\"\n",
    "\n",
    "df = get_df_sorted_by_f1score(collection, params)\n",
    "round_data(df.head(ROWS))"
   ]
  },
  {
   "cell_type": "markdown",
   "metadata": {},
   "source": [
    "## Averaged Perceptron"
   ]
  },
  {
   "cell_type": "markdown",
   "metadata": {},
   "source": [
    "### Coral Bleaching"
   ]
  },
  {
   "cell_type": "code",
   "execution_count": 114,
   "metadata": {
    "collapsed": false
   },
   "outputs": [
    {
     "data": {
      "text/html": [
       "<div>\n",
       "<table border=\"1\" class=\"dataframe\">\n",
       "  <thead>\n",
       "    <tr style=\"text-align: right;\">\n",
       "      <th></th>\n",
       "      <th>micro_f1_score</th>\n",
       "      <th>micro_recall</th>\n",
       "      <th>micro_precision</th>\n",
       "      <th>tag_history</th>\n",
       "      <th>tag_plus_word</th>\n",
       "      <th>tag_ngram_size</th>\n",
       "      <th>window_size</th>\n",
       "    </tr>\n",
       "  </thead>\n",
       "  <tbody>\n",
       "    <tr>\n",
       "      <th>0</th>\n",
       "      <td>0.841618</td>\n",
       "      <td>0.802709</td>\n",
       "      <td>0.884491</td>\n",
       "      <td>1</td>\n",
       "      <td>5</td>\n",
       "      <td>1</td>\n",
       "      <td>9</td>\n",
       "    </tr>\n",
       "  </tbody>\n",
       "</table>\n",
       "</div>"
      ],
      "text/plain": [
       "   micro_f1_score  micro_recall  micro_precision  tag_history  tag_plus_word  \\\n",
       "0        0.841618      0.802709         0.884491            1              5   \n",
       "\n",
       "   tag_ngram_size  window_size  \n",
       "0               1            9  "
      ]
     },
     "execution_count": 114,
     "metadata": {},
     "output_type": "execute_result"
    }
   ],
   "source": [
    "model = \"AVG_PERCEPTRON_MOST_COMMON_TAG\"\n",
    "df = get_df_sorted_by_f1score(\"TEST_CB_TAGGING_VD_\" + model, \n",
    "                              \"tag_history,tag_plus_word,tag_ngram_size,window_size\")\n",
    "df.head(ROWS)[\"micro_f1_score,micro_recall,micro_precision,tag_history,tag_plus_word,tag_ngram_size,window_size\".split(\",\")]"
   ]
  },
  {
   "cell_type": "markdown",
   "metadata": {},
   "source": [
    "### Skin Cancer"
   ]
  },
  {
   "cell_type": "code",
   "execution_count": 115,
   "metadata": {
    "collapsed": false
   },
   "outputs": [
    {
     "data": {
      "text/html": [
       "<div>\n",
       "<table border=\"1\" class=\"dataframe\">\n",
       "  <thead>\n",
       "    <tr style=\"text-align: right;\">\n",
       "      <th></th>\n",
       "      <th>micro_f1_score</th>\n",
       "      <th>micro_recall</th>\n",
       "      <th>micro_precision</th>\n",
       "      <th>tag_history</th>\n",
       "      <th>tag_plus_word</th>\n",
       "      <th>tag_ngram_size</th>\n",
       "      <th>window_size</th>\n",
       "    </tr>\n",
       "  </thead>\n",
       "  <tbody>\n",
       "    <tr>\n",
       "      <th>0</th>\n",
       "      <td>0.816972</td>\n",
       "      <td>0.775697</td>\n",
       "      <td>0.862888</td>\n",
       "      <td>5</td>\n",
       "      <td>5</td>\n",
       "      <td>0</td>\n",
       "      <td>9</td>\n",
       "    </tr>\n",
       "  </tbody>\n",
       "</table>\n",
       "</div>"
      ],
      "text/plain": [
       "   micro_f1_score  micro_recall  micro_precision  tag_history  tag_plus_word  \\\n",
       "0        0.816972      0.775697         0.862888            5              5   \n",
       "\n",
       "   tag_ngram_size  window_size  \n",
       "0               0            9  "
      ]
     },
     "execution_count": 115,
     "metadata": {},
     "output_type": "execute_result"
    }
   ],
   "source": [
    "model = \"AVG_PERCEPTRON_MOST_COMMON_TAG\"\n",
    "df = get_df_sorted_by_f1score(\"TEST_SC_TAGGING_VD_\" + model, \n",
    "                              \"tag_history,tag_plus_word,tag_ngram_size,window_size\")\n",
    "df.head(ROWS)[\"micro_f1_score,micro_recall,micro_precision,tag_history,tag_plus_word,tag_ngram_size,window_size\".split(\",\")]"
   ]
  },
  {
   "cell_type": "markdown",
   "metadata": {},
   "source": [
    "### Get Train, Test Scores"
   ]
  },
  {
   "cell_type": "code",
   "execution_count": null,
   "metadata": {
    "collapsed": true
   },
   "outputs": [],
   "source": []
  }
 ],
 "metadata": {
  "anaconda-cloud": {},
  "kernelspec": {
   "display_name": "Python [conda env:phd]",
   "language": "python",
   "name": "conda-env-phd-py"
  }
 },
 "nbformat": 4,
 "nbformat_minor": 2
}
