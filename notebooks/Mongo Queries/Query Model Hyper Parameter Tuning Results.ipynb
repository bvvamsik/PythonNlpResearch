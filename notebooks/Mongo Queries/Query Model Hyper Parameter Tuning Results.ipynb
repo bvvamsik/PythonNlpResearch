{
 "cells": [
  {
   "cell_type": "code",
   "execution_count": 241,
   "metadata": {
    "collapsed": true
   },
   "outputs": [],
   "source": [
    "%matplotlib inline\n",
    "import numpy as np\n",
    "import pandas as pd\n",
    "import matplotlib as mpl\n",
    "import matplotlib.pyplot as plt\n",
    "import seaborn as sns\n",
    "import pymongo\n",
    "from pprint import pprint"
   ]
  },
  {
   "cell_type": "code",
   "execution_count": 242,
   "metadata": {
    "collapsed": true
   },
   "outputs": [],
   "source": [
    "def group_by(df, bycols, agg_map):\n",
    "    \"\"\"\n",
    "\n",
    "    @param df:      DataFrame\n",
    "    @param bycols:  str or list\n",
    "                        Column(s) to group by\n",
    "    @param agg_map: dictionary or list of 2-tuples\n",
    "                        Mapping from column to aggregate function e.g. [(\"city\", \"count\"), (\"salary\", \"mean\"]\n",
    "    @return:        DataFrame\n",
    "                        Flattened dataframe, with multi-level index removed\n",
    "    \"\"\"\n",
    "    grps = []\n",
    "    if type(bycols) == str:\n",
    "        bycols = [bycols]\n",
    "\n",
    "    if type(agg_map) == dict:\n",
    "        agg_map = agg_map.items()\n",
    "\n",
    "    for k,v in agg_map:\n",
    "        grp = df[bycols + [k]].groupby(bycols, ).agg(v)\n",
    "        grp.reset_index(inplace=True)\n",
    "        grp[\"%s(%s)\" % (v,k)] = grp[k]\n",
    "        del grp[k]\n",
    "        grps.append(grp)\n",
    "\n",
    "    m = grps[0]\n",
    "    for grp in grps[1:]:\n",
    "        m = pd.merge(m, grp, on=bycols, how=\"inner\")\n",
    "    return m"
   ]
  },
  {
   "cell_type": "code",
   "execution_count": 295,
   "metadata": {
    "collapsed": true
   },
   "outputs": [],
   "source": [
    "from bson.son import SON # needed to ensure dictionary is ordered (python default is not)\n",
    "import hashlib\n",
    "\n",
    "def hash_feats(fts):\n",
    "    vals = fts.values\n",
    "    joined = \"|\".join(map(str,vals))\n",
    "    return hashlib.sha224(joined).hexdigest()\n",
    "\n",
    "def get_df_sorted_by_f1score(collection, params=None, filter_cols=True):\n",
    "    if not params:\n",
    "        params = []\n",
    "    if type(params) == str:\n",
    "        params = params.split(\",\")\n",
    "    \n",
    "    project = {\n",
    "            \"weighted_f1_score\":\"$WEIGHTED_MEAN_CONCEPT_CODES.f1_score\",\n",
    "            \"micro_f1_score\":  \"$MICRO_F1.f1_score\",\n",
    "            \"micro_recall\":    \"$MICRO_F1.recall\",\n",
    "            \"micro_precision\": \"$MICRO_F1.precision\",\n",
    "    \n",
    "    # PARAMETERS            \n",
    "            \"window_size\":    \"$parameters.window_size\",\n",
    "            \"feats\":          \"$parameters.extractors\",\n",
    "            \"count\": {        \"$size\" : \"$parameters.extractors\" },\n",
    "            \"asof\" :          \"$asof\",\n",
    "            \"_id\":1\n",
    "    }\n",
    "    \n",
    "    # No count for HMM\n",
    "    if \"_hmm\" in collection.lower():\n",
    "        del project[\"count\"]\n",
    "    \n",
    "    for param in params:\n",
    "        project[param] = \"$parameters.\" + param\n",
    "\n",
    "    feats_pipeline = [{\n",
    "        \"$project\": project\n",
    "    },\n",
    "    {\n",
    "        \"$match\":{\n",
    "            \"micro_f1_score\": { \"$exists\" : True }        \n",
    "        }\n",
    "    },\n",
    "    {\n",
    "        \"$sort\":{\n",
    "            \"micro_f1_score\": -1\n",
    "        }\n",
    "    },\n",
    "    ]\n",
    "    \n",
    "    rows = [row for row in db[collection].aggregate(feats_pipeline)]\n",
    "    df = pd.DataFrame(rows).sort_values(\"micro_f1_score\", ascending=False)\n",
    "    if params:\n",
    "        df[\"hs_params\"] = df[params].apply(hash_feats, axis=1)\n",
    "        \n",
    "    if filter_cols:\n",
    "        cols = [\"micro_f1_score\", \"micro_recall\" ,\"micro_precision\" ] + params\n",
    "        return df[cols]\n",
    "    return df"
   ]
  },
  {
   "cell_type": "code",
   "execution_count": 296,
   "metadata": {
    "collapsed": true
   },
   "outputs": [],
   "source": [
    "def get_window_classifier_results(prefix):\n",
    "    collections = \"WINDOW_CLASSIFIER_BR,WINDOW_CLASSIFIER_LBL_POWERSET_MULTICLASS,WINDOW_CLASSIFIER_MOST_COMMON_TAG_MULTICLASS\".split(\",\")\n",
    "    dfs = []\n",
    "    for c in collections:\n",
    "        col = prefix + c\n",
    "        print col\n",
    "        df = dict(get_df_sorted_by_f1score(col).iloc[0,:])\n",
    "        df[\"Collection_\" + prefix[:-1]] = col.replace(prefix,\"\")\n",
    "        dfs.append(df)\n",
    "    return pd.DataFrame(dfs).sort_values(\"micro_f1_score\", ascending=False)"
   ]
  },
  {
   "cell_type": "markdown",
   "metadata": {},
   "source": [
    "# Which Problem Transformation Method Was Best?"
   ]
  },
  {
   "cell_type": "markdown",
   "metadata": {},
   "source": [
    "## Coral Bleaching"
   ]
  },
  {
   "cell_type": "code",
   "execution_count": 281,
   "metadata": {
    "collapsed": false
   },
   "outputs": [
    {
     "name": "stdout",
     "output_type": "stream",
     "text": [
      "CB_TAGGING_VD_WINDOW_CLASSIFIER_BR\n",
      "CB_TAGGING_VD_WINDOW_CLASSIFIER_LBL_POWERSET_MULTICLASS\n",
      "CB_TAGGING_VD_WINDOW_CLASSIFIER_MOST_COMMON_TAG_MULTICLASS\n"
     ]
    },
    {
     "data": {
      "text/html": [
       "<div>\n",
       "<table border=\"1\" class=\"dataframe\">\n",
       "  <thead>\n",
       "    <tr style=\"text-align: right;\">\n",
       "      <th></th>\n",
       "      <th>Collection_CB_TAGGING_VD</th>\n",
       "      <th>micro_f1_score</th>\n",
       "      <th>micro_recall</th>\n",
       "      <th>micro_precision</th>\n",
       "    </tr>\n",
       "  </thead>\n",
       "  <tbody>\n",
       "    <tr>\n",
       "      <th>2</th>\n",
       "      <td>WINDOW_CLASSIFIER_MOST_COMMON_TAG_MULTICLASS</td>\n",
       "      <td>0.835846</td>\n",
       "      <td>0.793314</td>\n",
       "      <td>0.883197</td>\n",
       "    </tr>\n",
       "    <tr>\n",
       "      <th>1</th>\n",
       "      <td>WINDOW_CLASSIFIER_LBL_POWERSET_MULTICLASS</td>\n",
       "      <td>0.835756</td>\n",
       "      <td>0.793114</td>\n",
       "      <td>0.883244</td>\n",
       "    </tr>\n",
       "    <tr>\n",
       "      <th>0</th>\n",
       "      <td>WINDOW_CLASSIFIER_BR</td>\n",
       "      <td>0.828318</td>\n",
       "      <td>0.777359</td>\n",
       "      <td>0.886428</td>\n",
       "    </tr>\n",
       "  </tbody>\n",
       "</table>\n",
       "</div>"
      ],
      "text/plain": [
       "                       Collection_CB_TAGGING_VD  micro_f1_score  micro_recall  \\\n",
       "2  WINDOW_CLASSIFIER_MOST_COMMON_TAG_MULTICLASS        0.835846      0.793314   \n",
       "1     WINDOW_CLASSIFIER_LBL_POWERSET_MULTICLASS        0.835756      0.793114   \n",
       "0                          WINDOW_CLASSIFIER_BR        0.828318      0.777359   \n",
       "\n",
       "   micro_precision  \n",
       "2         0.883197  \n",
       "1         0.883244  \n",
       "0         0.886428  "
      ]
     },
     "execution_count": 281,
     "metadata": {},
     "output_type": "execute_result"
    }
   ],
   "source": [
    "df = get_window_classifier_results(\"CB_TAGGING_VD_\")\n",
    "df[\"Collection_CB_TAGGING_VD,micro_f1_score,micro_recall,micro_precision\".split(\",\")]"
   ]
  },
  {
   "cell_type": "markdown",
   "metadata": {},
   "source": [
    "## Skin Cancer"
   ]
  },
  {
   "cell_type": "code",
   "execution_count": 282,
   "metadata": {
    "collapsed": false
   },
   "outputs": [
    {
     "name": "stdout",
     "output_type": "stream",
     "text": [
      "SC_TAGGING_VD_WINDOW_CLASSIFIER_BR\n",
      "SC_TAGGING_VD_WINDOW_CLASSIFIER_LBL_POWERSET_MULTICLASS\n",
      "SC_TAGGING_VD_WINDOW_CLASSIFIER_MOST_COMMON_TAG_MULTICLASS\n"
     ]
    },
    {
     "data": {
      "text/html": [
       "<div>\n",
       "<table border=\"1\" class=\"dataframe\">\n",
       "  <thead>\n",
       "    <tr style=\"text-align: right;\">\n",
       "      <th></th>\n",
       "      <th>Collection_SC_TAGGING_VD</th>\n",
       "      <th>micro_f1_score</th>\n",
       "      <th>micro_recall</th>\n",
       "      <th>micro_precision</th>\n",
       "    </tr>\n",
       "  </thead>\n",
       "  <tbody>\n",
       "    <tr>\n",
       "      <th>1</th>\n",
       "      <td>WINDOW_CLASSIFIER_LBL_POWERSET_MULTICLASS</td>\n",
       "      <td>0.813778</td>\n",
       "      <td>0.779144</td>\n",
       "      <td>0.851636</td>\n",
       "    </tr>\n",
       "    <tr>\n",
       "      <th>2</th>\n",
       "      <td>WINDOW_CLASSIFIER_MOST_COMMON_TAG_MULTICLASS</td>\n",
       "      <td>0.813778</td>\n",
       "      <td>0.779144</td>\n",
       "      <td>0.851636</td>\n",
       "    </tr>\n",
       "    <tr>\n",
       "      <th>0</th>\n",
       "      <td>WINDOW_CLASSIFIER_BR</td>\n",
       "      <td>0.807288</td>\n",
       "      <td>0.765052</td>\n",
       "      <td>0.854460</td>\n",
       "    </tr>\n",
       "  </tbody>\n",
       "</table>\n",
       "</div>"
      ],
      "text/plain": [
       "                       Collection_SC_TAGGING_VD  micro_f1_score  micro_recall  \\\n",
       "1     WINDOW_CLASSIFIER_LBL_POWERSET_MULTICLASS        0.813778      0.779144   \n",
       "2  WINDOW_CLASSIFIER_MOST_COMMON_TAG_MULTICLASS        0.813778      0.779144   \n",
       "0                          WINDOW_CLASSIFIER_BR        0.807288      0.765052   \n",
       "\n",
       "   micro_precision  \n",
       "1         0.851636  \n",
       "2         0.851636  \n",
       "0         0.854460  "
      ]
     },
     "execution_count": 282,
     "metadata": {},
     "output_type": "execute_result"
    }
   ],
   "source": [
    "df = get_window_classifier_results(\"SC_TAGGING_VD_\")\n",
    "df[\"Collection_SC_TAGGING_VD,micro_f1_score,micro_recall,micro_precision\".split(\",\")]"
   ]
  },
  {
   "cell_type": "markdown",
   "metadata": {},
   "source": [
    "** Unsurprisingly in this case, as there were only two MLC labels, the score for LBL powerset and Common tag are the same **\n",
    "\n",
    "** HOWEVER - why is the multiclass version that much better? It does OVR, and with only 2 records difference, this makes no sense to me **"
   ]
  },
  {
   "cell_type": "markdown",
   "metadata": {},
   "source": [
    "# Hyper Parameter Tuning Results"
   ]
  },
  {
   "cell_type": "code",
   "execution_count": 291,
   "metadata": {
    "collapsed": true
   },
   "outputs": [],
   "source": [
    "# Rows to print - df.head\n",
    "ROWS = 5"
   ]
  },
  {
   "cell_type": "markdown",
   "metadata": {},
   "source": [
    "## Window Based Classifier - Hyper Parameter Tuning"
   ]
  },
  {
   "cell_type": "markdown",
   "metadata": {},
   "source": [
    "### Coral Bleaching"
   ]
  },
  {
   "cell_type": "code",
   "execution_count": 292,
   "metadata": {
    "collapsed": false
   },
   "outputs": [
    {
     "data": {
      "text/html": [
       "<div>\n",
       "<table border=\"1\" class=\"dataframe\">\n",
       "  <thead>\n",
       "    <tr style=\"text-align: right;\">\n",
       "      <th></th>\n",
       "      <th>micro_f1_score</th>\n",
       "      <th>micro_recall</th>\n",
       "      <th>micro_precision</th>\n",
       "      <th>dual</th>\n",
       "      <th>C</th>\n",
       "      <th>penalty</th>\n",
       "      <th>fit_intercept</th>\n",
       "      <th>multi_class</th>\n",
       "    </tr>\n",
       "  </thead>\n",
       "  <tbody>\n",
       "    <tr>\n",
       "      <th>0</th>\n",
       "      <td>0.836792</td>\n",
       "      <td>0.789918</td>\n",
       "      <td>0.889579</td>\n",
       "      <td>True</td>\n",
       "      <td>0.5</td>\n",
       "      <td>l2</td>\n",
       "      <td>True</td>\n",
       "      <td>ovr</td>\n",
       "    </tr>\n",
       "    <tr>\n",
       "      <th>1</th>\n",
       "      <td>0.836750</td>\n",
       "      <td>0.789868</td>\n",
       "      <td>0.889548</td>\n",
       "      <td>False</td>\n",
       "      <td>0.5</td>\n",
       "      <td>l2</td>\n",
       "      <td>True</td>\n",
       "      <td>ovr</td>\n",
       "    </tr>\n",
       "    <tr>\n",
       "      <th>2</th>\n",
       "      <td>0.835756</td>\n",
       "      <td>0.793114</td>\n",
       "      <td>0.883244</td>\n",
       "      <td>False</td>\n",
       "      <td>1.0</td>\n",
       "      <td>l2</td>\n",
       "      <td>True</td>\n",
       "      <td>ovr</td>\n",
       "    </tr>\n",
       "    <tr>\n",
       "      <th>3</th>\n",
       "      <td>0.835745</td>\n",
       "      <td>0.793114</td>\n",
       "      <td>0.883220</td>\n",
       "      <td>True</td>\n",
       "      <td>1.0</td>\n",
       "      <td>l2</td>\n",
       "      <td>True</td>\n",
       "      <td>ovr</td>\n",
       "    </tr>\n",
       "    <tr>\n",
       "      <th>4</th>\n",
       "      <td>0.835178</td>\n",
       "      <td>0.791366</td>\n",
       "      <td>0.884125</td>\n",
       "      <td>True</td>\n",
       "      <td>0.5</td>\n",
       "      <td>l2</td>\n",
       "      <td>False</td>\n",
       "      <td>ovr</td>\n",
       "    </tr>\n",
       "  </tbody>\n",
       "</table>\n",
       "</div>"
      ],
      "text/plain": [
       "   micro_f1_score  micro_recall  micro_precision   dual    C penalty  \\\n",
       "0        0.836792      0.789918         0.889579   True  0.5      l2   \n",
       "1        0.836750      0.789868         0.889548  False  0.5      l2   \n",
       "2        0.835756      0.793114         0.883244  False  1.0      l2   \n",
       "3        0.835745      0.793114         0.883220   True  1.0      l2   \n",
       "4        0.835178      0.791366         0.884125   True  0.5      l2   \n",
       "\n",
       "  fit_intercept multi_class  \n",
       "0          True         ovr  \n",
       "1          True         ovr  \n",
       "2          True         ovr  \n",
       "3          True         ovr  \n",
       "4         False         ovr  "
      ]
     },
     "execution_count": 292,
     "metadata": {},
     "output_type": "execute_result"
    }
   ],
   "source": [
    "params = \"dual,C,penalty,fit_intercept,multi_class\".split(\",\")\n",
    "collection = \"CB_TAGGING_VD_WINDOW_CLASSIFIER_LBL_POWERSET_MULTICLASS_HYPER_PARAM_TUNING\"\n",
    "\n",
    "df = get_df_sorted_by_f1score(collection, params)\n",
    "df.head(ROWS)"
   ]
  },
  {
   "cell_type": "markdown",
   "metadata": {},
   "source": [
    "### Skin Cancer"
   ]
  },
  {
   "cell_type": "code",
   "execution_count": 293,
   "metadata": {
    "collapsed": false
   },
   "outputs": [
    {
     "data": {
      "text/html": [
       "<div>\n",
       "<table border=\"1\" class=\"dataframe\">\n",
       "  <thead>\n",
       "    <tr style=\"text-align: right;\">\n",
       "      <th></th>\n",
       "      <th>micro_f1_score</th>\n",
       "      <th>micro_recall</th>\n",
       "      <th>micro_precision</th>\n",
       "      <th>dual</th>\n",
       "      <th>C</th>\n",
       "      <th>penalty</th>\n",
       "      <th>fit_intercept</th>\n",
       "      <th>multi_class</th>\n",
       "    </tr>\n",
       "  </thead>\n",
       "  <tbody>\n",
       "    <tr>\n",
       "      <th>0</th>\n",
       "      <td>0.815927</td>\n",
       "      <td>0.777754</td>\n",
       "      <td>0.858041</td>\n",
       "      <td>False</td>\n",
       "      <td>0.5</td>\n",
       "      <td>l2</td>\n",
       "      <td>True</td>\n",
       "      <td>ovr</td>\n",
       "    </tr>\n",
       "    <tr>\n",
       "      <th>1</th>\n",
       "      <td>0.815909</td>\n",
       "      <td>0.777781</td>\n",
       "      <td>0.857968</td>\n",
       "      <td>True</td>\n",
       "      <td>0.5</td>\n",
       "      <td>l2</td>\n",
       "      <td>True</td>\n",
       "      <td>ovr</td>\n",
       "    </tr>\n",
       "    <tr>\n",
       "      <th>2</th>\n",
       "      <td>0.815091</td>\n",
       "      <td>0.782878</td>\n",
       "      <td>0.850070</td>\n",
       "      <td>False</td>\n",
       "      <td>1.0</td>\n",
       "      <td>l1</td>\n",
       "      <td>True</td>\n",
       "      <td>ovr</td>\n",
       "    </tr>\n",
       "    <tr>\n",
       "      <th>3</th>\n",
       "      <td>0.814214</td>\n",
       "      <td>0.776909</td>\n",
       "      <td>0.855283</td>\n",
       "      <td>False</td>\n",
       "      <td>0.5</td>\n",
       "      <td>l1</td>\n",
       "      <td>True</td>\n",
       "      <td>ovr</td>\n",
       "    </tr>\n",
       "    <tr>\n",
       "      <th>4</th>\n",
       "      <td>0.813818</td>\n",
       "      <td>0.779171</td>\n",
       "      <td>0.851691</td>\n",
       "      <td>True</td>\n",
       "      <td>1.0</td>\n",
       "      <td>l2</td>\n",
       "      <td>True</td>\n",
       "      <td>ovr</td>\n",
       "    </tr>\n",
       "  </tbody>\n",
       "</table>\n",
       "</div>"
      ],
      "text/plain": [
       "   micro_f1_score  micro_recall  micro_precision   dual    C penalty  \\\n",
       "0        0.815927      0.777754         0.858041  False  0.5      l2   \n",
       "1        0.815909      0.777781         0.857968   True  0.5      l2   \n",
       "2        0.815091      0.782878         0.850070  False  1.0      l1   \n",
       "3        0.814214      0.776909         0.855283  False  0.5      l1   \n",
       "4        0.813818      0.779171         0.851691   True  1.0      l2   \n",
       "\n",
       "  fit_intercept multi_class  \n",
       "0          True         ovr  \n",
       "1          True         ovr  \n",
       "2          True         ovr  \n",
       "3          True         ovr  \n",
       "4          True         ovr  "
      ]
     },
     "execution_count": 293,
     "metadata": {},
     "output_type": "execute_result"
    }
   ],
   "source": [
    "params = \"dual,C,penalty,fit_intercept,multi_class\".split(\",\")\n",
    "collection = \"SC_TAGGING_VD_WINDOW_CLASSIFIER_LBL_POWERSET_MULTICLASS_HYPER_PARAM_TUNING\"\n",
    "\n",
    "df = get_df_sorted_by_f1score(collection, params)\n",
    "df.head(ROWS)"
   ]
  },
  {
   "cell_type": "markdown",
   "metadata": {},
   "source": [
    "## CRF Performance - Hyper Parameter Tuning "
   ]
  },
  {
   "cell_type": "markdown",
   "metadata": {},
   "source": [
    "### Coral Bleaching"
   ]
  },
  {
   "cell_type": "code",
   "execution_count": 260,
   "metadata": {
    "collapsed": false
   },
   "outputs": [
    {
     "data": {
      "text/html": [
       "<div>\n",
       "<table border=\"1\" class=\"dataframe\">\n",
       "  <thead>\n",
       "    <tr style=\"text-align: right;\">\n",
       "      <th></th>\n",
       "      <th>micro_f1_score</th>\n",
       "      <th>micro_precision</th>\n",
       "      <th>micro_recall</th>\n",
       "      <th>feature_possible_states</th>\n",
       "      <th>feature_possible_transitions</th>\n",
       "      <th>c2</th>\n",
       "    </tr>\n",
       "  </thead>\n",
       "  <tbody>\n",
       "    <tr>\n",
       "      <th>0</th>\n",
       "      <td>0.829887</td>\n",
       "      <td>0.887694</td>\n",
       "      <td>0.779148</td>\n",
       "      <td>False</td>\n",
       "      <td>True</td>\n",
       "      <td>1.0</td>\n",
       "    </tr>\n",
       "    <tr>\n",
       "      <th>1</th>\n",
       "      <td>0.829362</td>\n",
       "      <td>0.887119</td>\n",
       "      <td>0.778666</td>\n",
       "      <td>False</td>\n",
       "      <td>False</td>\n",
       "      <td>1.0</td>\n",
       "    </tr>\n",
       "    <tr>\n",
       "      <th>2</th>\n",
       "      <td>0.828921</td>\n",
       "      <td>0.885422</td>\n",
       "      <td>0.779199</td>\n",
       "      <td>False</td>\n",
       "      <td>True</td>\n",
       "      <td>0.5</td>\n",
       "    </tr>\n",
       "    <tr>\n",
       "      <th>3</th>\n",
       "      <td>0.827848</td>\n",
       "      <td>0.890057</td>\n",
       "      <td>0.773768</td>\n",
       "      <td>False</td>\n",
       "      <td>True</td>\n",
       "      <td>2.0</td>\n",
       "    </tr>\n",
       "    <tr>\n",
       "      <th>4</th>\n",
       "      <td>0.826696</td>\n",
       "      <td>0.879389</td>\n",
       "      <td>0.779960</td>\n",
       "      <td>False</td>\n",
       "      <td>False</td>\n",
       "      <td>0.1</td>\n",
       "    </tr>\n",
       "  </tbody>\n",
       "</table>\n",
       "</div>"
      ],
      "text/plain": [
       "   micro_f1_score  micro_precision  micro_recall feature_possible_states  \\\n",
       "0        0.829887         0.887694      0.779148                   False   \n",
       "1        0.829362         0.887119      0.778666                   False   \n",
       "2        0.828921         0.885422      0.779199                   False   \n",
       "3        0.827848         0.890057      0.773768                   False   \n",
       "4        0.826696         0.879389      0.779960                   False   \n",
       "\n",
       "  feature_possible_transitions   c2  \n",
       "0                         True  1.0  \n",
       "1                        False  1.0  \n",
       "2                         True  0.5  \n",
       "3                         True  2.0  \n",
       "4                        False  0.1  "
      ]
     },
     "execution_count": 260,
     "metadata": {},
     "output_type": "execute_result"
    }
   ],
   "source": [
    "cols = \"micro_f1_score,micro_precision,micro_recall,feature_possible_states,feature_possible_transitions,c2\".split(\",\")\n",
    "df = get_df_sorted_by_f1score(\"CB_TAGGING_VD_CRF_LBL_POWERSET_HYPERPARAM_OPT\",\n",
    "                         \"feature_possible_states,feature_possible_transitions,c2\".split(\",\"))\n",
    "df[cols].head(ROWS)"
   ]
  },
  {
   "cell_type": "markdown",
   "metadata": {},
   "source": [
    "### Skin Cancer"
   ]
  },
  {
   "cell_type": "code",
   "execution_count": 261,
   "metadata": {
    "collapsed": false
   },
   "outputs": [
    {
     "data": {
      "text/html": [
       "<div>\n",
       "<table border=\"1\" class=\"dataframe\">\n",
       "  <thead>\n",
       "    <tr style=\"text-align: right;\">\n",
       "      <th></th>\n",
       "      <th>micro_f1_score</th>\n",
       "      <th>micro_precision</th>\n",
       "      <th>micro_recall</th>\n",
       "      <th>feature_possible_states</th>\n",
       "      <th>feature_possible_transitions</th>\n",
       "      <th>c2</th>\n",
       "    </tr>\n",
       "  </thead>\n",
       "  <tbody>\n",
       "    <tr>\n",
       "      <th>0</th>\n",
       "      <td>0.803346</td>\n",
       "      <td>0.859727</td>\n",
       "      <td>0.753904</td>\n",
       "      <td>False</td>\n",
       "      <td>False</td>\n",
       "      <td>2.0</td>\n",
       "    </tr>\n",
       "    <tr>\n",
       "      <th>1</th>\n",
       "      <td>0.803316</td>\n",
       "      <td>0.859553</td>\n",
       "      <td>0.753986</td>\n",
       "      <td>False</td>\n",
       "      <td>True</td>\n",
       "      <td>2.0</td>\n",
       "    </tr>\n",
       "    <tr>\n",
       "      <th>2</th>\n",
       "      <td>0.802608</td>\n",
       "      <td>0.856701</td>\n",
       "      <td>0.754940</td>\n",
       "      <td>False</td>\n",
       "      <td>False</td>\n",
       "      <td>1.0</td>\n",
       "    </tr>\n",
       "    <tr>\n",
       "      <th>3</th>\n",
       "      <td>0.802369</td>\n",
       "      <td>0.853438</td>\n",
       "      <td>0.757066</td>\n",
       "      <td>False</td>\n",
       "      <td>True</td>\n",
       "      <td>0.5</td>\n",
       "    </tr>\n",
       "    <tr>\n",
       "      <th>4</th>\n",
       "      <td>0.802277</td>\n",
       "      <td>0.856052</td>\n",
       "      <td>0.754858</td>\n",
       "      <td>False</td>\n",
       "      <td>True</td>\n",
       "      <td>1.0</td>\n",
       "    </tr>\n",
       "  </tbody>\n",
       "</table>\n",
       "</div>"
      ],
      "text/plain": [
       "   micro_f1_score  micro_precision  micro_recall feature_possible_states  \\\n",
       "0        0.803346         0.859727      0.753904                   False   \n",
       "1        0.803316         0.859553      0.753986                   False   \n",
       "2        0.802608         0.856701      0.754940                   False   \n",
       "3        0.802369         0.853438      0.757066                   False   \n",
       "4        0.802277         0.856052      0.754858                   False   \n",
       "\n",
       "  feature_possible_transitions   c2  \n",
       "0                        False  2.0  \n",
       "1                         True  2.0  \n",
       "2                        False  1.0  \n",
       "3                         True  0.5  \n",
       "4                         True  1.0  "
      ]
     },
     "execution_count": 261,
     "metadata": {},
     "output_type": "execute_result"
    }
   ],
   "source": [
    "cols = \"micro_f1_score,micro_precision,micro_recall,feature_possible_states,feature_possible_transitions,c2\".split(\",\")\n",
    "df = get_df_sorted_by_f1score(\"SC_TAGGING_VD_CRF_LBL_POWERSET_HYPERPARAM_OPT\",\n",
    "                         \"feature_possible_states,feature_possible_transitions,c2\".split(\",\"))\n",
    "df[cols].head(ROWS)"
   ]
  },
  {
   "cell_type": "markdown",
   "metadata": {},
   "source": [
    "## HMM - Hyper Parameter Tuning (Features in this case)"
   ]
  },
  {
   "cell_type": "markdown",
   "metadata": {},
   "source": [
    "### Coral Bleaching"
   ]
  },
  {
   "cell_type": "code",
   "execution_count": 297,
   "metadata": {
    "collapsed": false
   },
   "outputs": [
    {
     "data": {
      "text/html": [
       "<div>\n",
       "<table border=\"1\" class=\"dataframe\">\n",
       "  <thead>\n",
       "    <tr style=\"text-align: right;\">\n",
       "      <th></th>\n",
       "      <th>micro_f1_score</th>\n",
       "      <th>micro_recall</th>\n",
       "      <th>micro_precision</th>\n",
       "      <th>extractors</th>\n",
       "    </tr>\n",
       "  </thead>\n",
       "  <tbody>\n",
       "    <tr>\n",
       "      <th>0</th>\n",
       "      <td>0.764348</td>\n",
       "      <td>0.790924</td>\n",
       "      <td>0.739500</td>\n",
       "      <td>stemmed_unigrams</td>\n",
       "    </tr>\n",
       "    <tr>\n",
       "      <th>1</th>\n",
       "      <td>0.758365</td>\n",
       "      <td>0.779960</td>\n",
       "      <td>0.737934</td>\n",
       "      <td>unigrams</td>\n",
       "    </tr>\n",
       "  </tbody>\n",
       "</table>\n",
       "</div>"
      ],
      "text/plain": [
       "   micro_f1_score  micro_recall  micro_precision        extractors\n",
       "0        0.764348      0.790924         0.739500  stemmed_unigrams\n",
       "1        0.758365      0.779960         0.737934          unigrams"
      ]
     },
     "execution_count": 297,
     "metadata": {},
     "output_type": "execute_result"
    }
   ],
   "source": [
    "params = \"extractors\".split(\",\")\n",
    "collection = \"CB_TAGGING_VD_HMM\"\n",
    "\n",
    "df = get_df_sorted_by_f1score(collection, params)\n",
    "df.head(ROWS)"
   ]
  },
  {
   "cell_type": "code",
   "execution_count": 300,
   "metadata": {
    "collapsed": false
   },
   "outputs": [
    {
     "data": {
      "text/html": [
       "<div>\n",
       "<table border=\"1\" class=\"dataframe\">\n",
       "  <thead>\n",
       "    <tr style=\"text-align: right;\">\n",
       "      <th></th>\n",
       "      <th>micro_f1_score</th>\n",
       "      <th>micro_recall</th>\n",
       "      <th>micro_precision</th>\n",
       "      <th>extractors</th>\n",
       "    </tr>\n",
       "  </thead>\n",
       "  <tbody>\n",
       "    <tr>\n",
       "      <th>0</th>\n",
       "      <td>0.769735</td>\n",
       "      <td>0.802193</td>\n",
       "      <td>0.739801</td>\n",
       "      <td>stemmed_unigrams</td>\n",
       "    </tr>\n",
       "    <tr>\n",
       "      <th>1</th>\n",
       "      <td>0.764508</td>\n",
       "      <td>0.791051</td>\n",
       "      <td>0.739689</td>\n",
       "      <td>unigrams</td>\n",
       "    </tr>\n",
       "  </tbody>\n",
       "</table>\n",
       "</div>"
      ],
      "text/plain": [
       "   micro_f1_score  micro_recall  micro_precision        extractors\n",
       "0        0.769735      0.802193         0.739801  stemmed_unigrams\n",
       "1        0.764508      0.791051         0.739689          unigrams"
      ]
     },
     "execution_count": 300,
     "metadata": {},
     "output_type": "execute_result"
    }
   ],
   "source": [
    "params = \"extractors\".split(\",\")\n",
    "collection = \"CB_TAGGING_VD_HMM_LBL_POWERSET\"\n",
    "\n",
    "df = get_df_sorted_by_f1score(collection, params)\n",
    "df.head(ROWS)"
   ]
  },
  {
   "cell_type": "markdown",
   "metadata": {},
   "source": [
    "# <span style=\"color:red\">_NEED TO DO MOST COMMON TAG_!!!!<span>"
   ]
  },
  {
   "cell_type": "markdown",
   "metadata": {},
   "source": [
    "### Skin Cancer"
   ]
  },
  {
   "cell_type": "code",
   "execution_count": 298,
   "metadata": {
    "collapsed": false
   },
   "outputs": [
    {
     "data": {
      "text/html": [
       "<div>\n",
       "<table border=\"1\" class=\"dataframe\">\n",
       "  <thead>\n",
       "    <tr style=\"text-align: right;\">\n",
       "      <th></th>\n",
       "      <th>micro_f1_score</th>\n",
       "      <th>micro_recall</th>\n",
       "      <th>micro_precision</th>\n",
       "      <th>extractors</th>\n",
       "    </tr>\n",
       "  </thead>\n",
       "  <tbody>\n",
       "    <tr>\n",
       "      <th>0</th>\n",
       "      <td>0.664386</td>\n",
       "      <td>0.704080</td>\n",
       "      <td>0.628929</td>\n",
       "      <td>stemmed_unigrams</td>\n",
       "    </tr>\n",
       "    <tr>\n",
       "      <th>1</th>\n",
       "      <td>0.664386</td>\n",
       "      <td>0.704080</td>\n",
       "      <td>0.628929</td>\n",
       "      <td>stemmed_unigrams</td>\n",
       "    </tr>\n",
       "    <tr>\n",
       "      <th>2</th>\n",
       "      <td>0.661275</td>\n",
       "      <td>0.690834</td>\n",
       "      <td>0.634141</td>\n",
       "      <td>unigrams</td>\n",
       "    </tr>\n",
       "  </tbody>\n",
       "</table>\n",
       "</div>"
      ],
      "text/plain": [
       "   micro_f1_score  micro_recall  micro_precision        extractors\n",
       "0        0.664386      0.704080         0.628929  stemmed_unigrams\n",
       "1        0.664386      0.704080         0.628929  stemmed_unigrams\n",
       "2        0.661275      0.690834         0.634141          unigrams"
      ]
     },
     "execution_count": 298,
     "metadata": {},
     "output_type": "execute_result"
    }
   ],
   "source": [
    "params = \"extractors\".split(\",\")\n",
    "collection = \"SC_TAGGING_VD_HMM\"\n",
    "\n",
    "df = get_df_sorted_by_f1score(collection, params)\n",
    "df.head(ROWS)"
   ]
  },
  {
   "cell_type": "markdown",
   "metadata": {},
   "source": [
    "## Average Perceptron - Hyper Parameter Tuning Results"
   ]
  },
  {
   "cell_type": "markdown",
   "metadata": {},
   "source": [
    "### Coral Bleaching"
   ]
  },
  {
   "cell_type": "code",
   "execution_count": 262,
   "metadata": {
    "collapsed": false
   },
   "outputs": [
    {
     "data": {
      "text/html": [
       "<div>\n",
       "<table border=\"1\" class=\"dataframe\">\n",
       "  <thead>\n",
       "    <tr style=\"text-align: right;\">\n",
       "      <th></th>\n",
       "      <th>micro_f1_score</th>\n",
       "      <th>micro_precision</th>\n",
       "      <th>micro_recall</th>\n",
       "      <th>prev_tag_sharing</th>\n",
       "      <th>num_iterations</th>\n",
       "      <th>tag_history</th>\n",
       "      <th>combo_freq_threshold</th>\n",
       "    </tr>\n",
       "  </thead>\n",
       "  <tbody>\n",
       "    <tr>\n",
       "      <th>0</th>\n",
       "      <td>0.837699</td>\n",
       "      <td>0.887409</td>\n",
       "      <td>0.793264</td>\n",
       "      <td>True</td>\n",
       "      <td>10</td>\n",
       "      <td>10</td>\n",
       "      <td>5</td>\n",
       "    </tr>\n",
       "    <tr>\n",
       "      <th>1</th>\n",
       "      <td>0.837588</td>\n",
       "      <td>0.890081</td>\n",
       "      <td>0.790942</td>\n",
       "      <td>True</td>\n",
       "      <td>5</td>\n",
       "      <td>3</td>\n",
       "      <td>5</td>\n",
       "    </tr>\n",
       "    <tr>\n",
       "      <th>2</th>\n",
       "      <td>0.837174</td>\n",
       "      <td>0.889588</td>\n",
       "      <td>0.790592</td>\n",
       "      <td>True</td>\n",
       "      <td>5</td>\n",
       "      <td>1</td>\n",
       "      <td>5</td>\n",
       "    </tr>\n",
       "    <tr>\n",
       "      <th>3</th>\n",
       "      <td>0.837016</td>\n",
       "      <td>0.886593</td>\n",
       "      <td>0.792689</td>\n",
       "      <td>True</td>\n",
       "      <td>10</td>\n",
       "      <td>15</td>\n",
       "      <td>5</td>\n",
       "    </tr>\n",
       "    <tr>\n",
       "      <th>4</th>\n",
       "      <td>0.836976</td>\n",
       "      <td>0.889048</td>\n",
       "      <td>0.790667</td>\n",
       "      <td>True</td>\n",
       "      <td>5</td>\n",
       "      <td>2</td>\n",
       "      <td>5</td>\n",
       "    </tr>\n",
       "  </tbody>\n",
       "</table>\n",
       "</div>"
      ],
      "text/plain": [
       "   micro_f1_score  micro_precision  micro_recall prev_tag_sharing  \\\n",
       "0        0.837699         0.887409      0.793264             True   \n",
       "1        0.837588         0.890081      0.790942             True   \n",
       "2        0.837174         0.889588      0.790592             True   \n",
       "3        0.837016         0.886593      0.792689             True   \n",
       "4        0.836976         0.889048      0.790667             True   \n",
       "\n",
       "   num_iterations  tag_history  combo_freq_threshold  \n",
       "0              10           10                     5  \n",
       "1               5            3                     5  \n",
       "2               5            1                     5  \n",
       "3              10           15                     5  \n",
       "4               5            2                     5  "
      ]
     },
     "execution_count": 262,
     "metadata": {},
     "output_type": "execute_result"
    }
   ],
   "source": [
    "model = \"AVG_PERCEPTRON_MULTICLASS\"\n",
    "df = get_df_sorted_by_f1score(\"CB_TAGGING_VD_\" + model, \n",
    "                              \"prev_tag_sharing,num_iterations,tag_history,combo_freq_threshold\")\n",
    "df.head(ROWS)[\"micro_f1_score,micro_precision,micro_recall,prev_tag_sharing,num_iterations,tag_history,combo_freq_threshold\".split(\",\")]"
   ]
  },
  {
   "cell_type": "markdown",
   "metadata": {},
   "source": [
    "### Skin Cancer"
   ]
  },
  {
   "cell_type": "code",
   "execution_count": 264,
   "metadata": {
    "collapsed": false
   },
   "outputs": [
    {
     "data": {
      "text/html": [
       "<div>\n",
       "<table border=\"1\" class=\"dataframe\">\n",
       "  <thead>\n",
       "    <tr style=\"text-align: right;\">\n",
       "      <th></th>\n",
       "      <th>micro_f1_score</th>\n",
       "      <th>micro_precision</th>\n",
       "      <th>micro_recall</th>\n",
       "      <th>prev_tag_sharing</th>\n",
       "      <th>num_iterations</th>\n",
       "      <th>tag_history</th>\n",
       "      <th>combo_freq_threshold</th>\n",
       "    </tr>\n",
       "  </thead>\n",
       "  <tbody>\n",
       "    <tr>\n",
       "      <th>0</th>\n",
       "      <td>0.817549</td>\n",
       "      <td>0.862104</td>\n",
       "      <td>0.777372</td>\n",
       "      <td>True</td>\n",
       "      <td>5</td>\n",
       "      <td>0</td>\n",
       "      <td>5</td>\n",
       "    </tr>\n",
       "    <tr>\n",
       "      <th>1</th>\n",
       "      <td>0.817457</td>\n",
       "      <td>0.861064</td>\n",
       "      <td>0.778053</td>\n",
       "      <td>True</td>\n",
       "      <td>5</td>\n",
       "      <td>2</td>\n",
       "      <td>5</td>\n",
       "    </tr>\n",
       "    <tr>\n",
       "      <th>2</th>\n",
       "      <td>0.816527</td>\n",
       "      <td>0.858970</td>\n",
       "      <td>0.778081</td>\n",
       "      <td>True</td>\n",
       "      <td>5</td>\n",
       "      <td>8</td>\n",
       "      <td>5</td>\n",
       "    </tr>\n",
       "    <tr>\n",
       "      <th>3</th>\n",
       "      <td>0.816329</td>\n",
       "      <td>0.858600</td>\n",
       "      <td>0.778026</td>\n",
       "      <td>True</td>\n",
       "      <td>10</td>\n",
       "      <td>3</td>\n",
       "      <td>5</td>\n",
       "    </tr>\n",
       "    <tr>\n",
       "      <th>4</th>\n",
       "      <td>0.816291</td>\n",
       "      <td>0.858315</td>\n",
       "      <td>0.778190</td>\n",
       "      <td>True</td>\n",
       "      <td>10</td>\n",
       "      <td>8</td>\n",
       "      <td>5</td>\n",
       "    </tr>\n",
       "  </tbody>\n",
       "</table>\n",
       "</div>"
      ],
      "text/plain": [
       "   micro_f1_score  micro_precision  micro_recall prev_tag_sharing  \\\n",
       "0        0.817549         0.862104      0.777372             True   \n",
       "1        0.817457         0.861064      0.778053             True   \n",
       "2        0.816527         0.858970      0.778081             True   \n",
       "3        0.816329         0.858600      0.778026             True   \n",
       "4        0.816291         0.858315      0.778190             True   \n",
       "\n",
       "   num_iterations  tag_history  combo_freq_threshold  \n",
       "0               5            0                     5  \n",
       "1               5            2                     5  \n",
       "2               5            8                     5  \n",
       "3              10            3                     5  \n",
       "4              10            8                     5  "
      ]
     },
     "execution_count": 264,
     "metadata": {},
     "output_type": "execute_result"
    }
   ],
   "source": [
    "model = \"AVG_PERCEPTRON_MULTICLASS\"\n",
    "df = get_df_sorted_by_f1score(\"SC_TAGGING_VD_\" + model, \n",
    "                              \"prev_tag_sharing,num_iterations,tag_history,combo_freq_threshold\")\n",
    "df.head(ROWS)[\"micro_f1_score,micro_precision,micro_recall,prev_tag_sharing,num_iterations,tag_history,combo_freq_threshold\".split(\",\")]"
   ]
  },
  {
   "cell_type": "code",
   "execution_count": null,
   "metadata": {
    "collapsed": true
   },
   "outputs": [],
   "source": []
  }
 ],
 "metadata": {
  "anaconda-cloud": {},
  "kernelspec": {
   "display_name": "Python [conda env:phd]",
   "language": "python",
   "name": "conda-env-phd-py"
  },
  "language_info": {
   "codemirror_mode": {
    "name": "ipython",
    "version": 2
   },
   "file_extension": ".py",
   "mimetype": "text/x-python",
   "name": "python",
   "nbconvert_exporter": "python",
   "pygments_lexer": "ipython2",
   "version": "2.7.13"
  }
 },
 "nbformat": 4,
 "nbformat_minor": 2
}
