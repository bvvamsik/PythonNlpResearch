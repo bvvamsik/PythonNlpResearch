{
 "cells": [
  {
   "cell_type": "code",
   "execution_count": 58,
   "metadata": {
    "collapsed": false
   },
   "outputs": [],
   "source": [
    "%matplotlib inline\n",
    "\n",
    "import pymongo\n",
    "import seaborn as sns"
   ]
  },
  {
   "cell_type": "code",
   "execution_count": 59,
   "metadata": {
    "collapsed": true
   },
   "outputs": [],
   "source": [
    "import pandas as pd\n",
    "\n",
    "def group_by(df, bycols, agg_map):\n",
    "    \"\"\"\n",
    "\n",
    "    @param df:      DataFrame\n",
    "    @param bycols:  str or list\n",
    "                        Column(s) to group by\n",
    "    @param agg_map: dictionary or list of 2-tuples\n",
    "                        Mapping from column to aggregate function e.g. [(\"city\", \"count\"), (\"salary\", \"mean\"]\n",
    "    @return:        DataFrame\n",
    "                        Flattened dataframe, with multi-level index removed\n",
    "    \"\"\"\n",
    "    grps = []\n",
    "    if type(bycols) == str:\n",
    "        bycols = [bycols]\n",
    "\n",
    "    if type(agg_map) == dict:\n",
    "        agg_map = agg_map.items()\n",
    "\n",
    "    for k,v in agg_map:\n",
    "        grp = df[bycols + [k]].groupby(bycols, ).agg(v)\n",
    "        grp.reset_index(inplace=True)\n",
    "        grp[\"%s(%s)\" % (v,k)] = grp[k]\n",
    "        del grp[k]\n",
    "        grps.append(grp)\n",
    "\n",
    "    m = grps[0]\n",
    "    for grp in grps[1:]:\n",
    "        m = pd.merge(m, grp, on=bycols, how=\"inner\")\n",
    "    return m"
   ]
  },
  {
   "cell_type": "code",
   "execution_count": 60,
   "metadata": {
    "collapsed": false
   },
   "outputs": [
    {
     "data": {
      "text/plain": [
       "(Collection(Database(MongoClient(host=['localhost:27017'], document_class=dict, tz_aware=False, connect=True), u'metrics'), u'CB_TAGGING_TD_FEAT_SELECTION'),\n",
       " Collection(Database(MongoClient(host=['localhost:27017'], document_class=dict, tz_aware=False, connect=True), u'metrics'), u'CB_TAGGING_VD_FEAT_SELECTION'),\n",
       " Collection(Database(MongoClient(host=['localhost:27017'], document_class=dict, tz_aware=False, connect=True), u'metrics'), u'SC_TAGGING_TD_FEAT_SELECTION'),\n",
       " Collection(Database(MongoClient(host=['localhost:27017'], document_class=dict, tz_aware=False, connect=True), u'metrics'), u'SC_TAGGING_VD_FEAT_SELECTION'))"
      ]
     },
     "execution_count": 60,
     "metadata": {},
     "output_type": "execute_result"
    }
   ],
   "source": [
    "client = pymongo.MongoClient()\n",
    "db = client.metrics\n",
    "\n",
    "cb_td, cb_vd, sc_td, sc_vd = \"CB_TAGGING_TD_FEAT_SELECTION\", \"CB_TAGGING_VD_FEAT_SELECTION\", \"SC_TAGGING_TD_FEAT_SELECTION\", \"SC_TAGGING_VD_FEAT_SELECTION\"\n",
    "cb_td, cb_vd, sc_td, sc_vd = db[cb_td], db[cb_vd], db[sc_td], db[sc_vd]\n",
    "cb_td, cb_vd, sc_td, sc_vd"
   ]
  },
  {
   "cell_type": "markdown",
   "metadata": {},
   "source": [
    "# Query Top Features"
   ]
  },
  {
   "cell_type": "code",
   "execution_count": 61,
   "metadata": {
    "collapsed": false
   },
   "outputs": [],
   "source": [
    "from pprint import pprint\n",
    "from bson.son import SON # needed to ensure dictionary is ordered (python default is not)\n",
    "\n",
    "feats_pipeline = [{\n",
    "    \"$project\": { \n",
    "            \"weighted_f1_score\":\"$WEIGHTED_MEAN_CONCEPT_CODES.f1_score\",\n",
    "            \"micro_f1_score\":  \"$MICRO_F1.f1_score\",\n",
    "            \"micro_recall\":    \"$MICRO_F1.recall\",\n",
    "            \"micro_precision\": \"$MICRO_F1.precision\",\n",
    "            \"window_size\":    \"$parameters.window_size\",\n",
    "            \"feats\":          \"$parameters.extractors\",\n",
    "            \"count\": {        \"$size\" : \"$parameters.extractors\" },\n",
    "            \"asof\" :          \"$asof\",\n",
    "            \"_id\":1\n",
    "    }\n",
    "},\n",
    "{\n",
    "    \"$match\":{\n",
    "        \"micro_f1_score\": { \"$exists\" : True },\n",
    "        # how many feats\n",
    "        #\"count\": {          \"$eq\" :1 },\n",
    "        # window width\n",
    "        #\"window_size\": {    \"$eq\":13 }\n",
    "    }\n",
    "},\n",
    "{\n",
    "    \"$sort\":{\n",
    "        #\"weighted_f1_score\":-1,\n",
    "        \"micro_f1_score\": -1\n",
    "        #\"asof\": -1\n",
    "        #\"count\": -1\n",
    "    }\n",
    "},\n",
    "]\n",
    "\n",
    "cb_td_rows = [row for row in cb_td.aggregate(feats_pipeline)]\n",
    "cb_vd_rows = [row for row in cb_vd.aggregate(feats_pipeline)]\n",
    "sc_td_rows = [row for row in sc_td.aggregate(feats_pipeline)]\n",
    "sc_vd_rows = [row for row in sc_vd.aggregate(feats_pipeline)]"
   ]
  },
  {
   "cell_type": "code",
   "execution_count": 62,
   "metadata": {
    "collapsed": false
   },
   "outputs": [],
   "source": [
    "def hash_feats(fts):\n",
    "    return \"|\".join(sorted(fts))\n",
    "\n",
    "def get_df_sorted_by_f1score(rows):\n",
    "    df = pd.DataFrame(rows).sort_values(\"micro_f1_score\", ascending=False)\n",
    "    df[\"hs_feats\"] = df[\"feats\"].apply(hash_feats)\n",
    "    return df\n",
    "\n",
    "cb_td_df = get_df_sorted_by_f1score(cb_td_rows)\n",
    "cb_vd_df = get_df_sorted_by_f1score(cb_vd_rows)\n",
    "sc_td_df = get_df_sorted_by_f1score(sc_td_rows)\n",
    "sc_vd_df = get_df_sorted_by_f1score(sc_vd_rows)\n",
    "\n",
    "#cb_vd_df.head(10)"
   ]
  },
  {
   "cell_type": "code",
   "execution_count": 63,
   "metadata": {
    "collapsed": false
   },
   "outputs": [
    {
     "data": {
      "text/plain": [
       "(numpy.datetime64('2017-01-30T21:19:41.374000000'),\n",
       " numpy.datetime64('2017-02-01T07:07:40.430000000'))"
      ]
     },
     "execution_count": 63,
     "metadata": {},
     "output_type": "execute_result"
    }
   ],
   "source": [
    "min(cb_vd_df[\"asof\"].values),max(cb_vd_df[\"asof\"].values)"
   ]
  },
  {
   "cell_type": "code",
   "execution_count": 64,
   "metadata": {
    "collapsed": false
   },
   "outputs": [],
   "source": [
    "cols = \"feats,count,micro_f1_score,micro_recall,micro_precision,window_size\".split(\",\")\n",
    "\n",
    "def feat_name(ft):\n",
    "    if type(ft) == list:\n",
    "        ft=\",\".join(ft)\n",
    "    offset = (11-1)/2\n",
    "    offset_lbl = \"offset:%i\" % offset\n",
    "    ft=ft.replace(offset_lbl, \"\").replace(\"fn_\", \"\").replace(\" \",\"\")\n",
    "    return ft\n",
    "\n",
    "def get_top_individual_feats(df, win_size = 9):\n",
    "    df_top_individual_feats = df[(df[\"count\"] == 1) & (df[\"window_size\"] == win_size)][cols]\n",
    "    df_top_individual_feats[\"rank\"] = np.arange(len(df_top_individual_feats)) + 1\n",
    "    df_top_individual_feats[\"feats\"] = df_top_individual_feats[\"feats\"].apply(feat_name)\n",
    "    return df_top_individual_feats\n",
    "\n",
    "#get_top_individual_feats(cb_vd_df, 11)"
   ]
  },
  {
   "cell_type": "markdown",
   "metadata": {},
   "source": [
    "### Performance of Each Feature In Isolation for Best Window Size (9)"
   ]
  },
  {
   "cell_type": "code",
   "execution_count": 65,
   "metadata": {
    "collapsed": false
   },
   "outputs": [
    {
     "data": {
      "text/html": [
       "<div>\n",
       "<table border=\"1\" class=\"dataframe\">\n",
       "  <thead>\n",
       "    <tr style=\"text-align: right;\">\n",
       "      <th></th>\n",
       "      <th>rank</th>\n",
       "      <th>feats_CB</th>\n",
       "      <th>micro_f1_score_CB</th>\n",
       "      <th>micro_recall_CB</th>\n",
       "      <th>micro_precision_CB</th>\n",
       "      <th>feats_SC</th>\n",
       "      <th>micro_f1_score_SC</th>\n",
       "      <th>micro_recall_SC</th>\n",
       "      <th>micro_precision_SC</th>\n",
       "    </tr>\n",
       "  </thead>\n",
       "  <tbody>\n",
       "    <tr>\n",
       "      <th>0</th>\n",
       "      <td>1</td>\n",
       "      <td>pos_wd_feats_stemmed[offset:4]</td>\n",
       "      <td>0.812696</td>\n",
       "      <td>0.746745</td>\n",
       "      <td>0.891425</td>\n",
       "      <td>pos_wd_feats_stemmed[offset:4]</td>\n",
       "      <td>0.791081</td>\n",
       "      <td>0.739942</td>\n",
       "      <td>0.849815</td>\n",
       "    </tr>\n",
       "    <tr>\n",
       "      <th>1</th>\n",
       "      <td>2</td>\n",
       "      <td>pos_wd_feats[offset:4]</td>\n",
       "      <td>0.805718</td>\n",
       "      <td>0.733816</td>\n",
       "      <td>0.893240</td>\n",
       "      <td>pos_wd_feats[offset:4]</td>\n",
       "      <td>0.788498</td>\n",
       "      <td>0.732895</td>\n",
       "      <td>0.853231</td>\n",
       "    </tr>\n",
       "    <tr>\n",
       "      <th>2</th>\n",
       "      <td>3</td>\n",
       "      <td>pos_ngram_feat_stemmed[ngram_size:2offset:4]</td>\n",
       "      <td>0.769784</td>\n",
       "      <td>0.666406</td>\n",
       "      <td>0.911124</td>\n",
       "      <td>pos_ngram_feat_stemmed[ngram_size:2offset:4]</td>\n",
       "      <td>0.761874</td>\n",
       "      <td>0.678736</td>\n",
       "      <td>0.868223</td>\n",
       "    </tr>\n",
       "    <tr>\n",
       "      <th>3</th>\n",
       "      <td>4</td>\n",
       "      <td>pos_ngram_feat[ngram_size:2offset:4]</td>\n",
       "      <td>0.753309</td>\n",
       "      <td>0.643435</td>\n",
       "      <td>0.908435</td>\n",
       "      <td>pos_ngram_feat[ngram_size:2offset:4]</td>\n",
       "      <td>0.754270</td>\n",
       "      <td>0.666823</td>\n",
       "      <td>0.868114</td>\n",
       "    </tr>\n",
       "    <tr>\n",
       "      <th>4</th>\n",
       "      <td>5</td>\n",
       "      <td>pos_ngram_feat_stemmed[ngram_size:3offset:4]</td>\n",
       "      <td>0.701923</td>\n",
       "      <td>0.565291</td>\n",
       "      <td>0.925656</td>\n",
       "      <td>pos_ngram_feat_stemmed[ngram_size:3offset:4]</td>\n",
       "      <td>0.697205</td>\n",
       "      <td>0.577128</td>\n",
       "      <td>0.880375</td>\n",
       "    </tr>\n",
       "    <tr>\n",
       "      <th>5</th>\n",
       "      <td>6</td>\n",
       "      <td>pos_ngram_feat[ngram_size:3offset:4]</td>\n",
       "      <td>0.677654</td>\n",
       "      <td>0.534682</td>\n",
       "      <td>0.924993</td>\n",
       "      <td>pos_ngram_feat[ngram_size:3offset:4]</td>\n",
       "      <td>0.684264</td>\n",
       "      <td>0.560183</td>\n",
       "      <td>0.878955</td>\n",
       "    </tr>\n",
       "    <tr>\n",
       "      <th>6</th>\n",
       "      <td>7</td>\n",
       "      <td>bow_ngram_feat[ngram_size:2offset:4]</td>\n",
       "      <td>0.610527</td>\n",
       "      <td>0.494723</td>\n",
       "      <td>0.797113</td>\n",
       "      <td>bow_ngram_feat[ngram_size:2offset:4]</td>\n",
       "      <td>0.601519</td>\n",
       "      <td>0.493138</td>\n",
       "      <td>0.770958</td>\n",
       "    </tr>\n",
       "    <tr>\n",
       "      <th>7</th>\n",
       "      <td>8</td>\n",
       "      <td>bow_ngram_feat[ngram_size:1offset:4]</td>\n",
       "      <td>0.597930</td>\n",
       "      <td>0.514898</td>\n",
       "      <td>0.712888</td>\n",
       "      <td>bow_ngram_feat[ngram_size:3offset:4]</td>\n",
       "      <td>0.576502</td>\n",
       "      <td>0.442334</td>\n",
       "      <td>0.827495</td>\n",
       "    </tr>\n",
       "    <tr>\n",
       "      <th>8</th>\n",
       "      <td>9</td>\n",
       "      <td>bow_ngram_feat[ngram_size:3offset:4]</td>\n",
       "      <td>0.574350</td>\n",
       "      <td>0.432364</td>\n",
       "      <td>0.855189</td>\n",
       "      <td>extract_dependency_relation</td>\n",
       "      <td>0.572233</td>\n",
       "      <td>0.467266</td>\n",
       "      <td>0.738022</td>\n",
       "    </tr>\n",
       "    <tr>\n",
       "      <th>9</th>\n",
       "      <td>10</td>\n",
       "      <td>extract_dependency_relation</td>\n",
       "      <td>0.557585</td>\n",
       "      <td>0.412971</td>\n",
       "      <td>0.858062</td>\n",
       "      <td>bow_ngram_feat[ngram_size:1offset:4]</td>\n",
       "      <td>0.567397</td>\n",
       "      <td>0.472904</td>\n",
       "      <td>0.709082</td>\n",
       "    </tr>\n",
       "    <tr>\n",
       "      <th>10</th>\n",
       "      <td>11</td>\n",
       "      <td>extract_brown_cluster</td>\n",
       "      <td>0.359986</td>\n",
       "      <td>0.238041</td>\n",
       "      <td>0.738113</td>\n",
       "      <td>pos_POS_feats[offset:4]</td>\n",
       "      <td>0.356129</td>\n",
       "      <td>0.234422</td>\n",
       "      <td>0.740670</td>\n",
       "    </tr>\n",
       "    <tr>\n",
       "      <th>11</th>\n",
       "      <td>12</td>\n",
       "      <td>pos_POS_feats[offset:4]</td>\n",
       "      <td>0.219463</td>\n",
       "      <td>0.130732</td>\n",
       "      <td>0.683111</td>\n",
       "      <td>extract_brown_cluster</td>\n",
       "      <td>0.323576</td>\n",
       "      <td>0.210127</td>\n",
       "      <td>0.703279</td>\n",
       "    </tr>\n",
       "    <tr>\n",
       "      <th>12</th>\n",
       "      <td>13</td>\n",
       "      <td>bow_POS_feats[offset:4]</td>\n",
       "      <td>0.060427</td>\n",
       "      <td>0.031631</td>\n",
       "      <td>0.674359</td>\n",
       "      <td>bow_POS_feats[offset:4]</td>\n",
       "      <td>0.101717</td>\n",
       "      <td>0.056072</td>\n",
       "      <td>0.546972</td>\n",
       "    </tr>\n",
       "  </tbody>\n",
       "</table>\n",
       "</div>"
      ],
      "text/plain": [
       "    rank                                      feats_CB  micro_f1_score_CB  \\\n",
       "0      1                pos_wd_feats_stemmed[offset:4]           0.812696   \n",
       "1      2                        pos_wd_feats[offset:4]           0.805718   \n",
       "2      3  pos_ngram_feat_stemmed[ngram_size:2offset:4]           0.769784   \n",
       "3      4          pos_ngram_feat[ngram_size:2offset:4]           0.753309   \n",
       "4      5  pos_ngram_feat_stemmed[ngram_size:3offset:4]           0.701923   \n",
       "5      6          pos_ngram_feat[ngram_size:3offset:4]           0.677654   \n",
       "6      7          bow_ngram_feat[ngram_size:2offset:4]           0.610527   \n",
       "7      8          bow_ngram_feat[ngram_size:1offset:4]           0.597930   \n",
       "8      9          bow_ngram_feat[ngram_size:3offset:4]           0.574350   \n",
       "9     10                   extract_dependency_relation           0.557585   \n",
       "10    11                         extract_brown_cluster           0.359986   \n",
       "11    12                       pos_POS_feats[offset:4]           0.219463   \n",
       "12    13                       bow_POS_feats[offset:4]           0.060427   \n",
       "\n",
       "    micro_recall_CB  micro_precision_CB  \\\n",
       "0          0.746745            0.891425   \n",
       "1          0.733816            0.893240   \n",
       "2          0.666406            0.911124   \n",
       "3          0.643435            0.908435   \n",
       "4          0.565291            0.925656   \n",
       "5          0.534682            0.924993   \n",
       "6          0.494723            0.797113   \n",
       "7          0.514898            0.712888   \n",
       "8          0.432364            0.855189   \n",
       "9          0.412971            0.858062   \n",
       "10         0.238041            0.738113   \n",
       "11         0.130732            0.683111   \n",
       "12         0.031631            0.674359   \n",
       "\n",
       "                                        feats_SC  micro_f1_score_SC  \\\n",
       "0                 pos_wd_feats_stemmed[offset:4]           0.791081   \n",
       "1                         pos_wd_feats[offset:4]           0.788498   \n",
       "2   pos_ngram_feat_stemmed[ngram_size:2offset:4]           0.761874   \n",
       "3           pos_ngram_feat[ngram_size:2offset:4]           0.754270   \n",
       "4   pos_ngram_feat_stemmed[ngram_size:3offset:4]           0.697205   \n",
       "5           pos_ngram_feat[ngram_size:3offset:4]           0.684264   \n",
       "6           bow_ngram_feat[ngram_size:2offset:4]           0.601519   \n",
       "7           bow_ngram_feat[ngram_size:3offset:4]           0.576502   \n",
       "8                    extract_dependency_relation           0.572233   \n",
       "9           bow_ngram_feat[ngram_size:1offset:4]           0.567397   \n",
       "10                       pos_POS_feats[offset:4]           0.356129   \n",
       "11                         extract_brown_cluster           0.323576   \n",
       "12                       bow_POS_feats[offset:4]           0.101717   \n",
       "\n",
       "    micro_recall_SC  micro_precision_SC  \n",
       "0          0.739942            0.849815  \n",
       "1          0.732895            0.853231  \n",
       "2          0.678736            0.868223  \n",
       "3          0.666823            0.868114  \n",
       "4          0.577128            0.880375  \n",
       "5          0.560183            0.878955  \n",
       "6          0.493138            0.770958  \n",
       "7          0.442334            0.827495  \n",
       "8          0.467266            0.738022  \n",
       "9          0.472904            0.709082  \n",
       "10         0.234422            0.740670  \n",
       "11         0.210127            0.703279  \n",
       "12         0.056072            0.546972  "
      ]
     },
     "execution_count": 65,
     "metadata": {},
     "output_type": "execute_result"
    }
   ],
   "source": [
    "a, b = get_top_individual_feats(cb_vd_df, 9), get_top_individual_feats(sc_vd_df, 9)\n",
    "merged = pd.merge(a,b, on=\"rank\", suffixes=[\"_CB\",\"_SC\"])\\\n",
    "[\"rank,feats_CB,micro_f1_score_CB,micro_recall_CB,micro_precision_CB,feats_SC,micro_f1_score_SC,micro_recall_SC,micro_precision_SC\".split(\",\")]\n",
    "merged"
   ]
  },
  {
   "cell_type": "markdown",
   "metadata": {},
   "source": [
    "## Generate Rows for LaTex Table"
   ]
  },
  {
   "cell_type": "raw",
   "metadata": {
    "collapsed": false
   },
   "source": [
    "def format_lbl(lbl):\n",
    "    return lbl.replace(\"[\",\" \").replace(\"]\",\"\").replace(\"_\",\" \").strip()\n",
    "\n",
    "for i, row in merged.iterrows():\n",
    "    feats_CB = format_lbl(row[\"feats_CB\"])\n",
    "    micro_f1_score_CB = row[\"micro_f1_score_CB\"]\n",
    "    \n",
    "    feats_SC = format_lbl(row[\"feats_SC\"])\n",
    "    micro_f1_score_SC = row[\"micro_f1_score_SC\"]\n",
    "    \n",
    "    print(\"{rank} & {feat_cb} & {cb_f1:0.3f} & & {feat_sc} & {sc_f1:0.3f}\\\\\\\\\"\\\n",
    "          .format(rank=i+1,feat_cb=feats_CB, cb_f1=micro_f1_score_CB,\n",
    "                  feat_sc=feats_SC, sc_f1=micro_f1_score_SC))\n"
   ]
  },
  {
   "cell_type": "markdown",
   "metadata": {},
   "source": [
    "## Perfomance By Window Size"
   ]
  },
  {
   "cell_type": "code",
   "execution_count": 66,
   "metadata": {
    "collapsed": false
   },
   "outputs": [
    {
     "data": {
      "text/html": [
       "<div>\n",
       "<table border=\"1\" class=\"dataframe\">\n",
       "  <thead>\n",
       "    <tr style=\"text-align: right;\">\n",
       "      <th></th>\n",
       "      <th>window_size</th>\n",
       "      <th>max(micro_f1_score)_CB</th>\n",
       "      <th>max(micro_f1_score)_SC</th>\n",
       "    </tr>\n",
       "  </thead>\n",
       "  <tbody>\n",
       "    <tr>\n",
       "      <th>0</th>\n",
       "      <td>1</td>\n",
       "      <td>0.705959</td>\n",
       "      <td>0.705046</td>\n",
       "    </tr>\n",
       "    <tr>\n",
       "      <th>1</th>\n",
       "      <td>3</td>\n",
       "      <td>0.772429</td>\n",
       "      <td>0.759586</td>\n",
       "    </tr>\n",
       "    <tr>\n",
       "      <th>2</th>\n",
       "      <td>5</td>\n",
       "      <td>0.810162</td>\n",
       "      <td>0.786957</td>\n",
       "    </tr>\n",
       "    <tr>\n",
       "      <th>3</th>\n",
       "      <td>7</td>\n",
       "      <td>0.822694</td>\n",
       "      <td>0.799258</td>\n",
       "    </tr>\n",
       "    <tr>\n",
       "      <th>4</th>\n",
       "      <td>9</td>\n",
       "      <td>0.824667</td>\n",
       "      <td>0.801090</td>\n",
       "    </tr>\n",
       "    <tr>\n",
       "      <th>5</th>\n",
       "      <td>11</td>\n",
       "      <td>0.824443</td>\n",
       "      <td>0.800888</td>\n",
       "    </tr>\n",
       "    <tr>\n",
       "      <th>6</th>\n",
       "      <td>13</td>\n",
       "      <td>0.822428</td>\n",
       "      <td>0.799787</td>\n",
       "    </tr>\n",
       "  </tbody>\n",
       "</table>\n",
       "</div>"
      ],
      "text/plain": [
       "   window_size  max(micro_f1_score)_CB  max(micro_f1_score)_SC\n",
       "0            1                0.705959                0.705046\n",
       "1            3                0.772429                0.759586\n",
       "2            5                0.810162                0.786957\n",
       "3            7                0.822694                0.799258\n",
       "4            9                0.824667                0.801090\n",
       "5           11                0.824443                0.800888\n",
       "6           13                0.822428                0.799787"
      ]
     },
     "execution_count": 66,
     "metadata": {},
     "output_type": "execute_result"
    }
   ],
   "source": [
    "def get_by_window_size(df):\n",
    "    return group_by(df, bycols=[\"window_size\"], agg_map=[(\"micro_f1_score\", \"max\"),\n",
    "                                              #(\"micro_f1_score\", \"mean\"),\n",
    "                                              #(\"micro_f1_score\", \"median\"),\n",
    "                                              #(\"micro_f1_score\", \"count\"),\n",
    "                                             ]).sort_values(\"window_size\")\n",
    "\n",
    "by_win_size = pd.merge(get_by_window_size(cb_vd_df), get_by_window_size(sc_vd_df), on=\"window_size\", suffixes=[\"_CB\", \"_SC\"])\n",
    "by_win_size"
   ]
  },
  {
   "cell_type": "markdown",
   "metadata": {},
   "source": [
    "### <span style=\"color:red\">NOTE that for BOTH, optimal window size is now 9</span>"
   ]
  },
  {
   "cell_type": "markdown",
   "metadata": {},
   "source": [
    "## Plot TD vs VD F1 Score For CB By Window Size"
   ]
  },
  {
   "cell_type": "code",
   "execution_count": 67,
   "metadata": {
    "collapsed": false
   },
   "outputs": [
    {
     "data": {
      "image/png": "[encoded data removed]",
      "text/plain": [
       "<matplotlib.figure.Figure at 0x11ce2cfd0>"
      ]
     },
     "metadata": {},
     "output_type": "display_data"
    }
   ],
   "source": [
    "import numpy as np\n",
    "import matplotlib as mpl\n",
    "import matplotlib.pyplot as plt\n",
    "\n",
    "FONT_SIZE = 15\n",
    "\n",
    "df = pd.merge(\n",
    "    get_by_window_size(cb_td_df), \n",
    "    get_by_window_size(cb_vd_df), \n",
    "    on=\"window_size\", suffixes=[\"_TD\", \"_VD\"])\n",
    "\n",
    "STYLE = \"whitegrid\"\n",
    "sns.set_style(STYLE)\n",
    "sns.set_style(STYLE, {\"xtick.major.size\": 1})\n",
    "\n",
    "fig = plt.figure(figsize=(10,6.5))\n",
    "\n",
    "x = df[\"window_size\"].values\n",
    "y_td = df[\"max(micro_f1_score)_TD\"].values\n",
    "y_vd = df[\"max(micro_f1_score)_VD\"].values\n",
    "\n",
    "ax1 = fig.add_subplot(111)\n",
    "ax1.plot(x,y_td, label=\"Training Data\")\n",
    "ax1.plot(x,y_vd, label=\"Test Data\")\n",
    "\n",
    "legend = ax1.legend(loc='upper left', shadow=True, fontsize=FONT_SIZE)\n",
    "\n",
    "ax1.set_xlim([1, 15])\n",
    "#ax1.set_ylim([0.7, 0.85])\n",
    "ax1.set_xlabel('Window Size', fontsize=FONT_SIZE)\n",
    "ax1.set_ylabel('Micro F1 Score', fontsize=FONT_SIZE)\n",
    "\n",
    "plt.xticks(np.arange(min(x), max(x)+2, 2.0), fontsize=10)\n",
    "plt.yticks(fontsize=10)\n",
    "\n",
    "sns.despine()\n",
    "plt.savefig(\"/Users/simon.hughes/BitBucket/Dissertation/Dissertation/images/cb_f1_vs_win_size.png\")\n",
    "plt.show()"
   ]
  },
  {
   "cell_type": "markdown",
   "metadata": {},
   "source": [
    "## Plot TD vs VD F1 Score For SC By Window Size"
   ]
  },
  {
   "cell_type": "code",
   "execution_count": 68,
   "metadata": {
    "collapsed": false
   },
   "outputs": [
    {
     "data": {
      "image/png": "[encoded data removed]",
      "text/plain": [
       "<matplotlib.figure.Figure at 0x1198d4f90>"
      ]
     },
     "metadata": {},
     "output_type": "display_data"
    }
   ],
   "source": [
    "FONT_SIZE = 15\n",
    "\n",
    "df = pd.merge(\n",
    "    get_by_window_size(sc_td_df), \n",
    "    get_by_window_size(sc_vd_df), \n",
    "    on=\"window_size\", suffixes=[\"_TD\", \"_VD\"])\n",
    "\n",
    "STYLE = \"whitegrid\"\n",
    "sns.set_style(STYLE)\n",
    "sns.set_style(STYLE, {\"xtick.major.size\": 1})\n",
    "\n",
    "fig = plt.figure(figsize=(10,6.5))\n",
    "\n",
    "x = df[\"window_size\"].values\n",
    "y_td = df[\"max(micro_f1_score)_TD\"].values\n",
    "y_vd = df[\"max(micro_f1_score)_VD\"].values\n",
    "\n",
    "ax1 = fig.add_subplot(111)\n",
    "ax1.plot(x,y_td, label=\"Training Data\")\n",
    "ax1.plot(x,y_vd, label=\"Test Data\")\n",
    "\n",
    "legend = ax1.legend(loc='upper left', shadow=True, fontsize=FONT_SIZE)\n",
    "\n",
    "ax1.set_xlim([1, 15])\n",
    "#ax1.set_ylim([0.7, 0.85])\n",
    "ax1.set_xlabel('Window Size', fontsize=FONT_SIZE)\n",
    "ax1.set_ylabel('Micro F1 Score', fontsize=FONT_SIZE)\n",
    "\n",
    "plt.xticks(np.arange(min(x), max(x)+2, 2.0), fontsize=10)\n",
    "plt.yticks(fontsize=10)\n",
    "\n",
    "sns.despine()\n",
    "plt.savefig(\"/Users/simon.hughes/BitBucket/Dissertation/Dissertation/images/sc_f1_vs_win_size.png\")\n",
    "plt.show()"
   ]
  },
  {
   "cell_type": "markdown",
   "metadata": {},
   "source": [
    "## Performance By Feature Set Size"
   ]
  },
  {
   "cell_type": "code",
   "execution_count": 69,
   "metadata": {
    "collapsed": false
   },
   "outputs": [
    {
     "data": {
      "text/html": [
       "<div>\n",
       "<table border=\"1\" class=\"dataframe\">\n",
       "  <thead>\n",
       "    <tr style=\"text-align: right;\">\n",
       "      <th></th>\n",
       "      <th>count</th>\n",
       "      <th>max(micro_f1_score)_cb</th>\n",
       "      <th>mean(micro_f1_score)_cb</th>\n",
       "      <th>max(micro_f1_score)_sc</th>\n",
       "      <th>mean(micro_f1_score)_sc</th>\n",
       "    </tr>\n",
       "  </thead>\n",
       "  <tbody>\n",
       "    <tr>\n",
       "      <th>0</th>\n",
       "      <td>1</td>\n",
       "      <td>0.813492</td>\n",
       "      <td>0.549772</td>\n",
       "      <td>0.792558</td>\n",
       "      <td>0.554299</td>\n",
       "    </tr>\n",
       "    <tr>\n",
       "      <th>1</th>\n",
       "      <td>2</td>\n",
       "      <td>0.819141</td>\n",
       "      <td>0.785654</td>\n",
       "      <td>0.799118</td>\n",
       "      <td>0.768705</td>\n",
       "    </tr>\n",
       "    <tr>\n",
       "      <th>2</th>\n",
       "      <td>3</td>\n",
       "      <td>0.822749</td>\n",
       "      <td>0.797302</td>\n",
       "      <td>0.800872</td>\n",
       "      <td>0.779004</td>\n",
       "    </tr>\n",
       "    <tr>\n",
       "      <th>3</th>\n",
       "      <td>4</td>\n",
       "      <td>0.823567</td>\n",
       "      <td>0.802461</td>\n",
       "      <td>0.801090</td>\n",
       "      <td>0.782500</td>\n",
       "    </tr>\n",
       "    <tr>\n",
       "      <th>4</th>\n",
       "      <td>5</td>\n",
       "      <td>0.824233</td>\n",
       "      <td>0.805277</td>\n",
       "      <td>0.800949</td>\n",
       "      <td>0.785157</td>\n",
       "    </tr>\n",
       "    <tr>\n",
       "      <th>5</th>\n",
       "      <td>6</td>\n",
       "      <td>0.824667</td>\n",
       "      <td>0.806893</td>\n",
       "      <td>0.800888</td>\n",
       "      <td>0.781282</td>\n",
       "    </tr>\n",
       "  </tbody>\n",
       "</table>\n",
       "</div>"
      ],
      "text/plain": [
       "   count  max(micro_f1_score)_cb  mean(micro_f1_score)_cb  \\\n",
       "0      1                0.813492                 0.549772   \n",
       "1      2                0.819141                 0.785654   \n",
       "2      3                0.822749                 0.797302   \n",
       "3      4                0.823567                 0.802461   \n",
       "4      5                0.824233                 0.805277   \n",
       "5      6                0.824667                 0.806893   \n",
       "\n",
       "   max(micro_f1_score)_sc  mean(micro_f1_score)_sc  \n",
       "0                0.792558                 0.554299  \n",
       "1                0.799118                 0.768705  \n",
       "2                0.800872                 0.779004  \n",
       "3                0.801090                 0.782500  \n",
       "4                0.800949                 0.785157  \n",
       "5                0.800888                 0.781282  "
      ]
     },
     "execution_count": 69,
     "metadata": {},
     "output_type": "execute_result"
    }
   ],
   "source": [
    "def get_by_featureset_size(df):\n",
    "    return group_by(df, bycols=[\"count\"], agg_map=[(\"micro_f1_score\", \"max\"),\n",
    "                                              (\"micro_f1_score\", \"mean\"),\n",
    "                                              #(\"micro_f1_score\", \"median\"),\n",
    "                                              #(\"micro_f1_score\", \"count\"),\n",
    "                                             ]).sort_values(\"count\")\n",
    "\n",
    "pd.merge(get_by_featureset_size(cb_vd_df), get_by_featureset_size(sc_vd_df), on=\"count\", suffixes=[\"_cb\", \"_sc\"])"
   ]
  },
  {
   "cell_type": "markdown",
   "metadata": {},
   "source": [
    "### <span style=\"color:red\">NOTE: Optimal SC performance Tails off After 4 features</span>"
   ]
  },
  {
   "cell_type": "markdown",
   "metadata": {},
   "source": [
    "# Get F1 Score By Num Features As the Optimal Feature Set is Constructed"
   ]
  },
  {
   "cell_type": "code",
   "execution_count": 93,
   "metadata": {
    "collapsed": false
   },
   "outputs": [
    {
     "data": {
      "text/html": [
       "<div>\n",
       "<table border=\"1\" class=\"dataframe\">\n",
       "  <thead>\n",
       "    <tr style=\"text-align: right;\">\n",
       "      <th></th>\n",
       "      <th>count</th>\n",
       "      <th>new_feat_CB</th>\n",
       "      <th>micro_f1_score_CB</th>\n",
       "      <th>window_size_CB</th>\n",
       "      <th>new_feat_SC</th>\n",
       "      <th>micro_f1_score_SC</th>\n",
       "      <th>window_size_SC</th>\n",
       "    </tr>\n",
       "  </thead>\n",
       "  <tbody>\n",
       "    <tr>\n",
       "      <th>0</th>\n",
       "      <td>1</td>\n",
       "      <td>pos_wd_feats_stemmed[offset:4]</td>\n",
       "      <td>0.812696</td>\n",
       "      <td>9</td>\n",
       "      <td>pos_wd_feats_stemmed[offset:4]</td>\n",
       "      <td>0.791081</td>\n",
       "      <td>9</td>\n",
       "    </tr>\n",
       "    <tr>\n",
       "      <th>1</th>\n",
       "      <td>2</td>\n",
       "      <td>pos_ngram_feat_stemmed[ngram_size:2offset:4]</td>\n",
       "      <td>0.819141</td>\n",
       "      <td>9</td>\n",
       "      <td>pos_ngram_feat_stemmed[ngram_size:2offset:4]</td>\n",
       "      <td>0.799118</td>\n",
       "      <td>9</td>\n",
       "    </tr>\n",
       "    <tr>\n",
       "      <th>2</th>\n",
       "      <td>3</td>\n",
       "      <td>bow_ngram_feat[ngram_size:1offset:4]</td>\n",
       "      <td>0.822749</td>\n",
       "      <td>9</td>\n",
       "      <td>extract_brown_cluster</td>\n",
       "      <td>0.800872</td>\n",
       "      <td>9</td>\n",
       "    </tr>\n",
       "    <tr>\n",
       "      <th>3</th>\n",
       "      <td>4</td>\n",
       "      <td>extract_brown_cluster</td>\n",
       "      <td>0.823567</td>\n",
       "      <td>9</td>\n",
       "      <td>bow_ngram_feat[ngram_size:1offset:4]</td>\n",
       "      <td>0.801090</td>\n",
       "      <td>9</td>\n",
       "    </tr>\n",
       "    <tr>\n",
       "      <th>4</th>\n",
       "      <td>5</td>\n",
       "      <td>pos_ngram_feat_stemmed[ngram_size:3offset:4]</td>\n",
       "      <td>0.824233</td>\n",
       "      <td>9</td>\n",
       "      <td>extract_dependency_relation</td>\n",
       "      <td>0.800949</td>\n",
       "      <td>9</td>\n",
       "    </tr>\n",
       "    <tr>\n",
       "      <th>5</th>\n",
       "      <td>6</td>\n",
       "      <td>extract_dependency_relation</td>\n",
       "      <td>0.824667</td>\n",
       "      <td>9</td>\n",
       "      <td>pos_wd_feats[offset:4]</td>\n",
       "      <td>0.800255</td>\n",
       "      <td>9</td>\n",
       "    </tr>\n",
       "  </tbody>\n",
       "</table>\n",
       "</div>"
      ],
      "text/plain": [
       "   count                                   new_feat_CB  micro_f1_score_CB  \\\n",
       "0      1                pos_wd_feats_stemmed[offset:4]           0.812696   \n",
       "1      2  pos_ngram_feat_stemmed[ngram_size:2offset:4]           0.819141   \n",
       "2      3          bow_ngram_feat[ngram_size:1offset:4]           0.822749   \n",
       "3      4                         extract_brown_cluster           0.823567   \n",
       "4      5  pos_ngram_feat_stemmed[ngram_size:3offset:4]           0.824233   \n",
       "5      6                   extract_dependency_relation           0.824667   \n",
       "\n",
       "   window_size_CB                                   new_feat_SC  \\\n",
       "0               9                pos_wd_feats_stemmed[offset:4]   \n",
       "1               9  pos_ngram_feat_stemmed[ngram_size:2offset:4]   \n",
       "2               9                         extract_brown_cluster   \n",
       "3               9          bow_ngram_feat[ngram_size:1offset:4]   \n",
       "4               9                   extract_dependency_relation   \n",
       "5               9                        pos_wd_feats[offset:4]   \n",
       "\n",
       "   micro_f1_score_SC  window_size_SC  \n",
       "0           0.791081               9  \n",
       "1           0.799118               9  \n",
       "2           0.800872               9  \n",
       "3           0.801090               9  \n",
       "4           0.800949               9  \n",
       "5           0.800255               9  "
      ]
     },
     "execution_count": 93,
     "metadata": {},
     "output_type": "execute_result"
    }
   ],
   "source": [
    "#cols_filter = \"count,new_feat,micro_f1_score,micro_recall,micro_precision,window_size\".split(\",\")\n",
    "cols_filter = \"count,new_feat,micro_f1_score,window_size\".split(\",\")\n",
    "\n",
    "def get_f1_by_feat_count(df):\n",
    "    #max_feats = df[\"count\"].values.max()\n",
    "    \n",
    "    top_feats = df[df[\"window_size\"] == 9]\n",
    "    top_feats = top_feats[top_feats[\"count\"] == 6]\n",
    "    top_feats = top_feats.sort_values(\"micro_f1_score\", ascending=False).iloc[0][\"feats\"]\n",
    "    \n",
    "    rows = []\n",
    "    for i in range(0,len(top_feats)):\n",
    "        new_feat = top_feats[i]\n",
    "        upto = top_feats[:i+1]\n",
    "        hs = hash_feats(upto)\n",
    "        new_row = df[df[\"hs_feats\"] == hs].iloc[0]\n",
    "        new_row[\"new_feat\"] = feat_name(new_feat)\n",
    "        copy = {}\n",
    "        for k in new_row.keys():\n",
    "            copy[str(k).strip()] = new_row[k]\n",
    "        rows.append(copy)\n",
    "\n",
    "    df_f1_by_feat_count = pd.DataFrame(rows)\n",
    "    return df_f1_by_feat_count[cols_filter]\n",
    "\n",
    "df_f1_score_by_feat_size= pd.merge(get_f1_by_feat_count(cb_vd_df), get_f1_by_feat_count(sc_vd_df), on=\"count\", how=\"outer\", suffixes=(\"_CB\", \"_SC\"))\n",
    "df_f1_score_by_feat_size\n",
    "# Note that the optimal feature set for SC is only of size 4"
   ]
  },
  {
   "cell_type": "code",
   "execution_count": 94,
   "metadata": {
    "collapsed": false
   },
   "outputs": [
    {
     "data": {
      "text/html": [
       "<div>\n",
       "<table border=\"1\" class=\"dataframe\">\n",
       "  <thead>\n",
       "    <tr style=\"text-align: right;\">\n",
       "      <th></th>\n",
       "      <th>count</th>\n",
       "      <th>new_feat_CB</th>\n",
       "      <th>micro_f1_score_CB</th>\n",
       "      <th>new_feat_SC</th>\n",
       "      <th>micro_f1_score_SC</th>\n",
       "    </tr>\n",
       "  </thead>\n",
       "  <tbody>\n",
       "    <tr>\n",
       "      <th>0</th>\n",
       "      <td>1</td>\n",
       "      <td>pos_wd_feats_stemmed[offset:4]</td>\n",
       "      <td>0.8127</td>\n",
       "      <td>pos_wd_feats_stemmed[offset:4]</td>\n",
       "      <td>0.7911</td>\n",
       "    </tr>\n",
       "    <tr>\n",
       "      <th>1</th>\n",
       "      <td>2</td>\n",
       "      <td>pos_ngram_feat_stemmed[ngram_size:2offset:4]</td>\n",
       "      <td>0.8191</td>\n",
       "      <td>pos_ngram_feat_stemmed[ngram_size:2offset:4]</td>\n",
       "      <td>0.7991</td>\n",
       "    </tr>\n",
       "    <tr>\n",
       "      <th>2</th>\n",
       "      <td>3</td>\n",
       "      <td>bow_ngram_feat[ngram_size:1offset:4]</td>\n",
       "      <td>0.8227</td>\n",
       "      <td>extract_brown_cluster</td>\n",
       "      <td>0.8009</td>\n",
       "    </tr>\n",
       "    <tr>\n",
       "      <th>3</th>\n",
       "      <td>4</td>\n",
       "      <td>extract_brown_cluster</td>\n",
       "      <td>0.8236</td>\n",
       "      <td>bow_ngram_feat[ngram_size:1offset:4]</td>\n",
       "      <td>0.8011</td>\n",
       "    </tr>\n",
       "    <tr>\n",
       "      <th>4</th>\n",
       "      <td>5</td>\n",
       "      <td>pos_ngram_feat_stemmed[ngram_size:3offset:4]</td>\n",
       "      <td>0.8242</td>\n",
       "      <td>extract_dependency_relation</td>\n",
       "      <td>0.8009</td>\n",
       "    </tr>\n",
       "    <tr>\n",
       "      <th>5</th>\n",
       "      <td>6</td>\n",
       "      <td>extract_dependency_relation</td>\n",
       "      <td>0.8247</td>\n",
       "      <td>pos_wd_feats[offset:4]</td>\n",
       "      <td>0.8003</td>\n",
       "    </tr>\n",
       "  </tbody>\n",
       "</table>\n",
       "</div>"
      ],
      "text/plain": [
       "   count                                   new_feat_CB micro_f1_score_CB  \\\n",
       "0      1                pos_wd_feats_stemmed[offset:4]            0.8127   \n",
       "1      2  pos_ngram_feat_stemmed[ngram_size:2offset:4]            0.8191   \n",
       "2      3          bow_ngram_feat[ngram_size:1offset:4]            0.8227   \n",
       "3      4                         extract_brown_cluster            0.8236   \n",
       "4      5  pos_ngram_feat_stemmed[ngram_size:3offset:4]            0.8242   \n",
       "5      6                   extract_dependency_relation            0.8247   \n",
       "\n",
       "                                    new_feat_SC micro_f1_score_SC  \n",
       "0                pos_wd_feats_stemmed[offset:4]            0.7911  \n",
       "1  pos_ngram_feat_stemmed[ngram_size:2offset:4]            0.7991  \n",
       "2                         extract_brown_cluster            0.8009  \n",
       "3          bow_ngram_feat[ngram_size:1offset:4]            0.8011  \n",
       "4                   extract_dependency_relation            0.8009  \n",
       "5                        pos_wd_feats[offset:4]            0.8003  "
      ]
     },
     "execution_count": 94,
     "metadata": {},
     "output_type": "execute_result"
    }
   ],
   "source": [
    "# Round to 4 d.p. for printing\n",
    "df = df_f1_score_by_feat_size[\"count,new_feat_CB,micro_f1_score_CB,new_feat_SC,micro_f1_score_SC\".split(\",\")].copy()\n",
    "df[\"micro_f1_score_CB\"] = df[\"micro_f1_score_CB\"].apply(lambda d: \"{0:.4f}\".format(d))  \n",
    "df[\"micro_f1_score_SC\"] = df[\"micro_f1_score_SC\"].apply(lambda d: \"{0:.4f}\".format(d))  \n",
    "df"
   ]
  },
  {
   "cell_type": "markdown",
   "metadata": {},
   "source": [
    "# Plot F1 Score Against # Feature Sets"
   ]
  },
  {
   "cell_type": "markdown",
   "metadata": {},
   "source": [
    "### Get the Max F1 Score for Each Size of Feature Set (Win = 9)"
   ]
  },
  {
   "cell_type": "code",
   "execution_count": 73,
   "metadata": {
    "collapsed": true
   },
   "outputs": [],
   "source": [
    "def get_max_f1_by_feat_count(df):\n",
    "    max_feats = df[\"count\"].values.max()\n",
    "    rows = []\n",
    "    for cnt in range(1, max_feats+1):\n",
    "        \n",
    "        row = df[df[\"count\"] == cnt].sort_values(\"micro_f1_score\", ascending=False).iloc[0]        \n",
    "        rows.append(row)\n",
    "\n",
    "    return pd.DataFrame(rows)"
   ]
  },
  {
   "cell_type": "code",
   "execution_count": 74,
   "metadata": {
    "collapsed": false
   },
   "outputs": [
    {
     "data": {
      "text/plain": [
       "array([4, 5, 3, 6, 2, 1])"
      ]
     },
     "execution_count": 74,
     "metadata": {},
     "output_type": "execute_result"
    }
   ],
   "source": [
    "sc_vd_df[sc_vd_df[\"window_size\"] == 9][\"count\"].unique()"
   ]
  },
  {
   "cell_type": "code",
   "execution_count": 75,
   "metadata": {
    "collapsed": false
   },
   "outputs": [
    {
     "data": {
      "text/html": [
       "<div>\n",
       "<table border=\"1\" class=\"dataframe\">\n",
       "  <thead>\n",
       "    <tr style=\"text-align: right;\">\n",
       "      <th></th>\n",
       "      <th>count</th>\n",
       "      <th>feats_CB</th>\n",
       "      <th>micro_f1_score_CB</th>\n",
       "      <th>micro_precision_CB</th>\n",
       "      <th>micro_recall_CB</th>\n",
       "      <th>window_size_CB</th>\n",
       "      <th>feats_SC</th>\n",
       "      <th>micro_f1_score_SC</th>\n",
       "      <th>micro_precision_SC</th>\n",
       "      <th>micro_recall_SC</th>\n",
       "      <th>window_size_SC</th>\n",
       "    </tr>\n",
       "  </thead>\n",
       "  <tbody>\n",
       "    <tr>\n",
       "      <th>0</th>\n",
       "      <td>1</td>\n",
       "      <td>[fn_pos_wd_feats_stemmed[offset:4]]</td>\n",
       "      <td>0.812696</td>\n",
       "      <td>0.891425</td>\n",
       "      <td>0.746745</td>\n",
       "      <td>9</td>\n",
       "      <td>[fn_pos_wd_feats_stemmed[offset:4]]</td>\n",
       "      <td>0.791081</td>\n",
       "      <td>0.849815</td>\n",
       "      <td>0.739942</td>\n",
       "      <td>9</td>\n",
       "    </tr>\n",
       "    <tr>\n",
       "      <th>1</th>\n",
       "      <td>2</td>\n",
       "      <td>[fn_pos_wd_feats_stemmed[offset:4], fn_pos_ngr...</td>\n",
       "      <td>0.819141</td>\n",
       "      <td>0.898793</td>\n",
       "      <td>0.752458</td>\n",
       "      <td>9</td>\n",
       "      <td>[fn_pos_wd_feats_stemmed[offset:4], fn_pos_ngr...</td>\n",
       "      <td>0.799118</td>\n",
       "      <td>0.857918</td>\n",
       "      <td>0.747861</td>\n",
       "      <td>9</td>\n",
       "    </tr>\n",
       "    <tr>\n",
       "      <th>2</th>\n",
       "      <td>3</td>\n",
       "      <td>[fn_pos_wd_feats_stemmed[offset:4], fn_pos_ngr...</td>\n",
       "      <td>0.822749</td>\n",
       "      <td>0.885141</td>\n",
       "      <td>0.768574</td>\n",
       "      <td>9</td>\n",
       "      <td>[fn_pos_wd_feats_stemmed[offset:4], fn_pos_ngr...</td>\n",
       "      <td>0.800872</td>\n",
       "      <td>0.856990</td>\n",
       "      <td>0.751653</td>\n",
       "      <td>9</td>\n",
       "    </tr>\n",
       "    <tr>\n",
       "      <th>3</th>\n",
       "      <td>4</td>\n",
       "      <td>[fn_pos_wd_feats_stemmed[offset:4], fn_pos_ngr...</td>\n",
       "      <td>0.823567</td>\n",
       "      <td>0.884369</td>\n",
       "      <td>0.770588</td>\n",
       "      <td>9</td>\n",
       "      <td>[fn_pos_wd_feats_stemmed[offset:4], fn_pos_ngr...</td>\n",
       "      <td>0.801090</td>\n",
       "      <td>0.847829</td>\n",
       "      <td>0.759236</td>\n",
       "      <td>9</td>\n",
       "    </tr>\n",
       "    <tr>\n",
       "      <th>4</th>\n",
       "      <td>5</td>\n",
       "      <td>[fn_pos_wd_feats_stemmed[offset:4], fn_pos_ngr...</td>\n",
       "      <td>0.824233</td>\n",
       "      <td>0.885508</td>\n",
       "      <td>0.770889</td>\n",
       "      <td>9</td>\n",
       "      <td>[fn_pos_wd_feats_stemmed[offset:4], fn_pos_ngr...</td>\n",
       "      <td>0.800949</td>\n",
       "      <td>0.848267</td>\n",
       "      <td>0.758632</td>\n",
       "      <td>9</td>\n",
       "    </tr>\n",
       "    <tr>\n",
       "      <th>5</th>\n",
       "      <td>6</td>\n",
       "      <td>[fn_pos_wd_feats_stemmed[offset:4], fn_pos_ngr...</td>\n",
       "      <td>0.824667</td>\n",
       "      <td>0.886629</td>\n",
       "      <td>0.770799</td>\n",
       "      <td>9</td>\n",
       "      <td>[fn_pos_wd_feats_stemmed[offset:4], fn_pos_ngr...</td>\n",
       "      <td>0.800255</td>\n",
       "      <td>0.845958</td>\n",
       "      <td>0.759236</td>\n",
       "      <td>9</td>\n",
       "    </tr>\n",
       "  </tbody>\n",
       "</table>\n",
       "</div>"
      ],
      "text/plain": [
       "   count                                           feats_CB  \\\n",
       "0      1                [fn_pos_wd_feats_stemmed[offset:4]]   \n",
       "1      2  [fn_pos_wd_feats_stemmed[offset:4], fn_pos_ngr...   \n",
       "2      3  [fn_pos_wd_feats_stemmed[offset:4], fn_pos_ngr...   \n",
       "3      4  [fn_pos_wd_feats_stemmed[offset:4], fn_pos_ngr...   \n",
       "4      5  [fn_pos_wd_feats_stemmed[offset:4], fn_pos_ngr...   \n",
       "5      6  [fn_pos_wd_feats_stemmed[offset:4], fn_pos_ngr...   \n",
       "\n",
       "   micro_f1_score_CB  micro_precision_CB  micro_recall_CB  window_size_CB  \\\n",
       "0           0.812696            0.891425         0.746745               9   \n",
       "1           0.819141            0.898793         0.752458               9   \n",
       "2           0.822749            0.885141         0.768574               9   \n",
       "3           0.823567            0.884369         0.770588               9   \n",
       "4           0.824233            0.885508         0.770889               9   \n",
       "5           0.824667            0.886629         0.770799               9   \n",
       "\n",
       "                                            feats_SC  micro_f1_score_SC  \\\n",
       "0                [fn_pos_wd_feats_stemmed[offset:4]]           0.791081   \n",
       "1  [fn_pos_wd_feats_stemmed[offset:4], fn_pos_ngr...           0.799118   \n",
       "2  [fn_pos_wd_feats_stemmed[offset:4], fn_pos_ngr...           0.800872   \n",
       "3  [fn_pos_wd_feats_stemmed[offset:4], fn_pos_ngr...           0.801090   \n",
       "4  [fn_pos_wd_feats_stemmed[offset:4], fn_pos_ngr...           0.800949   \n",
       "5  [fn_pos_wd_feats_stemmed[offset:4], fn_pos_ngr...           0.800255   \n",
       "\n",
       "   micro_precision_SC  micro_recall_SC  window_size_SC  \n",
       "0            0.849815         0.739942               9  \n",
       "1            0.857918         0.747861               9  \n",
       "2            0.856990         0.751653               9  \n",
       "3            0.847829         0.759236               9  \n",
       "4            0.848267         0.758632               9  \n",
       "5            0.845958         0.759236               9  "
      ]
     },
     "execution_count": 75,
     "metadata": {},
     "output_type": "execute_result"
    }
   ],
   "source": [
    "df_cb = get_max_f1_by_feat_count(cb_vd_df[cb_vd_df[\"window_size\"] == 9])[[\"count\", \"feats\", \"micro_f1_score\", \"micro_precision\", \"micro_recall\", \"window_size\"]]\n",
    "df_sc = get_max_f1_by_feat_count(sc_vd_df[sc_vd_df[\"window_size\"] == 9])[[\"count\", \"feats\", \"micro_f1_score\", \"micro_precision\", \"micro_recall\", \"window_size\"]]\n",
    "by_feat_size = pd.merge(df_cb, df_sc, on=\"count\", how=\"outer\", suffixes=[\"_CB\", \"_SC\"])\n",
    "by_feat_size"
   ]
  },
  {
   "cell_type": "code",
   "execution_count": 76,
   "metadata": {
    "collapsed": false
   },
   "outputs": [
    {
     "data": {
      "image/png": "[encoded data removed]",
      "text/plain": [
       "<matplotlib.figure.Figure at 0x11d5644d0>"
      ]
     },
     "metadata": {},
     "output_type": "display_data"
    }
   ],
   "source": [
    "FONT_SIZE = 15\n",
    "\n",
    "df = by_feat_size\n",
    "\n",
    "STYLE = \"whitegrid\"\n",
    "sns.set_style(STYLE)\n",
    "sns.set_style(STYLE, {\"xtick.major.size\": 1})\n",
    "\n",
    "fig = plt.figure(figsize=(12,6.5))\n",
    "\n",
    "x = df[\"count\"].values\n",
    "y_cb = df[\"micro_f1_score_CB\"].values\n",
    "y_sc = df[\"micro_f1_score_SC\"].values\n",
    "\n",
    "ax1 = fig.add_subplot(111)\n",
    "ax1.plot(x,y_cb, label=\"Coral Bleaching\")\n",
    "ax1.plot(x,y_sc, label=\"Skin Cancer\")\n",
    "\n",
    "legend = ax1.legend(loc='upper left', shadow=True, fontsize=FONT_SIZE)\n",
    "\n",
    "ax1.set_xlim([1, 6])\n",
    "ax1.set_ylim([0.79, 0.83])\n",
    "ax1.set_xlabel('Number of Feature Sets', fontsize=FONT_SIZE)\n",
    "ax1.set_ylabel('Micro F1 Score', fontsize=FONT_SIZE)\n",
    "\n",
    "plt.xticks(np.arange(min(x), max(x)+1, 1.0), fontsize=10)\n",
    "sns.despine()\n",
    "\n",
    "plt.savefig(\"/Users/simon.hughes/BitBucket/Dissertation/Dissertation/images/f1_score_by_num_feats.png\")\n",
    "plt.show()"
   ]
  },
  {
   "cell_type": "markdown",
   "metadata": {},
   "source": [
    "## Generate Rows for LaTex Table"
   ]
  },
  {
   "cell_type": "markdown",
   "metadata": {},
   "source": [
    "### F1 Score As Individual Features are Added"
   ]
  },
  {
   "cell_type": "code",
   "execution_count": 77,
   "metadata": {
    "collapsed": false
   },
   "outputs": [
    {
     "name": "stdout",
     "output_type": "stream",
     "text": [
      "1 & pos wd feats stemmed offset:4 & 0.8127 & & pos wd feats stemmed offset:4 & 0.7911\\\\\n",
      "2 & pos ngram feat stemmed ngram size:2offset:4 & 0.8191 & & pos ngram feat stemmed ngram size:2offset:4 & 0.7991\\\\\n",
      "3 & bow ngram feat ngram size:1offset:4 & 0.8227 & & extract brown cluster & 0.8009\\\\\n",
      "4 & extract brown cluster & 0.8236 & & bow ngram feat ngram size:1offset:4 & 0.8011\\\\\n",
      "5 & pos ngram feat stemmed ngram size:3offset:4 & 0.8242 & & - & -\\\\\n",
      "6 & extract dependency relation & 0.8247 & & - & -\\\\\n"
     ]
    }
   ],
   "source": [
    "for i, row in df_f1_score_by_feat_size.iterrows():\n",
    "    #pprint(row)\n",
    "    \n",
    "    feats_CB = format_lbl(row[\"new_feat_CB\"])\n",
    "    micro_f1_score_CB = row[\"micro_f1_score_CB\"]\n",
    "    \n",
    "    feats_SC = format_lbl(str(row[\"new_feat_SC\"]))\n",
    "    if feats_SC == \"nan\":\n",
    "        feats_SC = \"-\"\n",
    "        \n",
    "    micro_f1_score_SC = row[\"micro_f1_score_SC\"]\n",
    "    if str(micro_f1_score_SC) != \"nan\":\n",
    "        micro_f1_score_SC = \"{0:0.4f}\".format(micro_f1_score_SC)\n",
    "    else:\n",
    "        micro_f1_score_SC = \"-\"\n",
    "    count = row[\"count\"]\n",
    "    print(\"{count} & {feat_cb} & {cb_f1:0.4f} & & {feat_sc} & {sc_f1}\\\\\\\\\"\\\n",
    "          .format(count=count,feat_cb=feats_CB, cb_f1=micro_f1_score_CB,\n",
    "                  feat_sc=feats_SC, sc_f1=micro_f1_score_SC))"
   ]
  },
  {
   "cell_type": "markdown",
   "metadata": {},
   "source": [
    "## Sanity Check - Do Any Datasets have Duplicate Feature Sets with Different F1 Scores?"
   ]
  },
  {
   "cell_type": "code",
   "execution_count": 78,
   "metadata": {
    "collapsed": false
   },
   "outputs": [],
   "source": [
    "#SH: There were some issues with the CB_VD dataset initially for a couple of collections\n",
    "for df in [cb_td_df, cb_vd_df, sc_td_df, sc_vd_df]:\n",
    "    gb = group_by(df, bycols=[\"hs_feats\"], agg_map=[\n",
    "        (\"micro_f1_score\", \"count\"),\n",
    "        (\"micro_f1_score\", \"min\"),\n",
    "        (\"micro_f1_score\", \"max\"),\n",
    "    ])\n",
    "    gb = gb[gb[\"count(micro_f1_score)\"] > 1]\n",
    "    miss_match = gb[gb[\"min(micro_f1_score)\"] != gb[\"max(micro_f1_score)\"]]\n",
    "    \n",
    "    assert len(miss_match) == 0, \"Some errors occurred during data capture\""
   ]
  },
  {
   "cell_type": "code",
   "execution_count": 79,
   "metadata": {
    "collapsed": false
   },
   "outputs": [
    {
     "data": {
      "text/plain": [
       "[u'fn_pos_wd_feats_stemmed[offset:4]',\n",
       " u'fn_pos_ngram_feat_stemmed[ngram_size:2 offset:4]',\n",
       " u'extract_brown_cluster',\n",
       " u'fn_bow_ngram_feat[ngram_size:1 offset:4]']"
      ]
     },
     "execution_count": 79,
     "metadata": {},
     "output_type": "execute_result"
    }
   ],
   "source": [
    "a = df_sc[df_sc[\"count\"] >=4][\"feats\"].values\n",
    "a[0]"
   ]
  },
  {
   "cell_type": "code",
   "execution_count": 80,
   "metadata": {
    "collapsed": false
   },
   "outputs": [
    {
     "data": {
      "text/plain": [
       "[u'fn_pos_wd_feats_stemmed[offset:4]',\n",
       " u'fn_pos_ngram_feat_stemmed[ngram_size:2 offset:4]',\n",
       " u'extract_brown_cluster',\n",
       " u'fn_bow_ngram_feat[ngram_size:1 offset:4]',\n",
       " u'extract_dependency_relation']"
      ]
     },
     "execution_count": 80,
     "metadata": {},
     "output_type": "execute_result"
    }
   ],
   "source": [
    "a[1]"
   ]
  }
 ],
 "metadata": {
  "anaconda-cloud": {},
  "kernelspec": {
   "display_name": "Python [conda env:phd]",
   "language": "python",
   "name": "conda-env-phd-py"
  },
  "language_info": {
   "codemirror_mode": {
    "name": "ipython",
    "version": 2
   },
   "file_extension": ".py",
   "mimetype": "text/x-python",
   "name": "python",
   "nbconvert_exporter": "python",
   "pygments_lexer": "ipython2",
   "version": "2.7.13"
  }
 },
 "nbformat": 4,
 "nbformat_minor": 2
}
