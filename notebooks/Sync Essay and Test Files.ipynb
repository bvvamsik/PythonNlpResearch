{
 "cells": [
  {
   "cell_type": "code",
   "execution_count": 92,
   "metadata": {
    "collapsed": true
   },
   "outputs": [],
   "source": [
    "import shutil\n",
    "import os, re\n",
    "\n",
    "def find_files(folder, regex, remove_empty = False):\n",
    "    \"\"\"\n",
    "    Find all files matching the [regex] pattern in [folder]\n",
    "\n",
    "    folder  :   string\n",
    "                    folder to search (not recursive)\n",
    "    regex   :   string (NOT regex object)\n",
    "                    pattern to match\n",
    "    \"\"\"\n",
    "    files = os.listdir(folder)\n",
    "    matches = [os.path.abspath(os.path.join(folder, f))\n",
    "               for f in files\n",
    "               if re.search(regex, f, re.IGNORECASE)]\n",
    "\n",
    "    if remove_empty:\n",
    "        matches = [f for f in matches if os.path.getsize(f) > 0]\n",
    "    matches.sort()\n",
    "    return matches\n",
    "\n",
    "def copy_file(from_file, to_dir):\n",
    "    to_file = os.path.join(to_dir, os.path.basename(from_file))\n",
    "    if os.path.exists(to_file):\n",
    "        print \"File already exists: %s deleting\" % to_file\n",
    "        os.remove(to_file)\n",
    "        shutil.copyfile(from_file, to_file)                    \n",
    "    else:\n",
    "        shutil.copyfile(from_file, to_file)\n",
    "        \n",
    "def get_file_name_prefix(f):\n",
    "    splt = f.split(\"/\")\n",
    "    file_name = splt[-1]\n",
    "    return file_name.split(\".\")[0]"
   ]
  },
  {
   "cell_type": "code",
   "execution_count": 129,
   "metadata": {
    "collapsed": false
   },
   "outputs": [
    {
     "name": "stdout",
     "output_type": "stream",
     "text": [
      "Root: /Users/simon.hughes/Google Drive/Phd/Data/CoralBleaching/Thesis_Dataset/\n",
      "\n",
      "/Users/simon.hughes/Google Drive/Phd/Data/CoralBleaching/Thesis_Dataset/Training/\n",
      "/Users/simon.hughes/Google Drive/Phd/Data/CoralBleaching/Thesis_Dataset/Test/\n"
     ]
    }
   ],
   "source": [
    "#Source Folder (essay_folder) - CHANGE THIS ONE SETTING TO SWITCH BETWEEN CB AND SC!!!!!\n",
    "\n",
    "essay_folder = \"CoralBleaching/BrattData/EBA1415_Merged/\"\n",
    "#essay_folder = \"SkinCancer/EBA1415_Merged/\"\n",
    "\n",
    "data_dir = \"/Users/simon.hughes/Google Drive/Phd/Data/\"\n",
    "src_folder = data_dir + essay_folder\n",
    "\n",
    "root_folder = data_dir + essay_folder.split(\"/\")[0] + \"/Thesis_Dataset/\"\n",
    "print \"Root: \" + root_folder\n",
    "\n",
    "all_folder     = root_folder + \"All_Files/\"\n",
    "test_folder     = root_folder + \"Test/\"\n",
    "training_folder = root_folder + \"Training/\"\n",
    "\n",
    "print \"\"\n",
    "for f in [ training_folder, test_folder]:\n",
    "    print f"
   ]
  },
  {
   "cell_type": "code",
   "execution_count": 130,
   "metadata": {
    "collapsed": false
   },
   "outputs": [
    {
     "data": {
      "text/plain": [
       "'/Users/simon.hughes/Google Drive/Phd/Data/CoralBleaching/Thesis_Dataset/All_Files/'"
      ]
     },
     "execution_count": 130,
     "metadata": {},
     "output_type": "execute_result"
    }
   ],
   "source": [
    "folder_2_fix = all_folder\n",
    "folder_2_fix"
   ]
  },
  {
   "cell_type": "markdown",
   "metadata": {},
   "source": [
    "## Get Ann and Txt Files from Source"
   ]
  },
  {
   "cell_type": "code",
   "execution_count": 131,
   "metadata": {
    "collapsed": false
   },
   "outputs": [
    {
     "data": {
      "text/plain": [
       "(1154, 1161)"
      ]
     },
     "execution_count": 131,
     "metadata": {},
     "output_type": "execute_result"
    }
   ],
   "source": [
    "ann_files = set(find_files(src_folder, \"\\.ann$\", remove_empty=True))\n",
    "txt_files = set(find_files(src_folder, \"\\.txt$\", remove_empty=True))\n",
    "\n",
    "prefix_to_src_file = {}\n",
    "for f in txt_files:\n",
    "    p = get_file_name_prefix(f)\n",
    "    prefix_to_src_file[p] = f\n",
    "    \n",
    "len(ann_files), len(txt_files)"
   ]
  },
  {
   "cell_type": "code",
   "execution_count": 132,
   "metadata": {
    "collapsed": false
   },
   "outputs": [
    {
     "data": {
      "text/plain": [
       "['/Users/simon.hughes/Google Drive/Phd/Data/CoralBleaching/BrattData/EBA1415_Merged/EBA1415_TRWH_8_CB_ES-06073.ann',\n",
       " '/Users/simon.hughes/Google Drive/Phd/Data/CoralBleaching/BrattData/EBA1415_Merged/EBA1415_KNKC_1_CB_ES-05419.ann',\n",
       " '/Users/simon.hughes/Google Drive/Phd/Data/CoralBleaching/BrattData/EBA1415_Merged/EBA1415_TRWH_8_CB_ES-06063.ann',\n",
       " '/Users/simon.hughes/Google Drive/Phd/Data/CoralBleaching/BrattData/EBA1415_Merged/EBA1415_KYLS_6_CB_ES-05677.ann',\n",
       " '/Users/simon.hughes/Google Drive/Phd/Data/CoralBleaching/BrattData/EBA1415_Merged/EBA1415post_TWDG_1_CB_ES-04936.ann']"
      ]
     },
     "execution_count": 132,
     "metadata": {},
     "output_type": "execute_result"
    }
   ],
   "source": [
    "list(ann_files)[0:5]"
   ]
  },
  {
   "cell_type": "code",
   "execution_count": 133,
   "metadata": {
    "collapsed": false
   },
   "outputs": [
    {
     "data": {
      "text/plain": [
       "['/Users/simon.hughes/Google Drive/Phd/Data/CoralBleaching/BrattData/EBA1415_Merged/EBA1415_SDMK_6_CB_ES-04773.txt',\n",
       " '/Users/simon.hughes/Google Drive/Phd/Data/CoralBleaching/BrattData/EBA1415_Merged/EBA1415_LRBL_3_CB_ES-05149.txt',\n",
       " '/Users/simon.hughes/Google Drive/Phd/Data/CoralBleaching/BrattData/EBA1415_Merged/EBA1415_TFBM_1_CB-06038.txt',\n",
       " '/Users/simon.hughes/Google Drive/Phd/Data/CoralBleaching/BrattData/EBA1415_Merged/EBA1415_KNKC_3_CB_ES-05599.txt',\n",
       " '/Users/simon.hughes/Google Drive/Phd/Data/CoralBleaching/BrattData/EBA1415_Merged/EBA1415post_TWJB_7_CB_ES-05063.txt']"
      ]
     },
     "execution_count": 133,
     "metadata": {},
     "output_type": "execute_result"
    }
   ],
   "source": [
    "list(txt_files)[0:5]"
   ]
  },
  {
   "cell_type": "markdown",
   "metadata": {},
   "source": [
    "## Get Ann and Txt Files from New Folder"
   ]
  },
  {
   "cell_type": "code",
   "execution_count": 134,
   "metadata": {
    "collapsed": false
   },
   "outputs": [
    {
     "data": {
      "text/plain": [
       "(1128, 1063)"
      ]
     },
     "execution_count": 134,
     "metadata": {},
     "output_type": "execute_result"
    }
   ],
   "source": [
    "train_ann_files = set(find_files(folder_2_fix, \"\\.ann$\", remove_empty=True))\n",
    "train_txt_files = set(find_files(folder_2_fix, \"\\.txt$\", remove_empty=True))\n",
    "len(train_ann_files), len(train_txt_files)"
   ]
  },
  {
   "cell_type": "code",
   "execution_count": 135,
   "metadata": {
    "collapsed": false
   },
   "outputs": [
    {
     "data": {
      "text/plain": [
       "['/Users/simon.hughes/Google Drive/Phd/Data/CoralBleaching/Thesis_Dataset/All_Files/EBA1415_TRKM_2_CB_ES-6049.ann',\n",
       " '/Users/simon.hughes/Google Drive/Phd/Data/CoralBleaching/Thesis_Dataset/All_Files/EBA1415_TTCM_2_CB_ES-04925.ann',\n",
       " '/Users/simon.hughes/Google Drive/Phd/Data/CoralBleaching/Thesis_Dataset/All_Files/EBA1415_TRJB_2_CB_ES-06120.ann',\n",
       " '/Users/simon.hughes/Google Drive/Phd/Data/CoralBleaching/Thesis_Dataset/All_Files/EBA1415_TTKP_45_CB_ES-04921.ann',\n",
       " '/Users/simon.hughes/Google Drive/Phd/Data/CoralBleaching/Thesis_Dataset/All_Files/EBA1415_KNKC_1_CB_ES-05416.ann']"
      ]
     },
     "execution_count": 135,
     "metadata": {},
     "output_type": "execute_result"
    }
   ],
   "source": [
    "list(train_ann_files)[0:5]"
   ]
  },
  {
   "cell_type": "code",
   "execution_count": 136,
   "metadata": {
    "collapsed": false
   },
   "outputs": [
    {
     "data": {
      "text/plain": [
       "['/Users/simon.hughes/Google Drive/Phd/Data/CoralBleaching/Thesis_Dataset/All_Files/EBA1415_SERS_1516_CB-05111.txt',\n",
       " '/Users/simon.hughes/Google Drive/Phd/Data/CoralBleaching/Thesis_Dataset/All_Files/EBA1415_SWSP_4_CB_ES-04860.txt',\n",
       " '/Users/simon.hughes/Google Drive/Phd/Data/CoralBleaching/Thesis_Dataset/All_Files/EBA1415_TFBM_1_CB_ES-05953.txt',\n",
       " '/Users/simon.hughes/Google Drive/Phd/Data/CoralBleaching/Thesis_Dataset/All_Files/EBA1415_SERS_1314_CB_ES-05818.txt',\n",
       " '/Users/simon.hughes/Google Drive/Phd/Data/CoralBleaching/Thesis_Dataset/All_Files/EBA1415post_WSKT_1_CB_ES-05319.txt']"
      ]
     },
     "execution_count": 136,
     "metadata": {},
     "output_type": "execute_result"
    }
   ],
   "source": [
    "list(train_txt_files)[:5]"
   ]
  },
  {
   "cell_type": "markdown",
   "metadata": {},
   "source": [
    "## Move Missing Files Over"
   ]
  },
  {
   "cell_type": "code",
   "execution_count": 137,
   "metadata": {
    "collapsed": false,
    "scrolled": false
   },
   "outputs": [
    {
     "name": "stdout",
     "output_type": "stream",
     "text": [
      "copying...\n",
      "/Users/simon.hughes/Google Drive/Phd/Data/CoralBleaching/BrattData/EBA1415_Merged/EBA1415_SDLC_6_CB_ES-04749.txt\n",
      "/Users/simon.hughes/Google Drive/Phd/Data/CoralBleaching/Thesis_Dataset/All_Files/EBA1415_SDLC_6_CB_ES-04749.txt\n",
      "\n",
      "copying...\n",
      "/Users/simon.hughes/Google Drive/Phd/Data/CoralBleaching/BrattData/EBA1415_Merged/EBA1415_SDMK_4_CB_ES-04762.txt\n",
      "/Users/simon.hughes/Google Drive/Phd/Data/CoralBleaching/Thesis_Dataset/All_Files/EBA1415_SDMK_4_CB_ES-04762.txt\n",
      "\n",
      "copying...\n",
      "/Users/simon.hughes/Google Drive/Phd/Data/CoralBleaching/BrattData/EBA1415_Merged/EBA1415_SDMK_6_CB_ES-04777.txt\n",
      "/Users/simon.hughes/Google Drive/Phd/Data/CoralBleaching/Thesis_Dataset/All_Files/EBA1415_SDMK_6_CB_ES-04777.txt\n",
      "\n",
      "copying...\n",
      "/Users/simon.hughes/Google Drive/Phd/Data/CoralBleaching/BrattData/EBA1415_Merged/EBA1415_SDMK_7_CB_ES-04774.txt\n",
      "/Users/simon.hughes/Google Drive/Phd/Data/CoralBleaching/Thesis_Dataset/All_Files/EBA1415_SDMK_7_CB_ES-04774.txt\n",
      "\n",
      "copying...\n",
      "/Users/simon.hughes/Google Drive/Phd/Data/CoralBleaching/BrattData/EBA1415_Merged/EBA1415_SEAL_34_CB_ES-04799.txt\n",
      "/Users/simon.hughes/Google Drive/Phd/Data/CoralBleaching/Thesis_Dataset/All_Files/EBA1415_SEAL_34_CB_ES-04799.txt\n",
      "\n",
      "copying...\n",
      "/Users/simon.hughes/Google Drive/Phd/Data/CoralBleaching/BrattData/EBA1415_Merged/EBA1415_SEKL_1_CB_ES-04811.txt\n",
      "/Users/simon.hughes/Google Drive/Phd/Data/CoralBleaching/Thesis_Dataset/All_Files/EBA1415_SEKL_1_CB_ES-04811.txt\n",
      "\n",
      "copying...\n",
      "/Users/simon.hughes/Google Drive/Phd/Data/CoralBleaching/BrattData/EBA1415_Merged/EBA1415_SEKL_1_CB_ES-04819.txt\n",
      "/Users/simon.hughes/Google Drive/Phd/Data/CoralBleaching/Thesis_Dataset/All_Files/EBA1415_SEKL_1_CB_ES-04819.txt\n",
      "\n",
      "copying...\n",
      "/Users/simon.hughes/Google Drive/Phd/Data/CoralBleaching/BrattData/EBA1415_Merged/EBA1415_SEKL_2_CB-04829.txt\n",
      "/Users/simon.hughes/Google Drive/Phd/Data/CoralBleaching/Thesis_Dataset/All_Files/EBA1415_SEKL_2_CB-04829.txt\n",
      "\n",
      "copying...\n",
      "/Users/simon.hughes/Google Drive/Phd/Data/CoralBleaching/BrattData/EBA1415_Merged/EBA1415_SWAF_1_CB_ES-04834.txt\n",
      "/Users/simon.hughes/Google Drive/Phd/Data/CoralBleaching/Thesis_Dataset/All_Files/EBA1415_SWAF_1_CB_ES-04834.txt\n",
      "\n",
      "copying...\n",
      "/Users/simon.hughes/Google Drive/Phd/Data/CoralBleaching/BrattData/EBA1415_Merged/EBA1415_SWCT_6_CB-04868.txt\n",
      "/Users/simon.hughes/Google Drive/Phd/Data/CoralBleaching/Thesis_Dataset/All_Files/EBA1415_SWCT_6_CB-04868.txt\n",
      "\n",
      "copying...\n",
      "/Users/simon.hughes/Google Drive/Phd/Data/CoralBleaching/BrattData/EBA1415_Merged/EBA1415_SWCT_6_CB_ES-05495.txt\n",
      "/Users/simon.hughes/Google Drive/Phd/Data/CoralBleaching/Thesis_Dataset/All_Files/EBA1415_SWCT_6_CB_ES-05495.txt\n",
      "\n",
      "copying...\n",
      "/Users/simon.hughes/Google Drive/Phd/Data/CoralBleaching/BrattData/EBA1415_Merged/EBA1415_SWCT_7_CB_ES-05957.txt\n",
      "/Users/simon.hughes/Google Drive/Phd/Data/CoralBleaching/Thesis_Dataset/All_Files/EBA1415_SWCT_7_CB_ES-05957.txt\n",
      "\n",
      "copying...\n",
      "/Users/simon.hughes/Google Drive/Phd/Data/CoralBleaching/BrattData/EBA1415_Merged/EBA1415_SWSP_4_CB_ES-04857.txt\n",
      "/Users/simon.hughes/Google Drive/Phd/Data/CoralBleaching/Thesis_Dataset/All_Files/EBA1415_SWSP_4_CB_ES-04857.txt\n",
      "\n",
      "copying...\n",
      "/Users/simon.hughes/Google Drive/Phd/Data/CoralBleaching/BrattData/EBA1415_Merged/EBA1415_TFBM_1_CB_ES-05442.txt\n",
      "/Users/simon.hughes/Google Drive/Phd/Data/CoralBleaching/Thesis_Dataset/All_Files/EBA1415_TFBM_1_CB_ES-05442.txt\n",
      "\n",
      "copying...\n",
      "/Users/simon.hughes/Google Drive/Phd/Data/CoralBleaching/BrattData/EBA1415_Merged/EBA1415_TFBM_1_CB_ES-05444.txt\n",
      "/Users/simon.hughes/Google Drive/Phd/Data/CoralBleaching/Thesis_Dataset/All_Files/EBA1415_TFBM_1_CB_ES-05444.txt\n",
      "\n",
      "copying...\n",
      "/Users/simon.hughes/Google Drive/Phd/Data/CoralBleaching/BrattData/EBA1415_Merged/EBA1415_TFBM_1_CB_ES-05483.txt\n",
      "/Users/simon.hughes/Google Drive/Phd/Data/CoralBleaching/Thesis_Dataset/All_Files/EBA1415_TFBM_1_CB_ES-05483.txt\n",
      "\n",
      "copying...\n",
      "/Users/simon.hughes/Google Drive/Phd/Data/CoralBleaching/BrattData/EBA1415_Merged/EBA1415_TFBM_2_CB_ES-05553.txt\n",
      "/Users/simon.hughes/Google Drive/Phd/Data/CoralBleaching/Thesis_Dataset/All_Files/EBA1415_TFBM_2_CB_ES-05553.txt\n",
      "\n",
      "copying...\n",
      "/Users/simon.hughes/Google Drive/Phd/Data/CoralBleaching/BrattData/EBA1415_Merged/EBA1415_TFBM_2_CB_ES-05555.txt\n",
      "/Users/simon.hughes/Google Drive/Phd/Data/CoralBleaching/Thesis_Dataset/All_Files/EBA1415_TFBM_2_CB_ES-05555.txt\n",
      "\n",
      "copying...\n",
      "/Users/simon.hughes/Google Drive/Phd/Data/CoralBleaching/BrattData/EBA1415_Merged/EBA1415_TFHC_1_CB-06028.txt\n",
      "/Users/simon.hughes/Google Drive/Phd/Data/CoralBleaching/Thesis_Dataset/All_Files/EBA1415_TFHC_1_CB-06028.txt\n",
      "\n",
      "copying...\n",
      "/Users/simon.hughes/Google Drive/Phd/Data/CoralBleaching/BrattData/EBA1415_Merged/EBA1415_TFHC_4_CB_ES-05932.txt\n",
      "/Users/simon.hughes/Google Drive/Phd/Data/CoralBleaching/Thesis_Dataset/All_Files/EBA1415_TFHC_4_CB_ES-05932.txt\n",
      "\n",
      "copying...\n",
      "/Users/simon.hughes/Google Drive/Phd/Data/CoralBleaching/BrattData/EBA1415_Merged/EBA1415_TRDJ_2_CB_ES-05711.txt\n",
      "/Users/simon.hughes/Google Drive/Phd/Data/CoralBleaching/Thesis_Dataset/All_Files/EBA1415_TRDJ_2_CB_ES-05711.txt\n",
      "\n",
      "copying...\n",
      "/Users/simon.hughes/Google Drive/Phd/Data/CoralBleaching/BrattData/EBA1415_Merged/EBA1415_TRDJ_2_CB_ES-06131.txt\n",
      "/Users/simon.hughes/Google Drive/Phd/Data/CoralBleaching/Thesis_Dataset/All_Files/EBA1415_TRDJ_2_CB_ES-06131.txt\n",
      "\n",
      "copying...\n",
      "/Users/simon.hughes/Google Drive/Phd/Data/CoralBleaching/BrattData/EBA1415_Merged/EBA1415_TRJA_11_CB_ES-05709.txt\n",
      "/Users/simon.hughes/Google Drive/Phd/Data/CoralBleaching/Thesis_Dataset/All_Files/EBA1415_TRJA_11_CB_ES-05709.txt\n",
      "\n",
      "copying...\n",
      "/Users/simon.hughes/Google Drive/Phd/Data/CoralBleaching/BrattData/EBA1415_Merged/EBA1415_TRJA_6_CB_ES-05701.txt\n",
      "/Users/simon.hughes/Google Drive/Phd/Data/CoralBleaching/Thesis_Dataset/All_Files/EBA1415_TRJA_6_CB_ES-05701.txt\n",
      "\n",
      "copying...\n",
      "/Users/simon.hughes/Google Drive/Phd/Data/CoralBleaching/BrattData/EBA1415_Merged/EBA1415_TRJB_2_CB_ES-05019.txt\n",
      "/Users/simon.hughes/Google Drive/Phd/Data/CoralBleaching/Thesis_Dataset/All_Files/EBA1415_TRJB_2_CB_ES-05019.txt\n",
      "\n",
      "copying...\n",
      "/Users/simon.hughes/Google Drive/Phd/Data/CoralBleaching/BrattData/EBA1415_Merged/EBA1415_TRJB_2_CB_ES-06121.txt\n",
      "/Users/simon.hughes/Google Drive/Phd/Data/CoralBleaching/Thesis_Dataset/All_Files/EBA1415_TRJB_2_CB_ES-06121.txt\n",
      "\n",
      "copying...\n",
      "/Users/simon.hughes/Google Drive/Phd/Data/CoralBleaching/BrattData/EBA1415_Merged/EBA1415_TRKM_1_CB_ES-05026.txt\n",
      "/Users/simon.hughes/Google Drive/Phd/Data/CoralBleaching/Thesis_Dataset/All_Files/EBA1415_TRKM_1_CB_ES-05026.txt\n",
      "\n",
      "copying...\n",
      "/Users/simon.hughes/Google Drive/Phd/Data/CoralBleaching/BrattData/EBA1415_Merged/EBA1415_TRKM_1_CB_ES-05027.txt\n",
      "/Users/simon.hughes/Google Drive/Phd/Data/CoralBleaching/Thesis_Dataset/All_Files/EBA1415_TRKM_1_CB_ES-05027.txt\n",
      "\n",
      "copying...\n",
      "/Users/simon.hughes/Google Drive/Phd/Data/CoralBleaching/BrattData/EBA1415_Merged/EBA1415_TRWH_1_CB_ES-05535.txt\n",
      "/Users/simon.hughes/Google Drive/Phd/Data/CoralBleaching/Thesis_Dataset/All_Files/EBA1415_TRWH_1_CB_ES-05535.txt\n",
      "\n",
      "copying...\n",
      "/Users/simon.hughes/Google Drive/Phd/Data/CoralBleaching/BrattData/EBA1415_Merged/EBA1415_TRWH_8_CB_ES-06070.txt\n",
      "/Users/simon.hughes/Google Drive/Phd/Data/CoralBleaching/Thesis_Dataset/All_Files/EBA1415_TRWH_8_CB_ES-06070.txt\n",
      "\n",
      "copying...\n",
      "/Users/simon.hughes/Google Drive/Phd/Data/CoralBleaching/BrattData/EBA1415_Merged/EBA1415_TTCM_910_CB_ES-06146.txt\n",
      "/Users/simon.hughes/Google Drive/Phd/Data/CoralBleaching/Thesis_Dataset/All_Files/EBA1415_TTCM_910_CB_ES-06146.txt\n",
      "\n",
      "copying...\n",
      "/Users/simon.hughes/Google Drive/Phd/Data/CoralBleaching/BrattData/EBA1415_Merged/EBA1415_TTCM_910_CB_ES-06155.txt\n",
      "/Users/simon.hughes/Google Drive/Phd/Data/CoralBleaching/Thesis_Dataset/All_Files/EBA1415_TTCM_910_CB_ES-06155.txt\n",
      "\n",
      "copying...\n",
      "/Users/simon.hughes/Google Drive/Phd/Data/CoralBleaching/BrattData/EBA1415_Merged/EBA1415_TTFW_1_CB_ES-04902.txt\n",
      "/Users/simon.hughes/Google Drive/Phd/Data/CoralBleaching/Thesis_Dataset/All_Files/EBA1415_TTFW_1_CB_ES-04902.txt\n",
      "\n",
      "copying...\n",
      "/Users/simon.hughes/Google Drive/Phd/Data/CoralBleaching/BrattData/EBA1415_Merged/EBA1415_TTFW_1_CB_ES-06176.txt\n",
      "/Users/simon.hughes/Google Drive/Phd/Data/CoralBleaching/Thesis_Dataset/All_Files/EBA1415_TTFW_1_CB_ES-06176.txt\n",
      "\n",
      "copying...\n",
      "/Users/simon.hughes/Google Drive/Phd/Data/CoralBleaching/BrattData/EBA1415_Merged/EBA1415_TTKP_4-5_CB_ES-04923.txt\n",
      "/Users/simon.hughes/Google Drive/Phd/Data/CoralBleaching/Thesis_Dataset/All_Files/EBA1415_TTKP_4-5_CB_ES-04923.txt\n",
      "\n",
      "copying...\n",
      "/Users/simon.hughes/Google Drive/Phd/Data/CoralBleaching/BrattData/EBA1415_Merged/EBA1415_TTKP_4-5_CB_ES-06163.txt\n",
      "/Users/simon.hughes/Google Drive/Phd/Data/CoralBleaching/Thesis_Dataset/All_Files/EBA1415_TTKP_4-5_CB_ES-06163.txt\n",
      "\n",
      "copying...\n",
      "/Users/simon.hughes/Google Drive/Phd/Data/CoralBleaching/BrattData/EBA1415_Merged/EBA1415_TTKP_45_CB_ES-04921.txt\n",
      "/Users/simon.hughes/Google Drive/Phd/Data/CoralBleaching/Thesis_Dataset/All_Files/EBA1415_TTKP_45_CB_ES-04921.txt\n",
      "\n",
      "copying...\n",
      "/Users/simon.hughes/Google Drive/Phd/Data/CoralBleaching/BrattData/EBA1415_Merged/EBA1415_TTKP_7-8_CB_ES-04919.txt\n",
      "/Users/simon.hughes/Google Drive/Phd/Data/CoralBleaching/Thesis_Dataset/All_Files/EBA1415_TTKP_7-8_CB_ES-04919.txt\n",
      "\n",
      "copying...\n",
      "/Users/simon.hughes/Google Drive/Phd/Data/CoralBleaching/BrattData/EBA1415_Merged/EBA1415_TTKP_7-8_CB_ES-06169.txt\n",
      "/Users/simon.hughes/Google Drive/Phd/Data/CoralBleaching/Thesis_Dataset/All_Files/EBA1415_TTKP_7-8_CB_ES-06169.txt\n",
      "\n",
      "copying...\n",
      "/Users/simon.hughes/Google Drive/Phd/Data/CoralBleaching/BrattData/EBA1415_Merged/EBA1415_TWDG_1_CB_ES-06200.txt\n",
      "/Users/simon.hughes/Google Drive/Phd/Data/CoralBleaching/Thesis_Dataset/All_Files/EBA1415_TWDG_1_CB_ES-06200.txt\n",
      "\n",
      "copying...\n",
      "/Users/simon.hughes/Google Drive/Phd/Data/CoralBleaching/BrattData/EBA1415_Merged/EBA1415_TWJB_56_CB_ES-06210.txt\n",
      "/Users/simon.hughes/Google Drive/Phd/Data/CoralBleaching/Thesis_Dataset/All_Files/EBA1415_TWJB_56_CB_ES-06210.txt\n",
      "\n",
      "copying...\n",
      "/Users/simon.hughes/Google Drive/Phd/Data/CoralBleaching/BrattData/EBA1415_Merged/EBA1415_TWJB_5_CB_ES-05071.txt\n",
      "/Users/simon.hughes/Google Drive/Phd/Data/CoralBleaching/Thesis_Dataset/All_Files/EBA1415_TWJB_5_CB_ES-05071.txt\n",
      "\n",
      "copying...\n",
      "/Users/simon.hughes/Google Drive/Phd/Data/CoralBleaching/BrattData/EBA1415_Merged/EBA1415_TWJB_7_CB_ES-05897.txt\n",
      "/Users/simon.hughes/Google Drive/Phd/Data/CoralBleaching/Thesis_Dataset/All_Files/EBA1415_TWJB_7_CB_ES-05897.txt\n",
      "\n",
      "copying...\n",
      "/Users/simon.hughes/Google Drive/Phd/Data/CoralBleaching/BrattData/EBA1415_Merged/EBA1415_TWMD_45_CB_ES-04997.txt\n",
      "/Users/simon.hughes/Google Drive/Phd/Data/CoralBleaching/Thesis_Dataset/All_Files/EBA1415_TWMD_45_CB_ES-04997.txt\n",
      "\n",
      "copying...\n",
      "/Users/simon.hughes/Google Drive/Phd/Data/CoralBleaching/BrattData/EBA1415_Merged/EBA1415_TWMD_67_CB_ES-05010.txt\n",
      "/Users/simon.hughes/Google Drive/Phd/Data/CoralBleaching/Thesis_Dataset/All_Files/EBA1415_TWMD_67_CB_ES-05010.txt\n",
      "\n",
      "copying...\n",
      "/Users/simon.hughes/Google Drive/Phd/Data/CoralBleaching/BrattData/EBA1415_Merged/EBA1415_TWNB_2_CB_ES-04971.txt\n",
      "/Users/simon.hughes/Google Drive/Phd/Data/CoralBleaching/Thesis_Dataset/All_Files/EBA1415_TWNB_2_CB_ES-04971.txt\n",
      "\n",
      "copying...\n",
      "/Users/simon.hughes/Google Drive/Phd/Data/CoralBleaching/BrattData/EBA1415_Merged/EBA1415_TWNB_2_CB_ES-06185.txt\n",
      "/Users/simon.hughes/Google Drive/Phd/Data/CoralBleaching/Thesis_Dataset/All_Files/EBA1415_TWNB_2_CB_ES-06185.txt\n",
      "\n",
      "copying...\n",
      "/Users/simon.hughes/Google Drive/Phd/Data/CoralBleaching/BrattData/EBA1415_Merged/EBA1415_TWNB_3_CB_ES-05465.txt\n",
      "/Users/simon.hughes/Google Drive/Phd/Data/CoralBleaching/Thesis_Dataset/All_Files/EBA1415_TWNB_3_CB_ES-05465.txt\n",
      "\n",
      "copying...\n",
      "/Users/simon.hughes/Google Drive/Phd/Data/CoralBleaching/BrattData/EBA1415_Merged/EBA1415_TWNB_3_CB_ES-06187.txt\n",
      "/Users/simon.hughes/Google Drive/Phd/Data/CoralBleaching/Thesis_Dataset/All_Files/EBA1415_TWNB_3_CB_ES-06187.txt\n",
      "\n",
      "copying...\n",
      "/Users/simon.hughes/Google Drive/Phd/Data/CoralBleaching/BrattData/EBA1415_Merged/EBA1415_TWPK_3_CB_ES-05053.txt\n",
      "/Users/simon.hughes/Google Drive/Phd/Data/CoralBleaching/Thesis_Dataset/All_Files/EBA1415_TWPK_3_CB_ES-05053.txt\n",
      "\n",
      "copying...\n",
      "/Users/simon.hughes/Google Drive/Phd/Data/CoralBleaching/BrattData/EBA1415_Merged/EBA1415_WSAL_2_CB_ES-05359.txt\n",
      "/Users/simon.hughes/Google Drive/Phd/Data/CoralBleaching/Thesis_Dataset/All_Files/EBA1415_WSAL_2_CB_ES-05359.txt\n",
      "\n",
      "copying...\n",
      "/Users/simon.hughes/Google Drive/Phd/Data/CoralBleaching/BrattData/EBA1415_Merged/EBA1415_WSKT_6_CB_ES-05336.txt\n",
      "/Users/simon.hughes/Google Drive/Phd/Data/CoralBleaching/Thesis_Dataset/All_Files/EBA1415_WSKT_6_CB_ES-05336.txt\n",
      "\n",
      "copying...\n",
      "/Users/simon.hughes/Google Drive/Phd/Data/CoralBleaching/BrattData/EBA1415_Merged/EBA1415post_TWDG_11_CB_ES-04947.txt\n",
      "/Users/simon.hughes/Google Drive/Phd/Data/CoralBleaching/Thesis_Dataset/All_Files/EBA1415post_TWDG_11_CB_ES-04947.txt\n",
      "\n",
      "copying...\n",
      "/Users/simon.hughes/Google Drive/Phd/Data/CoralBleaching/BrattData/EBA1415_Merged/EBA1415post_TWDG_1_CB_ES-04934.txt\n",
      "/Users/simon.hughes/Google Drive/Phd/Data/CoralBleaching/Thesis_Dataset/All_Files/EBA1415post_TWDG_1_CB_ES-04934.txt\n",
      "\n",
      "copying...\n",
      "/Users/simon.hughes/Google Drive/Phd/Data/CoralBleaching/BrattData/EBA1415_Merged/EBA1415post_TWDG_1_CB_ES-04936.txt\n",
      "/Users/simon.hughes/Google Drive/Phd/Data/CoralBleaching/Thesis_Dataset/All_Files/EBA1415post_TWDG_1_CB_ES-04936.txt\n",
      "\n",
      "copying...\n",
      "/Users/simon.hughes/Google Drive/Phd/Data/CoralBleaching/BrattData/EBA1415_Merged/EBA1415post_TWMD_67_CB_ES-05007.txt\n",
      "/Users/simon.hughes/Google Drive/Phd/Data/CoralBleaching/Thesis_Dataset/All_Files/EBA1415post_TWMD_67_CB_ES-05007.txt\n",
      "\n",
      "copying...\n",
      "/Users/simon.hughes/Google Drive/Phd/Data/CoralBleaching/BrattData/EBA1415_Merged/EBA1415post_TWNB_3_CB_ES-04978.txt\n",
      "/Users/simon.hughes/Google Drive/Phd/Data/CoralBleaching/Thesis_Dataset/All_Files/EBA1415post_TWNB_3_CB_ES-04978.txt\n",
      "\n",
      "copying...\n",
      "/Users/simon.hughes/Google Drive/Phd/Data/CoralBleaching/BrattData/EBA1415_Merged/EBA1415post_TWNB_3_CB_ES-04991.txt\n",
      "/Users/simon.hughes/Google Drive/Phd/Data/CoralBleaching/Thesis_Dataset/All_Files/EBA1415post_TWNB_3_CB_ES-04991.txt\n",
      "\n",
      "copying...\n",
      "/Users/simon.hughes/Google Drive/Phd/Data/CoralBleaching/BrattData/EBA1415_Merged/EBA1415post_TWPK_1_CB_ES-05469.txt\n",
      "/Users/simon.hughes/Google Drive/Phd/Data/CoralBleaching/Thesis_Dataset/All_Files/EBA1415post_TWPK_1_CB_ES-05469.txt\n",
      "\n",
      "copying...\n",
      "/Users/simon.hughes/Google Drive/Phd/Data/CoralBleaching/BrattData/EBA1415_Merged/EBA1415post_TWPK_3_CB_ES-05050.txt\n",
      "/Users/simon.hughes/Google Drive/Phd/Data/CoralBleaching/Thesis_Dataset/All_Files/EBA1415post_TWPK_3_CB_ES-05050.txt\n",
      "\n",
      "copying...\n",
      "/Users/simon.hughes/Google Drive/Phd/Data/CoralBleaching/BrattData/EBA1415_Merged/EBA1415post_WSAL_1_CB_ES-05348.txt\n",
      "/Users/simon.hughes/Google Drive/Phd/Data/CoralBleaching/Thesis_Dataset/All_Files/EBA1415post_WSAL_1_CB_ES-05348.txt\n",
      "\n",
      "copying...\n",
      "/Users/simon.hughes/Google Drive/Phd/Data/CoralBleaching/BrattData/EBA1415_Merged/EBA1415post_WSAL_1_CB_ES-05349.txt\n",
      "/Users/simon.hughes/Google Drive/Phd/Data/CoralBleaching/Thesis_Dataset/All_Files/EBA1415post_WSAL_1_CB_ES-05349.txt\n",
      "\n",
      "copying...\n",
      "/Users/simon.hughes/Google Drive/Phd/Data/CoralBleaching/BrattData/EBA1415_Merged/EBA1415post_WSKT_1_CB_ES-05321.txt\n",
      "/Users/simon.hughes/Google Drive/Phd/Data/CoralBleaching/Thesis_Dataset/All_Files/EBA1415post_WSKT_1_CB_ES-05321.txt\n",
      "\n",
      "copying...\n",
      "/Users/simon.hughes/Google Drive/Phd/Data/CoralBleaching/BrattData/EBA1415_Merged/EBA1415post_WSKT_1_CB_ES-05327.txt\n",
      "/Users/simon.hughes/Google Drive/Phd/Data/CoralBleaching/Thesis_Dataset/All_Files/EBA1415post_WSKT_1_CB_ES-05327.txt\n",
      "\n",
      "copying...\n",
      "/Users/simon.hughes/Google Drive/Phd/Data/CoralBleaching/BrattData/EBA1415_Merged/EBA1415post_WSKT_1_CB_ES-05331.txt\n",
      "/Users/simon.hughes/Google Drive/Phd/Data/CoralBleaching/Thesis_Dataset/All_Files/EBA1415post_WSKT_1_CB_ES-05331.txt\n",
      "\n"
     ]
    },
    {
     "data": {
      "text/plain": [
       "(65, 1063)"
      ]
     },
     "execution_count": 137,
     "metadata": {},
     "output_type": "execute_result"
    }
   ],
   "source": [
    "missing_cnt = 0\n",
    "match_count = 0\n",
    "for ann in sorted(train_ann_files):\n",
    "    prefix = get_file_name_prefix(ann)\n",
    "    ann_file = folder_2_fix + prefix + \".ann\"\n",
    "    txt_file = folder_2_fix + prefix + \".txt\"\n",
    "    \n",
    "    if txt_file not in train_txt_files:\n",
    "        missing_cnt+=1\n",
    "        src_file = prefix_to_src_file[prefix]\n",
    "        print \"copying...\"\n",
    "        print src_file\n",
    "        print txt_file\n",
    "        print \"\"\n",
    "        copy_file(src_file, folder_2_fix)\n",
    "    else:\n",
    "        match_count+=1\n",
    "missing_cnt, match_count"
   ]
  },
  {
   "cell_type": "code",
   "execution_count": null,
   "metadata": {
    "collapsed": true
   },
   "outputs": [],
   "source": []
  }
 ],
 "metadata": {
  "anaconda-cloud": {},
  "kernelspec": {
   "display_name": "Python [conda env:phd]",
   "language": "python",
   "name": "conda-env-phd-py"
  },
  "language_info": {
   "codemirror_mode": {
    "name": "ipython",
    "version": 2
   },
   "file_extension": ".py",
   "mimetype": "text/x-python",
   "name": "python",
   "nbconvert_exporter": "python",
   "pygments_lexer": "ipython2",
   "version": "2.7.13"
  }
 },
 "nbformat": 4,
 "nbformat_minor": 2
}
