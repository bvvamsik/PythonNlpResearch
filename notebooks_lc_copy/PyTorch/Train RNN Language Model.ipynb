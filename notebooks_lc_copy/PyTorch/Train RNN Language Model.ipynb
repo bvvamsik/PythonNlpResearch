{
 "cells": [
  {
   "cell_type": "code",
   "execution_count": 1,
   "metadata": {
    "collapsed": false,
    "deletable": true,
    "editable": true
   },
   "outputs": [],
   "source": [
    "%load_ext autoreload"
   ]
  },
  {
   "cell_type": "markdown",
   "metadata": {},
   "source": [
    "## <span style=\"color:red;\">Please See Here: \n",
    "https://github.com/yunjey/pytorch-tutorial/blob/master/tutorials/08%20-%20Language%20Model/main.py#L28-L54<span>"
   ]
  },
  {
   "cell_type": "code",
   "execution_count": 2,
   "metadata": {
    "collapsed": false,
    "deletable": true,
    "editable": true
   },
   "outputs": [
    {
     "name": "stdout",
     "output_type": "stream",
     "text": [
      "Results Dir: /Users/simon.hughes/Google Drive/Phd/Results/\n",
      "Data Dir:    /Users/simon.hughes/Google Drive/Phd/Data/\n",
      "Root Dir:    /Users/simon.hughes/GitHub/NlpResearch/\n",
      "Public Data: /Users/simon.hughes/GitHub/NlpResearch/Data/PublicDatasets/\n",
      "902 files found\n",
      "902 essays processed\n"
     ]
    }
   ],
   "source": [
    "from BrattEssay import load_bratt_essays\n",
    "from collections import defaultdict\n",
    "from IterableFP import flatten\n",
    "from Settings import Settings\n",
    "\n",
    "target_folder = \"Training\"\n",
    "settings = Settings()\n",
    "root_folder = settings.data_directory + \"CoralBleaching/Thesis_Dataset/\"\n",
    "training_folder = root_folder + target_folder + \"/\"\n",
    "\n",
    "essays = load_bratt_essays(training_folder)"
   ]
  },
  {
   "cell_type": "code",
   "execution_count": 3,
   "metadata": {
    "collapsed": true,
    "deletable": true,
    "editable": true
   },
   "outputs": [],
   "source": [
    "#from https://github.com/pytorch/examples/blob/master/word_language_model/model.py\n",
    "import torch.nn as nn\n",
    "from torch.autograd import Variable\n",
    "\n",
    "class RNNModel(nn.Module):\n",
    "    \"\"\"Container module with an encoder, a recurrent module, and a decoder.\"\"\"\n",
    "\n",
    "    def __init__(self, rnn_type, ntoken, ninp, nhid, nlayers):\n",
    "        super(RNNModel, self).__init__()\n",
    "        self.encoder = nn.Embedding(ntoken, ninp)\n",
    "        if rnn_type in ['LSTM', 'GRU']:\n",
    "            self.rnn = getattr(nn, rnn_type)(ninp, nhid, nlayers, bias=False)\n",
    "        else:\n",
    "            try:\n",
    "                nonlinearity = {'RNN_TANH': 'tanh', 'RNN_RELU': 'relu'}[rnn_type]\n",
    "            except KeyError:\n",
    "                raise ValueError( \"\"\"An invalid option for `--model` was supplied,\n",
    "                                 options are ['LSTM', 'GRU', 'RNN_TANH' or 'RNN_RELU']\"\"\")\n",
    "            self.rnn = nn.RNN(ninp, nhid, nlayers, nonlinearity=nonlinearity, bias=False)\n",
    "        self.decoder = nn.Linear(nhid, ntoken)\n",
    "\n",
    "        self.init_weights()\n",
    "\n",
    "        self.rnn_type = rnn_type\n",
    "        self.nhid = nhid\n",
    "        self.nlayers = nlayers\n",
    "\n",
    "    def init_weights(self):\n",
    "        initrange = 0.1\n",
    "        self.encoder.weight.data.uniform_(-initrange, initrange)\n",
    "        self.decoder.bias.data.fill_(0)\n",
    "        self.decoder.weight.data.uniform_(-initrange, initrange)\n",
    "\n",
    "    def forward(self, input, hidden):\n",
    "        emb = self.encoder(input)\n",
    "        output, hidden = self.rnn(emb, hidden)\n",
    "        decoded = self.decoder(output.view(output.size(0)*output.size(1), output.size(2)))\n",
    "        return decoded.view(output.size(0), output.size(1), decoded.size(1)), hidden\n",
    "\n",
    "    def init_hidden(self, bsz):\n",
    "        weight = next(self.parameters()).data\n",
    "        if self.rnn_type == 'LSTM':\n",
    "            return (Variable(weight.new(self.nlayers, bsz, self.nhid).zero_()),\n",
    "                    Variable(weight.new(self.nlayers, bsz, self.nhid).zero_()))\n",
    "        else:\n",
    "            return Variable(weight.new(self.nlayers, bsz, self.nhid).zero_())"
   ]
  },
  {
   "cell_type": "code",
   "execution_count": 12,
   "metadata": {
    "collapsed": false,
    "deletable": true,
    "editable": true
   },
   "outputs": [],
   "source": [
    "class Args(object):\n",
    "    def __init__(self):\n",
    "        self.model = \"GRU\"\n",
    "        self.emsize = 200\n",
    "        self.nhid = 200\n",
    "        self.nlayers = 1 # default 2\n",
    "        self.lr = 20\n",
    "        self.clip = 0.5\n",
    "        self.epochs = 6\n",
    "        self.batch_size = 20\n",
    "        # sequence length, what does this mean ???\n",
    "        self.bptt = 20\n",
    "        self.seed = 1111\n",
    "        self.cuda = False  # Throws error during data load\n",
    "        self.log_interval=50\n",
    "        self.save = \"/Users/simon.hughes/data/pytorch/models/rq1_rnn.pt\"\n",
    "        \n",
    "args = Args()"
   ]
  },
  {
   "cell_type": "code",
   "execution_count": 13,
   "metadata": {
    "collapsed": false,
    "deletable": true,
    "editable": true
   },
   "outputs": [
    {
     "name": "stdout",
     "output_type": "stream",
     "text": [
      "WARNING: You have a CUDA device, so you should probably run with --cuda\n"
     ]
    }
   ],
   "source": [
    "import time\n",
    "import math\n",
    "import torch\n",
    "import torch.nn as nn\n",
    "from torch.autograd import Variable\n",
    "\n",
    "# Set the random seed manually for reproducibility.\n",
    "torch.manual_seed(args.seed)\n",
    "if torch.cuda.is_available():\n",
    "    if not args.cuda:\n",
    "        print(\"WARNING: You have a CUDA device, so you should probably run with --cuda\")\n",
    "    else:\n",
    "        print(\"CUDA Enabled\")\n",
    "        torch.cuda.manual_seed(args.seed)\n",
    "else:\n",
    "    print(\"CUDA is not available\")"
   ]
  },
  {
   "cell_type": "code",
   "execution_count": 24,
   "metadata": {
    "collapsed": false,
    "deletable": true,
    "editable": true
   },
   "outputs": [],
   "source": [
    "import torch.nn as nn\n",
    "from torch.autograd import Variable\n",
    "\n",
    "class RNNModel(nn.Module):\n",
    "    \"\"\"Container module with an encoder, a recurrent module, and a decoder.\"\"\"\n",
    "\n",
    "    def __init__(self, rnn_type, ntoken, ninp, nhid, nlayers):\n",
    "        super(RNNModel, self).__init__()\n",
    "        self.encoder = nn.Embedding(ntoken, ninp)\n",
    "        if rnn_type in ['LSTM', 'GRU']:\n",
    "            self.rnn = getattr(nn, rnn_type)(ninp, nhid, nlayers, bias=False)\n",
    "        else:\n",
    "            try:\n",
    "                nonlinearity = {'RNN_TANH': 'tanh', 'RNN_RELU': 'relu'}[rnn_type]\n",
    "            except KeyError:\n",
    "                raise ValueError( \"\"\"An invalid option for `--model` was supplied,\n",
    "                                 options are ['LSTM', 'GRU', 'RNN_TANH' or 'RNN_RELU']\"\"\")\n",
    "            self.rnn = nn.RNN(ninp, nhid, nlayers, nonlinearity=nonlinearity, bias=False)\n",
    "        self.decoder = nn.Linear(nhid, ntoken)\n",
    "\n",
    "        self.init_weights()\n",
    "\n",
    "        self.rnn_type = rnn_type\n",
    "        self.nhid = nhid\n",
    "        self.nlayers = nlayers\n",
    "\n",
    "    def init_weights(self):\n",
    "        initrange = 0.1\n",
    "        self.encoder.weight.data.uniform_(-initrange, initrange)\n",
    "        self.decoder.bias.data.fill_(0)\n",
    "        self.decoder.weight.data.uniform_(-initrange, initrange)\n",
    "\n",
    "    def forward(self, input, hidden):\n",
    "        emb = self.encoder(input)\n",
    "        output, hidden = self.rnn(emb, hidden)\n",
    "        decoded = self.decoder(output.view(output.size(0)*output.size(1), output.size(2)))\n",
    "        return decoded.view(output.size(0), output.size(1), decoded.size(1)), hidden\n",
    "\n",
    "    def init_hidden(self, bsz):\n",
    "        weight = next(self.parameters()).data\n",
    "        if self.rnn_type == 'LSTM':\n",
    "            return (Variable(weight.new(self.nlayers, bsz, self.nhid).zero_()),\n",
    "                    Variable(weight.new(self.nlayers, bsz, self.nhid).zero_()))\n",
    "        else:\n",
    "            return Variable(weight.new(self.nlayers, bsz, self.nhid).zero_())"
   ]
  },
  {
   "cell_type": "code",
   "execution_count": 14,
   "metadata": {
    "collapsed": true,
    "deletable": true,
    "editable": true
   },
   "outputs": [],
   "source": [
    "import os\n",
    "class Dictionary(object):\n",
    "    def __init__(self):\n",
    "        self.word2idx = {}\n",
    "        self.idx2word = []\n",
    "\n",
    "    def add_word(self, word):\n",
    "        if word not in self.word2idx:\n",
    "            self.idx2word.append(word)\n",
    "            self.word2idx[word] = len(self.idx2word) - 1\n",
    "        return self.word2idx[word]\n",
    "\n",
    "    def __len__(self):\n",
    "        return len(self.idx2word)\n",
    "\n",
    "class Corpus(object):\n",
    "    def __init__(self):\n",
    "        self.dictionary = Dictionary()\n",
    "        self.train = self.tokenize(\"/Users/simon.hughes/data/tensorflow/translate/cb/Training/inputs.txt\")\n",
    "        self.valid = self.tokenize(\"/Users/simon.hughes/data/tensorflow/translate/cb/Test/inputs.txt\")\n",
    "        self.test = self.tokenize(\"/Users/simon.hughes/data/tensorflow/translate/cb/Test/inputs.txt\")\n",
    "\n",
    "    def tokenize(self, path):\n",
    "        \"\"\"Tokenizes a text file.\"\"\"\n",
    "        assert os.path.exists(path)\n",
    "        # Add words to the dictionary\n",
    "        with open(path, 'r') as f:\n",
    "            tokens = 0\n",
    "            for line in f:\n",
    "                words = line.split() + ['<eos>']\n",
    "                tokens += len(words)\n",
    "                for word in words:\n",
    "                    self.dictionary.add_word(word)\n",
    "\n",
    "        # Tokenize file content\n",
    "        with open(path, 'r') as f:\n",
    "            ids = torch.LongTensor(tokens)\n",
    "            token = 0\n",
    "            for line in f:\n",
    "                words = line.split() + ['<eos>']\n",
    "                for word in words:\n",
    "                    ids[token] = self.dictionary.word2idx[word]\n",
    "                    token += 1\n",
    "\n",
    "        return ids"
   ]
  },
  {
   "cell_type": "code",
   "execution_count": 15,
   "metadata": {
    "collapsed": false,
    "deletable": true,
    "editable": true
   },
   "outputs": [],
   "source": [
    "corpus = Corpus()\n",
    "\n",
    "def batchify(data, bsz):\n",
    "    nbatch = data.size(0) // bsz\n",
    "    data = data.narrow(0, 0, nbatch * bsz)\n",
    "    data = data.view(bsz, -1).t().contiguous()\n",
    "    if args.cuda:\n",
    "        data = data.cuda()\n",
    "    return data\n",
    "\n",
    "eval_batch_size = 10\n",
    "train_data = batchify(corpus.train, args.batch_size)\n",
    "val_data = batchify(corpus.valid, eval_batch_size)\n",
    "test_data = batchify(corpus.test, eval_batch_size)"
   ]
  },
  {
   "cell_type": "markdown",
   "metadata": {
    "deletable": true,
    "editable": true
   },
   "source": [
    "## Build The Model"
   ]
  },
  {
   "cell_type": "code",
   "execution_count": 26,
   "metadata": {
    "collapsed": false,
    "deletable": true,
    "editable": true
   },
   "outputs": [],
   "source": [
    "ntokens = len(corpus.dictionary)\n",
    "model = RNNModel(args.model, ntokens, args.emsize, args.nhid, args.nlayers)\n",
    "if args.cuda:\n",
    "    model.cuda()\n",
    "\n",
    "criterion = nn.CrossEntropyLoss()"
   ]
  },
  {
   "cell_type": "markdown",
   "metadata": {
    "deletable": true,
    "editable": true
   },
   "source": [
    "## Train The Model"
   ]
  },
  {
   "cell_type": "code",
   "execution_count": 27,
   "metadata": {
    "collapsed": true,
    "deletable": true,
    "editable": true
   },
   "outputs": [],
   "source": [
    "def clip_gradient(model, clip):\n",
    "    \"\"\"Computes a gradient clipping coefficient based on gradient norm.\"\"\"\n",
    "    totalnorm = 0\n",
    "    for p in model.parameters():\n",
    "        modulenorm = p.grad.data.norm()\n",
    "        totalnorm += modulenorm ** 2\n",
    "    totalnorm = math.sqrt(totalnorm)\n",
    "    return min(1, clip / (totalnorm + 1e-6))\n",
    "\n",
    "\n",
    "def repackage_hidden(h):\n",
    "    \"\"\"Wraps hidden states in new Variables, to detach them from their history.\"\"\"\n",
    "    if type(h) == Variable:\n",
    "        return Variable(h.data)\n",
    "    else:\n",
    "        return tuple(repackage_hidden(v) for v in h)\n",
    "\n",
    "\n",
    "def get_batch(source, i, evaluation=False):\n",
    "    seq_len = min(args.bptt, len(source) - 1 - i)\n",
    "    data = Variable(source[i:i+seq_len], volatile=evaluation)\n",
    "    target = Variable(source[i+1:i+1+seq_len].view(-1))\n",
    "    return data, target\n",
    "\n",
    "\n",
    "def evaluate(data_source):\n",
    "    total_loss = 0\n",
    "    ntokens = len(corpus.dictionary)\n",
    "    hidden = model.init_hidden(eval_batch_size)\n",
    "    for i in range(0, data_source.size(0) - 1, args.bptt):\n",
    "        data, targets = get_batch(data_source, i, evaluation=True)\n",
    "        output, hidden = model(data, hidden)\n",
    "        output_flat = output.view(-1, ntokens)\n",
    "        total_loss += len(data) * criterion(output_flat, targets).data\n",
    "        hidden = repackage_hidden(hidden)\n",
    "    return total_loss[0] / len(data_source)\n",
    "\n",
    "\n",
    "def train():\n",
    "    total_loss = 0\n",
    "    start_time = time.time()\n",
    "    ntokens = len(corpus.dictionary)\n",
    "    hidden = model.init_hidden(args.batch_size)\n",
    "    for batch, i in enumerate(range(0, train_data.size(0) - 1, args.bptt)):\n",
    "        data, targets = get_batch(train_data, i)\n",
    "        hidden = repackage_hidden(hidden)\n",
    "        model.zero_grad()\n",
    "        output, hidden = model(data, hidden)\n",
    "        loss = criterion(output.view(-1, ntokens), targets)\n",
    "        loss.backward()\n",
    "\n",
    "        clipped_lr = lr * clip_gradient(model, args.clip)\n",
    "        for p in model.parameters():\n",
    "            p.data.add_(-clipped_lr, p.grad.data)\n",
    "\n",
    "        total_loss += loss.data\n",
    "\n",
    "        if batch % args.log_interval == 0 and batch > 0:\n",
    "            cur_loss = total_loss[0] / args.log_interval\n",
    "            elapsed = time.time() - start_time\n",
    "            print('| epoch {:3d} | {:5d}/{:5d} batches | lr {:02.2f} | ms/batch {:5.2f} | '\n",
    "                    'loss {:5.2f} | ppl {:8.2f}'.format(\n",
    "                epoch, batch, len(train_data) // args.bptt, lr,\n",
    "                elapsed * 1000 / args.log_interval, cur_loss, math.exp(cur_loss)))\n",
    "            total_loss = 0\n",
    "            start_time = time.time()"
   ]
  },
  {
   "cell_type": "code",
   "execution_count": 28,
   "metadata": {
    "collapsed": false,
    "deletable": true,
    "editable": true
   },
   "outputs": [
    {
     "name": "stdout",
     "output_type": "stream",
     "text": [
      "| epoch   1 |    50/  363 batches | lr 20.00 | ms/batch 100.73 | loss  6.35 | ppl   569.95\n",
      "| epoch   1 |   100/  363 batches | lr 20.00 | ms/batch 88.01 | loss  4.87 | ppl   130.15\n",
      "| epoch   1 |   150/  363 batches | lr 20.00 | ms/batch 84.37 | loss  4.14 | ppl    62.85\n",
      "| epoch   1 |   200/  363 batches | lr 20.00 | ms/batch 85.35 | loss  3.90 | ppl    49.35\n",
      "| epoch   1 |   250/  363 batches | lr 20.00 | ms/batch 87.58 | loss  3.80 | ppl    44.66\n",
      "| epoch   1 |   300/  363 batches | lr 20.00 | ms/batch 85.16 | loss  3.71 | ppl    40.82\n",
      "| epoch   1 |   350/  363 batches | lr 20.00 | ms/batch 87.09 | loss  3.68 | ppl    39.81\n",
      "-----------------------------------------------------------------------------------------\n",
      "| end of epoch   1 | time: 34.97s | valid loss  3.74 | valid ppl    41.93\n",
      "-----------------------------------------------------------------------------------------\n",
      "| epoch   2 |    50/  363 batches | lr 20.00 | ms/batch 91.34 | loss  3.55 | ppl    34.76\n",
      "| epoch   2 |   100/  363 batches | lr 20.00 | ms/batch 92.14 | loss  3.69 | ppl    40.23\n",
      "| epoch   2 |   150/  363 batches | lr 20.00 | ms/batch 95.56 | loss  3.53 | ppl    34.20\n",
      "| epoch   2 |   200/  363 batches | lr 20.00 | ms/batch 94.63 | loss  3.52 | ppl    33.92\n",
      "| epoch   2 |   250/  363 batches | lr 20.00 | ms/batch 101.65 | loss  3.64 | ppl    37.92\n",
      "| epoch   2 |   300/  363 batches | lr 20.00 | ms/batch 107.00 | loss  3.70 | ppl    40.57\n",
      "| epoch   2 |   350/  363 batches | lr 20.00 | ms/batch 104.56 | loss  3.73 | ppl    41.49\n",
      "-----------------------------------------------------------------------------------------\n",
      "| end of epoch   2 | time: 39.24s | valid loss  4.03 | valid ppl    55.99\n",
      "-----------------------------------------------------------------------------------------\n",
      "| epoch   3 |    50/  363 batches | lr 5.00 | ms/batch 106.71 | loss  3.48 | ppl    32.45\n",
      "| epoch   3 |   100/  363 batches | lr 5.00 | ms/batch 105.86 | loss  3.48 | ppl    32.53\n",
      "| epoch   3 |   150/  363 batches | lr 5.00 | ms/batch 100.10 | loss  3.21 | ppl    24.70\n",
      "| epoch   3 |   200/  363 batches | lr 5.00 | ms/batch 102.81 | loss  3.14 | ppl    23.12\n",
      "| epoch   3 |   250/  363 batches | lr 5.00 | ms/batch 101.44 | loss  3.13 | ppl    22.80\n",
      "| epoch   3 |   300/  363 batches | lr 5.00 | ms/batch 103.94 | loss  3.11 | ppl    22.37\n",
      "| epoch   3 |   350/  363 batches | lr 5.00 | ms/batch 98.74 | loss  2.99 | ppl    19.98\n",
      "-----------------------------------------------------------------------------------------\n",
      "| end of epoch   3 | time: 40.65s | valid loss  3.39 | valid ppl    29.80\n",
      "-----------------------------------------------------------------------------------------\n",
      "| epoch   4 |    50/  363 batches | lr 5.00 | ms/batch 101.61 | loss  2.97 | ppl    19.50\n",
      "| epoch   4 |   100/  363 batches | lr 5.00 | ms/batch 101.99 | loss  3.11 | ppl    22.38\n",
      "| epoch   4 |   150/  363 batches | lr 5.00 | ms/batch 102.39 | loss  2.90 | ppl    18.25\n",
      "| epoch   4 |   200/  363 batches | lr 5.00 | ms/batch 99.04 | loss  2.85 | ppl    17.34\n",
      "| epoch   4 |   250/  363 batches | lr 5.00 | ms/batch 101.04 | loss  2.87 | ppl    17.68\n",
      "| epoch   4 |   300/  363 batches | lr 5.00 | ms/batch 99.69 | loss  2.88 | ppl    17.82\n",
      "| epoch   4 |   350/  363 batches | lr 5.00 | ms/batch 102.11 | loss  2.80 | ppl    16.44\n",
      "-----------------------------------------------------------------------------------------\n",
      "| end of epoch   4 | time: 40.19s | valid loss  3.32 | valid ppl    27.67\n",
      "-----------------------------------------------------------------------------------------\n",
      "| epoch   5 |    50/  363 batches | lr 5.00 | ms/batch 103.01 | loss  2.76 | ppl    15.83\n",
      "| epoch   5 |   100/  363 batches | lr 5.00 | ms/batch 102.57 | loss  2.91 | ppl    18.30\n",
      "| epoch   5 |   150/  363 batches | lr 5.00 | ms/batch 108.15 | loss  2.73 | ppl    15.32\n",
      "| epoch   5 |   200/  363 batches | lr 5.00 | ms/batch 112.44 | loss  2.69 | ppl    14.74\n",
      "| epoch   5 |   250/  363 batches | lr 5.00 | ms/batch 120.30 | loss  2.70 | ppl    14.90\n",
      "| epoch   5 |   300/  363 batches | lr 5.00 | ms/batch 117.89 | loss  2.71 | ppl    15.05\n",
      "| epoch   5 |   350/  363 batches | lr 5.00 | ms/batch 117.94 | loss  2.65 | ppl    14.19\n",
      "-----------------------------------------------------------------------------------------\n",
      "| end of epoch   5 | time: 44.52s | valid loss  3.29 | valid ppl    26.76\n",
      "-----------------------------------------------------------------------------------------\n",
      "| epoch   6 |    50/  363 batches | lr 5.00 | ms/batch 119.40 | loss  2.61 | ppl    13.60\n",
      "| epoch   6 |   100/  363 batches | lr 5.00 | ms/batch 123.39 | loss  2.76 | ppl    15.73\n",
      "| epoch   6 |   150/  363 batches | lr 5.00 | ms/batch 123.63 | loss  2.57 | ppl    13.13\n",
      "| epoch   6 |   200/  363 batches | lr 5.00 | ms/batch 118.46 | loss  2.54 | ppl    12.64\n",
      "| epoch   6 |   250/  363 batches | lr 5.00 | ms/batch 114.40 | loss  2.56 | ppl    12.92\n",
      "| epoch   6 |   300/  363 batches | lr 5.00 | ms/batch 121.29 | loss  2.58 | ppl    13.15\n",
      "| epoch   6 |   350/  363 batches | lr 5.00 | ms/batch 129.61 | loss  2.52 | ppl    12.39\n",
      "-----------------------------------------------------------------------------------------\n",
      "| end of epoch   6 | time: 48.46s | valid loss  3.29 | valid ppl    26.74\n",
      "-----------------------------------------------------------------------------------------\n",
      "=========================================================================================\n",
      "| End of training | test loss  3.29 | test ppl    26.74\n",
      "=========================================================================================\n"
     ]
    },
    {
     "name": "stderr",
     "output_type": "stream",
     "text": [
      "/Users/simon.hughes/anaconda3/envs/pytorch_src/lib/python3.5/site-packages/torch/serialization.py:147: UserWarning: Couldn't retrieve source code for container of type RNNModel. It won't be checked for correctness upon loading.\n",
      "  \"type \" + obj.__name__ + \". It won't be checked \"\n"
     ]
    }
   ],
   "source": [
    "# Loop over epochs.\n",
    "lr = args.lr\n",
    "prev_val_loss = None\n",
    "for epoch in range(1, args.epochs+1):\n",
    "    epoch_start_time = time.time()\n",
    "    train()\n",
    "    val_loss = evaluate(val_data)\n",
    "    print('-' * 89)\n",
    "    print('| end of epoch {:3d} | time: {:5.2f}s | valid loss {:5.2f} | '\n",
    "            'valid ppl {:8.2f}'.format(epoch, (time.time() - epoch_start_time),\n",
    "                                       val_loss, math.exp(val_loss)))\n",
    "    print('-' * 89)\n",
    "    # Anneal the learning rate.\n",
    "    if prev_val_loss and val_loss > prev_val_loss:\n",
    "        lr /= 4\n",
    "    prev_val_loss = val_loss\n",
    "\n",
    "# Run on test data and save the model.\n",
    "test_loss = evaluate(test_data)\n",
    "print('=' * 89)\n",
    "print('| End of training | test loss {:5.2f} | test ppl {:8.2f}'.format(\n",
    "    test_loss, math.exp(test_loss)))\n",
    "print('=' * 89)\n",
    "if args.save != '':\n",
    "    with open(args.save, 'wb') as f:\n",
    "        torch.save(model, f)"
   ]
  },
  {
   "cell_type": "code",
   "execution_count": 41,
   "metadata": {
    "collapsed": false,
    "deletable": true,
    "editable": true
   },
   "outputs": [
    {
     "name": "stdout",
     "output_type": "stream",
     "text": [
      ".\n",
      "Coral bleaching is a phenomenon in which coral loses its color .\n",
      "Trade winds affect the temperature of the water temperature , which causes the balance to also be affected by the trade winds or water .\n",
      "In that the year of 1998 coral bleaching , the trade winds were very high and weaker trade winds and weaker winds .\n",
      "During bleaching , corals turn white due to the ejection or death of the zooanthellae .\n",
      "This in 1998 caused 16 % of the world's coral reefs died .\n",
      "Coral bleaching is a phenomenon in which coral loses its color .\n",
      "The events leading to coral bleaching are serious problem with a serious impact on the world's coral reefs .\n",
      "But when coral reefs died due to the death of the algae ( 70 - 85 degrees F .\n",
      "In the document , \" Background : What is \" Coral Bleaching is one example of how environmental stressors can negatively affect the balanced relationship between the coral and zooxanthellae .\n",
      "During bleaching , corals turn white due to the ejection or death of the zooxanthellae .\n",
      "This results\n"
     ]
    }
   ],
   "source": [
    "NUM_WORDS = 200\n",
    "TEMPERATURE = 0.5 # Higher will increase diversity\n",
    "\n",
    "hidden = model.init_hidden(1)\n",
    "input = Variable(torch.rand(1, 1).mul(ntokens).long(), volatile=True)\n",
    "if args.cuda:\n",
    "    input.data = input.data.cuda()\n",
    "    \n",
    "words = []\n",
    "for i in range(NUM_WORDS):\n",
    "    output, hidden = model(input, hidden)\n",
    "    word_weights = output.squeeze().data.div(TEMPERATURE).exp().cpu()\n",
    "    word_idx = torch.multinomial(word_weights, 1)[0]\n",
    "    input.data.fill_(word_idx)\n",
    "    word = corpus.dictionary.idx2word[word_idx]\n",
    "\n",
    "    if word == \"<eos>\":\n",
    "        print(\" \".join(words))\n",
    "        words = []\n",
    "    else:\n",
    "        words.append(word)\n",
    "if words:\n",
    "    print(\" \".join(words))"
   ]
  },
  {
   "cell_type": "code",
   "execution_count": null,
   "metadata": {
    "collapsed": true,
    "deletable": true,
    "editable": true
   },
   "outputs": [],
   "source": [
    "#TODO make sure eos markers not counted in accuracy metrics"
   ]
  }
 ],
 "metadata": {
  "kernelspec": {
   "display_name": "Python 3",
   "language": "python",
   "name": "python3"
  },
  "language_info": {
   "codemirror_mode": {
    "name": "ipython",
    "version": 3
   },
   "file_extension": ".py",
   "mimetype": "text/x-python",
   "name": "python",
   "nbconvert_exporter": "python",
   "pygments_lexer": "ipython3",
   "version": "3.5.3"
  }
 },
 "nbformat": 4,
 "nbformat_minor": 2
}
