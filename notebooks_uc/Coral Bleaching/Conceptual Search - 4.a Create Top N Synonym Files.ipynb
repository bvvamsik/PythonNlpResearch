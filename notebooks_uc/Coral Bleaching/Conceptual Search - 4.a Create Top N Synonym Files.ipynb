{
 "cells": [
  {
   "cell_type": "code",
   "execution_count": 12,
   "metadata": {
    "collapsed": false
   },
   "outputs": [],
   "source": [
    "#top 5k dice keywords\n",
    "KEY_WORDS_FILE = \"/Users/simon.hughes/Documents/Dice Data/LuceneTalk/top_5k_keywords.txt\"\n",
    "TOPN           = 30\n",
    "SYNONYMS_QRY_FILE  = \"/Users/simon.hughes/Documents/Dice Data/LuceneTalk/top%i_keyword_synonyms.txt\" % TOPN\n",
    "SYNONYMS_INDEX_FILE  = \"/Users/simon.hughes/Documents/Dice Data/LuceneTalk/keywords.txt\"\n",
    "PHRASES_FILE = \"/Users/simon.hughes/Documents/Dice Data/LuceneTalk/Phrases.txt\"\n",
    "MODEL_FILE     = \"/Users/simon.hughes/Documents/Dice Data/LuceneTalk/keyword_model.w2v\""
   ]
  },
  {
   "cell_type": "code",
   "execution_count": 13,
   "metadata": {
    "collapsed": true
   },
   "outputs": [],
   "source": [
    "#Shared\n",
    "#just used to load phrases file\n",
    "def load_stop_words(stop_words_file):\n",
    "    stop_words = set()\n",
    "    with open(stop_words_file) as f:\n",
    "            for line in f:\n",
    "                word = line.strip()\n",
    "                if word[0] != \"#\":\n",
    "                    word = word.lower()\n",
    "                    stop_words.add(word)\n",
    "    return stop_words"
   ]
  },
  {
   "cell_type": "code",
   "execution_count": 14,
   "metadata": {
    "collapsed": true
   },
   "outputs": [],
   "source": [
    "#functions\n",
    "def is_valid_search_keyword(kw):\n",
    "    q_kw = \" \" + kw + \" \"\n",
    "    for wd in \"(,), and , or , not , true , TRUE , false , FALSE \".split(\",\"):\n",
    "        if wd in q_kw:\n",
    "            return False\n",
    "    # remove queries with negations in them\n",
    "    tokens = kw.split(\" \")\n",
    "    \n",
    "    # remove single char keywords\n",
    "    if len(tokens) == 1 and len(tokens[0]) == 1:\n",
    "        if tokens[0].isalpha():\n",
    "            return True\n",
    "        return False\n",
    "    \n",
    "    if any(map(lambda t: t.strip().startswith(\"-\"), tokens)):\n",
    "        return False\n",
    "    return True\n",
    "\n",
    "def map_keyword(kw):\n",
    "    return kw.replace(\" \", \"_\")\n",
    "\n",
    "def write_most_similar_synonyms(topn, key_words, phrases, model, expand_fname, map_fname):\n",
    "    key_words = set(key_words)\n",
    "    missing = set()\n",
    "    no_sim = set()\n",
    "    all_syns = set()\n",
    "    with open(expand_fname, \"w+\") as exp_f:\n",
    "        for word in key_words:\n",
    "            if not word in model.vocab:\n",
    "                missing.add(word)\n",
    "                continue\n",
    "            \n",
    "            top_matches = model.most_similar(positive=word, topn=topn*10)\n",
    "            valid = []\n",
    "            for t,sim in top_matches:\n",
    "                if t in phrases and sim > 0.01:\n",
    "                    valid.append((t,sim))\n",
    "                    if len(valid) >= topn:\n",
    "                        break\n",
    "                \n",
    "            if len(valid) > 0:\n",
    "                all_syns.add(word)\n",
    "                exp_f.write(\"%s=>\" % word)\n",
    "                for key, val in valid:\n",
    "                    all_syns.add(key)\n",
    "                    kw = map_keyword(key)                        \n",
    "                    exp_f.write(\"%s|%f \" %(kw,val))\n",
    "                exp_f.write(\"\\n\")\n",
    "            else:\n",
    "                no_sim.add(word)\n",
    "                print(\"No matching similar terms in word2vec model for term: %s\" % word)\n",
    "    with open(map_fname, \"w+\") as f:\n",
    "        for syn in sorted(all_syns):\n",
    "            f.write(\"%s=>%s\\n\" % (syn, map_keyword(syn)))\n",
    "    return all_syns, missing, no_sim"
   ]
  },
  {
   "cell_type": "code",
   "execution_count": 15,
   "metadata": {
    "collapsed": true
   },
   "outputs": [],
   "source": [
    "import gensim, time\n",
    "from gensim.models.word2vec import Word2Vec\n",
    "\n",
    "model = Word2Vec.load(MODEL_FILE)"
   ]
  },
  {
   "cell_type": "code",
   "execution_count": 16,
   "metadata": {
    "collapsed": false
   },
   "outputs": [
    {
     "data": {
      "text/plain": [
       "24785"
      ]
     },
     "execution_count": 16,
     "metadata": {},
     "output_type": "execute_result"
    }
   ],
   "source": [
    "phrases = load_stop_words(PHRASES_FILE)\n",
    "len(phrases)"
   ]
  },
  {
   "cell_type": "code",
   "execution_count": 17,
   "metadata": {
    "collapsed": false
   },
   "outputs": [
    {
     "name": "stdout",
     "output_type": "stream",
     "text": [
      "4713 keywords loaded from /Users/simon.hughes/Documents/Dice Data/LuceneTalk/top_5k_keywords.txt\n"
     ]
    }
   ],
   "source": [
    "keywords = []\n",
    "un_keywords = set()\n",
    "with open(KEY_WORDS_FILE) as f:\n",
    "    for line in f:\n",
    "        kw = line.strip()\n",
    "        if len(kw) > 0 and is_valid_search_keyword(kw):\n",
    "            keywords.append(kw)\n",
    "print(\"%i keywords loaded from %s\" % (len(keywords), KEY_WORDS_FILE))"
   ]
  },
  {
   "cell_type": "code",
   "execution_count": 18,
   "metadata": {
    "collapsed": false
   },
   "outputs": [
    {
     "name": "stdout",
     "output_type": "stream",
     "text": [
      "No matching similar terms in word2vec model for term: idc technologies\n"
     ]
    }
   ],
   "source": [
    "all_syns, missing, no_sim = write_most_similar_synonyms(TOPN, keywords, phrases, model, SYNONYMS_QRY_FILE, SYNONYMS_INDEX_FILE)"
   ]
  },
  {
   "cell_type": "code",
   "execution_count": 19,
   "metadata": {
    "collapsed": false
   },
   "outputs": [
    {
     "name": "stdout",
     "output_type": "stream",
     "text": [
      "1552 1 4713\n"
     ]
    }
   ],
   "source": [
    "print len(missing), len(no_sim), len(keywords)\n",
    "\n",
    "ranked_missing = []\n",
    "for i,k in enumerate(keywords):\n",
    "    if k in missing or k in no_sim:\n",
    "        ranked_missing.append((i, k))"
   ]
  },
  {
   "cell_type": "code",
   "execution_count": 20,
   "metadata": {
    "collapsed": false
   },
   "outputs": [
    {
     "data": {
      "text/plain": [
       "[(68, 'etl tester'),\n",
       " (188, 'websphere admin'),\n",
       " (193, 'work from home'),\n",
       " (230, 'business analyst healthcare'),\n",
       " (246, 'qa manual tester'),\n",
       " (263, 'ruby on rails'),\n",
       " (264, 'java lead'),\n",
       " (270, 'sql server administrator'),\n",
       " (277, 'java remote'),\n",
       " (282, 'hadoop admin'),\n",
       " (311, 'oracle apps technical'),\n",
       " (316, 'sap tester'),\n",
       " (319, 'selenium tester'),\n",
       " (331, 'teradata developer'),\n",
       " (347, 'oracle soa developer'),\n",
       " (351, 'manual qa tester'),\n",
       " (357, 'weblogic administrator'),\n",
       " (399, 'dot net developer'),\n",
       " (401, 'director of it'),\n",
       " (427, 'junior business analyst'),\n",
       " (430, 'etl qa'),\n",
       " (436, 'mobile tester'),\n",
       " (453, 'soa developer'),\n",
       " (455, 'qa manual'),\n",
       " (458, 'qa selenium'),\n",
       " (463, 'sap manager'),\n",
       " (467, 'sas developer'),\n",
       " (469, 'informatica administrator'),\n",
       " (481, 'service now'),\n",
       " (494, 'sr. java developer'),\n",
       " (496, 'informatica admin'),\n",
       " (500, 'qa director'),\n",
       " (501, 'peoplesoft administrator'),\n",
       " (507, 'windows admin'),\n",
       " (517, 'sybase dba'),\n",
       " (535, 'rf engineer'),\n",
       " (548, 'oracle remote'),\n",
       " (550, 'oracle financials functional'),\n",
       " (558, 'edi analyst'),\n",
       " (564, 'entry level business analyst'),\n",
       " (571, 'mobile qa'),\n",
       " (581, 'oracle financial functional'),\n",
       " (583, 'ebs dba business ba architect asp java'),\n",
       " (597, 'java production support'),\n",
       " (603, 'oracle apps techno functional'),\n",
       " (608, 'sap qa'),\n",
       " (612, 'oracle apps developer'),\n",
       " (613, 'sap director'),\n",
       " (619, 'salesforce business analyst'),\n",
       " (621, 'sr. business analyst'),\n",
       " (623, 'application packager'),\n",
       " (628, 'sap gts'),\n",
       " (632, 'vmware admin'),\n",
       " (654, 'peoplesoft admin'),\n",
       " (667, 'sap remote'),\n",
       " (669, 'qa test lead'),\n",
       " (679, 'remote java'),\n",
       " (682, 'html developer'),\n",
       " (692, 'oracle ebs developer'),\n",
       " (693, 'aix administrator'),\n",
       " (701, '3rd shift'),\n",
       " (702, '.net remote'),\n",
       " (708, 'qa healthcare'),\n",
       " (710, 'oracle plsql developer'),\n",
       " (712, 'entry level developer'),\n",
       " (715, 'sap fico consultant'),\n",
       " (716, 'work from home'),\n",
       " (721, 'jr java developer'),\n",
       " (722, 'clinical sas programmer'),\n",
       " (729, 'entry level java developer'),\n",
       " (737, 'sap trainer'),\n",
       " (741, 'middleware admin'),\n",
       " (742, 'search tech jobs'),\n",
       " (743, 'vmware administrator'),\n",
       " (748, 'it jobs'),\n",
       " (757, 'sap mdg'),\n",
       " (769, 'sales force developer'),\n",
       " (774, 'sas clinical'),\n",
       " (777, 'entry level java'),\n",
       " (788, 'sap treasury'),\n",
       " (794, 'oracle project accounting'),\n",
       " (796, 'entry level qa'),\n",
       " (803, 'aix admin'),\n",
       " (805, 'h1b sponsorship'),\n",
       " (806, 'urgent'),\n",
       " (817, 'entry level it'),\n",
       " (822, 'java support'),\n",
       " (825, 'sap bo developer'),\n",
       " (835, 'oracle applications dba'),\n",
       " (838, 'modis'),\n",
       " (846, 'salesforce remote'),\n",
       " (849, 'oracle manufacturing'),\n",
       " (854, 'qa manual testing'),\n",
       " (867, 'junior web developer'),\n",
       " (868, 'sap business objects developer'),\n",
       " (872, 'qa remote'),\n",
       " (877, 'sap mm srm'),\n",
       " (906, 'ebs dba business ba architect asp'),\n",
       " (908, 'business analyst insurance'),\n",
       " (909, 'healthcare analyst')]"
      ]
     },
     "execution_count": 20,
     "metadata": {},
     "output_type": "execute_result"
    }
   ],
   "source": [
    "sorted(ranked_missing)[0:100]"
   ]
  },
  {
   "cell_type": "code",
   "execution_count": null,
   "metadata": {
    "collapsed": true
   },
   "outputs": [],
   "source": []
  }
 ],
 "metadata": {
  "kernelspec": {
   "display_name": "Python 2",
   "language": "python",
   "name": "python2"
  },
  "language_info": {
   "codemirror_mode": {
    "name": "ipython",
    "version": 2
   },
   "file_extension": ".py",
   "mimetype": "text/x-python",
   "name": "python",
   "nbconvert_exporter": "python",
   "pygments_lexer": "ipython2",
   "version": "2.7.10"
  }
 },
 "nbformat": 4,
 "nbformat_minor": 0
}
