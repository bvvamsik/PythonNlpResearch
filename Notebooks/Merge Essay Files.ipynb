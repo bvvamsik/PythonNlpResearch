{
 "cells": [
  {
   "cell_type": "code",
   "execution_count": 3,
   "metadata": {
    "collapsed": true
   },
   "outputs": [],
   "source": [
    "import os\n",
    "import shutil\n",
    "import time\n",
    "from FindFiles import find_files\n",
    "from os import walk\n",
    "\n",
    "def move(from_dir, to_dir, regex, ignore_empty = True, replace_existing = False):\n",
    "    lst_files = find_files(from_dir, regex, remove_empty = ignore_empty)\n",
    "    cnt = 0\n",
    "    for f in lst_files:\n",
    "        dfile = os.path.join(to_dir, os.path.basename(f))\n",
    "        if not replace_existing and os.path.exists(dfile):\n",
    "            print \"%s already exists\" % dfile\n",
    "        else:\n",
    "            shutil.copyfile(f, dfile)\n",
    "            cnt += 1\n",
    "    print \"Moved %s files\" % str(cnt)\n",
    "    \n",
    "def replace_if_newer(from_dir, to_dir, regex, ignore_empty = True, content_filter = None):\n",
    "    if content_filter:\n",
    "        content_filter = content_filter.strip()\n",
    "    \n",
    "    lst_files = find_files(from_dir, regex, remove_empty = ignore_empty)\n",
    "    cnt = 0\n",
    "    for from_file in lst_files:\n",
    "        to_file = os.path.join(to_dir, os.path.basename(from_file))\n",
    "        if os.path.exists(to_file):\n",
    "            from_time = time.ctime(os.path.getmtime(from_file))\n",
    "            to_time = time.ctime(os.path.getmtime(to_file))\n",
    "\n",
    "            with open(to_file) as f:\n",
    "                to_contents = f.read()\n",
    "\n",
    "            if from_time >= to_time:\n",
    "                if content_filter:        \n",
    "                    if to_contents.strip() == content_filter:\n",
    "                        print \"Passing on %s as destination file matches content filter\" % to_file\n",
    "                        continue\n",
    "                \n",
    "                os.remove(to_file)\n",
    "                shutil.copyfile(from_file, to_file)\n",
    "            else:\n",
    "                with open(from_file) as f:\n",
    "                    from_contents = f.read()\n",
    "                ratio = len(from_contents) / float(len(to_contents) + 1)\n",
    "                if ratio >= 10.0:\n",
    "                    os.remove(to_file)\n",
    "                    shutil.copyfile(from_file, to_file)\n",
    "                    print \"Copying %s as source file is %f times larger than destination file\" % (from_file,ratio)\n",
    "                else:\n",
    "                    print \"Passing on %s as destination file is newer\" % from_file\n",
    "        else:\n",
    "            shutil.copyfile(from_file, to_file)\n",
    "            cnt += 1\n",
    "    print \"Moved %s files\" % str(cnt)\n",
    "    \n",
    "def list_folders(folder):\n",
    "    for (dirpath, dirnames, filenames) in walk(folder):\n",
    "        return dirnames\n",
    "    return None"
   ]
  },
  {
   "cell_type": "code",
   "execution_count": 4,
   "metadata": {
    "collapsed": false
   },
   "outputs": [
    {
     "name": "stdout",
     "output_type": "stream",
     "text": [
      "/Users/simon.hughes/Google Drive/PhD/Data/all-essays-2015-09/CoralBleaching/EBA1415/3-17-15\n",
      "Moved 65 files\n",
      "Moved 65 files\n",
      "/Users/simon.hughes/Google Drive/PhD/Data/all-essays-2015-09/CoralBleaching/EBA1415/4-15-15\n",
      "Moved 284 files\n",
      "Moved 284 files\n",
      "/Users/simon.hughes/Google Drive/PhD/Data/all-essays-2015-09/CoralBleaching/EBA1415/5-15-15\n",
      "Moved 213 files\n",
      "Moved 218 files\n",
      "/Users/simon.hughes/Google Drive/PhD/Data/all-essays-2015-09/CoralBleaching/EBA1415/6-2-15\n",
      "Moved 227 files\n",
      "Passing on /Users/simon.hughes/Google Drive/PhD/Data/all-essays-2015-09/CoralBleaching/EBA1415/6-2-15/EBA1415_TFHC_1_CB_ES-05939.txt as destination file is newer\n",
      "Moved 228 files\n",
      "/Users/simon.hughes/Google Drive/PhD/Data/all-essays-2015-09/CoralBleaching/EBA1415/6-24-15\n",
      "Moved 179 files\n",
      "Moved 180 files\n",
      "/Users/simon.hughes/Google Drive/PhD/Data/all-essays-2015-09/CoralBleaching/EBA1415/7-20-15\n",
      "Moved 186 files\n",
      "Moved 186 files\n"
     ]
    }
   ],
   "source": [
    "root = \"/Users/simon.hughes/Google Drive/PhD/Data/all-essays-2015-09/CoralBleaching/EBA1415\"\n",
    "to_dir = \"%s/%s\" % (root,\"Merged\") \n",
    "\n",
    "for folder in sorted(list_folders(root)):\n",
    "    from_dir = \"%s/%s\" % (root,folder)\n",
    "    if from_dir == to_dir:\n",
    "        continue\n",
    "    print from_dir\n",
    "    replace_if_newer(from_dir, to_dir, \"^.*\\.ann$\")\n",
    "    replace_if_newer(from_dir, to_dir, \"^.*\\.txt$\")"
   ]
  },
  {
   "cell_type": "code",
   "execution_count": null,
   "metadata": {
    "collapsed": true
   },
   "outputs": [],
   "source": [
    "# EBA1415/6-2-15/EBA1415_TFHC_1_CB_ES-05939.txt as destination file is newer is in 5-15-15 also"
   ]
  },
  {
   "cell_type": "code",
   "execution_count": 5,
   "metadata": {
    "collapsed": false
   },
   "outputs": [
    {
     "name": "stdout",
     "output_type": "stream",
     "text": [
      "/Users/simon.hughes/Google Drive/PhD/Data/all-essays-2015-09/SkinCancer/EBA1415/3-17-15\n",
      "Moved 74 files\n",
      "Moved 74 files\n",
      "/Users/simon.hughes/Google Drive/PhD/Data/all-essays-2015-09/SkinCancer/EBA1415/4-15-15\n",
      "Moved 251 files\n",
      "Moved 252 files\n",
      "/Users/simon.hughes/Google Drive/PhD/Data/all-essays-2015-09/SkinCancer/EBA1415/5-15-15\n",
      "Moved 223 files\n",
      "Moved 225 files\n",
      "/Users/simon.hughes/Google Drive/PhD/Data/all-essays-2015-09/SkinCancer/EBA1415/6-2-15\n",
      "Moved 192 files\n",
      "Moved 192 files\n",
      "/Users/simon.hughes/Google Drive/PhD/Data/all-essays-2015-09/SkinCancer/EBA1415/6-24-15\n",
      "Moved 253 files\n",
      "Moved 255 files\n",
      "/Users/simon.hughes/Google Drive/PhD/Data/all-essays-2015-09/SkinCancer/EBA1415/7-20-15\n",
      "Moved 114 files\n",
      "Moved 116 files\n"
     ]
    }
   ],
   "source": [
    "root = \"/Users/simon.hughes/Google Drive/PhD/Data/all-essays-2015-09/SkinCancer/EBA1415\"\n",
    "to_dir = \"%s/%s\" % (root,\"Merged\") \n",
    "\n",
    "for folder in sorted(list_folders(root)):\n",
    "    from_dir = \"%s/%s\" % (root,folder)\n",
    "    if from_dir == to_dir:\n",
    "        continue\n",
    "    print from_dir\n",
    "    replace_if_newer(from_dir, to_dir, \"^.*\\.ann$\")\n",
    "    replace_if_newer(from_dir, to_dir, \"^.*\\.txt$\")"
   ]
  },
  {
   "cell_type": "code",
   "execution_count": null,
   "metadata": {
    "collapsed": true
   },
   "outputs": [],
   "source": []
  }
 ],
 "metadata": {
  "kernelspec": {
   "display_name": "Python 2",
   "language": "python",
   "name": "python2"
  },
  "language_info": {
   "codemirror_mode": {
    "name": "ipython",
    "version": 2
   },
   "file_extension": ".py",
   "mimetype": "text/x-python",
   "name": "python",
   "nbconvert_exporter": "python",
   "pygments_lexer": "ipython2",
   "version": "2.7.10"
  }
 },
 "nbformat": 4,
 "nbformat_minor": 0
}
