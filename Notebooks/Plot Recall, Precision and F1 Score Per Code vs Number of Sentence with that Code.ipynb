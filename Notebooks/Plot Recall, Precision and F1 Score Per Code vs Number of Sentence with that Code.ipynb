{
 "cells": [
  {
   "cell_type": "code",
   "execution_count": 1,
   "metadata": {
    "collapsed": true
   },
   "outputs": [],
   "source": [
    "cb_metrics_file = \"/Users/simon.hughes/BitBucket/Dissertation/Results/causal/CB_metrics_causal_and_concepts_only.txt\"\n",
    "sc_metrics_file = \"/Users/simon.hughes/BitBucket/Dissertation/Results/causal/SC_metrics_causal_and_concepts_only.txt\""
   ]
  },
  {
   "cell_type": "code",
   "execution_count": 2,
   "metadata": {
    "collapsed": true
   },
   "outputs": [],
   "source": [
    "def get_test_metric(substr):\n",
    "    splt = substr.strip().split(\" \")\n",
    "    return splt[-1]\n",
    "\n",
    "def parse_metrics(fname):\n",
    "    with open(fname) as f:\n",
    "        lines = f.readlines()\n",
    "    \n",
    "    sentence_metrics = False\n",
    "    current_tag = \"\"\n",
    "    current_metrics = None\n",
    "    metrics = []\n",
    "    for line in lines:\n",
    "        line = line.strip()\n",
    "        if line.startswith(\"SENTENCE\"):\n",
    "            sentence_metrics = True\n",
    "            continue\n",
    "        if \"MEAN\" in line:\n",
    "            sentence_metrics = False\n",
    "            continue\n",
    "        if sentence_metrics:\n",
    "            if not line:\n",
    "                continue\n",
    "\n",
    "            if line.startswith(\"TAG:\"):\n",
    "                if current_metrics:\n",
    "                    metrics.append(current_metrics)\n",
    "                \n",
    "                current_tag = line[4:].strip()\n",
    "                current_metrics = {\"code\": current_tag}\n",
    "                \n",
    "            elif line.startswith(\"f1:\"):\n",
    "                f1score = float(get_test_metric(line[3:]))\n",
    "                current_metrics[\"f1\"] = f1score\n",
    "                \n",
    "            elif line.startswith(\"recall:\"):\n",
    "                recall = float(get_test_metric(line[7:]))\n",
    "                current_metrics[\"recall\"] = recall\n",
    "                \n",
    "            elif line.startswith(\"precision:\"):\n",
    "                precision = float(get_test_metric(line[10:]))\n",
    "                current_metrics[\"precision\"] = precision\n",
    "            \n",
    "            elif line.startswith(\"sentences:\"):\n",
    "                num_sents = float(get_test_metric(line[10:]))\n",
    "                current_metrics[\"sentences\"] = num_sents\n",
    "\n",
    "    metrics.append(current_metrics)\n",
    "    return metrics"
   ]
  },
  {
   "cell_type": "code",
   "execution_count": 3,
   "metadata": {
    "collapsed": false
   },
   "outputs": [
    {
     "data": {
      "text/plain": [
       "(50, 38)"
      ]
     },
     "execution_count": 3,
     "metadata": {},
     "output_type": "execute_result"
    }
   ],
   "source": [
    "cb_metrics = parse_metrics(cb_metrics_file)\n",
    "sc_metrics = parse_metrics(sc_metrics_file)\n",
    "len(cb_metrics), len(sc_metrics)"
   ]
  },
  {
   "cell_type": "code",
   "execution_count": 4,
   "metadata": {
    "collapsed": false
   },
   "outputs": [
    {
     "data": {
      "text/plain": [
       "(50, 38)"
      ]
     },
     "execution_count": 4,
     "metadata": {},
     "output_type": "execute_result"
    }
   ],
   "source": [
    "cb_codes = map(lambda m: m[\"code\"], cb_metrics)\n",
    "sc_codes = map(lambda m: m[\"code\"], sc_metrics)\n",
    "len(cb_codes), len(sc_codes)"
   ]
  },
  {
   "cell_type": "code",
   "execution_count": 5,
   "metadata": {
    "collapsed": false
   },
   "outputs": [
    {
     "data": {
      "text/plain": [
       "(38, 29)"
      ]
     },
     "execution_count": 5,
     "metadata": {},
     "output_type": "execute_result"
    }
   ],
   "source": [
    "cb_cr_metrics = filter(lambda m: \"->\" in m[\"code\"], cb_metrics)\n",
    "sc_cr_metrics = filter(lambda m: \"->\" in m[\"code\"], sc_metrics)\n",
    "len(cb_cr_metrics), len(sc_cr_metrics)"
   ]
  },
  {
   "cell_type": "code",
   "execution_count": 6,
   "metadata": {
    "collapsed": true
   },
   "outputs": [],
   "source": [
    "import matplotlib\n",
    "\n",
    "import numpy as np\n",
    "import pandas as pd\n",
    "\n",
    "from math import sqrt\n",
    "SPINE_COLOR = 'gray'"
   ]
  },
  {
   "cell_type": "code",
   "execution_count": 28,
   "metadata": {
    "collapsed": false
   },
   "outputs": [],
   "source": [
    "import matplotlib as mpl\n",
    "mpl.use('pgf')\n",
    "\n",
    "def figsize(scale):\n",
    "    fig_width_pt = 469.755                          # Get this from LaTeX using \\the\\textwidth\n",
    "    inches_per_pt = 1.0/72.27                       # Convert pt to inch\n",
    "    golden_mean = (np.sqrt(5.0)-1.0)/2.0            # Aesthetic ratio (you could change this)\n",
    "    fig_width = fig_width_pt*inches_per_pt*scale    # width in inches\n",
    "    fig_height = fig_width*golden_mean              # height in inches\n",
    "    fig_size = [fig_width,fig_height]\n",
    "    return fig_size\n",
    "\n",
    "\"\"\"pgf_with_latex = {                      # setup matplotlib to use latex for output\n",
    "    \"pgf.texsystem\": \"pdflatex\",        # change this if using xetex or lautex\n",
    "    \"text.usetex\": True,                # use LaTeX to write all text\n",
    "    #\"font.family\": \"serif\",\n",
    "    #\"font.serif\": [],                   # blank entries should cause plots to inherit fonts from the document\n",
    "    #\"font.sans-serif\": [],\n",
    "    #\"font.monospace\": [],\n",
    "    #\"axes.labelsize\": 10,               # LaTeX default is 10pt font.\n",
    "    #\"text.fontsize\": 10,\n",
    "    #\"legend.fontsize\": 8,               # Make the legend/label fonts a little smaller\n",
    "    #\"xtick.labelsize\": 8,\n",
    "    #\"ytick.labelsize\": 8,\n",
    "    \"figure.figsize\": figsize(0.9),     # default fig size of 0.9 textwidth\n",
    "    #\"pgf.preamble\": [\n",
    "    #    r\"\\usepackage[utf8x]{inputenc}\",    # use utf8 fonts becasue your computer can handle it :)\n",
    "    #    r\"\\usepackage[T1]{fontenc}\",        # plots will be generated using this preamble\n",
    "    #    ]\n",
    "    }\n",
    "mpl.rcParams.update(pgf_with_latex)\n",
    "\"\"\"\n",
    "\n",
    "import matplotlib.pyplot as plt\n",
    "\n",
    "# I make my own newfig and savefig functions\n",
    "def newfig(width):\n",
    "    plt.clf()\n",
    "    fig = plt.figure(figsize=figsize(width))\n",
    "    ax = fig.add_subplot(111)\n",
    "    return fig, ax\n",
    "\n",
    "def savefig(filename):\n",
    "    #plt.savefig('{0}.pgf'.format(filename))\n",
    "    plt.savefig('{0}.png'.format(filename))"
   ]
  },
  {
   "cell_type": "code",
   "execution_count": 29,
   "metadata": {
    "collapsed": true
   },
   "outputs": [],
   "source": [
    "from matplotlib import pylab as plt\n",
    "%matplotlib inline"
   ]
  },
  {
   "cell_type": "code",
   "execution_count": 30,
   "metadata": {
    "collapsed": false
   },
   "outputs": [],
   "source": [
    "def plot_metric_vs_sentence_count(metric, title, xlabel):\n",
    "    ax2 = plt.axes([0, 0.6, 2, 1.5])\n",
    "    format_axes(ax2)\n",
    "    #plt.title(title)\n",
    "    plt.xlabel(xlabel)\n",
    "    plt.ylabel('Number of Sentences')\n",
    "\n",
    "    xs = np.asarray(map(lambda m: m[metric], cb_cr_metrics) + map(lambda m: m[metric], sc_cr_metrics))\n",
    "    ys = np.asarray(map(lambda m: m[\"sentences\"], cb_cr_metrics) + map(lambda m: m[\"sentences\"], sc_cr_metrics))\n",
    "\n",
    "    plt.xlim([0, 1.0])\n",
    "    plt.ylim([-10, max(ys) + 50])\n",
    "    ax2.scatter(xs, ys, alpha=1.0)\n",
    "\n",
    "    # determine best fit line\n",
    "    par = np.polyfit(xs, ys, 1, full=True)\n",
    "    slope=par[0][0]\n",
    "    intercept=par[0][1]\n",
    "    xl = [0.0, 1.0]\n",
    "    yl = [slope*xx + intercept for xx in xl]\n",
    "    plt.plot(xl, yl, '-r')\n",
    "\n",
    "    plt.show()\n",
    "    \n",
    "from scipy.stats.stats import pearsonr\n",
    "\n",
    "def pearson_correl(metric):\n",
    "    xs = np.asarray(map(lambda m: m[metric], cb_cr_metrics) + map(lambda m: m[metric], sc_cr_metrics))\n",
    "    ys = np.asarray(map(lambda m: m[\"sentences\"], cb_cr_metrics) + map(lambda m: m[\"sentences\"], sc_cr_metrics))\n",
    "    return pearsonr(xs,ys)"
   ]
  },
  {
   "cell_type": "code",
   "execution_count": 33,
   "metadata": {
    "collapsed": true
   },
   "outputs": [],
   "source": [
    "def save_plot_of_metric_vs_sentence_count(metric, xlabel, image_file_name):\n",
    "    fig, ax  = newfig(1.5)\n",
    "    \n",
    "    plt.xlabel(xlabel)\n",
    "    plt.ylabel('Number of Sentences')\n",
    "    \n",
    "    xs = np.asarray(map(lambda m: m[metric], cb_cr_metrics) + map(lambda m: m[metric], sc_cr_metrics))\n",
    "    ys = np.asarray(map(lambda m: m[\"sentences\"], cb_cr_metrics) + map(lambda m: m[\"sentences\"], sc_cr_metrics))\n",
    "\n",
    "    plt.xlim([0, 1.0])\n",
    "    plt.ylim([-10, max(ys) + 50])\n",
    "    ax.scatter(xs, ys, alpha=1.0)\n",
    "\n",
    "    # determine best fit line\n",
    "    par = np.polyfit(xs, ys, 1, full=True)\n",
    "    slope=par[0][0]\n",
    "    intercept=par[0][1]\n",
    "    xl = [0.0, 1.0]\n",
    "    yl = [slope*xx + intercept for xx in xl]\n",
    "    ax.plot(xl, yl, '-r')\n",
    "\n",
    "    savefig(image_file_name)"
   ]
  },
  {
   "cell_type": "code",
   "execution_count": 34,
   "metadata": {
    "collapsed": false
   },
   "outputs": [
    {
     "data": {
      "text/plain": [
       "<matplotlib.figure.Figure at 0x10aca5850>"
      ]
     },
     "metadata": {},
     "output_type": "display_data"
    },
    {
     "data": {
      "image/png": "[encoded data removed]",
      "text/plain": [
       "<matplotlib.figure.Figure at 0x10a64ca90>"
      ]
     },
     "metadata": {},
     "output_type": "display_data"
    }
   ],
   "source": [
    "save_plot_of_metric_vs_sentence_count(\"f1\", \"Weighted Mean F1 Score\", \"/Users/simon.hughes/BitBucket/Dissertation/Dissertation/images/f1_vs_frequency\")"
   ]
  },
  {
   "cell_type": "code",
   "execution_count": null,
   "metadata": {
    "collapsed": false
   },
   "outputs": [],
   "source": [
    "plot_metric_vs_sentence_count(\"f1\", \"Impact of Frequency on Causal Relation F1 Score\", 'F1 Score')"
   ]
  },
  {
   "cell_type": "code",
   "execution_count": null,
   "metadata": {
    "collapsed": false
   },
   "outputs": [],
   "source": [
    "plot_metric_vs_sentence_count(\"recall\", \"Impact of Frequency on Causal Relation Recall\", 'Recall')"
   ]
  },
  {
   "cell_type": "code",
   "execution_count": null,
   "metadata": {
    "collapsed": false
   },
   "outputs": [],
   "source": [
    "plot_metric_vs_sentence_count(\"precision\", \"Impact of Frequency on Causal Relation Precision\", 'Precision')"
   ]
  },
  {
   "cell_type": "code",
   "execution_count": 35,
   "metadata": {
    "collapsed": false
   },
   "outputs": [
    {
     "name": "stdout",
     "output_type": "stream",
     "text": [
      "f1        (0.60915032300191052, 4.5020680138573836e-08)\n",
      "recall    (0.62757604856463811, 1.3197340887091378e-08)\n",
      "precision (0.42779527535686068, 0.00030502512295745666)\n"
     ]
    }
   ],
   "source": [
    "\"\"\"\n",
    "From the docs:\n",
    "\n",
    " Returns\n",
    " -------\n",
    " (Pearson's correlation coefficient,\n",
    "  2-tailed p-value)\n",
    "\n",
    "\"\"\"\n",
    "\n",
    "print \"f1       \", pearson_correl(\"f1\")\n",
    "print \"recall   \", pearson_correl(\"recall\")\n",
    "print \"precision\", pearson_correl(\"precision\")"
   ]
  },
  {
   "cell_type": "code",
   "execution_count": 36,
   "metadata": {
    "collapsed": false
   },
   "outputs": [
    {
     "data": {
      "text/plain": [
       "67"
      ]
     },
     "execution_count": 36,
     "metadata": {},
     "output_type": "execute_result"
    }
   ],
   "source": [
    "len(cb_cr_metrics) + len(sc_cr_metrics)"
   ]
  },
  {
   "cell_type": "code",
   "execution_count": null,
   "metadata": {
    "collapsed": true
   },
   "outputs": [],
   "source": []
  }
 ],
 "metadata": {
  "kernelspec": {
   "display_name": "Python 2",
   "language": "python",
   "name": "python2"
  },
  "language_info": {
   "codemirror_mode": {
    "name": "ipython",
    "version": 2
   },
   "file_extension": ".py",
   "mimetype": "text/x-python",
   "name": "python",
   "nbconvert_exporter": "python",
   "pygments_lexer": "ipython2",
   "version": "2.7.11"
  }
 },
 "nbformat": 4,
 "nbformat_minor": 0
}
