{
 "metadata": {
  "name": "",
  "signature": "sha256:aed8ade9e877700b5f39e2b355b6b36fc9e0ebfade9bf59d0534c9fe00aa0745"
 },
 "nbformat": 3,
 "nbformat_minor": 0,
 "worksheets": [
  {
   "cells": [
    {
     "cell_type": "code",
     "collapsed": false,
     "input": [
      "from textblob import TextBlob\n",
      "import numpy as np\n",
      "from gensim import matutils\n",
      "from numpy import random\n",
      "\n",
      "from Metrics import rpf1a\n",
      "from Rpfa import rpfa, weighted_mean_rpfa\n",
      "from BrattEssay import load_bratt_essays\n",
      "from ProcessEssays import process_sentences\n",
      "from Decorators import timeit, memoize\n",
      "\n",
      "from WindowSplitter import split_into_windows\n",
      "\n",
      "from nltk import PorterStemmer\n",
      "from stanford_parser import parser\n",
      "\n",
      "import logging\n",
      "logging.basicConfig(format='%(asctime)s : %(levelname)s : %(message)s', level=logging.INFO)"
     ],
     "language": "python",
     "metadata": {},
     "outputs": [],
     "prompt_number": 1
    },
    {
     "cell_type": "code",
     "collapsed": false,
     "input": [
      "\"\"\" Settings \"\"\"\n",
      "\n",
      "MIN_SENTENCE_FREQ   = 1       #i.e. df. Note this is calculated BEFORE creating windows\n",
      "REMOVE_INFREQUENT   = False    # if false, infrequent words are replaced with \"INFREQUENT\"\n",
      "SPELLING_CORRECT    = True\n",
      "STEM                = False\n",
      "REPLACE_NUMS        = True    # 1989 -> 0000, 10 -> 00\n",
      "MIN_SENTENCE_LENGTH = 5\n",
      "REMOVE_STOP_WORDS   = False\n",
      "REMOVE_PUNCTUATION  = True "
     ],
     "language": "python",
     "metadata": {},
     "outputs": [],
     "prompt_number": 3
    },
    {
     "cell_type": "code",
     "collapsed": false,
     "input": [
      "@timeit\n",
      "def load_sentences(essays):\n",
      "    return process_sentences(essays, \n",
      "                              min_df = MIN_SENTENCE_FREQ, \n",
      "                              remove_infrequent = REMOVE_INFREQUENT,\n",
      "                              spelling_correct = SPELLING_CORRECT, \n",
      "                              replace_nums = REPLACE_NUMS, \n",
      "                              stem=STEM,\n",
      "                              remove_stop_words=REMOVE_STOP_WORDS,\n",
      "                              remove_punctuation=REMOVE_PUNCTUATION)\n",
      "# load from disk\n",
      "essays = load_bratt_essays()\n",
      "lbl_sentences = load_sentences(essays)"
     ],
     "language": "python",
     "metadata": {},
     "outputs": [
      {
       "output_type": "stream",
       "stream": "stdout",
       "text": [
        "Results Dir: /Users/simon.hughes/Google Drive/Phd/Results/\n",
        "Data Dir:    /Users/simon.hughes/Google Drive/Phd/Data/\n",
        "Root Dir:    /Users/simon.hughes/GitHub/NlpResearch/\n",
        "Public Data: /Users/simon.hughes/GitHub/NlpResearch/Data/PublicDatasets/\n",
        "297 files found\n",
        "297 essays processed"
       ]
      },
      {
       "output_type": "stream",
       "stream": "stdout",
       "text": [
        "\n",
        "timeit: load_sentences(...) took 13.53 secs"
       ]
      },
      {
       "output_type": "stream",
       "stream": "stdout",
       "text": [
        "\n"
       ]
      }
     ],
     "prompt_number": 4
    },
    {
     "cell_type": "code",
     "collapsed": false,
     "input": [
      "sentences = []\n",
      "for lbl_sentence in lbl_sentences:\n",
      "    wds, tags = zip(*lbl_sentence)\n",
      "    sentences.append(\" \".join(wds))\n",
      "print \"done\""
     ],
     "language": "python",
     "metadata": {},
     "outputs": [
      {
       "output_type": "stream",
       "stream": "stdout",
       "text": [
        "done\n"
       ]
      }
     ],
     "prompt_number": 5
    },
    {
     "cell_type": "code",
     "collapsed": false,
     "input": [
      "for sent in sentences[:10]:\n",
      "    tb = TextBlob(sent)\n",
      "    print sent\n",
      "    print \"\\t\", tb.noun_phrases"
     ],
     "language": "python",
     "metadata": {},
     "outputs": [
      {
       "output_type": "stream",
       "stream": "stdout",
       "text": [
        "the coral bleaching is a different type they are bleached and coral bleaching\n",
        "\t[u'different type']\n",
        "the bleached is plain white\n",
        "\t[]\n",
        "the coral polyps give different colors\n",
        "\t[u'coral polyps', u'different colors']\n",
        "the skeleton protects the body of polyp\n",
        "\t[u'skeleton protects']\n",
        "the process requires both carbon dioxide and release oxygen\n",
        "\t[u'carbon dioxide', u'release oxygen']\n",
        "they know about changes wind ocean currents and temperature\n",
        "\t[u'ocean currents']\n",
        "this event occurred in 0000\n",
        "\t[]\n",
        "blue color is water temperature\n",
        "\t[u'blue color', u'water temperature']\n",
        "red color is trade wind strength\n",
        "\t[u'red color']\n",
        "the fishermen worked along pacific coastal regions of south america for centuries\n",
        "\t[u'pacific coastal regions']\n"
       ]
      }
     ],
     "prompt_number": 16
    },
    {
     "cell_type": "code",
     "collapsed": false,
     "input": [
      "for sent in sentences[:10]:\n",
      "    tb = TextBlob(sent)\n",
      "    print tb.parse()\n",
      "    print \"\""
     ],
     "language": "python",
     "metadata": {},
     "outputs": [
      {
       "output_type": "stream",
       "stream": "stdout",
       "text": [
        "the/DT/O/O coral/JJ/B-ADJP/O bleaching/VBG/B-VP/O is/VBZ/I-VP/O a/DT/B-NP/O different/JJ/I-NP/O type/NN/I-NP/O they/PRP/I-NP/O are/VBP/B-VP/O bleached/JJ/B-ADJP/O and/CC/I-ADJP/O coral/JJ/I-ADJP/O bleaching/VBG/B-VP/O\n",
        "\n",
        "the/DT/O/O bleached/JJ/B-ADJP/O is/VBZ/B-VP/O plain/JJ/B-ADJP/O white/JJ/I-ADJP/O\n",
        "\n",
        "the/DT/B-NP/O coral/JJ/I-NP/O polyps/NNS/I-NP/O give/VB/B-VP/O different/JJ/B-NP/O colors/NNS/I-NP/O\n",
        "\n",
        "the/DT/B-NP/O skeleton/NN/I-NP/O protects/VBZ/B-VP/O the/DT/B-NP/O body/NN/I-NP/O of/IN/B-PP/B-PNP polyp/NN/B-NP/I-PNP\n",
        "\n",
        "the/DT/B-NP/O process/NN/I-NP/O requires/VBZ/B-VP/O both/DT/B-NP/O carbon/NN/I-NP/O dioxide/NN/I-NP/O and/CC/O/O release/NN/B-NP/O oxygen/NN/I-NP/O\n",
        "\n",
        "they/PRP/B-NP/O know/VB/B-VP/O about/IN/B-PP/B-PNP changes/NNS/B-NP/I-PNP wind/NN/I-NP/I-PNP ocean/NN/I-NP/I-PNP currents/NNS/I-NP/I-PNP and/CC/I-NP/I-PNP temperature/NN/I-NP/I-PNP\n",
        "\n",
        "this/DT/B-NP/O event/NN/I-NP/O occurred/VBD/B-VP/O in/IN/B-PP/O 0000/CD/O/O\n",
        "\n",
        "blue/JJ/B-NP/O color/NN/I-NP/O is/VBZ/B-VP/O water/NN/B-NP/O temperature/NN/I-NP/O\n",
        "\n",
        "red/JJ/B-NP/O color/NN/I-NP/O is/VBZ/B-VP/O trade/NN/B-NP/O wind/NN/I-NP/O strength/NN/I-NP/O\n",
        "\n",
        "the/DT/B-NP/O fishermen/NNS/I-NP/O worked/VBD/B-VP/O along/IN/B-PP/B-PNP pacific/JJ/B-NP/I-PNP coastal/JJ/I-NP/I-PNP regions/NNS/I-NP/I-PNP of/IN/B-PP/O south/RB/B-ADVP/O america/NN/B-NP/O for/IN/B-PP/B-PNP centuries/NNS/B-NP/I-PNP\n",
        "\n"
       ]
      }
     ],
     "prompt_number": 18
    },
    {
     "cell_type": "code",
     "collapsed": false,
     "input": [
      "from pattern.en import parsetree\n",
      "from pattern.search import Pattern\n",
      "\n",
      "t = parsetree('chuck norris is cooler than dolph lundgren.', lemmata=True)\n",
      "p = Pattern.fromstring('{NP} {VP} * * * {NP}')\n",
      "m = p.match(t)\n",
      "print m.group(1)\n",
      "print m.group(2)\n",
      "t"
     ],
     "language": "python",
     "metadata": {},
     "outputs": [
      {
       "output_type": "stream",
       "stream": "stdout",
       "text": [
        "[Word(u'chuck/NNP-PERS'), Word(u'norris/NNP-PERS')]\n",
        "[Word(u'is/VBZ')]\n"
       ]
      },
      {
       "metadata": {},
       "output_type": "pyout",
       "prompt_number": 57,
       "text": [
        "[Sentence('chuck/NNP-PERS/B-NP/O/chuck norris/NNP-PERS/I-NP/O/norris is/VBZ/B-VP/O/be cooler/JJR/B-ADJP/O/cooler than/IN/B-PP/B-PNP/than dolph/NN/B-NP/I-PNP/dolph lundgren/NNS/I-NP/I-PNP/lundgren ././O/O/.')]"
       ]
      }
     ],
     "prompt_number": 57
    },
    {
     "cell_type": "code",
     "collapsed": false,
     "input": [],
     "language": "python",
     "metadata": {},
     "outputs": []
    },
    {
     "cell_type": "code",
     "collapsed": false,
     "input": [],
     "language": "python",
     "metadata": {},
     "outputs": []
    }
   ],
   "metadata": {}
  }
 ]
}