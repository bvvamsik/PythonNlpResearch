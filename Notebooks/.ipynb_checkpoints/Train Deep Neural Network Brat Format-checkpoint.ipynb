{
 "metadata": {
  "name": "",
  "signature": "sha256:69e51ea8990248a56a5dc4b763e72752b32329b848b98269665ad1e4e8e86f06"
 },
 "nbformat": 3,
 "nbformat_minor": 0,
 "worksheets": [
  {
   "cells": [
    {
     "cell_type": "heading",
     "level": 1,
     "metadata": {},
     "source": [
      "Train a Window Based Classifer on the Coral Bleaching Data"
     ]
    },
    {
     "cell_type": "markdown",
     "metadata": {},
     "source": [
      "Setup:\n",
      "------"
     ]
    },
    {
     "cell_type": "code",
     "collapsed": false,
     "input": [
      "\"\"\" Imports \"\"\"\n",
      "from collections import defaultdict\n",
      "\n",
      "import numpy as np\n",
      "from gensim import matutils\n",
      "from numpy import random\n",
      "\n",
      "from Metrics import rpf1a\n",
      "from Rpfa import rpfa, weighted_mean_rpfa\n",
      "from BrattEssay import load_bratt_essays\n",
      "from WindowSplitter import split_into_windows\n",
      "\n",
      "from IdGenerator import IdGenerator\n",
      "from IterableFP import flatten\n",
      "\n",
      "from nltk import PorterStemmer\n",
      "from stanford_parser import parser\n",
      "\n",
      "from DeepNeuralNetwork import MLP\n",
      "from MLPLayers import ConvolutionalLayer, Layer\n",
      "from sklearn.svm import LinearSVC\n",
      "\n",
      "\"\"\" TODO \n",
      "    Try dependency parse features from this python dependency parser: https://github.com/syllog1sm/redshift\n",
      "\"\"\"\n",
      "\n",
      "\"\"\" Settings \"\"\"\n",
      "\"\"\" Start Script \"\"\"\n",
      "WINDOW_SIZE = 7\n",
      "MID_IX = int(round(WINDOW_SIZE / 2.0) - 1)\n",
      "\n",
      "MIN_SENTENCE_FREQ = 5\n",
      "PCT_VALIDATION  = 0.2\n",
      "MIN_FEAT_FREQ = 5     #15 best so far\n",
      "PCT_VALIDATION = 0.25\n",
      "\n",
      "SENTENCE_START = \"<START>\"\n",
      "SENTENCE_END   = \"<END>\"\n",
      "STEM = True"
     ],
     "language": "python",
     "metadata": {},
     "outputs": [],
     "prompt_number": 13
    },
    {
     "cell_type": "markdown",
     "metadata": {},
     "source": [
      "Load the Essays\n",
      "---------------"
     ]
    },
    {
     "cell_type": "code",
     "collapsed": true,
     "input": [
      "\"\"\" Load Essays \"\"\"\n",
      "essays = load_bratt_essays(\"/Users/simon.hughes/Google Drive/Phd/Data/CoralBleaching/BrattData/Merged/\")\n",
      "\n",
      "all_codes = set()\n",
      "all_words = []\n",
      "\n",
      "for essay in essays:\n",
      "    for sentence in essay.tagged_sentences:\n",
      "        for w, tags in sentence:\n",
      "            all_words.append(w)\n",
      "            all_codes.update(tags)\n",
      "                \n",
      "# Correct miss-spellings\n",
      "from SpellingCorrector import SpellingCorrector\n",
      "\n",
      "corrector = SpellingCorrector(all_words)\n",
      "corrections = defaultdict(int)\n",
      "for essay in essays:\n",
      "    for i, sentence in enumerate(essay.tagged_sentences):\n",
      "        for j, (w, tags) in enumerate(sentence):\n",
      "            # common error is ..n't and ..nt\n",
      "            if w.endswith(\"n't\") or w.endswith(\"n'\"):\n",
      "                cw = w[:-3] + \"nt\"\n",
      "            elif w.endswith(\"'s\"):\n",
      "                cw = w[:-2]\n",
      "            elif w == \"&\":\n",
      "                cw = \"and\"\n",
      "            else:\n",
      "                cw = corrector.correct(w)\n",
      "            if cw != w:\n",
      "                corrections[(w,cw)] += 1\n",
      "                sentence[j] = (cw, tags)            \n",
      "            \n",
      "wd_sent_freq = defaultdict(int)\n",
      "for essay in essays:\n",
      "    for sentence in essay.tagged_sentences:\n",
      "        wds, tag_list = zip(*sentence)\n",
      "        unique_wds = set(wds)\n",
      "        for w in unique_wds: \n",
      "            wd_sent_freq[w] += 1\n",
      "print \"Done\""
     ],
     "language": "python",
     "metadata": {},
     "outputs": [
      {
       "output_type": "stream",
       "stream": "stdout",
       "text": [
        "236 files found\n",
        "236 essays processed"
       ]
      },
      {
       "output_type": "stream",
       "stream": "stdout",
       "text": [
        "\n",
        "Done"
       ]
      },
      {
       "output_type": "stream",
       "stream": "stdout",
       "text": [
        "\n"
       ]
      }
     ],
     "prompt_number": 2
    },
    {
     "cell_type": "code",
     "collapsed": false,
     "input": [
      "from DictionaryHelper import *\n",
      "cor_srtd = sort_by_value(corrections, reverse = True)\n",
      "cor_srtd[0:20]"
     ],
     "language": "python",
     "metadata": {},
     "outputs": [
      {
       "metadata": {},
       "output_type": "pyout",
       "prompt_number": 3,
       "text": [
        "[((\"it's\", 'it'), 46),\n",
        " ((\"don't\", 'dont'), 30),\n",
        " ((\"that's\", 'that'), 28),\n",
        " (('algea', 'algae'), 20),\n",
        " (('zox', 'zo'), 20),\n",
        " ((\"world's\", 'world'), 17),\n",
        " ((\"can't\", 'cant'), 14),\n",
        " (('&', 'and'), 12),\n",
        " (('bleaches', 'bleached'), 12),\n",
        " (('cloral', 'coral'), 10),\n",
        " ((\"coral's\", 'coral'), 9),\n",
        " ((\"isn't\", 'isnt'), 9),\n",
        " ((\"won't\", 'wont'), 9),\n",
        " ((\"they're\", 'there'), 9),\n",
        " (('tempature', 'temperature'), 8),\n",
        " ((\"doesn't\", 'doesnt'), 8),\n",
        " (('tempeture', 'temperature'), 7),\n",
        " (('varys', 'vary'), 6),\n",
        " (('saclike', 'saline'), 6),\n",
        " ((\"there's\", 'there'), 5)]"
       ]
      }
     ],
     "prompt_number": 3
    },
    {
     "cell_type": "code",
     "collapsed": false,
     "input": [
      "\"\"\" Single char words \"\"\"\n",
      "wds = [(w,f) for w,f in wd_sent_freq.items() if len(w.strip()) == 1 and not w[0].isalpha()]\n",
      "print \"\\n\".join(map(str,sorted(wds, key = lambda (w,f): -f)))"
     ],
     "language": "python",
     "metadata": {},
     "outputs": [
      {
       "output_type": "stream",
       "stream": "stdout",
       "text": [
        "('.', 2080)\n",
        "(',', 511)\n",
        "('-', 76)\n",
        "('/', 76)\n",
        "('\"', 71)\n",
        "('?', 63)\n",
        "('3', 34)\n",
        "('(', 29)\n",
        "(')', 28)\n",
        "('%', 26)\n",
        "('\\xc2', 24)\n",
        "('\\xb0', 24)\n",
        "('1', 16)\n",
        "('\\\\', 16)\n",
        "('5', 13)\n",
        "('\\x80', 11)\n",
        "('\\xe2', 11)\n",
        "(';', 10)\n",
        "('+', 6)\n",
        "('2', 6)\n",
        "(\"'\", 6)\n",
        "('\\x93', 6)\n",
        "('\\x99', 5)\n",
        "('0', 4)\n",
        "('!', 4)\n",
        "(':', 4)\n",
        "('9', 2)\n",
        "('=', 2)\n",
        "('6', 1)\n",
        "('7', 1)\n",
        "('8', 1)\n"
       ]
      }
     ],
     "prompt_number": 4
    },
    {
     "cell_type": "markdown",
     "metadata": {},
     "source": [
      "Create Windows\n",
      "--------------"
     ]
    },
    {
     "cell_type": "code",
     "collapsed": false,
     "input": [
      "\"\"\" Creating Windows \"\"\"\n",
      "def filter2min_word_freq(sentence):\n",
      "    return filter(lambda (w, tags4word): wd_sent_freq[w] >= MIN_SENTENCE_FREQ, sentence)\n",
      "\n",
      "VALID_CHARS = {\".\", \"?\", \"!\", \"=\", \"/\", \":\", \";\", \"&\", \"+\",  \"-\", \"=\",  \"%\", \"'\", \",\", \"\\\\\", \"(\", \")\", \"\\\"\"}\n",
      "\"\"\" Remove bad chars (see above - e.g. '\\x93') \"\"\"\n",
      "removed = set()\n",
      "def valid_wd(wd):\n",
      "    wd = wd.strip()\n",
      "    if len(wd) != 1:\n",
      "        return True\n",
      "    if wd in removed:\n",
      "        return False\n",
      "    if wd.isalpha() or wd.isdigit() or wd in VALID_CHARS:\n",
      "        return True\n",
      "    removed.add(wd)\n",
      "    return False\n",
      "    \n",
      "def filterout_punctuation(sentence):\n",
      "    return filter(lambda (w, tags4word): valid_wd(w), sentence)\n",
      "\n",
      "def bookend(sentence):\n",
      "    for i in range(MID_IX):\n",
      "        modified_sentence.insert(0, (SENTENCE_START,    set()))\n",
      "        modified_sentence.append(   (SENTENCE_END,      set()))\n",
      "\n",
      "def assert_windows_correct(windows):\n",
      "    lens = map(len, windows)\n",
      "    assert min(lens) == max(lens) == WINDOW_SIZE, \\\n",
      "            \"Windows are not all the correct size\"\n",
      "   \n",
      "ix2windows = {}\n",
      "ix2sents = {}\n",
      "sentences = []\n",
      "tokenized_sentences = []\n",
      "\n",
      "i = 0\n",
      "for essay in essays:\n",
      "    for sentence in essay.tagged_sentences:\n",
      "        \n",
      "        modified_sentence = filter2min_word_freq(sentence)\n",
      "        modified_sentence = filterout_punctuation(modified_sentence)\n",
      "        if len(modified_sentence) == 0:\n",
      "            continue\n",
      "        \n",
      "        bookend(modified_sentence)        \n",
      "        new_windows = split_into_windows(modified_sentence, window_size=WINDOW_SIZE)        \n",
      "        assert_windows_correct(new_windows)       \n",
      "        \n",
      "        # tagged words\n",
      "        sentences.append(sentence)\n",
      "        # words only\n",
      "        tokenized_sentences.append(zip(*sentence)[0])\n",
      "        \n",
      "        ix2windows[i] = new_windows\n",
      "        ix2sents[i] = modified_sentence\n",
      "        i += 1\n",
      "        \n",
      "\"\"\" Assert tags set correctly \"\"\"\n",
      "print \"Windows loaded correctly!\\n\""
     ],
     "language": "python",
     "metadata": {},
     "outputs": [
      {
       "output_type": "stream",
       "stream": "stdout",
       "text": [
        "Windows loaded correctly!\n",
        "\n"
       ]
      }
     ],
     "prompt_number": 5
    },
    {
     "cell_type": "code",
     "collapsed": false,
     "input": [
      "#ix2windows[0][0]\n",
      "ix2sents[0]"
     ],
     "language": "python",
     "metadata": {},
     "outputs": [
      {
       "metadata": {},
       "output_type": "pyout",
       "prompt_number": 6,
       "text": [
        "[('<START>', set()),\n",
        " ('<START>', set()),\n",
        " ('<START>', set()),\n",
        " ('the', set()),\n",
        " ('coral', {'50'}),\n",
        " ('bleaching', {'50'}),\n",
        " ('is', set()),\n",
        " ('a', set()),\n",
        " ('different', set()),\n",
        " ('type', set()),\n",
        " ('they', set()),\n",
        " ('are', set()),\n",
        " ('bleached', set()),\n",
        " ('and', set()),\n",
        " ('coral', {'50'}),\n",
        " ('bleaching', {'50'}),\n",
        " ('.', set()),\n",
        " ('<END>', set()),\n",
        " ('<END>', set()),\n",
        " ('<END>', set())]"
       ]
      }
     ],
     "prompt_number": 6
    },
    {
     "cell_type": "markdown",
     "metadata": {},
     "source": [
      "Removed Characters\n",
      "------------------"
     ]
    },
    {
     "cell_type": "code",
     "collapsed": false,
     "input": [
      "print \"\\n\".join(sorted(removed))"
     ],
     "language": "python",
     "metadata": {},
     "outputs": [
      {
       "output_type": "stream",
       "stream": "stdout",
       "text": [
        "\ufffd\n",
        "\ufffd\n",
        "\ufffd\n",
        "\ufffd\n",
        "\ufffd\n",
        "\ufffd\n"
       ]
      }
     ],
     "prompt_number": 7
    },
    {
     "cell_type": "markdown",
     "metadata": {},
     "source": [
      "Map Words to One Hot Vectors\n",
      "----------------------------"
     ]
    },
    {
     "cell_type": "code",
     "collapsed": false,
     "input": [
      "from IdGenerator import IdGenerator as IdGen\n",
      "from Decorators import memoize\n",
      "\n",
      "wdgenerator = IdGen()\n",
      "\"\"\" Get all unique words remaining \"\"\"\n",
      "unique_words = set()\n",
      "unique_labels = set()\n",
      "stemmer = PorterStemmer()\n",
      "\n",
      "@memoize\n",
      "def stem(word):\n",
      "    return stemmer.stem(word)\n",
      "\n",
      "for i, sentence in ix2sents.items():\n",
      "    for wd, lbls in sentence:\n",
      "        if STEM:\n",
      "            wd = stem(wd)\n",
      "        unique_wds.add(wd)\n",
      "        for lbl in lbls:\n",
      "            unique_labels.add(lbl)\n",
      "\n",
      "\"\"\" map to vector form \"\"\"\n",
      "wd2vector = {}\n",
      "vec_len = len(unique_wds)\n",
      "for wd in unique_wds:\n",
      "    wid = wdgenerator.get_id(wd)\n",
      "    vector = np.zeros(vec_len)\n",
      "    vector[wid] = 1\n",
      "    wd2vector[wd] = vector\n",
      "    \n",
      "print \"Unique Words:\", len(unique_wds), \"Unique Labels:\", len(unique_labels)\n",
      "# min_freq (5), no stem, words = 627\n",
      "# min_freq (5), stem,    words = 515"
     ],
     "language": "python",
     "metadata": {},
     "outputs": [
      {
       "output_type": "stream",
       "stream": "stdout",
       "text": [
        "Unique Words: 515 Unique Labels: 20\n"
       ]
      }
     ],
     "prompt_number": 9
    },
    {
     "cell_type": "code",
     "collapsed": false,
     "input": [
      "#lblgenerator = IdGen()\n",
      "def window2vector(window, code):\n",
      "    xs = []\n",
      "    for wd, lbls in window:\n",
      "        if STEM:\n",
      "            wd = stem(wd)\n",
      "        xs.append(wd2vector[wd])\n",
      "    \n",
      "    np_xs = np.hstack(xs)\n",
      "    lbls = window[MID_IX][1]\n",
      "    if code in lbls:\n",
      "        ys =  [1]\n",
      "    else:\n",
      "        ys =  [-1]\n",
      "    return ((np_xs * 2) -1, ys)"
     ],
     "language": "python",
     "metadata": {},
     "outputs": [],
     "prompt_number": 10
    },
    {
     "cell_type": "code",
     "collapsed": false,
     "input": [
      "xs, ys = [], []\n",
      "code = \"50\"\n",
      "for i, windows in ix2windows.items():\n",
      "    for window in windows:\n",
      "        x, y = window2vector(window, code)\n",
      "        xs.append(x)\n",
      "        ys.append(y)"
     ],
     "language": "python",
     "metadata": {},
     "outputs": [],
     "prompt_number": 11
    },
    {
     "cell_type": "code",
     "collapsed": false,
     "input": [
      "VECTOR_SIZE = 50\n",
      "TD = int(len(xs) * 0.65)\n",
      "\n",
      "hidden_in  = VECTOR_SIZE * WINDOW_SIZE \n",
      "#hidden_out = (hidden_in + len(ys[0])) / 2\n",
      "hidden_out = 10\n",
      "\n",
      "sup_layers = [\n",
      "        #Single Layer\n",
      "        #Layer(             len(xs[0]),  1,  activation_fn = \"tanh\", momentum=0.5),        \n",
      "\n",
      "        ConvolutionalLayer(len(xs[0]),  hidden_in,  activation_fn = \"tanh\", momentum=0.5, convolutions=WINDOW_SIZE),\n",
      "        Layer(             hidden_in,   len(ys[0]), activation_fn = \"tanh\", momentum=0.5),  \n",
      "        \n",
      "        #Layer(             hidden_out,  len(ys[0]), activation_fn = \"tanh\", momentum=0.5),  \n",
      "        #Layer(             10,              10, activation_fn = \"tanh\", momentum=0.5),\n",
      "        #Layer(             10,      len(ys[0]), activation_fn = \"tanh\", momentum=0.5),\n",
      "    ]\n",
      "\n",
      "# With low freq classes and convolutional layers, use a batch_size == 1 and NO momentum in that layer\n",
      "nn_sup = MLP(sup_layers, learning_rate=0.004, weight_decay=0.0, epochs=100, batch_size=1,\n",
      "             lr_increase_multiplier=1.1, lr_decrease_multiplier=0.4)\n",
      "\n",
      "nn_sup.fit(xs[:TD], ys[:TD], epochs=1000)"
     ],
     "language": "python",
     "metadata": {},
     "outputs": [
      {
       "output_type": "stream",
       "stream": "stdout",
       "text": [
        "MSE for epoch 0 is 0.06641415 \tMAE for epoch 0 is 0.05503191 \tlearning rate is 0.00414998793616\n",
        "MSE for epoch 1 is 0.06500887"
       ]
      },
      {
       "output_type": "stream",
       "stream": "stdout",
       "text": [
        " \tMAE for epoch 1 is 0.05337595 \tlearning rate is 0.00165999517446\n",
        "MSE for epoch 2 is 0.06440087"
       ]
      },
      {
       "output_type": "stream",
       "stream": "stdout",
       "text": [
        " \tMAE for epoch 2 is 0.05433316 \tlearning rate is 0.00182599469191\n",
        "MSE for epoch 3 is 0.0632272"
       ]
      },
      {
       "output_type": "stream",
       "stream": "stdout",
       "text": [
        " \tMAE for epoch 3 is 0.05350505 \tlearning rate is 0.000730397876764\n",
        "MSE for epoch 4 is 0.06293379"
       ]
      },
      {
       "output_type": "stream",
       "stream": "stdout",
       "text": [
        " \tMAE for epoch 4 is 0.0541512 \tlearning rate is 0.000803437664441\n",
        "MSE for epoch 5 is 0.06274628"
       ]
      },
      {
       "output_type": "stream",
       "stream": "stdout",
       "text": [
        " \tMAE for epoch 5 is 0.0527953 \tlearning rate is 0.000321375065776\n",
        "MSE for epoch 6 is 0.06248784"
       ]
      },
      {
       "output_type": "stream",
       "stream": "stdout",
       "text": [
        " \tMAE for epoch 6 is 0.05514938 \tlearning rate is 0.000353512572354\n",
        "MSE for epoch 7 is 0.06236668"
       ]
      },
      {
       "output_type": "stream",
       "stream": "stdout",
       "text": [
        " \tMAE for epoch 7 is 0.05496729 \tlearning rate is 0.000141405028942\n",
        "MSE for epoch 8 is 0.06222557"
       ]
      },
      {
       "output_type": "stream",
       "stream": "stdout",
       "text": [
        " \tMAE for epoch 8 is 0.05438282 \tlearning rate is 0.000155545531836\n",
        "MSE for epoch 9 is 0.06218211"
       ]
      },
      {
       "output_type": "stream",
       "stream": "stdout",
       "text": [
        " \tMAE for epoch 9 is 0.0543914 \tlearning rate is 0.000171100085019\n",
        "MSE for epoch 10 is 0.06203351"
       ]
      },
      {
       "output_type": "stream",
       "stream": "stdout",
       "text": [
        " \tMAE for epoch 10 is 0.05399482 \tlearning rate is 6.84400340077e-05\n",
        "MSE for epoch 11 is 0.06204404"
       ]
      },
      {
       "output_type": "stream",
       "stream": "stdout",
       "text": [
        " \tMAE for epoch 11 is 0.05371349 \tlearning rate is 7.52840374085e-05\n",
        "MSE for epoch 12 is 0.06202869"
       ]
      },
      {
       "output_type": "stream",
       "stream": "stdout",
       "text": [
        " \tMAE for epoch 12 is 0.0539866 \tlearning rate is 8.28124411493e-05\n",
        "MSE for epoch 13 is 0.06195457"
       ]
      },
      {
       "output_type": "stream",
       "stream": "stdout",
       "text": [
        " \tMAE for epoch 13 is 0.05402589 \tlearning rate is 3.31249764597e-05\n",
        "MSE for epoch 14 is 0.06192596"
       ]
      },
      {
       "output_type": "stream",
       "stream": "stdout",
       "text": [
        " \tMAE for epoch 14 is 0.05420891 \tlearning rate is 1.32499905839e-05\n",
        "MSE for epoch 15 is 0.06191422"
       ]
      },
      {
       "output_type": "stream",
       "stream": "stdout",
       "text": [
        " \tMAE for epoch 15 is 0.05432346 \tlearning rate is 5.29999623356e-06\n",
        "MSE for epoch 16 is 0.06190966"
       ]
      },
      {
       "output_type": "stream",
       "stream": "stdout",
       "text": [
        " \tMAE for epoch 16 is 0.0543295 \tlearning rate is 2.11999849342e-06\n",
        "MSE for epoch 17 is 0.0619081"
       ]
      },
      {
       "output_type": "stream",
       "stream": "stdout",
       "text": [
        " \tMAE for epoch 17 is 0.0543365 \tlearning rate is 8.47999397369e-07\n",
        "MSE for epoch 18 is 0.06190744"
       ]
      },
      {
       "output_type": "stream",
       "stream": "stdout",
       "text": [
        " \tMAE for epoch 18 is 0.05434878 \tlearning rate is 3.39199758948e-07\n",
        "MSE for epoch 19 is 0.06190717"
       ]
      },
      {
       "output_type": "stream",
       "stream": "stdout",
       "text": [
        " \tMAE for epoch 19 is 0.05435046 \tlearning rate is 1.35679903579e-07\n",
        "MSE for epoch 20 is 0.06190706"
       ]
      },
      {
       "output_type": "stream",
       "stream": "stdout",
       "text": [
        " \tMAE for epoch 20 is 0.05434924 \tlearning rate is 5.42719614316e-08\n",
        "MSE for epoch 21 is 0.061907"
       ]
      },
      {
       "output_type": "stream",
       "stream": "stdout",
       "text": [
        " \tMAE for epoch 21 is 0.05434711 \tlearning rate is 5.96991575748e-08\n",
        "MSE for epoch 22 is 0.06190694"
       ]
      },
      {
       "output_type": "stream",
       "stream": "stdout",
       "text": [
        " \tMAE for epoch 22 is 0.05434701 \tlearning rate is 6.56690733323e-08\n",
        "MSE for epoch 23 is 0.06190686"
       ]
      },
      {
       "output_type": "stream",
       "stream": "stdout",
       "text": [
        " \tMAE for epoch 23 is 0.05434632 \tlearning rate is 7.22359806655e-08\n",
        "MSE for epoch 24 is 0.06190678"
       ]
      },
      {
       "output_type": "stream",
       "stream": "stdout",
       "text": [
        " \tMAE for epoch 24 is 0.05434516 \tlearning rate is 7.9459578732e-08\n",
        "MSE for epoch 25 is 0.0619067"
       ]
      },
      {
       "output_type": "stream",
       "stream": "stdout",
       "text": [
        " \tMAE for epoch 25 is 0.05434087 \tlearning rate is 8.74055366052e-08\n",
        "MSE for epoch 26 is 0.0619066"
       ]
      },
      {
       "output_type": "stream",
       "stream": "stdout",
       "text": [
        " \tMAE for epoch 26 is 0.05434041 \tlearning rate is 9.61460902658e-08\n",
        "MSE for epoch 27 is 0.06190649"
       ]
      },
      {
       "output_type": "stream",
       "stream": "stdout",
       "text": [
        " \tMAE for epoch 27 is 0.05434012 \tlearning rate is 1.05760699292e-07\n",
        "MSE for epoch 28 is 0.06190638"
       ]
      },
      {
       "output_type": "stream",
       "stream": "stdout",
       "text": [
        " \tMAE for epoch 28 is 0.05433845 \tlearning rate is 1.16336769222e-07\n",
        "MSE for epoch 29 is 0.06190625"
       ]
      },
      {
       "output_type": "stream",
       "stream": "stdout",
       "text": [
        " \tMAE for epoch 29 is 0.05433397 \tlearning rate is 1.27970446144e-07\n",
        "MSE for epoch 30 is 0.06190612"
       ]
      },
      {
       "output_type": "stream",
       "stream": "stdout",
       "text": [
        " \tMAE for epoch 30 is 0.05433253 \tlearning rate is 1.40767490758e-07\n",
        "MSE for epoch 31 is 0.06190597"
       ]
      },
      {
       "output_type": "stream",
       "stream": "stdout",
       "text": [
        " \tMAE for epoch 31 is 0.05432972 \tlearning rate is 1.54844239834e-07\n",
        "MSE for epoch 32 is 0.0619058"
       ]
      },
      {
       "output_type": "stream",
       "stream": "stdout",
       "text": [
        " \tMAE for epoch 32 is 0.05432981 \tlearning rate is 1.70328663817e-07\n",
        "MSE for epoch 33 is 0.06190567"
       ]
      },
      {
       "output_type": "stream",
       "stream": "stdout",
       "text": [
        " \tMAE for epoch 33 is 0.05432964 \tlearning rate is 6.81314655269e-08\n"
       ]
      },
      {
       "ename": "KeyboardInterrupt",
       "evalue": "",
       "output_type": "pyerr",
       "traceback": [
        "\u001b[0;31m---------------------------------------------------------------------------\u001b[0m\n\u001b[0;31mKeyboardInterrupt\u001b[0m                         Traceback (most recent call last)",
        "\u001b[0;32m<ipython-input-28-bfb96b41b2d9>\u001b[0m in \u001b[0;36m<module>\u001b[0;34m()\u001b[0m\n\u001b[1;32m     22\u001b[0m \u001b[0;31m#             lr_increase_multiplier=1.1, lr_decrease_multiplier=0.4)\u001b[0m\u001b[0;34m\u001b[0m\u001b[0;34m\u001b[0m\u001b[0m\n\u001b[1;32m     23\u001b[0m \u001b[0;34m\u001b[0m\u001b[0m\n\u001b[0;32m---> 24\u001b[0;31m \u001b[0mnn_sup\u001b[0m\u001b[0;34m.\u001b[0m\u001b[0mfit\u001b[0m\u001b[0;34m(\u001b[0m\u001b[0mxs\u001b[0m\u001b[0;34m[\u001b[0m\u001b[0;34m:\u001b[0m\u001b[0mTD\u001b[0m\u001b[0;34m]\u001b[0m\u001b[0;34m,\u001b[0m \u001b[0mys\u001b[0m\u001b[0;34m[\u001b[0m\u001b[0;34m:\u001b[0m\u001b[0mTD\u001b[0m\u001b[0;34m]\u001b[0m\u001b[0;34m,\u001b[0m \u001b[0mepochs\u001b[0m\u001b[0;34m=\u001b[0m\u001b[0;36m1000\u001b[0m\u001b[0;34m)\u001b[0m\u001b[0;34m\u001b[0m\u001b[0m\n\u001b[0m",
        "\u001b[0;32m/Users/simon.hughes/GitHub/NlpResearch/DeepLearning/MyCode/DeepNeuralNetwork.py\u001b[0m in \u001b[0;36mfit\u001b[0;34m(self, xs, ys, min_error, epochs, batch_size)\u001b[0m\n\u001b[1;32m    114\u001b[0m \u001b[0;34m\u001b[0m\u001b[0m\n\u001b[1;32m    115\u001b[0m                 mini_batch_errors, gradients = self.__compute_gradient__(mini_batch_in, mini_batch_out,\n\u001b[0;32m--> 116\u001b[0;31m                                                                          self.layers, self.learning_rate)\n\u001b[0m\u001b[1;32m    117\u001b[0m                 \u001b[0;32mif\u001b[0m \u001b[0mnp\u001b[0m\u001b[0;34m.\u001b[0m\u001b[0many\u001b[0m\u001b[0;34m(\u001b[0m\u001b[0mnp\u001b[0m\u001b[0;34m.\u001b[0m\u001b[0misnan\u001b[0m\u001b[0;34m(\u001b[0m\u001b[0mmini_batch_errors\u001b[0m\u001b[0;34m)\u001b[0m\u001b[0;34m)\u001b[0m\u001b[0;34m:\u001b[0m\u001b[0;34m\u001b[0m\u001b[0m\n\u001b[1;32m    118\u001b[0m                     \u001b[0;32mprint\u001b[0m \u001b[0;34m\"Nans in errors. Stopping\"\u001b[0m\u001b[0;34m\u001b[0m\u001b[0m\n",
        "\u001b[0;32m/Users/simon.hughes/GitHub/NlpResearch/DeepLearning/MyCode/DeepNeuralNetwork.py\u001b[0m in \u001b[0;36m__compute_gradient__\u001b[0;34m(self, input_vectors, outputs, layers, learning_rate, input_masks)\u001b[0m\n\u001b[1;32m    186\u001b[0m         \u001b[0mgradients\u001b[0m \u001b[0;34m=\u001b[0m \u001b[0;34m[\u001b[0m\u001b[0;34m]\u001b[0m\u001b[0;34m\u001b[0m\u001b[0m\n\u001b[1;32m    187\u001b[0m         \u001b[0;32mfor\u001b[0m \u001b[0mi\u001b[0m \u001b[0;32min\u001b[0m \u001b[0mrange\u001b[0m\u001b[0;34m(\u001b[0m\u001b[0mlen\u001b[0m\u001b[0;34m(\u001b[0m\u001b[0mlayers\u001b[0m\u001b[0;34m)\u001b[0m\u001b[0;34m)\u001b[0m\u001b[0;34m:\u001b[0m\u001b[0;34m\u001b[0m\u001b[0m\n\u001b[0;32m--> 188\u001b[0;31m             \u001b[0mwtdelta\u001b[0m\u001b[0;34m,\u001b[0m \u001b[0mbiasdelta\u001b[0m \u001b[0;34m=\u001b[0m \u001b[0mlayers\u001b[0m\u001b[0;34m[\u001b[0m\u001b[0mi\u001b[0m\u001b[0;34m]\u001b[0m\u001b[0;34m.\u001b[0m\u001b[0mgradients\u001b[0m\u001b[0;34m(\u001b[0m\u001b[0mdeltas\u001b[0m\u001b[0;34m[\u001b[0m\u001b[0mi\u001b[0m\u001b[0;34m]\u001b[0m\u001b[0;34m,\u001b[0m \u001b[0mlayer_inputs\u001b[0m\u001b[0;34m[\u001b[0m\u001b[0mi\u001b[0m\u001b[0;34m]\u001b[0m\u001b[0;34m)\u001b[0m\u001b[0;34m\u001b[0m\u001b[0m\n\u001b[0m\u001b[1;32m    189\u001b[0m             \u001b[0mgradients\u001b[0m\u001b[0;34m.\u001b[0m\u001b[0mappend\u001b[0m\u001b[0;34m(\u001b[0m \u001b[0;34m(\u001b[0m\u001b[0mlearning_rate\u001b[0m \u001b[0;34m*\u001b[0m \u001b[0mwtdelta\u001b[0m\u001b[0;34m,\u001b[0m \u001b[0mlearning_rate\u001b[0m \u001b[0;34m*\u001b[0m \u001b[0mbiasdelta\u001b[0m\u001b[0;34m)\u001b[0m \u001b[0;34m)\u001b[0m\u001b[0;34m\u001b[0m\u001b[0m\n\u001b[1;32m    190\u001b[0m         \u001b[0;34m\"\"\" return a list of errors (one item per row in mini batch) \"\"\"\u001b[0m\u001b[0;34m\u001b[0m\u001b[0m\n",
        "\u001b[0;32m/Users/simon.hughes/GitHub/NlpResearch/DeepLearning/MyCode/MLPLayers.pyc\u001b[0m in \u001b[0;36mgradients\u001b[0;34m(self, delta, inputs)\u001b[0m\n\u001b[1;32m    225\u001b[0m             \u001b[0mcon_delta\u001b[0m \u001b[0;34m=\u001b[0m \u001b[0mdelta\u001b[0m\u001b[0;34m[\u001b[0m\u001b[0mc\u001b[0m \u001b[0;34m*\u001b[0m \u001b[0min_rows\u001b[0m\u001b[0;34m:\u001b[0m \u001b[0;34m(\u001b[0m\u001b[0mc\u001b[0m\u001b[0;34m+\u001b[0m\u001b[0;36m1\u001b[0m\u001b[0;34m)\u001b[0m \u001b[0;34m*\u001b[0m \u001b[0min_rows\u001b[0m\u001b[0;34m,\u001b[0m\u001b[0;34m:\u001b[0m\u001b[0;34m]\u001b[0m\u001b[0;34m\u001b[0m\u001b[0m\n\u001b[1;32m    226\u001b[0m \u001b[0;34m\u001b[0m\u001b[0m\n\u001b[0;32m--> 227\u001b[0;31m             \u001b[0mwtg\u001b[0m \u001b[0;34m=\u001b[0m \u001b[0;34m(\u001b[0m\u001b[0mnp\u001b[0m\u001b[0;34m.\u001b[0m\u001b[0mdot\u001b[0m\u001b[0;34m(\u001b[0m\u001b[0mcon_delta\u001b[0m\u001b[0;34m,\u001b[0m \u001b[0mcon_inputs_T\u001b[0m\u001b[0;34m)\u001b[0m \u001b[0;34m/\u001b[0m \u001b[0mfrows\u001b[0m\u001b[0;34m)\u001b[0m\u001b[0;34m\u001b[0m\u001b[0m\n\u001b[0m\u001b[1;32m    228\u001b[0m             \u001b[0mbg\u001b[0m \u001b[0;34m=\u001b[0m \u001b[0mfull_bias\u001b[0m\u001b[0;34m[\u001b[0m\u001b[0mc\u001b[0m \u001b[0;34m*\u001b[0m \u001b[0min_rows\u001b[0m\u001b[0;34m:\u001b[0m \u001b[0;34m(\u001b[0m\u001b[0mc\u001b[0m\u001b[0;34m+\u001b[0m\u001b[0;36m1\u001b[0m\u001b[0;34m)\u001b[0m \u001b[0;34m*\u001b[0m \u001b[0min_rows\u001b[0m\u001b[0;34m,\u001b[0m\u001b[0;34m:\u001b[0m\u001b[0;34m]\u001b[0m\u001b[0;34m\u001b[0m\u001b[0m\n\u001b[1;32m    229\u001b[0m \u001b[0;34m\u001b[0m\u001b[0m\n",
        "\u001b[0;31mKeyboardInterrupt\u001b[0m: "
       ]
      }
     ],
     "prompt_number": 28
    },
    {
     "cell_type": "markdown",
     "metadata": {},
     "source": [
      "Cross Validation Score\n",
      "----------------------"
     ]
    },
    {
     "cell_type": "code",
     "collapsed": false,
     "input": [
      "from Metrics import rpf1a\n",
      "from ResultsHelper import rfp\n",
      "\n",
      "def mae(ys, pr):\n",
      "    errors = []\n",
      "    for i,y in enumerate(ys):\n",
      "        errors.append(abs(y - pr[i]))\n",
      "    return np.mean(errors)\n",
      "\n",
      "def evaluate_nn(nn, xs, ys):\n",
      "    pred = nn.predict(xs)\n",
      "    m_ys = map(lambda arr: float(arr[0]), ys)\n",
      "    min_y = min(m_ys)\n",
      "    cls_pred = map(lambda arr: 1 if arr[0] >= 0.0 else min_y, pred)\n",
      "    print \"MAE:\", mae(m_ys, pred), \"MAE Constant:\", mae(m_ys, np.zeros((len(ys),1)) + min_y)\n",
      "    print \"\"\n",
      "    print rfp(m_ys, cls_pred)\n",
      "\n",
      "def print_prediction_distribution(nn, xs):\n",
      "    pred = nn.predict(xs)\n",
      "    d = defaultdict(int)\n",
      "    for p in pred:\n",
      "        d[round(p[0], 1)] += 1\n",
      "    print \"\\n\".join(map(str,sorted(d.items())))"
     ],
     "language": "python",
     "metadata": {},
     "outputs": [],
     "prompt_number": 26
    },
    {
     "cell_type": "code",
     "collapsed": false,
     "input": [
      "print \"Supervised only: Training Accuracy\"\n",
      "evaluate_nn(nn_sup, xs[:TD], ys[:TD])\n",
      "\n",
      "print \"Supervised only: Validation Accuracy\"\n",
      "evaluate_nn(nn_sup, xs[TD:], ys[TD:])"
     ],
     "language": "python",
     "metadata": {},
     "outputs": [
      {
       "output_type": "stream",
       "stream": "stdout",
       "text": [
        "Supervised only: Training Accuracy\n",
        "MAE:"
       ]
      },
      {
       "output_type": "stream",
       "stream": "stdout",
       "text": [
        " 0.054327520929 MAE Constant: "
       ]
      },
      {
       "output_type": "stream",
       "stream": "stdout",
       "text": [
        "0.127873497555\n",
        "\n",
        "Number of records           : 21881\n",
        "Number of records for class : 1399\n",
        "Proportion                  : 0.0639367487775\n",
        "\n",
        "Recall                     : 0.788420300214\n",
        "Precision                  : 0.935538592027\n",
        "F1 score                   : 0.855702094647\n",
        "ACCURACY:                  : 98.299894886%\n",
        "\n",
        "\n",
        "Supervised only: Validation Accuracy\n",
        "MAE:"
       ]
      },
      {
       "output_type": "stream",
       "stream": "stdout",
       "text": [
        " 0.0478118322017 MAE Constant: 0.121531019265\n",
        "\n",
        "Number of records           : 11783\n",
        "Number of records for class : 716\n",
        "Proportion                  : 0.0607655096325\n",
        "\n",
        "Recall                     : 0.805865921788\n",
        "Precision                  : 0.936688311688\n",
        "F1 score                   : 0.866366366366\n",
        "ACCURACY:                  : 98.4893490622%\n",
        "\n",
        "\n"
       ]
      }
     ],
     "prompt_number": 29
    },
    {
     "cell_type": "code",
     "collapsed": false,
     "input": [
      "print_prediction_distribution(nn_sup, xs)"
     ],
     "language": "python",
     "metadata": {},
     "outputs": [
      {
       "output_type": "stream",
       "stream": "stdout",
       "text": [
        "(-1.0, 27033)\n",
        "(-0.9, 2285)\n",
        "(-0.8, 506)\n",
        "(-0.7, 218)\n",
        "(-0.6, 125)\n",
        "(-0.5, 69)\n",
        "(-0.4, 45)\n",
        "(-0.3, 50)\n",
        "(-0.2, 46)\n",
        "(-0.1, 38)\n",
        "(-0.0, 24)\n",
        "(0.1, 44)\n",
        "(0.2, 36)\n",
        "(0.3, 45)\n",
        "(0.4, 55)\n",
        "(0.5, 62)\n",
        "(0.6, 77)\n",
        "(0.7, 102)\n",
        "(0.8, 225)\n",
        "(0.9, 767)\n",
        "(1.0, 409)\n"
       ]
      }
     ],
     "prompt_number": 386
    },
    {
     "cell_type": "markdown",
     "metadata": {},
     "source": [
      "Train a Multi Class Classifier\n",
      "------------------------------"
     ]
    },
    {
     "cell_type": "code",
     "collapsed": false,
     "input": [
      "lblgenerator = IdGen()\n",
      "# for multi class classification\n",
      "def window2multiclassvector(window):\n",
      "    xs = []\n",
      "    for wd, lbls in window:\n",
      "        if STEM:\n",
      "            wd = stem(wd)\n",
      "        xs.append(wd2vector[wd])\n",
      "    \n",
      "    np_xs = np.hstack(xs)\n",
      "    lbls = window[MID_IX][1]\n",
      "    y = np.zeros((len(unique_labels)))\n",
      "    for lbl in lbls:\n",
      "        lblid = lblgenerator.get_id(lbl)\n",
      "        y[lblid] = 1\n",
      "    return ((np_xs * 2) -1, (y * 2) -1)"
     ],
     "language": "python",
     "metadata": {},
     "outputs": [],
     "prompt_number": 56
    },
    {
     "cell_type": "code",
     "collapsed": false,
     "input": [
      "xs, mcys = [], []\n",
      "for i, windows in ix2windows.items():\n",
      "    for window in windows:\n",
      "        x, y = window2multiclassvector(window)\n",
      "        xs.append(x)\n",
      "        mcys.append(y)\n",
      "\n",
      "xs   = np.asarray(xs)\n",
      "mcys = np.asarray(mcys)"
     ],
     "language": "python",
     "metadata": {},
     "outputs": [],
     "prompt_number": 57
    },
    {
     "cell_type": "code",
     "collapsed": false,
     "input": [
      "VECTOR_SIZE = 10\n",
      "TD = int(len(xs) * 0.80)\n",
      "\n",
      "hidden_in  = VECTOR_SIZE * WINDOW_SIZE \n",
      "#hidden_out = (hidden_in + len(ys[0])) / 2\n",
      "\n",
      "mclass_layers = [\n",
      "        #Relu is better\n",
      "        ConvolutionalLayer(len(xs[0]),  hidden_in,    activation_fn = \"tanh\", momentum=0.5, convolutions=WINDOW_SIZE),\n",
      "        Layer(             hidden_in,   len(mcys[0]), activation_fn = \"tanh\", momentum=0.5)  \n",
      "]\n",
      "\n",
      "# With low freq classes and convolutional layers, use a batch_size == 1 and NO momentum in that layer\n",
      "nn_mclass = MLP(mclass_layers, learning_rate=0.01, weight_decay=0.0, epochs=100, batch_size=1,\n",
      "                   lr_increase_multiplier=1.2, lr_decrease_multiplier=0.4)\n",
      "\n",
      "nn_mclass.fit(xs[:TD], mcys[:TD], epochs=1000)"
     ],
     "language": "python",
     "metadata": {},
     "outputs": [
      {
       "output_type": "stream",
       "stream": "stdout",
       "text": [
        "MSE for epoch 0 is 0.06999478 \tMAE for epoch 0 is 0.06698621 \tlearning rate is 0.01\n",
        "MSE for epoch 1 is 0.06857919"
       ]
      },
      {
       "output_type": "stream",
       "stream": "stdout",
       "text": [
        " \tMAE for epoch 1 is 0.06365514 \tlearning rate is 0.01\n",
        "MSE for epoch 2 is 0.07028585"
       ]
      },
      {
       "output_type": "stream",
       "stream": "stdout",
       "text": [
        " \tMAE for epoch 2 is 0.06363981 \tlearning rate is 0.012\n",
        "MSE for epoch 3 is 0.07079005"
       ]
      },
      {
       "output_type": "stream",
       "stream": "stdout",
       "text": [
        " \tMAE for epoch 3 is 0.06489714 \tlearning rate is 0.0144\n",
        "MSE for epoch 4 is 0.06436887"
       ]
      },
      {
       "output_type": "stream",
       "stream": "stdout",
       "text": [
        " \tMAE for epoch 4 is 0.05972203 \tlearning rate is 0.00576\n",
        "MSE for epoch 5 is 0.0646301"
       ]
      },
      {
       "output_type": "stream",
       "stream": "stdout",
       "text": [
        " \tMAE for epoch 5 is 0.06115882 \tlearning rate is 0.006912\n",
        "MSE for epoch 6 is 0.06254995"
       ]
      },
      {
       "output_type": "stream",
       "stream": "stdout",
       "text": [
        " \tMAE for epoch 6 is 0.05869481 \tlearning rate is 0.0027648\n",
        "MSE for epoch 7 is 0.06226613"
       ]
      },
      {
       "output_type": "stream",
       "stream": "stdout",
       "text": [
        " \tMAE for epoch 7 is 0.05858079 \tlearning rate is 0.00331776\n",
        "MSE for epoch 8 is 0.06234067"
       ]
      },
      {
       "output_type": "stream",
       "stream": "stdout",
       "text": [
        " \tMAE for epoch 8 is 0.05844655 \tlearning rate is 0.003981312\n",
        "MSE for epoch 9 is 0.06276751"
       ]
      },
      {
       "output_type": "stream",
       "stream": "stdout",
       "text": [
        " \tMAE for epoch 9 is 0.05832413 \tlearning rate is 0.0047775744\n",
        "MSE for epoch 10 is 0.06451353"
       ]
      },
      {
       "output_type": "stream",
       "stream": "stdout",
       "text": [
        " \tMAE for epoch 10 is 0.05999499 \tlearning rate is 0.00573308928\n",
        "MSE for epoch 11 is 0.06213232"
       ]
      },
      {
       "output_type": "stream",
       "stream": "stdout",
       "text": [
        " \tMAE for epoch 11 is 0.05900688 \tlearning rate is 0.002293235712\n",
        "MSE for epoch 12 is 0.06165046"
       ]
      },
      {
       "output_type": "stream",
       "stream": "stdout",
       "text": [
        " \tMAE for epoch 12 is 0.05894082 \tlearning rate is 0.0027518828544\n",
        "MSE for epoch 13 is 0.06207314"
       ]
      },
      {
       "output_type": "stream",
       "stream": "stdout",
       "text": [
        " \tMAE for epoch 13 is 0.05834041 \tlearning rate is 0.00330225942528\n",
        "MSE for epoch 14 is 0.06200827"
       ]
      },
      {
       "output_type": "stream",
       "stream": "stdout",
       "text": [
        " \tMAE for epoch 14 is 0.05825988 \tlearning rate is 0.00396271131034\n",
        "MSE for epoch 15 is 0.06342042"
       ]
      },
      {
       "output_type": "stream",
       "stream": "stdout",
       "text": [
        " \tMAE for epoch 15 is 0.0585289 \tlearning rate is 0.0047552535724\n",
        "MSE for epoch 16 is 0.06112251"
       ]
      },
      {
       "output_type": "stream",
       "stream": "stdout",
       "text": [
        " \tMAE for epoch 16 is 0.05961567 \tlearning rate is 0.00190210142896\n",
        "MSE for epoch 17 is 0.06065988"
       ]
      },
      {
       "output_type": "stream",
       "stream": "stdout",
       "text": [
        " \tMAE for epoch 17 is 0.06053557 \tlearning rate is 0.000760840571585\n",
        "MSE for epoch 18 is 0.06047939"
       ]
      },
      {
       "output_type": "stream",
       "stream": "stdout",
       "text": [
        " \tMAE for epoch 18 is 0.0604767 \tlearning rate is 0.000304336228634\n",
        "MSE for epoch 19 is 0.0603084"
       ]
      },
      {
       "output_type": "stream",
       "stream": "stdout",
       "text": [
        " \tMAE for epoch 19 is 0.061623 \tlearning rate is 0.000365203474361\n"
       ]
      },
      {
       "ename": "KeyboardInterrupt",
       "evalue": "",
       "output_type": "pyerr",
       "traceback": [
        "\u001b[0;31m---------------------------------------------------------------------------\u001b[0m\n\u001b[0;31mKeyboardInterrupt\u001b[0m                         Traceback (most recent call last)",
        "\u001b[0;32m<ipython-input-85-3ee5b0aec418>\u001b[0m in \u001b[0;36m<module>\u001b[0;34m()\u001b[0m\n\u001b[1;32m     15\u001b[0m                    lr_increase_multiplier=1.2, lr_decrease_multiplier=0.4)\n\u001b[1;32m     16\u001b[0m \u001b[0;34m\u001b[0m\u001b[0m\n\u001b[0;32m---> 17\u001b[0;31m \u001b[0mnn_mclass\u001b[0m\u001b[0;34m.\u001b[0m\u001b[0mfit\u001b[0m\u001b[0;34m(\u001b[0m\u001b[0mxs\u001b[0m\u001b[0;34m[\u001b[0m\u001b[0;34m:\u001b[0m\u001b[0mTD\u001b[0m\u001b[0;34m]\u001b[0m\u001b[0;34m,\u001b[0m \u001b[0mmcys\u001b[0m\u001b[0;34m[\u001b[0m\u001b[0;34m:\u001b[0m\u001b[0mTD\u001b[0m\u001b[0;34m]\u001b[0m\u001b[0;34m,\u001b[0m \u001b[0mepochs\u001b[0m\u001b[0;34m=\u001b[0m\u001b[0;36m1000\u001b[0m\u001b[0;34m)\u001b[0m\u001b[0;34m\u001b[0m\u001b[0m\n\u001b[0m",
        "\u001b[0;32m/Users/simon.hughes/GitHub/NlpResearch/DeepLearning/MyCode/DeepNeuralNetwork.py\u001b[0m in \u001b[0;36mfit\u001b[0;34m(self, xs, ys, min_error, epochs, batch_size)\u001b[0m\n\u001b[1;32m    114\u001b[0m \u001b[0;34m\u001b[0m\u001b[0m\n\u001b[1;32m    115\u001b[0m                 mini_batch_errors, gradients = self.__compute_gradient__(mini_batch_in, mini_batch_out,\n\u001b[0;32m--> 116\u001b[0;31m                                                                          self.layers, self.learning_rate)\n\u001b[0m\u001b[1;32m    117\u001b[0m                 \u001b[0;32mif\u001b[0m \u001b[0mnp\u001b[0m\u001b[0;34m.\u001b[0m\u001b[0many\u001b[0m\u001b[0;34m(\u001b[0m\u001b[0mnp\u001b[0m\u001b[0;34m.\u001b[0m\u001b[0misnan\u001b[0m\u001b[0;34m(\u001b[0m\u001b[0mmini_batch_errors\u001b[0m\u001b[0;34m)\u001b[0m\u001b[0;34m)\u001b[0m\u001b[0;34m:\u001b[0m\u001b[0;34m\u001b[0m\u001b[0m\n\u001b[1;32m    118\u001b[0m                     \u001b[0;32mprint\u001b[0m \u001b[0;34m\"Nans in errors. Stopping\"\u001b[0m\u001b[0;34m\u001b[0m\u001b[0m\n",
        "\u001b[0;32m/Users/simon.hughes/GitHub/NlpResearch/DeepLearning/MyCode/DeepNeuralNetwork.py\u001b[0m in \u001b[0;36m__compute_gradient__\u001b[0;34m(self, input_vectors, outputs, layers, learning_rate, input_masks)\u001b[0m\n\u001b[1;32m    187\u001b[0m         \u001b[0;32mfor\u001b[0m \u001b[0mi\u001b[0m \u001b[0;32min\u001b[0m \u001b[0mrange\u001b[0m\u001b[0;34m(\u001b[0m\u001b[0mlen\u001b[0m\u001b[0;34m(\u001b[0m\u001b[0mlayers\u001b[0m\u001b[0;34m)\u001b[0m\u001b[0;34m)\u001b[0m\u001b[0;34m:\u001b[0m\u001b[0;34m\u001b[0m\u001b[0m\n\u001b[1;32m    188\u001b[0m             \u001b[0mwtdelta\u001b[0m\u001b[0;34m,\u001b[0m \u001b[0mbiasdelta\u001b[0m \u001b[0;34m=\u001b[0m \u001b[0mlayers\u001b[0m\u001b[0;34m[\u001b[0m\u001b[0mi\u001b[0m\u001b[0;34m]\u001b[0m\u001b[0;34m.\u001b[0m\u001b[0mgradients\u001b[0m\u001b[0;34m(\u001b[0m\u001b[0mdeltas\u001b[0m\u001b[0;34m[\u001b[0m\u001b[0mi\u001b[0m\u001b[0;34m]\u001b[0m\u001b[0;34m,\u001b[0m \u001b[0mlayer_inputs\u001b[0m\u001b[0;34m[\u001b[0m\u001b[0mi\u001b[0m\u001b[0;34m]\u001b[0m\u001b[0;34m)\u001b[0m\u001b[0;34m\u001b[0m\u001b[0m\n\u001b[0;32m--> 189\u001b[0;31m             \u001b[0mgradients\u001b[0m\u001b[0;34m.\u001b[0m\u001b[0mappend\u001b[0m\u001b[0;34m(\u001b[0m \u001b[0;34m(\u001b[0m\u001b[0mlearning_rate\u001b[0m \u001b[0;34m*\u001b[0m \u001b[0mwtdelta\u001b[0m\u001b[0;34m,\u001b[0m \u001b[0mlearning_rate\u001b[0m \u001b[0;34m*\u001b[0m \u001b[0mbiasdelta\u001b[0m\u001b[0;34m)\u001b[0m \u001b[0;34m)\u001b[0m\u001b[0;34m\u001b[0m\u001b[0m\n\u001b[0m\u001b[1;32m    190\u001b[0m         \u001b[0;34m\"\"\" return a list of errors (one item per row in mini batch) \"\"\"\u001b[0m\u001b[0;34m\u001b[0m\u001b[0m\n\u001b[1;32m    191\u001b[0m         \u001b[0;32mreturn\u001b[0m \u001b[0;34m(\u001b[0m\u001b[0merrors\u001b[0m\u001b[0;34m.\u001b[0m\u001b[0mT\u001b[0m\u001b[0;34m,\u001b[0m \u001b[0mgradients\u001b[0m\u001b[0;34m)\u001b[0m\u001b[0;34m\u001b[0m\u001b[0m\n",
        "\u001b[0;31mKeyboardInterrupt\u001b[0m: "
       ]
      }
     ],
     "prompt_number": 85
    },
    {
     "cell_type": "code",
     "collapsed": false,
     "input": [
      "argmaxes = set()\n",
      "p = nn_mclass.predict(xs)\n",
      "for row in p:\n",
      "    #print str(np.max(row)).rjust(20), np.max(row) > 0, np.argmax(row)\n",
      "    for i,val in enumerate(row):\n",
      "        if val >= -0.0:\n",
      "            argmaxes.add(i)\n",
      "argmaxes"
     ],
     "language": "python",
     "metadata": {},
     "outputs": [
      {
       "metadata": {},
       "output_type": "pyout",
       "prompt_number": 81,
       "text": [
        "set()"
       ]
      }
     ],
     "prompt_number": 81
    },
    {
     "cell_type": "markdown",
     "metadata": {},
     "source": [
      "Train a Neural Network Language Model\n",
      "-------------------------------------"
     ]
    },
    {
     "cell_type": "code",
     "collapsed": false,
     "input": [
      "def window2lmvectors(window):\n",
      "    xs = []\n",
      "    for wd, lbls in window[:-1]:\n",
      "        if STEM:\n",
      "            wd = stem(wd)\n",
      "        xs.append(wd2vector[wd])\n",
      "    np_xs = np.hstack(xs)\n",
      "    return (np_xs, wd2vector[window[-1][0]])"
     ],
     "language": "python",
     "metadata": {},
     "outputs": [],
     "prompt_number": 18
    },
    {
     "cell_type": "code",
     "collapsed": false,
     "input": [
      "xs2, ys2 = [], []\n",
      "for i, windows in ix2windows.items():\n",
      "    for window in windows:\n",
      "        x, y = window2lmvectors(window)\n",
      "        xs2.append(x)\n",
      "        ys2.append(y)"
     ],
     "language": "python",
     "metadata": {},
     "outputs": [
      {
       "ename": "KeyError",
       "evalue": "'different'",
       "output_type": "pyerr",
       "traceback": [
        "\u001b[0;31m---------------------------------------------------------------------------\u001b[0m\n\u001b[0;31mKeyError\u001b[0m                                  Traceback (most recent call last)",
        "\u001b[0;32m<ipython-input-19-ccbd000012ff>\u001b[0m in \u001b[0;36m<module>\u001b[0;34m()\u001b[0m\n\u001b[1;32m      2\u001b[0m \u001b[0;32mfor\u001b[0m \u001b[0mi\u001b[0m\u001b[0;34m,\u001b[0m \u001b[0mwindows\u001b[0m \u001b[0;32min\u001b[0m \u001b[0mix2windows\u001b[0m\u001b[0;34m.\u001b[0m\u001b[0mitems\u001b[0m\u001b[0;34m(\u001b[0m\u001b[0;34m)\u001b[0m\u001b[0;34m:\u001b[0m\u001b[0;34m\u001b[0m\u001b[0m\n\u001b[1;32m      3\u001b[0m     \u001b[0;32mfor\u001b[0m \u001b[0mwindow\u001b[0m \u001b[0;32min\u001b[0m \u001b[0mwindows\u001b[0m\u001b[0;34m:\u001b[0m\u001b[0;34m\u001b[0m\u001b[0m\n\u001b[0;32m----> 4\u001b[0;31m         \u001b[0mx\u001b[0m\u001b[0;34m,\u001b[0m \u001b[0my\u001b[0m \u001b[0;34m=\u001b[0m \u001b[0mwindow2lmvectors\u001b[0m\u001b[0;34m(\u001b[0m\u001b[0mwindow\u001b[0m\u001b[0;34m)\u001b[0m\u001b[0;34m\u001b[0m\u001b[0m\n\u001b[0m\u001b[1;32m      5\u001b[0m         \u001b[0mxs2\u001b[0m\u001b[0;34m.\u001b[0m\u001b[0mappend\u001b[0m\u001b[0;34m(\u001b[0m\u001b[0mx\u001b[0m\u001b[0;34m)\u001b[0m\u001b[0;34m\u001b[0m\u001b[0m\n\u001b[1;32m      6\u001b[0m         \u001b[0mys2\u001b[0m\u001b[0;34m.\u001b[0m\u001b[0mappend\u001b[0m\u001b[0;34m(\u001b[0m\u001b[0my\u001b[0m\u001b[0;34m)\u001b[0m\u001b[0;34m\u001b[0m\u001b[0m\n",
        "\u001b[0;32m<ipython-input-18-a9d07d87f0db>\u001b[0m in \u001b[0;36mwindow2lmvectors\u001b[0;34m(window)\u001b[0m\n\u001b[1;32m      6\u001b[0m         \u001b[0mxs\u001b[0m\u001b[0;34m.\u001b[0m\u001b[0mappend\u001b[0m\u001b[0;34m(\u001b[0m\u001b[0mwd2vector\u001b[0m\u001b[0;34m[\u001b[0m\u001b[0mwd\u001b[0m\u001b[0;34m]\u001b[0m\u001b[0;34m)\u001b[0m\u001b[0;34m\u001b[0m\u001b[0m\n\u001b[1;32m      7\u001b[0m     \u001b[0mnp_xs\u001b[0m \u001b[0;34m=\u001b[0m \u001b[0mnp\u001b[0m\u001b[0;34m.\u001b[0m\u001b[0mhstack\u001b[0m\u001b[0;34m(\u001b[0m\u001b[0mxs\u001b[0m\u001b[0;34m)\u001b[0m\u001b[0;34m\u001b[0m\u001b[0m\n\u001b[0;32m----> 8\u001b[0;31m     \u001b[0;32mreturn\u001b[0m \u001b[0;34m(\u001b[0m\u001b[0mnp_xs\u001b[0m\u001b[0;34m,\u001b[0m \u001b[0mwd2vector\u001b[0m\u001b[0;34m[\u001b[0m\u001b[0mwindow\u001b[0m\u001b[0;34m[\u001b[0m\u001b[0;34m-\u001b[0m\u001b[0;36m1\u001b[0m\u001b[0;34m]\u001b[0m\u001b[0;34m[\u001b[0m\u001b[0;36m0\u001b[0m\u001b[0;34m]\u001b[0m\u001b[0;34m]\u001b[0m\u001b[0;34m)\u001b[0m\u001b[0;34m\u001b[0m\u001b[0m\n\u001b[0m",
        "\u001b[0;31mKeyError\u001b[0m: 'different'"
       ]
      }
     ],
     "prompt_number": 19
    },
    {
     "cell_type": "code",
     "collapsed": false,
     "input": [
      "nn.layers[0].weights.shape"
     ],
     "language": "python",
     "metadata": {},
     "outputs": [
      {
       "metadata": {},
       "output_type": "pyout",
       "prompt_number": 371,
       "text": [
        "(50, 360)"
       ]
      }
     ],
     "prompt_number": 371
    },
    {
     "cell_type": "code",
     "collapsed": false,
     "input": [
      "VECTOR_SIZE = 50\n",
      "TD = int(len(xs2) * 0.65)\n",
      "\n",
      "hidden_in  = VECTOR_SIZE * (WINDOW_SIZE -1)\n",
      "#hidden_out = (hidden_in + len(ys[0])) / 2\n",
      "convolutions = len(xs2[0]) / len(wd2vector) #WINDOW_SIZE - 1\n",
      "\n",
      "lmlayers = [\n",
      "        ConvolutionalLayer(len(xs2[0]),  hidden_in,   activation_fn = \"tanh\",    momentum=0.0, convolutions=convolutions),\n",
      "        Layer(              hidden_in,   len(ys2[0]), activation_fn = \"softmax\", momentum=0.5),        \n",
      "    ]\n",
      "\n",
      "# With low freq classes and convolutional layers, use a batch_size == 1 and NO momentum in that layer\n",
      "lmnn = MLP(lmlayers, learning_rate=0.1, weight_decay=0.0, epochs=100, batch_size=5,\n",
      "             lr_increase_multiplier=1.2, lr_decrease_multiplier=0.6)\n",
      "\n",
      "lmnn.fit(xs2[:TD], ys2[:TD], epochs=150)"
     ],
     "language": "python",
     "metadata": {},
     "outputs": [
      {
       "ename": "NameError",
       "evalue": "name 'xs2' is not defined",
       "output_type": "pyerr",
       "traceback": [
        "\u001b[0;31m---------------------------------------------------------------------------\u001b[0m\n\u001b[0;31mNameError\u001b[0m                                 Traceback (most recent call last)",
        "\u001b[0;32m<ipython-input-15-70b35ef84a2c>\u001b[0m in \u001b[0;36m<module>\u001b[0;34m()\u001b[0m\n\u001b[1;32m      1\u001b[0m \u001b[0mVECTOR_SIZE\u001b[0m \u001b[0;34m=\u001b[0m \u001b[0;36m50\u001b[0m\u001b[0;34m\u001b[0m\u001b[0m\n\u001b[0;32m----> 2\u001b[0;31m \u001b[0mTD\u001b[0m \u001b[0;34m=\u001b[0m \u001b[0mint\u001b[0m\u001b[0;34m(\u001b[0m\u001b[0mlen\u001b[0m\u001b[0;34m(\u001b[0m\u001b[0mxs2\u001b[0m\u001b[0;34m)\u001b[0m \u001b[0;34m*\u001b[0m \u001b[0;36m0.65\u001b[0m\u001b[0;34m)\u001b[0m\u001b[0;34m\u001b[0m\u001b[0m\n\u001b[0m\u001b[1;32m      3\u001b[0m \u001b[0;34m\u001b[0m\u001b[0m\n\u001b[1;32m      4\u001b[0m \u001b[0mhidden_in\u001b[0m  \u001b[0;34m=\u001b[0m \u001b[0mVECTOR_SIZE\u001b[0m \u001b[0;34m*\u001b[0m \u001b[0;34m(\u001b[0m\u001b[0mWINDOW_SIZE\u001b[0m \u001b[0;34m-\u001b[0m\u001b[0;36m1\u001b[0m\u001b[0;34m)\u001b[0m\u001b[0;34m\u001b[0m\u001b[0m\n\u001b[1;32m      5\u001b[0m \u001b[0;31m#hidden_out = (hidden_in + len(ys[0])) / 2\u001b[0m\u001b[0;34m\u001b[0m\u001b[0;34m\u001b[0m\u001b[0m\n",
        "\u001b[0;31mNameError\u001b[0m: name 'xs2' is not defined"
       ]
      }
     ],
     "prompt_number": 15
    },
    {
     "cell_type": "code",
     "collapsed": false,
     "input": [
      "for i, windows in ix2windows.items()[-100:]:\n",
      "    for win in windows:\n",
      "        s = \"\"\n",
      "        for wd, lbl in win[:-1]:\n",
      "            s += wd + \" \"\n",
      "        x,y = window2lmvectors(win)\n",
      "        p = lmnn.predict([x])\n",
      "        ixpred = p.argmax()\n",
      "        wd = wdgenerator.get_key(ixpred)\n",
      "\n",
      "        print s.rjust(60), \":\", win[-1][0].ljust(10), \":\", wd"
     ],
     "language": "python",
     "metadata": {},
     "outputs": [
      {
       "output_type": "stream",
       "stream": "stdout",
       "text": [
        "                <START> <START> <START> the bleaching event  : makes      : that\n",
        "                  <START> <START> the bleaching event makes  : corals     : it\n",
        "                   <START> the bleaching event makes corals  : to         : to\n",
        "                        the bleaching event makes corals to  : disease    : get\n",
        "                    bleaching event makes corals to disease  : and        : and\n",
        "                          event makes corals to disease and  : ,          : .\n",
        "                              makes corals to disease and ,  : it         : which\n",
        "                                 corals to disease and , it  : can        : has\n",
        "                                    to disease and , it can  : also       : also\n",
        "                                  disease and , it can also  : lead       : the\n",
        "                                     and , it can also lead  : to         : to\n",
        "                                      , it can also lead to  : death      : coral\n",
        "                                  it can also lead to death  : .          : of\n",
        "                                   can also lead to death .  : <END>      : <END>\n",
        "                                 also lead to death . <END>  : <END>      : <END>\n",
        "                                lead to death . <END> <END>  : <END>      : <END>\n",
        "                  <START> <START> <START> coral bleaching a  : good       : very\n",
        "                     <START> <START> coral bleaching a good  : thing      : because\n",
        "                       <START> coral bleaching a good thing  : to         : to\n",
        "                            coral bleaching a good thing to  : happen     : have\n",
        "                           bleaching a good thing to happen  : in         : is\n",
        "                                  a good thing to happen in  : the        : which\n",
        "                                good thing to happen in the  : ocean      : pacific\n",
        "                               thing to happen in the ocean  : .          : ,\n",
        "                                   to happen in the ocean .  : <END>      : <END>\n",
        "                                happen in the ocean . <END>  : <END>      : <END>\n",
        "                                 in the ocean . <END> <END>  : <END>      : <END>\n",
        "                     <START> <START> <START> the results of  : coral      : bleaching\n",
        "                       <START> <START> the results of coral  : bleaching  : bleaching\n",
        "                     <START> the results of coral bleaching  : can        : is\n",
        "                         the results of coral bleaching can  : change     : vary\n",
        "                      results of coral bleaching can change  : .          : .\n",
        "                            of coral bleaching can change .  : <END>      : <END>\n",
        "                         coral bleaching can change . <END>  : <END>      : <END>\n",
        "                         bleaching can change . <END> <END>  : <END>      : <END>\n",
        "                      <START> <START> <START> in 1998 there  : was        : was\n",
        "                          <START> <START> in 1998 there was  : an         : a\n",
        "                               <START> in 1998 there was an  : amount     : a\n",
        "                                in 1998 there was an amount  : of         : of\n",
        "                                1998 there was an amount of  : coral      : 16\n",
        "                               there was an amount of coral  : bleaching  : reefs\n",
        "                           was an amount of coral bleaching  : in         : .\n",
        "                            an amount of coral bleaching in  : weak       : the\n",
        "                          amount of coral bleaching in weak  : tradewinds : .\n",
        "                      of coral bleaching in weak tradewinds  : ,          : the\n",
        "                       coral bleaching in weak tradewinds ,  : and        : there\n",
        "                         bleaching in weak tradewinds , and  : very       : ocean\n",
        "                              in weak tradewinds , and very  : high       : sensitive\n",
        "                            weak tradewinds , and very high  : water      : temperatures\n",
        "                           tradewinds , and very high water  : temperature : temperature\n",
        "                          , and very high water temperature  : .          : .\n",
        "                          and very high water temperature .  : <END>      : <END>\n",
        "                        very high water temperature . <END>  : <END>      : <END>\n",
        "                       high water temperature . <END> <END>  : <END>      : <END>\n",
        "                   <START> <START> <START> the results vary  : because    : bleaching\n",
        "                   <START> <START> the results vary because  : the        : the\n",
        "                       <START> the results vary because the  : amount     : coral\n",
        "                        the results vary because the amount  : of         : of\n",
        "                         results vary because the amount of  : bleached   : water\n",
        "                        vary because the amount of bleached  : coral      : corals\n",
        "                       because the amount of bleached coral  : always     : bleaching\n",
        "                        the amount of bleached coral always  : the        : the\n",
        "                        amount of bleached coral always the  : same       : .\n",
        "                          of bleached coral always the same  : .          : .\n",
        "                           bleached coral always the same .  : <END>      : <END>\n",
        "                              coral always the same . <END>  : <END>      : <END>\n",
        "                              always the same . <END> <END>  : <END>      : <END>\n",
        "                        <START> <START> <START> one year it  : could      : is\n",
        "                          <START> <START> one year it could  : be         : affect\n",
        "                               <START> one year it could be  : a          : .\n",
        "                                     one year it could be a  : low        : coral\n",
        "                                     year it could be a low  : amount     : or\n",
        "                                   it could be a low amount  : ,          : of\n",
        "                                    could be a low amount ,  : then       : but\n",
        "                                     be a low amount , then  : the        : corals\n",
        "                                    a low amount , then the  : ,          : coral\n",
        "                                    low amount , then the ,  : a          : the\n",
        "                                      amount , then the , a  : high       : lot\n",
        "                                        , then the , a high  : amount     : and\n",
        "                                   then the , a high amount  : .          : more\n",
        "                                      the , a high amount .  : <END>      : <END>\n",
        "                                    , a high amount . <END>  : <END>      : <END>\n",
        "                                a high amount . <END> <END>  : <END>      : <END>\n",
        "                   <START> <START> <START> the results vary  : due        : bleaching\n",
        "                       <START> <START> the results vary due  : to         : to\n",
        "                            <START> the results vary due to  : the        : the\n",
        "                                the results vary due to the  : they       : changes\n",
        "                               results vary due to the they  : got        : just\n",
        "                                   vary due to the they got  : .          : to\n",
        "                                      due to the they got .  : <END>      : <END>\n",
        "                                    to the they got . <END>  : <END>      : <END>\n",
        "                                 the they got . <END> <END>  : <END>      : <END>\n",
        "                        <START> <START> <START> if they get  : little     : a\n",
        "                         <START> <START> if they get little  : "
       ]
      },
      {
       "output_type": "stream",
       "stream": "stdout",
       "text": [
        "sunlight   : for\n",
        "                        <START> if they get little sunlight  : and        : with\n",
        "                            if they get little sunlight and  : a          : they\n",
        "                             they get little sunlight and a  : low        : which\n",
        "                              get little sunlight and a low  : water      : .\n",
        "                            little sunlight and a low water  : temperature : is\n",
        "                       sunlight and a low water temperature  : ,          : .\n",
        "                              and a low water temperature ,  : then       : the\n",
        "                             a low water temperature , then  : they       : the\n",
        "                          low water temperature , then they  : will       : are\n",
        "                         water temperature , then they will  : most       : have\n",
        "                          temperature , then they will most  : not        : and\n",
        "                                  , then they will most not  : grow       : and\n",
        "                               then they will most not grow  : well       : .\n",
        "                               they will most not grow well  : and        : it\n",
        "                                will most not grow well and  : die        : this\n",
        "                                 most not grow well and die  : .          : .\n",
        "                                    not grow well and die .  : <END>      : <END>\n",
        "                                  grow well and die . <END>  : <END>      : <END>\n",
        "                                 well and die . <END> <END>  : <END>      : <END>\n",
        "                     <START> <START> <START> coral live and  : grow       : that\n",
        "                        <START> <START> coral live and grow  : between    : .\n",
        "                        <START> coral live and grow between  : an         : the\n",
        "                             coral live and grow between an  : temperature : because\n",
        "                       live and grow between an temperature  : of         : for\n",
        "                         and grow between an temperature of  : 70         : corals\n",
        "                          grow between an temperature of 70  : and        : -\n",
        "                           between an temperature of 70 and  : 85         : .\n",
        "                                an temperature of 70 and 85  : .          : \\\n",
        "                                 temperature of 70 and 85 .  : <END>      : <END>\n",
        "                                       of 70 and 85 . <END>  : <END>      : <END>\n",
        "                                    70 and 85 . <END> <END>  : <END>      : <END>\n",
        "                     <START> <START> <START> they also grow  : when       : at\n",
        "                        <START> <START> they also grow when  : there      : the\n",
        "                          <START> they also grow when there  : to         : color\n",
        "                               they also grow when there to  : a          : go\n",
        "                                  also grow when there to a  : lot        : coral\n",
        "                                   grow when there to a lot  : of         : of\n",
        "                                     when there to a lot of  : ,          : rain\n",
        "                                        there to a lot of ,  : which      : coral\n",
        "                                        to a lot of , which  : is         : <END>\n",
        "                                        a lot of , which is  : why        : one\n",
        "                                      lot of , which is why  : they       : coral\n",
        "                                     of , which is why they  : live       : bleach\n",
        "                                   , which is why they live  : in         : .\n",
        "                                  which is why they live in  : shallow    : .\n",
        "                                is why they live in shallow  : water      : waters\n",
        "                             why they live in shallow water  : .          : .\n",
        "                               they live in shallow water .  : <END>      : <END>\n",
        "                              live in shallow water . <END>  : <END>      : <END>\n",
        "                             in shallow water . <END> <END>  : <END>      : <END>\n",
        "                 <START> <START> <START> coral bleaching is  : caused     : when\n",
        "                  <START> <START> coral bleaching is caused  : by         : by\n",
        "                       <START> coral bleaching is caused by  : many       : things\n",
        "                          coral bleaching is caused by many  : different  : process\n",
        "                      bleaching is caused by many different  : things     : times\n",
        "                         is caused by many different things  : .          : .\n",
        "                          caused by many different things .  : <END>      : <END>\n",
        "                           by many different things . <END>  : <END>      : <END>\n",
        "                        many different things . <END> <END>  : <END>      : <END>\n",
        "                         <START> <START> <START> if a coral  : getting    : is\n",
        "                         <START> <START> if a coral getting  : enough     : bleached\n",
        "                          <START> if a coral getting enough  : co2        : nutrients\n",
        "                              if a coral getting enough co2  : ,          : trade\n",
        "                               a coral getting enough co2 ,  : then       : which\n",
        "                            coral getting enough co2 , then  : it         : they\n",
        "                               getting enough co2 , then it  : can        : will\n",
        "                                   enough co2 , then it can  : become     : that\n",
        "                                   co2 , then it can become  : very       : white\n",
        "                                  , then it can become very  : unhealthy  : and\n",
        "                          then it can become very unhealthy  : .          : .\n",
        "                             it can become very unhealthy .  : <END>      : <END>\n",
        "                          can become very unhealthy . <END>  : <END>      : <END>\n",
        "                        become very unhealthy . <END> <END>  : <END>      : <END>\n",
        "              <START> <START> <START> water temperature and  : tradewinds : the\n",
        "           <START> <START> water temperature and tradewinds  : are        : in\n",
        "               <START> water temperature and tradewinds are  : both       : weaker\n",
        "                  water temperature and tradewinds are both  : results    : that\n",
        "                temperature and tradewinds are both results  : of         : .\n",
        "                         and tradewinds are both results of  : coral      : a\n",
        "                       tradewinds are both results of coral  : bleaching  : bleaching\n",
        "                        are both results of coral bleaching  : .          : is\n",
        "                          both results of coral bleaching .  : <END>      : <END>\n",
        "                         results of coral bleaching . <END>  : <END>      : <END>\n",
        "                           of coral bleaching . <END> <END>  : <END>      : <END>\n",
        "                         <START> <START> <START> there of a  : to         : coral\n",
        "                              <START> <START> there of a to "
       ]
      },
      {
       "output_type": "stream",
       "stream": "stdout",
       "text": [
        " : coral      : change\n",
        "                                <START> there of a to coral  : bleaching  : bleaching\n",
        "                              there of a to coral bleaching  : .          : .\n",
        "                                  of a to coral bleaching .  : <END>      : <END>\n",
        "                               a to coral bleaching . <END>  : <END>      : <END>\n",
        "                           to coral bleaching . <END> <END>  : <END>      : <END>\n",
        "                       <START> <START> <START> which is why  : the        : coral\n",
        "                           <START> <START> which is why the  : results    : changes\n",
        "                           <START> which is why the results  : for        : is\n",
        "                               which is why the results for  : both       : coral\n",
        "                                is why the results for both  : the        : have\n",
        "                               why the results for both the  : tradewinds : .\n",
        "                        the results for both the tradewinds  : and        : .\n",
        "                        results for both the tradewinds and  : temperature : water\n",
        "                    for both the tradewinds and temperature  : a          : of\n",
        "                      both the tradewinds and temperature a  : number     : temperature\n",
        "                    the tradewinds and temperature a number  : .          : of\n",
        "                      tradewinds and temperature a number .  : <END>      : <END>\n",
        "                           and temperature a number . <END>  : <END>      : <END>\n",
        "                         temperature a number . <END> <END>  : <END>      : <END>\n",
        "                       <START> <START> <START> i think that  : coral      : is\n",
        "                         <START> <START> i think that coral  : bleaching  : bleaching\n",
        "                       <START> i think that coral bleaching  : rates      : rates\n",
        "                         i think that coral bleaching rates  : vary       : change\n",
        "                      think that coral bleaching rates vary  : at         : at\n",
        "                         that coral bleaching rates vary at  : different  : different\n",
        "                    coral bleaching rates vary at different  : times      : times\n",
        "                    bleaching rates vary at different times  : because    : because\n",
        "                      rates vary at different times because  : of         : of\n",
        "                         vary at different times because of  : different  : the\n",
        "                    at different times because of different  : weather    : things\n",
        "               different times because of different weather  : and        : or\n",
        "                     times because of different weather and  : the        : that\n",
        "                       because of different weather and the  : different  : temperature\n",
        "                     of different weather and the different  : because    : and\n",
        "                different weather and the different because  : they       : of\n",
        "                     weather and the different because they  : can        : on\n",
        "                         and the different because they can  : affect     : survive\n",
        "                      the different because they can affect  : the        : the\n",
        "                      different because they can affect the  : water      : wind\n",
        "                          because they can affect the water  : temperature : .\n",
        "                      they can affect the water temperature  : which      : to\n",
        "                     can affect the water temperature which  : can        : food\n",
        "                     affect the water temperature which can  : affect     : affect\n",
        "                     the water temperature which can affect  : the        : the\n",
        "                     water temperature which can affect the  : coral      : death\n",
        "                     temperature which can affect the coral  : bleaching  : .\n",
        "                       which can affect the coral bleaching  : .          : because\n",
        "                           can affect the coral bleaching .  : <END>      : <END>\n",
        "                         affect the coral bleaching . <END>  : <END>      : <END>\n",
        "                          the coral bleaching . <END> <END>  : <END>      : <END>\n",
        "                    <START> <START> <START> during storms ,  : when       : which\n",
        "                       <START> <START> during storms , when  : the        : it\n",
        "                           <START> during storms , when the  : fresh      : water\n",
        "                             during storms , when the fresh  : water      : water\n",
        "                              storms , when the fresh water  : the        : is\n",
        "                                 , when the fresh water the  : ocean      : zooxanthellae\n",
        "                             when the fresh water the ocean  : ,          : is\n",
        "                                the fresh water the ocean ,  : the        : salt\n",
        "                                fresh water the ocean , the  : salinity   : salinity\n",
        "                             water the ocean , the salinity  : drops      : drops\n",
        "                             the ocean , the salinity drops  : which      : .\n",
        "                           ocean , the salinity drops which  : threatens  : is\n",
        "                       , the salinity drops which threatens  : the        : the\n",
        "                     the salinity drops which threatens the  : balance    : coral\n",
        "                 salinity drops which threatens the balance  : to         : that\n",
        "                       drops which threatens the balance to  : keep       : be\n",
        "                        which threatens the balance to keep  : the        : it\n",
        "                          threatens the balance to keep the  : corals     : corals\n",
        "                             the balance to keep the corals  : healthy    : healthy\n",
        "                         balance to keep the corals healthy  : .          : .\n",
        "                               to keep the corals healthy .  : changes    : <END>\n",
        "                          keep the corals healthy . changes  : in         : <END>\n",
        "                            the corals healthy . changes in  : wind       : the\n",
        "                           corals healthy . changes in wind  : ,          : ,\n",
        "                                healthy . changes in wind ,  : ocean      : temperature\n",
        "                                  . changes in wind , ocean  : currents   : currents\n",
        "                           changes in wind , ocean currents  : ,          : ,\n",
        "                                 in wind , ocean currents ,  : and        : and\n",
        "                                wind , ocean currents , and  : temperatures : temperatures\n",
        "                        , ocean currents , and temperatures  : could      : ,\n",
        "                    ocean currents , and temperatures could  : affect     : be\n",
        "                   currents , and temperatures could affect  : the        : the\n",
        "                        , and temperatures could affect the  : coral      : coral\n",
        "                    and temperatures could affect the coral  : bleaching  : .\n",
        "              temperatures could affect the coral bleaching  : like       : .\n",
        "                      could affect the coral bleaching like  : in         : food\n",
        "                         affect the coral bleaching like in  : 1998       : 1998\n",
        "                           the coral bleaching like in 1998  : when       : .\n",
        "                          coral bleaching like in 1998 when  : this       : there\n",
        "                           bleaching like in 1998 when this  : in         : ocean\n",
        "                                  like in 1998 when this in  : the        : the\n",
        "                                   in 1998 when this in the "
       ]
      },
      {
       "output_type": "stream",
       "stream": "stdout",
       "text": [
        " : pacific    : most\n",
        "                              1998 when this in the pacific  : ocean      : ocean\n",
        "                             when this in the pacific ocean  : .          : affects\n",
        "                                this in the pacific ocean .  : <END>      : <END>\n",
        "                               in the pacific ocean . <END>  : <END>      : <END>\n",
        "                            the pacific ocean . <END> <END>  : <END>      : <END>\n",
        "                 <START> <START> <START> coral bleaching is  : when       : when\n",
        "                    <START> <START> coral bleaching is when  : coral      : the\n",
        "                      <START> coral bleaching is when coral  : to         : loses\n",
        "                           coral bleaching is when coral to  : lose       : lose\n",
        "                            bleaching is when coral to lose  : its        : there\n",
        "                                  is when coral to lose its  : color      : color\n",
        "                               when coral to lose its color  : .          : for\n",
        "                                  coral to lose its color .  : <END>      : <END>\n",
        "                                  to lose its color . <END>  : <END>      : <END>\n",
        "                               lose its color . <END> <END>  : <END>      : <END>\n",
        "             <START> <START> <START> water temperatures are  : one        : causes\n",
        "                 <START> <START> water temperatures are one  : cause      : of\n",
        "                   <START> water temperatures are one cause  : for        : and\n",
        "                       water temperatures are one cause for  : this       : coral\n",
        "                        temperatures are one cause for this  : phenomenon : .\n",
        "                          are one cause for this phenomenon  : .          : is\n",
        "                            one cause for this phenomenon .  : <END>      : <END>\n",
        "                          cause for this phenomenon . <END>  : <END>      : <END>\n",
        "                          for this phenomenon . <END> <END>  : <END>      : <END>\n",
        "                    <START> <START> <START> changes in wind  : ,          : ,\n",
        "                          <START> <START> changes in wind ,  : ocean      : ocean\n",
        "                            <START> changes in wind , ocean  : currents   : currents\n",
        "                           changes in wind , ocean currents  : ,          : ,\n",
        "                                 in wind , ocean currents ,  : and        : and\n",
        "                                wind , ocean currents , and  : temperatures : temperatures\n",
        "                        , ocean currents , and temperatures  : can        : ,\n",
        "                      ocean currents , and temperatures can  : be         : be\n",
        "                         currents , and temperatures can be  : one        : the\n",
        "                              , and temperatures can be one  : of         : of\n",
        "                             and temperatures can be one of  : the        : .\n",
        "                             temperatures can be one of the  : reasons    : many\n",
        "                                  can be one of the reasons  : coral      : .\n",
        "                                be one of the reasons coral  : bleaching  : bleaching\n",
        "                         one of the reasons coral bleaching  : occurs     : vary\n",
        "                      of the reasons coral bleaching occurs  : .          : .\n",
        "                       the reasons coral bleaching occurs .  : <END>      : <END>\n",
        "                     reasons coral bleaching occurs . <END>  : <END>      : <END>\n",
        "                       coral bleaching occurs . <END> <END>  : <END>      : <END>\n",
        "                   <START> <START> <START> coral reefs need  : to         : in\n",
        "                        <START> <START> coral reefs need to  : go         : survive\n",
        "                             <START> coral reefs need to go  : through    : through\n",
        "                             coral reefs need to go through  : photosynthesis : photosynthesis\n",
        "                    reefs need to go through photosynthesis  : to         : ,\n",
        "                       need to go through photosynthesis to  : survive    : a\n",
        "                    to go through photosynthesis to survive  : .          : .\n",
        "                     go through photosynthesis to survive .  : <END>      : <END>\n",
        "                  through photosynthesis to survive . <END>  : <END>      : <END>\n",
        "                    photosynthesis to survive . <END> <END>  : <END>      : <END>\n",
        "                <START> <START> <START> when the solubility  : of         : of\n",
        "                     <START> <START> when the solubility of  : co2        : carbon\n",
        "                         <START> when the solubility of co2  : the        : is\n",
        "                             when the solubility of co2 the  : corals     : water\n",
        "                           the solubility of co2 the corals  : dont       : .\n",
        "                          solubility of co2 the corals dont  : have       : to\n",
        "                                of co2 the corals dont have  : enough     : algae\n",
        "                            co2 the corals dont have enough  : co2        : photosynthesis\n",
        "                            the corals dont have enough co2  : to         : in\n",
        "                             corals dont have enough co2 to  : keep       : be\n",
        "                               dont have enough co2 to keep  : color      : them\n",
        "                              have enough co2 to keep color  : and        : .\n",
        "                               enough co2 to keep color and  : healthy    : that\n",
        "                              co2 to keep color and healthy  : the        : .\n",
        "                              to keep color and healthy the  : higher     : .\n",
        "                          keep color and healthy the higher  : water      : .\n",
        "                         color and healthy the higher water  : temperatures : temperature\n",
        "                  and healthy the higher water temperatures  : and        : .\n",
        "                  healthy the higher water temperatures and  : weak       : the\n",
        "                     the higher water temperatures and weak  : effect     : and\n",
        "                  higher water temperatures and weak effect  : coral      : the\n",
        "                   water temperatures and weak effect coral  : bleaching  : bleaching\n",
        "               temperatures and weak effect coral bleaching  : because    : .\n",
        "                    and weak effect coral bleaching because  : at         : it\n",
        "                     weak effect coral bleaching because at  : times      : different\n",
        "                    effect coral bleaching because at times  : the        : .\n",
        "                       coral bleaching because at times the  : water      : wind\n",
        "                       bleaching because at times the water  : temp       : temperature\n",
        "                            because at times the water temp  : may        : .\n",
        "                                at times the water temp may  : be         : be\n",
        "                                times the water temp may be  : to         : and\n",
        "                                   the water temp may be to  : high       : different\n",
        "                                  water temp may be to high  : ,          : or\n",
        "                                      temp may be to high ,  : corals     : and\n",
        "                                    may be to high , corals  : live       : have\n",
        "                                   be to high , corals live  : in         : if\n",
        "                                   to high , corals live in  : specific   : colonies\n",
        "                             high , corals live in specific  : temps      : ocean\n",
        "                            , corals live in specific temps  : .          : the\n",
        "                            corals live in specific temps .  : <END>      : <END>\n",
        "                             live in specific temps . <END>  : <END>      : "
       ]
      },
      {
       "output_type": "stream",
       "stream": "stdout",
       "text": [
        "<END>\n",
        "                            in specific temps . <END> <END>  : <END>      : <END>\n",
        "                    <START> <START> <START> every few years  : trade      : ,\n",
        "                      <START> <START> every few years trade  : winds      : winds\n",
        "                        <START> every few years trade winds  : occur      : get\n",
        "                          every few years trade winds occur  : which      : wind\n",
        "                          few years trade winds occur which  : may        : direction\n",
        "                          years trade winds occur which may  : affect     : change\n",
        "                         trade winds occur which may affect  : coral      : some\n",
        "                         winds occur which may affect coral  : bleaching  : bleaching\n",
        "                     occur which may affect coral bleaching  : at         : .\n",
        "                        which may affect coral bleaching at  : specific   : times\n",
        "                     may affect coral bleaching at specific  : times      : time\n",
        "                   affect coral bleaching at specific times  : .          : .\n",
        "                        coral bleaching at specific times .  : <END>      : <END>\n",
        "                        bleaching at specific times . <END>  : <END>      : <END>\n",
        "                            at specific times . <END> <END>  : <END>      : <END>\n",
        "                     <START> <START> <START> there are many  : reasons    : reasons\n",
        "                     <START> <START> there are many reasons  : why        : why\n",
        "                         <START> there are many reasons why  : coral      : coral\n",
        "                           there are many reasons why coral  : bleaching  : bleaching\n",
        "                       are many reasons why coral bleaching  : rates      : is\n",
        "                     many reasons why coral bleaching rates  : vary       : vary\n",
        "                     reasons why coral bleaching rates vary  : at         : at\n",
        "                          why coral bleaching rates vary at  : different  : different\n",
        "                    coral bleaching rates vary at different  : times      : times\n",
        "                    bleaching rates vary at different times  : .          : because\n",
        "                            rates vary at different times .  : <END>      : <END>\n",
        "                            vary at different times . <END>  : <END>      : <END>\n",
        "                           at different times . <END> <END>  : <END>      : <END>\n",
        "                         <START> <START> <START> one of the  : reasons    : coral\n",
        "                         <START> <START> one of the reasons  : is         : .\n",
        "                              <START> one of the reasons is  : because    : to\n",
        "                              one of the reasons is because  : every      : there\n",
        "                            of the reasons is because every  : few        : polyps\n",
        "                           the reasons is because every few  : years      : is\n",
        "                         reasons is because every few years  : ,          : rates\n",
        "                               is because every few years ,  : \"          : or\n",
        "                                because every few years , \"  : trade      : get\n",
        "                                  every few years , \" trade  : winds      : wind\n",
        "                                  few years , \" trade winds  : are        : ,\n",
        "                                  years , \" trade winds are  : altered    : higher\n",
        "                                , \" trade winds are altered  : .          : .\n",
        "                                \" trade winds are altered .  : \"          : <END>\n",
        "                                trade winds are altered . \"  : <END>      : <END>\n",
        "                                winds are altered . \" <END>  : <END>      : <END>\n",
        "                                are altered . \" <END> <END>  : <END>      : <END>\n",
        "                        <START> <START> <START> this is one  : of         : of\n",
        "                             <START> <START> this is one of  : the        : the\n",
        "                                 <START> this is one of the  : reason     : many\n",
        "                                  this is one of the reason  : of         : that\n",
        "                                    is one of the reason of  : why        : temperature\n",
        "                                   one of the reason of why  : coral      : coral\n",
        "                                 of the reason of why coral  : bleaching  : bleaching\n",
        "                          the reason of why coral bleaching  : rates      : rates\n",
        "                        reason of why coral bleaching rates  : vary       : vary\n",
        "                          of why coral bleaching rates vary  : at         : at\n",
        "                          why coral bleaching rates vary at  : different  : different\n",
        "                    coral bleaching rates vary at different  : times      : times\n",
        "                    bleaching rates vary at different times  : .          : because\n",
        "                            rates vary at different times .  : <END>      : <END>\n",
        "                            vary at different times . <END>  : <END>      : <END>\n",
        "                           at different times . <END> <END>  : <END>      : <END>\n",
        "                     <START> <START> <START> this is caused  : by         : by\n",
        "                          <START> <START> this is caused by  : winds      : one\n",
        "                            <START> this is caused by winds  : or         : that\n",
        "                                 this is caused by winds or  : wind       : very\n",
        "                                 is caused by winds or wind  : reverse    : .\n",
        "                            caused by winds or wind reverse  : direction  : direction\n",
        "                         by winds or wind reverse direction  : from       : of\n",
        "                       winds or wind reverse direction from  : west       : the\n",
        "                        or wind reverse direction from west  : to         : ,\n",
        "                        wind reverse direction from west to  : east       : east\n",
        "                        reverse direction from west to east  : .          : .\n",
        "                              direction from west to east .  : another    : <END>\n",
        "                                from west to east . another  : reason     : .\n",
        "                              west to east . another reason  : coral      : ,\n",
        "                             to east . another reason coral  : bleaching  : bleaching\n",
        "                      east . another reason coral bleaching  : rates      : that\n",
        "                     . another reason coral bleaching rates  : vary       : vary\n",
        "                  another reason coral bleaching rates vary  : at         : at\n",
        "                       reason coral bleaching rates vary at  : different  : different\n",
        "                    coral bleaching rates vary at different  : times      : times\n",
        "                    bleaching rates vary at different times  : is         : because\n",
        "                           rates vary at different times is  : because    : because\n",
        "                         vary at different times is because  : of         : of\n",
        "                           at different times is because of  : water      : the\n",
        "                        different times is because of water  : temperature : temperature\n",
        "                      times is because of water temperature  : .          : .\n",
        "                          is because of water temperature . "
       ]
      },
      {
       "output_type": "stream",
       "stream": "stdout",
       "text": [
        " : <END>      : <END>\n",
        "                       because of water temperature . <END>  : <END>      : <END>\n",
        "                         of water temperature . <END> <END>  : <END>      : <END>\n",
        "                    <START> <START> <START> the temp causes  : coral      : coral\n",
        "                      <START> <START> the temp causes coral  : reef       : and\n",
        "                         <START> the temp causes coral reef  : bleaching  : to\n",
        "                       the temp causes coral reef bleaching  : .          : to\n",
        "                         temp causes coral reef bleaching .  : <END>      : <END>\n",
        "                        causes coral reef bleaching . <END>  : <END>      : <END>\n",
        "                         coral reef bleaching . <END> <END>  : <END>      : <END>\n",
        "                     <START> <START> <START> this is caused  : by         : by\n",
        "                          <START> <START> this is caused by  : trade      : one\n",
        "                            <START> this is caused by trade  : winds      : winds\n",
        "                              this is caused by trade winds  : going      : .\n",
        "                             is caused by trade winds going  : different  : .\n",
        "                      caused by trade winds going different  : directions : .\n",
        "                  by trade winds going different directions  : .          : .\n",
        "                   trade winds going different directions .  : <END>      : <END>\n",
        "                   winds going different directions . <END>  : <END>      : <END>\n",
        "                   going different directions . <END> <END>  : <END>      : <END>\n",
        "                       <START> <START> <START> , the reason  : why        : why\n",
        "                           <START> <START> , the reason why  : coral      : coral\n",
        "                             <START> , the reason why coral  : bleaching  : bleaching\n",
        "                           , the reason why coral bleaching  : rates      : rates\n",
        "                       the reason why coral bleaching rates  : vary       : vary\n",
        "                      reason why coral bleaching rates vary  : at         : at\n",
        "                          why coral bleaching rates vary at  : different  : different\n",
        "                    coral bleaching rates vary at different  : times      : times\n",
        "                    bleaching rates vary at different times  : is         : because\n",
        "                           rates vary at different times is  : because    : because\n",
        "                         vary at different times is because  : of         : of\n",
        "                           at different times is because of  : ocean      : the\n",
        "                        different times is because of ocean  : currents   : ,\n",
        "                         times is because of ocean currents  : .          : and\n",
        "                             is because of ocean currents .  : <END>      : <END>\n",
        "                          because of ocean currents . <END>  : <END>      : <END>\n",
        "                            of ocean currents . <END> <END>  : <END>      : <END>\n",
        "                <START> <START> <START> the coral bleaching  : rates      : is\n",
        "                  <START> <START> the coral bleaching rates  : vary       : vary\n",
        "                     <START> the coral bleaching rates vary  : at         : at\n",
        "                          the coral bleaching rates vary at  : different  : different\n",
        "                    coral bleaching rates vary at different  : times      : times\n",
        "                    bleaching rates vary at different times  : because    : because\n",
        "                      rates vary at different times because  : of         : of\n",
        "                         vary at different times because of  : the        : the\n",
        "                          at different times because of the  : wind       : water\n",
        "                        different times because of the wind  : ,          : .\n",
        "                                times because of the wind ,  : temperature : ocean\n",
        "                          because of the wind , temperature  : ,          : ,\n",
        "                                of the wind , temperature ,  : and        : the\n",
        "                               the wind , temperature , and  : ocean      : the\n",
        "                             wind , temperature , and ocean  : currents   : ,\n",
        "                         , temperature , and ocean currents  : .          : are\n",
        "                         temperature , and ocean currents .  : /          : <END>\n",
        "                                   , and ocean currents . /  : <END>      : 3\n",
        "                               and ocean currents . / <END>  : <END>      : <END>\n",
        "                             ocean currents . / <END> <END>  : <END>      : <END>\n",
        "                 <START> <START> <START> the shifting trade  : winds      : winds\n",
        "                   <START> <START> the shifting trade winds  : causes     : ,\n",
        "                    <START> the shifting trade winds causes  : the        : the\n",
        "                        the shifting trade winds causes the  : temperature : rates\n",
        "                shifting trade winds causes the temperature  : to         : to\n",
        "                      trade winds causes the temperature to  : increase   : the\n",
        "                   winds causes the temperature to increase  : ,          : degrees\n",
        "                       causes the temperature to increase ,  : making     : for\n",
        "                       the temperature to increase , making  : the        : the\n",
        "                       temperature to increase , making the  : water      : water\n",
        "                             to increase , making the water  : and        : temperature\n",
        "                            increase , making the water and  : certain    : the\n",
        "                             , making the water and certain  : regions    : more\n",
        "                       making the water and certain regions  : become     : of\n",
        "                       the water and certain regions become  : warmer     : changes\n",
        "                    water and certain regions become warmer  : .          : and\n",
        "                        and certain regions become warmer .  : <END>      : <END>\n",
        "                      certain regions become warmer . <END>  : <END>      : <END>\n",
        "                        regions become warmer . <END> <END>  : <END>      : <END>\n",
        "                     <START> <START> <START> the weaker the  : trade      : tradewinds\n",
        "                       <START> <START> the weaker the trade  : winds      : winds\n",
        "                         <START> the weaker the trade winds  : are        : the\n",
        "                             the weaker the trade winds are  : the        : more\n",
        "                             weaker the trade winds are the  : more       : same\n",
        "                               the trade winds are the more  : coral      : coral\n",
        "                             trade winds are the more coral  : bleaching  : bleaching\n",
        "                         winds are the more coral bleaching  : occurs     : occurs\n",
        "                        are the more coral bleaching occurs  : .          : in\n",
        "                          the more coral bleaching occurs .  : <END>      : <END>\n",
        "                        more coral bleaching occurs . <END>  : <END>      : <END>\n",
        "                       coral bleaching occurs . <END> <END>  : <END>      : <END>\n",
        "                     <START> <START> <START> the higher the  : temperature : water\n",
        "                 <START> <START> the higher the temperature  : is         : of\n",
        "                      <START> the higher the temperature is  : the        : the\n",
        "                          the higher the temperature is the  : less       : process\n",
        "                         higher the temperature is the less  : coral      : the\n",
        "                          the temperature is the less coral  : bleaching  : bleaching\n",
        "                    temperature is the less coral bleaching  : occurs     : .\n",
        "                         is the less coral bleaching occurs "
       ]
      },
      {
       "output_type": "stream",
       "stream": "stdout",
       "text": [
        " : .          : it\n",
        "                          the less coral bleaching occurs .  : /          : <END>\n",
        "                            less coral bleaching occurs . /  : <END>      : <END>\n",
        "                           coral bleaching occurs . / <END>  : <END>      : <END>\n",
        "                           bleaching occurs . / <END> <END>  : <END>      : <END>\n",
        "                     <START> <START> <START> when the coral  : loses      : reef\n",
        "                       <START> <START> when the coral loses  : zooxanthellae : its\n",
        "                 <START> when the coral loses zooxanthellae  : the        : color\n",
        "                     when the coral loses zooxanthellae the  : bleaching  : get\n",
        "                the coral loses zooxanthellae the bleaching  : may        : will\n",
        "                coral loses zooxanthellae the bleaching may  : result     : a\n",
        "               loses zooxanthellae the bleaching may result  : in         : or\n",
        "                  zooxanthellae the bleaching may result in  : death      : to\n",
        "                          the bleaching may result in death  : because    : .\n",
        "                      bleaching may result in death because  : it         : of\n",
        "                             may result in death because it  : can        : can\n",
        "                             result in death because it can  : go         : cause\n",
        "                                 in death because it can go  : as         : higher\n",
        "                                 death because it can go as  : long       : and\n",
        "                                  because it can go as long  : with       : .\n",
        "                                     it can go as long with  : out        : so\n",
        "                                    can go as long with out  : the        : ,\n",
        "                                    go as long with out the  : zooxanthellae : years\n",
        "                         as long with out the zooxanthellae  : .          : will\n",
        "                          long with out the zooxanthellae .  : <END>      : <END>\n",
        "                         with out the zooxanthellae . <END>  : <END>      : <END>\n",
        "                        out the zooxanthellae . <END> <END>  : <END>      : <END>\n",
        "                  <START> <START> <START> the temperature ,  : winds      : the\n",
        "                    <START> <START> the temperature , winds  : ,          : ,\n",
        "                          <START> the temperature , winds ,  : and        : the\n",
        "                              the temperature , winds , and  : ocean      : the\n",
        "                            temperature , winds , and ocean  : affect     : ,\n",
        "                                 , winds , and ocean affect  : the        : out\n",
        "                               winds , and ocean affect the  : coral      : coral\n",
        "                               , and ocean affect the coral  : bleaching  : .\n",
        "                       and ocean affect the coral bleaching  : <END>      : .\n",
        "                     ocean affect the coral bleaching <END>  : <END>      : <END>\n",
        "                     affect the coral bleaching <END> <END>  : <END>      : <END>\n",
        "                 <START> <START> <START> coral bleaching is  : the        : when\n",
        "                     <START> <START> coral bleaching is the  : event      : algae\n",
        "                       <START> coral bleaching is the event  : of         : that\n",
        "                            coral bleaching is the event of  : coral      : the\n",
        "                            bleaching is the event of coral  : white      : affected\n",
        "                                is the event of coral white  : as         : .\n",
        "                                the event of coral white as  : a          : is\n",
        "                                  event of coral white as a  : result     : of\n",
        "                                 of coral white as a result  : of         : in\n",
        "                                 coral white as a result of  : the        : coral\n",
        "                                   white as a result of the  : coral      : process\n",
        "                                   as a result of the coral  : getting    : .\n",
        "                              a result of the coral getting  : of         : bleached\n",
        "                             result of the coral getting of  : the        : some\n",
        "                                of the coral getting of the  : algae      : zooxanthellae\n",
        "                             the coral getting of the algae  : that       : sugar\n",
        "                            coral getting of the algae that  : makes      : make\n",
        "                            getting of the algae that makes  : it         : it\n",
        "                                 of the algae that makes it  : food       : its\n",
        "                               the algae that makes it food  : .          : .\n",
        "                                 algae that makes it food .  : <END>      : <END>\n",
        "                                 that makes it food . <END>  : <END>      : <END>\n",
        "                                makes it food . <END> <END>  : <END>      : <END>\n",
        "                 <START> <START> <START> things that affect  : the        : the\n",
        "                     <START> <START> things that affect the  : algae      : coral\n",
        "                       <START> things that affect the algae  : are        : because\n",
        "                           things that affect the algae are  : water      : .\n",
        "                            that affect the algae are water  : temperature : .\n",
        "                     affect the algae are water temperature  : .          : and\n",
        "                          the algae are water temperature .  : <END>      : <END>\n",
        "                        algae are water temperature . <END>  : <END>      : <END>\n",
        "                        are water temperature . <END> <END>  : <END>      : <END>\n",
        "                     <START> <START> <START> one example is  : when       : how\n",
        "                        <START> <START> one example is when  : the        : the\n",
        "                            <START> one example is when the  : trade      : coral\n",
        "                              one example is when the trade  : winds      : winds\n",
        "                            example is when the trade winds  : of         : and\n",
        "                                 is when the trade winds of  : the        : coral\n",
        "                                when the trade winds of the  : pacific    : water\n",
        "                             the trade winds of the pacific  : ocean      : ocean\n",
        "                           trade winds of the pacific ocean  : are        : .\n",
        "                             winds of the pacific ocean are  : weak       : where\n",
        "                              of the pacific ocean are weak  : ,          : and\n",
        "                               the pacific ocean are weak ,  : warmer     : coral\n",
        "                            pacific ocean are weak , warmer  : waters     : water\n",
        "                             ocean are weak , warmer waters  : to         : and\n",
        "                                are weak , warmer waters to  : make       : the\n",
        "                               weak , warmer waters to make  : their      : the\n",
        "                              , warmer waters to make their  : way        : .\n",
        "                            warmer waters to make their way  : to         : .\n",
        "                                waters to make their way to  : the        : this\n",
        "                                   to make their way to the  : coral      : water\n",
        "                                make their way to the coral  : reefs      : will\n",
        "                               their way to the coral reefs  : where      : are\n",
        "                               way to the coral reefs where  : the        : of\n",
        "                               to the coral reefs where the  : need       : coral\n",
        "                             the coral reefs where the need  : to         : the\n",
        "                              coral reefs where the need to  : be         : survive"
       ]
      },
      {
       "output_type": "stream",
       "stream": "stdout",
       "text": [
        "\n",
        "                                 reefs where the need to be  : in         : about\n",
        "                                    where the need to be in  : order      : the\n",
        "                                    the need to be in order  : for        : for\n",
        "                                    need to be in order for  : the        : algae\n",
        "                                     to be in order for the  : algae      : process\n",
        "                                  be in order for the algae  : to         : in\n",
        "                                  in order for the algae to  : make       : make\n",
        "                                order for the algae to make  : food       : photosynthesis\n",
        "                                 for the algae to make food  : .          : causing\n",
        "                                   the algae to make food .  : <END>      : <END>\n",
        "                                 algae to make food . <END>  : <END>      : <END>\n",
        "                                 to make food . <END> <END>  : <END>      : <END>\n",
        "                     <START> <START> <START> the algae need  : the        : to\n",
        "                         <START> <START> the algae need the  : right      : carbon\n",
        "                           <START> the algae need the right  : water      : temperature\n",
        "                             the algae need the right water  : temperature : .\n",
        "                     algae need the right water temperature  : in         : and\n",
        "                        need the right water temperature in  : order      : the\n",
        "                       the right water temperature in order  : to         : to\n",
        "                        right water temperature in order to  : and        : be\n",
        "                          water temperature in order to and  : make       : there\n",
        "                           temperature in order to and make  : the        : the\n",
        "                                   in order to and make the  : food       : plant\n",
        "                                 order to and make the food  : the        : ,\n",
        "                                   to and make the food the  : coral      : coral\n",
        "                                and make the food the coral  : needs      : reefs\n",
        "                              make the food the coral needs  : without    : to\n",
        "                           the food the coral needs without  : the        : color\n",
        "                           food the coral needs without the  : algae      : photosynthesis\n",
        "                          the coral needs without the algae  : making     : ,\n",
        "                       coral needs without the algae making  : food       : the\n",
        "                        needs without the algae making food  : ,          : to\n",
        "                            without the algae making food ,  : the        : white\n",
        "                                the algae making food , the  : either     : corals\n",
        "                             algae making food , the either  : die        : the\n",
        "                               making food , the either die  : or         : .\n",
        "                                   food , the either die or  : are        : of\n",
        "                                    , the either die or are  : from       : color\n",
        "                                 the either die or are from  : the        : the\n",
        "                                 either die or are from the  : algae      : coral\n",
        "                                  die or are from the algae  : ,          : .\n",
        "                                    or are from the algae ,  : causing    : coral\n",
        "                               are from the algae , causing  : bleaching  : the\n",
        "                         from the algae , causing bleaching  : .          : ,\n",
        "                            the algae , causing bleaching .  : <END>      : <END>\n",
        "                          algae , causing bleaching . <END>  : <END>      : <END>\n",
        "                          , causing bleaching . <END> <END>  : <END>      : <END>\n",
        "                 <START> <START> <START> coral bleaching to  : the        : an\n",
        "                     <START> <START> coral bleaching to the  : coral      : coral\n",
        "                       <START> coral bleaching to the coral  : getting    : to\n",
        "                       coral bleaching to the coral getting  : and        : by\n",
        "                         bleaching to the coral getting and  : .          : some\n",
        "                                 to the coral getting and .  : <END>      : <END>\n",
        "                              the coral getting and . <END>  : <END>      : <END>\n",
        "                            coral getting and . <END> <END>  : <END>      : <END>\n",
        "              <START> <START> <START> coral bleaching rates  : vary       : vary\n",
        "                 <START> <START> coral bleaching rates vary  : at         : at\n",
        "                      <START> coral bleaching rates vary at  : different  : different\n",
        "                    coral bleaching rates vary at different  : times      : times\n",
        "                    bleaching rates vary at different times  : because    : because\n",
        "                      rates vary at different times because  : of         : of\n",
        "                         vary at different times because of  : the        : the\n",
        "                          at different times because of the  : environment : water\n",
        "                 different times because of the environment  : there      : .\n",
        "                     times because of the environment there  : in         : are\n",
        "                        because of the environment there in  : and        : an\n",
        "                            of the environment there in and  : the        : that\n",
        "                           the environment there in and the  : change     : water\n",
        "                        environment there in and the change  : .          : in\n",
        "                                  there in and the change .  : /          : <END>\n",
        "                                      in and the change . /  : <END>      : 3\n",
        "                                   and the change . / <END>  : <END>      : <END>\n",
        "                                 the change . / <END> <END>  : <END>      : <END>\n",
        "                     <START> <START> <START> one reason for  : coral      : many\n",
        "                       <START> <START> one reason for coral  : bleaching  : bleaching\n",
        "                     <START> one reason for coral bleaching  : to         : rates\n",
        "                          one reason for coral bleaching to  : at         : happen\n",
        "                           reason for coral bleaching to at  : different  : high\n",
        "                        for coral bleaching to at different  : times      : so\n",
        "                      coral bleaching to at different times  : is         : because\n",
        "                         bleaching to at different times is  : because    : different\n",
        "                           to at different times is because  : since      : there\n",
        "                        at different times is because since  : they       : the\n",
        "                      different times is because since they  : off        : have\n",
        "                            times is because since they off  : of         : and\n",
        "                               is because since they off of  : the        : water\n",
        "                              because since they off of the  : sugars     : water\n",
        "                               since they off of the sugars  : that       : .\n",
        "                                they off of the sugars that  : are        : have\n",
        "                                 off of the sugars that are  : made       : causing\n",
        "                                of the sugars that are made  : by         : up\n",
        "                                the sugars that are made by  : the        : of\n",
        "                                sugars that are made by the  : algae      : coral\n",
        "                                 that are made by the algae  : ,          : higher\n",
        "                                    are made by the algae ,  : and        : the\n",
        "                                    made by the algae , and  : the        : it\n",
        "                                     by the algae , and the "
       ]
      },
      {
       "output_type": "stream",
       "stream": "stdout",
       "text": [
        " : types      : food\n",
        "                                  the algae , and the types  : of         : of\n",
        "                                   algae , and the types of  : algae      : algae\n",
        "                                   , and the types of algae  : that       : and\n",
        "                                and the types of algae that  : live       : in\n",
        "                               the types of algae that live  : within     : .\n",
        "                            types of algae that live within  : the        : them\n",
        "                              of algae that live within the  : coral      : coral\n",
        "                           algae that live within the coral  : polyps     : polyps\n",
        "                          that live within the coral polyps  : gives      : .\n",
        "                         live within the coral polyps gives  : it         : .\n",
        "                           within the coral polyps gives it  : their      : it\n",
        "                            the coral polyps gives it their  : colors     : color\n",
        "                         coral polyps gives it their colors  : then       : .\n",
        "                          polyps gives it their colors then  : what       : they\n",
        "                            gives it their colors then what  : if         : because\n",
        "                               it their colors then what if  : the        : it\n",
        "                              their colors then what if the  : algae      : corral\n",
        "                              colors then what if the algae  : right      : is\n",
        "                               then what if the algae right  : and        : water\n",
        "                                what if the algae right and  : producing  : it\n",
        "                           if the algae right and producing  : the        : can\n",
        "                          the algae right and producing the  : right      : .\n",
        "                        algae right and producing the right  : sugars     : have\n",
        "                       right and producing the right sugars  : ,          : from\n",
        "                           and producing the right sugars ,  : it         : because\n",
        "                            producing the right sugars , it  : would      : can\n",
        "                                the right sugars , it would  : affect     : die\n",
        "                             right sugars , it would affect  : the        : a\n",
        "                               sugars , it would affect the  : coral      : corals\n",
        "                                , it would affect the coral  : bleaching  : .\n",
        "                        it would affect the coral bleaching  : .          : .\n",
        "                         would affect the coral bleaching .  : <END>      : <END>\n",
        "                         affect the coral bleaching . <END>  : <END>      : <END>\n",
        "                          the coral bleaching . <END> <END>  : <END>      : <END>\n",
        "                      <START> <START> <START> if some algae  : were       : are\n",
        "                         <START> <START> if some algae were  : and        : the\n",
        "                             <START> if some algae were and  : the        : then\n",
        "                                 if some algae were and the  : they       : coral\n",
        "                               some algae were and the they  : would      : need\n",
        "                              algae were and the they would  : vary       : have\n",
        "                               were and the they would vary  : at         : at\n",
        "                                 and the they would vary at  : different  : different\n",
        "                           the they would vary at different  : times      : times\n",
        "                         they would vary at different times  : ,          : .\n",
        "                            would vary at different times ,  : some       : because\n",
        "                             vary at different times , some  : would      : of\n",
        "                            at different times , some would  : come       : have\n",
        "                          different times , some would come  : out        : in\n",
        "                                times , some would come out  : well       : of\n",
        "                                 , some would come out well  : with       : that\n",
        "                              some would come out well with  : color      : a\n",
        "                             would come out well with color  : and        : and\n",
        "                               come out well with color and  : .          : .\n",
        "                                  out well with color and .  : /          : <END>\n",
        "                                    well with color and . /  : another    : zooxanthallae\n",
        "                                 with color and . / another  : reason     : one\n",
        "                               color and . / another reason  : for        : of\n",
        "                                 and . / another reason for  : it         : that\n",
        "                                  . / another reason for it  : would      : bleaching\n",
        "                              / another reason for it would  : be         : be\n",
        "                             another reason for it would be  : the        : to\n",
        "                                 reason for it would be the  : temperature : death\n",
        "                            for it would be the temperature  : there      : .\n",
        "                          it would be the temperature there  : in         : is\n",
        "                          would be the temperature there in  : .          : a\n",
        "                              be the temperature there in .  : <END>      : <END>\n",
        "                           the temperature there in . <END>  : <END>      : <END>\n",
        "                         temperature there in . <END> <END>  : <END>      : <END>\n",
        "                     <START> <START> <START> since the wind  : altered    : is\n",
        "                     <START> <START> since the wind altered  : every      : was\n",
        "                       <START> since the wind altered every  : few        : not\n",
        "                           since the wind altered every few  : years      : years\n",
        "                           the wind altered every few years  : they       : .\n",
        "                          wind altered every few years they  : to         : are\n",
        "                            altered every few years they to  : a          : bleach\n",
        "                                  every few years they to a  : certain    : different\n",
        "                                few years they to a certain  : weather    : direction\n",
        "                            years they to a certain weather  : that       : in\n",
        "                             they to a certain weather that  : was        : affects\n",
        "                              to a certain weather that was  : for        : probably\n",
        "                             a certain weather that was for  : example    : .\n",
        "                       certain weather that was for example  : if         : .\n",
        "                            weather that was for example if  : it         : the\n",
        "                                 that was for example if it  : was        : is\n",
        "                                  was for example if it was  : cold       : high\n",
        "                                 for example if it was cold  : shallow    : water\n",
        "                             example if it was cold shallow  : water      : then\n",
        "                               if it was cold shallow water  : and        : .\n",
        "                              it was cold shallow water and  : if         : that\n",
        "                              was cold shallow water and if  : altered    : the\n",
        "                          cold shallow water and if altered  : to         : .\n",
        "                            shallow water and if altered to  : warm       : the\n",
        "                               water and if altered to warm "
       ]
      },
      {
       "output_type": "stream",
       "stream": "stdout",
       "text": [
        " : it         : for\n",
        "                                  and if altered to warm it  : be         : .\n",
        "                                   if altered to warm it be  : to         : also\n",
        "                                   altered to warm it be to  : it         : different\n",
        "                                        to warm it be to it  : and        : .\n",
        "                                       warm it be to it and  : may        : .\n",
        "                                        it be to it and may  : take       : more\n",
        "                                      be to it and may take  : time       : photosynthesis\n",
        "                                    to it and may take time  : to         : the\n",
        "                                    it and may take time to  : but        : this\n",
        "                                   and may take time to but  : it         : a\n",
        "                                    may take time to but it  : can        : can\n",
        "                                    take time to but it can  : go         : get\n",
        "                                      time to but it can go  : bad        : to\n",
        "                                       to but it can go bad  : or         : for\n",
        "                                       but it can go bad or  : take       : wind\n",
        "                                      it can go bad or take  : long       : of\n",
        "                                    can go bad or take long  : to         : .\n",
        "                                     go bad or take long to  : .          : they\n",
        "                                      bad or take long to .  : /          : <END>\n",
        "                                        or take long to . /  : <END>      : zooxanthallae\n",
        "                                     take long to . / <END>  : <END>      : <END>\n",
        "                                    long to . / <END> <END>  : <END>      : <END>\n",
        "                     <START> <START> <START> a reason would  : be         : be\n",
        "                          <START> <START> a reason would be  : the        : a\n",
        "                              <START> a reason would be the  : ejection   : algae\n",
        "                             a reason would be the ejection  : or         : or\n",
        "                            reason would be the ejection or  : death      : death\n",
        "                             would be the ejection or death  : of         : of\n",
        "                                be the ejection or death of  : the        : the\n",
        "                               the ejection or death of the  : zooxanthellae : algae\n",
        "                     ejection or death of the zooxanthellae  : algae      : algae\n",
        "                        or death of the zooxanthellae algae  : because    : .\n",
        "                   death of the zooxanthellae algae because  : since      : the\n",
        "                   of the zooxanthellae algae because since  : the        : the\n",
        "                  the zooxanthellae algae because since the  : coral      : are\n",
        "                zooxanthellae algae because since the coral  : with       : need\n",
        "                         algae because since the coral with  : it         : the\n",
        "                            because since the coral with it  : and        : color\n",
        "                                since the coral with it and  : they       : the\n",
        "                                 the coral with it and they  : have       : can\n",
        "                                coral with it and they have  : a          : algae\n",
        "                                    with it and they have a  : symbiotic  : plant\n",
        "                               it and they have a symbiotic  : relationship : relationship\n",
        "                     and they have a symbiotic relationship  : if         : .\n",
        "                      they have a symbiotic relationship if  : one        : they\n",
        "                       have a symbiotic relationship if one  : gets       : is\n",
        "                       a symbiotic relationship if one gets  : affected   : too\n",
        "                symbiotic relationship if one gets affected  : so         : .\n",
        "                       relationship if one gets affected so  : will       : they\n",
        "                               if one gets affected so will  : the        : bleach\n",
        "                              one gets affected so will the  : other      : coral\n",
        "                            gets affected so will the other  : one        : corals\n",
        "                             affected so will the other one  : .          : of\n",
        "                                    so will the other one .  : <END>      : <END>\n",
        "                                 will the other one . <END>  : <END>      : <END>\n",
        "                                the other one . <END> <END>  : <END>      : <END>\n",
        "                       <START> <START> <START> if the coral  : goes       : goes\n",
        "                          <START> <START> if the coral goes  : for        : for\n",
        "                              <START> if the coral goes for  : too        : too\n",
        "                                  if the coral goes for too  : long       : long\n",
        "                                the coral goes for too long  : without    : without\n",
        "                            coral goes for too long without  : zooxanthellae : their\n",
        "                    goes for too long without zooxanthellae  : then       : ,\n",
        "                    for too long without zooxanthellae then  : bleaching  : bleaching\n",
        "              too long without zooxanthellae then bleaching  : happens    : can\n",
        "          long without zooxanthellae then bleaching happens  : and        : in\n",
        "           without zooxanthellae then bleaching happens and  : the        : result\n",
        "               zooxanthellae then bleaching happens and the  : coral      : to\n",
        "                       then bleaching happens and the coral  : can        : .\n",
        "                        bleaching happens and the coral can  : die        : have\n",
        "                              happens and the coral can die  : .          : .\n",
        "                                    and the coral can die .  : /          : <END>\n",
        "                                      the coral can die . /  : <END>      : <END>\n",
        "                                    coral can die . / <END>  : <END>      : <END>\n",
        "                                    can die . / <END> <END>  : <END>      : <END>\n",
        "                <START> <START> <START> in conclusion coral  : bleaching  : bleaching\n",
        "              <START> <START> in conclusion coral bleaching  : rates      : are\n",
        "                <START> in conclusion coral bleaching rates  : vary       : vary\n",
        "                   in conclusion coral bleaching rates vary  : at         : at\n",
        "                   conclusion coral bleaching rates vary at  : different  : different\n",
        "                    coral bleaching rates vary at different  : time       : times\n",
        "                     bleaching rates vary at different time  : because    : .\n",
        "                       rates vary at different time because  : of         : of\n",
        "                          vary at different time because of  : the        : the\n",
        "                           at different time because of the  : environment : salt\n",
        "                  different time because of the environment  : there      : .\n",
        "                      time because of the environment there  : in         : are\n",
        "                        because of the environment there in  : like       : an\n",
        "                           of the environment there in like  : the        : that\n",
        "                          the environment there in like the  : algae      : bleaching\n",
        "                        environment there in like the algae  : and        : that\n",
        "                                there in like the algae and  : what       : the\n",
        "                                 in like the algae and what  : its        : can\n",
        "                                like the algae and what its  : in         : it\n",
        "                                  the algae and what its in  : and        : from\n",
        "                                  algae and what its in and  : if         : .\n",
        "                                     and what its in and if "
       ]
      },
      {
       "output_type": "stream",
       "stream": "stdout",
       "text": [
        " : its        : it\n",
        "                                     what its in and if its  : making     : to\n",
        "                                   its in and if its making  : the        : it\n",
        "                                   in and if its making the  : right      : for\n",
        "                                and if its making the right  : sugars     : temperature\n",
        "                             if its making the right sugars  : ,          : and\n",
        "                              its making the right sugars ,  : the        : that\n",
        "                              making the right sugars , the  : temperature : algae\n",
        "                         the right sugars , the temperature  : since      : will\n",
        "                       right sugars , the temperature since  : the        : the\n",
        "                         sugars , the temperature since the  : wind       : waters\n",
        "                           , the temperature since the wind  : every      : is\n",
        "                       the temperature since the wind every  : few        : its\n",
        "                       temperature since the wind every few  : years      : years\n",
        "                             since the wind every few years  : and        : ,\n",
        "                               the wind every few years and  : the        : trade\n",
        "                               wind every few years and the  : water      : bleach\n",
        "                              every few years and the water  : temperature : temperature\n",
        "                        few years and the water temperature  : changes    : .\n",
        "                    years and the water temperature changes  : ,          : it\n",
        "                        and the water temperature changes ,  : and        : and\n",
        "                        the water temperature changes , and  : the        : the\n",
        "                        water temperature changes , and the  : zooxanthellae : amount\n",
        "                temperature changes , and the zooxanthellae  : since      : have\n",
        "                      changes , and the zooxanthellae since  : the        : the\n",
        "                          , and the zooxanthellae since the  : coral      : wind\n",
        "                      and the zooxanthellae since the coral  : has        : is\n",
        "                      the zooxanthellae since the coral has  : relationship : high\n",
        "             zooxanthellae since the coral has relationship  : if         : .\n",
        "                        since the coral has relationship if  : one        : they\n",
        "                          the coral has relationship if one  : gets       : in\n",
        "                         coral has relationship if one gets  : affected   : too\n",
        "                      has relationship if one gets affected  : then       : algae\n",
        "                     relationship if one gets affected then  : they       : they\n",
        "                             if one gets affected then they  : both       : bleach\n",
        "                           one gets affected then they both  : do         : their\n",
        "                            gets affected then they both do  : .          : on\n",
        "                               affected then they both do .  : <END>      : <END>\n",
        "                                  then they both do . <END>  : <END>      : <END>\n",
        "                                 they both do . <END> <END>  : <END>      : <END>\n",
        "                <START> <START> <START> the coral bleaching  : rates      : is\n",
        "                  <START> <START> the coral bleaching rates  : vary       : vary\n",
        "                     <START> the coral bleaching rates vary  : at         : at\n",
        "                          the coral bleaching rates vary at  : different  : different\n",
        "                    coral bleaching rates vary at different  : times      : times\n",
        "                    bleaching rates vary at different times  : because    : because\n",
        "                      rates vary at different times because  : of         : of\n",
        "                         vary at different times because of  : things     : the\n",
        "                       at different times because of things  : .          : .\n",
        "                        different times because of things .  : <END>      : <END>\n",
        "                            times because of things . <END>  : <END>      : <END>\n",
        "                            because of things . <END> <END>  : <END>      : <END>\n",
        "            <START> <START> <START> coral bleaching happens  : by         : at\n",
        "                 <START> <START> coral bleaching happens by  : the        : the\n",
        "                     <START> coral bleaching happens by the  : coral      : corals\n",
        "                       coral bleaching happens by the coral  : losing     : losing\n",
        "                      bleaching happens by the coral losing  : its        : a\n",
        "                            happens by the coral losing its  : color      : or\n",
        "                              by the coral losing its color  : and        : ,\n",
        "                             the coral losing its color and  : plain      : that\n",
        "                           coral losing its color and plain  : white      : algae\n",
        "                           losing its color and plain white  : .          : .\n",
        "                                its color and plain white .  : <END>      : <END>\n",
        "                              color and plain white . <END>  : <END>      : <END>\n",
        "                              and plain white . <END> <END>  : <END>      : <END>\n",
        "                      <START> <START> <START> one way coral  : bleaching  : reefs\n",
        "                    <START> <START> one way coral bleaching  : happens    : was\n",
        "                    <START> one way coral bleaching happens  : is         : most\n",
        "                         one way coral bleaching happens is  : by         : often\n",
        "                          way coral bleaching happens is by  : ocean      : .\n",
        "                        coral bleaching happens is by ocean  : salinity   : and\n",
        "                     bleaching happens is by ocean salinity  : .          : .\n",
        "                             happens is by ocean salinity .  : <END>      : <END>\n",
        "                               is by ocean salinity . <END>  : <END>      : <END>\n",
        "                            by ocean salinity . <END> <END>  : <END>      : <END>\n",
        "                     <START> <START> <START> when there are  : storms     : storms\n",
        "                      <START> <START> when there are storms  : that       : the\n",
        "                         <START> when there are storms that  : bring      : hurricanes\n",
        "                           when there are storms that bring  : a          : a\n",
        "                              there are storms that bring a  : lot        : lot\n",
        "                                are storms that bring a lot  : of         : of\n",
        "                                 storms that bring a lot of  : ,          : like\n",
        "                                      that bring a lot of ,  : the        : coral\n",
        "                                       bring a lot of , the  : salinity   : coral\n",
        "                                    a lot of , the salinity  : drops      : .\n",
        "                                lot of , the salinity drops  : because    : .\n",
        "                            of , the salinity drops because  : of         : it\n",
        "                            , the salinity drops because of  : the        : the\n",
        "                          the salinity drops because of the  : fresh      : coral\n",
        "                        salinity drops because of the fresh  : water      : water\n",
        "                           drops because of the fresh water  : .          : is\n",
        "                               because of the fresh water . "
       ]
      },
      {
       "output_type": "stream",
       "stream": "stdout",
       "text": [
        " : <END>      : <END>\n",
        "                                 of the fresh water . <END>  : <END>      : <END>\n",
        "                              the fresh water . <END> <END>  : <END>      : <END>\n",
        "                  <START> <START> <START> this threatens to  : keep       : white\n",
        "                     <START> <START> this threatens to keep  : the        : a\n",
        "                         <START> this threatens to keep the  : corals     : coral\n",
        "                          this threatens to keep the corals  : healthy    : ,\n",
        "                       threatens to keep the corals healthy  : since      : .\n",
        "                           to keep the corals healthy since  : they       : the\n",
        "                         keep the corals healthy since they  : need       : are\n",
        "                         the corals healthy since they need  : salt       : light\n",
        "                        corals healthy since they need salt  : water      : water\n",
        "                         healthy since they need salt water  : .          : temperature\n",
        "                               since they need salt water .  : <END>      : <END>\n",
        "                               they need salt water . <END>  : <END>      : <END>\n",
        "                              need salt water . <END> <END>  : <END>      : <END>\n",
        "                  <START> <START> <START> corals lose their  : color      : color\n",
        "                    <START> <START> corals lose their color  : because    : and\n",
        "                    <START> corals lose their color because  : of         : i\n",
        "                         corals lose their color because of  : the        : the\n",
        "                            lose their color because of the  : ejection   : environment\n",
        "                        their color because of the ejection  : or         : or\n",
        "                           color because of the ejection or  : death      : death\n",
        "                           because of the ejection or death  : of         : of\n",
        "                                of the ejection or death of  : the        : their\n",
        "                               the ejection or death of the  : zooxanthellae : algae\n",
        "                     ejection or death of the zooxanthellae  : algae      : algae\n",
        "                        or death of the zooxanthellae algae  : ,          : .\n",
        "                         death of the zooxanthellae algae ,  : which      : the\n",
        "                         of the zooxanthellae algae , which  : food       : is\n",
        "                       the zooxanthellae algae , which food  : made       : that\n",
        "                      zooxanthellae algae , which food made  : by         : up\n",
        "                                 algae , which food made by  : the        : of\n",
        "                                   , which food made by the  : sun        : .\n",
        "                                 which food made by the sun  : energy     : color\n",
        "                                food made by the sun energy  : to         : .\n",
        "                                  made by the sun energy to  : the        : it\n",
        "                                   by the sun energy to the  : coral      : coral\n",
        "                                the sun energy to the coral  : .          : .\n",
        "                                  sun energy to the coral .  : <END>      : <END>\n",
        "                                energy to the coral . <END>  : <END>      : <END>\n",
        "                                 to the coral . <END> <END>  : <END>      : <END>\n",
        "            <START> <START> <START> coral and zooxanthellae  : algae      : have\n",
        "              <START> <START> coral and zooxanthellae algae  : have       : and\n",
        "                 <START> coral and zooxanthellae algae have  : a          : the\n",
        "                       coral and zooxanthellae algae have a  : symbiotic  : with\n",
        "                   and zooxanthellae algae have a symbiotic  : relationship : relationship\n",
        "          zooxanthellae algae have a symbiotic relationship  : that       : which\n",
        "                   algae have a symbiotic relationship that  : they       : corals\n",
        "                    have a symbiotic relationship that they  : both       : give\n",
        "                    a symbiotic relationship that they both  : from       : so\n",
        "                 symbiotic relationship that they both from  : their      : .\n",
        "                     relationship that they both from their  : relationship : and\n",
        "                     that they both from their relationship  : with       : .\n",
        "                     they both from their relationship with  : each       : of\n",
        "                     both from their relationship with each  : other      : other\n",
        "                    from their relationship with each other  : .          : .\n",
        "                       their relationship with each other .  : <END>      : <END>\n",
        "                       relationship with each other . <END>  : <END>      : <END>\n",
        "                              with each other . <END> <END>  : <END>      : <END>\n",
        "                         <START> <START> <START> they are ,  : coral      : then\n",
        "                           <START> <START> they are , coral  : bleaching  : and\n",
        "                         <START> they are , coral bleaching  : can        : rates\n",
        "                             they are , coral bleaching can  : affect     : happen\n",
        "                           are , coral bleaching can affect  : the        : the\n",
        "                           , coral bleaching can affect the  : relationship : environment\n",
        "                coral bleaching can affect the relationship  : between    : between\n",
        "              bleaching can affect the relationship between  : them       : the\n",
        "                   can affect the relationship between them  : .          : .\n",
        "                     affect the relationship between them .  : <END>      : <END>\n",
        "                      the relationship between them . <END>  : <END>      : <END>\n",
        "                    relationship between them . <END> <END>  : <END>      : <END>\n",
        "                    <START> <START> <START> when corals are  : from       : like\n",
        "                       <START> <START> when corals are from  : the        : the\n",
        "                           <START> when corals are from the  : environment : coral\n",
        "                       when corals are from the environment  : ,          : many\n",
        "                          corals are from the environment ,  : it         : then\n",
        "                              are from the environment , it  : the        : states\n",
        "                              from the environment , it the  : coral      : to\n",
        "                             the environment , it the coral  : to         : will\n",
        "                              environment , it the coral to  : eject      : have\n",
        "                                    , it the coral to eject  : their      : the\n",
        "                                it the coral to eject their  : food       : food\n",
        "                              the coral to eject their food  : -          : -\n",
        "                                coral to eject their food -  : producing  : producing\n",
        "                            to eject their food - producing  : algae      : algae\n",
        "                         eject their food - producing algae  : which      : .\n",
        "                         their food - producing algae which  : results    : is\n",
        "                       food - producing algae which results  : in         : by\n",
        "                         - producing algae which results in  : a          : a\n",
        "                         producing algae which results in a  : bleaching  : of\n",
        "                         algae which results in a bleaching  : event      : event\n",
        "                         which results in a bleaching event  : for        : that\n",
        "                           results in a bleaching event for "
       ]
      },
      {
       "output_type": "stream",
       "stream": "stdout",
       "text": [
        " : corals     : a\n",
        "                            in a bleaching event for corals  : .          : to\n",
        "                             a bleaching event for corals .  : <END>      : <END>\n",
        "                         bleaching event for corals . <END>  : <END>      : <END>\n",
        "                             event for corals . <END> <END>  : <END>      : <END>\n",
        "              <START> <START> <START> coral bleaching rates  : changes    : vary\n",
        "              <START> <START> coral bleaching rates changes  : at         : different\n",
        "                   <START> coral bleaching rates changes at  : different  : different\n",
        "                 coral bleaching rates changes at different  : times      : times\n",
        "                 bleaching rates changes at different times  : .          : .\n",
        "                         rates changes at different times .  : <END>      : <END>\n",
        "                         changes at different times . <END>  : <END>      : <END>\n",
        "                           at different times . <END> <END>  : <END>      : <END>\n",
        "                 <START> <START> <START> it changes because  : of         : they\n",
        "                      <START> <START> it changes because of  : the        : the\n",
        "                          <START> it changes because of the  : process    : water\n",
        "                          it changes because of the process  : of         : of\n",
        "                          changes because of the process of  : coral      : photosynthesis\n",
        "                            because of the process of coral  : .          : bleaching\n",
        "                                  of the process of coral .  : <END>      : <END>\n",
        "                               the process of coral . <END>  : <END>      : <END>\n",
        "                             process of coral . <END> <END>  : <END>      : <END>\n",
        "                        <START> <START> <START> it might be  : the        : in\n",
        "                            <START> <START> it might be the  : reason     : pacific\n",
        "                             <START> it might be the reason  : why        : of\n",
        "                                 it might be the reason why  : it         : i\n",
        "                                 might be the reason why it  : changes    : rates\n",
        "                               be the reason why it changes  : at         : .\n",
        "                               the reason why it changes at  : different  : different\n",
        "                         reason why it changes at different  : times      : times\n",
        "                          why it changes at different times  : .          : .\n",
        "                            it changes at different times .  : <END>      : <END>\n",
        "                         changes at different times . <END>  : <END>      : <END>\n",
        "                           at different times . <END> <END>  : <END>      : <END>\n",
        "                       <START> <START> <START> coral also 1  : /          : /\n",
        "                             <START> <START> coral also 1 /  : 3          : 3\n",
        "                                   <START> coral also 1 / 3  : of         : of\n",
        "                                        coral also 1 / 3 of  : the        : so\n",
        "                                          also 1 / 3 of the  : surface    : water\n",
        "                                       1 / 3 of the surface  : of         : of\n",
        "                                      / 3 of the surface of  : the        : the\n",
        "                                    3 of the surface of the  : entire     : entire\n",
        "                               of the surface of the entire  : .          : .\n",
        "                                the surface of the entire .  : <END>      : <END>\n",
        "                              surface of the entire . <END>  : <END>      : <END>\n",
        "                                of the entire . <END> <END>  : <END>      : <END>\n",
        "              <START> <START> <START> coral bleaching rates  : vary       : vary\n",
        "                 <START> <START> coral bleaching rates vary  : at         : at\n",
        "                      <START> coral bleaching rates vary at  : different  : different\n",
        "                    coral bleaching rates vary at different  : times      : times\n",
        "                    bleaching rates vary at different times  : of         : because\n",
        "                           rates vary at different times of  : the        : many\n",
        "                             vary at different times of the  : year       : reasons\n",
        "                             at different times of the year  : ,          : of\n",
        "                              different times of the year ,  : because    : which\n",
        "                                times of the year , because  : sometimes  : the\n",
        "                            of the year , because sometimes  : of         : they\n",
        "                            the year , because sometimes of  : the        : the\n",
        "                            year , because sometimes of the  : year       : water\n",
        "                            , because sometimes of the year  : they       : of\n",
        "                         because sometimes of the year they  : have       : are\n",
        "                            sometimes of the year they have  : enough     : the\n",
        "                               of the year they have enough  : which      : their\n",
        "                            the year they have enough which  : is         : coral\n",
        "                             year they have enough which is  : algae      : the\n",
        "                            they have enough which is algae  : .          : living\n",
        "                               have enough which is algae .  : <END>      : <END>\n",
        "                              enough which is algae . <END>  : <END>      : <END>\n",
        "                               which is algae . <END> <END>  : <END>      : <END>\n",
        "                       <START> <START> <START> they need to  : live       : be\n",
        "                          <START> <START> they need to live  : ,          : of\n",
        "                                <START> they need to live ,  : without    : because\n",
        "                                they need to live , without  : this       : the\n",
        "                                need to live , without this  : they       : survive\n",
        "                                to live , without this they  : will       : need\n",
        "                              live , without this they will  : die        : because\n",
        "                               , without this they will die  : and        : .\n",
        "                             without this they will die and  : turn       : that\n",
        "                                this they will die and turn  : white      : white\n",
        "                               they will die and turn white  : .          : coral\n",
        "                                  will die and turn white .  : <END>      : <END>\n",
        "                                 die and turn white . <END>  : <END>      : <END>\n",
        "                               and turn white . <END> <END>  : <END>      : <END>\n",
        "                    <START> <START> <START> that what coral  : bleaching  : bleaching\n",
        "                  <START> <START> that what coral bleaching  : is         : is\n",
        "                       <START> that what coral bleaching is  : .          : when\n",
        "                             that what coral bleaching is .  : <END>      : <END>\n",
        "                            what coral bleaching is . <END>  : <END>      : <END>\n",
        "                           coral bleaching is . <END> <END>  : <END>      : <END>\n",
        "                      <START> <START> <START> stress on the  : corals     : coral\n",
        "                       <START> <START> stress on the corals  : from       : from\n",
        "                          <START> stress on the corals from  : the        : the\n",
        "                              stress on the corals from the  : environment : environment\n",
        "                         on the corals from the environment  : can        : like\n",
        "                        the corals from the environment can  : cause      : the\n",
        "                      corals from the environment can cause  : disease    : coral\n",
        "                     from the environment can cause disease "
       ]
      },
      {
       "output_type": "stream",
       "stream": "stdout",
       "text": [
        " : and        : to\n",
        "                      the environment can cause disease and  : also       : .\n",
        "                     environment can cause disease and also  : on         : vary\n",
        "                              can cause disease and also on  : the        : the\n",
        "                              cause disease and also on the  : coral      : graph\n",
        "                              disease and also on the coral  : .          : bleaching\n",
        "                                    and also on the coral .  : <END>      : <END>\n",
        "                                  also on the coral . <END>  : <END>      : <END>\n",
        "                                 on the coral . <END> <END>  : <END>      : <END>\n",
        "                       <START> <START> <START> if the coral  : goes       : goes\n",
        "                          <START> <START> if the coral goes  : for        : for\n",
        "                              <START> if the coral goes for  : too        : too\n",
        "                                  if the coral goes for too  : long       : long\n",
        "                                the coral goes for too long  : without    : without\n",
        "                            coral goes for too long without  : zooxanthellae : their\n",
        "                    goes for too long without zooxanthellae  : algae      : ,\n",
        "                   for too long without zooxanthellae algae  : ,          : bleaching\n",
        "                     too long without zooxanthellae algae ,  : bleaching  : bleaching\n",
        "               long without zooxanthellae algae , bleaching  : will       : ,\n",
        "               without zooxanthellae algae , bleaching will  : occur      : result\n",
        "                 zooxanthellae algae , bleaching will occur  : and        : .\n",
        "                           algae , bleaching will occur and  : also       : or\n",
        "                            , bleaching will occur and also  : may        : get\n",
        "                          bleaching will occur and also may  : result     : a\n",
        "                             will occur and also may result  : in         : or\n",
        "                               occur and also may result in  : death      : the\n",
        "                               and also may result in death  : .          : <END>\n",
        "                                 also may result in death .  : <END>      : <END>\n",
        "                                may result in death . <END>  : <END>      : <END>\n",
        "                              result in death . <END> <END>  : <END>      : <END>\n",
        "                      <START> <START> <START> most reefs do  : not        : affect\n",
        "                          <START> <START> most reefs do not  : from       : food\n",
        "                             <START> most reefs do not from  : the        : the\n",
        "                                 most reefs do not from the  : bleaching  : water\n",
        "                            reefs do not from the bleaching  : .          : ,\n",
        "                                do not from the bleaching .  : <END>      : <END>\n",
        "                             not from the bleaching . <END>  : <END>      : <END>\n",
        "                           from the bleaching . <END> <END>  : <END>      : <END>\n",
        "                        <START> <START> <START> there was a  : coral      : coral\n",
        "                          <START> <START> there was a coral  : bleaching  : bleaching\n",
        "                        <START> there was a coral bleaching  : event      : event\n",
        "                          there was a coral bleaching event  : that       : that\n",
        "                           was a coral bleaching event that  : occurred   : in\n",
        "                      a coral bleaching event that occurred  : 1998       : in\n",
        "                   coral bleaching event that occurred 1998  : and        : .\n",
        "                     bleaching event that occurred 1998 and  : it         : the\n",
        "                            event that occurred 1998 and it  : was        : was\n",
        "                              that occurred 1998 and it was  : they       : .\n",
        "                              occurred 1998 and it was they  : said       : get\n",
        "                                  1998 and it was they said  : it         : that\n",
        "                                    and it was they said it  : was        : will\n",
        "                                    it was they said it was  : the        : getting\n",
        "                                   was they said it was the  : worst      : .\n",
        "                                 they said it was the worst  : .          : coral\n",
        "                                    said it was the worst .  : <END>      : <END>\n",
        "                                   it was the worst . <END>  : <END>      : <END>\n",
        "                                was the worst . <END> <END>  : <END>      : <END>\n",
        "                      <START> <START> <START> that event in  : 16         : the\n",
        "                           <START> <START> that event in 16  : %          : %\n",
        "                                 <START> that event in 16 %  : of         : of\n",
        "                                      that event in 16 % of  : the        : the\n",
        "                                       event in 16 % of the  : world      : world\n",
        "                                       in 16 % of the world  : coral      : coral\n",
        "                                    16 % of the world coral  : reef       : reefs\n",
        "                                  % of the world coral reef  : .          : .\n",
        "                                  of the world coral reef .  : <END>      : /\n",
        "                               the world coral reef . <END>  : <END>      : <END>\n",
        "                             world coral reef . <END> <END>  : <END>      : <END>\n",
        "                      <START> <START> <START> coral is most  : often      : ,\n",
        "                        <START> <START> coral is most often  : mistaken   : in\n",
        "                       <START> coral is most often mistaken  : for        : for\n",
        "                           coral is most often mistaken for  : rock       : a\n",
        "                            is most often mistaken for rock  : or         : to\n",
        "                            most often mistaken for rock or  : plant      : death\n",
        "                           often mistaken for rock or plant  : ,          : .\n",
        "                               mistaken for rock or plant ,  : when       : but\n",
        "                                   for rock or plant , when  : it         : it\n",
        "                                    rock or plant , when it  : is         : which\n",
        "                                      or plant , when it is  : really     : healthy\n",
        "                                  plant , when it is really  : made       : made\n",
        "                                   , when it is really made  : up         : up\n",
        "                                  when it is really made up  : of         : of\n",
        "                                    it is really made up of  : animals    : tiny\n",
        "                               is really made up of animals  : called     : who\n",
        "                           really made up of animals called  : polyps     : coral\n",
        "                           made up of animals called polyps  : .          : .\n",
        "                              up of animals called polyps .  : <END>      : <END>\n",
        "                           of animals called polyps . <END> "
       ]
      },
      {
       "output_type": "stream",
       "stream": "stdout",
       "text": [
        " : <END>      : <END>\n",
        "                        animals called polyps . <END> <END>  : <END>      : <END>\n",
        "                     <START> <START> <START> corals live in  : colonies   : colonies\n",
        "                    <START> <START> corals live in colonies  : ,          : that\n",
        "                          <START> corals live in colonies ,  : that       : but\n",
        "                             corals live in colonies , that  : can        : there\n",
        "                                live in colonies , that can  : be         : change\n",
        "                                  in colonies , that can be  : made       : the\n",
        "                                colonies , that can be made  : up         : by\n",
        "                                      , that can be made up  : of         : of\n",
        "                                     that can be made up of  : a          : .\n",
        "                                        can be made up of a  : lot        : in\n",
        "                                        be made up of a lot  : of         : .\n",
        "                                        made up of a lot of  : a          : coral\n",
        "                                           up of a lot of a  : little     : of\n",
        "                                       of a lot of a little  : .          : animals\n",
        "                                        a lot of a little .  : <END>      : <END>\n",
        "                                    lot of a little . <END>  : <END>      : <END>\n",
        "                                  of a little . <END> <END>  : <END>      : <END>\n",
        "                  <START> <START> <START> these coral reefs  : are        : live\n",
        "                      <START> <START> these coral reefs are  : only       : in\n",
        "                         <START> these coral reefs are only  : found      : most\n",
        "                           these coral reefs are only found  : in         : in\n",
        "                              coral reefs are only found in  : shallow    : clear\n",
        "                            reefs are only found in shallow  : ,          : water\n",
        "                                are only found in shallow ,  : clear      : shallow\n",
        "                              only found in shallow , clear  : ,          : ,\n",
        "                                 found in shallow , clear ,  : tropical   : tropical\n",
        "                              in shallow , clear , tropical  : water      : waters\n",
        "                           shallow , clear , tropical water  : .          : to\n",
        "                                 , clear , tropical water .  : <END>      : <END>\n",
        "                             clear , tropical water . <END>  : <END>      : <END>\n",
        "                             , tropical water . <END> <END>  : <END>      : <END>\n",
        "                 <START> <START> <START> coral bleaching is  : different  : when\n",
        "               <START> <START> coral bleaching is different  : at         : times\n",
        "                    <START> coral bleaching is different at  : different  : different\n",
        "                  coral bleaching is different at different  : times      : times\n",
        "                  bleaching is different at different times  : of         : is\n",
        "                         is different at different times of  : the        : probably\n",
        "                        different at different times of the  : because    : reasons\n",
        "                          at different times of the because  : a          : of\n",
        "                           different times of the because a  : lot        : coral\n",
        "                                 times of the because a lot  : of         : of\n",
        "                                    of the because a lot of  : can        : stress\n",
        "                                   the because a lot of can  : change     : cause\n",
        "                                because a lot of can change  : very       : .\n",
        "                                   a lot of can change very  : like       : .\n",
        "                                lot of can change very like  : weather    : coral\n",
        "                            of can change very like weather  : ,          : .\n",
        "                             can change very like weather ,  : when       : .\n",
        "                            change very like weather , when  : the        : it\n",
        "                               very like weather , when the  : algae      : food\n",
        "                              like weather , when the algae  : comes      : is\n",
        "                             weather , when the algae comes  : ,          : in\n",
        "                                   , when the algae comes ,  : .          : the\n",
        "                                   when the algae comes , .  : <END>      : <END>\n",
        "                                  the algae comes , . <END>  : <END>      : <END>\n",
        "                                algae comes , . <END> <END>  : <END>      : <END>\n",
        "              <START> <START> <START> coral bleaching rates  : vary       : vary\n",
        "                 <START> <START> coral bleaching rates vary  : at         : at\n",
        "                      <START> coral bleaching rates vary at  : different  : different\n",
        "                    coral bleaching rates vary at different  : times      : times\n",
        "                    bleaching rates vary at different times  : .          : because\n",
        "                            rates vary at different times .  : /          : <END>\n",
        "                                vary at different times . /  : <END>      : <END>\n",
        "                               at different times . / <END>  : <END>      : <END>\n",
        "                            different times . / <END> <END>  : <END>      : <END>\n",
        "                      <START> <START> <START> for example ,  : the        : the\n",
        "                          <START> <START> for example , the  : more       : corals\n",
        "                             <START> for example , the more  : coral      : coral\n",
        "                               for example , the more coral  : bleaching  : bleaching\n",
        "                         example , the more coral bleaching  : are        : .\n",
        "                             , the more coral bleaching are  : in         : very\n",
        "                            the more coral bleaching are in  : a          : different\n",
        "                              more coral bleaching are in a  : year       : of\n",
        "                              coral bleaching are in a year  : ,          : there\n",
        "                                  bleaching are in a year ,  : that       : which\n",
        "                                       are in a year , that  : same       : the\n",
        "                                      in a year , that same  : year       : year\n",
        "                                    a year , that same year  : the        : than\n",
        "                                  year , that same year the  : waters     : water\n",
        "                                , that same year the waters  : from       : in\n",
        "                             that same year the waters from  : weaker     : the\n",
        "                           same year the waters from weaker  : tradewinds : it\n",
        "                     year the waters from weaker tradewinds  : and        : when\n",
        "                      the waters from weaker tradewinds and  : higher     : a\n",
        "                   waters from weaker tradewinds and higher  : water      : the\n",
        "                    from weaker tradewinds and higher water  : temperature : temperature\n",
        "             weaker tradewinds and higher water temperature  : .          : .\n",
        "                  tradewinds and higher water temperature .  : /          : <END>\n",
        "                           and higher water temperature . /  : another    : 3\n",
        "                       higher water temperature . / another  : example    : solubility\n",
        "                      water temperature . / another example  : ,          : of\n",
        "                          temperature . / another example ,  : they       : ocean\n",
        "                                 . / another example , they  : vary       : can\n",
        "                              / another example , they vary  : at         : .\n",
        "                             another example , they vary at "
       ]
      },
      {
       "output_type": "stream",
       "stream": "stdout",
       "text": [
        " : different  : different\n",
        "                           example , they vary at different  : times      : times\n",
        "                             , they vary at different times  : is         : .\n",
        "                            they vary at different times is  : because    : by\n",
        "                         vary at different times is because  : of         : of\n",
        "                           at different times is because of  : the        : the\n",
        "                          different times is because of the  : temperature : temperature\n",
        "                        times is because of the temperature  : .          : .\n",
        "                            is because of the temperature .  : <END>      : <END>\n",
        "                         because of the temperature . <END>  : <END>      : <END>\n",
        "                           of the temperature . <END> <END>  : <END>      : <END>\n",
        "                        <START> <START> <START> in the east  : if         : as\n",
        "                             <START> <START> in the east if  : the        : there\n",
        "                                 <START> in the east if the  : temperature : coral\n",
        "                             in the east if the temperature  : increases  : is\n",
        "                      the east if the temperature increases  : then       : it\n",
        "                     east if the temperature increases then  : the        : the\n",
        "                      if the temperature increases then the  : water      : coral\n",
        "                   the temperature increases then the water  : .          : temperature\n",
        "                     temperature increases then the water .  : /          : <END>\n",
        "                               increases then the water . /  : <END>      : cold\n",
        "                                   then the water . / <END>  : <END>      : <END>\n",
        "                                  the water . / <END> <END>  : <END>      : <END>\n",
        "                  <START> <START> <START> , coral bleaching  : rates      : rates\n",
        "                    <START> <START> , coral bleaching rates  : vary       : vary\n",
        "                       <START> , coral bleaching rates vary  : because    : at\n",
        "                       , coral bleaching rates vary because  : of         : different\n",
        "                      coral bleaching rates vary because of  : the        : the\n",
        "                        bleaching rates vary because of the  : different  : changes\n",
        "                        rates vary because of the different  : of         : reasons\n",
        "                           vary because of the different of  : countries  : the\n",
        "                      because of the different of countries  : where      : coral\n",
        "                        of the different of countries where  : coral      : the\n",
        "                     the different of countries where coral  : bleaching  : bleaching\n",
        "               different of countries where coral bleaching  : occurs     : is\n",
        "                  of countries where coral bleaching occurs  : year       : in\n",
        "                countries where coral bleaching occurs year  : .          : 1998\n",
        "                        where coral bleaching occurs year .  : <END>      : <END>\n",
        "                        coral bleaching occurs year . <END>  : <END>      : <END>\n",
        "                        bleaching occurs year . <END> <END>  : <END>      : <END>\n",
        "                <START> <START> <START> the countries types  : of         : of\n",
        "                     <START> <START> the countries types of  : waters     : algae\n",
        "                      <START> the countries types of waters  : and        : in\n",
        "                          the countries types of waters and  : environment : the\n",
        "                  countries types of waters and environment  : can        : .\n",
        "                        types of waters and environment can  : affect     : happen\n",
        "                       of waters and environment can affect  : the        : the\n",
        "                      waters and environment can affect the  : rates      : coral\n",
        "                       and environment can affect the rates  : of         : will\n",
        "                        environment can affect the rates of  : coral      : the\n",
        "                              can affect the rates of coral  : bleaching  : bleaching\n",
        "                        affect the rates of coral bleaching  : in         : .\n",
        "                            the rates of coral bleaching in  : each       : the\n",
        "                           rates of coral bleaching in each  : different  : ocean\n",
        "                       of coral bleaching in each different  : .          : .\n",
        "                        coral bleaching in each different .  : <END>      : <END>\n",
        "                        bleaching in each different . <END>  : <END>      : <END>\n",
        "                            in each different . <END> <END>  : <END>      : <END>\n",
        "            <START> <START> <START> coral bleaching happens  : happens    : at\n",
        "            <START> <START> coral bleaching happens happens  : at         : in\n",
        "                 <START> coral bleaching happens happens at  : different  : different\n",
        "               coral bleaching happens happens at different  : times      : times\n",
        "               bleaching happens happens at different times  : because    : .\n",
        "                 happens happens at different times because  : of         : every\n",
        "                      happens at different times because of  : wind       : their\n",
        "                         at different times because of wind  : changes    : changes\n",
        "                    different times because of wind changes  : .          : .\n",
        "                            times because of wind changes .  : <END>      : <END>\n",
        "                            because of wind changes . <END>  : <END>      : <END>\n",
        "                              of wind changes . <END> <END>  : <END>      : <END>\n",
        "                      <START> <START> <START> it warm water  : ,          : happens\n",
        "                            <START> <START> it warm water ,  : east       : the\n",
        "                               <START> it warm water , east  : or         : the\n",
        "                                    it warm water , east or  : west       : even\n",
        "                                  warm water , east or west  : .          : .\n",
        "                                     water , east or west .  : the        : <END>\n",
        "                                       , east or west . the  : temperature : water\n",
        "                             east or west . the temperature  : of         : and\n",
        "                               or west . the temperature of  : water      : salt\n",
        "                            west . the temperature of water  : changes    : .\n",
        "                         . the temperature of water changes  : environment : in\n",
        "               the temperature of water changes environment  : .          : can\n",
        "                 temperature of water changes environment .  : other      : <END>\n",
        "                       of water changes environment . other  : than       : <END>\n",
        "                     water changes environment . other than  : the        : the\n",
        "                       changes environment . other than the  : temperature : corals\n",
        "                   environment . other than the temperature  : change     : can\n",
        "                        . other than the temperature change  : other      : to\n",
        "                    other than the temperature change other  : things     : water\n",
        "                   than the temperature change other things  : can        : are\n",
        "                    the temperature change other things can  : cause      : cause\n",
        "                  temperature change other things can cause  : coral      : sea\n",
        "                        change other things can cause coral  : bleaching  : bleaching\n",
        "                     other things can cause coral bleaching  : .          : because\n",
        "                         things can cause coral bleaching .  : <END>      : <END>\n",
        "                          can cause coral bleaching . <END>  : <END>      : <END>\n",
        "                        cause coral bleaching . <END> <END>  : <END>      : <END>\n",
        "                     <START> <START> <START> a natural like "
       ]
      },
      {
       "output_type": "stream",
       "stream": "stdout",
       "text": [
        " : can        : a\n",
        "                         <START> <START> a natural like can  : move       : be\n",
        "                            <START> a natural like can move  : water      : ,\n",
        "                              a natural like can move water  : from       : temperature\n",
        "                           natural like can move water from  : place      : the\n",
        "                             like can move water from place  : to         : it\n",
        "                               can move water from place to  : place      : .\n",
        "                             move water from place to place  : .          : in\n",
        "                                water from place to place .  : <END>      : <END>\n",
        "                                from place to place . <END>  : <END>      : <END>\n",
        "                               place to place . <END> <END>  : <END>      : <END>\n",
        "                        <START> <START> <START> it can move  : into       : the\n",
        "                           <START> <START> it can move into  : salty      : the\n",
        "                             <START> it can move into salty  : .          : and\n",
        "                                   it can move into salty .  : <END>      : <END>\n",
        "                                can move into salty . <END>  : <END>      : <END>\n",
        "                              move into salty . <END> <END>  : <END>      : <END>\n",
        "                    <START> <START> <START> coral mostly in  : salty      : the\n",
        "                      <START> <START> coral mostly in salty  : water      : water\n",
        "                        <START> coral mostly in salty water  : and        : and\n",
        "                            coral mostly in salty water and  : if         : will\n",
        "                               mostly in salty water and if  : goes       : not\n",
        "                                 in salty water and if goes  : in         : to\n",
        "                                 salty water and if goes in  : it         : too\n",
        "                                    water and if goes in it  : could      : goes\n",
        "                                    and if goes in it could  : die        : it\n",
        "                                    if goes in it could die  : .          : .\n",
        "                                     goes in it could die .  : <END>      : <END>\n",
        "                                    in it could die . <END>  : <END>      : <END>\n",
        "                                 it could die . <END> <END>  : <END>      : <END>\n",
        "               <START> <START> <START> if zooxanthellae are  : not        : not\n",
        "                   <START> <START> if zooxanthellae are not  : coral      : the\n",
        "                     <START> if zooxanthellae are not coral  : can        : bleaching\n",
        "                         if zooxanthellae are not coral can  : also       : are\n",
        "                       zooxanthellae are not coral can also  : die        : very\n",
        "                                 are not coral can also die  : .          : .\n",
        "                                   not coral can also die .  : they       : <END>\n",
        "                                  coral can also die . they  : are        : <END>\n",
        "                                    can also die . they are  : what       : and\n",
        "                                   also die . they are what  : makes      : about\n",
        "                                  die . they are what makes  : the        : it\n",
        "                                  . they are what makes the  : corals     : coral\n",
        "                             they are what makes the corals  : food       : need\n",
        "                             are what makes the corals food  : .          : lose\n",
        "                               what makes the corals food .  : <END>      : <END>\n",
        "                              makes the corals food . <END>  : <END>      : <END>\n",
        "                              the corals food . <END> <END>  : <END>      : <END>\n",
        "                        <START> <START> <START> if they die  : because    : .\n",
        "                        <START> <START> if they die because  : of         : they\n",
        "                             <START> if they die because of  : the        : the\n",
        "                                 if they die because of the  : climate    : cold\n",
        "                            they die because of the climate  : change     : .\n",
        "                          die because of the climate change  : then       : .\n",
        "                         because of the climate change then  : so         : the\n",
        "                              of the climate change then so  : will       : how\n",
        "                            the climate change then so will  : the        : white\n",
        "                            climate change then so will the  : corral     : temperature\n",
        "                             change then so will the corral  : .          : wont\n",
        "                                  then so will the corral .  : <END>      : <END>\n",
        "                                 so will the corral . <END>  : <END>      : <END>\n",
        "                              will the corral . <END> <END>  : <END>      : <END>\n",
        "                     <START> <START> <START> the warm water  : is         : happens\n",
        "                          <START> <START> the warm water is  : being      : also\n",
        "                            <START> the warm water is being  : the        : on\n",
        "                                the warm water is being the  : pacific    : .\n",
        "                            warm water is being the pacific  : ocean      : ocean\n",
        "                           water is being the pacific ocean  : causing    : .\n",
        "                         is being the pacific ocean causing  : warmer     : the\n",
        "                     being the pacific ocean causing warmer  : water      : color\n",
        "                     the pacific ocean causing warmer water  : .          : .\n",
        "                       pacific ocean causing warmer water .  : <END>      : <END>\n",
        "                         ocean causing warmer water . <END>  : <END>      : <END>\n",
        "                         causing warmer water . <END> <END>  : <END>      : <END>\n",
        "                   <START> <START> <START> the worst corral  : bleaching  : bleaching\n",
        "                 <START> <START> the worst corral bleaching  : in         : was\n",
        "                      <START> the worst corral bleaching in  : 1998       : the\n",
        "                         the worst corral bleaching in 1998  : .          : is\n",
        "                           worst corral bleaching in 1998 .  : <END>      : <END>\n",
        "                           corral bleaching in 1998 . <END>  : <END>      : <END>\n",
        "                            bleaching in 1998 . <END> <END>  : <END>      : <END>\n",
        "            <START> <START> <START> when water temperatures  : increase   : increase\n",
        "           <START> <START> when water temperatures increase  : coral      : the\n",
        "             <START> when water temperatures increase coral  : can        : bleaching\n",
        "                 when water temperatures increase coral can  : not        : survive\n",
        "                  water temperatures increase coral can not  : do         : photosynthesis\n",
        "                     temperatures increase coral can not do  : the        : .\n",
        "                              increase coral can not do the  : process    : coral\n",
        "                               coral can not do the process  : of         : of\n",
        "                                  can not do the process of  : .          : which\n",
        "                                    not do the process of .  : only       : <END>\n",
        "                                   do the process of . only  : in         : <END>\n",
        "                                   the process of . only in  : temperatures : the\n",
        "                          process of . only in temperatures  : of         : .\n",
        "                               of . only in temperatures of  : 70         : it\n",
        "                               . only in temperatures of 70  : -          : -\n",
        "                               only in temperatures of 70 -  : .          : 85\n",
        "                                  in temperatures of 70 - . "
       ]
      },
      {
       "output_type": "stream",
       "stream": "stdout",
       "text": [
        " : <END>      : <END>\n",
        "                               temperatures of 70 - . <END>  : <END>      : <END>\n",
        "                                      of 70 - . <END> <END>  : <END>      : <END>\n",
        "             <START> <START> <START> coral bleaching occurs  : when       : when\n",
        "                <START> <START> coral bleaching occurs when  : it         : the\n",
        "                     <START> coral bleaching occurs when it  : is         : has\n",
        "                          coral bleaching occurs when it is  : and        : because\n",
        "                            bleaching occurs when it is and  : is         : a\n",
        "                                   occurs when it is and is  : its        : the\n",
        "                                      when it is and is its  : colors     : warm\n",
        "                                    it is and is its colors  : .          : .\n",
        "                                     is and is its colors .  : <END>      : <END>\n",
        "                                  and is its colors . <END>  : <END>      : <END>\n",
        "                                is its colors . <END> <END>  : <END>      : <END>\n",
        "                <START> <START> <START> coral bleaching can  : be         : happen\n",
        "                     <START> <START> coral bleaching can be  : affected   : when\n",
        "                    <START> coral bleaching can be affected  : by         : by\n",
        "                         coral bleaching can be affected by  : many       : temperature\n",
        "                          bleaching can be affected by many  : different  : different\n",
        "                          can be affected by many different  : things     : things\n",
        "                       be affected by many different things  : from       : can\n",
        "                     affected by many different things from  : the        : the\n",
        "                          by many different things from the  : amount     : corals\n",
        "                      many different things from the amount  : of         : of\n",
        "                        different things from the amount of  : light      : the\n",
        "                            things from the amount of light  : ,          : .\n",
        "                                 from the amount of light ,  : temperature : which\n",
        "                          the amount of light , temperature  : ,          : is\n",
        "                            amount of light , temperature ,  : and        : these\n",
        "                               of light , temperature , and  : .          : the\n",
        "                                light , temperature , and .  : <END>      : <END>\n",
        "                                , temperature , and . <END>  : <END>      : <END>\n",
        "                            temperature , and . <END> <END>  : <END>      : <END>\n",
        "                       <START> <START> <START> the rates of  : coral      : coral\n",
        "                         <START> <START> the rates of coral  : bleaching  : bleaching\n",
        "                       <START> the rates of coral bleaching  : vary       : vary\n",
        "                          the rates of coral bleaching vary  : from       : at\n",
        "                         rates of coral bleaching vary from  : the        : algae\n",
        "                           of coral bleaching vary from the  : amount     : environment\n",
        "                       coral bleaching vary from the amount  : light      : of\n",
        "                       bleaching vary from the amount light  : it         : .\n",
        "                              vary from the amount light it  : if         : its\n",
        "                                from the amount light it if  : a          : the\n",
        "                                   the amount light it if a  : coral      : coral\n",
        "                                 amount light it if a coral  : does       : is\n",
        "                                   light it if a coral does  : not        : not\n",
        "                                     it if a coral does not  : have       : it\n",
        "                                   if a coral does not have  : enough     : an\n",
        "                               a coral does not have enough  : light      : nutrients\n",
        "                           coral does not have enough light  : it         : in\n",
        "                              does not have enough light it  : will       : algae\n",
        "                              not have enough light it will  : not        : be\n",
        "                              have enough light it will not  : be         : be\n",
        "                                enough light it will not be  : to         : coral\n",
        "                                    light it will not be to  : do         : make\n",
        "                                       it will not be to do  : photosynthesis : it\n",
        "                           will not be to do photosynthesis  : .          : .\n",
        "                              not be to do photosynthesis .  : <END>      : <END>\n",
        "                            be to do photosynthesis . <END>  : <END>      : <END>\n",
        "                         to do photosynthesis . <END> <END>  : <END>      : <END>\n",
        "                         <START> <START> <START> if it does  : not        : not\n",
        "                             <START> <START> if it does not  : do         : have\n",
        "                                  <START> if it does not do  : photosynthesis : it\n",
        "                           if it does not do photosynthesis  : it         : .\n",
        "                           it does not do photosynthesis it  : will       : the\n",
        "                         does not do photosynthesis it will  : not        : be\n",
        "                          not do photosynthesis it will not  : be         : and\n",
        "                           do photosynthesis it will not be  : to         : just\n",
        "                           photosynthesis it will not be to  : get        : make\n",
        "                                      it will not be to get  : glucose    : food\n",
        "                                 will not be to get glucose  : to         : .\n",
        "                                   not be to get glucose to  : survive    : it\n",
        "                               be to get glucose to survive  : .          : .\n",
        "                                to get glucose to survive .  : <END>      : <END>\n",
        "                             get glucose to survive . <END>  : <END>      : <END>\n",
        "                           glucose to survive . <END> <END>  : <END>      : <END>\n",
        "                <START> <START> <START> another factor that  : might      : is\n",
        "                  <START> <START> another factor that might  : in         : can\n",
        "                       <START> another factor that might in  : the        : the\n",
        "                           another factor that might in the  : bleaching  : pacific\n",
        "                         factor that might in the bleaching  : of         : of\n",
        "                             that might in the bleaching of  : coral      : the\n",
        "                            might in the bleaching of coral  : is         : bleaching\n",
        "                               in the bleaching of coral is  : the        : because\n",
        "                              the bleaching of coral is the  : temperature : .\n",
        "                      bleaching of coral is the temperature  : of         : of\n",
        "                             of coral is the temperature of  : the        : the\n",
        "                            coral is the temperature of the  : water      : coral\n",
        "                            is the temperature of the water  : ,          : .\n",
        "                             the temperature of the water ,  : its        : the\n",
        "                             temperature of the water , its  : environment : to\n",
        "                             of the water , its environment  : .          : and\n",
        "                              the water , its environment .  : <END>      : <END>\n",
        "                            water , its environment . <END>  : <END>      : <END>\n",
        "                            , its environment . <END> <END>  : <END>      : <END>\n",
        "                         <START> <START> <START> if a coral  : is         : is\n",
        "                              <START> <START> if a coral is  : not        : living\n",
        "                                  <START> if a coral is not  : in         : that\n",
        "                                       if a coral is not in "
       ]
      },
      {
       "output_type": "stream",
       "stream": "stdout",
       "text": [
        " : a          : the\n",
        "                                        a coral is not in a  : warm       : .\n",
        "                                     coral is not in a warm  : if         : it\n",
        "                                        is not in a warm if  : will       : a\n",
        "                                      not in a warm if will  : effect     : die\n",
        "                                   in a warm if will effect  : its        : changes\n",
        "                                  a warm if will effect its  : to         : its\n",
        "                                 warm if will effect its to  : do         : it\n",
        "                                   if will effect its to do  : photosynthesis : it\n",
        "                       will effect its to do photosynthesis  : .          : .\n",
        "                          effect its to do photosynthesis .  : <END>      : <END>\n",
        "                           its to do photosynthesis . <END>  : <END>      : <END>\n",
        "                         to do photosynthesis . <END> <END>  : <END>      : <END>\n",
        "                      <START> <START> <START> the temp also  : the        : get\n",
        "                          <START> <START> the temp also the  : water      : coral\n",
        "                            <START> the temp also the water  : that       : is\n",
        "                               the temp also the water that  : the        : are\n",
        "                               temp also the water that the  : corral     : reefs\n",
        "                             also the water that the corral  : in         : it\n",
        "                               the water that the corral in  : .          : 1998\n",
        "                                 water that the corral in .  : <END>      : <END>\n",
        "                                 that the corral in . <END>  : <END>      : <END>\n",
        "                                the corral in . <END> <END>  : <END>      : <END>\n",
        "                       <START> <START> <START> as the water  : temperature : temperature\n",
        "                   <START> <START> as the water temperature  : increases  : ,\n",
        "                 <START> as the water temperature increases  : the        : the\n",
        "                     as the water temperature increases the  : solubility : high\n",
        "             the water temperature increases the solubility  : of         : of\n",
        "              water temperature increases the solubility of  : co2        : carbon\n",
        "                temperature increases the solubility of co2  : in         : is\n",
        "                         increases the solubility of co2 in  : water      : water\n",
        "                             the solubility of co2 in water  : decreases  : .\n",
        "                       solubility of co2 in water decreases  : .          : the\n",
        "                                of co2 in water decreases .  : coral      : <END>\n",
        "                             co2 in water decreases . coral  : is         : bleaching\n",
        "                              in water decreases . coral is  : very       : white\n",
        "                            water decreases . coral is very  : on         : bad\n",
        "                               decreases . coral is very on  : zooxanthellae : how\n",
        "                           . coral is very on zooxanthellae  : .          : up\n",
        "                           coral is very on zooxanthellae .  : <END>      : <END>\n",
        "                           is very on zooxanthellae . <END>  : <END>      : <END>\n",
        "                        very on zooxanthellae . <END> <END>  : <END>      : <END>\n",
        "                           <START> <START> <START> it is on  : this       : the\n",
        "                              <START> <START> it is on this  : because    : because\n",
        "                              <START> it is on this because  : the        : the\n",
        "                                  it is on this because the  : zooxanthellae : events\n",
        "                       is on this because the zooxanthellae  : some       : ,\n",
        "                     on this because the zooxanthellae some  : of         : of\n",
        "                     this because the zooxanthellae some of  : the        : the\n",
        "                      because the zooxanthellae some of the  : food       : temperature\n",
        "                         the zooxanthellae some of the food  : they       : of\n",
        "                        zooxanthellae some of the food they  : make       : <END>\n",
        "                                 some of the food they make  : from       : algae\n",
        "                                 of the food they make from  : the        : the\n",
        "                                the food they make from the  : energy     : food\n",
        "                             food they make from the energy  : .          : to\n",
        "                                they make from the energy .  : <END>      : <END>\n",
        "                               make from the energy . <END>  : <END>      : <END>\n",
        "                              from the energy . <END> <END>  : <END>      : <END>\n",
        "                      <START> <START> <START> the coral the  : by         : coral\n",
        "                           <START> <START> the coral the by  : a          : the\n",
        "                                 <START> the coral the by a  : for        : plant\n",
        "                                     the coral the by a for  : it         : the\n",
        "                                      coral the by a for it  : .          : a\n",
        "                                          the by a for it .  : <END>      : <END>\n",
        "                                        by a for it . <END>  : <END>      : <END>\n",
        "                                     a for it . <END> <END>  : <END>      : <END>\n",
        "                       <START> <START> <START> when a coral  : is         : reef\n",
        "                            <START> <START> when a coral is  : not        : a\n",
        "                                <START> when a coral is not  : in         : healthy\n",
        "                                     when a coral is not in  : a          : many\n",
        "                                        a coral is not in a  : natural    : .\n",
        "                                  coral is not in a natural  : the        : there\n",
        "                                    is not in a natural the  : can        : water\n",
        "                                   not in a natural the can  : cause      : die\n",
        "                                 in a natural the can cause  : coral      : death\n",
        "                              a natural the can cause coral  : bleaching  : bleaching\n",
        "                      natural the can cause coral bleaching  : which      : .\n",
        "                        the can cause coral bleaching which  : could      : is\n",
        "                      can cause coral bleaching which could  : kill       : changes\n",
        "                     cause coral bleaching which could kill  : the        : of\n",
        "                       coral bleaching which could kill the  : coral      : coral\n",
        "                       bleaching which could kill the coral  : .          : .\n",
        "                               which could kill the coral .  : <END>      : <END>\n",
        "                               could kill the coral . <END>  : <END>      : <END>\n",
        "                               kill the coral . <END> <END>  : <END>      : <END>\n",
        "             <START> <START> <START> coral bleaching occurs  : when       : when\n",
        "                <START> <START> coral bleaching occurs when  : a          : the\n",
        "                      <START> coral bleaching occurs when a  : coral      : coral\n",
        "                        coral bleaching occurs when a coral  : is         : does\n",
        "                           bleaching occurs when a coral is  : not        : a\n",
        "                                 occurs when a coral is not  : the        : healthy\n",
        "                                    when a coral is not the "
       ]
      },
      {
       "output_type": "stream",
       "stream": "stdout",
       "text": [
        " : right      : coral\n",
        "                                   a coral is not the right  : amount     : amount\n",
        "                              coral is not the right amount  : of         : of\n",
        "                                 is not the right amount of  : sunlight   : water\n",
        "                           not the right amount of sunlight  : to         : to\n",
        "                            the right amount of sunlight to  : go         : the\n",
        "                             right amount of sunlight to go  : through    : to\n",
        "                           amount of sunlight to go through  : photosynthesis : .\n",
        "                   of sunlight to go through photosynthesis  : ,          : .\n",
        "                    sunlight to go through photosynthesis ,  : when       : decrease\n",
        "                        to go through photosynthesis , when  : the        : the\n",
        "                       go through photosynthesis , when the  : temperature : wind\n",
        "              through photosynthesis , when the temperature  : of         : of\n",
        "                   photosynthesis , when the temperature of  : the        : the\n",
        "                              , when the temperature of the  : water      : coral\n",
        "                          when the temperature of the water  : is         : needs\n",
        "                            the temperature of the water is  : not        : also\n",
        "                            temperature of the water is not  : at         : the\n",
        "                                     of the water is not at  : the        : the\n",
        "                                    the water is not at the  : level      : coral\n",
        "                                  water is not at the level  : is         : that\n",
        "                                     is not at the level is  : to         : to\n",
        "                                     not at the level is to  : be         : .\n",
        "                                      at the level is to be  : ,          : the\n",
        "                                       the level is to be ,  : and        : but\n",
        "                                       level is to be , and  : if         : there\n",
        "                                          is to be , and if  : the        : it\n",
        "                                         to be , and if the  : zooxanthallae : water\n",
        "                              be , and if the zooxanthallae  : does       : dies\n",
        "                            , and if the zooxanthallae does  : not        : not\n",
        "                          and if the zooxanthallae does not  : the        : the\n",
        "                          if the zooxanthallae does not the  : coral      : coral\n",
        "                       the zooxanthallae does not the coral  : survive    : will\n",
        "                   zooxanthallae does not the coral survive  : .          : .\n",
        "                               does not the coral survive .  : <END>      : <END>\n",
        "                              not the coral survive . <END>  : <END>      : <END>\n",
        "                            the coral survive . <END> <END>  : <END>      : <END>\n"
       ]
      }
     ],
     "prompt_number": 396
    },
    {
     "cell_type": "markdown",
     "metadata": {},
     "source": [
      "Use Language Model to Initialize Supervised Convolutional Network\n",
      "-----------------------------------------------------------------"
     ]
    },
    {
     "cell_type": "code",
     "collapsed": false,
     "input": [
      "wts  = lmlayers[0].weights.copy()\n",
      "bias = lmlayers[0].bias.copy()\n",
      "\n",
      "VECTOR_SIZE = 50\n",
      "TD = int(len(xs) * 0.65)\n",
      "\n",
      "hidden_in  = VECTOR_SIZE * WINDOW_SIZE \n",
      "#hidden_out = (hidden_in + len(ys[0])) / 2\n",
      "hidden_out = 10\n",
      "\n",
      "semisup_layers = [\n",
      "        ConvolutionalLayer(len(xs[0]),  hidden_in,  activation_fn = \"tanh\", momentum=0.0, convolutions=WINDOW_SIZE, \n",
      "                           weights = wts, bias=bias),\n",
      "        Layer(             hidden_in,   len(ys[0]), activation_fn = \"tanh\", momentum=0.5),  \n",
      "    ]\n",
      "\n",
      "# With low freq classes and convolutional layers, use a batch_size == 1 and NO momentum in that layer\n",
      "semisup_nn = MLP(semisup_layers, learning_rate=0.004, weight_decay=0.0, epochs=100, batch_size=1,\n",
      "             lr_increase_multiplier=1.2, lr_decrease_multiplier=0.6)\n",
      "\n",
      "semisup_nn.fit(xs[:TD], ys[:TD], epochs=1000)"
     ],
     "language": "python",
     "metadata": {},
     "outputs": [
      {
       "output_type": "stream",
       "stream": "stdout",
       "text": [
        "MSE for epoch 0 is 0.11291663 \tMAE for epoch 0 is 0.09304454 \tlearning rate is 0.004\n",
        "MSE for epoch 1 is 0.09664253"
       ]
      },
      {
       "output_type": "stream",
       "stream": "stdout",
       "text": [
        " \tMAE for epoch 1 is 0.07371488 \tlearning rate is 0.004\n",
        "MSE for epoch 2 is 0.09621828"
       ]
      },
      {
       "output_type": "stream",
       "stream": "stdout",
       "text": [
        " \tMAE for epoch 2 is 0.06966588 \tlearning rate is 0.0048\n",
        "MSE for epoch 3 is 0.09569226"
       ]
      },
      {
       "output_type": "stream",
       "stream": "stdout",
       "text": [
        " \tMAE for epoch 3 is 0.06360759 \tlearning rate is 0.00576\n",
        "MSE for epoch 4 is 0.10101406"
       ]
      },
      {
       "output_type": "stream",
       "stream": "stdout",
       "text": [
        " \tMAE for epoch 4 is 0.06576769 \tlearning rate is 0.006912\n",
        "MSE for epoch 5 is 0.09341127"
       ]
      },
      {
       "output_type": "stream",
       "stream": "stdout",
       "text": [
        " \tMAE for epoch 5 is 0.0606895 \tlearning rate is 0.0041472\n",
        "MSE for epoch 6 is 0.09659532"
       ]
      },
      {
       "output_type": "stream",
       "stream": "stdout",
       "text": [
        " \tMAE for epoch 6 is 0.06307122 \tlearning rate is 0.00497664\n",
        "MSE for epoch 7 is 0.08929732"
       ]
      },
      {
       "output_type": "stream",
       "stream": "stdout",
       "text": [
        " \tMAE for epoch 7 is 0.0574269 \tlearning rate is 0.002985984\n",
        "MSE for epoch 8 is 0.09047894"
       ]
      },
      {
       "output_type": "stream",
       "stream": "stdout",
       "text": [
        " \tMAE for epoch 8 is 0.06067753 \tlearning rate is 0.0035831808\n",
        "MSE for epoch 9 is 0.08582976"
       ]
      },
      {
       "output_type": "stream",
       "stream": "stdout",
       "text": [
        " \tMAE for epoch 9 is 0.05736612 \tlearning rate is 0.00214990848\n",
        "MSE for epoch 10 is 0.08543069"
       ]
      },
      {
       "output_type": "stream",
       "stream": "stdout",
       "text": [
        " \tMAE for epoch 10 is 0.05916199 \tlearning rate is 0.002579890176\n",
        "MSE for epoch 11 is 0.08279102"
       ]
      },
      {
       "output_type": "stream",
       "stream": "stdout",
       "text": [
        " \tMAE for epoch 11 is 0.05620614 \tlearning rate is 0.0015479341056\n",
        "MSE for epoch 12 is 0.0810606"
       ]
      },
      {
       "output_type": "stream",
       "stream": "stdout",
       "text": [
        " \tMAE for epoch 12 is 0.05488719 \tlearning rate is 0.00185752092672\n",
        "MSE for epoch 13 is 0.08289811"
       ]
      },
      {
       "output_type": "stream",
       "stream": "stdout",
       "text": [
        " \tMAE for epoch 13 is 0.05808923 \tlearning rate is 0.00222902511206\n",
        "MSE for epoch 14 is 0.07910587"
       ]
      },
      {
       "output_type": "stream",
       "stream": "stdout",
       "text": [
        " \tMAE for epoch 14 is 0.05553626 \tlearning rate is 0.00133741506724\n",
        "MSE for epoch 15 is 0.07939663"
       ]
      },
      {
       "output_type": "stream",
       "stream": "stdout",
       "text": [
        " \tMAE for epoch 15 is 0.05624216 \tlearning rate is 0.00160489808069\n",
        "MSE for epoch 16 is 0.07608932"
       ]
      },
      {
       "output_type": "stream",
       "stream": "stdout",
       "text": [
        " \tMAE for epoch 16 is 0.05595014 \tlearning rate is 0.000962938848412\n",
        "MSE for epoch 17 is 0.07636028"
       ]
      },
      {
       "output_type": "stream",
       "stream": "stdout",
       "text": [
        " \tMAE for epoch 17 is 0.0569256 \tlearning rate is 0.00115552661809\n",
        "MSE for epoch 18 is 0.07255859"
       ]
      },
      {
       "output_type": "stream",
       "stream": "stdout",
       "text": [
        " \tMAE for epoch 18 is 0.05389118 \tlearning rate is 0.000693315970856\n",
        "MSE for epoch 19 is 0.07336621"
       ]
      },
      {
       "output_type": "stream",
       "stream": "stdout",
       "text": [
        " \tMAE for epoch 19 is 0.0559723 \tlearning rate is 0.000831979165028\n",
        "MSE for epoch 20 is 0.07058972"
       ]
      },
      {
       "output_type": "stream",
       "stream": "stdout",
       "text": [
        " \tMAE for epoch 20 is 0.05460054 \tlearning rate is 0.000499187499017\n",
        "MSE for epoch 21 is 0.07001397"
       ]
      },
      {
       "output_type": "stream",
       "stream": "stdout",
       "text": [
        " \tMAE for epoch 21 is 0.05418385 \tlearning rate is 0.00059902499882\n",
        "MSE for epoch 22 is 0.07075789"
       ]
      },
      {
       "output_type": "stream",
       "stream": "stdout",
       "text": [
        " \tMAE for epoch 22 is 0.0541412 \tlearning rate is 0.000718829998584\n",
        "MSE for epoch 23 is 0.07123449"
       ]
      },
      {
       "output_type": "stream",
       "stream": "stdout",
       "text": [
        " \tMAE for epoch 23 is 0.05473931 \tlearning rate is 0.000862595998301\n",
        "MSE for epoch 24 is 0.06801185"
       ]
      },
      {
       "output_type": "stream",
       "stream": "stdout",
       "text": [
        " \tMAE for epoch 24 is 0.05274196 \tlearning rate is 0.00051755759898\n",
        "MSE for epoch 25 is 0.06902553"
       ]
      },
      {
       "output_type": "stream",
       "stream": "stdout",
       "text": [
        " \tMAE for epoch 25 is 0.0538375 \tlearning rate is 0.000621069118776\n",
        "MSE for epoch 26 is 0.06764526"
       ]
      },
      {
       "output_type": "stream",
       "stream": "stdout",
       "text": [
        " \tMAE for epoch 26 is 0.05293103 \tlearning rate is 0.000372641471266\n",
        "MSE for epoch 27 is 0.06753012"
       ]
      },
      {
       "output_type": "stream",
       "stream": "stdout",
       "text": [
        " \tMAE for epoch 27 is 0.05328537 \tlearning rate is 0.000447169765519\n",
        "MSE for epoch 28 is 0.06637797"
       ]
      },
      {
       "output_type": "stream",
       "stream": "stdout",
       "text": [
        " \tMAE for epoch 28 is 0.05225153 \tlearning rate is 0.000268301859311\n",
        "MSE for epoch 29 is 0.06608541"
       ]
      },
      {
       "output_type": "stream",
       "stream": "stdout",
       "text": [
        " \tMAE for epoch 29 is 0.05231528 \tlearning rate is 0.000321962231174\n",
        "MSE for epoch 30 is 0.06522238"
       ]
      },
      {
       "output_type": "stream",
       "stream": "stdout",
       "text": [
        " \tMAE for epoch 30 is 0.05171915 \tlearning rate is 0.000193177338704\n",
        "MSE for epoch 31 is 0.06571418"
       ]
      },
      {
       "output_type": "stream",
       "stream": "stdout",
       "text": [
        " \tMAE for epoch 31 is 0.05179656 \tlearning rate is 0.000231812806445\n",
        "MSE for epoch 32 is 0.06503704"
       ]
      },
      {
       "output_type": "stream",
       "stream": "stdout",
       "text": [
        " \tMAE for epoch 32 is 0.05138268 \tlearning rate is 0.000139087683867\n",
        "MSE for epoch 33 is 0.06513584"
       ]
      },
      {
       "output_type": "stream",
       "stream": "stdout",
       "text": [
        " \tMAE for epoch 33 is 0.05157977 \tlearning rate is 0.00016690522064\n",
        "MSE for epoch 34 is 0.06460712"
       ]
      },
      {
       "output_type": "stream",
       "stream": "stdout",
       "text": [
        " \tMAE for epoch 34 is 0.05142229 \tlearning rate is 0.000100143132384\n",
        "MSE for epoch 35 is 0.06454759"
       ]
      },
      {
       "output_type": "stream",
       "stream": "stdout",
       "text": [
        " \tMAE for epoch 35 is 0.05175404 \tlearning rate is 0.000120171758861\n",
        "MSE for epoch 36 is 0.06437147"
       ]
      },
      {
       "output_type": "stream",
       "stream": "stdout",
       "text": [
        " \tMAE for epoch 36 is 0.05128384 \tlearning rate is 7.21030553167e-05\n",
        "MSE for epoch 37 is 0.06443914"
       ]
      },
      {
       "output_type": "stream",
       "stream": "stdout",
       "text": [
        " \tMAE for epoch 37 is 0.05146332 \tlearning rate is 8.652366638e-05\n",
        "MSE for epoch 38 is 0.06412694"
       ]
      },
      {
       "output_type": "stream",
       "stream": "stdout",
       "text": [
        " \tMAE for epoch 38 is 0.05122575 \tlearning rate is 5.1914199828e-05\n",
        "MSE for epoch 39 is 0.06426635"
       ]
      },
      {
       "output_type": "stream",
       "stream": "stdout",
       "text": [
        " \tMAE for epoch 39 is 0.05138674 \tlearning rate is 6.22970397936e-05\n",
        "MSE for epoch 40 is 0.06402384"
       ]
      },
      {
       "output_type": "stream",
       "stream": "stdout",
       "text": [
        " \tMAE for epoch 40 is 0.05127882 \tlearning rate is 3.73782238762e-05\n",
        "MSE for epoch 41 is 0.0640383"
       ]
      },
      {
       "output_type": "stream",
       "stream": "stdout",
       "text": [
        " \tMAE for epoch 41 is 0.05114317 \tlearning rate is 4.48538686514e-05\n",
        "MSE for epoch 42 is 0.06407173"
       ]
      },
      {
       "output_type": "stream",
       "stream": "stdout",
       "text": [
        " \tMAE for epoch 42 is 0.05114979 \tlearning rate is 5.38246423817e-05\n",
        "MSE for epoch 43 is 0.0639423"
       ]
      },
      {
       "output_type": "stream",
       "stream": "stdout",
       "text": [
        " \tMAE for epoch 43 is 0.05110298 \tlearning rate is 3.2294785429e-05\n",
        "MSE for epoch 44 is 0.06383485"
       ]
      },
      {
       "output_type": "stream",
       "stream": "stdout",
       "text": [
        " \tMAE for epoch 44 is 0.05109068 \tlearning rate is 3.87537425148e-05\n",
        "MSE for epoch 45 is 0.06396954"
       ]
      },
      {
       "output_type": "stream",
       "stream": "stdout",
       "text": [
        " \tMAE for epoch 45 is 0.05105195 \tlearning rate is 4.65044910178e-05\n",
        "MSE for epoch 46 is 0.0639796"
       ]
      },
      {
       "output_type": "stream",
       "stream": "stdout",
       "text": [
        " \tMAE for epoch 46 is 0.05126997 \tlearning rate is 5.58053892213e-05\n",
        "MSE for epoch 47 is 0.06381564"
       ]
      },
      {
       "output_type": "stream",
       "stream": "stdout",
       "text": [
        " \tMAE for epoch 47 is 0.05119767 \tlearning rate is 3.34832335328e-05\n",
        "MSE for epoch 48 is 0.06387609"
       ]
      },
      {
       "output_type": "stream",
       "stream": "stdout",
       "text": [
        " \tMAE for epoch 48 is 0.05104203 \tlearning rate is 4.01798802394e-05\n",
        "MSE for epoch 49 is 0.06386049"
       ]
      },
      {
       "output_type": "stream",
       "stream": "stdout",
       "text": [
        " \tMAE for epoch 49 is 0.05115292 \tlearning rate is 4.82158562872e-05\n",
        "MSE for epoch 50 is 0.06368089"
       ]
      },
      {
       "output_type": "stream",
       "stream": "stdout",
       "text": [
        " \tMAE for epoch 50 is 0.05111668 \tlearning rate is 2.89295137723e-05\n",
        "MSE for epoch 51 is 0.06366359"
       ]
      },
      {
       "output_type": "stream",
       "stream": "stdout",
       "text": [
        " \tMAE for epoch 51 is 0.05134532 \tlearning rate is 3.47154165268e-05\n",
        "MSE for epoch 52 is 0.06367188"
       ]
      },
      {
       "output_type": "stream",
       "stream": "stdout",
       "text": [
        " \tMAE for epoch 52 is 0.05119476 \tlearning rate is 2.08292499161e-05\n",
        "MSE for epoch 53 is 0.06367148"
       ]
      },
      {
       "output_type": "stream",
       "stream": "stdout",
       "text": [
        " \tMAE for epoch 53 is 0.05115731 \tlearning rate is 2.49950998993e-05\n",
        "MSE for epoch 54 is 0.06368047"
       ]
      },
      {
       "output_type": "stream",
       "stream": "stdout",
       "text": [
        " \tMAE for epoch 54 is 0.05107475 \tlearning rate is 2.99941198792e-05\n",
        "MSE for epoch 55 is 0.06365881"
       ]
      },
      {
       "output_type": "stream",
       "stream": "stdout",
       "text": [
        " \tMAE for epoch 55 is 0.05114662 \tlearning rate is 3.5992943855e-05\n",
        "MSE for epoch 56 is 0.06358833"
       ]
      },
      {
       "output_type": "stream",
       "stream": "stdout",
       "text": [
        " \tMAE for epoch 56 is 0.05094934 \tlearning rate is 2.1595766313e-05\n",
        "MSE for epoch 57 is 0.06359041"
       ]
      },
      {
       "output_type": "stream",
       "stream": "stdout",
       "text": [
        " \tMAE for epoch 57 is 0.05124851 \tlearning rate is 2.59149195756e-05\n",
        "MSE for epoch 58 is 0.06352947"
       ]
      },
      {
       "output_type": "stream",
       "stream": "stdout",
       "text": [
        " \tMAE for epoch 58 is 0.05116028 \tlearning rate is 1.55489517454e-05\n",
        "MSE for epoch 59 is 0.06353299"
       ]
      },
      {
       "output_type": "stream",
       "stream": "stdout",
       "text": [
        " \tMAE for epoch 59 is 0.05104384 \tlearning rate is 1.86587420944e-05\n",
        "MSE for epoch 60 is 0.0635293"
       ]
      },
      {
       "output_type": "stream",
       "stream": "stdout",
       "text": [
        " \tMAE for epoch 60 is 0.05097652 \tlearning rate is 2.23904905133e-05\n",
        "MSE for epoch 61 is 0.06355291"
       ]
      },
      {
       "output_type": "stream",
       "stream": "stdout",
       "text": [
        " \tMAE for epoch 61 is 0.05121737 \tlearning rate is 2.6868588616e-05\n",
        "MSE for epoch 62 is 0.06348402"
       ]
      },
      {
       "output_type": "stream",
       "stream": "stdout",
       "text": [
        " \tMAE for epoch 62 is 0.05104005 \tlearning rate is 1.61211531696e-05\n",
        "MSE for epoch 63 is 0.06349439"
       ]
      },
      {
       "output_type": "stream",
       "stream": "stdout",
       "text": [
        " \tMAE for epoch 63 is 0.05112991 \tlearning rate is 1.93453838035e-05\n",
        "MSE for epoch 64 is 0.0634289"
       ]
      },
      {
       "output_type": "stream",
       "stream": "stdout",
       "text": [
        " \tMAE for epoch 64 is 0.05094208 \tlearning rate is 1.16072302821e-05\n",
        "MSE for epoch 65 is 0.06344519"
       ]
      },
      {
       "output_type": "stream",
       "stream": "stdout",
       "text": [
        " \tMAE for epoch 65 is 0.05105071 \tlearning rate is 1.39286763385e-05\n",
        "MSE for epoch 66 is 0.0633975"
       ]
      },
      {
       "output_type": "stream",
       "stream": "stdout",
       "text": [
        " \tMAE for epoch 66 is 0.05110271 \tlearning rate is 8.35720580311e-06\n",
        "MSE for epoch 67 is 0.06335846"
       ]
      },
      {
       "output_type": "stream",
       "stream": "stdout",
       "text": [
        " \tMAE for epoch 67 is 0.05098573 \tlearning rate is 5.01432348187e-06\n",
        "MSE for epoch 68 is 0.06336658"
       ]
      },
      {
       "output_type": "stream",
       "stream": "stdout",
       "text": [
        " \tMAE for epoch 68 is 0.05101654 \tlearning rate is 6.01718817824e-06\n",
        "MSE for epoch 69 is 0.06334684"
       ]
      },
      {
       "output_type": "stream",
       "stream": "stdout",
       "text": [
        " \tMAE for epoch 69 is 0.05105101 \tlearning rate is 3.61031290694e-06\n",
        "MSE for epoch 70 is 0.06333263"
       ]
      },
      {
       "output_type": "stream",
       "stream": "stdout",
       "text": [
        " \tMAE for epoch 70 is 0.05118131 \tlearning rate is 2.16618774417e-06\n",
        "MSE for epoch 71 is 0.06332578"
       ]
      },
      {
       "output_type": "stream",
       "stream": "stdout",
       "text": [
        " \tMAE for epoch 71 is 0.05112408 \tlearning rate is 1.2997126465e-06\n",
        "MSE for epoch 72 is 0.06332597"
       ]
      },
      {
       "output_type": "stream",
       "stream": "stdout",
       "text": [
        " \tMAE for epoch 72 is 0.05108005 \tlearning rate is 1.5596551758e-06\n",
        "MSE for epoch 73 is 0.06332687"
       ]
      },
      {
       "output_type": "stream",
       "stream": "stdout",
       "text": [
        " \tMAE for epoch 73 is 0.05105241 \tlearning rate is 1.87158621096e-06\n",
        "MSE for epoch 74 is 0.06332835"
       ]
      },
      {
       "output_type": "stream",
       "stream": "stdout",
       "text": [
        " \tMAE for epoch 74 is 0.05104824 \tlearning rate is 2.24590345315e-06\n",
        "MSE for epoch 75 is 0.06333067"
       ]
      },
      {
       "output_type": "stream",
       "stream": "stdout",
       "text": [
        " \tMAE for epoch 75 is 0.05101414 \tlearning rate is 2.69508414378e-06\n",
        "MSE for epoch 76 is 0.06333323"
       ]
      },
      {
       "output_type": "stream",
       "stream": "stdout",
       "text": [
        " \tMAE for epoch 76 is 0.05103427 \tlearning rate is 3.23410097254e-06\n",
        "MSE for epoch 77 is 0.06332072"
       ]
      },
      {
       "output_type": "stream",
       "stream": "stdout",
       "text": [
        " \tMAE for epoch 77 is 0.05101763 \tlearning rate is 1.94046058352e-06\n",
        "MSE for epoch 78 is 0.06332302"
       ]
      },
      {
       "output_type": "stream",
       "stream": "stdout",
       "text": [
        " \tMAE for epoch 78 is 0.05102799 \tlearning rate is 2.32855270023e-06\n",
        "MSE for epoch 79 is 0.06331359"
       ]
      },
      {
       "output_type": "stream",
       "stream": "stdout",
       "text": [
        " \tMAE for epoch 79 is 0.05098785 \tlearning rate is 1.39713162014e-06\n",
        "MSE for epoch 80 is 0.06331543"
       ]
      },
      {
       "output_type": "stream",
       "stream": "stdout",
       "text": [
        " \tMAE for epoch 80 is 0.0510196 \tlearning rate is 1.67655794416e-06\n",
        "MSE for epoch 81 is 0.06330909"
       ]
      },
      {
       "output_type": "stream",
       "stream": "stdout",
       "text": [
        " \tMAE for epoch 81 is 0.0510242 \tlearning rate is 1.0059347665e-06\n",
        "MSE for epoch 82 is 0.06330512"
       ]
      },
      {
       "output_type": "stream",
       "stream": "stdout",
       "text": [
        " \tMAE for epoch 82 is 0.05102006 \tlearning rate is 6.03560859899e-07\n",
        "MSE for epoch 83 is 0.06330576"
       ]
      },
      {
       "output_type": "stream",
       "stream": "stdout",
       "text": [
        " \tMAE for epoch 83 is 0.05101657 \tlearning rate is 7.24273031879e-07\n",
        "MSE for epoch 84 is 0.0633066"
       ]
      },
      {
       "output_type": "stream",
       "stream": "stdout",
       "text": [
        " \tMAE for epoch 84 is 0.05101611 \tlearning rate is 8.69127638255e-07\n",
        "MSE for epoch 85 is 0.06330728"
       ]
      },
      {
       "output_type": "stream",
       "stream": "stdout",
       "text": [
        " \tMAE for epoch 85 is 0.05097484 \tlearning rate is 1.04295316591e-06\n",
        "MSE for epoch 86 is 0.06330863"
       ]
      },
      {
       "output_type": "stream",
       "stream": "stdout",
       "text": [
        " \tMAE for epoch 86 is 0.05101586 \tlearning rate is 1.25154379909e-06\n",
        "MSE for epoch 87 is 0.06330385"
       ]
      },
      {
       "output_type": "stream",
       "stream": "stdout",
       "text": [
        " \tMAE for epoch 87 is 0.0510113 \tlearning rate is 7.50926279452e-07\n",
        "MSE for epoch 88 is 0.0633047"
       ]
      },
      {
       "output_type": "stream",
       "stream": "stdout",
       "text": [
        " \tMAE for epoch 88 is 0.05101268 \tlearning rate is 9.01111535343e-07\n",
        "MSE for epoch 89 is 0.06330105"
       ]
      },
      {
       "output_type": "stream",
       "stream": "stdout",
       "text": [
        " \tMAE for epoch 89 is 0.05099957 \tlearning rate is 5.40666921206e-07\n",
        "MSE for epoch 90 is 0.06330165"
       ]
      },
      {
       "output_type": "stream",
       "stream": "stdout",
       "text": [
        " \tMAE for epoch 90 is 0.05098768 \tlearning rate is 6.48800305447e-07\n",
        "MSE for epoch 91 is 0.06330225"
       ]
      },
      {
       "output_type": "stream",
       "stream": "stdout",
       "text": [
        " \tMAE for epoch 91 is 0.05101949 \tlearning rate is 7.78560366536e-07\n",
        "MSE for epoch 92 is 0.06329936"
       ]
      },
      {
       "output_type": "stream",
       "stream": "stdout",
       "text": [
        " \tMAE for epoch 92 is 0.05100587 \tlearning rate is 4.67136219922e-07\n",
        "MSE for epoch 93 is 0.06329988"
       ]
      },
      {
       "output_type": "stream",
       "stream": "stdout",
       "text": [
        " \tMAE for epoch 93 is 0.05099368 \tlearning rate is 5.60563463906e-07\n",
        "MSE for epoch 94 is 0.06330057"
       ]
      },
      {
       "output_type": "stream",
       "stream": "stdout",
       "text": [
        " \tMAE for epoch 94 is 0.05100152 \tlearning rate is 6.72676156687e-07\n",
        "MSE for epoch 95 is 0.06329773"
       ]
      },
      {
       "output_type": "stream",
       "stream": "stdout",
       "text": [
        " \tMAE for epoch 95 is 0.05098011 \tlearning rate is 4.03605694012e-07\n",
        "MSE for epoch 96 is 0.06329834"
       ]
      },
      {
       "output_type": "stream",
       "stream": "stdout",
       "text": [
        " \tMAE for epoch 96 is 0.05100428 \tlearning rate is 4.84326832815e-07\n",
        "MSE for epoch 97 is 0.06329639"
       ]
      },
      {
       "output_type": "stream",
       "stream": "stdout",
       "text": [
        " \tMAE for epoch 97 is 0.0509925 \tlearning rate is 2.90596099689e-07\n",
        "MSE for epoch 98 is 0.06329672"
       ]
      },
      {
       "output_type": "stream",
       "stream": "stdout",
       "text": [
        " \tMAE for epoch 98 is 0.05099037 \tlearning rate is 3.48715319627e-07\n",
        "MSE for epoch 99 is 0.06329712"
       ]
      },
      {
       "output_type": "stream",
       "stream": "stdout",
       "text": [
        " \tMAE for epoch 99 is 0.05101401 \tlearning rate is 4.18458383552e-07\n"
       ]
      },
      {
       "ename": "KeyboardInterrupt",
       "evalue": "",
       "output_type": "pyerr",
       "traceback": [
        "\u001b[0;31m---------------------------------------------------------------------------\u001b[0m\n\u001b[0;31mKeyboardInterrupt\u001b[0m                         Traceback (most recent call last)",
        "\u001b[0;32m<ipython-input-399-dc4bcdda4f46>\u001b[0m in \u001b[0;36m<module>\u001b[0;34m()\u001b[0m\n\u001b[1;32m     19\u001b[0m              lr_increase_multiplier=1.2, lr_decrease_multiplier=0.6)\n\u001b[1;32m     20\u001b[0m \u001b[0;34m\u001b[0m\u001b[0m\n\u001b[0;32m---> 21\u001b[0;31m \u001b[0msemisup_nn\u001b[0m\u001b[0;34m.\u001b[0m\u001b[0mfit\u001b[0m\u001b[0;34m(\u001b[0m\u001b[0mxs\u001b[0m\u001b[0;34m[\u001b[0m\u001b[0;34m:\u001b[0m\u001b[0mTD\u001b[0m\u001b[0;34m]\u001b[0m\u001b[0;34m,\u001b[0m \u001b[0mys\u001b[0m\u001b[0;34m[\u001b[0m\u001b[0;34m:\u001b[0m\u001b[0mTD\u001b[0m\u001b[0;34m]\u001b[0m\u001b[0;34m,\u001b[0m \u001b[0mepochs\u001b[0m\u001b[0;34m=\u001b[0m\u001b[0;36m1000\u001b[0m\u001b[0;34m)\u001b[0m\u001b[0;34m\u001b[0m\u001b[0m\n\u001b[0m",
        "\u001b[0;32m/Users/simon.hughes/GitHub/NlpResearch/DeepLearning/MyCode/DeepNeuralNetwork.py\u001b[0m in \u001b[0;36mfit\u001b[0;34m(self, xs, ys, min_error, epochs, batch_size)\u001b[0m\n\u001b[1;32m    114\u001b[0m \u001b[0;34m\u001b[0m\u001b[0m\n\u001b[1;32m    115\u001b[0m                 mini_batch_errors, gradients = self.__compute_gradient__(mini_batch_in, mini_batch_out,\n\u001b[0;32m--> 116\u001b[0;31m                                                                          self.layers, self.learning_rate)\n\u001b[0m\u001b[1;32m    117\u001b[0m                 \u001b[0;32mif\u001b[0m \u001b[0mnp\u001b[0m\u001b[0;34m.\u001b[0m\u001b[0many\u001b[0m\u001b[0;34m(\u001b[0m\u001b[0mnp\u001b[0m\u001b[0;34m.\u001b[0m\u001b[0misnan\u001b[0m\u001b[0;34m(\u001b[0m\u001b[0mmini_batch_errors\u001b[0m\u001b[0;34m)\u001b[0m\u001b[0;34m)\u001b[0m\u001b[0;34m:\u001b[0m\u001b[0;34m\u001b[0m\u001b[0m\n\u001b[1;32m    118\u001b[0m                     \u001b[0;32mprint\u001b[0m \u001b[0;34m\"Nans in errors. Stopping\"\u001b[0m\u001b[0;34m\u001b[0m\u001b[0m\n",
        "\u001b[0;32m/Users/simon.hughes/GitHub/NlpResearch/DeepLearning/MyCode/DeepNeuralNetwork.py\u001b[0m in \u001b[0;36m__compute_gradient__\u001b[0;34m(self, input_vectors, outputs, layers, learning_rate, input_masks)\u001b[0m\n\u001b[1;32m    186\u001b[0m         \u001b[0mgradients\u001b[0m \u001b[0;34m=\u001b[0m \u001b[0;34m[\u001b[0m\u001b[0;34m]\u001b[0m\u001b[0;34m\u001b[0m\u001b[0m\n\u001b[1;32m    187\u001b[0m         \u001b[0;32mfor\u001b[0m \u001b[0mi\u001b[0m \u001b[0;32min\u001b[0m \u001b[0mrange\u001b[0m\u001b[0;34m(\u001b[0m\u001b[0mlen\u001b[0m\u001b[0;34m(\u001b[0m\u001b[0mlayers\u001b[0m\u001b[0;34m)\u001b[0m\u001b[0;34m)\u001b[0m\u001b[0;34m:\u001b[0m\u001b[0;34m\u001b[0m\u001b[0m\n\u001b[0;32m--> 188\u001b[0;31m             \u001b[0mwtdelta\u001b[0m\u001b[0;34m,\u001b[0m \u001b[0mbiasdelta\u001b[0m \u001b[0;34m=\u001b[0m \u001b[0mlayers\u001b[0m\u001b[0;34m[\u001b[0m\u001b[0mi\u001b[0m\u001b[0;34m]\u001b[0m\u001b[0;34m.\u001b[0m\u001b[0mgradients\u001b[0m\u001b[0;34m(\u001b[0m\u001b[0mdeltas\u001b[0m\u001b[0;34m[\u001b[0m\u001b[0mi\u001b[0m\u001b[0;34m]\u001b[0m\u001b[0;34m,\u001b[0m \u001b[0mlayer_inputs\u001b[0m\u001b[0;34m[\u001b[0m\u001b[0mi\u001b[0m\u001b[0;34m]\u001b[0m\u001b[0;34m)\u001b[0m\u001b[0;34m\u001b[0m\u001b[0m\n\u001b[0m\u001b[1;32m    189\u001b[0m             \u001b[0mgradients\u001b[0m\u001b[0;34m.\u001b[0m\u001b[0mappend\u001b[0m\u001b[0;34m(\u001b[0m \u001b[0;34m(\u001b[0m\u001b[0mlearning_rate\u001b[0m \u001b[0;34m*\u001b[0m \u001b[0mwtdelta\u001b[0m\u001b[0;34m,\u001b[0m \u001b[0mlearning_rate\u001b[0m \u001b[0;34m*\u001b[0m \u001b[0mbiasdelta\u001b[0m\u001b[0;34m)\u001b[0m \u001b[0;34m)\u001b[0m\u001b[0;34m\u001b[0m\u001b[0m\n\u001b[1;32m    190\u001b[0m         \u001b[0;34m\"\"\" return a list of errors (one item per row in mini batch) \"\"\"\u001b[0m\u001b[0;34m\u001b[0m\u001b[0m\n",
        "\u001b[0;32m/Users/simon.hughes/GitHub/NlpResearch/DeepLearning/MyCode/MLPLayers.pyc\u001b[0m in \u001b[0;36mgradients\u001b[0;34m(self, delta, inputs)\u001b[0m\n\u001b[1;32m    225\u001b[0m             \u001b[0mcon_delta\u001b[0m \u001b[0;34m=\u001b[0m \u001b[0mdelta\u001b[0m\u001b[0;34m[\u001b[0m\u001b[0mc\u001b[0m \u001b[0;34m*\u001b[0m \u001b[0min_rows\u001b[0m\u001b[0;34m:\u001b[0m \u001b[0;34m(\u001b[0m\u001b[0mc\u001b[0m\u001b[0;34m+\u001b[0m\u001b[0;36m1\u001b[0m\u001b[0;34m)\u001b[0m \u001b[0;34m*\u001b[0m \u001b[0min_rows\u001b[0m\u001b[0;34m,\u001b[0m\u001b[0;34m:\u001b[0m\u001b[0;34m]\u001b[0m\u001b[0;34m\u001b[0m\u001b[0m\n\u001b[1;32m    226\u001b[0m \u001b[0;34m\u001b[0m\u001b[0m\n\u001b[0;32m--> 227\u001b[0;31m             \u001b[0mwtg\u001b[0m \u001b[0;34m=\u001b[0m \u001b[0;34m(\u001b[0m\u001b[0mnp\u001b[0m\u001b[0;34m.\u001b[0m\u001b[0mdot\u001b[0m\u001b[0;34m(\u001b[0m\u001b[0mcon_delta\u001b[0m\u001b[0;34m,\u001b[0m \u001b[0mcon_inputs_T\u001b[0m\u001b[0;34m)\u001b[0m \u001b[0;34m/\u001b[0m \u001b[0mfrows\u001b[0m\u001b[0;34m)\u001b[0m\u001b[0;34m\u001b[0m\u001b[0m\n\u001b[0m\u001b[1;32m    228\u001b[0m             \u001b[0mbg\u001b[0m \u001b[0;34m=\u001b[0m \u001b[0mfull_bias\u001b[0m\u001b[0;34m[\u001b[0m\u001b[0mc\u001b[0m \u001b[0;34m*\u001b[0m \u001b[0min_rows\u001b[0m\u001b[0;34m:\u001b[0m \u001b[0;34m(\u001b[0m\u001b[0mc\u001b[0m\u001b[0;34m+\u001b[0m\u001b[0;36m1\u001b[0m\u001b[0;34m)\u001b[0m \u001b[0;34m*\u001b[0m \u001b[0min_rows\u001b[0m\u001b[0;34m,\u001b[0m\u001b[0;34m:\u001b[0m\u001b[0;34m]\u001b[0m\u001b[0;34m\u001b[0m\u001b[0m\n\u001b[1;32m    229\u001b[0m \u001b[0;34m\u001b[0m\u001b[0m\n",
        "\u001b[0;31mKeyboardInterrupt\u001b[0m: "
       ]
      }
     ],
     "prompt_number": 399
    },
    {
     "cell_type": "code",
     "collapsed": false,
     "input": [
      "print \"Semi-Supervised: Training Accuracy\"\n",
      "evaluate_nn(semisup_nn, xs[:TD], ys[:TD])\n",
      "\n",
      "print \"Semi-Supervised: Validation Accuracy\"\n",
      "evaluate_nn(semisup_nn, xs[TD:], ys[TD:])"
     ],
     "language": "python",
     "metadata": {},
     "outputs": [
      {
       "output_type": "stream",
       "stream": "stdout",
       "text": [
        "Semi-Supervised: Training Accuracy\n",
        "MAE:"
       ]
      },
      {
       "output_type": "stream",
       "stream": "stdout",
       "text": [
        " 0.0509998264022 MAE Constant: "
       ]
      },
      {
       "output_type": "stream",
       "stream": "stdout",
       "text": [
        "0.132481281892\n",
        "\n",
        "Number of records           : 20969\n",
        "Number of records for class : 1389\n",
        "Proportion                  : 0.0662406409462\n",
        "\n",
        "Recall                     : 0.796256299496\n",
        "Precision                  : 0.938083121289\n",
        "F1 score                   : 0.861370716511\n",
        "ACCURACY:                  : 98.3022557108%\n",
        "\n",
        "\n",
        "Semi-Supervised: Validation Accuracy\n",
        "MAE:"
       ]
      },
      {
       "output_type": "stream",
       "stream": "stdout",
       "text": [
        " 0.04395940415 MAE Constant: 0.125575628764\n",
        "\n",
        "Number of records           : 11292\n",
        "Number of records for class : 709\n",
        "Proportion                  : 0.0627878143819\n",
        "\n",
        "Recall                     : 0.818053596615\n",
        "Precision                  : 0.935483870968\n",
        "F1 score                   : 0.872836719338\n",
        "ACCURACY:                  : 98.5033652143%\n",
        "\n",
        "\n"
       ]
      }
     ],
     "prompt_number": 400
    },
    {
     "cell_type": "code",
     "collapsed": false,
     "input": [
      "#lmnn1 - first network - relu units\n",
      "\n",
      "VECTOR_SIZE = 50\n",
      "TD = int(len(xs) * 0.65)\n",
      "\n",
      "hidden_in  = VECTOR_SIZE * WINDOW_SIZE \n",
      "\n",
      "projection_layers = [\n",
      "        ConvolutionalLayer(len(xs[0]),  hidden_in,  activation_fn = \"tanh\", momentum=0.0, convolutions=WINDOW_SIZE, \n",
      "                           weights = semisup_layers[0].weights.copy(), bias=semisup_layers[0].bias.copy())\n",
      "]\n",
      "projection_nn = MLP(projection_layers)"
     ],
     "language": "python",
     "metadata": {},
     "outputs": [],
     "prompt_number": 401
    },
    {
     "cell_type": "code",
     "collapsed": false,
     "input": [
      "xs_proj = projection_nn.predict(xs)"
     ],
     "language": "python",
     "metadata": {},
     "outputs": [],
     "prompt_number": 402
    },
    {
     "cell_type": "code",
     "collapsed": false,
     "input": [
      "\n",
      "ys_flat = map(lambda a: a[0], ys)\n",
      "\n",
      "cls = LinearSVC(C=1.0)\n",
      "cls.fit(xs_proj[:TD], ys_flat[:TD])"
     ],
     "language": "python",
     "metadata": {},
     "outputs": [
      {
       "metadata": {},
       "output_type": "pyout",
       "prompt_number": 406,
       "text": [
        "LinearSVC(C=1.0, class_weight=None, dual=True, fit_intercept=True,\n",
        "     intercept_scaling=1, loss='l2', multi_class='ovr', penalty='l2',\n",
        "     random_state=None, tol=0.0001, verbose=0)"
       ]
      }
     ],
     "prompt_number": 406
    },
    {
     "cell_type": "code",
     "collapsed": false,
     "input": [
      "tdpred = cls.predict(xs_proj[:TD])\n",
      "vdpred = cls.predict(xs_proj[TD:])"
     ],
     "language": "python",
     "metadata": {},
     "outputs": [],
     "prompt_number": 418
    },
    {
     "cell_type": "code",
     "collapsed": false,
     "input": [
      "print \"TD\"\n",
      "print rfp(ys_flat[:TD], tdpred)\n",
      "\n",
      "print \"VD\"\n",
      "print rfp(ys_flat[TD:], vdpred)\n"
     ],
     "language": "python",
     "metadata": {},
     "outputs": [
      {
       "output_type": "stream",
       "stream": "stdout",
       "text": [
        "TD\n",
        "Number of records           : 20969\n",
        "Number of records for class : 1389\n",
        "Proportion                  : 0.0662406409462\n",
        "\n",
        "Recall                     : 0.799856011519\n",
        "Precision                  : 0.901054339011\n",
        "F1 score                   : 0.847444698703\n",
        "ACCURACY:                  : 98.092422147%\n",
        "\n"
       ]
      },
      {
       "output_type": "stream",
       "stream": "stdout",
       "text": [
        "\n",
        "VD\n",
        "Number of records           : 11292\n",
        "Number of records for class : 709\n",
        "Proportion                  : 0.0627878143819\n",
        "\n",
        "Recall                     : 0.823695345557\n",
        "Precision                  : 0.916797488226\n",
        "F1 score                   : 0.867756315007\n",
        "ACCURACY:                  : 98.4236627701%\n",
        "\n",
        "\n"
       ]
      }
     ],
     "prompt_number": 419
    },
    {
     "cell_type": "code",
     "collapsed": false,
     "input": [
      "TD = int(len(xs) * 0.65)\n",
      "ys_flat = map(lambda a: a[0], ys)\n",
      "\n",
      "cls2 = LinearSVC(C=1.0)\n",
      "cls2.fit(xs[:TD], ys_flat[:TD])"
     ],
     "language": "python",
     "metadata": {},
     "outputs": [
      {
       "metadata": {},
       "output_type": "pyout",
       "prompt_number": 21,
       "text": [
        "LinearSVC(C=1.0, class_weight=None, dual=True, fit_intercept=True,\n",
        "     intercept_scaling=1, loss='l2', multi_class='ovr', penalty='l2',\n",
        "     random_state=None, tol=0.0001, verbose=0)"
       ]
      }
     ],
     "prompt_number": 21
    },
    {
     "cell_type": "code",
     "collapsed": false,
     "input": [
      "from ResultsHelper import rfp\n",
      "\n",
      "tdpred2 = cls2.predict(xs[:TD])\n",
      "vdpred2 = cls2.predict(xs[TD:])\n",
      "\n",
      "print \"TD\"\n",
      "print rfp(ys_flat[:TD], tdpred2)\n",
      "\n",
      "print \"VD\"\n",
      "print rfp(ys_flat[TD:], vdpred2)"
     ],
     "language": "python",
     "metadata": {},
     "outputs": [
      {
       "output_type": "stream",
       "stream": "stdout",
       "text": [
        "TD\n",
        "Number of records           : 21881\n",
        "Number of records for class : 1399\n",
        "Proportion                  : 0.0639367487775\n",
        "\n",
        "Recall                     : 0.892065761258\n",
        "Precision                  : 0.95778971604\n",
        "F1 score                   : 0.923760177646\n",
        "ACCURACY:                  : 99.0585439422%\n",
        "\n"
       ]
      },
      {
       "output_type": "stream",
       "stream": "stdout",
       "text": [
        "\n",
        "VD\n",
        "Number of records           : 11783\n",
        "Number of records for class : 716\n",
        "Proportion                  : 0.0607655096325\n",
        "\n",
        "Recall                     : 0.832402234637\n",
        "Precision                  : 0.884272997033\n",
        "F1 score                   : 0.857553956835\n",
        "ACCURACY:                  : 98.3196130018%\n",
        "\n",
        "\n"
       ]
      }
     ],
     "prompt_number": 24
    },
    {
     "cell_type": "code",
     "collapsed": false,
     "input": [
      "len(ys_flat[TD:]), len(vdpred2), len(xs), len(xs[TD:])"
     ],
     "language": "python",
     "metadata": {},
     "outputs": [
      {
       "metadata": {},
       "output_type": "pyout",
       "prompt_number": 439,
       "text": [
        "(10380, 11783, 33664, 11783)"
       ]
      }
     ],
     "prompt_number": 439
    },
    {
     "cell_type": "code",
     "collapsed": false,
     "input": [
      "\n",
      "len(ys_flat), len(xs), len(ys)"
     ],
     "language": "python",
     "metadata": {},
     "outputs": [
      {
       "metadata": {},
       "output_type": "pyout",
       "prompt_number": 442,
       "text": [
        "(33664, 33664, 33664)"
       ]
      }
     ],
     "prompt_number": 442
    },
    {
     "cell_type": "code",
     "collapsed": false,
     "input": [],
     "language": "python",
     "metadata": {},
     "outputs": []
    }
   ],
   "metadata": {}
  }
 ]
}