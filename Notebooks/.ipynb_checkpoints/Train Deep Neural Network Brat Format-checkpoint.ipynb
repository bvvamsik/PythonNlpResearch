{
 "metadata": {
  "name": "",
  "signature": "sha256:e4c49bd27d6f1d9e5c954391174d09be1106accb0d22c4734f2d101b921e3fb8"
 },
 "nbformat": 3,
 "nbformat_minor": 0,
 "worksheets": [
  {
   "cells": [
    {
     "cell_type": "heading",
     "level": 1,
     "metadata": {},
     "source": [
      "Train a Window Based Classier on the Coral Bleaching Data"
     ]
    },
    {
     "cell_type": "markdown",
     "metadata": {},
     "source": [
      "Setup:\n",
      "------"
     ]
    },
    {
     "cell_type": "code",
     "collapsed": false,
     "input": [
      "\"\"\" Imports \"\"\"\n",
      "from collections import defaultdict\n",
      "\n",
      "import numpy as np\n",
      "from gensim import matutils\n",
      "from numpy import random\n",
      "\n",
      "from Metrics import rpf1a\n",
      "from Rpfa import rpfa, weighted_mean_rpfa\n",
      "from BrattEssay import load_bratt_essays\n",
      "from WindowSplitter import split_into_windows\n",
      "\n",
      "from IdGenerator import IdGenerator\n",
      "from IterableFP import flatten\n",
      "\n",
      "from nltk import PorterStemmer\n",
      "from stanford_parser import parser\n",
      "\n",
      "from DeepNeuralNetwork import MLP\n",
      "from MLPLayers import ConvolutionalLayer, Layer\n",
      "\n",
      "\"\"\" TODO \n",
      "    Try dependency parse features from this python dependency parser: https://github.com/syllog1sm/redshift\n",
      "\"\"\"\n",
      "\n",
      "\"\"\" Settings \"\"\"\n",
      "\"\"\" Start Script \"\"\"\n",
      "WINDOW_SIZE = 7\n",
      "MID_IX = int(round(WINDOW_SIZE / 2.0) - 1)\n",
      "\n",
      "MIN_SENTENCE_FREQ = 10\n",
      "PCT_VALIDATION  = 0.2\n",
      "MIN_FEAT_FREQ = 5     #15 best so far\n",
      "PCT_VALIDATION = 0.25\n",
      "\n",
      "SENTENCE_START = \"<START>\"\n",
      "SENTENCE_END   = \"<END>\"\n",
      "STEM = True"
     ],
     "language": "python",
     "metadata": {},
     "outputs": [],
     "prompt_number": 312
    },
    {
     "cell_type": "markdown",
     "metadata": {},
     "source": [
      "Load the Essays\n",
      "---------------"
     ]
    },
    {
     "cell_type": "code",
     "collapsed": true,
     "input": [
      "\"\"\" Load Essays \"\"\"\n",
      "essays = load_bratt_essays(\"/Users/simon.hughes/Google Drive/Phd/Data/CoralBleaching/BrattData/Merged/\")\n",
      "\n",
      "all_codes = set()\n",
      "all_words = []\n",
      "\n",
      "for essay in essays:\n",
      "    for sentence in essay.tagged_sentences:\n",
      "        for w, tags in sentence:\n",
      "            all_words.append(w)\n",
      "            all_codes.update(tags)\n",
      "                \n",
      "# Correct miss-spellings\n",
      "from SpellingCorrector import SpellingCorrector\n",
      "\n",
      "corrector = SpellingCorrector(all_words)\n",
      "corrections = defaultdict(int)\n",
      "for essay in essays:\n",
      "    for i, sentence in enumerate(essay.tagged_sentences):\n",
      "        for j, (w, tags) in enumerate(sentence):\n",
      "            # common error is ..n't and ..nt\n",
      "            if w.endswith(\"n't\") or w.endswith(\"n'\"):\n",
      "                cw = w[:-3] + \"nt\"\n",
      "            elif w.endswith(\"'s\"):\n",
      "                cw = w[:-2]\n",
      "            elif w == \"&\":\n",
      "                cw = \"and\"\n",
      "            else:\n",
      "                cw = corrector.correct(w)\n",
      "            if cw != w:\n",
      "                corrections[(w,cw)] += 1\n",
      "                sentence[j] = (cw, tags)            \n",
      "            \n",
      "wd_sent_freq = defaultdict(int)\n",
      "for essay in essays:\n",
      "    for sentence in essay.tagged_sentences:\n",
      "        wds, tag_list = zip(*sentence)\n",
      "        unique_wds = set(wds)\n",
      "        for w in unique_wds: \n",
      "            wd_sent_freq[w] += 1\n",
      "print \"Done\""
     ],
     "language": "python",
     "metadata": {},
     "outputs": [
      {
       "output_type": "stream",
       "stream": "stdout",
       "text": [
        "236 files found\n",
        "236 essays processed"
       ]
      },
      {
       "output_type": "stream",
       "stream": "stdout",
       "text": [
        "\n",
        "Done"
       ]
      },
      {
       "output_type": "stream",
       "stream": "stdout",
       "text": [
        "\n"
       ]
      }
     ],
     "prompt_number": 313
    },
    {
     "cell_type": "code",
     "collapsed": false,
     "input": [
      "from DictionaryHelper import *\n",
      "cor_srtd = sort_by_value(corrections, reverse = True)\n",
      "cor_srtd[0:20]"
     ],
     "language": "python",
     "metadata": {},
     "outputs": [
      {
       "metadata": {},
       "output_type": "pyout",
       "prompt_number": 314,
       "text": [
        "[((\"it's\", 'it'), 46),\n",
        " ((\"don't\", 'dont'), 30),\n",
        " ((\"that's\", 'that'), 28),\n",
        " (('algea', 'algae'), 20),\n",
        " (('zox', 'zo'), 20),\n",
        " ((\"world's\", 'world'), 17),\n",
        " ((\"can't\", 'cant'), 14),\n",
        " (('&', 'and'), 12),\n",
        " (('bleaches', 'bleached'), 12),\n",
        " (('cloral', 'coral'), 10),\n",
        " ((\"coral's\", 'coral'), 9),\n",
        " ((\"isn't\", 'isnt'), 9),\n",
        " ((\"won't\", 'wont'), 9),\n",
        " ((\"they're\", 'there'), 9),\n",
        " (('tempature', 'temperature'), 8),\n",
        " ((\"doesn't\", 'doesnt'), 8),\n",
        " (('tempeture', 'temperature'), 7),\n",
        " (('varys', 'vary'), 6),\n",
        " (('saclike', 'saline'), 6),\n",
        " ((\"there's\", 'there'), 5)]"
       ]
      }
     ],
     "prompt_number": 314
    },
    {
     "cell_type": "code",
     "collapsed": false,
     "input": [
      "\"\"\" Single char words \"\"\"\n",
      "wds = [(w,f) for w,f in wd_sent_freq.items() if len(w.strip()) == 1 and not w[0].isalpha()]\n",
      "print \"\\n\".join(map(str,sorted(wds, key = lambda (w,f): -f)))"
     ],
     "language": "python",
     "metadata": {},
     "outputs": [
      {
       "output_type": "stream",
       "stream": "stdout",
       "text": [
        "('.', 2080)\n",
        "(',', 511)\n",
        "('-', 76)\n",
        "('/', 76)\n",
        "('\"', 71)\n",
        "('?', 63)\n",
        "('3', 34)\n",
        "('(', 29)\n",
        "(')', 28)\n",
        "('%', 26)\n",
        "('\\xc2', 24)\n",
        "('\\xb0', 24)\n",
        "('1', 16)\n",
        "('\\\\', 16)\n",
        "('5', 13)\n",
        "('\\x80', 11)\n",
        "('\\xe2', 11)\n",
        "(';', 10)\n",
        "('+', 6)\n",
        "('2', 6)\n",
        "(\"'\", 6)\n",
        "('\\x93', 6)\n",
        "('\\x99', 5)\n",
        "('0', 4)\n",
        "('!', 4)\n",
        "(':', 4)\n",
        "('9', 2)\n",
        "('=', 2)\n",
        "('6', 1)\n",
        "('7', 1)\n",
        "('8', 1)\n"
       ]
      }
     ],
     "prompt_number": 315
    },
    {
     "cell_type": "markdown",
     "metadata": {},
     "source": [
      "Create Windows\n",
      "--------------"
     ]
    },
    {
     "cell_type": "code",
     "collapsed": false,
     "input": [
      "\"\"\" Creating Windows \"\"\"\n",
      "def filter2min_word_freq(sentence):\n",
      "    return filter(lambda (w, tags4word): wd_sent_freq[w] >= MIN_SENTENCE_FREQ, sentence)\n",
      "\n",
      "VALID_CHARS = {\".\", \"?\", \"!\", \"=\", \"/\", \":\", \";\", \"&\", \"+\",  \"-\", \"=\",  \"%\", \"'\", \",\", \"\\\\\", \"(\", \")\", \"\\\"\"}\n",
      "\"\"\" Remove bad chars (see above - e.g. '\\x93') \"\"\"\n",
      "removed = set()\n",
      "def valid_wd(wd):\n",
      "    wd = wd.strip()\n",
      "    if len(wd) != 1:\n",
      "        return True\n",
      "    if wd in removed:\n",
      "        return False\n",
      "    if wd.isalpha() or wd.isdigit() or wd in VALID_CHARS:\n",
      "        return True\n",
      "    removed.add(wd)\n",
      "    return False\n",
      "    \n",
      "def filterout_punctuation(sentence):\n",
      "    return filter(lambda (w, tags4word): valid_wd(w), sentence)\n",
      "\n",
      "def bookend(sentence):\n",
      "    for i in range(MID_IX):\n",
      "        modified_sentence.insert(0, (SENTENCE_START,    set()))\n",
      "        modified_sentence.append(   (SENTENCE_END,      set()))\n",
      "\n",
      "def assert_windows_correct(windows):\n",
      "    lens = map(len, windows)\n",
      "    assert min(lens) == max(lens) == WINDOW_SIZE, \\\n",
      "            \"Windows are not all the correct size\"\n",
      "   \n",
      "ix2windows = {}\n",
      "ix2sents = {}\n",
      "sentences = []\n",
      "tokenized_sentences = []\n",
      "\n",
      "i = 0\n",
      "for essay in essays:\n",
      "    for sentence in essay.tagged_sentences:\n",
      "        \n",
      "        modified_sentence = filter2min_word_freq(sentence)\n",
      "        modified_sentence = filterout_punctuation(modified_sentence)\n",
      "        if len(modified_sentence) == 0:\n",
      "            continue\n",
      "        \n",
      "        bookend(modified_sentence)        \n",
      "        new_windows = split_into_windows(modified_sentence, window_size=WINDOW_SIZE)        \n",
      "        assert_windows_correct(new_windows)       \n",
      "        \n",
      "        # tagged words\n",
      "        sentences.append(sentence)\n",
      "        # words only\n",
      "        tokenized_sentences.append(zip(*sentence)[0])\n",
      "        \n",
      "        ix2windows[i] = new_windows\n",
      "        ix2sents[i] = modified_sentence\n",
      "        i += 1\n",
      "        \n",
      "\"\"\" Assert tags set correctly \"\"\"\n",
      "print \"Windows loaded correctly!\\n\""
     ],
     "language": "python",
     "metadata": {},
     "outputs": [
      {
       "output_type": "stream",
       "stream": "stdout",
       "text": [
        "Windows loaded correctly!\n",
        "\n"
       ]
      }
     ],
     "prompt_number": 316
    },
    {
     "cell_type": "code",
     "collapsed": false,
     "input": [
      "#ix2windows[0][0]\n",
      "ix2sents[0]"
     ],
     "language": "python",
     "metadata": {},
     "outputs": [
      {
       "metadata": {},
       "output_type": "pyout",
       "prompt_number": 317,
       "text": [
        "[('<START>', set()),\n",
        " ('<START>', set()),\n",
        " ('<START>', set()),\n",
        " ('the', set()),\n",
        " ('coral', {'50'}),\n",
        " ('bleaching', {'50'}),\n",
        " ('is', set()),\n",
        " ('a', set()),\n",
        " ('different', set()),\n",
        " ('they', set()),\n",
        " ('are', set()),\n",
        " ('bleached', set()),\n",
        " ('and', set()),\n",
        " ('coral', {'50'}),\n",
        " ('bleaching', {'50'}),\n",
        " ('.', set()),\n",
        " ('<END>', set()),\n",
        " ('<END>', set()),\n",
        " ('<END>', set())]"
       ]
      }
     ],
     "prompt_number": 317
    },
    {
     "cell_type": "markdown",
     "metadata": {},
     "source": [
      "Removed Characters\n",
      "------------------"
     ]
    },
    {
     "cell_type": "code",
     "collapsed": false,
     "input": [
      "print \"\\n\".join(sorted(removed))"
     ],
     "language": "python",
     "metadata": {},
     "outputs": [
      {
       "output_type": "stream",
       "stream": "stdout",
       "text": [
        "\ufffd\n",
        "\ufffd\n",
        "\ufffd\n",
        "\ufffd\n"
       ]
      }
     ],
     "prompt_number": 318
    },
    {
     "cell_type": "markdown",
     "metadata": {},
     "source": [
      "Map Words to One Hot Vectors\n",
      "----------------------------"
     ]
    },
    {
     "cell_type": "code",
     "collapsed": false,
     "input": [
      "from IdGenerator import IdGenerator as IdGen\n",
      "\n",
      "wdgenerator = IdGen()\n",
      "\"\"\" Get all unique words remaining \"\"\"\n",
      "unique_words = set()\n",
      "unique_labels = set()\n",
      "for i, sentence in ix2sents.items():\n",
      "    for wd, lbls in sentence:\n",
      "        unique_wds.add(wd)\n",
      "        for lbl in lbls:\n",
      "            unique_labels.add(lbl)\n",
      "\n",
      "\"\"\" map to vector form \"\"\"\n",
      "wd2vector = {}\n",
      "vec_len = len(unique_wds)\n",
      "for wd in unique_wds:\n",
      "    wid = wdgenerator.get_id(wd)\n",
      "    vector = np.zeros(vec_len)\n",
      "    vector[wid] = 1\n",
      "    wd2vector[wd] = vector\n",
      "    \n",
      "print \"Unique Words:\", len(unique_wds), \"Unique Labels:\", len(unique_labels)"
     ],
     "language": "python",
     "metadata": {},
     "outputs": [
      {
       "output_type": "stream",
       "stream": "stdout",
       "text": [
        "Unique Words: 421 Unique Labels: 20\n"
       ]
      }
     ],
     "prompt_number": 319
    },
    {
     "cell_type": "code",
     "collapsed": false,
     "input": [
      "#lblgenerator = IdGen()\n",
      "def window2vector(window, code):\n",
      "    xs = []\n",
      "    for wd, lbls in window:\n",
      "        xs.append(wd2vector[wd])\n",
      "    np_xs = np.hstack(xs)\n",
      "    lbls = window[MID_IX][1]\n",
      "    if code in lbls:\n",
      "        ys =  [1]\n",
      "    else:\n",
      "        ys =  [-1]\n",
      "    return ((np_xs * 2) -1, ys)\n",
      "    #return (np_xs, ys)"
     ],
     "language": "python",
     "metadata": {},
     "outputs": [],
     "prompt_number": 332
    },
    {
     "cell_type": "code",
     "collapsed": false,
     "input": [
      "xs, ys = [], []\n",
      "code = \"50\"\n",
      "for i, windows in ix2windows.items():\n",
      "    for window in windows:\n",
      "        x, y = window2vector(window, code)\n",
      "        xs.append(x)\n",
      "        ys.append(y)"
     ],
     "language": "python",
     "metadata": {},
     "outputs": [],
     "prompt_number": 333
    },
    {
     "cell_type": "code",
     "collapsed": false,
     "input": [
      "VECTOR_SIZE = 10\n",
      "TD = int(len(xs) * 0.65)\n",
      "\n",
      "hidden_in  = VECTOR_SIZE * WINDOW_SIZE \n",
      "#hidden_out = (hidden_in + len(ys[0])) / 2\n",
      "hidden_out = 10\n",
      "\n",
      "layers = [\n",
      "        #Single Layer\n",
      "        #Layer(             len(xs[0]),  1,  activation_fn = \"tanh\", momentum=0.5),        \n",
      "\n",
      "        ConvolutionalLayer(len(xs[0]),  hidden_in,  activation_fn = \"tanh\", momentum=0.0, convolutions=WINDOW_SIZE),\n",
      "        Layer(             hidden_in,   len(ys[0]), activation_fn = \"tanh\", momentum=0.5),  \n",
      "        \n",
      "        #Layer(             hidden_out,  len(ys[0]), activation_fn = \"tanh\", momentum=0.5),  \n",
      "        #Layer(             10,              10, activation_fn = \"tanh\", momentum=0.5),\n",
      "        #Layer(             10,      len(ys[0]), activation_fn = \"tanh\", momentum=0.5),\n",
      "    ]\n",
      "\n",
      "# With low freq classes and convolutional layers, use a batch_size == 1 and NO momentum in that layer\n",
      "nn = MLP(layers, learning_rate=0.002, weight_decay=0.0, epochs=100, batch_size=1,\n",
      "             lr_increase_multiplier=1.2, lr_decrease_multiplier=0.6)\n",
      "\n",
      "nn.fit(xs[:TD], ys[:TD], epochs=1000)"
     ],
     "language": "python",
     "metadata": {},
     "outputs": [
      {
       "output_type": "stream",
       "stream": "stdout",
       "text": [
        "MSE for epoch 0 is 0.19044512 \tMAE for epoch 0 is 0.23307605 \tlearning rate is 0.002\n",
        "MSE for epoch 1 is 0.10328242"
       ]
      },
      {
       "output_type": "stream",
       "stream": "stdout",
       "text": [
        " \tMAE for epoch 1 is 0.12224289 \tlearning rate is 0.002\n",
        "MSE for epoch 2 is 0.09820445"
       ]
      },
      {
       "output_type": "stream",
       "stream": "stdout",
       "text": [
        " \tMAE for epoch 2 is 0.10405584 \tlearning rate is 0.0024\n",
        "MSE for epoch 3 is 0.09582156"
       ]
      },
      {
       "output_type": "stream",
       "stream": "stdout",
       "text": [
        " \tMAE for epoch 3 is 0.10292575 \tlearning rate is 0.00288\n",
        "MSE for epoch 4 is 0.09232822"
       ]
      },
      {
       "output_type": "stream",
       "stream": "stdout",
       "text": [
        " \tMAE for epoch 4 is 0.10269336 \tlearning rate is 0.003456\n",
        "MSE for epoch 5 is 0.08761456"
       ]
      },
      {
       "output_type": "stream",
       "stream": "stdout",
       "text": [
        " \tMAE for epoch 5 is 0.10281209 \tlearning rate is 0.0041472\n",
        "MSE for epoch 6 is 0.08519743"
       ]
      },
      {
       "output_type": "stream",
       "stream": "stdout",
       "text": [
        " \tMAE for epoch 6 is 0.10003175 \tlearning rate is 0.00248832\n",
        "MSE for epoch 7 is 0.08167401"
       ]
      },
      {
       "output_type": "stream",
       "stream": "stdout",
       "text": [
        " \tMAE for epoch 7 is 0.09439875 \tlearning rate is 0.002985984\n",
        "MSE for epoch 8 is 0.08237277"
       ]
      },
      {
       "output_type": "stream",
       "stream": "stdout",
       "text": [
        " \tMAE for epoch 8 is 0.09261461 \tlearning rate is 0.0035831808\n",
        "MSE for epoch 9 is 0.08111785"
       ]
      },
      {
       "output_type": "stream",
       "stream": "stdout",
       "text": [
        " \tMAE for epoch 9 is 0.09153784 \tlearning rate is 0.00429981696\n",
        "MSE for epoch 10 is 0.08444421"
       ]
      },
      {
       "output_type": "stream",
       "stream": "stdout",
       "text": [
        " \tMAE for epoch 10 is 0.09610218 \tlearning rate is 0.005159780352\n",
        "MSE for epoch 11 is 0.07778334"
       ]
      },
      {
       "output_type": "stream",
       "stream": "stdout",
       "text": [
        " \tMAE for epoch 11 is 0.08414012 \tlearning rate is 0.0030958682112\n",
        "MSE for epoch 12 is 0.07940359"
       ]
      },
      {
       "output_type": "stream",
       "stream": "stdout",
       "text": [
        " \tMAE for epoch 12 is 0.09120429 \tlearning rate is 0.00371504185344\n",
        "MSE for epoch 13 is 0.07393156"
       ]
      },
      {
       "output_type": "stream",
       "stream": "stdout",
       "text": [
        " \tMAE for epoch 13 is 0.08207425 \tlearning rate is 0.00222902511206\n",
        "MSE for epoch 14 is 0.07329702"
       ]
      },
      {
       "output_type": "stream",
       "stream": "stdout",
       "text": [
        " \tMAE for epoch 14 is 0.0830048 \tlearning rate is 0.00267483013448\n",
        "MSE for epoch 15 is 0.07105577"
       ]
      },
      {
       "output_type": "stream",
       "stream": "stdout",
       "text": [
        " \tMAE for epoch 15 is 0.07815648 \tlearning rate is 0.00160489808069\n",
        "MSE for epoch 16 is 0.07132348"
       ]
      },
      {
       "output_type": "stream",
       "stream": "stdout",
       "text": [
        " \tMAE for epoch 16 is 0.07886789 \tlearning rate is 0.00192587769682\n",
        "MSE for epoch 17 is 0.0696157"
       ]
      },
      {
       "output_type": "stream",
       "stream": "stdout",
       "text": [
        " \tMAE for epoch 17 is 0.07730526 \tlearning rate is 0.00115552661809\n",
        "MSE for epoch 18 is 0.06941822"
       ]
      },
      {
       "output_type": "stream",
       "stream": "stdout",
       "text": [
        " \tMAE for epoch 18 is 0.0757936 \tlearning rate is 0.00138663194171\n",
        "MSE for epoch 19 is 0.06925594"
       ]
      },
      {
       "output_type": "stream",
       "stream": "stdout",
       "text": [
        " \tMAE for epoch 19 is 0.07628221 \tlearning rate is 0.00166395833006\n",
        "MSE for epoch 20 is 0.06807213"
       ]
      },
      {
       "output_type": "stream",
       "stream": "stdout",
       "text": [
        " \tMAE for epoch 20 is 0.07314307 \tlearning rate is 0.000998374998033\n",
        "MSE for epoch 21 is 0.06799261"
       ]
      },
      {
       "output_type": "stream",
       "stream": "stdout",
       "text": [
        " \tMAE for epoch 21 is 0.07334338 \tlearning rate is 0.00119804999764\n",
        "MSE for epoch 22 is 0.06700231"
       ]
      },
      {
       "output_type": "stream",
       "stream": "stdout",
       "text": [
        " \tMAE for epoch 22 is 0.07108392 \tlearning rate is 0.000718829998584\n",
        "MSE for epoch 23 is 0.06664559"
       ]
      },
      {
       "output_type": "stream",
       "stream": "stdout",
       "text": [
        " \tMAE for epoch 23 is 0.07122498 \tlearning rate is 0.000862595998301\n",
        "MSE for epoch 24 is 0.06622804"
       ]
      },
      {
       "output_type": "stream",
       "stream": "stdout",
       "text": [
        " \tMAE for epoch 24 is 0.07021282 \tlearning rate is 0.00051755759898\n",
        "MSE for epoch 25 is 0.06593866"
       ]
      },
      {
       "output_type": "stream",
       "stream": "stdout",
       "text": [
        " \tMAE for epoch 25 is 0.07152579 \tlearning rate is 0.000621069118776\n",
        "MSE for epoch 26 is 0.06547358"
       ]
      },
      {
       "output_type": "stream",
       "stream": "stdout",
       "text": [
        " \tMAE for epoch 26 is 0.06961203 \tlearning rate is 0.000372641471266\n",
        "MSE for epoch 27 is 0.06545193"
       ]
      },
      {
       "output_type": "stream",
       "stream": "stdout",
       "text": [
        " \tMAE for epoch 27 is 0.06917998 \tlearning rate is 0.000447169765519\n",
        "MSE for epoch 28 is 0.06551001"
       ]
      },
      {
       "output_type": "stream",
       "stream": "stdout",
       "text": [
        " \tMAE for epoch 28 is 0.06975107 \tlearning rate is 0.000536603718623\n",
        "MSE for epoch 29 is 0.06492192"
       ]
      },
      {
       "output_type": "stream",
       "stream": "stdout",
       "text": [
        " \tMAE for epoch 29 is 0.06776462 \tlearning rate is 0.000321962231174\n",
        "MSE for epoch 30 is 0.06483759"
       ]
      },
      {
       "output_type": "stream",
       "stream": "stdout",
       "text": [
        " \tMAE for epoch 30 is 0.06886899 \tlearning rate is 0.000386354677408\n",
        "MSE for epoch 31 is 0.06460963"
       ]
      },
      {
       "output_type": "stream",
       "stream": "stdout",
       "text": [
        " \tMAE for epoch 31 is 0.06750994 \tlearning rate is 0.000231812806445\n",
        "MSE for epoch 32 is 0.06451433"
       ]
      },
      {
       "output_type": "stream",
       "stream": "stdout",
       "text": [
        " \tMAE for epoch 32 is 0.06804367 \tlearning rate is 0.000278175367734\n",
        "MSE for epoch 33 is 0.06405545"
       ]
      },
      {
       "output_type": "stream",
       "stream": "stdout",
       "text": [
        " \tMAE for epoch 33 is 0.06743144 \tlearning rate is 0.00016690522064\n",
        "MSE for epoch 34 is 0.06421299"
       ]
      },
      {
       "output_type": "stream",
       "stream": "stdout",
       "text": [
        " \tMAE for epoch 34 is 0.06798254 \tlearning rate is 0.000200286264769\n",
        "MSE for epoch 35 is 0.06399902"
       ]
      },
      {
       "output_type": "stream",
       "stream": "stdout",
       "text": [
        " \tMAE for epoch 35 is 0.06857017 \tlearning rate is 0.000120171758861\n",
        "MSE for epoch 36 is 0.06386072"
       ]
      },
      {
       "output_type": "stream",
       "stream": "stdout",
       "text": [
        " \tMAE for epoch 36 is 0.06841173 \tlearning rate is 7.21030553167e-05\n",
        "MSE for epoch 37 is 0.06387786"
       ]
      },
      {
       "output_type": "stream",
       "stream": "stdout",
       "text": [
        " \tMAE for epoch 37 is 0.06766572 \tlearning rate is 8.652366638e-05\n",
        "MSE for epoch 38 is 0.06375089"
       ]
      },
      {
       "output_type": "stream",
       "stream": "stdout",
       "text": [
        " \tMAE for epoch 38 is 0.06682127 \tlearning rate is 0.000103828399656\n",
        "MSE for epoch 39 is 0.06382952"
       ]
      },
      {
       "output_type": "stream",
       "stream": "stdout",
       "text": [
        " \tMAE for epoch 39 is 0.06770411 \tlearning rate is 0.000124594079587\n",
        "MSE for epoch 40 is 0.06372804"
       ]
      },
      {
       "output_type": "stream",
       "stream": "stdout",
       "text": [
        " \tMAE for epoch 40 is 0.06686145 \tlearning rate is 7.47564477523e-05\n",
        "MSE for epoch 41 is 0.06368618"
       ]
      },
      {
       "output_type": "stream",
       "stream": "stdout",
       "text": [
        " \tMAE for epoch 41 is 0.06721476 \tlearning rate is 8.97077373028e-05\n",
        "MSE for epoch 42 is 0.06341416"
       ]
      },
      {
       "output_type": "stream",
       "stream": "stdout",
       "text": [
        " \tMAE for epoch 42 is 0.06736501 \tlearning rate is 5.38246423817e-05\n",
        "MSE for epoch 43 is 0.06347823"
       ]
      },
      {
       "output_type": "stream",
       "stream": "stdout",
       "text": [
        " \tMAE for epoch 43 is 0.067132 \tlearning rate is 3.2294785429e-05\n",
        "MSE for epoch 44 is 0.06350154"
       ]
      },
      {
       "output_type": "stream",
       "stream": "stdout",
       "text": [
        " \tMAE for epoch 44 is 0.06714193 \tlearning rate is 3.87537425148e-05\n",
        "MSE for epoch 45 is 0.06345465"
       ]
      },
      {
       "output_type": "stream",
       "stream": "stdout",
       "text": [
        " \tMAE for epoch 45 is 0.06644631 \tlearning rate is 2.32522455089e-05\n",
        "MSE for epoch 46 is 0.06344472"
       ]
      },
      {
       "output_type": "stream",
       "stream": "stdout",
       "text": [
        " \tMAE for epoch 46 is 0.0668889 \tlearning rate is 2.79026946107e-05\n",
        "MSE for epoch 47 is 0.06337212"
       ]
      },
      {
       "output_type": "stream",
       "stream": "stdout",
       "text": [
        " \tMAE for epoch 47 is 0.06790394 \tlearning rate is 1.67416167664e-05\n",
        "MSE for epoch 48 is 0.06339916"
       ]
      },
      {
       "output_type": "stream",
       "stream": "stdout",
       "text": [
        " \tMAE for epoch 48 is 0.06735478 \tlearning rate is 1.00449700598e-05\n",
        "MSE for epoch 49 is 0.06338009"
       ]
      },
      {
       "output_type": "stream",
       "stream": "stdout",
       "text": [
        " \tMAE for epoch 49 is 0.06726188 \tlearning rate is 1.20539640718e-05\n",
        "MSE for epoch 50 is 0.06336976"
       ]
      },
      {
       "output_type": "stream",
       "stream": "stdout",
       "text": [
        " \tMAE for epoch 50 is 0.06642625 \tlearning rate is 1.44647568862e-05\n",
        "MSE for epoch 51 is 0.06339783"
       ]
      },
      {
       "output_type": "stream",
       "stream": "stdout",
       "text": [
        " \tMAE for epoch 51 is 0.06697333 \tlearning rate is 1.73577082634e-05\n",
        "MSE for epoch 52 is 0.0633606"
       ]
      },
      {
       "output_type": "stream",
       "stream": "stdout",
       "text": [
        " \tMAE for epoch 52 is 0.06718232 \tlearning rate is 1.0414624958e-05\n",
        "MSE for epoch 53 is 0.06334903"
       ]
      },
      {
       "output_type": "stream",
       "stream": "stdout",
       "text": [
        " \tMAE for epoch 53 is 0.06668152 \tlearning rate is 6.24877497482e-06\n",
        "MSE for epoch 54 is 0.06334603"
       ]
      },
      {
       "output_type": "stream",
       "stream": "stdout",
       "text": [
        " \tMAE for epoch 54 is 0.06643683 \tlearning rate is 7.49852996979e-06\n",
        "MSE for epoch 55 is 0.0633538"
       ]
      },
      {
       "output_type": "stream",
       "stream": "stdout",
       "text": [
        " \tMAE for epoch 55 is 0.06675558 \tlearning rate is 8.99823596375e-06\n",
        "MSE for epoch 56 is 0.06333654"
       ]
      },
      {
       "output_type": "stream",
       "stream": "stdout",
       "text": [
        " \tMAE for epoch 56 is 0.06675413 \tlearning rate is 5.39894157825e-06\n",
        "MSE for epoch 57 is 0.06333144"
       ]
      },
      {
       "output_type": "stream",
       "stream": "stdout",
       "text": [
        " \tMAE for epoch 57 is 0.06712823 \tlearning rate is 6.4787298939e-06\n",
        "MSE for epoch 58 is 0.063325"
       ]
      },
      {
       "output_type": "stream",
       "stream": "stdout",
       "text": [
        " \tMAE for epoch 58 is 0.06663404 \tlearning rate is 3.88723793634e-06\n",
        "MSE for epoch 59 is 0.06331708"
       ]
      },
      {
       "output_type": "stream",
       "stream": "stdout",
       "text": [
        " \tMAE for epoch 59 is 0.06612088 \tlearning rate is 4.66468552361e-06\n",
        "MSE for epoch 60 is 0.06332868"
       ]
      },
      {
       "output_type": "stream",
       "stream": "stdout",
       "text": [
        " \tMAE for epoch 60 is 0.06711467 \tlearning rate is 5.59762262833e-06\n",
        "MSE for epoch 61 is 0.06331494"
       ]
      },
      {
       "output_type": "stream",
       "stream": "stdout",
       "text": [
        " \tMAE for epoch 61 is 0.06661147 \tlearning rate is 3.358573577e-06\n",
        "MSE for epoch 62 is 0.06331654"
       ]
      },
      {
       "output_type": "stream",
       "stream": "stdout",
       "text": [
        " \tMAE for epoch 62 is 0.06730109 \tlearning rate is 4.0302882924e-06\n",
        "MSE for epoch 63 is 0.06331204"
       ]
      },
      {
       "output_type": "stream",
       "stream": "stdout",
       "text": [
        " \tMAE for epoch 63 is 0.06717884 \tlearning rate is 2.41817297544e-06\n",
        "MSE for epoch 64 is 0.06331002"
       ]
      },
      {
       "output_type": "stream",
       "stream": "stdout",
       "text": [
        " \tMAE for epoch 64 is 0.0672146 \tlearning rate is 2.90180757053e-06\n",
        "MSE for epoch 65 is 0.0633059"
       ]
      },
      {
       "output_type": "stream",
       "stream": "stdout",
       "text": [
        " \tMAE for epoch 65 is 0.06706015 \tlearning rate is 1.74108454232e-06\n",
        "MSE for epoch 66 is 0.06330581"
       ]
      },
      {
       "output_type": "stream",
       "stream": "stdout",
       "text": [
        " \tMAE for epoch 66 is 0.06685512 \tlearning rate is 2.08930145078e-06\n",
        "MSE for epoch 67 is 0.06330511"
       ]
      },
      {
       "output_type": "stream",
       "stream": "stdout",
       "text": [
        " \tMAE for epoch 67 is 0.06698409 \tlearning rate is 2.50716174093e-06\n",
        "MSE for epoch 68 is 0.06330092"
       ]
      },
      {
       "output_type": "stream",
       "stream": "stdout",
       "text": [
        " \tMAE for epoch 68 is 0.06697826 \tlearning rate is 1.50429704456e-06\n",
        "MSE for epoch 69 is 0.06330137"
       ]
      },
      {
       "output_type": "stream",
       "stream": "stdout",
       "text": [
        " \tMAE for epoch 69 is 0.06672682 \tlearning rate is 1.80515645347e-06\n",
        "MSE for epoch 70 is 0.06330159"
       ]
      },
      {
       "output_type": "stream",
       "stream": "stdout",
       "text": [
        " \tMAE for epoch 70 is 0.06680459 \tlearning rate is 2.16618774417e-06\n",
        "MSE for epoch 71 is 0.06329746"
       ]
      },
      {
       "output_type": "stream",
       "stream": "stdout",
       "text": [
        " \tMAE for epoch 71 is 0.06684247 \tlearning rate is 1.2997126465e-06\n",
        "MSE for epoch 72 is 0.06329505"
       ]
      },
      {
       "output_type": "stream",
       "stream": "stdout",
       "text": [
        " \tMAE for epoch 72 is 0.06670785 \tlearning rate is 7.798275879e-07\n",
        "MSE for epoch 73 is 0.06329523"
       ]
      },
      {
       "output_type": "stream",
       "stream": "stdout",
       "text": [
        " \tMAE for epoch 73 is 0.06673081 \tlearning rate is 9.3579310548e-07\n",
        "MSE for epoch 74 is 0.06329343"
       ]
      },
      {
       "output_type": "stream",
       "stream": "stdout",
       "text": [
        " \tMAE for epoch 74 is 0.06672841 \tlearning rate is 5.61475863288e-07\n",
        "MSE for epoch 75 is 0.06329348"
       ]
      },
      {
       "output_type": "stream",
       "stream": "stdout",
       "text": [
        " \tMAE for epoch 75 is 0.06677702 \tlearning rate is 6.73771035946e-07\n",
        "MSE for epoch 76 is 0.06329223"
       ]
      },
      {
       "output_type": "stream",
       "stream": "stdout",
       "text": [
        " \tMAE for epoch 76 is 0.06674096 \tlearning rate is 4.04262621567e-07\n",
        "MSE for epoch 77 is 0.06329231"
       ]
      },
      {
       "output_type": "stream",
       "stream": "stdout",
       "text": [
        " \tMAE for epoch 77 is 0.06668865 \tlearning rate is 4.85115145881e-07\n",
        "MSE for epoch 78 is 0.06329243"
       ]
      },
      {
       "output_type": "stream",
       "stream": "stdout",
       "text": [
        " \tMAE for epoch 78 is 0.06670983 \tlearning rate is 5.82138175057e-07\n",
        "MSE for epoch 79 is 0.0632913"
       ]
      },
      {
       "output_type": "stream",
       "stream": "stdout",
       "text": [
        " \tMAE for epoch 79 is 0.06672023 \tlearning rate is 3.49282905034e-07\n",
        "MSE for epoch 80 is 0.06329061"
       ]
      },
      {
       "output_type": "stream",
       "stream": "stdout",
       "text": [
        " \tMAE for epoch 80 is 0.06671841 \tlearning rate is 2.09569743021e-07\n",
        "MSE for epoch 81 is 0.06329066"
       ]
      },
      {
       "output_type": "stream",
       "stream": "stdout",
       "text": [
        " \tMAE for epoch 81 is 0.06671688 \tlearning rate is 2.51483691625e-07\n",
        "MSE for epoch 82 is 0.06329072"
       ]
      },
      {
       "output_type": "stream",
       "stream": "stdout",
       "text": [
        " \tMAE for epoch 82 is 0.06670092 \tlearning rate is 3.0178042995e-07\n"
       ]
      },
      {
       "ename": "KeyboardInterrupt",
       "evalue": "",
       "output_type": "pyerr",
       "traceback": [
        "\u001b[0;31m---------------------------------------------------------------------------\u001b[0m\n\u001b[0;31mKeyboardInterrupt\u001b[0m                         Traceback (most recent call last)",
        "\u001b[0;32m<ipython-input-340-e2dedb666dea>\u001b[0m in \u001b[0;36m<module>\u001b[0;34m()\u001b[0m\n\u001b[1;32m     22\u001b[0m              lr_increase_multiplier=1.2, lr_decrease_multiplier=0.6)\n\u001b[1;32m     23\u001b[0m \u001b[0;34m\u001b[0m\u001b[0m\n\u001b[0;32m---> 24\u001b[0;31m \u001b[0mnn\u001b[0m\u001b[0;34m.\u001b[0m\u001b[0mfit\u001b[0m\u001b[0;34m(\u001b[0m\u001b[0mxs\u001b[0m\u001b[0;34m[\u001b[0m\u001b[0;34m:\u001b[0m\u001b[0mTD\u001b[0m\u001b[0;34m]\u001b[0m\u001b[0;34m,\u001b[0m \u001b[0mys\u001b[0m\u001b[0;34m[\u001b[0m\u001b[0;34m:\u001b[0m\u001b[0mTD\u001b[0m\u001b[0;34m]\u001b[0m\u001b[0;34m,\u001b[0m \u001b[0mepochs\u001b[0m\u001b[0;34m=\u001b[0m\u001b[0;36m1000\u001b[0m\u001b[0;34m)\u001b[0m\u001b[0;34m\u001b[0m\u001b[0m\n\u001b[0m",
        "\u001b[0;32m/Users/simon.hughes/GitHub/NlpResearch/DeepLearning/MyCode/DeepNeuralNetwork.py\u001b[0m in \u001b[0;36mfit\u001b[0;34m(self, xs, ys, min_error, epochs, batch_size)\u001b[0m\n\u001b[1;32m    114\u001b[0m \u001b[0;34m\u001b[0m\u001b[0m\n\u001b[1;32m    115\u001b[0m                 mini_batch_errors, gradients = self.__compute_gradient__(mini_batch_in, mini_batch_out,\n\u001b[0;32m--> 116\u001b[0;31m                                                                          self.layers, self.learning_rate)\n\u001b[0m\u001b[1;32m    117\u001b[0m                 \u001b[0;32mif\u001b[0m \u001b[0mnp\u001b[0m\u001b[0;34m.\u001b[0m\u001b[0many\u001b[0m\u001b[0;34m(\u001b[0m\u001b[0mnp\u001b[0m\u001b[0;34m.\u001b[0m\u001b[0misnan\u001b[0m\u001b[0;34m(\u001b[0m\u001b[0mmini_batch_errors\u001b[0m\u001b[0;34m)\u001b[0m\u001b[0;34m)\u001b[0m\u001b[0;34m:\u001b[0m\u001b[0;34m\u001b[0m\u001b[0m\n\u001b[1;32m    118\u001b[0m                     \u001b[0;32mprint\u001b[0m \u001b[0;34m\"Nans in errors. Stopping\"\u001b[0m\u001b[0;34m\u001b[0m\u001b[0m\n",
        "\u001b[0;32m/Users/simon.hughes/GitHub/NlpResearch/DeepLearning/MyCode/DeepNeuralNetwork.py\u001b[0m in \u001b[0;36m__compute_gradient__\u001b[0;34m(self, input_vectors, outputs, layers, learning_rate, input_masks)\u001b[0m\n\u001b[1;32m    186\u001b[0m         \u001b[0mgradients\u001b[0m \u001b[0;34m=\u001b[0m \u001b[0;34m[\u001b[0m\u001b[0;34m]\u001b[0m\u001b[0;34m\u001b[0m\u001b[0m\n\u001b[1;32m    187\u001b[0m         \u001b[0;32mfor\u001b[0m \u001b[0mi\u001b[0m \u001b[0;32min\u001b[0m \u001b[0mrange\u001b[0m\u001b[0;34m(\u001b[0m\u001b[0mlen\u001b[0m\u001b[0;34m(\u001b[0m\u001b[0mlayers\u001b[0m\u001b[0;34m)\u001b[0m\u001b[0;34m)\u001b[0m\u001b[0;34m:\u001b[0m\u001b[0;34m\u001b[0m\u001b[0m\n\u001b[0;32m--> 188\u001b[0;31m             \u001b[0mwtdelta\u001b[0m\u001b[0;34m,\u001b[0m \u001b[0mbiasdelta\u001b[0m \u001b[0;34m=\u001b[0m \u001b[0mlayers\u001b[0m\u001b[0;34m[\u001b[0m\u001b[0mi\u001b[0m\u001b[0;34m]\u001b[0m\u001b[0;34m.\u001b[0m\u001b[0mgradients\u001b[0m\u001b[0;34m(\u001b[0m\u001b[0mdeltas\u001b[0m\u001b[0;34m[\u001b[0m\u001b[0mi\u001b[0m\u001b[0;34m]\u001b[0m\u001b[0;34m,\u001b[0m \u001b[0mlayer_inputs\u001b[0m\u001b[0;34m[\u001b[0m\u001b[0mi\u001b[0m\u001b[0;34m]\u001b[0m\u001b[0;34m)\u001b[0m\u001b[0;34m\u001b[0m\u001b[0m\n\u001b[0m\u001b[1;32m    189\u001b[0m             \u001b[0mgradients\u001b[0m\u001b[0;34m.\u001b[0m\u001b[0mappend\u001b[0m\u001b[0;34m(\u001b[0m \u001b[0;34m(\u001b[0m\u001b[0mlearning_rate\u001b[0m \u001b[0;34m*\u001b[0m \u001b[0mwtdelta\u001b[0m\u001b[0;34m,\u001b[0m \u001b[0mlearning_rate\u001b[0m \u001b[0;34m*\u001b[0m \u001b[0mbiasdelta\u001b[0m\u001b[0;34m)\u001b[0m \u001b[0;34m)\u001b[0m\u001b[0;34m\u001b[0m\u001b[0m\n\u001b[1;32m    190\u001b[0m         \u001b[0;34m\"\"\" return a list of errors (one item per row in mini batch) \"\"\"\u001b[0m\u001b[0;34m\u001b[0m\u001b[0m\n",
        "\u001b[0;32m/Users/simon.hughes/GitHub/NlpResearch/DeepLearning/MyCode/MLPLayers.pyc\u001b[0m in \u001b[0;36mgradients\u001b[0;34m(self, delta, inputs)\u001b[0m\n\u001b[1;32m    225\u001b[0m             \u001b[0mcon_delta\u001b[0m \u001b[0;34m=\u001b[0m \u001b[0mdelta\u001b[0m\u001b[0;34m[\u001b[0m\u001b[0mc\u001b[0m \u001b[0;34m*\u001b[0m \u001b[0min_rows\u001b[0m\u001b[0;34m:\u001b[0m \u001b[0;34m(\u001b[0m\u001b[0mc\u001b[0m\u001b[0;34m+\u001b[0m\u001b[0;36m1\u001b[0m\u001b[0;34m)\u001b[0m \u001b[0;34m*\u001b[0m \u001b[0min_rows\u001b[0m\u001b[0;34m,\u001b[0m\u001b[0;34m:\u001b[0m\u001b[0;34m]\u001b[0m\u001b[0;34m\u001b[0m\u001b[0m\n\u001b[1;32m    226\u001b[0m \u001b[0;34m\u001b[0m\u001b[0m\n\u001b[0;32m--> 227\u001b[0;31m             \u001b[0mwtg\u001b[0m \u001b[0;34m=\u001b[0m \u001b[0;34m(\u001b[0m\u001b[0mnp\u001b[0m\u001b[0;34m.\u001b[0m\u001b[0mdot\u001b[0m\u001b[0;34m(\u001b[0m\u001b[0mcon_delta\u001b[0m\u001b[0;34m,\u001b[0m \u001b[0mcon_inputs_T\u001b[0m\u001b[0;34m)\u001b[0m \u001b[0;34m/\u001b[0m \u001b[0mfrows\u001b[0m\u001b[0;34m)\u001b[0m\u001b[0;34m\u001b[0m\u001b[0m\n\u001b[0m\u001b[1;32m    228\u001b[0m             \u001b[0mbg\u001b[0m \u001b[0;34m=\u001b[0m \u001b[0mfull_bias\u001b[0m\u001b[0;34m[\u001b[0m\u001b[0mc\u001b[0m \u001b[0;34m*\u001b[0m \u001b[0min_rows\u001b[0m\u001b[0;34m:\u001b[0m \u001b[0;34m(\u001b[0m\u001b[0mc\u001b[0m\u001b[0;34m+\u001b[0m\u001b[0;36m1\u001b[0m\u001b[0;34m)\u001b[0m \u001b[0;34m*\u001b[0m \u001b[0min_rows\u001b[0m\u001b[0;34m,\u001b[0m\u001b[0;34m:\u001b[0m\u001b[0;34m]\u001b[0m\u001b[0;34m\u001b[0m\u001b[0m\n\u001b[1;32m    229\u001b[0m \u001b[0;34m\u001b[0m\u001b[0m\n",
        "\u001b[0;31mKeyboardInterrupt\u001b[0m: "
       ]
      }
     ],
     "prompt_number": 340
    },
    {
     "cell_type": "markdown",
     "metadata": {},
     "source": [
      "Cross Validation Score\n",
      "----------------------"
     ]
    },
    {
     "cell_type": "code",
     "collapsed": false,
     "input": [
      "from Metrics import rpf1a\n",
      "from ResultsHelper import rfp\n",
      "\n",
      "def mae(ys, pr):\n",
      "    errors = []\n",
      "    for i,y in enumerate(ys):\n",
      "        errors.append(abs(y - pr[i]))\n",
      "    return np.mean(errors)\n",
      "\n",
      "pred = nn.predict(xs[TD:])\n",
      "m_ys = map(lambda arr: float(arr[0]), ys[TD:])\n",
      "\n",
      "min_y = min(m_ys)\n",
      "cls_pred = map(lambda arr: 1 if arr[0] >= 0.0 else min_y, pred)\n",
      "\n",
      "print \"MAE:\", mae(m_ys, pred), \"MAE Constant:\", mae(m_ys, np.zeros((len(ys),1)) + min_y)\n",
      "#(r,p,f1,a) = rpf1a(ys, pred)\n",
      "\n",
      "print \"\"\n",
      "print rfp(m_ys, cls_pred)\n",
      "\n",
      "\"\"\"\n",
      "d = defaultdict(int)\n",
      "for p in pred:\n",
      "    d[round(p[0], 1)] += 1\n",
      "\n",
      "sorted(d.items())\n",
      "\"\"\"\n",
      "None"
     ],
     "language": "python",
     "metadata": {},
     "outputs": [
      {
       "output_type": "stream",
       "stream": "stdout",
       "text": [
        "MAE: 0.0573059616487 MAE Constant: "
       ]
      },
      {
       "output_type": "stream",
       "stream": "stdout",
       "text": [
        "0.125575628764\n",
        "\n",
        "Number of records           : 11292\n",
        "Number of records for class : 709\n",
        "Proportion                  : 0.0627878143819\n",
        "\n",
        "Recall                     : 0.846262341326\n",
        "Precision                  : 0.933125972006\n",
        "F1 score                   : 0.887573964497\n",
        "ACCURACY:                  : 98.6539142756%\n",
        "\n",
        "\n"
       ]
      }
     ],
     "prompt_number": 341
    },
    {
     "cell_type": "code",
     "collapsed": false,
     "input": [
      "\n",
      "d = defaultdict(int)\n",
      "for p in ys[:10000]:\n",
      "    d[p[0]] += 1\n",
      "#d.items()\n",
      "total = float(sum(d.values()))\n",
      "print d[min(d.keys())] / total, d[1] / total\n",
      "print d.items()"
     ],
     "language": "python",
     "metadata": {},
     "outputs": []
    },
    {
     "cell_type": "markdown",
     "metadata": {},
     "source": [
      "Train a Neural Network Language Model\n",
      "-------------------------------------"
     ]
    },
    {
     "cell_type": "code",
     "collapsed": false,
     "input": [
      "def window2lmvectors(window):\n",
      "    xs = []\n",
      "    for wd, lbls in window[:-1]:\n",
      "        xs.append(wd2vector[wd])\n",
      "    np_xs = np.hstack(xs)\n",
      "    return (np_xs, wd2vector[window[-1][0]])"
     ],
     "language": "python",
     "metadata": {},
     "outputs": [],
     "prompt_number": 342
    },
    {
     "cell_type": "code",
     "collapsed": false,
     "input": [
      "xs2, ys2 = [], []\n",
      "for i, windows in ix2windows.items():\n",
      "    for window in windows:\n",
      "        x, y = window2lmvectors(window)\n",
      "        xs2.append(x)\n",
      "        ys2.append(y)"
     ],
     "language": "python",
     "metadata": {},
     "outputs": [],
     "prompt_number": 343
    },
    {
     "cell_type": "code",
     "collapsed": false,
     "input": [
      "nn.layers[0].weights.shape"
     ],
     "language": "python",
     "metadata": {},
     "outputs": [
      {
       "metadata": {},
       "output_type": "pyout",
       "prompt_number": 371,
       "text": [
        "(50, 360)"
       ]
      }
     ],
     "prompt_number": 371
    },
    {
     "cell_type": "code",
     "collapsed": false,
     "input": [
      "VECTOR_SIZE = 50\n",
      "TD = int(len(xs2) * 0.65)\n",
      "\n",
      "hidden_in  = VECTOR_SIZE * (WINDOW_SIZE -1)\n",
      "#hidden_out = (hidden_in + len(ys[0])) / 2\n",
      "convolutions = len(xs2[0]) / len(wd2vector) #WINDOW_SIZE - 1\n",
      "\n",
      "lmlayers = [\n",
      "        ConvolutionalLayer(len(xs2[0]),  hidden_in,   activation_fn = \"relu\",    momentum=0.0, convolutions=convolutions),\n",
      "        Layer(              hidden_in,   len(ys2[0]), activation_fn = \"softmax\", momentum=0.5),        \n",
      "    ]\n",
      "\n",
      "# With low freq classes and convolutional layers, use a batch_size == 1 and NO momentum in that layer\n",
      "lmnn = MLP(lmlayers, learning_rate=0.1, weight_decay=0.0, epochs=100, batch_size=5,\n",
      "             lr_increase_multiplier=1.2, lr_decrease_multiplier=0.6)\n",
      "\n",
      "lmnn.fit(xs2[:TD], ys2[:TD], epochs=150)"
     ],
     "language": "python",
     "metadata": {},
     "outputs": [
      {
       "output_type": "stream",
       "stream": "stdout",
       "text": [
        "MSE for epoch 0 is 0.0018115 \tMAE for epoch 0 is 0.00363117 \tlearning rate is 0.1\n",
        "MSE for epoch 1 is 0.00170924"
       ]
      },
      {
       "output_type": "stream",
       "stream": "stdout",
       "text": [
        " \tMAE for epoch 1 is 0.00342582 \tlearning rate is 0.1\n",
        "MSE for epoch 2 is 0.00165339"
       ]
      },
      {
       "output_type": "stream",
       "stream": "stdout",
       "text": [
        " \tMAE for epoch 2 is 0.00330263 \tlearning rate is 0.12\n",
        "MSE for epoch 3 is 0.00159662"
       ]
      },
      {
       "output_type": "stream",
       "stream": "stdout",
       "text": [
        " \tMAE for epoch 3 is 0.00317133 \tlearning rate is 0.144\n",
        "MSE for epoch 4 is 0.00154408"
       ]
      },
      {
       "output_type": "stream",
       "stream": "stdout",
       "text": [
        " \tMAE for epoch 4 is 0.00304645 \tlearning rate is 0.1728\n",
        "MSE for epoch 5 is 0.00150715"
       ]
      },
      {
       "output_type": "stream",
       "stream": "stdout",
       "text": [
        " \tMAE for epoch 5 is 0.00293484 \tlearning rate is 0.20736\n",
        "MSE for epoch 6 is 0.00148757"
       ]
      },
      {
       "output_type": "stream",
       "stream": "stdout",
       "text": [
        " \tMAE for epoch 6 is 0.00285624 \tlearning rate is 0.248832\n",
        "MSE for epoch 7 is 0.00146611"
       ]
      },
      {
       "output_type": "stream",
       "stream": "stdout",
       "text": [
        " \tMAE for epoch 7 is 0.00277385 \tlearning rate is 0.2985984\n",
        "MSE for epoch 8 is 0.00147102"
       ]
      },
      {
       "output_type": "stream",
       "stream": "stdout",
       "text": [
        " \tMAE for epoch 8 is 0.002727 \tlearning rate is 0.35831808\n",
        "MSE for epoch 9 is 0.00148146"
       ]
      },
      {
       "output_type": "stream",
       "stream": "stdout",
       "text": [
        " \tMAE for epoch 9 is 0.00269449 \tlearning rate is 0.429981696\n",
        "MSE for epoch 10 is 0.00149869"
       ]
      },
      {
       "output_type": "stream",
       "stream": "stdout",
       "text": [
        " \tMAE for epoch 10 is 0.00269186 \tlearning rate is 0.5159780352\n",
        "MSE for epoch 11 is 0.00153927"
       ]
      },
      {
       "output_type": "stream",
       "stream": "stdout",
       "text": [
        " \tMAE for epoch 11 is 0.00272278 \tlearning rate is 0.61917364224\n",
        "MSE for epoch 12 is 0.00131842"
       ]
      },
      {
       "output_type": "stream",
       "stream": "stdout",
       "text": [
        " \tMAE for epoch 12 is 0.00239152 \tlearning rate is 0.371504185344\n",
        "MSE for epoch 13 is 0.00135051"
       ]
      },
      {
       "output_type": "stream",
       "stream": "stdout",
       "text": [
        " \tMAE for epoch 13 is 0.00241033 \tlearning rate is 0.445805022413\n",
        "MSE for epoch 14 is 0.00113996"
       ]
      },
      {
       "output_type": "stream",
       "stream": "stdout",
       "text": [
        " \tMAE for epoch 14 is 0.00212053 \tlearning rate is 0.267483013448\n",
        "MSE for epoch 15 is 0.00115361"
       ]
      },
      {
       "output_type": "stream",
       "stream": "stdout",
       "text": [
        " \tMAE for epoch 15 is 0.00213066 \tlearning rate is 0.320979616137\n",
        "MSE for epoch 16 is 0.00099417"
       ]
      },
      {
       "output_type": "stream",
       "stream": "stdout",
       "text": [
        " \tMAE for epoch 16 is 0.00190631 \tlearning rate is 0.192587769682\n",
        "MSE for epoch 17 is 0.00100778"
       ]
      },
      {
       "output_type": "stream",
       "stream": "stdout",
       "text": [
        " \tMAE for epoch 17 is 0.00191837 \tlearning rate is 0.231105323619\n",
        "MSE for epoch 18 is 0.00087293"
       ]
      },
      {
       "output_type": "stream",
       "stream": "stdout",
       "text": [
        " \tMAE for epoch 18 is 0.00173351 \tlearning rate is 0.138663194171\n",
        "MSE for epoch 19 is 0.00088767"
       ]
      },
      {
       "output_type": "stream",
       "stream": "stdout",
       "text": [
        " \tMAE for epoch 19 is 0.00174718 \tlearning rate is 0.166395833006\n",
        "MSE for epoch 20 is 0.00077847"
       ]
      },
      {
       "output_type": "stream",
       "stream": "stdout",
       "text": [
        " \tMAE for epoch 20 is 0.00159774 \tlearning rate is 0.0998374998033\n",
        "MSE for epoch 21 is 0.00078843"
       ]
      },
      {
       "output_type": "stream",
       "stream": "stdout",
       "text": [
        " \tMAE for epoch 21 is 0.00161209 \tlearning rate is 0.119804999764\n",
        "MSE for epoch 22 is 0.00070881"
       ]
      },
      {
       "output_type": "stream",
       "stream": "stdout",
       "text": [
        " \tMAE for epoch 22 is 0.00150611 \tlearning rate is 0.0718829998584\n",
        "MSE for epoch 23 is 0.00071776"
       ]
      },
      {
       "output_type": "stream",
       "stream": "stdout",
       "text": [
        " \tMAE for epoch 23 is 0.00151169 \tlearning rate is 0.0862595998301\n",
        "MSE for epoch 24 is 0.00065445"
       ]
      },
      {
       "output_type": "stream",
       "stream": "stdout",
       "text": [
        " \tMAE for epoch 24 is 0.00142709 \tlearning rate is 0.051755759898\n",
        "MSE for epoch 25 is 0.000665"
       ]
      },
      {
       "output_type": "stream",
       "stream": "stdout",
       "text": [
        " \tMAE for epoch 25 is 0.00144057 \tlearning rate is 0.0621069118776\n",
        "MSE for epoch 26 is 0.0006187"
       ]
      },
      {
       "output_type": "stream",
       "stream": "stdout",
       "text": [
        " \tMAE for epoch 26 is 0.00138112 \tlearning rate is 0.0372641471266\n",
        "MSE for epoch 27 is 0.00062124"
       ]
      },
      {
       "output_type": "stream",
       "stream": "stdout",
       "text": [
        " \tMAE for epoch 27 is 0.00138239 \tlearning rate is 0.0447169765519\n",
        "MSE for epoch 28 is 0.00058718"
       ]
      },
      {
       "output_type": "stream",
       "stream": "stdout",
       "text": [
        " \tMAE for epoch 28 is 0.00133823 \tlearning rate is 0.0268301859311\n",
        "MSE for epoch 29 is 0.0005912"
       ]
      },
      {
       "output_type": "stream",
       "stream": "stdout",
       "text": [
        " \tMAE for epoch 29 is 0.00134207 \tlearning rate is 0.0321962231174\n",
        "MSE for epoch 30 is 0.00056497"
       ]
      },
      {
       "output_type": "stream",
       "stream": "stdout",
       "text": [
        " \tMAE for epoch 30 is 0.00130831 \tlearning rate is 0.0193177338704\n",
        "MSE for epoch 31 is 0.00056798"
       ]
      },
      {
       "output_type": "stream",
       "stream": "stdout",
       "text": [
        " \tMAE for epoch 31 is 0.00131061 \tlearning rate is 0.0231812806445\n",
        "MSE for epoch 32 is 0.00054939"
       ]
      },
      {
       "output_type": "stream",
       "stream": "stdout",
       "text": [
        " \tMAE for epoch 32 is 0.001288 \tlearning rate is 0.0139087683867\n",
        "MSE for epoch 33 is 0.00055248"
       ]
      },
      {
       "output_type": "stream",
       "stream": "stdout",
       "text": [
        " \tMAE for epoch 33 is 0.0012924 \tlearning rate is 0.016690522064\n",
        "MSE for epoch 34 is 0.00053784"
       ]
      },
      {
       "output_type": "stream",
       "stream": "stdout",
       "text": [
        " \tMAE for epoch 34 is 0.00127232 \tlearning rate is 0.0100143132384\n",
        "MSE for epoch 35 is 0.00053979"
       ]
      },
      {
       "output_type": "stream",
       "stream": "stdout",
       "text": [
        " \tMAE for epoch 35 is 0.00127466 \tlearning rate is 0.0120171758861\n",
        "MSE for epoch 36 is 0.00052898"
       ]
      },
      {
       "output_type": "stream",
       "stream": "stdout",
       "text": [
        " \tMAE for epoch 36 is 0.0012604 \tlearning rate is 0.00721030553167\n",
        "MSE for epoch 37 is 0.00053099"
       ]
      },
      {
       "output_type": "stream",
       "stream": "stdout",
       "text": [
        " \tMAE for epoch 37 is 0.00126315 \tlearning rate is 0.008652366638\n",
        "MSE for epoch 38 is 0.00052317"
       ]
      },
      {
       "output_type": "stream",
       "stream": "stdout",
       "text": [
        " \tMAE for epoch 38 is 0.00125365 \tlearning rate is 0.0051914199828\n",
        "MSE for epoch 39 is 0.00052461"
       ]
      },
      {
       "output_type": "stream",
       "stream": "stdout",
       "text": [
        " \tMAE for epoch 39 is 0.00125451 \tlearning rate is 0.00622970397936\n",
        "MSE for epoch 40 is 0.00051845"
       ]
      },
      {
       "output_type": "stream",
       "stream": "stdout",
       "text": [
        " \tMAE for epoch 40 is 0.00124673 \tlearning rate is 0.00373782238762\n",
        "MSE for epoch 41 is 0.0005193"
       ]
      },
      {
       "output_type": "stream",
       "stream": "stdout",
       "text": [
        " \tMAE for epoch 41 is 0.00124799 \tlearning rate is 0.00448538686514\n",
        "MSE for epoch 42 is 0.00051489"
       ]
      },
      {
       "output_type": "stream",
       "stream": "stdout",
       "text": [
        " \tMAE for epoch 42 is 0.00124193 \tlearning rate is 0.00269123211908\n",
        "MSE for epoch 43 is 0.00051555"
       ]
      },
      {
       "output_type": "stream",
       "stream": "stdout",
       "text": [
        " \tMAE for epoch 43 is 0.00124318 \tlearning rate is 0.0032294785429\n",
        "MSE for epoch 44 is 0.00051235"
       ]
      },
      {
       "output_type": "stream",
       "stream": "stdout",
       "text": [
        " \tMAE for epoch 44 is 0.00123909 \tlearning rate is 0.00193768712574\n",
        "MSE for epoch 45 is 0.0005134"
       ]
      },
      {
       "output_type": "stream",
       "stream": "stdout",
       "text": [
        " \tMAE for epoch 45 is 0.00123989 \tlearning rate is 0.00232522455089\n",
        "MSE for epoch 46 is 0.00051125"
       ]
      },
      {
       "output_type": "stream",
       "stream": "stdout",
       "text": [
        " \tMAE for epoch 46 is 0.00123706 \tlearning rate is 0.00139513473053\n",
        "MSE for epoch 47 is 0.00051153"
       ]
      },
      {
       "output_type": "stream",
       "stream": "stdout",
       "text": [
        " \tMAE for epoch 47 is 0.00123752 \tlearning rate is 0.00167416167664\n",
        "MSE for epoch 48 is 0.00050971"
       ]
      },
      {
       "output_type": "stream",
       "stream": "stdout",
       "text": [
        " \tMAE for epoch 48 is 0.00123538 \tlearning rate is 0.00100449700598\n",
        "MSE for epoch 49 is 0.00051002"
       ]
      },
      {
       "output_type": "stream",
       "stream": "stdout",
       "text": [
        " \tMAE for epoch 49 is 0.0012354 \tlearning rate is 0.00120539640718\n",
        "MSE for epoch 50 is 0.00050884"
       ]
      },
      {
       "output_type": "stream",
       "stream": "stdout",
       "text": [
        " \tMAE for epoch 50 is 0.00123393 \tlearning rate is 0.000723237844308\n",
        "MSE for epoch 51 is 0.00050901"
       ]
      },
      {
       "output_type": "stream",
       "stream": "stdout",
       "text": [
        " \tMAE for epoch 51 is 0.00123418 \tlearning rate is 0.00086788541317\n",
        "MSE for epoch 52 is 0.00050819"
       ]
      },
      {
       "output_type": "stream",
       "stream": "stdout",
       "text": [
        " \tMAE for epoch 52 is 0.00123309 \tlearning rate is 0.000520731247902\n",
        "MSE for epoch 53 is 0.00050809"
       ]
      },
      {
       "output_type": "stream",
       "stream": "stdout",
       "text": [
        " \tMAE for epoch 53 is 0.00123344 \tlearning rate is 0.000624877497482\n",
        "MSE for epoch 54 is 0.00050758"
       ]
      },
      {
       "output_type": "stream",
       "stream": "stdout",
       "text": [
        " \tMAE for epoch 54 is 0.00123259 \tlearning rate is 0.000374926498489\n",
        "MSE for epoch 55 is 0.00050765"
       ]
      },
      {
       "output_type": "stream",
       "stream": "stdout",
       "text": [
        " \tMAE for epoch 55 is 0.00123266 \tlearning rate is 0.000449911798187\n",
        "MSE for epoch 56 is 0.00050721"
       ]
      },
      {
       "output_type": "stream",
       "stream": "stdout",
       "text": [
        " \tMAE for epoch 56 is 0.00123215 \tlearning rate is 0.000269947078912\n",
        "MSE for epoch 57 is 0.00050732"
       ]
      },
      {
       "output_type": "stream",
       "stream": "stdout",
       "text": [
        " \tMAE for epoch 57 is 0.00123224 \tlearning rate is 0.000323936494695\n",
        "MSE for epoch 58 is 0.00050692"
       ]
      },
      {
       "output_type": "stream",
       "stream": "stdout",
       "text": [
        " \tMAE for epoch 58 is 0.00123171 \tlearning rate is 0.000194361896817\n",
        "MSE for epoch 59 is 0.00050698"
       ]
      },
      {
       "output_type": "stream",
       "stream": "stdout",
       "text": [
        " \tMAE for epoch 59 is 0.00123181 \tlearning rate is 0.00023323427618\n",
        "MSE for epoch 60 is 0.00050676"
       ]
      },
      {
       "output_type": "stream",
       "stream": "stdout",
       "text": [
        " \tMAE for epoch 60 is 0.00123158 \tlearning rate is 0.000139940565708\n",
        "MSE for epoch 61 is 0.0005068"
       ]
      },
      {
       "output_type": "stream",
       "stream": "stdout",
       "text": [
        " \tMAE for epoch 61 is 0.00123157 \tlearning rate is 0.00016792867885\n",
        "MSE for epoch 62 is 0.00050689"
       ]
      },
      {
       "output_type": "stream",
       "stream": "stdout",
       "text": [
        " \tMAE for epoch 62 is 0.00123154 \tlearning rate is 0.00020151441462\n",
        "MSE for epoch 63 is 0.00050706"
       ]
      },
      {
       "output_type": "stream",
       "stream": "stdout",
       "text": [
        " \tMAE for epoch 63 is 0.00123167 \tlearning rate is 0.000241817297544\n",
        "MSE for epoch 64 is 0.00050673"
       ]
      },
      {
       "output_type": "stream",
       "stream": "stdout",
       "text": [
        " \tMAE for epoch 64 is 0.00123132 \tlearning rate is 0.000145090378526\n",
        "MSE for epoch 65 is 0.00050677"
       ]
      },
      {
       "output_type": "stream",
       "stream": "stdout",
       "text": [
        " \tMAE for epoch 65 is 0.00123134 \tlearning rate is 0.000174108454232\n",
        "MSE for epoch 66 is 0.0005066"
       ]
      },
      {
       "output_type": "stream",
       "stream": "stdout",
       "text": [
        " \tMAE for epoch 66 is 0.00123112 \tlearning rate is 0.000104465072539\n",
        "MSE for epoch 67 is 0.00050656"
       ]
      },
      {
       "output_type": "stream",
       "stream": "stdout",
       "text": [
        " \tMAE for epoch 67 is 0.00123115 \tlearning rate is 0.000125358087047\n",
        "MSE for epoch 68 is 0.00050647"
       ]
      },
      {
       "output_type": "stream",
       "stream": "stdout",
       "text": [
        " \tMAE for epoch 68 is 0.00123098 \tlearning rate is 7.5214852228e-05\n",
        "MSE for epoch 69 is 0.00050648"
       ]
      },
      {
       "output_type": "stream",
       "stream": "stdout",
       "text": [
        " \tMAE for epoch 69 is 0.00123093 \tlearning rate is 9.02578226736e-05\n",
        "MSE for epoch 70 is 0.00050652"
       ]
      },
      {
       "output_type": "stream",
       "stream": "stdout",
       "text": [
        " \tMAE for epoch 70 is 0.00123104 \tlearning rate is 0.000108309387208\n",
        "MSE for epoch 71 is 0.00050642"
       ]
      },
      {
       "output_type": "stream",
       "stream": "stdout",
       "text": [
        " \tMAE for epoch 71 is 0.0012309 \tlearning rate is 6.4985632325e-05\n",
        "MSE for epoch 72 is 0.00050646"
       ]
      },
      {
       "output_type": "stream",
       "stream": "stdout",
       "text": [
        " \tMAE for epoch 72 is 0.00123091 \tlearning rate is 7.798275879e-05\n",
        "MSE for epoch 73 is 0.00050636"
       ]
      },
      {
       "output_type": "stream",
       "stream": "stdout",
       "text": [
        " \tMAE for epoch 73 is 0.00123084 \tlearning rate is 4.6789655274e-05\n",
        "MSE for epoch 74 is 0.00050639"
       ]
      },
      {
       "output_type": "stream",
       "stream": "stdout",
       "text": [
        " \tMAE for epoch 74 is 0.00123083 \tlearning rate is 5.61475863288e-05\n",
        "MSE for epoch 75 is 0.00050637"
       ]
      },
      {
       "output_type": "stream",
       "stream": "stdout",
       "text": [
        " \tMAE for epoch 75 is 0.00123081 \tlearning rate is 6.73771035946e-05\n",
        "MSE for epoch 76 is 0.00050643"
       ]
      },
      {
       "output_type": "stream",
       "stream": "stdout",
       "text": [
        " \tMAE for epoch 76 is 0.00123084 \tlearning rate is 8.08525243135e-05\n",
        "MSE for epoch 77 is 0.00050631"
       ]
      },
      {
       "output_type": "stream",
       "stream": "stdout",
       "text": [
        " \tMAE for epoch 77 is 0.00123073 \tlearning rate is 4.85115145881e-05\n",
        "MSE for epoch 78 is 0.00050632"
       ]
      },
      {
       "output_type": "stream",
       "stream": "stdout",
       "text": [
        " \tMAE for epoch 78 is 0.00123076 \tlearning rate is 5.82138175057e-05\n",
        "MSE for epoch 79 is 0.00050627"
       ]
      },
      {
       "output_type": "stream",
       "stream": "stdout",
       "text": [
        " \tMAE for epoch 79 is 0.00123068 \tlearning rate is 3.49282905034e-05\n",
        "MSE for epoch 80 is 0.00050627"
       ]
      },
      {
       "output_type": "stream",
       "stream": "stdout",
       "text": [
        " \tMAE for epoch 80 is 0.00123068 \tlearning rate is 4.19139486041e-05\n",
        "MSE for epoch 81 is 0.00050624"
       ]
      },
      {
       "output_type": "stream",
       "stream": "stdout",
       "text": [
        " \tMAE for epoch 81 is 0.00123066 \tlearning rate is 2.51483691625e-05\n",
        "MSE for epoch 82 is 0.00050625"
       ]
      },
      {
       "output_type": "stream",
       "stream": "stdout",
       "text": [
        " \tMAE for epoch 82 is 0.00123065 \tlearning rate is 3.0178042995e-05\n",
        "MSE for epoch 83 is 0.00050626"
       ]
      },
      {
       "output_type": "stream",
       "stream": "stdout",
       "text": [
        " \tMAE for epoch 83 is 0.00123063 \tlearning rate is 3.62136515939e-05\n",
        "MSE for epoch 84 is 0.00050628"
       ]
      },
      {
       "output_type": "stream",
       "stream": "stdout",
       "text": [
        " \tMAE for epoch 84 is 0.00123064 \tlearning rate is 4.34563819127e-05\n",
        "MSE for epoch 85 is 0.00050622"
       ]
      },
      {
       "output_type": "stream",
       "stream": "stdout",
       "text": [
        " \tMAE for epoch 85 is 0.00123059 \tlearning rate is 2.60738291476e-05\n",
        "MSE for epoch 86 is 0.00050623"
       ]
      },
      {
       "output_type": "stream",
       "stream": "stdout",
       "text": [
        " \tMAE for epoch 86 is 0.00123061 \tlearning rate is 3.12885949772e-05\n",
        "MSE for epoch 87 is 0.0005062"
       ]
      },
      {
       "output_type": "stream",
       "stream": "stdout",
       "text": [
        " \tMAE for epoch 87 is 0.00123057 \tlearning rate is 1.87731569863e-05\n",
        "MSE for epoch 88 is 0.0005062"
       ]
      },
      {
       "output_type": "stream",
       "stream": "stdout",
       "text": [
        " \tMAE for epoch 88 is 0.00123056 \tlearning rate is 2.25277883836e-05\n",
        "MSE for epoch 89 is 0.00050621"
       ]
      },
      {
       "output_type": "stream",
       "stream": "stdout",
       "text": [
        " \tMAE for epoch 89 is 0.00123058 \tlearning rate is 2.70333460603e-05\n",
        "MSE for epoch 90 is 0.00050618"
       ]
      },
      {
       "output_type": "stream",
       "stream": "stdout",
       "text": [
        " \tMAE for epoch 90 is 0.00123054 \tlearning rate is 1.62200076362e-05\n",
        "MSE for epoch 91 is 0.00050619"
       ]
      },
      {
       "output_type": "stream",
       "stream": "stdout",
       "text": [
        " \tMAE for epoch 91 is 0.00123055 \tlearning rate is 1.94640091634e-05\n",
        "MSE for epoch 92 is 0.00050617"
       ]
      },
      {
       "output_type": "stream",
       "stream": "stdout",
       "text": [
        " \tMAE for epoch 92 is 0.00123052 \tlearning rate is 1.1678405498e-05\n",
        "MSE for epoch 93 is 0.00050617"
       ]
      },
      {
       "output_type": "stream",
       "stream": "stdout",
       "text": [
        " \tMAE for epoch 93 is 0.00123052 \tlearning rate is 1.40140865976e-05\n",
        "MSE for epoch 94 is 0.00050616"
       ]
      },
      {
       "output_type": "stream",
       "stream": "stdout",
       "text": [
        " \tMAE for epoch 94 is 0.0012305 \tlearning rate is 8.40845195859e-06\n",
        "MSE for epoch 95 is 0.00050616"
       ]
      },
      {
       "output_type": "stream",
       "stream": "stdout",
       "text": [
        " \tMAE for epoch 95 is 0.00123051 \tlearning rate is 1.00901423503e-05\n",
        "MSE for epoch 96 is 0.00050615"
       ]
      },
      {
       "output_type": "stream",
       "stream": "stdout",
       "text": [
        " \tMAE for epoch 96 is 0.00123049 \tlearning rate is 6.05408541018e-06\n",
        "MSE for epoch 97 is 0.00050615"
       ]
      },
      {
       "output_type": "stream",
       "stream": "stdout",
       "text": [
        " \tMAE for epoch 97 is 0.0012305 \tlearning rate is 7.26490249222e-06\n",
        "MSE for epoch 98 is 0.00050614"
       ]
      },
      {
       "output_type": "stream",
       "stream": "stdout",
       "text": [
        " \tMAE for epoch 98 is 0.00123048 \tlearning rate is 4.35894149533e-06\n",
        "MSE for epoch 99 is 0.00050614"
       ]
      },
      {
       "output_type": "stream",
       "stream": "stdout",
       "text": [
        " \tMAE for epoch 99 is 0.00123048 \tlearning rate is 5.2307297944e-06\n",
        "MSE for epoch 100 is 0.00050615"
       ]
      },
      {
       "output_type": "stream",
       "stream": "stdout",
       "text": [
        " \tMAE for epoch 100 is 0.00123049 \tlearning rate is 6.27687575328e-06\n",
        "MSE for epoch 101 is 0.00050614"
       ]
      },
      {
       "output_type": "stream",
       "stream": "stdout",
       "text": [
        " \tMAE for epoch 101 is 0.00123047 \tlearning rate is 3.76612545197e-06\n",
        "MSE for epoch 102 is 0.00050614"
       ]
      },
      {
       "output_type": "stream",
       "stream": "stdout",
       "text": [
        " \tMAE for epoch 102 is 0.00123048 \tlearning rate is 4.51935054236e-06\n",
        "MSE for epoch 103 is 0.00050613"
       ]
      },
      {
       "output_type": "stream",
       "stream": "stdout",
       "text": [
        " \tMAE for epoch 103 is 0.00123047 \tlearning rate is 2.71161032542e-06\n",
        "MSE for epoch 104 is 0.00050614"
       ]
      },
      {
       "output_type": "stream",
       "stream": "stdout",
       "text": [
        " \tMAE for epoch 104 is 0.00123047 \tlearning rate is 3.2539323905e-06\n",
        "MSE for epoch 105 is 0.00050613"
       ]
      },
      {
       "output_type": "stream",
       "stream": "stdout",
       "text": [
        " \tMAE for epoch 105 is 0.00123047 \tlearning rate is 1.9523594343e-06\n",
        "MSE for epoch 106 is 0.00050613"
       ]
      },
      {
       "output_type": "stream",
       "stream": "stdout",
       "text": [
        " \tMAE for epoch 106 is 0.00123047 \tlearning rate is 2.34283132116e-06\n",
        "MSE for epoch 107 is 0.00050613"
       ]
      },
      {
       "output_type": "stream",
       "stream": "stdout",
       "text": [
        " \tMAE for epoch 107 is 0.00123047 \tlearning rate is 2.81139758539e-06\n",
        "MSE for epoch 108 is 0.00050613"
       ]
      },
      {
       "output_type": "stream",
       "stream": "stdout",
       "text": [
        " \tMAE for epoch 108 is 0.00123047 \tlearning rate is 1.68683855123e-06\n",
        "MSE for epoch 109 is 0.00050613"
       ]
      },
      {
       "output_type": "stream",
       "stream": "stdout",
       "text": [
        " \tMAE for epoch 109 is 0.00123047 \tlearning rate is 2.02420626148e-06\n",
        "MSE for epoch 110 is 0.00050613"
       ]
      },
      {
       "output_type": "stream",
       "stream": "stdout",
       "text": [
        " \tMAE for epoch 110 is 0.00123047 \tlearning rate is 1.21452375689e-06\n",
        "MSE for epoch 111 is 0.00050613"
       ]
      },
      {
       "output_type": "stream",
       "stream": "stdout",
       "text": [
        " \tMAE for epoch 111 is 0.00123047 \tlearning rate is 1.45742850827e-06\n",
        "MSE for epoch 112 is 0.00050613"
       ]
      },
      {
       "output_type": "stream",
       "stream": "stdout",
       "text": [
        " \tMAE for epoch 112 is 0.00123046 \tlearning rate is 8.7445710496e-07\n",
        "MSE for epoch 113 is 0.00050613"
       ]
      },
      {
       "output_type": "stream",
       "stream": "stdout",
       "text": [
        " \tMAE for epoch 113 is 0.00123046 \tlearning rate is 1.04934852595e-06\n",
        "MSE for epoch 114 is 0.00050613"
       ]
      },
      {
       "output_type": "stream",
       "stream": "stdout",
       "text": [
        " \tMAE for epoch 114 is 0.00123046 \tlearning rate is 6.29609115571e-07\n",
        "MSE for epoch 115 is 0.00050613"
       ]
      },
      {
       "output_type": "stream",
       "stream": "stdout",
       "text": [
        " \tMAE for epoch 115 is 0.00123046 \tlearning rate is 7.55530938686e-07\n",
        "MSE for epoch 116 is 0.00050613"
       ]
      },
      {
       "output_type": "stream",
       "stream": "stdout",
       "text": [
        " \tMAE for epoch 116 is 0.00123046 \tlearning rate is 4.53318563211e-07\n",
        "MSE for epoch 117 is 0.00050613"
       ]
      },
      {
       "output_type": "stream",
       "stream": "stdout",
       "text": [
        " \tMAE for epoch 117 is 0.00123046 \tlearning rate is 5.43982275854e-07\n",
        "MSE for epoch 118 is 0.00050612"
       ]
      },
      {
       "output_type": "stream",
       "stream": "stdout",
       "text": [
        " \tMAE for epoch 118 is 0.00123046 \tlearning rate is 3.26389365512e-07\n",
        "MSE for epoch 119 is 0.00050612"
       ]
      },
      {
       "output_type": "stream",
       "stream": "stdout",
       "text": [
        " \tMAE for epoch 119 is 0.00123046 \tlearning rate is 3.91667238615e-07\n",
        "MSE for epoch 120 is 0.00050612"
       ]
      },
      {
       "output_type": "stream",
       "stream": "stdout",
       "text": [
        " \tMAE for epoch 120 is 0.00123046 \tlearning rate is 4.70000686338e-07\n",
        "MSE for epoch 121 is 0.00050612"
       ]
      },
      {
       "output_type": "stream",
       "stream": "stdout",
       "text": [
        " \tMAE for epoch 121 is 0.00123046 \tlearning rate is 2.82000411803e-07\n",
        "MSE for epoch 122 is 0.00050612"
       ]
      },
      {
       "output_type": "stream",
       "stream": "stdout",
       "text": [
        " \tMAE for epoch 122 is 0.00123046 \tlearning rate is 3.38400494163e-07\n",
        "MSE for epoch 123 is 0.00050612"
       ]
      },
      {
       "output_type": "stream",
       "stream": "stdout",
       "text": [
        " \tMAE for epoch 123 is 0.00123046 \tlearning rate is 2.03040296498e-07\n",
        "MSE for epoch 124 is 0.00050612"
       ]
      },
      {
       "output_type": "stream",
       "stream": "stdout",
       "text": [
        " \tMAE for epoch 124 is 0.00123046 \tlearning rate is 2.43648355797e-07\n",
        "MSE for epoch 125 is 0.00050612"
       ]
      },
      {
       "output_type": "stream",
       "stream": "stdout",
       "text": [
        " \tMAE for epoch 125 is 0.00123046 \tlearning rate is 1.46189013478e-07\n",
        "MSE for epoch 126 is 0.00050612"
       ]
      },
      {
       "output_type": "stream",
       "stream": "stdout",
       "text": [
        " \tMAE for epoch 126 is 0.00123046 \tlearning rate is 1.75426816174e-07\n",
        "MSE for epoch 127 is 0.00050612"
       ]
      },
      {
       "output_type": "stream",
       "stream": "stdout",
       "text": [
        " \tMAE for epoch 127 is 0.00123046 \tlearning rate is 1.05256089704e-07\n",
        "MSE for epoch 128 is 0.00050612"
       ]
      },
      {
       "output_type": "stream",
       "stream": "stdout",
       "text": [
        " \tMAE for epoch 128 is 0.00123046 \tlearning rate is 1.26307307645e-07\n",
        "MSE for epoch 129 is 0.00050612"
       ]
      },
      {
       "output_type": "stream",
       "stream": "stdout",
       "text": [
        " \tMAE for epoch 129 is 0.00123046 \tlearning rate is 7.57843845872e-08\n",
        "MSE for epoch 130 is 0.00050612"
       ]
      },
      {
       "output_type": "stream",
       "stream": "stdout",
       "text": [
        " \tMAE for epoch 130 is 0.00123046 \tlearning rate is 9.09412615047e-08\n",
        "MSE for epoch 131 is 0.00050612"
       ]
      },
      {
       "output_type": "stream",
       "stream": "stdout",
       "text": [
        " \tMAE for epoch 131 is 0.00123046 \tlearning rate is 5.45647569028e-08\n",
        "MSE for epoch 132 is 0.00050612"
       ]
      },
      {
       "output_type": "stream",
       "stream": "stdout",
       "text": [
        " \tMAE for epoch 132 is 0.00123046 \tlearning rate is 6.54777082834e-08\n",
        "MSE for epoch 133 is 0.00050612"
       ]
      },
      {
       "output_type": "stream",
       "stream": "stdout",
       "text": [
        " \tMAE for epoch 133 is 0.00123046 \tlearning rate is 3.928662497e-08\n",
        "MSE for epoch 134 is 0.00050612"
       ]
      },
      {
       "output_type": "stream",
       "stream": "stdout",
       "text": [
        " \tMAE for epoch 134 is 0.00123046 \tlearning rate is 4.7143949964e-08\n",
        "MSE for epoch 135 is 0.00050612"
       ]
      },
      {
       "output_type": "stream",
       "stream": "stdout",
       "text": [
        " \tMAE for epoch 135 is 0.00123046 \tlearning rate is 2.82863699784e-08\n",
        "MSE for epoch 136 is 0.00050612"
       ]
      },
      {
       "output_type": "stream",
       "stream": "stdout",
       "text": [
        " \tMAE for epoch 136 is 0.00123046 \tlearning rate is 3.39436439741e-08\n",
        "MSE for epoch 137 is 0.00050612"
       ]
      },
      {
       "output_type": "stream",
       "stream": "stdout",
       "text": [
        " \tMAE for epoch 137 is 0.00123046 \tlearning rate is 2.03661863845e-08\n",
        "MSE for epoch 138 is 0.00050612"
       ]
      },
      {
       "output_type": "stream",
       "stream": "stdout",
       "text": [
        " \tMAE for epoch 138 is 0.00123046 \tlearning rate is 2.44394236613e-08\n",
        "MSE for epoch 139 is 0.00050612"
       ]
      },
      {
       "output_type": "stream",
       "stream": "stdout",
       "text": [
        " \tMAE for epoch 139 is 0.00123046 \tlearning rate is 1.46636541968e-08\n",
        "MSE for epoch 140 is 0.00050612"
       ]
      },
      {
       "output_type": "stream",
       "stream": "stdout",
       "text": [
        " \tMAE for epoch 140 is 0.00123046 \tlearning rate is 1.75963850362e-08\n",
        "MSE for epoch 141 is 0.00050612"
       ]
      },
      {
       "output_type": "stream",
       "stream": "stdout",
       "text": [
        " \tMAE for epoch 141 is 0.00123046 \tlearning rate is 2.11156620434e-08\n",
        "MSE for epoch 142 is 0.00050612"
       ]
      },
      {
       "output_type": "stream",
       "stream": "stdout",
       "text": [
        " \tMAE for epoch 142 is 0.00123046 \tlearning rate is 1.2669397226e-08\n",
        "MSE for epoch 143 is 0.00050612"
       ]
      },
      {
       "output_type": "stream",
       "stream": "stdout",
       "text": [
        " \tMAE for epoch 143 is 0.00123046 \tlearning rate is 1.52032766712e-08\n",
        "MSE for epoch 144 is 0.00050612"
       ]
      },
      {
       "output_type": "stream",
       "stream": "stdout",
       "text": [
        " \tMAE for epoch 144 is 0.00123046 \tlearning rate is 9.12196600275e-09\n",
        "MSE for epoch 145 is 0.00050612"
       ]
      },
      {
       "output_type": "stream",
       "stream": "stdout",
       "text": [
        " \tMAE for epoch 145 is 0.00123046 \tlearning rate is 1.09463592033e-08\n",
        "MSE for epoch 146 is 0.00050612"
       ]
      },
      {
       "output_type": "stream",
       "stream": "stdout",
       "text": [
        " \tMAE for epoch 146 is 0.00123046 \tlearning rate is 1.3135631044e-08\n",
        "MSE for epoch 147 is 0.00050612"
       ]
      },
      {
       "output_type": "stream",
       "stream": "stdout",
       "text": [
        " \tMAE for epoch 147 is 0.00123046 \tlearning rate is 7.88137862638e-09\n",
        "MSE for epoch 148 is 0.00050612"
       ]
      },
      {
       "output_type": "stream",
       "stream": "stdout",
       "text": [
        " \tMAE for epoch 148 is 0.00123046 \tlearning rate is 9.45765435165e-09\n",
        "MSE for epoch 149 is 0.00050612"
       ]
      },
      {
       "output_type": "stream",
       "stream": "stdout",
       "text": [
        " \tMAE for epoch 149 is 0.00123046 \tlearning rate is 5.67459261099e-09\n"
       ]
      },
      {
       "metadata": {},
       "output_type": "pyout",
       "prompt_number": 377,
       "text": [
        "(0.00050612350931357811, 0.0012304586945493265)"
       ]
      }
     ],
     "prompt_number": 377
    },
    {
     "cell_type": "code",
     "collapsed": false,
     "input": [
      "for i, windows in ix2windows.items()[:100]:\n",
      "    for win in windows:\n",
      "        s = \"\"\n",
      "        for wd, lbl in win[:-1]:\n",
      "            s += wd + \" \"\n",
      "        x,y = window2lmvectors(win)\n",
      "        p = nn.predict([x])\n",
      "        ixpred = p.argmax()\n",
      "        wd = wdgenerator.get_key(ixpred)\n",
      "\n",
      "        print s.rjust(60), \":\", win[-1][0].ljust(10), \":\", wd"
     ],
     "language": "python",
     "metadata": {},
     "outputs": [
      {
       "output_type": "stream",
       "stream": "stdout",
       "text": [
        "                <START> <START> <START> the coral bleaching  : is         : is\n",
        "                     <START> <START> the coral bleaching is  : a          : important\n",
        "                           <START> the coral bleaching is a  : different  : phenomenon\n",
        "                         the coral bleaching is a different  : they       : of\n",
        "                        coral bleaching is a different they  : are        : because\n",
        "                          bleaching is a different they are  : bleached   : bleached\n",
        "                           is a different they are bleached  : and        : .\n",
        "                          a different they are bleached and  : coral      : coral\n",
        "                      different they are bleached and coral  : bleaching  : bleaching\n",
        "                      they are bleached and coral bleaching  : .          : .\n",
        "                         are bleached and coral bleaching .  : <END>      : <END>\n",
        "                       bleached and coral bleaching . <END>  : <END>      : <END>\n",
        "                          and coral bleaching . <END> <END>  : <END>      : <END>\n",
        "                    <START> <START> <START> the bleached is  : plain      : plain\n",
        "                      <START> <START> the bleached is plain  : white      : white\n",
        "                        <START> the bleached is plain white  : .          : .\n",
        "                              the bleached is plain white .  : <END>      : <END>\n",
        "                            bleached is plain white . <END>  : <END>      : <END>\n",
        "                               is plain white . <END> <END>  : <END>      : <END>\n",
        "                   <START> <START> <START> the coral polyps  : give       : .\n",
        "                      <START> <START> the coral polyps give  : different  : the\n",
        "                    <START> the coral polyps give different  : colors     : colors\n",
        "                     the coral polyps give different colors  : .          : .\n",
        "                       coral polyps give different colors .  : <END>      : <END>\n",
        "                       polyps give different colors . <END>  : <END>      : <END>\n",
        "                        give different colors . <END> <END>  : <END>      : <END>\n",
        "                       <START> <START> <START> the the body  : of         : of\n",
        "                            <START> <START> the the body of  : polyp      : polyp\n",
        "                              <START> the the body of polyp  : .          : .\n",
        "                                    the the body of polyp .  : <END>      : <END>\n",
        "                                  the body of polyp . <END>  : <END>      : <END>\n",
        "                                body of polyp . <END> <END>  : <END>      : <END>\n",
        "                   <START> <START> <START> the process both  : carbon     : carbon\n",
        "                    <START> <START> the process both carbon  : dioxide    : dioxide\n",
        "                    <START> the process both carbon dioxide  : and        : and\n",
        "                        the process both carbon dioxide and  : release    : water\n",
        "                    process both carbon dioxide and release  : oxygen     : oxygen\n",
        "                     both carbon dioxide and release oxygen  : .          : .\n",
        "                        carbon dioxide and release oxygen .  : <END>      : <END>\n",
        "                         dioxide and release oxygen . <END>  : <END>      : <END>\n",
        "                           and release oxygen . <END> <END>  : <END>      : <END>\n",
        "                    <START> <START> <START> they know about  : changes    : changes\n",
        "                    <START> <START> they know about changes  : wind       : in\n",
        "                       <START> they know about changes wind  : ,          : and\n",
        "                             they know about changes wind ,  : ocean      : ocean\n",
        "                            know about changes wind , ocean  : currents   : currents\n",
        "                        about changes wind , ocean currents  : and        : and\n",
        "                          changes wind , ocean currents and  : temperature : temperature\n",
        "                      wind , ocean currents and temperature  : .          : .\n",
        "                         , ocean currents and temperature .  : <END>      : <END>\n",
        "                     ocean currents and temperature . <END>  : <END>      : <END>\n",
        "                     currents and temperature . <END> <END>  : <END>      : <END>\n",
        "                <START> <START> <START> this event occurred  : in         : in\n",
        "                     <START> <START> this event occurred in  : 1998       : 1998\n",
        "                        <START> this event occurred in 1998  : .          : .\n",
        "                              this event occurred in 1998 .  : <END>      : <END>\n",
        "                             event occurred in 1998 . <END>  : <END>      : <END>\n",
        "                             occurred in 1998 . <END> <END>  : <END>      : <END>\n",
        "                     <START> <START> <START> color is water  : temperature : temperature\n",
        "                 <START> <START> color is water temperature  : .          : .\n",
        "                       <START> color is water temperature .  : <END>      : <END>\n",
        "                         color is water temperature . <END>  : <END>      : <END>\n",
        "                         is water temperature . <END> <END>  : <END>      : <END>\n",
        "                     <START> <START> <START> color is trade  : wind       : wind\n",
        "                        <START> <START> color is trade wind  : strength   : strength\n",
        "                       <START> color is trade wind strength  : .          : .\n",
        "                             color is trade wind strength .  : <END>      : <END>\n",
        "                             is trade wind strength . <END>  : <END>      : <END>\n",
        "                          trade wind strength . <END> <END>  : <END>      : <END>\n",
        "                  <START> <START> <START> the along pacific  : regions    : regions\n",
        "                  <START> <START> the along pacific regions  : of         : of\n",
        "                       <START> the along pacific regions of  : south      : south\n",
        "                         the along pacific regions of south  : america    : america\n",
        "                     along pacific regions of south america  : for        : for\n",
        "                       pacific regions of south america for  : .          : .\n",
        "                             regions of south america for .  : <END>      : <END>\n",
        "                               of south america for . <END>  : <END>      : <END>\n",
        "                            south america for . <END> <END>  : <END>      : <END>\n",
        "           <START> <START> <START> normal water temperature  : will       : will\n",
        "              <START> <START> normal water temperature will  : be         : be\n",
        "                   <START> normal water temperature will be  : 70         : 70\n",
        "                        normal water temperature will be 70  : -          : -\n",
        "                             water temperature will be 70 -  : 80         : 80\n",
        "                                temperature will be 70 - 80  : degrees    : degrees\n",
        "                                    will be 70 - 80 degrees  : f          : f\n",
        "                                       be 70 - 80 degrees f  : .          : .\n",
        "                                        70 - 80 degrees f .  : <END>      : <END>\n",
        "                                     - 80 degrees f . <END> "
       ]
      },
      {
       "output_type": "stream",
       "stream": "stdout",
       "text": [
        " : <END>      : <END>\n",
        "                                 80 degrees f . <END> <END>  : <END>      : <END>\n",
        "            <START> <START> <START> ocean water temperature  : will       : will\n",
        "               <START> <START> ocean water temperature will  : be         : be\n",
        "                    <START> ocean water temperature will be  : 3          : 3\n",
        "                          ocean water temperature will be 3  : to         : to\n",
        "                             water temperature will be 3 to  : 5          : 5\n",
        "                                 temperature will be 3 to 5  : degrees    : degrees\n",
        "                                     will be 3 to 5 degrees  : f          : f\n",
        "                                        be 3 to 5 degrees f  : .          : .\n",
        "                                         3 to 5 degrees f .  : <END>      : <END>\n",
        "                                     to 5 degrees f . <END>  : <END>      : <END>\n",
        "                                  5 degrees f . <END> <END>  : <END>      : <END>\n",
        "                      <START> <START> <START> the oxygen is  : (          : (\n",
        "                            <START> <START> the oxygen is (  : )          : )\n",
        "                                  <START> the oxygen is ( )  : .          : .\n",
        "                                        the oxygen is ( ) .  : <END>      : <END>\n",
        "                                      oxygen is ( ) . <END>  : <END>      : <END>\n",
        "                                       is ( ) . <END> <END>  : <END>      : <END>\n",
        "                 <START> <START> <START> the carbon dioxide  : (          : (\n",
        "                       <START> <START> the carbon dioxide (  : co2        : co2\n",
        "                           <START> the carbon dioxide ( co2  : )          : )\n",
        "                                 the carbon dioxide ( co2 )  : .          : photosynthesis\n",
        "                                   carbon dioxide ( co2 ) .  : <END>      : <END>\n",
        "                                    dioxide ( co2 ) . <END>  : <END>      : <END>\n",
        "                                      ( co2 ) . <END> <END>  : <END>      : <END>\n",
        "                 <START> <START> <START> the necessary will  : be         : be\n",
        "                      <START> <START> the necessary will be  : coral      : a\n",
        "                        <START> the necessary will be coral  : healthy    : healthy\n",
        "                        the necessary will be coral healthy  : .          : .\n",
        "                          necessary will be coral healthy .  : <END>      : <END>\n",
        "                              will be coral healthy . <END>  : <END>      : <END>\n",
        "                             be coral healthy . <END> <END>  : <END>      : <END>\n",
        "                 <START> <START> <START> during bleaching ,  : corals     : corals\n",
        "                  <START> <START> during bleaching , corals  : turn       : turn\n",
        "                     <START> during bleaching , corals turn  : white      : white\n",
        "                       during bleaching , corals turn white  : due        : due\n",
        "                          bleaching , corals turn white due  : to         : to\n",
        "                                 , corals turn white due to  : the        : the\n",
        "                               corals turn white due to the  : ejection   : ejection\n",
        "                             turn white due to the ejection  : or         : or\n",
        "                               white due to the ejection or  : death      : death\n",
        "                               due to the ejection or death  : of         : of\n",
        "                                to the ejection or death of  : their      : their\n",
        "                             the ejection or death of their  : algae      : algae\n",
        "                           ejection or death of their algae  : .          : .\n",
        "                                  or death of their algae .  : <END>      : \"\n",
        "                               death of their algae . <END>  : <END>      : <END>\n",
        "                               of their algae . <END> <END>  : <END>      : <END>\n",
        "              <START> <START> <START> coral bleaching rates  : vary       : vary\n",
        "                 <START> <START> coral bleaching rates vary  : at         : at\n",
        "                      <START> coral bleaching rates vary at  : different  : different\n",
        "                    coral bleaching rates vary at different  : times      : times\n",
        "                    bleaching rates vary at different times  : .          : because\n",
        "                            rates vary at different times .  : <END>      : <END>\n",
        "                            vary at different times . <END>  : <END>      : <END>\n",
        "                           at different times . <END> <END>  : <END>      : <END>\n",
        "                  <START> <START> <START> the pacific trade  : winds      : winds\n",
        "                    <START> <START> the pacific trade winds  : go         : go\n",
        "                         <START> the pacific trade winds go  : from       : from\n",
        "                            the pacific trade winds go from  : east       : east\n",
        "                           pacific trade winds go from east  : to         : to\n",
        "                                trade winds go from east to  : west       : west\n",
        "                                 winds go from east to west  : .          : .\n",
        "                                     go from east to west .  : <END>      : <END>\n",
        "                                  from east to west . <END>  : <END>      : <END>\n",
        "                                 east to west . <END> <END>  : <END>      : <END>\n",
        "                     <START> <START> <START> the winds move  : the        : to\n",
        "                         <START> <START> the winds move the  : warm       : warm\n",
        "                            <START> the winds move the warm  : surface    : surface\n",
        "                            the winds move the warm surface  : waters     : waters\n",
        "                         winds move the warm surface waters  : .          : .\n",
        "                             move the warm surface waters .  : <END>      : <END>\n",
        "                            the warm surface waters . <END>  : <END>      : <END>\n",
        "                          warm surface waters . <END> <END>  : <END>      : <END>\n",
        "                  <START> <START> <START> these warm waters  : got        : got\n",
        "                      <START> <START> these warm waters got  : of         : of\n",
        "                           <START> these warm waters got of  : ,          : ,\n",
        "                                 these warm waters got of ,  : .          : bleaching\n",
        "                                     warm waters got of , .  : <END>      : <END>\n",
        "                                    waters got of , . <END>  : <END>      : <END>\n",
        "                                     got of , . <END> <END> "
       ]
      },
      {
       "output_type": "stream",
       "stream": "stdout",
       "text": [
        " : <END>      : <END>\n",
        "                        <START> <START> <START> at the same  : time       : time\n",
        "                           <START> <START> at the same time  : the        : the\n",
        "                               <START> at the same time the  : and        : colder\n",
        "                                   at the same time the and  : colder     : colder\n",
        "                               the same time the and colder  : waters     : waters\n",
        "                            same time the and colder waters  : in         : in\n",
        "                              time the and colder waters in  : the        : the\n",
        "                               the and colder waters in the  : eastern    : eastern\n",
        "                           and colder waters in the eastern  : pacific    : pacific\n",
        "                       colder waters in the eastern pacific  : rise       : rise\n",
        "                         waters in the eastern pacific rise  : to         : to\n",
        "                             in the eastern pacific rise to  : the        : the\n",
        "                            the eastern pacific rise to the  : surface    : surface\n",
        "                        eastern pacific rise to the surface  : .          : .\n",
        "                              pacific rise to the surface .  : <END>      : <END>\n",
        "                                rise to the surface . <END>  : <END>      : <END>\n",
        "                               to the surface . <END> <END>  : <END>      : <END>\n",
        "                     <START> <START> <START> this is called  : upwelling  : upwelling\n",
        "                   <START> <START> this is called upwelling  : .          : .\n",
        "                         <START> this is called upwelling .  : <END>      : <END>\n",
        "                           this is called upwelling . <END>  : <END>      : <END>\n",
        "                          is called upwelling . <END> <END>  : <END>      : <END>\n",
        "                         <START> <START> <START> i not know  : any        : any\n",
        "                             <START> <START> i not know any  : of         : of\n",
        "                                  <START> i not know any of  : this       : this\n",
        "                                     i not know any of this  : .          : .\n",
        "                                     not know any of this .  : <END>      : <END>\n",
        "                                   know any of this . <END>  : <END>      : <END>\n",
        "                                  any of this . <END> <END>  : <END>      : <END>\n",
        "            <START> <START> <START> upwelling causes colder  : temperature : temperature\n",
        "        <START> <START> upwelling causes colder temperature  : in         : in\n",
        "             <START> upwelling causes colder temperature in  : surface    : surface\n",
        "             upwelling causes colder temperature in surface  : waters     : waters\n",
        "                causes colder temperature in surface waters  : .          : .\n",
        "                     colder temperature in surface waters .  : <END>      : <END>\n",
        "                      temperature in surface waters . <END>  : <END>      : <END>\n",
        "                            in surface waters . <END> <END>  : <END>      : <END>\n",
        "                        <START> <START> <START> when i more  : i          : i\n",
        "                              <START> <START> when i more i  : that       : that\n",
        "                                 <START> when i more i that  : algae      : algae\n",
        "                                   when i more i that algae  : needs      : needs\n",
        "                                  i more i that algae needs  : to         : to\n",
        "                                 more i that algae needs to  : have       : have\n",
        "                                 i that algae needs to have  : a          : a\n",
        "                                 that algae needs to have a  : certain    : certain\n",
        "                              algae needs to have a certain  : temperature : temperature\n",
        "                        needs to have a certain temperature  : to         : of\n",
        "                           to have a certain temperature to  : stay       : stay\n",
        "                         have a certain temperature to stay  : and        : and\n",
        "                          a certain temperature to stay and  : also       : also\n",
        "                       certain temperature to stay and also  : healthy    : healthy\n",
        "                       temperature to stay and also healthy  : .          : .\n",
        "                                 to stay and also healthy .  : <END>      : <END>\n",
        "                              stay and also healthy . <END>  : <END>      : <END>\n",
        "                             and also healthy . <END> <END>  : <END>      : <END>\n",
        "                 <START> <START> <START> coral bleaching is  : when       : a\n",
        "                    <START> <START> coral bleaching is when  : algae      : the\n",
        "                      <START> coral bleaching is when algae  : die        : ,\n",
        "                          coral bleaching is when algae die  : .          : .\n",
        "                              bleaching is when algae die .  : <END>      : <END>\n",
        "                                  is when algae die . <END>  : <END>      : <END>\n",
        "                               when algae die . <END> <END>  : <END>      : <END>\n",
        "                    <START> <START> <START> the coral loses  : it         : it\n",
        "                         <START> <START> the coral loses it  : color      : color\n",
        "                           <START> the coral loses it color  : because    : because\n",
        "                           the coral loses it color because  : the        : it\n",
        "                           coral loses it color because the  : algae      : algae\n",
        "                           loses it color because the algae  : it         : and\n",
        "                              it color because the algae it  : the        : .\n",
        "                             color because the algae it the  : color      : color\n",
        "                             because the algae it the color  : in         : on\n",
        "                                  the algae it the color in  : the        : the\n",
        "                                  algae it the color in the  : first      : first\n",
        "                                  it the color in the first  : place      : place\n",
        "                               the color in the first place  : .          : .\n",
        "                                 color in the first place .  : <END>      : <END>\n",
        "                                 in the first place . <END>  : <END>      : <END>\n",
        "                              the first place . <END> <END>  : <END>      : <END>\n",
        "                     <START> <START> <START> the thing that  : bleached   : can\n",
        "                    <START> <START> the thing that bleached  : corals     : corals\n",
        "                     <START> the thing that bleached corals  : are        : are\n",
        "                         the thing that bleached corals are  : losing     : losing\n",
        "                      thing that bleached corals are losing  : algae      : algae\n",
        "                      that bleached corals are losing algae  : or         : .\n",
        "                        bleached corals are losing algae or  : very       : very\n",
        "                            corals are losing algae or very  : little     : little\n",
        "                            are losing algae or very little  : algae      : algae\n",
        "                          losing algae or very little algae  : .          : .\n",
        "                               algae or very little algae .  : <END>      : <END>\n",
        "                               or very little algae . <END>  : <END>      : <END>\n",
        "                            very little algae . <END> <END>  : <END>      : <END>\n",
        "                 <START> <START> <START> coral bleaching is  : an         : a\n",
        "                      <START> <START> coral bleaching is an "
       ]
      },
      {
       "output_type": "stream",
       "stream": "stdout",
       "text": [
        " : example    : example\n",
        "                      <START> coral bleaching is an example  : of         : of\n",
        "                           coral bleaching is an example of  : how        : how\n",
        "                             bleaching is an example of how  : environmental : environmental\n",
        "                         is an example of how environmental  : can        : can\n",
        "                        an example of how environmental can  : affect     : affect\n",
        "                    example of how environmental can affect  : the        : the\n",
        "                        of how environmental can affect the  : relationship : relationship\n",
        "              how environmental can affect the relationship  : between    : between\n",
        "          environmental can affect the relationship between  : corals     : the\n",
        "                 can affect the relationship between corals  : and        : and\n",
        "                 affect the relationship between corals and  : their      : their\n",
        "                  the relationship between corals and their  : algae      : algae\n",
        "                relationship between corals and their algae  : .          : .\n",
        "                           between corals and their algae .  : <END>      : <END>\n",
        "                             corals and their algae . <END>  : <END>      : <END>\n",
        "                              and their algae . <END> <END>  : <END>      : <END>\n",
        "              <START> <START> <START> coral bleaching rates  : vary       : vary\n",
        "                 <START> <START> coral bleaching rates vary  : at         : at\n",
        "                      <START> coral bleaching rates vary at  : different  : different\n",
        "                    coral bleaching rates vary at different  : types      : times\n",
        "                    bleaching rates vary at different types  : depending  : depending\n",
        "                    rates vary at different types depending  : on         : on\n",
        "                       vary at different types depending on  : the        : the\n",
        "                        at different types depending on the  : weather    : weather\n",
        "                   different types depending on the weather  : .          : .\n",
        "                           types depending on the weather .  : <END>      : <END>\n",
        "                           depending on the weather . <END>  : <END>      : <END>\n",
        "                               on the weather . <END> <END>  : <END>      : <END>\n",
        "            <START> <START> <START> coral bleaching happens  : by         : most\n",
        "                 <START> <START> coral bleaching happens by  : the        : the\n",
        "                     <START> coral bleaching happens by the  : corals     : color\n",
        "                      coral bleaching happens by the corals  : losing     : losing\n",
        "                     bleaching happens by the corals losing  : their      : their\n",
        "                         happens by the corals losing their  : algae      : algae\n",
        "                           by the corals losing their algae  : .          : .\n",
        "                            the corals losing their algae .  : <END>      : <END>\n",
        "                          corals losing their algae . <END>  : <END>      : <END>\n",
        "                           losing their algae . <END> <END>  : <END>      : <END>\n",
        "                    <START> <START> <START> also it happens  : when       : when\n",
        "                       <START> <START> also it happens when  : the        : the\n",
        "                           <START> also it happens when the  : corals     : corals\n",
        "                            also it happens when the corals  : start      : start\n",
        "                           it happens when the corals start  : losing     : losing\n",
        "                       happens when the corals start losing  : their      : their\n",
        "                         when the corals start losing their  : color      : color\n",
        "                        the corals start losing their color  : and        : and\n",
        "                        corals start losing their color and  : start      : start\n",
        "                         start losing their color and start  : plain      : plain\n",
        "                         losing their color and start plain  : white      : white\n",
        "                          their color and start plain white  : .          : .\n",
        "                              color and start plain white .  : <END>      : <END>\n",
        "                              and start plain white . <END>  : <END>      : <END>\n",
        "                            start plain white . <END> <END>  : <END>      : <END>\n",
        "                <START> <START> <START> why coral bleaching  : rates      : rates\n",
        "                  <START> <START> why coral bleaching rates  : vary       : vary\n",
        "                     <START> why coral bleaching rates vary  : at         : at\n",
        "                          why coral bleaching rates vary at  : different  : different\n",
        "                    coral bleaching rates vary at different  : times      : times\n",
        "                    bleaching rates vary at different times  : ?          : because\n",
        "                            rates vary at different times ?  : <END>      : <END>\n",
        "                            vary at different times ? <END>  : <END>      : <END>\n",
        "                           at different times ? <END> <END>  : <END>      : <END>\n",
        "                     <START> <START> <START> it because the  : water      : coral\n",
        "                       <START> <START> it because the water  : temperature : temperature\n",
        "                   <START> it because the water temperature  : .          : is\n",
        "                         it because the water temperature .  : <END>      : <END>\n",
        "                      because the water temperature . <END>  : <END>      : <END>\n",
        "                        the water temperature . <END> <END>  : <END>      : <END>\n",
        "                        <START> <START> <START> also if its  : or         : to\n",
        "                             <START> <START> also if its or  : the        : one\n",
        "                                 <START> also if its or the  : rates      : rates\n",
        "                                   also if its or the rates  : lower      : lower\n",
        "                                  if its or the rates lower  : .          : .\n",
        "                                   its or the rates lower .  : <END>      : <END>\n",
        "                                 or the rates lower . <END>  : <END>      : <END>\n",
        "                              the rates lower . <END> <END>  : <END>      : <END>\n",
        "                        <START> <START> <START> if its high  : one        : one\n",
        "                            <START> <START> if its high one  : it         : of\n",
        "                                 <START> if its high one it  : higher     : higher\n",
        "                                  if its high one it higher  : like       : like\n",
        "                                its high one it higher like  : or         : or\n",
        "                                 high one it higher like or  : .          : .\n",
        "                                    one it higher like or .  : <END>      : <END>\n",
        "                                  it higher like or . <END>  : <END>      : <END>\n",
        "                               higher like or . <END> <END>  : <END>      : <END>\n",
        "                       <START> <START> <START> by this time  : the        : when\n",
        "                           <START> <START> by this time the  : corals     : corals\n",
        "                            <START> by this time the corals  : are        : are\n",
        "                                by this time the corals are  : going      : going\n",
        "                             this time the corals are going  : to         : to\n",
        "                               time the corals are going to  : turn       : turn\n",
        "                               the corals are going to turn  : white      : white\n",
        "                             corals are going to turn white  : "
       ]
      },
      {
       "output_type": "stream",
       "stream": "stdout",
       "text": [
        "because    : because\n",
        "                            are going to turn white because  : its        : its\n",
        "                            going to turn white because its  : getting    : getting\n",
        "                          to turn white because its getting  : colder     : colder\n",
        "                      turn white because its getting colder  : .          : .\n",
        "                         white because its getting colder .  : <END>      : <END>\n",
        "                         because its getting colder . <END>  : <END>      : <END>\n",
        "                           its getting colder . <END> <END>  : <END>      : <END>\n",
        "                    <START> <START> <START> in conclusion ,  : the        : the\n",
        "                        <START> <START> in conclusion , the  : that       : coral\n",
        "                           <START> in conclusion , the that  : bleached   : bleached\n",
        "                          in conclusion , the that bleached  : corals     : salt\n",
        "                      conclusion , the that bleached corals  : are        : are\n",
        "                             , the that bleached corals are  : losing     : losing\n",
        "                        the that bleached corals are losing  : algae      : .\n",
        "                      that bleached corals are losing algae  : .          : .\n",
        "                         bleached corals are losing algae .  : <END>      : <END>\n",
        "                            corals are losing algae . <END>  : <END>      : <END>\n",
        "                             are losing algae . <END> <END>  : <END>      : <END>\n",
        "                  <START> <START> <START> that might happen  : in         : in\n",
        "                       <START> <START> that might happen in  : or         : or\n",
        "                            <START> that might happen in or  : time       : time\n",
        "                               that might happen in or time  : because    : ,\n",
        "                            might happen in or time because  : the        : the\n",
        "                              happen in or time because the  : sun        : sun\n",
        "                                 in or time because the sun  : gives      : gives\n",
        "                              or time because the sun gives  : salt       : salt\n",
        "                            time because the sun gives salt  : to         : to\n",
        "                              because the sun gives salt to  : the        : the\n",
        "                                  the sun gives salt to the  : algae      : algae\n",
        "                                sun gives salt to the algae  : for        : for\n",
        "                                gives salt to the algae for  : them       : them\n",
        "                                 salt to the algae for them  : to         : to\n",
        "                                   to the algae for them to  : eat        : eat\n",
        "                                  the algae for them to eat  : .          : .\n",
        "                                    algae for them to eat .  : <END>      : <END>\n",
        "                                    for them to eat . <END>  : <END>      : <END>\n",
        "                                  them to eat . <END> <END>  : <END>      : <END>\n",
        "                      <START> <START> <START> so they would  : die        : die\n",
        "                          <START> <START> so they would die  : if         : if\n",
        "                               <START> so they would die if  : they       : they\n",
        "                                  so they would die if they  : get        : get\n",
        "                                 they would die if they get  : sun        : sun\n",
        "                                  would die if they get sun  : .          : .\n",
        "                                      die if they get sun .  : <END>      : <END>\n",
        "                                    if they get sun . <END>  : <END>      : <END>\n",
        "                                 they get sun . <END> <END>  : <END>      : <END>\n",
        "                         <START> <START> <START> also , the  : rates      : zo\n",
        "                           <START> <START> also , the rates  : change     : of\n",
        "                            <START> also , the rates change  : in         : in\n",
        "                                 also , the rates change in  : different  : different\n",
        "                            , the rates change in different  : times      : times\n",
        "                        the rates change in different times  : because    : because\n",
        "                    rates change in different times because  : every      : every\n",
        "                    change in different times because every  : not        : not\n",
        "                       in different times because every not  : -          : -\n",
        "                        different times because every not -  : degrees    : degrees\n",
        "                          times because every not - degrees  : .          : .\n",
        "                              because every not - degrees .  : <END>      : <END>\n",
        "                                every not - degrees . <END>  : <END>      : <END>\n",
        "                                not - degrees . <END> <END>  : <END>      : <END>\n",
        "               <START> <START> <START> its always different  : because    : because\n",
        "               <START> <START> its always different because  : the        : of\n",
        "                   <START> its always different because the  : corals     : corals\n",
        "                    its always different because the corals  : eat        : eat\n",
        "                    always different because the corals eat  : from       : from\n",
        "                      different because the corals eat from  : the        : the\n",
        "                            because the corals eat from the  : algae      : algae\n",
        "                              the corals eat from the algae  : and        : and\n",
        "                              corals eat from the algae and  : if         : if\n",
        "                                  eat from the algae and if  : they       : they\n",
        "                                 from the algae and if they  : die        : die\n",
        "                                  the algae and if they die  : because    : .\n",
        "                              algae and if they die because  : of         : of\n",
        "                                 and if they die because of  : the        : the\n",
        "                                 if they die because of the  : cold       : cold\n",
        "                               they die because of the cold  : weather    : weather\n",
        "                            die because of the cold weather  : than       : than\n",
        "                           because of the cold weather than  : that       : that\n",
        "                              of the cold weather than that  : probably   : probably\n",
        "                        the cold weather than that probably  : means      : means\n",
        "                      cold weather than that probably means  : the        : the\n",
        "                       weather than that probably means the  : corals     : corals\n",
        "                        than that probably means the corals  : are        : are\n",
        "                         that probably means the corals are  : going      : going\n",
        "                        probably means the corals are going  : to         : to\n",
        "                              means the corals are going to  : die        : die\n",
        "                                the corals are going to die  : .          : .\n",
        "                                  corals are going to die .  : <END>      : <END>\n",
        "                                   are going to die . <END>  : <END>      : <END>\n",
        "                                 going to die . <END> <END>  : <END>      : <END>\n",
        "                         <START> <START> <START> that is my  : .          : for\n",
        "                               <START> <START> that is my .  : <END>      : <END>\n",
        "                                 <START> that is my . <END>  : <END>      : <END>\n",
        "                                   that is my . <END> <END>  : <END>      : <END>\n",
        "            <START> <START> <START> coral bleaching happens  : at         : most\n",
        "                 <START> <START> coral bleaching happens at  : different  : different\n",
        "               <START> coral bleaching happens at different "
       ]
      },
      {
       "output_type": "stream",
       "stream": "stdout",
       "text": [
        " : times      : times\n",
        "                 coral bleaching happens at different times  : .          : because\n",
        "                     bleaching happens at different times .  : <END>      : <END>\n",
        "                         happens at different times . <END>  : <END>      : <END>\n",
        "                           at different times . <END> <END>  : <END>      : <END>\n",
        "                        <START> <START> <START> for this to  : happen     : happen\n",
        "                         <START> <START> for this to happen  : it         : at\n",
        "                              <START> for this to happen it  : depends    : depends\n",
        "                              for this to happen it depends  : on         : on\n",
        "                               this to happen it depends on  : certain    : certain\n",
        "                            to happen it depends on certain  : things     : things\n",
        "                        happen it depends on certain things  : .          : .\n",
        "                             it depends on certain things .  : <END>      : <END>\n",
        "                          depends on certain things . <END>  : <END>      : <END>\n",
        "                            on certain things . <END> <END>  : <END>      : <END>\n",
        "                   <START> <START> <START> like for example  : one        : one\n",
        "                       <START> <START> like for example one  : certain    : certain\n",
        "                       <START> like for example one certain  : way        : way\n",
        "                           like for example one certain way  : is         : is\n",
        "                             for example one certain way is  : the        : the\n",
        "                             example one certain way is the  : temperature : temperature\n",
        "                         one certain way is the temperature  : .          : .\n",
        "                           certain way is the temperature .  : <END>      : <END>\n",
        "                             way is the temperature . <END>  : <END>      : <END>\n",
        "                           is the temperature . <END> <END>  : <END>      : <END>\n",
        "                        <START> <START> <START> i think the  : temperature : coral\n",
        "                    <START> <START> i think the temperature  : is         : is\n",
        "                         <START> i think the temperature is  : something  : something\n",
        "                       i think the temperature is something  : that       : that\n",
        "                    think the temperature is something that  : really     : really\n",
        "                   the temperature is something that really  : affects    : affects\n",
        "               temperature is something that really affects  : the        : the\n",
        "                       is something that really affects the  : coral      : coral\n",
        "                    something that really affects the coral  : bleaching  : bleaching\n",
        "                    that really affects the coral bleaching  : .          : .\n",
        "                       really affects the coral bleaching .  : <END>      : <END>\n",
        "                        affects the coral bleaching . <END>  : <END>      : <END>\n",
        "                          the coral bleaching . <END> <END>  : <END>      : <END>\n",
        "                <START> <START> <START> it probably affects  : it         : the\n",
        "                     <START> <START> it probably affects it  : because    : because\n",
        "                     <START> it probably affects it because  : if         : if\n",
        "                          it probably affects it because if  : it         : it\n",
        "                          probably affects it because if it  : the        : .\n",
        "                               affects it because if it the  : right      : right\n",
        "                                 it because if it the right  : temperature : temperature\n",
        "                        because if it the right temperature  : it         : .\n",
        "                             if it the right temperature it  : might      : might\n",
        "                          it the right temperature it might  : die        : die\n",
        "                         the right temperature it might die  : or         : .\n",
        "                          right temperature it might die or  : start      : start\n",
        "                          temperature it might die or start  : changing   : changing\n",
        "                             it might die or start changing  : color      : color\n",
        "                          might die or start changing color  : .          : .\n",
        "                              die or start changing color .  : <END>      : <END>\n",
        "                            or start changing color . <END>  : <END>      : <END>\n",
        "                         start changing color . <END> <END>  : <END>      : <END>\n",
        "                 <START> <START> <START> another think that  : can        : can\n",
        "                     <START> <START> another think that can  : cause      : cause\n",
        "                       <START> another think that can cause  : coral      : coral\n",
        "                         another think that can cause coral  : bleaching  : bleaching\n",
        "                       think that can cause coral bleaching  : are        : .\n",
        "                         that can cause coral bleaching are  : the        : going\n",
        "                          can cause coral bleaching are the  : changes    : different\n",
        "                      cause coral bleaching are the changes  : in         : in\n",
        "                         coral bleaching are the changes in  : wind       : trade\n",
        "                          bleaching are the changes in wind  : .          : ,\n",
        "                                  are the changes in wind .  : <END>      : <END>\n",
        "                                the changes in wind . <END>  : <END>      : <END>\n",
        "                              changes in wind . <END> <END>  : <END>      : <END>\n",
        "                    <START> <START> <START> changes in wind  : is         : ,\n",
        "                         <START> <START> changes in wind is  : also       : also\n",
        "                            <START> changes in wind is also  : a          : the\n",
        "                                  changes in wind is also a  : very       : very\n",
        "                                     in wind is also a very  : important  : important\n",
        "                              wind is also a very important  : thing      : thing\n",
        "                             is also a very important thing  : that       : to\n",
        "                           also a very important thing that  : can        : can\n",
        "                            a very important thing that can  : cause      : cause\n",
        "                        very important thing that can cause  : coral      : coral\n",
        "                       important thing that can cause coral  : bleaching  : bleaching\n",
        "                       thing that can cause coral bleaching  : .          : ,\n",
        "                           that can cause coral bleaching .  : <END>      : <END>\n",
        "                          can cause coral bleaching . <END>  : <END>      : <END>\n",
        "                        cause coral bleaching . <END> <END>  : <END>      : <END>\n",
        "                     <START> <START> <START> it might cause  : coral      : coral\n",
        "                       <START> <START> it might cause coral  : bleaching  : bleaching\n",
        "                     <START> it might cause coral bleaching  : because    : .\n",
        "                     it might cause coral bleaching because  : when       : when\n",
        "                   might cause coral bleaching because when "
       ]
      },
      {
       "output_type": "stream",
       "stream": "stdout",
       "text": [
        " : the        : the\n",
        "                     cause coral bleaching because when the  : wind       : wind\n",
        "                      coral bleaching because when the wind  : changes    : is\n",
        "                    bleaching because when the wind changes  : the        : the\n",
        "                          because when the wind changes the  : temperature : water\n",
        "                      when the wind changes the temperature  : will       : will\n",
        "                      the wind changes the temperature will  : change     : change\n",
        "                   wind changes the temperature will change  : .          : and\n",
        "                      changes the temperature will change .  : <END>      : <END>\n",
        "                        the temperature will change . <END>  : <END>      : <END>\n",
        "                      temperature will change . <END> <END>  : <END>      : <END>\n",
        "                     <START> <START> <START> for example in  : the        : the\n",
        "                         <START> <START> for example in the  : text       : text\n",
        "                            <START> for example in the text  : it         : it\n",
        "                                 for example in the text it  : \"          : had\n",
        "                                   example in the text it \"  : normal     : normal\n",
        "                                    in the text it \" normal  : water      : water\n",
        "                                 the text it \" normal water  : temperature : temperature\n",
        "                         text it \" normal water temperature  : in         : ,\n",
        "                           it \" normal water temperature in  : these      : these\n",
        "                        \" normal water temperature in these  : regions    : regions\n",
        "                  normal water temperature in these regions  : is         : .\n",
        "                      water temperature in these regions is  : 70         : 70\n",
        "                         temperature in these regions is 70  : -          : -\n",
        "                                   in these regions is 70 -  : 80         : 80\n",
        "                                   these regions is 70 - 80  : degrees    : degrees\n",
        "                                 regions is 70 - 80 degrees  : f          : f\n",
        "                                       is 70 - 80 degrees f  : .          : .\n",
        "                                        70 - 80 degrees f .  : <END>      : <END>\n",
        "                                     - 80 degrees f . <END>  : <END>      : <END>\n",
        "                                 80 degrees f . <END> <END>  : <END>      : <END>\n",
        "                     <START> <START> <START> however , when  : surface    : surface\n",
        "                     <START> <START> however , when surface  : water      : water\n",
        "                       <START> however , when surface water  : eastward   : eastward\n",
        "                      however , when surface water eastward  : ,          : ,\n",
        "                            , when surface water eastward ,  : ocean      : ocean\n",
        "                        when surface water eastward , ocean  : water      : water\n",
        "                       surface water eastward , ocean water  : temperatures : temperatures\n",
        "                  water eastward , ocean water temperatures  : increase   : increase\n",
        "               eastward , ocean water temperatures increase  : by         : by\n",
        "                     , ocean water temperatures increase by  : 3          : 3\n",
        "                     ocean water temperatures increase by 3  : -          : -\n",
        "                         water temperatures increase by 3 -  : 5          : 5\n",
        "                             temperatures increase by 3 - 5  : degrees    : degrees\n",
        "                                  increase by 3 - 5 degrees  : f          : f\n",
        "                                         by 3 - 5 degrees f  : .          : .\n",
        "                                          3 - 5 degrees f .  : \"          : <END>\n",
        "                                          - 5 degrees f . \"  : <END>      : <END>\n",
        "                                      5 degrees f . \" <END>  : <END>      : <END>\n",
        "                                  degrees f . \" <END> <END>  : <END>      : <END>\n",
        "                      <START> <START> <START> so when there  : are        : are\n",
        "                          <START> <START> so when there are  : changes    : changes\n",
        "                          <START> so when there are changes  : in         : in\n",
        "                               so when there are changes in  : wind       : wind\n",
        "                             when there are changes in wind  : the        : ,\n",
        "                              there are changes in wind the  : temperature : temperature\n",
        "                        are changes in wind the temperature  : changes    : ,\n",
        "                    changes in wind the temperature changes  : .          : ,\n",
        "                          in wind the temperature changes .  : <END>      : <END>\n",
        "                       wind the temperature changes . <END>  : <END>      : <END>\n",
        "                      the temperature changes . <END> <END>  : <END>      : <END>\n",
        "                         <START> <START> <START> like i was  : if         : ,\n",
        "                              <START> <START> like i was if  : the        : the\n",
        "                                  <START> like i was if the  : temperature : temperature\n",
        "                              like i was if the temperature  : changes    : changes\n",
        "                           i was if the temperature changes  : it         : the\n",
        "                          was if the temperature changes it  : will       : will\n",
        "                         if the temperature changes it will  : also       : also\n",
        "                       the temperature changes it will also  : cause      : cause\n",
        "                     temperature changes it will also cause  : coral      : coral\n",
        "                           changes it will also cause coral  : bleaching  : bleaching\n",
        "                         it will also cause coral bleaching  : .          : .\n",
        "                          will also cause coral bleaching .  : <END>      : <END>\n",
        "                         also cause coral bleaching . <END>  : <END>      : <END>\n",
        "                        cause coral bleaching . <END> <END>  : <END>      : <END>\n",
        "                           <START> <START> <START> a lot of  : can        : stress\n",
        "                               <START> <START> a lot of can  : cause      : cause\n",
        "                                 <START> a lot of can cause  : coral      : coral\n",
        "                                   a lot of can cause coral  : bleaching  : bleaching\n",
        "                           lot of can cause coral bleaching  : .          : .\n",
        "                             of can cause coral bleaching .  : <END>      : <END>\n",
        "                          can cause coral bleaching . <END>  : <END>      : <END>\n",
        "                        cause coral bleaching . <END> <END>  : <END>      : <END>\n",
        "                       <START> <START> <START> that why the  : colors     : algae\n",
        "                        <START> <START> that why the colors  : change     : change\n",
        "                         <START> that why the colors change  : .          : .\n",
        "                               that why the colors change .  : <END>      : <END>\n",
        "                              why the colors change . <END>  : <END>      : <END>\n",
        "                            the colors change . <END> <END>  : <END>      : <END>\n",
        "                          <START> <START> <START> i all the "
       ]
      },
      {
       "output_type": "stream",
       "stream": "stdout",
       "text": [
        " : that       : coral\n",
        "                             <START> <START> i all the that  : can        : can\n",
        "                                 <START> i all the that can  : cause      : cause\n",
        "                                   i all the that can cause  : it         : the\n",
        "                                  all the that can cause it  : .          : the\n",
        "                                    the that can cause it .  : <END>      : <END>\n",
        "                                  that can cause it . <END>  : <END>      : <END>\n",
        "                                 can cause it . <END> <END>  : <END>      : <END>\n",
        "                        <START> <START> <START> some of the  : are        : coral\n",
        "                            <START> <START> some of the are  : changes    : changes\n",
        "                            <START> some of the are changes  : in         : in\n",
        "                                 some of the are changes in  : wind       : wind\n",
        "                                 of the are changes in wind  : ,          : ,\n",
        "                                  the are changes in wind ,  : temperatures : temperatures\n",
        "                         are changes in wind , temperatures  : ,          : ,\n",
        "                           changes in wind , temperatures ,  : and        : and\n",
        "                               in wind , temperatures , and  : ocean      : ocean\n",
        "                            wind , temperatures , and ocean  : currents   : currents\n",
        "                        , temperatures , and ocean currents  : .          : .\n",
        "                        temperatures , and ocean currents .  : <END>      : <END>\n",
        "                               , and ocean currents . <END>  : <END>      : <END>\n",
        "                           and ocean currents . <END> <END>  : <END>      : <END>\n",
        "                     <START> <START> <START> the rates vary  : at         : at\n",
        "                          <START> <START> the rates vary at  : different  : different\n",
        "                        <START> the rates vary at different  : times      : times\n",
        "                          the rates vary at different times  : for        : .\n",
        "                          rates vary at different times for  : many       : many\n",
        "                           vary at different times for many  : reasons    : reasons\n",
        "                        at different times for many reasons  : .          : .\n",
        "                         different times for many reasons .  : <END>      : <END>\n",
        "                             times for many reasons . <END>  : <END>      : <END>\n",
        "                             for many reasons . <END> <END>  : <END>      : <END>\n",
        "                         <START> <START> <START> one of the  : reasons    : reasons\n",
        "                         <START> <START> one of the reasons  : that       : .\n",
        "                            <START> one of the reasons that  : it         : coral\n",
        "                                 one of the reasons that it  : vary       : vary\n",
        "                                of the reasons that it vary  : is         : because\n",
        "                                the reasons that it vary is  : which      : which\n",
        "                              reasons that it vary is which  : way        : way\n",
        "                                  that it vary is which way  : the        : the\n",
        "                                   it vary is which way the  : trade      : trade\n",
        "                                vary is which way the trade  : winds      : winds\n",
        "                               is which way the trade winds  : are        : are\n",
        "                              which way the trade winds are  : going      : going\n",
        "                              way the trade winds are going  : .          : to\n",
        "                                the trade winds are going .  : <END>      : <END>\n",
        "                              trade winds are going . <END>  : <END>      : <END>\n",
        "                              winds are going . <END> <END>  : <END>      : <END>\n",
        "                  <START> <START> <START> also higher water  : temperature : temperature\n",
        "              <START> <START> also higher water temperature  : could      : could\n",
        "                <START> also higher water temperature could  : affect     : affect\n",
        "                 also higher water temperature could affect  : it         : it\n",
        "                   higher water temperature could affect it  : .          : .\n",
        "                        water temperature could affect it .  : <END>      : <END>\n",
        "                        temperature could affect it . <END>  : <END>      : <END>\n",
        "                              could affect it . <END> <END>  : <END>      : <END>\n",
        "                       <START> <START> <START> those are my  : reasons    : reasons\n",
        "                       <START> <START> those are my reasons  : .          : .\n",
        "                             <START> those are my reasons .  : <END>      : <END>\n",
        "                               those are my reasons . <END>  : <END>      : <END>\n",
        "                               are my reasons . <END> <END>  : <END>      : <END>\n",
        "                           <START> <START> <START> i on the  : graph      : graph\n",
        "                             <START> <START> i on the graph  : the        : of\n",
        "                                 <START> i on the graph the  : trade      : trade\n",
        "                                   i on the graph the trade  : winds      : winds\n",
        "                               on the graph the trade winds  : was        : was\n",
        "                              the graph the trade winds was  : the        : from\n",
        "                              graph the trade winds was the  : same       : same\n",
        "                               the trade winds was the same  : year       : year\n",
        "                              trade winds was the same year  : as         : as\n",
        "                                 winds was the same year as  : when       : when\n",
        "                                  was the same year as when  : more       : the\n",
        "                                 the same year as when more  : than       : than\n",
        "                                same year as when more than  : countries  : countries\n",
        "                           year as when more than countries  : coral      : coral\n",
        "                          as when more than countries coral  : bleaching  : bleaching\n",
        "                   when more than countries coral bleaching  : .          : .\n",
        "                      more than countries coral bleaching .  : <END>      : <END>\n",
        "                     than countries coral bleaching . <END>  : <END>      : <END>\n",
        "                    countries coral bleaching . <END> <END>  : <END>      : <END>\n",
        "                     <START> <START> <START> trade winds is  : wind       : coral\n",
        "                        <START> <START> trade winds is wind  : that       : is\n",
        "                           <START> trade winds is wind that  : goes       : goes\n",
        "                              trade winds is wind that goes  : east       : east\n",
        "                               winds is wind that goes east  : to         : to\n",
        "                                  is wind that goes east to  : west       : west\n",
        "                                wind that goes east to west  : .          : .\n",
        "                                   that goes east to west .  : <END>      : <END>\n",
        "                                  goes east to west . <END>  : <END>      : <END>\n",
        "                                 east to west . <END> <END>  : <END>      : <END>\n",
        "                 <START> <START> <START> that changes every  : years      : years\n",
        "                   <START> <START> that changes every years  : .          : the\n",
        "                         <START> that changes every years .  : <END>      : <END>\n",
        "                           that changes every years . <END>  : <END>      : <END>\n",
        "                          changes every years . <END> <END>  : <END>      : <END>\n",
        "                        <START> <START> <START> that is how "
       ]
      },
      {
       "output_type": "stream",
       "stream": "stdout",
       "text": [
        " : it         : coral\n",
        "                             <START> <START> that is how it  : might      : might\n",
        "                               <START> that is how it might  : affect     : affect\n",
        "                                that is how it might affect  : it         : the\n",
        "                                  is how it might affect it  : .          : .\n",
        "                                   how it might affect it .  : <END>      : <END>\n",
        "                                 it might affect it . <END>  : <END>      : <END>\n",
        "                              might affect it . <END> <END>  : <END>      : <END>\n",
        "                       <START> <START> <START> the graph in  : 1998       : 1998\n",
        "                          <START> <START> the graph in 1998  : the        : that\n",
        "                              <START> the graph in 1998 the  : higher     : higher\n",
        "                               the graph in 1998 the higher  : the        : the\n",
        "                               graph in 1998 the higher the  : water      : water\n",
        "                               in 1998 the higher the water  : temperature : temperature\n",
        "                      1998 the higher the water temperature  : the        : and\n",
        "                       the higher the water temperature the  : higher     : lower\n",
        "                    higher the water temperature the higher  : the        : the\n",
        "                       the water temperature the higher the  : coral      : water\n",
        "                     water temperature the higher the coral  : bleaching  : bleaching\n",
        "                 temperature the higher the coral bleaching  : .          : .\n",
        "                           the higher the coral bleaching .  : <END>      : <END>\n",
        "                         higher the coral bleaching . <END>  : <END>      : <END>\n",
        "                          the coral bleaching . <END> <END>  : <END>      : <END>\n",
        "                       <START> <START> <START> those are my  : about      : reasons\n",
        "                         <START> <START> those are my about  : coral      : coral\n",
        "                           <START> those are my about coral  : bleaching  : bleaching\n",
        "                         those are my about coral bleaching  : .          : .\n",
        "                             are my about coral bleaching .  : <END>      : <END>\n",
        "                           my about coral bleaching . <END>  : <END>      : <END>\n",
        "                        about coral bleaching . <END> <END>  : <END>      : <END>\n",
        "                        <START> <START> <START> ? there are  : different  : a\n",
        "                      <START> <START> ? there are different  : coral      : things\n",
        "                        <START> ? there are different coral  : bleaching  : bleaching\n",
        "                      ? there are different coral bleaching  : rates      : rates\n",
        "                  there are different coral bleaching rates  : vary       : vary\n",
        "                   are different coral bleaching rates vary  : at         : at\n",
        "                    different coral bleaching rates vary at  : different  : different\n",
        "                    coral bleaching rates vary at different  : times      : times\n",
        "                    bleaching rates vary at different times  : .          : because\n",
        "                            rates vary at different times .  : <END>      : <END>\n",
        "                            vary at different times . <END>  : <END>      : <END>\n",
        "                           at different times . <END> <END>  : <END>      : <END>\n",
        "              <START> <START> <START> first coral bleaching  : is         : is\n",
        "                   <START> <START> first coral bleaching is  : something  : something\n",
        "                 <START> first coral bleaching is something  : that       : that\n",
        "                    first coral bleaching is something that  : \"          : \"\n",
        "                        coral bleaching is something that \"  : give       : give\n",
        "                         bleaching is something that \" give  : the        : the\n",
        "                               is something that \" give the  : corals     : corals\n",
        "                           something that \" give the corals  : their      : their\n",
        "                               that \" give the corals their  : colors     : colors\n",
        "                             \" give the corals their colors  : .          : .\n",
        "                             give the corals their colors .  : \"          : <END>\n",
        "                                the corals their colors . \"  : <END>      : <END>\n",
        "                              corals their colors . \" <END>  : <END>      : <END>\n",
        "                               their colors . \" <END> <END>  : <END>      : <END>\n",
        "                       <START> <START> <START> \" some coral  : have       : have\n",
        "                          <START> <START> \" some coral have  : lost       : lost\n",
        "                             <START> \" some coral have lost  : their      : their\n",
        "                               \" some coral have lost their  : color      : color\n",
        "                           some coral have lost their color  : and        : and\n",
        "                            coral have lost their color and  : have       : been\n",
        "                             have lost their color and have  : been       : been\n",
        "                             lost their color and have been  : bleached   : bleached\n",
        "                         their color and have been bleached  : plain      : plain\n",
        "                         color and have been bleached plain  : white      : white\n",
        "                         and have been bleached plain white  : .          : .\n",
        "                           have been bleached plain white .  : \"          : \"\n",
        "                              been bleached plain white . \"  : <END>      : <END>\n",
        "                             bleached plain white . \" <END>  : <END>      : <END>\n",
        "                                plain white . \" <END> <END>  : <END>      : <END>\n",
        "                <START> <START> <START> for coral bleaching  : means      : rates\n",
        "                  <START> <START> for coral bleaching means  : losing     : losing\n",
        "                   <START> for coral bleaching means losing  : the        : algae\n",
        "                       for coral bleaching means losing the  : color      : color\n",
        "                     coral bleaching means losing the color  : .          : and\n",
        "                         bleaching means losing the color .  : <END>      : <END>\n",
        "                             means losing the color . <END>  : <END>      : <END>\n",
        "                             losing the color . <END> <END>  : <END>      : <END>\n",
        "                       <START> <START> <START> that is what  : coral      : causes\n",
        "                         <START> <START> that is what coral  : bleaching  : bleaching\n",
        "                       <START> that is what coral bleaching  : means      : means\n",
        "                         that is what coral bleaching means  : .          : .\n",
        "                            is what coral bleaching means .  : /          : /\n",
        "                             what coral bleaching means . /  : <END>      : <END>\n",
        "                            coral bleaching means . / <END>  : <END>      : <END>\n",
        "                            bleaching means . / <END> <END>  : <END>      : <END>\n",
        "            <START> <START> <START> coral bleaching changes  : by         : in\n",
        "                 <START> <START> coral bleaching changes by  : its        : how\n",
        "                     <START> coral bleaching changes by its  : color      : color\n",
        "                       coral bleaching changes by its color  : .          : .\n",
        "                           bleaching changes by its color . "
       ]
      },
      {
       "output_type": "stream",
       "stream": "stdout",
       "text": [
        " : <END>      : <END>\n",
        "                               changes by its color . <END>  : <END>      : <END>\n",
        "                                 by its color . <END> <END>  : <END>      : <END>\n",
        "                      <START> <START> <START> the said that  : the        : during\n",
        "                          <START> <START> the said that the  : coral      : coral\n",
        "                            <START> the said that the coral  : bleaching  : bleaching\n",
        "                          the said that the coral bleaching  : changes    : changes\n",
        "                      said that the coral bleaching changes  : .          : .\n",
        "                         that the coral bleaching changes .  : <END>      : <END>\n",
        "                        the coral bleaching changes . <END>  : <END>      : <END>\n",
        "                      coral bleaching changes . <END> <END>  : <END>      : <END>\n",
        "              <START> <START> <START> the bleaching changes  : a          : very\n",
        "                    <START> <START> the bleaching changes a  : lot        : lot\n",
        "                        <START> the bleaching changes a lot  : or         : to\n",
        "                             the bleaching changes a lot or  : less       : less\n",
        "                            bleaching changes a lot or less  : the        : coral\n",
        "                                  changes a lot or less the  : years      : years\n",
        "                                    a lot or less the years  : .          : .\n",
        "                                    lot or less the years .  : <END>      : <END>\n",
        "                                  or less the years . <END>  : <END>      : <END>\n",
        "                               less the years . <END> <END>  : <END>      : <END>\n",
        "                <START> <START> <START> the coral bleaching  : was        : is\n",
        "                    <START> <START> the coral bleaching was  : on         : the\n",
        "                         <START> the coral bleaching was on  : the        : the\n",
        "                             the coral bleaching was on the  : year       : year\n",
        "                            coral bleaching was on the year  : of         : of\n",
        "                               bleaching was on the year of  : 1998       : 1998\n",
        "                                    was on the year of 1998  : .          : .\n",
        "                                      on the year of 1998 .  : <END>      : <END>\n",
        "                                   the year of 1998 . <END>  : <END>      : <END>\n",
        "                                 year of 1998 . <END> <END>  : <END>      : <END>\n",
        "                       <START> <START> <START> in each year  : on         : .\n",
        "                            <START> <START> in each year on  : the        : the\n",
        "                                <START> in each year on the  : graph      : graph\n",
        "                                  in each year on the graph  : there      : there\n",
        "                               each year on the graph there  : are        : are\n",
        "                                year on the graph there are  : different  : different\n",
        "                           on the graph there are different  : things     : things\n",
        "                       the graph there are different things  : .          : and\n",
        "                         graph there are different things .  : <END>      : <END>\n",
        "                         there are different things . <END>  : <END>      : <END>\n",
        "                         are different things . <END> <END>  : <END>      : <END>\n",
        "                      <START> <START> <START> the said that  : people     : during\n",
        "                       <START> <START> the said that people  : \"          : \"\n",
        "                             <START> the said that people \"  : often      : often\n",
        "                               the said that people \" often  : for        : for\n",
        "                               said that people \" often for  : a          : a\n",
        "                                  that people \" often for a  : rock       : rock\n",
        "                                  people \" often for a rock  : or         : or\n",
        "                                      \" often for a rock or  : a          : a\n",
        "                                      often for a rock or a  : plant      : plant\n",
        "                                      for a rock or a plant  : .          : .\n",
        "                                        a rock or a plant .  : \"          : \"\n",
        "                                        rock or a plant . \"  : <END>      : <END>\n",
        "                                       or a plant . \" <END>  : <END>      : <END>\n",
        "                                    a plant . \" <END> <END>  : <END>      : <END>\n",
        "                         <START> <START> <START> \" coral is  : made       : often\n",
        "                            <START> <START> \" coral is made  : up         : up\n",
        "                                 <START> \" coral is made up  : from       : of\n",
        "                                    \" coral is made up from  : tiny       : tiny\n",
        "                                 coral is made up from tiny  : animals    : animals\n",
        "                               is made up from tiny animals  : called     : called\n",
        "                           made up from tiny animals called  : polyps     : polyps\n",
        "                         up from tiny animals called polyps  : .          : .\n",
        "                          from tiny animals called polyps .  : \"          : \"\n",
        "                             tiny animals called polyps . \"  : <END>      : <END>\n",
        "                            animals called polyps . \" <END>  : <END>      : <END>\n",
        "                              called polyps . \" <END> <END>  : <END>      : <END>\n",
        "                            <START> <START> <START> in my i  : that       : think\n",
        "                               <START> <START> in my i that  : animals    : animals\n",
        "                               <START> in my i that animals  : make       : make\n",
        "                                  in my i that animals make  : coral      : the\n",
        "                               my i that animals make coral  : .          : .\n",
        "                                i that animals make coral .  : <END>      : <END>\n",
        "                            that animals make coral . <END>  : <END>      : <END>\n",
        "                           animals make coral . <END> <END>  : <END>      : <END>\n",
        "                         <START> <START> <START> i how tiny  : little     : little\n",
        "                          <START> <START> i how tiny little  : animals    : animals\n",
        "                          <START> i how tiny little animals  : do         : do\n",
        "                               i how tiny little animals do  : the        : the\n",
        "                             how tiny little animals do the  : coral      : coral\n",
        "                           tiny little animals do the coral  : .          : .\n",
        "                              little animals do the coral .  : <END>      : <END>\n",
        "                               animals do the coral . <END>  : <END>      : <END>\n",
        "                                 do the coral . <END> <END>  : <END>      : <END>\n",
        "              <START> <START> <START> coral bleaching rates  : vary       : vary\n",
        "                 <START> <START> coral bleaching rates vary  : at         : at\n",
        "                      <START> coral bleaching rates vary at  : different  : different\n",
        "                    coral bleaching rates vary at different  : times      : times\n",
        "                    bleaching rates vary at different times  : depending  : because\n",
        "                    rates vary at different times depending  : on         : on\n",
        "                       vary at different times depending on  : how        : how\n",
        "                        at different times depending on how  : much       : much\n",
        "                      different times depending on how much  : algae      : algae\n",
        "                          times depending on how much algae "
       ]
      },
      {
       "output_type": "stream",
       "stream": "stdout",
       "text": [
        " : are        : are\n",
        "                            depending on how much algae are  : their      : their\n",
        "                                on how much algae are their  : .          : .\n",
        "                                 how much algae are their .  : <END>      : <END>\n",
        "                               much algae are their . <END>  : <END>      : <END>\n",
        "                              algae are their . <END> <END>  : <END>      : <END>\n",
        "                     <START> <START> <START> the reason the  : corals     : coral\n",
        "                      <START> <START> the reason the corals  : need       : need\n",
        "                         <START> the reason the corals need  : algae      : salt\n",
        "                           the reason the corals need algae  : is         : to\n",
        "                            reason the corals need algae is  : because    : to\n",
        "                           the corals need algae is because  : they       : they\n",
        "                          corals need algae is because they  : on         : on\n",
        "                              need algae is because they on  : algae      : algae\n",
        "                             algae is because they on algae  : .          : .\n",
        "                                 is because they on algae .  : <END>      : <END>\n",
        "                              because they on algae . <END>  : <END>      : <END>\n",
        "                                they on algae . <END> <END>  : <END>      : <END>\n",
        "                       <START> <START> <START> if they dont  : get        : have\n",
        "                           <START> <START> if they dont get  : algae      : the\n",
        "                             <START> if they dont get algae  : it         : it\n",
        "                                  if they dont get algae it  : the        : the\n",
        "                                 they dont get algae it the  : coral      : coral\n",
        "                                dont get algae it the coral  : to         : to\n",
        "                                  get algae it the coral to  : have       : have\n",
        "                                 algae it the coral to have  : and        : it\n",
        "                                   it the coral to have and  : they       : if\n",
        "                                 the coral to have and they  : turn       : turn\n",
        "                                coral to have and they turn  : white      : white\n",
        "                                to have and they turn white  : .          : .\n",
        "                                 have and they turn white .  : <END>      : <END>\n",
        "                                and they turn white . <END>  : <END>      : <END>\n",
        "                              they turn white . <END> <END>  : <END>      : <END>\n",
        "                     <START> <START> <START> the problem is  : the        : a\n",
        "                         <START> <START> the problem is the  : algae      : water\n",
        "                           <START> the problem is the algae  : is         : is\n",
        "                                the problem is the algae is  : not        : not\n",
        "                                problem is the algae is not  : always     : always\n",
        "                                 is the algae is not always  : there      : algae\n",
        "                              the algae is not always there  : .          : .\n",
        "                                algae is not always there .  : <END>      : <END>\n",
        "                                is not always there . <END>  : <END>      : <END>\n",
        "                             not always there . <END> <END>  : <END>      : <END>\n",
        "                    <START> <START> <START> this is because  : winds      : of\n",
        "                      <START> <START> this is because winds  : blow       : blow\n",
        "                         <START> this is because winds blow  : it         : it\n",
        "                              this is because winds blow it  : east       : east\n",
        "                              is because winds blow it east  : to         : to\n",
        "                              because winds blow it east to  : west       : west\n",
        "                                 winds blow it east to west  : .          : .\n",
        "                                     blow it east to west .  : <END>      : <END>\n",
        "                                    it east to west . <END>  : <END>      : <END>\n",
        "                                 east to west . <END> <END>  : <END>      : <END>\n",
        "                       <START> <START> <START> also , water  : levels     : levels\n",
        "                        <START> <START> also , water levels  : increase   : increase\n",
        "                       <START> also , water levels increase  : to         : in\n",
        "                            also , water levels increase to  : about      : about\n",
        "                           , water levels increase to about  : to         : .\n",
        "                          water levels increase to about to  : a          : a\n",
        "                              levels increase to about to a  : .          : .\n",
        "                                   increase to about to a .  : <END>      : <END>\n",
        "                                      to about to a . <END>  : <END>      : <END>\n",
        "                                   about to a . <END> <END>  : <END>      : <END>\n",
        "                        <START> <START> <START> there is no  : certain    : a\n",
        "                        <START> <START> there is no certain  : for        : for\n",
        "                            <START> there is no certain for  : when       : when\n",
        "                               there is no certain for when  : this       : this\n",
        "                                is no certain for when this  : happens    : happens\n",
        "                           no certain for when this happens  : so         : so\n",
        "                           certain for when this happens so  : it         : the\n",
        "                                for when this happens so it  : happens    : happens\n",
        "                            when this happens so it happens  : at         : at\n",
        "                              this happens so it happens at  : very       : very\n",
        "                              happens so it happens at very  : different  : different\n",
        "                            so it happens at very different  : times      : times\n",
        "                         it happens at very different times  : .          : and\n",
        "                          happens at very different times .  : <END>      : <END>\n",
        "                            at very different times . <END>  : <END>      : <END>\n",
        "                         very different times . <END> <END>  : <END>      : <END>\n",
        "               <START> <START> <START> well coral bleaching  : is         : is\n",
        "                    <START> <START> well coral bleaching is  : bad        : bad\n",
        "                        <START> well coral bleaching is bad  : because    : because\n",
        "                        well coral bleaching is bad because  : the        : the\n",
        "                         coral bleaching is bad because the  : coral      : change\n",
        "                         bleaching is bad because the coral  : has        : has\n",
        "                               is bad because the coral has  : it         : a\n",
        "                               bad because the coral has it  : color      : color\n",
        "                             because the coral has it color  : .          : .\n",
        "                                   the coral has it color .  : <END>      : <END>\n",
        "                                 coral has it color . <END>  : <END>      : <END>\n",
        "                                 has it color . <END> <END>  : <END>      : <END>\n",
        "                   <START> <START> <START> the coral bleach  : is         : in\n",
        "                        <START> <START> the coral bleach is  : bad        : bad\n",
        "                            <START> the coral bleach is bad  : for        : for\n",
        "                                the coral bleach is bad for "
       ]
      },
      {
       "output_type": "stream",
       "stream": "stdout",
       "text": [
        " : those      : those\n",
        "                              coral bleach is bad for those  : takes      : takes\n",
        "                              bleach is bad for those takes  : the        : the\n",
        "                                 is bad for those takes the  : color      : color\n",
        "                              bad for those takes the color  : and        : and\n",
        "                              for those takes the color and  : the        : the\n",
        "                              those takes the color and the  : food       : food\n",
        "                               takes the color and the food  : that       : that\n",
        "                                the color and the food that  : they       : they\n",
        "                               color and the food that they  : eat        : eat\n",
        "                                 and the food that they eat  : .          : .\n",
        "                                   the food that they eat .  : <END>      : <END>\n",
        "                                 food that they eat . <END>  : <END>      : <END>\n",
        "                                that they eat . <END> <END>  : <END>      : <END>\n",
        "                     <START> <START> <START> this is really  : bad        : bad\n",
        "                         <START> <START> this is really bad  : for        : for\n",
        "                             <START> this is really bad for  : coral      : coral\n",
        "                               this is really bad for coral  : life       : life\n",
        "                               is really bad for coral life  : .          : .\n",
        "                                really bad for coral life .  : <END>      : <END>\n",
        "                                 bad for coral life . <END>  : <END>      : <END>\n",
        "                               for coral life . <END> <END>  : <END>      : <END>\n",
        "                    <START> <START> <START> the corals need  : their      : to\n",
        "                      <START> <START> the corals need their  : color      : color\n",
        "                        <START> the corals need their color  : .          : to\n",
        "                              the corals need their color .  : <END>      : <END>\n",
        "                            corals need their color . <END>  : <END>      : <END>\n",
        "                             need their color . <END> <END>  : <END>      : <END>\n",
        "                     <START> <START> <START> they need food  : .          : to\n",
        "                           <START> <START> they need food .  : <END>      : <END>\n",
        "                             <START> they need food . <END>  : <END>      : <END>\n",
        "                               they need food . <END> <END>  : <END>      : <END>\n",
        "                     <START> <START> <START> for they could  : survive    : survive\n",
        "                     <START> <START> for they could survive  : .          : .\n",
        "                           <START> for they could survive .  : <END>      : <END>\n",
        "                             for they could survive . <END>  : <END>      : <END>\n",
        "                           they could survive . <END> <END>  : <END>      : <END>\n",
        "                           <START> <START> <START> the is a  : living     : very\n",
        "                            <START> <START> the is a living  : thing      : thing\n",
        "                              <START> the is a living thing  : .          : .\n",
        "                                    the is a living thing .  : <END>      : <END>\n",
        "                                  is a living thing . <END>  : <END>      : <END>\n",
        "                               a living thing . <END> <END>  : <END>      : <END>\n",
        "                       <START> <START> <START> the states \"  : however    : however\n",
        "                       <START> <START> the states \" however  : some       : some\n",
        "                          <START> the states \" however some  : coral      : coral\n",
        "                            the states \" however some coral  : have       : have\n",
        "                           states \" however some coral have  : lost       : lost\n",
        "                             \" however some coral have lost  : their      : their\n",
        "                         however some coral have lost their  : color      : color\n",
        "                           some coral have lost their color  : and        : and\n",
        "                            coral have lost their color and  : been       : been\n",
        "                             have lost their color and been  : bleached   : bleached\n",
        "                         lost their color and been bleached  : as         : a\n",
        "                           their color and been bleached as  : plain      : plain\n",
        "                           color and been bleached as plain  : white      : white\n",
        "                           and been bleached as plain white  : .          : .\n",
        "                             been bleached as plain white .  : \"          : \"\n",
        "                                bleached as plain white . \"  : <END>      : <END>\n",
        "                                   as plain white . \" <END>  : <END>      : <END>\n",
        "                                plain white . \" <END> <END>  : <END>      : <END>\n",
        "                    <START> <START> <START> well they coral  : dont       : dont\n",
        "                       <START> <START> well they coral dont  : get        : get\n",
        "                           <START> well they coral dont get  : food       : food\n",
        "                              well they coral dont get food  : they       : they\n",
        "                              they coral dont get food they  : have       : have\n",
        "                              coral dont get food they have  : a          : algae\n",
        "                                  dont get food they have a  : process    : process\n",
        "                               get food they have a process  : of         : of\n",
        "                                food they have a process of  : photosynthesis : photosynthesis\n",
        "                      they have a process of photosynthesis  : .          : .\n",
        "                         have a process of photosynthesis .  : <END>      : <END>\n",
        "                        a process of photosynthesis . <END>  : <END>      : <END>\n",
        "                    process of photosynthesis . <END> <END>  : <END>      : <END>\n",
        "                    <START> <START> <START> they need light  : to         : to\n",
        "                         <START> <START> they need light to  : eat        : eat\n",
        "                             <START> they need light to eat  : out        : out\n",
        "                                 they need light to eat out  : the        : the\n",
        "                                  need light to eat out the  : ocean      : ocean\n",
        "                                 light to eat out the ocean  : could      : could\n",
        "                                 to eat out the ocean could  : turn       : turn\n",
        "                               eat out the ocean could turn  : of         : of\n",
        "                                out the ocean could turn of  : 70         : 70\n",
        "                                 the ocean could turn of 70  : to         : to\n",
        "                                  ocean could turn of 70 to  : 3          : 3\n",
        "                                      could turn of 70 to 3  : degrees    : degrees\n",
        "                                    turn of 70 to 3 degrees  : .          : .\n",
        "                                       of 70 to 3 degrees .  : <END>      : <END>\n",
        "                                    70 to 3 degrees . <END>  : <END>      : <END>\n",
        "                                 to 3 degrees . <END> <END>  : <END>      : <END>\n"
       ]
      }
     ],
     "prompt_number": 369
    },
    {
     "cell_type": "markdown",
     "metadata": {},
     "source": [
      "Use Language Model to Initialize Supervised Convolutional Network\n",
      "-----------------------------------------------------------------"
     ]
    },
    {
     "cell_type": "code",
     "collapsed": false,
     "input": [
      "wts  = lmlayers[0].weights.copy()\n",
      "bias = lmlayers[0].bias.copy()\n",
      "\n",
      "VECTOR_SIZE = 50\n",
      "TD = int(len(xs) * 0.65)\n",
      "\n",
      "hidden_in  = VECTOR_SIZE * WINDOW_SIZE \n",
      "#hidden_out = (hidden_in + len(ys[0])) / 2\n",
      "hidden_out = 10\n",
      "\n",
      "layers = [\n",
      "        ConvolutionalLayer(len(xs[0]),  hidden_in,  activation_fn = \"relu\", momentum=0.0, convolutions=WINDOW_SIZE, \n",
      "                           weights = wts, bias=bias),\n",
      "        Layer(             hidden_in,   len(ys[0]), activation_fn = \"tanh\", momentum=0.5),  \n",
      "    ]\n",
      "\n",
      "# With low freq classes and convolutional layers, use a batch_size == 1 and NO momentum in that layer\n",
      "nn = MLP(layers, learning_rate=0.002, weight_decay=0.0, epochs=100, batch_size=1,\n",
      "             lr_increase_multiplier=1.2, lr_decrease_multiplier=0.6)\n",
      "\n",
      "nn.fit(xs[:TD], ys[:TD], epochs=1000)"
     ],
     "language": "python",
     "metadata": {},
     "outputs": []
    },
    {
     "cell_type": "code",
     "collapsed": false,
     "input": [],
     "language": "python",
     "metadata": {},
     "outputs": []
    }
   ],
   "metadata": {}
  }
 ]
}