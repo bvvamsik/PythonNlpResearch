{
 "metadata": {
  "name": "",
  "signature": "sha256:5c6693e322abd7724f6a3df4b81a086106c35ff5eeb385ecbe883c33f9ae5f94"
 },
 "nbformat": 3,
 "nbformat_minor": 0,
 "worksheets": [
  {
   "cells": [
    {
     "cell_type": "code",
     "collapsed": false,
     "input": [
      "from textblob import TextBlob\n",
      "import numpy as np\n",
      "from gensim import matutils\n",
      "from numpy import random\n",
      "\n",
      "from Metrics import rpf1a\n",
      "from Rpfa import rpfa, weighted_mean_rpfa\n",
      "from BrattEssay import load_bratt_essays\n",
      "from ProcessEssays import process_sentences\n",
      "from Decorators import timeit, memoize\n",
      "\n",
      "from WindowSplitter import split_into_windows\n",
      "\n",
      "from nltk import PorterStemmer\n",
      "from stanford_parser import parser\n",
      "import MontyLingua\n",
      "\n",
      "import logging\n",
      "logging.basicConfig(format='%(asctime)s : %(levelname)s : %(message)s', level=logging.INFO)"
     ],
     "language": "python",
     "metadata": {},
     "outputs": [],
     "prompt_number": 1
    },
    {
     "cell_type": "code",
     "collapsed": false,
     "input": [
      "parser = MontyLingua.MontyLingua(trace_p=0)"
     ],
     "language": "python",
     "metadata": {},
     "outputs": [
      {
       "output_type": "stream",
       "stream": "stdout",
       "text": [
        "\n",
        "****** MontyLingua v.2.1 ******\n",
        "***** by hugo@media.mit.edu *****\n",
        "Lemmatiser OK!"
       ]
      },
      {
       "output_type": "stream",
       "stream": "stdout",
       "text": [
        "\n",
        "Custom Lexicon Found! Now Loading!\n",
        "Fast Lexicon Found! Now Loading!\n",
        "Lexicon OK!\n",
        "LexicalRuleParser OK!\n",
        "ContextualRuleParser OK!\n",
        "Commonsense OK!\n",
        "Semantic Interpreter OK!\n",
        "Loading Morph Dictionary!\n",
        "*********************************\n"
       ]
      },
      {
       "output_type": "stream",
       "stream": "stdout",
       "text": [
        "\n"
       ]
      }
     ],
     "prompt_number": 2
    },
    {
     "cell_type": "code",
     "collapsed": false,
     "input": [
      "\"\"\" Settings \"\"\"\n",
      "\n",
      "MIN_SENTENCE_FREQ   = 0       #i.e. df. Note this is calculated BEFORE creating windows\n",
      "REMOVE_INFREQUENT   = False    # if false, infrequent words are replaced with \"INFREQUENT\"\n",
      "SPELLING_CORRECT    = True\n",
      "STEM                = False\n",
      "REPLACE_NUMS        = True    # 1989 -> 0000, 10 -> 00\n",
      "MIN_SENTENCE_LENGTH = 5\n",
      "REMOVE_STOP_WORDS   = False\n",
      "REMOVE_PUNCTUATION  = False "
     ],
     "language": "python",
     "metadata": {},
     "outputs": [],
     "prompt_number": 3
    },
    {
     "cell_type": "code",
     "collapsed": false,
     "input": [
      "@timeit\n",
      "def load_sentences(essays):\n",
      "    return process_sentences(essays, \n",
      "                              min_df = MIN_SENTENCE_FREQ, \n",
      "                              remove_infrequent = REMOVE_INFREQUENT,\n",
      "                              spelling_correct = SPELLING_CORRECT, \n",
      "                              replace_nums = REPLACE_NUMS, \n",
      "                              stem=STEM,\n",
      "                              remove_stop_words=REMOVE_STOP_WORDS,\n",
      "                              remove_punctuation=REMOVE_PUNCTUATION)\n",
      "# load from disk\n",
      "essays = load_bratt_essays()\n",
      "lbl_sentences = load_sentences(essays)"
     ],
     "language": "python",
     "metadata": {},
     "outputs": [
      {
       "output_type": "stream",
       "stream": "stdout",
       "text": [
        "Results Dir: /Users/simon.hughes/Google Drive/Phd/Results/\n",
        "Data Dir:    /Users/simon.hughes/Google Drive/Phd/Data/\n",
        "Root Dir:    /Users/simon.hughes/GitHub/NlpResearch/\n",
        "Public Data: /Users/simon.hughes/GitHub/NlpResearch/Data/PublicDatasets/\n",
        "297 files found\n",
        "297 essays processed"
       ]
      },
      {
       "output_type": "stream",
       "stream": "stdout",
       "text": [
        "\n",
        "timeit: load_sentences(...) took 15.34 secs"
       ]
      },
      {
       "output_type": "stream",
       "stream": "stdout",
       "text": [
        "\n"
       ]
      }
     ],
     "prompt_number": 4
    },
    {
     "cell_type": "code",
     "collapsed": false,
     "input": [
      "sentences = []\n",
      "for lbl_sentence in lbl_sentences:\n",
      "    wds, tags = zip(*lbl_sentence)\n",
      "    sentences.append(\" \".join(wds))\n",
      "print \"done\""
     ],
     "language": "python",
     "metadata": {},
     "outputs": [
      {
       "output_type": "stream",
       "stream": "stdout",
       "text": [
        "done\n"
       ]
      }
     ],
     "prompt_number": 5
    },
    {
     "cell_type": "code",
     "collapsed": false,
     "input": [
      "outp = parser.jist_predicates (\"the coral's physical state can make it bleached.\")\n",
      "outp"
     ],
     "language": "python",
     "metadata": {},
     "outputs": [
      {
       "output_type": "stream",
       "stream": "stdout",
       "text": [
        "(NX the/DT coral/NN 's/POS physical/JJ state/NN NX) (VX can/MD make/VB VX) (NX it/PRP NX) (NX bleached/JJ NX) ./.\n"
       ]
      },
      {
       "metadata": {},
       "output_type": "pyout",
       "prompt_number": 21,
       "text": [
        "[['(\"make\" \"coral \\'s physical state\" \"it\" \"bleached\")']]"
       ]
      }
     ],
     "prompt_number": 21
    },
    {
     "cell_type": "code",
     "collapsed": false,
     "input": [
      "lst = []\n",
      "for sentence in sentences[:5]:\n",
      "    vsoos = parser.jist_predicates(sentence)\n",
      "    lst.append((sentence, vsoos))"
     ],
     "language": "python",
     "metadata": {},
     "outputs": [
      {
       "output_type": "stream",
       "stream": "stdout",
       "text": [
        "the/DT (NX coral/JJ NX) (VX bleaching/VBG is/VBZ VX) (NX a/DT different/JJ type/NN NX) (NX they/PRP NX) (VX are/VBP VX) (NX bleached/JJ NX) and/CC (NX coral/JJ NX) (VX bleaching/VBG VX) ./.\n",
        "(NX the/DT bleached/JJ is/NNS NX) (NX plain/JJ white/JJ NX) ./.\n",
        "(NX the/DT coral/JJ polyps/NNS NX) (VX give/VBP VX) (NX different/JJ colors/NNS NX) ./.\n",
        "(NX the/DT skeleton/NN NX) (VX protects/VBZ VX) (NX the/DT body/NN NX) of/IN (NX polyp/NN NX) ./.\n",
        "(NX the/DT process/NN NX) (VX requires/VBZ VX) (NX both/DT carbon/NN dioxide/NN and/CC release/NN oxygen/NN NX) ./.\n"
       ]
      }
     ],
     "prompt_number": 7
    },
    {
     "cell_type": "code",
     "collapsed": false,
     "input": [
      "for sen, vso in lst:\n",
      "    print sen\n",
      "    print vso\n",
      "    print \"\""
     ],
     "language": "python",
     "metadata": {},
     "outputs": [
      {
       "output_type": "stream",
       "stream": "stdout",
       "text": [
        "the coral bleaching is a different type they are bleached and coral bleaching .\n",
        "[['(\"be\" \"coral\" \"different type\" \"they\")', '(\"be\" \"they\" \"bleached\")', '(\"bleach\" \"coral\" )']]\n",
        "\n",
        "the bleached is plain white .\n",
        "[[]]\n",
        "\n",
        "the coral polyps give different colors .\n",
        "[['(\"give\" \"coral polyp\" \"different color\")']]\n",
        "\n",
        "the skeleton protects the body of polyp .\n",
        "[['(\"protect\" \"skeleton\" \"body\" \"of polyp\")']]\n",
        "\n",
        "the process requires both carbon dioxide and release oxygen .\n",
        "[['(\"require\" \"process\" \"carbon dioxide and release oxygen\")']]\n",
        "\n"
       ]
      }
     ],
     "prompt_number": 8
    },
    {
     "cell_type": "code",
     "collapsed": false,
     "input": [
      "preds = parser.jist_predicates(\"I eat potatoes and I like to eat oranges.\")\n",
      "print preds\n",
      "preds[0][0], type(preds[0][0])"
     ],
     "language": "python",
     "metadata": {},
     "outputs": [
      {
       "output_type": "stream",
       "stream": "stdout",
       "text": [
        "(NX I/PRP NX) (VX eat/VBP VX) (NX potatoes/NNS NX) and/CC (NX I/PRP NX) like/RB to/TO (VX eat/VB VX) (NX oranges/NNS NX) ./.\n",
        "[['(\"eat\" \"I\" \"potato\")', '(\"eat\" \"\" \"orange\")']]\n"
       ]
      },
      {
       "metadata": {},
       "output_type": "pyout",
       "prompt_number": 9,
       "text": [
        "('(\"eat\" \"I\" \"potato\")', str)"
       ]
      }
     ],
     "prompt_number": 9
    },
    {
     "cell_type": "code",
     "collapsed": false,
     "input": [
      "parser.parse_pred_arg(preds[0][0])"
     ],
     "language": "python",
     "metadata": {},
     "outputs": [
      {
       "metadata": {},
       "output_type": "pyout",
       "prompt_number": 10,
       "text": [
        "['eat', 'I', 'potato']"
       ]
      }
     ],
     "prompt_number": 10
    },
    {
     "cell_type": "code",
     "collapsed": false,
     "input": [
      "jist = parser.jist(\"the coral's physical state can make it bleached.\")\n",
      "parser.pp_info(jist)"
     ],
     "language": "python",
     "metadata": {},
     "outputs": [
      {
       "output_type": "stream",
       "stream": "stdout",
       "text": [
        "(NX the/DT coral/NN 's/POS physical/JJ state/NN NX) (VX can/MD make/VB VX) (NX it/PRP NX) (NX bleached/JJ NX) ./.\n",
        "\n",
        "\n",
        "   SENTENCE #1 DIGEST:\n",
        "\n",
        "         adj_phrases: ['bleached']\n",
        "  adj_phrases_tagged: ['bleached/JJ']\n",
        "           modifiers: ['physical', 'bleached']\n",
        "    modifiers_tagged: ['physical/JJ', 'bleached/JJ']\n",
        "        noun_phrases: [\"coral 's physical state\", 'it']\n",
        " noun_phrases_tagged: [\"coral/NN 's/POS physical/JJ state/NN\", 'it/PRP']\n",
        "parameterized_predicates: [[['make', []], [\"coral 's physical state\", ['determiner=the']], ['it', []], ['bleached', []]]]\n",
        "        prep_phrases: []\n",
        " prep_phrases_tagged: []\n",
        " verb_arg_structures: [['can/MD make/VB', \"the/DT coral/NN 's/POS physical/JJ state/NN\", ['it/PRP', 'bleached/JJ']]]\n",
        "verb_arg_structures_concise: ['(\"make\" \"coral \\'s physical state\" \"it\" \"bleached\")']\n",
        "        verb_phrases: ['make']\n",
        " verb_phrases_tagged: ['make/VB']\n"
       ]
      }
     ],
     "prompt_number": 19
    },
    {
     "cell_type": "code",
     "collapsed": false,
     "input": [
      "tokenized = parser.tokenize(\"I can't eat lemons, but I can eat some oranges!\")\n",
      "print \"Tokenized:\\n\", tokenized, type(tokenized)\n",
      "tagged = parser.tag_tokenized(tokenized)\n",
      "print\n",
      "print \"Tagged:\\n\", tagged, type(tagged)\n",
      "print\n",
      "chunked = parser.chunk_tagged(tagged)\n",
      "print \"Chunked:\\n\", chunked, type(chunked)\n",
      "print"
     ],
     "language": "python",
     "metadata": {},
     "outputs": [
      {
       "output_type": "stream",
       "stream": "stdout",
       "text": [
        "Tokenized:\n",
        "I can't eat lemons , but I can eat some oranges ! <type 'str'>\n",
        "\n",
        "Tagged:\n",
        "I/PRP can't/MD eat/VB lemons/NNS ,/, but/CC I/PRP can/MD eat/VB some/DT oranges/NNS !/. <type 'str'>\n",
        "\n",
        "Chunked:\n",
        "(NX I/PRP NX) (VX can't/MD eat/VB VX) (NX lemons/NNS NX) ,/, but/CC (NX I/PRP NX) (VX can/MD eat/VB VX) (NX some/DT oranges/NNS NX) !/. <type 'str'>\n",
        "\n"
       ]
      }
     ],
     "prompt_number": 20
    },
    {
     "cell_type": "code",
     "collapsed": false,
     "input": [
      "for chnk in chunked.split(\"(\"):\n",
      "    if len(chnk.strip()) > 0:\n",
      "        ix = chnk.index(\")\")\n",
      "        print \"(\" + chnk[:ix+1]"
     ],
     "language": "python",
     "metadata": {},
     "outputs": [
      {
       "output_type": "stream",
       "stream": "stdout",
       "text": [
        "(NX I/PRP NX)\n",
        "(VX can't/MD eat/VB VX)\n",
        "(NX lemons/NNS NX)\n",
        "(NX I/PRP NX)\n",
        "(VX can/MD eat/VB VX)\n",
        "(NX some/DT oranges/NNS NX)\n"
       ]
      }
     ],
     "prompt_number": 13
    },
    {
     "cell_type": "code",
     "collapsed": false,
     "input": [
      "parser.extract_info(chunked)"
     ],
     "language": "python",
     "metadata": {},
     "outputs": [
      {
       "output_type": "stream",
       "stream": "stdout",
       "text": [
        "(NX I/PRP NX) (VX can't/MD eat/VB VX) (NX lemons/NNS NX) ,/, but/CC (NX I/PRP NX) (VX can/MD eat/VB VX) (NX some/DT oranges/NNS NX) !/.\n"
       ]
      },
      {
       "metadata": {},
       "output_type": "pyout",
       "prompt_number": 14,
       "text": [
        "{'adj_phrases': [],\n",
        " 'adj_phrases_tagged': [],\n",
        " 'modifiers': [],\n",
        " 'modifiers_tagged': [],\n",
        " 'noun_phrases': ['I', 'lemons', 'I', 'oranges'],\n",
        " 'noun_phrases_tagged': ['I/PRP', 'lemons/NNS', 'I/PRP', 'oranges/NNS'],\n",
        " 'parameterized_predicates': [[['eat', []], ['I', []], ['lemon', ['plural']]],\n",
        "  [['eat', []], ['I', []], ['orange', ['determiner=some', 'plural']]]],\n",
        " 'prep_phrases': [],\n",
        " 'prep_phrases_tagged': [],\n",
        " 'verb_arg_structures': [[\"can't/MD eat/VB\", 'I/PRP', ['lemons/NNS']],\n",
        "  ['can/MD eat/VB', 'I/PRP', ['oranges/NNS']]],\n",
        " 'verb_arg_structures_concise': ['(\"eat\" \"I\" \"lemon\")',\n",
        "  '(\"eat\" \"I\" \"orange\")'],\n",
        " 'verb_phrases': ['eat', 'eat'],\n",
        " 'verb_phrases_tagged': ['eat/VB', 'eat/VB']}"
       ]
      }
     ],
     "prompt_number": 14
    },
    {
     "cell_type": "code",
     "collapsed": false,
     "input": [
      "class VSO(object):\n",
      "    def __init__(self, pred_arg, sentence):\n",
      "        self.verb = pred_arg[0]\n",
      "        self.subj = pred_arg[1]\n",
      "        if len(pred_arg) > 2 and len(pred_arg[2]) > 0:\n",
      "            self.objs = pred_arg[2:]\n",
      "        else:\n",
      "            self.objs = []\n",
      "        self.pred_arg = pred_arg\n",
      "    \n",
      "    def is_triple(self):\n",
      "        return len(self.subj) > 0 and len(self.verb) > 0 and len (self.objs) > 0\n",
      "    \n",
      "    def __repr__(self):\n",
      "        return \"S(%s) V(%s) O(%s)\" % (self.subj, self.verb, \",\".join(self.objs)) \n",
      "\n",
      "def extract_predicates(sentence):\n",
      "    preds = parser.jist_predicates(sentence)\n",
      "    if len(preds) >= 2:\n",
      "        preds = filter(lambda l: len(l) > 0, preds)\n",
      "        if len(preds) >= 2:\n",
      "            print \"\\n\\n\"\n",
      "            print sentence\n",
      "            print\n",
      "            for p in preds:\n",
      "                print p\n",
      "            assert False, \"Multiple sentences found\" \n",
      "    sentence_predicates = preds[0]\n",
      "    retVals = []\n",
      "    for sp in sentence_predicates:\n",
      "        vsoos = parser.parse_pred_arg(sp)\n",
      "        if len(vsoos) > 0:\n",
      "            retVals.append(VSO(vsoos, sentence))\n",
      "    return retVals\n",
      "\n",
      "sent = \"I ate oranges and pears.\"\n",
      "# also lemmatizes the verbs, which is nice\n",
      "print extract_predicates(sent)"
     ],
     "language": "python",
     "metadata": {},
     "outputs": [
      {
       "output_type": "stream",
       "stream": "stdout",
       "text": [
        "(NX I/PRP NX) (VX ate/VBD VX) (NX oranges/NNS and/CC pears/NNS NX) ./.\n",
        "[S(I) V(eat) O(orange and pear)]\n"
       ]
      }
     ],
     "prompt_number": 15
    },
    {
     "cell_type": "code",
     "collapsed": false,
     "input": [
      "vsoos = map(extract_predicates, sentences)"
     ],
     "language": "python",
     "metadata": {},
     "outputs": [
      {
       "output_type": "stream",
       "stream": "stdout",
       "text": [
        "the/DT (NX coral/JJ NX) (VX bleaching/VBG is/VBZ VX) (NX a/DT different/JJ type/NN NX) (NX they/PRP NX) (VX are/VBP VX) (NX bleached/JJ NX) and/CC (NX coral/JJ NX) (VX bleaching/VBG VX) ./.\n",
        "(NX the/DT bleached/JJ is/NNS NX) (NX plain/JJ white/JJ NX) ./.\n",
        "(NX the/DT coral/JJ polyps/NNS NX) (VX give/VBP VX) (NX different/JJ colors/NNS NX) ./.\n",
        "(NX the/DT skeleton/NN NX) (VX protects/VBZ VX) (NX the/DT body/NN NX) of/IN (NX polyp/NN NX) ./.\n",
        "(NX the/DT process/NN NX) (VX requires/VBZ VX) (NX both/DT carbon/NN dioxide/NN and/CC release/NN oxygen/NN NX) ./.\n",
        "(NX they/PRP NX) (VX know/VBP VX) about/IN (NX changes/NNS NX) (VX wind/VBP VX) (NX ,/, ocean/NN currents/NNS and/CC temperature/NN NX) ./.\n",
        "(NX this/DT event/NN NX) (VX occurred/VBD VX) in/IN (NX 0000/CD NX) ./.\n",
        "(NX blue/JJ color/NN NX) (VX is/VBZ VX) (NX water/NN temperature/NN NX) ./.\n",
        "(NX red/JJ color/NN NX) (VX is/VBZ VX) (NX trade/NN wind/NN strength/NN NX) ./.\n",
        "(NX the/DT fishermen/NNS NX) (VX worked/VBD VX) along/IN (NX pacific/JJ coastal/JJ regions/NNS NX) of/IN (VX south/RB america/VB VX) for/IN (NX centuries/NNS NX) ./.\n",
        "(NX normal/JJ water/NN temperature/NN NX) (VX will/MD be/VB VX) (NX 00/CD NX) -/: (NX 00/CD degrees/NNS f/NN NX) ./.\n",
        "(NX ocean/NN water/NN temperature/NN NX) (VX will/MD be/VB VX) (NX 0/CD NX) to/TO (NX 0/CD degrees/NNS f/NN NX) ./.\n",
        "(NX the/DT oxygen/NN NX) (VX is/VBZ VX) (/( (NX o2/CD NX) )/) ./.\n",
        "(NX the/DT carbon/NN dioxide/NN NX) (/( (NX co2/CD NX) )/) ./."
       ]
      },
      {
       "output_type": "stream",
       "stream": "stdout",
       "text": [
        "\n",
        "the/DT (NX necessary/JJ NX) (VX will/MD be/VB VX) (NX coral/JJ healthy/JJ NX) ./.\n",
        "during/IN (VX bleaching/VBG VX) (NX ,/, corals/NNS NX) (VX turn/VBP VX) (NX white/JJ due/JJ NX) to/TO (NX the/DT ejection/NN or/CC death/NN NX) of/IN (NX their/PRP$ algae/NNS NX) ./.\n",
        "(NX coral/JJ NX) (VX bleaching/VBG VX) (NX rates/NNS NX) (VX vary/VBP VX) at/IN (NX different/JJ times/NNS NX) ./.\n",
        "(NX the/DT pacific/JJ trade/NN winds/NNS NX) (VX go/VBP VX) from/IN (NX east/JJ NX) to/TO (NX west/NN NX) ./.\n",
        "(NX the/DT winds/NNS NX) (VX move/VBP VX) (NX the/DT warm/JJ surface/NN waters/NNS NX) westward/RB ./.\n",
        "(NX these/DT warm/JJ waters/NNS NX) (VX got/VBD together/RB north/RB VX) of/IN (NX australia/NN NX) ,/, near/IN (NX papua/NN new/JJ guinea/NN NX) ./.\n",
        "at/IN (NX the/DT same/JJ time/NN NX) (NX the/DT deeper/JJR and/CC colder/JJR waters/NNS NX) in/IN (NX the/DT eastern/JJ pacific/JJ rise/NN NX) to/TO (NX the/DT surface/NN NX) ./.\n",
        "this/DT (VX is/VBZ called/VBN VX) (NX upwelling/NN NX) ./.\n",
        "(NX i/NN NX) (VX did/VBD not/RB know/VB VX) any/DT of/IN this/DT ./.\n",
        "Common sense violated! Correcting...\n",
        "(NX upwelling/NN causes/NNS colder/JJR temperature/NN NX) in/IN (NX surface/NN NX) (VX waters/VBZ VX) ./.\n",
        "when/WRB (NX I/PRP NX) (VX read/VBP VX) (NX more/JJR NX) (NX I/PRP NX) (VX learned/VBD VX) that/IN (NX algae/NNS NX) (VX needs/VBZ to/TO have/VB VX) (NX a/DT certain/JJ temperature/NN NX) to/TO (VX stay/VB VX) (NX alive/JJ NX) and/CC (NX also/RB healthy/JJ NX) ./."
       ]
      },
      {
       "output_type": "stream",
       "stream": "stdout",
       "text": [
        "\n",
        "(NX coral/JJ NX) (VX bleaching/VBG is/VBZ when/WRB VX) (NX algae/NNS NX) (VX die/VBP VX) ./.\n",
        "(NX the/DT coral/NN NX) (VX loses/VBZ VX) (NX it/PRP NX) (VX color/VBP VX) because/IN (NX the/DT algae/NNS NX) (VX gave/VBD VX) (NX it/PRP NX) (NX the/DT color/NN NX) in/IN (NX the/DT first/JJ place/NN NX) ./.\n",
        "(NX the/DT thing/NN NX) that/IN (NX bleached/JJ corals/NNS NX) (VX are/VBP losing/VBG VX) (NX algae/NNS NX) or/CC very/RB (NX little/JJ algae/NNS NX) ./.\n",
        "(NX coral/JJ NX) (VX bleaching/VBG is/VBZ VX) (NX an/DT example/NN NX) of/IN how/WRB (NX environmental/JJ sources/NNS NX) (VX can/MD negatively/RB affect/VB VX) (NX the/DT relationship/NN NX) between/IN (NX corals/NNS NX) and/CC (NX their/PRP$ algae/NNS NX) ./.\n",
        "(NX coral/JJ NX) (VX bleaching/VBG VX) (NX rates/NNS NX) (VX vary/VBP VX) at/IN (NX different/JJ types/NNS NX) (VX depending/VBG VX) on/IN (NX the/DT weather/NN NX) ./.\n",
        "(NX coral/JJ NX) (VX bleaching/VBG happens/VBZ VX) by/IN (NX the/DT corals/NNS NX) (VX losing/VBG VX) (NX their/PRP$ algae/NNS NX) ./.\n",
        "also/RB (NX it/PRP NX) (VX happens/VBZ when/WRB VX) (NX the/DT corals/NNS NX) (VX start/VBP losing/VBG VX) (NX their/PRP$ color/NN NX) and/CC (VX start/VB turning/VBG VX) (NX plain/JJ white/JJ NX) ./.\n",
        "why/WRB (NX coral/JJ NX) (VX bleaching/VBG VX) (NX rates/NNS NX) (VX vary/VBP VX) at/IN (NX different/JJ times/NNS NX) ?/.\n",
        "(NX it/PRP NX) because/IN (NX the/DT water/NN temperature/NN NX) ./.\n",
        "also/RB if/IN (NX its/PRP$ winter/NN or/CC fall/NN NX) (NX the/DT rates/NNS NX) (NX lower/JJR NX) ./.\n",
        "if/IN (NX its/PRP$ high/JJ one/CD NX) (NX it/PRP NX) (NX higher/JJR NX) like/IN (NX summer/NN or/CC spring/NN NX) ./.\n",
        "by/IN (NX this/DT time/NN NX) now/RB (NX the/DT corals/NNS NX) (VX are/VBP going/VBG to/TO turn/VB VX) (NX white/JJ NX) because/IN its/PRP$ (VX getting/VBG VX) (NX colder/JJR NX) ./."
       ]
      },
      {
       "output_type": "stream",
       "stream": "stdout",
       "text": [
        "\n",
        "in/IN (NX conclusion/NN NX) ,/, (NX the/DT stuff/NN NX) that/IN (NX bleached/JJ corals/NNS NX) (VX are/VBP losing/VBG VX) (NX algae/NNS NX) ./.\n",
        "(NX that/WDT NX) (VX might/MD happen/VB VX) in/IN (NX fall/NN or/CC winter/NN time/NN NX) because/IN (NX the/DT sun/NN NX) (VX gives/VBZ VX) (NX salt/NN NX) to/TO (NX the/DT algae/NNS NX) for/IN (NX them/PRP NX) to/TO (VX eat/VB VX) ./.\n",
        "so/RB (NX they/PRP NX) (VX would/MD die/VB VX) if/IN (NX they/PRP NX) (VX didnt/VBP get/VB VX) (NX sun/NN NX) ./.\n",
        "also/RB ,/, (NX the/DT rates/NNS NX) (VX change/VBP VX) in/IN (NX different/JJ times/NNS NX) because/IN (NX every/DT day/NN NX) not/RB (NX 00/CD NX) -/: (NX 00/CD degrees/NNS NX) ./.\n",
        "its/PRP$ (NX always/RB different/JJ NX) because/IN (NX the/DT corals/NNS NX) (VX eat/VBP VX) from/IN (NX the/DT algae/NNS NX) and/CC if/IN (NX they/PRP NX) (VX die/VBP VX) because/IN of/IN (NX the/DT cold/JJ weather/NN NX) than/IN that/DT (VX probably/RB means/VBZ VX) (NX the/DT corals/NNS NX) (VX are/VBP going/VBG to/TO die/VB VX) ./.\n",
        "(NX that/WDT NX) (VX is/VBZ VX) (NX my/PRP$ answer/NN NX) ./.\n",
        "(NX coral/JJ NX) (VX bleaching/VBG happens/VBZ VX) at/IN (NX different/JJ times/NNS NX) ./.\n",
        "for/IN this/DT to/TO (VX happen/VB VX) (NX it/PRP NX) (VX depends/VBZ VX) on/IN (NX certain/JJ things/NNS NX) ./.\n",
        "like/IN for/IN (NX example/NN one/CD certain/JJ way/NN NX) (VX is/VBZ VX) (NX the/DT temperature/NN NX) ./.\n",
        "(NX i/NN NX) (VX think/VBP VX) (NX the/DT temperature/NN NX) (VX is/VBZ VX) (NX something/NN NX) that/IN (VX really/RB affects/VBZ VX) the/DT (NX coral/JJ NX) (VX bleaching/VBG VX) ./.\n",
        "(NX it/PRP NX) (VX probably/RB affects/VBZ VX) (NX it/PRP NX) because/IN if/IN (NX it/PRP NX) (VX isnt/VBP VX) (NX the/DT right/NN temperature/NN NX) (NX it/PRP NX) (VX might/MD die/VB VX) or/CC (VX start/VB changing/VBG VX) (NX color/NN NX) ./.\n",
        "(NX another/DT think/NN NX) (NX that/WDT NX) (VX can/MD cause/VB VX) (NX coral/JJ NX) (VX bleaching/VBG are/VBP VX) (NX the/DT changes/NNS NX) in/IN (NX wind/NN NX) ./."
       ]
      },
      {
       "output_type": "stream",
       "stream": "stdout",
       "text": [
        "\n",
        "(NX changes/NNS NX) in/IN (NX wind/NN NX) (VX is/VBZ also/RB VX) a/DT very/RB (NX important/JJ thing/NN NX) (NX that/WDT NX) (VX can/MD cause/VB VX) (NX coral/JJ NX) (VX bleaching/VBG VX) ./.\n",
        "(NX it/PRP NX) (VX might/MD cause/VB VX) (NX coral/JJ NX) (VX bleaching/VBG VX) because/IN when/WRB (NX the/DT wind/NN NX) (VX changes/VBZ VX) (NX the/DT temperature/NN NX) (VX will/MD change/VB VX) ./.\n",
        "for/IN (NX example/NN NX) in/IN (NX the/DT text/NN NX) (NX it/PRP NX) (VX says/VBZ VX) (NX normal/JJ water/NN temperature/NN NX) in/IN (NX these/DT regions/NNS NX) (VX is/VBZ VX) (NX 00/CD NX) -/: (NX 00/CD degrees/NNS f/NN NX) ./.\n",
        "however/RB ,/, when/WRB (NX surface/NN water/NN shift/NN NX) eastward/RB (NX ,/, ocean/NN water/NN temperatures/NNS NX) (VX increase/VBP VX) by/IN (NX 0/CD NX) -/: (NX 0/CD degrees/NNS f/NN NX) ./.\n",
        "so/RB when/WRB (NX there/EX NX) (VX are/VBP VX) (NX changes/NNS NX) in/IN (NX wind/NN NX) (NX the/DT temperature/NN changes/NNS NX) ./.\n",
        "like/IN (NX I/PRP NX) (VX was/VBD saying/VBG VX) before/IN if/IN (NX the/DT temperature/NN changes/NNS NX) (NX it/PRP NX) (VX will/MD also/RB cause/VB VX) (NX coral/JJ NX) (VX bleaching/VBG VX) ./.\n",
        "(NX a/DT lot/NN NX) of/IN (NX stuff/NN NX) (VX can/MD cause/VB VX) (NX coral/JJ NX) (VX bleaching/VBG VX) ./.\n",
        "that/IN why/WRB (NX the/DT colors/NNS NX) (VX change/VBP VX) ./.\n",
        "(NX i/NN NX) (VX never/RB knew/VBD VX) all/DT (NX the/DT stuff/NN NX) (NX that/WDT NX) (VX can/MD cause/VB VX) (NX it/PRP NX) ./.\n",
        "some/DT of/IN (NX the/DT stuff/NN NX) (VX are/VBP VX) (NX changes/NNS NX) in/IN (NX wind/NN ,/, temperatures/NNS ,/, and/CC ocean/NN currents/NNS NX) ./.\n",
        "(NX the/DT rates/NNS NX) (VX vary/VBP VX) at/IN (NX different/JJ times/NNS NX) for/IN (NX many/JJ reasons/NNS NX) ./.\n",
        "(NX one/CD NX) of/IN (NX the/DT reasons/NNS NX) that/IN (NX it/PRP NX) (VX vary/VBP is/VBZ VX) (NX which/WDT way/NN NX) (NX the/DT trade/NN winds/NNS NX) (VX are/VBP going/VBG VX) ./."
       ]
      },
      {
       "output_type": "stream",
       "stream": "stdout",
       "text": [
        "\n",
        "also/RB (NX higher/JJR water/NN temperature/NN NX) (VX could/MD affect/VB VX) (NX it/PRP NX) ./.\n",
        "(NX those/DT are/NN NX) (NX my/PRP$ reasons/NNS NX) ./.\n",
        "(NX i/NN NX) (VX saw/VBD VX) on/IN (NX the/DT graph/NN NX) (NX the/DT lowest/JJS trade/NN winds/NNS NX) (VX was/VBD VX) (NX the/DT same/JJ year/NN NX) as/IN when/WRB (NX more/JJR NX) than/IN (NX seventy/CD countries/NNS NX) (VX reported/VBD VX) (NX coral/JJ NX) (VX bleaching/VBG VX) ./.\n",
        "(NX trade/NN winds/NNS NX) (VX is/VBZ VX) (NX wind/NN NX) (NX that/WDT NX) (VX goes/VBZ VX) (NX east/JJ NX) to/TO (NX west/NN NX) ./.\n",
        "that/DT (VX changes/VBZ VX) (NX every/DT couple/NN years/NNS NX) ./.\n",
        "(NX that/WDT NX) (VX is/VBZ how/WRB VX) (NX it/PRP NX) (VX might/MD affect/VB VX) (NX it/PRP NX) ./.\n",
        "(NX the/DT graph/NN NX) (VX showed/VBD VX) in/IN (NX 0000/CD NX) the/DT (NX higher/JJR NX) (NX the/DT water/NN temperature/NN NX) the/DT (NX higher/JJR NX) the/DT (NX coral/JJ NX) (VX bleaching/VBG VX) ./.\n",
        "(NX those/DT are/NN NX) (NX my/PRP$ thoughts/NNS NX) about/IN (NX coral/JJ NX) (VX bleaching/VBG VX) ./.\n",
        "?/.\n",
        "(NX there/EX NX) (VX are/VBP VX) (NX different/JJ ways/NNS NX) (NX coral/JJ NX) (VX bleaching/VBG VX) (NX rates/NNS NX) (VX vary/VBP VX) at/IN (NX different/JJ times/NNS NX) ./.\n",
        "(NX first/JJ coral/JJ NX) (VX bleaching/VBG is/VBZ VX) (NX something/NN NX) (NX that/WDT NX) (VX give/VBP VX) (NX the/DT corals/NNS NX) (NX their/PRP$ colors/NNS NX) ./.\n",
        "(NX some/DT coral/JJ have/NN NX) (VX lost/VBN VX) (NX their/PRP$ color/NN NX) and/CC (VX have/VBP been/VBN VX) (NX bleached/JJ plain/JJ white/JJ NX) ./.\n",
        "for/IN (NX me/PRP NX) (NX coral/JJ NX) (VX bleaching/VBG mainly/RB means/VBZ losing/VBG VX) (NX the/DT color/NN NX) ./.\n",
        "(NX that/WDT NX) (VX is/VBZ VX) (NX what/WP NX) (NX coral/JJ NX) (VX bleaching/VBG means/VBZ VX) ./.\n",
        "(NX coral/JJ NX) (VX bleaching/VBG VX) (NX changes/NNS NX) by/IN (NX its/PRP$ color/NN NX) ./."
       ]
      },
      {
       "output_type": "stream",
       "stream": "stdout",
       "text": [
        "\n",
        "(NX the/DT author/NN NX) (VX said/VBD VX) that/IN (NX the/DT coral/JJ bleaching/VBG changes/NNS NX) ./.\n",
        "the/DT (VX bleaching/VBG changes/VBZ VX) (NX a/DT lot/NN NX) or/CC (NX less/JJR NX) throughout/IN (NX the/DT years/NNS NX) ./.\n",
        "the/DT (NX biggest/RBS coral/JJ NX) (VX bleaching/VBG was/VBD VX) on/IN (NX the/DT year/NN NX) of/IN (NX 0000/CD NX) ./.\n",
        "in/IN (NX each/DT year/NN NX) on/IN (NX the/DT graph/NN NX) (NX there/EX NX) (VX are/VBP VX) (NX different/JJ things/NNS NX) ./.\n",
        "(NX the/DT author/NN NX) (VX said/VBD VX) that/IN (NX people/NNS NX) (VX often/RB mistake/VB VX) for/IN (NX a/DT rock/NN NX) or/CC (NX a/DT plant/NN NX) ./.\n",
        "(NX coral/NN NX) (VX is/VBZ mainly/RB made/VBN VX) up/IN from/IN (NX tiny/JJ animals/NNS NX) (VX called/VBN VX) (NX polyps/NNS NX) ./.\n",
        "in/IN (NX my/PRP$ opinion/NN NX) (NX I/PRP NX) (VX am/VBP amazed/VBN VX) that/IN (NX animals/NNS NX) (VX make/VBP VX) (NX coral/JJ NX) ./.\n",
        "(NX i/NN NX) (VX wondered/VBD how/WRB VX) (NX tiny/JJ little/JJ animals/NNS NX) (VX do/VBP VX) the/DT (NX coral/JJ NX) ./.\n",
        "(NX coral/JJ NX) (VX bleaching/VBG VX) (NX rates/NNS NX) (VX vary/VBP VX) at/IN (NX different/JJ times/NNS NX) (VX depending/VBG VX) on/IN how/WRB (NX much/JJ algae/NNS NX) (VX are/VBP VX) their/PRP$ ./.\n",
        "(NX the/DT reason/NN NX) (NX the/DT corals/NNS NX) (VX need/VBP VX) (NX algae/NNS NX) (VX is/VBZ VX) because/IN (NX they/PRP NX) (VX prey/VBP VX) on/IN (NX algae/NNS NX) ./.\n",
        "if/IN (NX they/PRP NX) (VX dont/VBP get/VB VX) (NX algae/NNS NX) (NX it/PRP NX) (VX leads/VBZ VX) the/DT (NX coral/JJ NX) to/TO (VX have/VB VX) (NX discoloration/NN NX) and/CC (NX they/PRP NX) (VX turn/VBP VX) (NX white/JJ NX) ./.\n",
        "(NX the/DT problem/NN NX) (VX is/VBZ VX) (NX the/DT algae/NNS NX) (VX is/VBZ not/RB always/RB there/RB VX) ./."
       ]
      },
      {
       "output_type": "stream",
       "stream": "stdout",
       "text": [
        "\n",
        "this/DT (VX is/VBZ VX) because/IN (NX winds/NNS NX) (VX blow/VBP VX) (NX it/PRP NX) (NX east/JJ NX) to/TO (NX west/NN NX) ./.\n",
        "also/RB (NX ,/, water/NN levels/NNS NX) (VX increase/VBP VX) to/TO about/IN (NX several/JJ inches/NNS NX) to/TO (NX a/DT foot/NN NX) ./.\n",
        "(NX there/EX NX) (VX is/VBZ VX) no/DT (NX certain/JJ routine/JJ NX) for/IN when/WRB this/DT (VX happens/VBZ so/RB VX) (NX it/PRP NX) (VX happens/VBZ VX) at/IN very/RB (NX different/JJ times/NNS NX) ./.\n",
        "(NX well/RB coral/JJ NX) (VX bleaching/VBG is/VBZ VX) (NX bad/JJ NX) because/IN (NX the/DT coral/NN NX) (VX has/VBZ VX) (NX it/PRP NX) (NX beautiful/JJ color/NN NX) ./.\n",
        "(NX the/DT coral/JJ bleach/NN NX) (VX is/VBZ VX) (NX bad/JJ NX) for/IN (NX those/DT bleachers/NNS NX) (VX takes/VBZ VX) (NX the/DT color/NN NX) and/CC (NX the/DT food/NN NX) that/IN (NX they/PRP NX) (VX eat/VBP VX) ./.\n",
        "this/DT (VX is/VBZ really/RB VX) (NX bad/JJ NX) for/IN (NX coral/JJ life/NN NX) ./.\n",
        "(NX the/DT corals/NNS NX) (VX need/VBP VX) (NX their/PRP$ color/NN NX) ./.\n",
        "plus/CC (NX they/PRP NX) (VX need/VBP VX) (NX food/NN NX) ./.\n",
        "for/IN (NX they/PRP NX) (VX could/MD obviously/RB survive/VB VX) ./.\n",
        "the/DT (VX is/VBZ VX) a/DT (VX living/VBG VX) (NX thing/NN NX) ./.\n",
        "(NX the/DT passage/NN states/NNS NX) however/RB (NX some/DT coral/JJ have/NN NX) (VX lost/VBN VX) (NX their/PRP$ color/NN NX) and/CC (VX been/VBN VX) (NX bleached/JJ NX) as/IN (NX plain/JJ white/JJ NX) ./.\n",
        "well/RB plus/CC (NX they/PRP NX) (NX coral/JJ dont/NN NX) (VX get/VB VX) (NX food/NN NX) (NX they/PRP NX) (VX have/VBP VX) (NX a/DT process/NN NX) of/IN (NX photosynthesis/NN NX) ./.\n",
        "(NX they/PRP NX) (VX need/VBP VX) (NX light/NN NX) to/TO (VX eat/VB VX) out/IN (NX the/DT ocean/NN NX) (VX could/MD turn/VB VX) of/IN (NX 00/CD NX) to/TO (NX 0/CD degrees/NNS NX) ./.\n",
        "so/RB (NX they/PRP NX) (VX need/VBP to/TO have/VB VX) (NX light/NN NX) to/TO (VX eat/VB VX) ./.\n",
        "(NX the/DT passage/NN states/NNS NX) (NX they/PRP NX) (VX have/VBP know/VB VX) about/IN (NX changes/NNS NX) in/IN (NX wind/NN ,/, temperatures/NNS NX) ./."
       ]
      },
      {
       "output_type": "stream",
       "stream": "stdout",
       "text": [
        "\n",
        "this/DT (VX affects/VBZ VX) (NX coral/JJ NX) (NX it/PRP NX) (VX takes/VBZ VX) (NX there/EX NX) (NX color/NN NX) away/RB ./.\n",
        "then/RB (NX it/PRP NX) (VX takes/VBZ VX) (NX their/PRP$ food/NN NX) away/IN to/TO ./.\n",
        "plus/CC if/IN (NX the/DT corals/NNS NX) (VX are/VBP VX) (NX bleached/JJ NX) (NX they/PRP NX) (VX are/VBP not/RB VX) (NX healthy/JJ NX) ./.\n",
        "(NX the/DT passage/NN states/NNS NX) during/IN (VX bleaching/VBG VX) (NX ,/, corals/NNS NX) (VX turn/VBP VX) (NX white/JJ due/JJ NX) to/TO (VX eject/VB VX) (NX or/CC death/NN NX) of/IN (NX their/PRP$ algae/NNS NX) ./.\n",
        "(NX so/JJ algae/NNS NX) (VX gives/VBZ VX) (NX it/PRP NX) (NX it/PRP NX) (VX color/VBP VX) ./.\n",
        "(NX finally/RB coral/JJ NX) (VX bleaching/VBG is/VBZ VX) (NX awful/JJ NX) to/TO (NX the/DT corals/NNS NX) ./.\n",
        "(NX they/PRP NX) (VX can/MD lose/VB VX) (NX healthiest/JJS NX) ./.\n",
        "this/DT (VX is/VBZ VX) (NX important/JJ topic/NN NX) of/IN (NX coral/JJ NX) (VX bleaching/VBG VX) ./.\n",
        "?/.\n",
        "(NX coral/JJ NX) (VX bleaching/VBG happens/VBZ when/WRB VX) (NX the/DT coral/NN NX) (VX has/VBZ VX) (NX no/DT algae/NNS or/CC sugar/NN NX) ./.\n",
        "then/RB (NX it/PRP NX) (VX becomes/VBZ VX) (NX bleached/JJ white/JJ NX) ./.\n",
        "this/DT (VX can/MD cause/VB VX) (NX death/NN NX) ./.\n",
        "(NX it/PRP NX) (VX can/MD spread/VB VX) across/IN (NX the/DT coral/JJ reef/NN NX) and/CC (VX destroy/VB VX) (NX the/DT coral/JJ reef/NN NX) ./.\n",
        "(NX it/PRP NX) (VX happens/VBZ VX) at/IN (NX different/JJ rates/NNS and/CC times/NNS NX) ./.\n",
        "why/WRB ?/.\n",
        "because/IN when/WRB (NX the/DT water/NN temperature/NN NX) (VX increases/VBZ VX) (NX the/DT carbon/NN dioxide/NN NX) in/IN (NX the/DT water/NN decreases/NNS NX) and/CC very/RB (NX little/JJ carbon/NN dioxide/NN NX) and/CC (NX it/PRP NX) (VX ruins/VBZ VX) (NX the/DT balance/NN NX) that/IN (NX corals/NNS NX) (VX need/VBP to/TO be/VB VX) (NX healthy/JJ NX) ./.\n",
        "then/RB when/WRB (NX the/DT coral/NN NX) (VX runs/VBZ VX) out/IN of/IN (NX it/PRP NX) (NX algae/NNS NX) and/CC (VX starts/VBZ to/TO bleach/VB VX) and/CC (VX dies/VBZ slowly/RB VX) (NX it/PRP NX) (VX does/VBZ not/RB get/VB VX) (NX it/PRP NX) (NX nutrients/NNS NX) and/CC (NX bleached/JJ NX) ./."
       ]
      },
      {
       "output_type": "stream",
       "stream": "stdout",
       "text": [
        "\n",
        "(NX the/DT rates/NNS NX) (VX change/VBP VX) because/IN at/IN (NX different/JJ times/NNS NX) because/IN (NX the/DT water/NN temperature/NN changes/NNS NX) and/CC (NX the/DT coral/JJ cant/NN produce/NN food/NN or/CC things/NNS NX) that/IN (NX the/DT need/NN NX) (NX healthy/JJ NX) and/CC (NX alive/JJ NX) ./.\n",
        "also/RB (NX the/DT wind/NN NX) (VX affects/VBZ VX) (NX the/DT water/NN and/CC food/NN change/NN NX) since/IN (NX the/DT coral/NN NX) (VX is/VBZ VX) (NX sensitive/JJ NX) on/IN (NX temperatures/NNS and/CC cant/NN produce/NN NX) (NX any/DT food/NN NX) ./.\n",
        "so/RB that/IN (NX it/PRP NX) that/IN (NX my/PRP$ answer/NN NX) ./.\n",
        "hopefully/RB that/IN (NX answers/NNS NX) (NX your/PRP$ question/NN NX) ./.\n",
        "the/DT (NX coral/JJ NX) (VX bleaching/VBG VX) at/IN a/DT (VX vary/VBP VX) (NX different/JJ time/NN NX) because/IN (NX there/EX NX) (VX is/VBZ VX) (NX enough/JJ nutrients/NNS NX) for/IN (NX algae/NNS NX) to/TO (VX protect/VB VX) (NX the/DT environment/NN NX) ./.\n",
        "(NX also/RB coral/JJ NX) (VX can/MD survive/VB VX) (NX damages/NNS NX) from/IN (NX some/DT destructive/JJ thing/NN NX) ,/, but/CC the/DT most/RBS (NX dangerous/JJ threats/NNS NX) to/TO (NX coral/JJ are/NN NX) those/DT (NX that/DT result/NN NX) in/IN (NX coral/JJ NX) (VX bleaching/VBG VX) ./.\n",
        "(NX coral/JJ NX) (VX bleaching/VBG refers/VBZ VX) to/TO (NX an/DT event/NN NX) whereby/WRB (NX corals/NNS NX) (VX lose/VBP VX) (NX their/PRP$ coloring/NN NX) ./.\n",
        "during/IN (VX bleaching/VBG VX) (NX coral/JJ turn/NN NX) (NX white/JJ due/JJ NX) to/TO (NX the/DT ejection/NN or/CC death/NN NX) of/IN (NX their/PRP$ algae/NNS NX) ./.\n",
        "(NX this/DT mean/NN NX) that/IN if/IN (NX they/PRP NX) (VX dont/VBP have/VBP VX) (NX enough/JJ nutrients/NNS or/CC algae/NNS NX) (NX they/PRP NX) (VX become/VBP VX) (NX coral/JJ NX) (VX bleaching/VBG VX) and/CC (NX it/PRP NX) (VX causes/VBZ VX) to/TO (VX died/VBD VX) ./.\n",
        "also/RB (NX it/PRP NX) (VX cause/VBP VX) by/IN (NX the/DT weather/NN NX) ./."
       ]
      },
      {
       "output_type": "stream",
       "stream": "stdout",
       "text": [
        "\n",
        "(NX it/PRP NX) (VX change/VBP VX) (NX there/EX NX) (NX time/NN NX) ./.\n",
        "(NX it/PRP NX) (VX may/MD cause/VB VX) (NX thunderstorm/NN or/CC hurricanes/NNS NX) ./.\n",
        "(NX these/DT are/NN reason/NN NX) that/IN the/DT (NX coral/JJ NX) (VX bleaching/VBG VX) (NX rates/NNS NX) at/IN a/DT (VX vary/VBP VX) (NX time/NN NX) ./.\n",
        "(NX coral/JJ NX) (VX bleaching/VBG VX) (NX changes/NNS NX) at/IN (NX different/JJ times/NNS NX) ./.\n",
        "(NX that/WDT NX) (VX is/VBZ VX) because/IN when/WRB (NX they/PRP NX) (VX change/VBP VX) (NX they/PRP NX) (VX are/VBP not/RB VX) (NX healthy/JJ NX) ./.\n",
        "also/RB if/IN (NX they/PRP NX) (VX dont/VBP VX) (NX change/NN NX) (NX that/WDT NX) (VX means/VBZ VX) (NX they/PRP NX) (VX are/VBP so/RB VX) (NX healthy/JJ NX) ./.\n",
        "although/IN if/IN (NX they/PRP NX) (VX change/VBP VX) (NX they/PRP NX) (VX turn/VBP VX) all/DT (NX white/JJ NX) ./.\n",
        "if/IN (NX they/PRP NX) (VX dont/VBP VX) (NX change/NN NX) (NX they/PRP NX) (VX stay/VBP VX) all/DT (NX orange/JJ NX) ./.\n",
        "also/RB when/WRB (NX they/PRP NX) (VX change/VBP VX) (NX it/PRP NX) (VX is/VBZ called/VBN bleaching/VBG VX) (NX that/WDT NX) (VX is/VBZ when/WRB VX) (NX it/PRP NX) (VX is/VBZ VX) (NX white/JJ NX) ./.\n",
        "(NX the/DT regular/JJ name/NN NX) (VX is/VBZ VX) (NX coral/JJ NX) when/WRB (NX it/PRP NX) (VX is/VBZ VX) (NX healthy/JJ NX) ./.\n",
        "the/DT (NX coral/JJ NX) (VX bleaching/VBG is/VBZ VX) around/IN (NX the/DT pacific/JJ ocean/NN NX) ./.\n",
        "like/IN (NX asia/NN ,/, australia/NN NX) ,/, and/CC (VX north/RB america/VB VX) ./.\n",
        "also/RB in/IN (NX the/DT pacific/JJ ocean/NN NX) (NX the/DT water/NN NX) (VX is/VBZ VX) (NX warmer/JJR NX) ./.\n",
        "and/CC a/DT little/RB (NX less/JJR cooler/JJR water/NN NX) ./.\n",
        "also/RB (NX coral/NN NX) (VX has/VBZ VX) (NX another/DT important/JJ thing/NN NX) (NX it/PRP NX) (VX can/MD survive/VB VX) (NX damage/NN NX) from/IN (NX some/DT destructive/JJ things/NNS NX) ./.\n",
        "mostly/RB (NX every/DT time/NN NX) (NX the/DT coral/NN NX) (VX loses/VBZ VX) (NX their/PRP$ color/NN NX) ./."
       ]
      },
      {
       "output_type": "stream",
       "stream": "stdout",
       "text": [
        "\n",
        "(NX also/RB coral/JJ NX) (VX bleaching/VBG is/VBZ VX) (NX one/CD example/NN NX) of/IN how/WRB (NX environmental/JJ stressors/NNS NX) (VX can/MD negatively/RB affect/VB VX) (NX the/DT relationship/NN NX) between/IN (NX the/DT corals/NNS NX) and/CC (NX their/PRP$ algae/NNS NX) ./.\n",
        "(NX that/WDT NX) (VX is/VBZ why/WRB VX) (NX coral/JJ changes/NNS NX) ./.\n",
        "?/.\n",
        "(NX coral/JJ NX) (VX bleaching/VBG VX) (NX rate/NN NX) (VX vary/VBP VX) at/IN (NX different/JJ times/NNS NX) ./.\n",
        "(NX it/PRP NX) (VX happen/VBP mostly/RB VX) in/IN (NX the/DT pacific/JJ ocean/NN NX) ./.\n",
        "(NX coral/JJ NX) (VX bleaching/VBG happen/VB when/WRB VX) (NX it/PRP NX) (VX was/VBD VX) (NX 0000/CD NX) ./.\n",
        "(NX it/PRP NX) (VX happen/VBP VX) because/IN (NX the/DT wind/NN change/NN NX) ./.\n",
        "(NX the/DT temperatures/NNS changes/NNS NX)\n",
        "(NX coral/JJ NX) (VX bleaching/VBG is/VBZ VX) (NX one/CD example/NN NX) of/IN how/WRB (NX environmental/JJ stressors/NNS NX) (VX can/MD negatively/RB affect/VB VX) (NX relationships/NNS NX) with/IN the/DT (NX coral/JJ NX) and/CC (NX their/PRP$ algae/NNS NX) ./.\n",
        "(NX they/PRP NX) (VX happen/VBP VX) on/IN (NX different/JJ times/NNS NX) because/IN (NX the/DT wind/NN and/CC water/NN temperature/NN NX) ./.\n",
        "because/IN (NX some/DT winds/NNS NX) (VX are/VBP VX) (NX weak/JJ NX) ./.\n",
        "and/CC (NX some/DT water/NN temperature/NN NX) (VX is/VBZ VX) (NX higher/JJR NX) ./.\n",
        "the/DT (NX coral/JJ NX) (VX can/MD survive/VB VX) (NX damage/NN NX) from/IN some/DT (NX destructive/JJ NX) ./.\n",
        "(NX it/PRP NX) (VX bleaching/VBG VX) because/IN (NX it/PRP NX) (VX does/VBZ not/RB get/VB VX) (NX carbon/NN dioxide/NN and/CC water/NN NX) to/TO (VX make/VB VX) (NX sugar/NN and/CC release/NN oxygen/NN NX) ./.\n",
        "so/RB if/IN (NX it/PRP NX) (VX does/VBZ not/RB have/VBP VX) that/IN (NX it/PRP NX) (VX turns/VBZ VX) (NX white/JJ NX) ./.\n",
        "(NX iam/NN NX) (NX sure/JJ NX) (NX there/EX NX) (VX are/VBP VX) (NX many/JJ reasons/NNS NX) why/WRB (NX coral/JJ NX) (VX bleaching/VBG is/VBZ caused/VBN VX) by/IN (NX things/NNS NX) ./."
       ]
      },
      {
       "output_type": "stream",
       "stream": "stdout",
       "text": [
        "\n",
        "(NX there/EX NX) (VX are/VBP VX) (NX some/DT people/NNS NX) (NX who/WP NX) (VX do/VBP VX) (NX it/PRP NX) without/IN (VX realizing/VBG VX) (NX what/WP NX) (NX they/PRP NX) (VX had/VBD just/RB done/VBN VX) ./.\n",
        "but/CC then/RB (NX there/EX NX) (VX are/VBP VX) (NX other/JJ people/NNS NX) (NX who/WP NX) (VX do/VBP indispictuous/VBG VX) (NX things/NNS NX) joyfully/RB and/CC (NX proud/JJ NX) that/IN (NX they/PRP NX) (VX did/VBD VX) (NX it/PRP NX) ./.\n",
        "(NX i/NN dont/NN NX) (VX think/VBP VX) (NX people/NNS NX) (VX should/MD be/VB doing/VBG VX) this/DT ./.\n",
        "this/DT (VX is/VBZ VX) (NX my/PRP$ opinion/NN NX) for/IN the/DT (VX following/VBG VX)\n",
        "(NX first/JJ NX) of/IN all/DT (NX it/PRP NX) (NX wrong/JJ NX) because/IN (NX it/PRP NX) (VX can/MD harm/VB VX) (NX the/DT entire/JJ ecosystem/NN NX) ./.\n",
        "if/IN (NX an/DT animal/NN NX) (VX swallows/VBZ VX) (NX the/DT bleach/NN NX) ,/, (NX it/PRP NX) (VX can/MD kill/VB VX) (NX them/PRP NX) ./.\n",
        "(NX second/JJ NX) of/IN all/DT ,/, (NX it/PRP NX) (VX is/VBZ VX) (NX wrong/JJ NX) because/IN (NX the/DT person/NN NX) (VX doing/VBG VX) (NX it/PRP NX) (VX can/MD go/VB to/TO jail/VB VX) because/IN (VX killing/VBG is/VBZ VX) (NX a/DT crime/NN NX) ./.\n",
        "in/IN (NX conclusion/NN NX) ,/, (NX they/PRP NX) (VX shouldnt/VBP VX) (NX bleach/NN random/JJ wild/JJ life/NN NX) because/IN (NX it/PRP NX) (VX is/VBZ VX) (NX risky/JJ NX) ./.\n",
        "and/CC (NX it/PRP NX) (VX can/MD kill/VB VX) (NX the/DT wild/JJ life/NN ecosystem/NN NX) ./.\n",
        "(NX i/NN NX) (VX think/VBP VX) (NX coral/JJ NX) (VX bleaching/VBG VX) (NX rates/NNS NX) (VX vary/VBP VX) at/IN (NX different/JJ times/NNS NX) because/IN of/IN (NX the/DT water/NN temperature/NN NX) ./.\n",
        "and/CC (NX the/DT way/NN NX) how/WRB (NX that/WDT NX) (VX happened/VBD was/VBD probably/RB VX) because/IN of/IN from/IN how/WRB (NX cold/JJ NX) or/CC (NX hot/JJ NX) (NX it/PRP NX) (VX is/VBZ VX) (NX a/DT times/NNS NX) ./.\n",
        "(NX i/NN NX) (VX also/RB think/VBP VX) (NX that/WDT NX) (VX is/VBZ was/VBD VX) because/IN of/IN (NX the/DT weather/NN temperatures/NNS NX) (NX that/WDT NX) (VX made/VBD VX) (NX the/DT corals/NNS bleach/NN NX) some/DT of/IN (NX it/PRP NX) (VX is/VBZ just/RB VX) (NX healthy/JJ pink/JJ coral/JJ NX) ./."
       ]
      },
      {
       "output_type": "stream",
       "stream": "stdout",
       "text": [
        "\n",
        "in/IN (NX other/JJ words/NNS NX) in/IN (NX my/PRP$ opinion/NN NX) (NX I/PRP NX) (VX think/VBP VX) that/IN (NX some/DT coral/JJ are/NN NX) just/RB (NX healthy/JJ and/CC pink/JJ and/CC other/JJ corals/NNS NX) (VX can/MD be/VB VX) (NX bleached/JJ NX) and/CC (VX look/VB just/RB VX) (NX plain/JJ NX) and/CC (NX white/JJ NX) instead/RB of/IN (NX pink/JJ NX) and/CC (NX healthy/JJ NX) ./.\n",
        "in/IN (NX the/DT text/NN NX) (NX it/PRP NX) (VX shows/VBZ VX) (NX different/JJ graphs/NNS NX) for/IN (NX trade/NN winds/NNS NX) and/CC (NX coral/JJ NX) (VX bleaching/VBG VX) ./.\n",
        "(NX it/PRP NX) (VX also/RB has/VBZ VX) (NX a/DT map/NN NX) (NX that/WDT NX) (VX shows/VBZ were/VBD VX) the/DT (NX coral/JJ NX) (VX bleaching/VBG has/VBZ occurred/VBN so/RB far/RB VX) ./.\n",
        "(NX it/PRP NX) (VX has/VBZ also/RB occurred/VBN VX) in/IN (NX the/DT pacific/JJ ocean/NN NX) ./.\n",
        "in/IN (NX another/DT opinion/NN NX) (NX I/PRP NX) (VX think/VBP VX) that/IN (NX it/PRP NX) (VX might/MD be/VB VX) (NX the/DT trade/NN winds/NNS NX) (NX that/WDT NX) (VX are/VBP causing/VBG VX) (NX healthy/JJ pink/JJ coral/JJ NX) to/TO (VX become/VB VX) (NX plain/JJ white/JJ coral/JJ bleach/NN NX) in/IN (NX the/DT pacific/JJ ocean/NN NX) ./.\n",
        "(NX i/NN NX) (VX saw/VBD VX) (NX some/DT pictures/NNS NX) of/IN (NX what/WP NX) (NX the/DT coral/NN NX) (VX looked/VBD VX) like/IN before/IN when/WRB (NX it/PRP NX) (VX was/VBD VX) (NX healthy/JJ NX) and/CC (NX pink/JJ NX) ./.\n",
        "in/IN (NX the/DT text/NN NX) (NX it/PRP NX) (VX said/VBD VX) that/IN (NX coral/NN NX) (VX had/VBD VX) (NX little/JJ tiny/JJ animals/NNS NX) (VX living/VBG VX) in/IN the/DT (NX coral/JJ NX) ./.\n",
        "in/IN (NX the/DT text/NN NX) (NX it/PRP NX) (VX had/VBD VX) (NX a/DT picture/NN NX) with/IN (NX arrows/NNS NX) and/CC (NX the/DT pacific/JJ ocean/NN NX) (VX showing/VBG VX) (NX some/DT animals/NNS NX) ./.\n",
        "for/IN (NX the/DT trade/NN winds/NNS NX) (NX it/PRP NX) (VX has/VBZ VX) (NX different/JJ colored/JJ arrows/NNS NX) to/TO (VX show/VB VX) (NX cool/JJ and/CC warm/JJ waters/NNS NX) in/IN (NX the/DT pacific/JJ ocean/NN NX) ./.\n",
        "(NX i/NN NX) (VX think/VBP VX) that/IN if/IN this/DT (VX keeps/VBZ VX) on/IN (VX going/VBG VX) on/IN this/DT (VX might/MD change/VB VX) (NX our/PRP$ lives/NNS NX) (VX might/MD change/VB VX) ./."
       ]
      },
      {
       "output_type": "stream",
       "stream": "stdout",
       "text": [
        "\n",
        "so/RB (NX what/WP NX) (NX I/PRP NX) (VX want/VBP to/TO know/VB VX) (VX is/VBZ VX) (NX what/WP NX) (VX will/MD happen/VB VX) (NX next/JJ NX) ?/.\n",
        "(NX i/NN NX) (VX think/VBP VX) (NX the/DT coral/JJ bleaching/VBG rates/NNS NX) (VX vary/VBP VX) at/IN (NX different/JJ times/NNS NX) because/IN (NX I/PRP NX) (VX think/VBP VX) that/IN in/IN (NX each/DT ocean/NN NX) (NX the/DT little/JJ animals/NNS NX) (NX that/WDT NX) (VX cause/VBP VX) (NX that/WDT NX) (VX makes/VBZ VX) (NX it/PRP NX) (NX coral/JJ NX) (VX bleaching/VBG VX) ./.\n",
        "(NX corals/NNS NX) (VX live/VBP VX) in/IN (NX colonies/NNS NX) (NX that/WDT NX) (VX are/VBP made/VBN VX) up/IN of/IN (NX many/JJ polyps/NNS NX) ./.\n",
        "this/DT (VX helped/VBN VX) (NX me/PRP NX) (VX understand/VBP VX) (NX the/DT text/NN NX) because/IN (NX I/PRP NX) (VX kept/VBD VX) on/IN (VX asking/VBG VX) (NX myself/PRP NX) (NX what/WP NX) (VX is/VBZ VX) (NX it/PRP NX) (VX made/VBD VX) of/IN ?/.\n",
        "and/CC (NX I/PRP NX) (VX think/VBP VX) (NX it/PRP NX) (VX rates/VBZ VX) at/IN (NX different/JJ times/NNS NX) because/IN maybe/RB in/IN (NX some/DT animals/NNS NX) (NX there/EX NX) (VX are/VBP less/RBR VX) (NX coral/JJ NX) (VX bleaching/VBG VX) ./.\n",
        "(NX which/WDT NX) (VX may/MD cause/VB less/RBR VX) (NX coral/JJ NX) (VX bleaching/VBG so/RB VX) (NX I/PRP NX) (VX think/VBP VX) this/DT (VX happens/VBZ VX) because/IN (NX there/EX NX) (VX might/MD be/VB VX) (NX a/DT lot/NN NX) of/IN (NX coral/JJ NX) (VX bleaching/VBG VX) in/IN (NX one/CD ocean/NN NX) and/CC a/DT (NX little/JJ coral/JJ NX) (VX bleaching/VBG VX) in/IN (NX another/DT ocean/NN NX) (NX which/WDT NX) (VX might/MD cause/VB VX) (NX it/PRP NX) to/TO (VX be/VB VX) in/IN (NX rates/NNS NX) of/IN (NX different/JJ times/NNS NX) ./.\n",
        "or/CC (NX it/PRP NX) (VX might/MD be/VB VX) that/IN in/IN (NX some/DT oceans/NNS NX) (NX the/DT water/NN NX) (VX may/MD not/RB have/VB VX) (NX those/DT animals/NNS NX) (NX that/WDT NX) (VX cause/VBP VX) (NX coral/JJ NX) (VX bleaching/VBG VX) ./."
       ]
      },
      {
       "output_type": "stream",
       "stream": "stdout",
       "text": [
        "\n",
        "(NX i/NN NX) (VX think/VBP VX) (NX coral/JJ NX) (VX bleaching/VBG is/VBZ VX) like/IN (VX changing/VBG VX) (NX one/CD color/NN NX) to/TO (VX white/VB VX) ./.\n",
        "(NX every/DT color/NN NX) (VX turns/VBZ VX) (NX white/JJ NX) with/IN (NX bleach/NN NX) but/CC (NX I/PRP NX) (VX am/VBP not/RB VX) (NX sure/JJ NX) about/IN (NX coral/JJ NX) (VX bleaching/VBG VX) ./.\n",
        "(NX i/NN NX) (VX think/VBP VX) (NX it/PRP NX) (VX is/VBZ VX) the/DT (NX same/JJ NX) just/RB that/IN (NX coral/JJ NX) (VX bleaching/VBG happens/VBZ VX) in/IN (NX oceans/NNS NX) ./.\n",
        "and/CC in/IN (NX one/CD NX) of/IN (NX the/DT graphs/NNS NX) in/IN (NX 0000/CD NX) (NX there/EX NX) (VX was/VBD caused/VBN VX) (NX a/DT lot/NN NX) of/IN (NX coral/JJ NX) (VX bleaching/VBG VX) ./.\n",
        "and/CC the/DT (NX coral/JJ NX) (VX bleaching/VBG was/VBD VX) at/IN (NX different/JJ dates/NNS NX) so/RB (NX that/WDT NX) (VX is/VBZ why/WRB VX) (NX coral/JJ NX) (VX bleaching/VBG is/VBZ caused/VBN VX) in/IN (NX different/JJ times/NNS NX) and/CC (NX what/WP NX) (VX is/VBZ VX) (NX it/PRP NX) (VX made/VBD VX) out/IN of/IN ./.\n",
        "(NX coral/JJ NX) (VX bleaching/VBG is/VBZ very/RB VX) (NX different/JJ NX) because/IN (NX there/EX NX) (VX are/VBP VX) (NX higher/JJR waves/NNS and/CC week/NN waters/NNS NX) ./.\n",
        "for/IN (NX example/NN NX) in/IN (NX the/DT year/NN 0000/CD NX) (NX there/EX NX) where/WRB (NX more/JJR weaker/JJR waves/NNS NX) than/IN (NX higher/JJR waves/NNS NX) ./.\n",
        "(NX upwelling/NN NX) in/IN (NX the/DT eastern/JJ pacific/JJ causes/NNS NX) (VX surface/VBP VX) (NX waters/NNS NX) to/TO (VX be/VB VX) (NX colder/JJR NX) than/IN (NX those/DT in/NN NX) the/DT (NX western/JJ pacific/JJ NX) ./.\n",
        "(NX the/DT reason/NN NX) why/WRB (NX I/PRP NX) (VX picked/VBD VX) (NX this/DT quote/NN NX) (VX was/VBD VX) because/IN in/IN (NX the/DT eastern/JJ pacific/JJ causes/NNS NX) (NX the/DT water/NN NX) to/TO (VX be/VB VX) (NX colder/JJR NX) than/IN in/IN the/DT (NX western/JJ pacific/JJ NX) ./.\n",
        "(NX a/DT other/JJ reason/NN NX) why/WRB (NX I/PRP NX) (VX picked/VBD VX) (NX this/DT quote/NN NX) (VX was/VBD VX) because/IN (NX it/PRP NX) (VX proves/VBZ VX) that/IN (NX there/EX NX) (VX are/VBP VX) (NX different/JJ water/NN waters/NNS NX) ./."
       ]
      },
      {
       "output_type": "stream",
       "stream": "stdout",
       "text": [
        "\n",
        "at/IN (NX the/DT year/NN 0000/CD NX) (VX was/VBD VX) the/DT (NX highest/RBS severe/JJ coral/JJ NX) (VX bleaching/VBG VX) ./.\n",
        "(NX the/DT bar/NN NX) (VX is/VBZ VX) up/IN to/TO (NX 00/CD NX) or/CC around/IN there/RB ./.\n",
        "but/CC that/DT (VX was/VBD VX) the/DT (NX highest/RBS severe/JJ NX) in/IN (NX 0000/CD NX) (NX we/PRP NX) (VX havent/VBP had/VBD VX) any/DT (NX other/JJ severe/JJ NX) as/IN (NX 0000/CD NX) there/RB not/RB up/IN to/TO (NX 00/CD NX) ./.\n",
        "the/DT (NX average/JJ NX) (VX would/MD be/VB VX) around/IN (NX the/DT 20s/CD NX) to/TO (NX the/DT 30s/CD NX) but/CC not/RB (NX anything/NN NX) (NX higher/JJR NX) than/IN (NX the/DT 30s/CD NX) ./.\n",
        "(NX it/PRP NX) (NX still/RB severe/JJ NX) but/CC not/RB as/IN (NX the/DT year/NN 0000/CD NX) ./.\n",
        "(NX coral/NN NX) (VX is/VBZ often/RB mistaken/VBN VX) for/IN (NX a/DT rock/NN or/CC plant/NN NX) ./.\n",
        "but/CC (NX it/PRP NX) (VX really/RB made/VBN VX) out/IN of/IN (NX tiny/JJ animals/NNS NX) (VX called/VBN VX) (NX polyps/NNS NX) ./.\n",
        "(NX the/DT reason/NN NX) why/WRB (NX I/PRP NX) (VX picked/VBD VX) (NX this/DT quote/NN NX) (VX is/VBZ VX) because/IN (NX it/PRP NX) (VX tells/VBZ VX) (NX you/PRP NX) (NX what/WP NX) (NX it/PRP NX) (VX made/VBD VX) out/IN of/IN ./.\n",
        "also/RB because/IN (NX it/PRP NX) (VX tells/VBZ VX) (NX you/PRP NX) (NX what/WP NX) (NX they/PRP NX) (NX mistake/NN NX) (NX it/PRP NX) for/IN ./.\n",
        "lastly/RB ,/, (NX I/PRP NX) (VX say/VBP where/WRB VX) (NX sunscreen/NN NX) because/IN (NX it/PRP NX) (VX could/MD give/VB VX) (NX you/PRP NX) (NX skin/NN cancer/NN NX) ./.\n",
        "(NX coral/JJ NX) (VX bleaching/VBG VX) (NX changes/NNS different/JJ times/NNS NX) in/IN (NX each/DT year/NN NX) (NX my/PRP$ evidence/NN NX) (VX is/VBZ VX) on/IN (NX the/DT page/NN 0/CD NX) ./.\n",
        "(NX it/PRP NX) (VX said/VBD VX) that/IN during/IN (NX the/DT years/NNS NX) (NX this/DT infection/NN NX) (VX happens/VBZ VX) ./."
       ]
      },
      {
       "output_type": "stream",
       "stream": "stdout",
       "text": [
        "\n",
        "(NX it/PRP NX) (VX is/VBZ called/VBN VX) (NX coral/JJ NX) (VX bleaching/VBG VX) (NX which/WDT NX) (VX is/VBZ VX) (NX a/DT water/NN problem/NN NX) (NX which/WDT NX) (VX is/VBZ VX) (NX a/DT kind/NN NX) of/IN (NX problem/NN NX) (NX that/WDT NX) (VX will/MD give/VB VX) (NX you/PRP NX) (NX a/DT cause/NN NX) of/IN (NX death/NN NX) when/WRB the/DT (NX coral/JJ NX) (VX bleaching/VBG come/VB VX) during/IN (NX the/DT year/NN NX) ./.\n",
        "and/CC because/IN of/IN (NX coral/JJ NX) (VX bleaching/VBG VX) (NX the/DT water/NN NX) (VX gets/VBZ VX) (NX colder/JJR NX) and/CC (NX hotter/JJR NX) ./.\n",
        "(NX my/PRP$ evidence/NN NX) (VX is/VBZ VX) on/IN (NX page/NN 0/CD NX) in/IN (NX the/DT little/JJ picture/NN NX) with/IN (NX the/DT little/JJ arrows/NNS NX) (NX that/WDT NX) (VX are/VBP VX) (NX color/NN NX) (NX red/JJ NX) and/CC (NX blue/JJ NX) ./.\n",
        "(NX red/NN NX) (VX means/VBZ VX) (NX hot/JJ and/CC blue/NN NX) (VX means/VBZ VX) (NX cold/JJ NX) ./.\n",
        "(NX i/NN NX) (VX got/VBD VX) that/IN also/RB on/IN (NX page/NN 0/CD NX) ./.\n",
        "(NX coral/JJ NX) (VX bleaching/VBG happens/VBZ VX) at/IN (NX different/JJ times/NNS NX) because/IN (NX rain/NN NX) (VX can/MD cause/VB VX) (NX coral/JJ NX) (VX bleaching/VBG VX) ./.\n",
        "its/PRP$ (VX not/RB going/VBG to/TO rain/VB VX) on/IN (NX the/DT same/JJ day/NN NX) (NX every/DT year/NN NX) ./.\n",
        "(NX this/DT drop/NN NX) in/IN (NX salinity/NN NX) (VX threatens/VBZ VX) (NX the/DT balance/NN NX) (NX necessary/JJ NX) to/TO (VX keep/VB VX) (NX the/DT corals/NNS NX) (NX healthy/JJ NX) ./.\n",
        "this/DT (VX is/VBZ VX) (NX a/DT good/JJ quote/NN NX) because/IN (NX it/PRP NX) (VX proved/VBD VX) (NX that/DT rain/NN NX) (VX can/MD damage/VB VX) the/DT (NX coral/JJ NX) and/CC that/IN (NX what/WP NX) (NX I/PRP NX) (VX said/VBD so/RB VX) (NX I/PRP NX) (VX proved/VBD VX) (NX it/PRP NX) ./.\n",
        "(NX coral/JJ NX) (VX bleaching/VBG happens/VBZ VX) at/IN (NX different/JJ times/NNS NX) because/IN almost/RB (NX every/DT day/NN NX) (NX there/EX NX) (VX is/VBZ VX) (NX a/DT different/JJ speed/NN NX) of/IN (NX wind/NN NX) ./.\n",
        "for/IN (NX example/NN NX) (NX the/DT wind/NN NX) (VX is/VBZ not/RB going/VBG to/TO be/VB VX) the/DT (NX same/JJ everyday/JJ NX) ./."
       ]
      },
      {
       "output_type": "stream",
       "stream": "stdout",
       "text": [
        "\n",
        "(NX every/DT few/JJ years/NNS ,/, trade/NN winds/NNS NX) (VX change/VBP VX) ./.\n",
        "(NX that/WDT NX) (VX was/VBD VX) (NX a/DT good/JJ quote/NN NX) because/IN (NX I/PRP NX) (VX proved/VBD VX) that/IN (NX winds/NNS NX) (VX dont/VBP stay/VB VX) the/DT (NX same/JJ NX) like/IN (NX I/PRP NX) (VX said/VBD VX) ./.\n",
        "(NX coral/JJ NX) (VX bleaching/VBG happens/VBZ VX) at/IN (NX different/JJ times/NNS NX) because/IN of/IN (NX their/PRP$ color/NN NX) ./.\n",
        "for/IN (NX example/NN NX) (NX some/DT coral/NN NX) (VX gets/VBZ damaged/VBN quicker/RBR then/RB VX) some/DT so/RB some/DT (NX coral/JJ NX) (VX will/MD last/VB VX) or/CC (VX live/VB longer/RB VX) ./.\n",
        "(NX coral/JJ NX) (VX can/MD survive/VB VX) (NX damage/NN NX) from/IN (NX some/DT destructive/JJ things/NNS NX) ./.\n",
        "that/IN (NX a/DT good/JJ quote/NN NX) because/IN some/DT (VX can/MD survive/VB VX) (NX damage/NN NX) and/CC (NX some/DT cant/NN NX) like/IN (NX I/PRP NX) (VX said/VBD so/RB VX) (NX I/PRP NX) (VX proved/VBD VX) (NX that/DT iam/NN NX) (NX correct/JJ NX) ./.\n",
        "?/.\n",
        "(NX there/EX NX) (VX are/VBP VX) (NX a/DT few/JJ reasons/NNS NX) on/IN why/WRB (NX coral/JJ NX) (VX bleaching/VBG VX) (NX rates/NNS NX) (VX vary/VBP VX) at/IN (NX different/JJ times/NNS NX) ./.\n",
        "(NX one/CD NX) of/IN (NX them/PRP NX) (VX is/VBZ VX) because/IN of/IN (NX the/DT winds/NNS NX) ./.\n",
        "another/DT (VX is/VBZ VX) because/IN (NX there/EX NX) (VX might/MD be/VB VX) (NX special/JJ events/NNS NX) ./.\n",
        "finally/RB (NX the/DT oceans/NNS salinity/NN NX) ./.\n",
        "(NX these/DT three/CD things/NNS NX) (VX can/MD cause/VB bleaching/VBG to/TO vary/VB VX) ./.\n",
        "(NX the/DT winds/NNS NX) (VX can/MD cause/VB bleaching/VBG to/TO vary/VB VX) ./.\n",
        "in/IN (NX specific/JJ detail/NN NX) the/DT (VX shifting/VBG VX) (NX trade/NN winds/NNS NX) ./.\n",
        "(NX they/PRP NX) (VX can/MD cause/VB VX) (NX water/NN temperatures/NNS NX) to/TO (VX go/VB VX) up/IN and/CC down/RB ./.\n",
        "(VX also/RB depending/VBG VX) on/IN (NX the/DT trade/NN NX) (NX the/DT corals/NNS NX) (VX will/MD be/VB effected/VBN VX) ./."
       ]
      },
      {
       "output_type": "stream",
       "stream": "stdout",
       "text": [
        "\n",
        "also/RB (NX there/EX NX) (VX might/MD be/VB VX) (NX events/NNS NX) (NX that/WDT NX) (VX take/VBP VX) (NX place/NN NX) in/IN (NX the/DT ocean/NN NX) ./.\n",
        "(NX anything/NN NX) that/IN from/IN (NX fishing/NN NX) to/TO (NX explosives/NNS NX) ./.\n",
        "(NX those/DT items/NNS or/CC things/NNS NX) (VX can/MD damage/VB VX) (NX coral/JJ reefs/NNS NX) and/CC (VX can/MD possibly/RB start/VB bleaching/VBG VX) ./.\n",
        "sometimes/RB (NX they/PRP NX) (VX recover/VBP VX) though/IN ./.\n",
        "finally/RB (NX the/DT oceans/NNS salinity/NN NX) ./.\n",
        "(NX the/DT salinity/NN NX) (VX can/MD change/VB VX) in/IN (NX shallow/JJ oceans/NNS NX) ./.\n",
        "(NX the/DT coral/NN NX) (VX is/VBZ VX) (NX sensitive/JJ NX) to/TO (NX salinity/NN NX) ./.\n",
        "(NX storms/NNS and/CC other/JJ possible/JJ events/NNS NX) (VX bring/VBP VX) (NX freshwater/JJR NX) to/TO (NX the/DT saltwater/NN NX) ./.\n",
        "(NX the/DT salinity/NN NX) (VX drops/VBZ VX) and/CC (NX it/PRP NX) (VX effects/VBZ VX) the/DT (NX coral/JJ NX) ./.\n",
        "(NX the/DT coral/NN NX) (VX becomes/VBZ VX) (NX unbalanced/JJ NX) and/CC (VX could/MD die/VB VX) ./.\n",
        "in/IN (NX conclusions/NNS NX) (NX there/EX NX) (VX were/VBD VX) (NX a/DT few/JJ reasons/NNS NX) ./.\n",
        "(NX one/CD NX) (VX was/VBD VX) because/IN of/IN (NX winds/NNS NX) ./.\n",
        "another/DT (VX was/VBD VX) because/IN of/IN (NX special/JJ events/NNS NX) in/IN (NX the/DT ocean/NN NX) ./.\n",
        "finally/RB (NX storms/NNS NX) (VX affect/VBP VX) (NX them/PRP NX) ./.\n",
        "(NX cause/NN NX) (NX coral/JJ NX) (VX bleaching/VBG VX) (NX changes/NNS NX) by/IN how/WRB (NX many/JJ degrees/NNS NX) ./.\n",
        "and/CC at/IN (NX some/DT years/NNS NX) (NX the/DT temperature/NN changes/NNS NX) and/CC then/RB some/DT (NX loose/JJ NX) (NX there/EX NX) (NX color/NN NX) and/CC so/RB (NX they/PRP NX) (VX end/VBP VX) up/IN (VX being/VBG VX) (NX bleached/JJ NX) so/RB (NX they/PRP NX) (VX turn/VBP VX) (NX white/JJ NX) ./.\n",
        "then/RB when/WRB (NX the/DT wind/NN NX) (VX is/VBZ moving/VBG VX) (NX the/DT water/NN NX) (NX they/PRP NX) (VX end/VBP VX) up/IN (VX shifting/VBG VX) to/TO (NX different/JJ areas/NNS NX) and/CC that/IN how/WRB (NX they/PRP NX) (VX are/VBP VX) (NX different/JJ NX) at/IN (NX times/NNS NX) ./."
       ]
      },
      {
       "output_type": "stream",
       "stream": "stdout",
       "text": [
        "\n",
        "and/CC (NX it/PRP NX) (VX happen/VBP probably/RB happens/VBZ VX) in/IN (NX each/DT year/NN NX) ./.\n",
        "and/CC (NX some/DT years/NNS NX) (NX the/DT temperature/NN NX) (VX gets/VBZ VX) a/DT (NX little/RB higher/JJR NX) than/IN (NX the/DT other/JJ years/NNS NX) ./.\n",
        "(NX the/DT rates/NNS NX) (VX are/VBP VX) (NX a/DT different/JJ time/NN NX) by/IN how/WRB (NX it/PRP NX) (VX goes/VBZ VX) ./.\n",
        "(NX pacific/JJ travels/NNS NX) (NX east/JJ NX) to/TO (NX west/NN NX) ./.\n",
        "so/RB (NX it/PRP NX) (VX goes/VBZ VX) to/TO (NX different/JJ directions/NNS NX) ./.\n",
        "(NX every/DT years/NNS NX) (VX trade/VBP VX) (NX winds/NNS changes/NNS NX) ./.\n",
        "(NX some/DT text/NN evidence/NN NX) (VX is/VBZ VX) (NX the/DT trade/NN winds/NNS NX) (VX weaken/VBP VX) or/CC (VX reverse/VB VX) (NX direction/NN NX) completely/RB to/TO (VX blow/VB VX) of/IN (NX west/NN NX) to/TO (NX east/JJ NX) ./.\n",
        "(NX some/DT more/JJR evidence/NN NX) from/IN (NX the/DT text/NN NX) (VX is/VBZ VX) that/IN (NX the/DT event/NN NX) (VX occurred/VBD VX) in/IN (NX 0000/CD NX) ./.\n",
        "(NX it/PRP NX) (VX also/RB changes/VBZ VX) (NX different/JJ times/NNS NX) by/IN how/WRB fast/RP (NX the/DT winds/NNS NX) (VX goes/VBZ VX) and/CC (NX what/WP NX) (NX direction/NN NX) ./.\n",
        "(NX another/DT thing/NN NX) (VX is/VBZ VX) by/IN (NX what/WP NX) (NX direction/NN NX) (NX it/PRP NX) (VX goes/VBZ VX) ./.\n",
        "its/PRP$ (NX these/DT animals/NNS NX) (NX that/WDT NX) (VX live/VBP VX) in/IN (NX colonies/NNS NX) and/CC (VX tend/VBP to/TO stay/VB VX) in/IN (NX one/CD place/NN NX) ./.\n",
        "in/IN the/DT (NX east/JJ NX) as/IN (NX temperature/NN NX) (VX increases/VBZ VX) (NX the/DT water/NN swells/NNS NX) so/RB (NX its/PRP$ saying/NN NX) if/IN (NX it/PRP NX) (VX increases/VBZ VX) the/DT (NX more/JJR bigger/JJR NX) (NX the/DT swells/NNS NX) (VX get/VBP VX) ./.\n",
        "(NX coral/JJ NX) (VX bleaching/VBG VX) (NX rates/NNS NX) at/IN (NX different/JJ time/NN NX) by/IN how/WRB (NX its/PRP$ different/JJ water/NN NX) ./."
       ]
      },
      {
       "output_type": "stream",
       "stream": "stdout",
       "text": [
        "\n",
        "its/PRP$ (NX different/JJ NX) by/IN how/WRB or/CC (NX what/WP NX) (NX direction/NN NX) (NX it/PRP NX) (VX goes/VBZ VX) ./.\n",
        "also/RB by/IN how/WRB (NX sea/NN level/NN NX) (NX it/PRP NX) (VX goes/VBZ VX) ./.\n",
        "that/IN how/WRB (NX coral/JJ NX) (VX bleaching/VBG is/VBZ VX) (NX different/JJ times/NNS NX) ./.\n",
        "its/PRP$ (VX really/RB made/VBN VX) up/IN of/IN (NX tiny/JJ animals/NNS NX) (VX called/VBN VX) (NX polyps/NNS NX) ./.\n",
        "(NX these/DT animals/NNS NX) (VX live/VBP VX) in/IN (NX the/DT ocean/NN NX) ./.\n",
        "(NX storms/NNS NX) (NX that/WDT NX) (VX bring/VBP VX) (NX a/DT lot/NN NX) of/IN (NX rainfall/NN NX) like/IN (NX hurricanes/NNS or/CC tropical/JJ storms/NNS NX) ./.\n",
        "(NX coral/JJ NX) (VX bleaching/VBG rates/VBZ VX) (NX a/DT different/JJ time/NN NX) because/IN of/IN (NX trade/NN winds/NNS NX) ./.\n",
        "almost/RB (NX every/DT year/NN trade/NN wind/NN NX) (NX lower/JJR NX) (NX their/PRP$ strengths/NNS NX) ./.\n",
        "(NX coral/JJ NX) (VX bleaching/VBG is/VBZ VX) (NX something/NN NX) (NX that/DT cause/NN NX) (NX coral/JJ NX) to/TO (VX go/VB VX) (NX plain/JJ white/JJ NX) ./.\n",
        "(NX coral/JJ NX) (VX bleaching/VBG happens/VBZ most/RBS often/RB VX) in/IN (NX the/DT pacific/JJ ocean/NN NX) ./.\n",
        "(NX sometimes/RB coral/JJ NX) (VX can/MD survive/VB VX) from/IN (NX some/DT destructive/JJ thing/NN NX) ./.\n",
        "for/IN (NX example/NN NX) (NX they/PRP NX) (VX can/MD survive/VB VX) from/IN (NX an/DT underwater/JJ mine/NN NX) ./.\n",
        "most/RBS (NX bombs/NNS NX) (VX dont/VBP do/VBP affect/VB VX) in/IN (NX the/DT water/NN NX) ./.\n",
        "(NX but/CC fore/NN NX) (NX some/DT reason/NN fisherman/NN or/CC other/JJ people/NNS NX) (VX plant/VBP VX) (NX these/DT mines/NNS NX) in/IN (NX the/DT water/NN NX) ./.\n",
        "(NX there/EX NX) (VX was/VBD VX) (NX a/DT huge/JJ coral/JJ bleaching/VBG event/NN NX) (NX that/WDT NX) (VX happened/VBD VX) in/IN (NX 0000/CD NX) ./."
       ]
      },
      {
       "output_type": "stream",
       "stream": "stdout",
       "text": [
        "\n",
        "(NX it/PRP NX) (VX was/VBD VX) (NX one/CD NX) of/IN the/DT (NX worst/RBS coral/JJ NX) (VX bleaching/VBG VX) ./.\n",
        "?/.\n",
        "(NX first/JJ NX) ,/, (NX coral/JJ NX) (VX bleaching/VBG VX) (VX can/MD be/VB caused/VBN VX) by/IN (NX little/JJ tiny/JJ animals/NNS NX) (VX eating/VBG VX) (NX sugar/NN NX) from/IN (NX coral/JJ NX) and/CC (NX the/DT coral/NN NX) (VX turns/VBZ VX) (NX white/JJ NX) (VX losing/VBG VX) (NX its/PRP$ color/NN NX) ,/, (NX it/PRP NX) (VX might/MD dye/VB VX) ./.\n",
        "(NX second/JJ ,/, zooxantallae/NN NX) (VX live/VB VX) in/IN (NX coral/JJ tissues/NNS and/CC need/NN light/NN NX) to/TO (VX make/VB VX) (NX food/NN NX) ./.\n",
        "during/IN (VX when/WRB doing/VBG VX) (NX photosynthesis/NN NX) (NX the/DT algae/NNS NX) (VX use/VBP VX) (NX energy/NN NX) from/IN (NX sunlight/NN NX) to/TO (VX combine/VB VX) (NX co2/CD NX) in/IN (NX h2o/CD NX) ./.\n",
        "so/RB ,/, (NX the/DT coral/NN NX) (VX gets/VBZ VX) (NX more/JJR energy/NN NX) ./.\n",
        "(NX third/JJ ,/, corals/NNS NX) (VX are/VBP VX) (NX sensitive/JJ NX) ./.\n",
        "(NX it/PRP NX) (VX tells/VBZ VX) (NX the/DT scientist/NN NX) when/WRB (NX the/DT water/NN NX) (VX is/VBZ too/RB VX) (NX salty/JJ NX) ./.\n",
        "when/WRB (NX storms/NNS NX) (VX come/VBP VX) ,/, (NX it/PRP NX) (VX brings/VBZ VX) (NX a/DT lot/NN NX) of/IN (NX rain/NN NX) ./.\n",
        "then/RB ,/, (NX they/PRP NX) (VX bring/VBP VX) (NX fresh/JJ water/NN NX) ./.\n",
        "(NX the/DT drop/NN salinity/NN NX) (VX threatens/VBZ VX) (NX the/DT balance/NN NX) (NX necessary/JJ NX) to/TO (VX keep/VB VX) (NX corals/NNS NX) (NX healthy/JJ NX) ./.\n",
        "forth/RB (NX ,/, zooxanthallae/NN cant/NN NX) (VX live/VB VX) outside/IN of/IN (NX coral/JJ body/NN NX) because/IN (NX there/EX NX) (VX is/VBZ not/RB VX) (NX enough/JJ nutrients/NNS NX) in/IN (NX the/DT tropical/JJ ocean/NN NX) to/TO (VX allow/VB VX) (NX photosynthesis/NN NX) ./.\n",
        "(NX fifth/JJ ,/, coral/JJ changes/NNS NX) (VX color/VBP VX) ,/, (NX white/JJ NX) when/WRB (NX the/DT environment/NN NX) of/IN (NX photosynthesis/NN doesnt/NN NX) (VX agree/VB VX) with/IN (NX coral/JJ NX) ./."
       ]
      },
      {
       "output_type": "stream",
       "stream": "stdout",
       "text": [
        "\n",
        "(NX coral/JJ NX) (VX will/MD have/VB VX) (NX an/DT disease/NN NX) or/CC (VX starve/VB VX) ./.\n",
        "(NX death/NN NX) too/RB ./.\n",
        "(NX sixth/JJ NX) ,/, (VX lastly/RB shifting/VBG VX) (NX trade/NN wind/NN NX) ,/, (VX makes/VBZ VX) (NX the/DT sea/NN level/NN NX) by/IN (NX the/DT surface/NN NX) ./.\n",
        "(NX it/PRP NX) (VX causes/VBZ VX) (NX major/JJ shifts/NNS NX) around/IN (NX the/DT water/NN surface/NN NX) ,/, (NX coral/JJ NX) ./.\n",
        "(NX seventh/JJ ,/, coral/NN NX) (VX is/VBZ VX) (NX beautiful/JJ NX) in/IN (NX many/JJ ways/NNS NX) ./.\n",
        "(NX well/RB coral/JJ NX) (VX bleaching/VBG is/VBZ very/RB VX) (NX different/JJ NX) (NX it/PRP NX) (VX happens/VBZ VX) (NX time/NN NX) to/TO (VX time/VB VX) ./.\n",
        "(NX coral/JJ NX) (VX can/MD be/VB VX) (NX severe/JJ NX) with/IN (NX coral/JJ NX) (VX bleaching/VBG VX) ./.\n",
        "for/IN (NX example/NN NX) in/IN (NX 0000/CD NX) (NX the/DT coral/NN NX) (VX had/VBD VX) (NX a/DT big/JJ rate/NN NX) about/IN (NX 00/CD NX) ./.\n",
        "(NX coral/NN NX) (VX is/VBZ actually/RB not/RB plants/VBZ VX) (NX nor/CC rocks/NNS NX) ./.\n",
        "its/PRP$ (VX actually/RB made/VBN VX) of/IN (NX polyps/NNS NX) ./.\n",
        "with/IN (NX coral/JJ NX) (VX bleaching/VBG VX) in/IN (NX the/DT way/NN NX) (NX it/PRP NX) (NX a/DT problem/NN NX) to/TO (NX them/PRP NX) ./.\n",
        "(NX coral/JJ NX) (VX bleaching/VBG VX) (VX can/MD actually/RB affect/VB VX) (NX them/PRP NX) badly/RB ./.\n",
        "(NX a/DT lot/NN NX) of/IN (NX stress/NN NX) on/IN (NX corals/NNS NX) from/IN (NX the/DT environment/NN NX) (VX may/MD force/VB VX) the/DT (NX coral/JJ NX) to/TO (VX eject/VB VX) (NX their/PRP$ food/NN NX) (VX producing/VBG VX) (NX algae/NNS NX) ./.\n",
        "(NX so/JJ corals/NNS NX) (VX can/MD get/VB affected/VBN VX) and/CC (VX comes/VBZ VX) to/TO (NX a/DT product/NN NX) of/IN (NX coral/JJ NX) (VX bleaching/VBG VX) ./.\n",
        "(NX coral/JJ NX) (VX bleaching/VBG is/VBZ very/RB VX) (NX harsh/JJ NX) to/TO (NX coral/JJ NX) ./.\n",
        "(NX it/PRP NX) (VX comes/VBZ VX) (NX time/NN NX) to/TO (VX time/VB when/WRB VX) this/DT (VX happens/VBZ VX) ./.\n",
        "for/IN (NX example/NN NX) in/IN (NX the/DT chart/NN coral/JJ bleaching/VBG wasnt/NN NX) as/IN (NX bad/JJ NX) till/IN (NX 0000/CD NX) (NX that/WDT NX) (VX was/VBD VX) (NX the/DT problem/NN NX) ./."
       ]
      },
      {
       "output_type": "stream",
       "stream": "stdout",
       "text": [
        "\n",
        "(NX coral/JJ NX) (VX bleaching/VBG VX) (VX can/MD damage/VB VX) (NX coral/JJ very/RB bad/JJ NX) ./.\n",
        "(VX bleaching/VBG makes/VBZ VX) (NX corals/NNS NX) (NX more/RBR likely/JJ NX) to/TO (VX get/VB VX) (NX a/DT disease/NN NX) or/CC (VX starve/VB VX) ./.\n",
        "(NX coral/JJ NX) (VX can/MD survive/VB VX) from/IN (NX destructive/JJ things/NNS NX) but/CC (NX not/RB coral/JJ NX) (VX bleaching/VBG VX) ./.\n",
        "(NX examples/NNS NX) of/IN this/DT (VX include/VBP fishing/VBG using/VBG VX) (NX explosives/NNS and/CC tourists/NNS NX) (NX who/WP NX) (VX drop/VBP VX) (NX anchors/NNS NX) or/CC (VX walk/VB VX) on/IN (NX reefs/NNS NX) ./.\n",
        "but/CC the/DT most/RBS (NX harmful/JJ thing/NN NX) to/TO (NX coral/NN NX) (VX is/VBZ VX) (NX coral/JJ NX) (VX bleaching/VBG VX) ./.\n",
        "(NX time/NN NX) to/TO (VX time/VB VX) (NX coral/JJ NX) (VX somewhat/RB can/MD still/RB get/VB affected/VBN VX) from/IN (NX 0000/CD NX) and/CC so/RB on/IN ./.\n",
        "in/IN (NX 0000/CD NX) (NX it/PRP NX) (VX was/VBD probably/RB reaching/VBG VX) (NX higher/JJR NX) and/CC (NX higher/JJR NX) ./.\n",
        "(NX people/NNS NX) (VX dont/VBP leave/VB VX) (NX coral/JJ alone/RB coral/JJ NX) (VX might/MD not/RB exist/VB VX) no/DT (NX more/JJR NX) ./.\n",
        "(NX people/NNS NX) (VX should/MD help/VB VX) (NX coral/JJ NX) in/IN (NX some/DT way/NN NX) ./.\n",
        "or/CC to/TO (VX have/VB VX) (NX an/DT area/NN NX) for/IN (NX coral/JJ NX) only/RB ./.\n",
        "(NX coral/JJ NX) (VX can/MD be/VB very/RB VX) (NX different/JJ NX) through/IN (NX time/NN NX) ./.\n",
        "(NX coral/JJ NX) (VX also/RB faces/VBZ VX) (NX their/PRP$ challenges/NNS NX) ./.\n",
        "(NX coral/JJ NX) (VX can/MD be/VB helped/VBN VX) and/CC (VX not/RB be/VB harmed/VBN VX) ./.\n",
        "(NX people/NNS NX) (VX can/MD help/VB VX) (NX coral/JJ NX) (VX retrace/VB VX) (NX the/DT color/NN NX) back/RB ./.\n",
        "(NX it/PRP NX) (VX would/MD be/VB VX) (NX a/DT better/JJR thing/NN NX) to/TO (VX do/VB VX) ./.\n",
        "(NX coral/JJ NX) (VX bleaching/VBG VX) (NX rates/NNS NX) (VX vary/VBP VX) at/IN (NX different/JJ times/NNS NX) because/IN (NX it/PRP NX) (VX gets/VBZ VX) (NX lesser/JJR NX) ./."
       ]
      },
      {
       "output_type": "stream",
       "stream": "stdout",
       "text": [
        "\n",
        "(NX coral/JJ NX) (VX bleaching/VBG VX) (NX rates/NNS NX) (VX are/VBP really/RB VX) (NX different/JJ NX) because/IN (NX they/PRP NX) (VX change/VBP VX) on/IN (NX a/DT different/JJ time/NN NX) ./.\n",
        "also/RB on/IN both/DT (NX they/PRP NX) (VX are/VBP VX) (NX different/JJ graphs/NNS NX) ./.\n",
        "\n",
        "\n",
        "\n",
        "coral bleaching rates are really different because they change on a different time . also on both they are different graphs .\n",
        "\n",
        "['(\"bleach\" \"coral\" \"rate\")', '(\"be\" \"rate\" \"different\" \"because they\")', '(\"change\" \"they\" \"on different time\")']\n",
        "['(\"be\" \"they\" \"different graph\")']\n"
       ]
      },
      {
       "ename": "AssertionError",
       "evalue": "Multiple sentences found",
       "output_type": "pyerr",
       "traceback": [
        "\u001b[0;31m---------------------------------------------------------------------------\u001b[0m\n\u001b[0;31mAssertionError\u001b[0m                            Traceback (most recent call last)",
        "\u001b[0;32m<ipython-input-16-ed9c5dcb1a74>\u001b[0m in \u001b[0;36m<module>\u001b[0;34m()\u001b[0m\n\u001b[0;32m----> 1\u001b[0;31m \u001b[0mvsoos\u001b[0m \u001b[0;34m=\u001b[0m \u001b[0mmap\u001b[0m\u001b[0;34m(\u001b[0m\u001b[0mextract_predicates\u001b[0m\u001b[0;34m,\u001b[0m \u001b[0msentences\u001b[0m\u001b[0;34m)\u001b[0m\u001b[0;34m\u001b[0m\u001b[0m\n\u001b[0m",
        "\u001b[0;32m<ipython-input-15-e228c5b72ee3>\u001b[0m in \u001b[0;36mextract_predicates\u001b[0;34m(sentence)\u001b[0m\n\u001b[1;32m     25\u001b[0m             \u001b[0;32mfor\u001b[0m \u001b[0mp\u001b[0m \u001b[0;32min\u001b[0m \u001b[0mpreds\u001b[0m\u001b[0;34m:\u001b[0m\u001b[0;34m\u001b[0m\u001b[0m\n\u001b[1;32m     26\u001b[0m                 \u001b[0;32mprint\u001b[0m \u001b[0mp\u001b[0m\u001b[0;34m\u001b[0m\u001b[0m\n\u001b[0;32m---> 27\u001b[0;31m             \u001b[0;32massert\u001b[0m \u001b[0mFalse\u001b[0m\u001b[0;34m,\u001b[0m \u001b[0;34m\"Multiple sentences found\"\u001b[0m\u001b[0;34m\u001b[0m\u001b[0m\n\u001b[0m\u001b[1;32m     28\u001b[0m     \u001b[0msentence_predicates\u001b[0m \u001b[0;34m=\u001b[0m \u001b[0mpreds\u001b[0m\u001b[0;34m[\u001b[0m\u001b[0;36m0\u001b[0m\u001b[0;34m]\u001b[0m\u001b[0;34m\u001b[0m\u001b[0m\n\u001b[1;32m     29\u001b[0m     \u001b[0mretVals\u001b[0m \u001b[0;34m=\u001b[0m \u001b[0;34m[\u001b[0m\u001b[0;34m]\u001b[0m\u001b[0;34m\u001b[0m\u001b[0m\n",
        "\u001b[0;31mAssertionError\u001b[0m: Multiple sentences found"
       ]
      }
     ],
     "prompt_number": 16
    },
    {
     "cell_type": "code",
     "collapsed": false,
     "input": [
      "print \"\\\" some coral have lost their color and have been bleached plain white . \\\"\".replace(\"\\\"\",\"\")\n",
      "\n",
      "matches = []\n",
      "for i,sent in enumerate(sentences):\n",
      "    if \".\" in sent:\n",
      "        stripped = sent.strip()\n",
      "        ix = stripped.index(\".\")\n",
      "        if ix < (len(stripped) -1):\n",
      "            print i, stripped\n",
      "            matches.append((i, stripped))"
     ],
     "language": "python",
     "metadata": {},
     "outputs": [
      {
       "output_type": "stream",
       "stream": "stdout",
       "text": [
        " some coral have lost their color and have been bleached plain white . \n",
        "331 coral bleaching rates are really different because they change on a different time . also on both they are different graphs .\n",
        "552 the usual colors of corals are bright like orange yellow blue green many other variety of colors that come from corals . in my opinion white should not be one of those colors .\n",
        "574 coral bleaching rates vary at different times because when the temp . increases , the carbon dioxide decreases and creates a disruption that threatens the balance to keep the corals healthy .\n",
        "729 according to the graph above it , that graph show water temp . vs . trade winds .\n",
        "730 in that graph that show water temp . vs . trade winds , it show that in the year 0000 , there were weaker trade winds and higher water temperature .\n",
        "800 the wind drag were surface waters westwards . . this causes waters in the west to increase in temperature .\n",
        "845 however , water temperature does not cause coral bleaching directly . zooxanthallae , or algae , are contributors to a coral color .\n",
        "916 bleaching makes corals to get a disease or starve . if the coral goes for too long without their algae , bleaching can result in death .\n",
        "918 when they observed it , it was the worst . 00 % of corals died that time .\n",
        "1123 for example , in 0000 the water temp . was high and the tradewinds were low .\n",
        "1124 this resulted in having the most server coral bleaching yet in the most countries . ( over 00 ) .\n",
        "1132 the reason for that was because 0000 has the lowest trade winds , almost - 00 . 0 meters per second !\n",
        "1384 when a coral is in their usual ; low tides , usual water temp . , and normal salt levels , a coral stays in color and does not go through coral bleaching .\n",
        "1389 bleached . ?\n",
        "1401 ejection or death of the zooxanthellae algae . ?\n",
        "1426 . when there is a lot of rain like a thunderstorm or hurricane , that balances out the amount of salt in the ocean and the coral does ?\n",
        "1480 in the articles it mentions 'the presses of photosynthesis is sensitive to changes in water temperature . '\n",
        "1484 another thing that was mentioned in the articles was 'this drop in salinity threatens the balance necessary to keep the corals healthy . '\n",
        "1532 hence the name bleached corals . '\n",
        "1549 but environmental stress such as coral bleaching can cause this algae to be ejected from coral ; ( hint : what coral bleaching is . )\n",
        "1644 other stressors can include , a change in water temp . , or changes in wind patterns .\n",
        "1645 a drop in water temp . causes less photosynthesis which helps the algae less .\n",
        "1650 in the articles it states that for reef - building corals need water temperature between 00 - 00 \\ super o \\ nosupersub f . '\n",
        "1660 that what they eat . '\n",
        "1703 the temperature changes can affect coral bleaching from the eastern pacific to the western pacific . coral is mistaken for a plant or rock , but it is made up of tiny animals called polyps .\n",
        "1712 this causes warm surface waters to travel eastward towards south america . temperature is also a cause of coral bleaching .\n",
        "1716 in the graph titled water temperature versus trade winds , we can clearly see that when there are weaker tradewinds then the water temperature increases . also in the graph titled coral bleaching reports per year , we can see that coral bleaching was most severe in 0000 and that is also the year that trade winds were the weakest .\n",
        "1718 one is depending on the water . it would have to be clear , shallow or in tropical waters .\n",
        "1725 throughout the years water temp . and trade winds have been going on rapidly by extreme temperatures .\n",
        "1726 most severe moment was in 0000 when the wind trade went close to 0 . 0 f and the water temperature went to about 0 . 0 f .\n",
        "1727 another result in coral bleaching is photosynthesis . during photosynthesis zooxanthellae uses energy from sunlight to combine carbon dioxide in the ocean with water .\n",
        "1762 as water temp . increases , the solubility of co2 in the water decreases the decrease in co2 creates a disruption in the process of photosynthesis .\n",
        "1780 an increase of water temp . will decrease that of co2 . once one thing is changed it is like starting a chain reaction .\n",
        "1783 along with temp . the wind and currents are a component when it comes to coral bleaching .\n",
        "1806 the reason why the corals get bleached is because there is a change in the water and in the temperature , wind and current that why the coral loses it color . this is really bad for the environment , that why we should keep our waters clean and not throw trash in the ocean because it not only affects the corals it affects us too .\n",
        "1813 coral bleach will happen if someone goes blast fishing , or tourist who drop anchors or walk on reefs can cause the coral to eject the zooxanthellae to come out . coral can go through photosynthesis and release oxygen .\n",
        "1826 l normal water temperatures are to 00 - 00 f however when surface waters shift east ward ocean water increase by 3f to 5f . that is how most corals bleach that way .\n",
        "1831 in 0000 when the water temperature was at its highest that same year the coral bleaching were also at their highest . that shows ?\n",
        "1852 what causes coral bleaching to vary is cause of shifting trade winds . once in a while trade wind\n",
        "1871 coral needs co2 in the water and needs to be warm source emta yaris ( 0000 ) . coral needs sunlight and coral bleaching occurs when in it too cold and co2 levels are low .\n",
        "1873 it can either be cold one area or warm . the location , winds , temperature , and ocean current have an effect on corals .\n",
        "1874 the phenomenon ( upwelling ) causes surface water to be colder than those in the western pacific . the trade winds are altered .\n",
        "1877 they need a good temperature to live in . as so told in the document shifting trade winds and what is coral bleaching ?\n",
        "1895 corals and zooxanthellae live off of eachother . they support eachother in eache needs .\n",
        "1911 coral needs worm ar it will start bleaching . if coral does have zooxanth it cannot life it will also start bleaching itself and die , in conclusion coral bleaching rates vary at times because of wind changes and zooxanthallae\n",
        "1915 with those chemicals the corals will have the right amount of energy and can survive . corals receive 00 % to 00 % of their energy during the process .\n",
        "1926 this is because it will also help from the coral breaking or whatever the cause may be . also stated in the third article .\n",
        "1934 thats when the coral starts to become white from the bleaching . the coral can + will starve and contain a disease if the coral develops stress . when the coral goes to long without zooxanthelle , bleaching can lead to death .\n",
        "1938 in conclusion , many things can help leading to cause coral bleaching as like the water temperature . fishermen may cause dirty substances . algae + zooxanthelle might die which makes the coral die .\n",
        "1941 first off , coral goes through photosynthesis to get their energy ( 00 % to 00 % of it ) for this to happen coral needs water temp . between 00 - 00 f .\n",
        "1942 but when trade winds alter directions they shift surface water eastward causing water temp . to increase 0 f to 0 f .\n",
        "1943 so without a constant temp . photosynthesis in the coral can not take place .\n",
        "1948 in conclusion , coral bleaching varies at different times because of : shifting trade winds that cause temp . change , and stressful environments that cause them to eject algae and make them vulnerable .\n",
        "1950 one effect on coral bleaching is the temperature . if reef - building coral is in shallow water the temperature needs to be a certain level in this case 00 - 00 f if temperature is higher or lower then photosynthesis will not curr because it is very sensitive stage\n",
        "1976 they are sensitive to ocean salinity . when excessive rainfall happens ( goes into water ) , the salinity drops .\n",
        "2018 all of this mix up of the winds causes the water to collide . this is the cause of coral bleaching .\n",
        "2042 in 0000 there were around 00 bleaching reports , that same time trade winds were + 0 . 0 seconds than what they normally are .\n",
        "2043 the water was about 0 . 0 degrees higher than normal .\n",
        "2061 coral reefs are found in shallow , clear , tropical waters , and need water temperatures between 00 - 00 . f\n",
        "2062 corals are very sensitive to how salty the water is , they need salty water to survive . coral gets its food from zooxanthellea , and algae provides them their color .\n",
        "2081 environment conditions can also be part of coral bleaching . the shifting of trade winds leading to upwelling , changes the pacific surface waters to be colder than those in the western pacific all of these factors occur on different times at different places . concluding on why coral bleaching rates vary at different times .\n",
        "2089 in 0000 . about 00 % of the world coral reefs have died .\n",
        "2092 coral bleaching can have many variables that effect it . weather , temperature , sunlight and may not be receiving proper amount of oxygen .\n",
        "2134 during storms , when the fresh water hits the ocean , the salinity drops which threatens the balance to keep the corals healthy . changes in wind , ocean currents , and temperatures could affect the coral bleaching like in 0000 when this happened in the pacific ocean .\n",
        "2139 when the solubility of co2 decreased the corals dont have enough co2 to keep color and maintain healthy the higher water temperatures and weak tradelink effect coral bleaching because at times the water temp may be to high , corals must live in specific temps . '\n",
        "2144 this is caused by weakened winds or wind blowing reverse direction from west to east . another reason coral bleaching rates vary at different times is because of water temperature .\n",
        "2199 it blows warm water , east or west . the temperature of water changes environment . other than the temperature change other things can cause coral bleaching .\n",
        "2203 if zooxanthellae are not present coral can also die . they are what makes the corals food source .\n",
        "2207 when water temperatures increase coral can not do the process of photo synthesis . photo synthesis only cures in temperatures of 00 - 85f .\n",
        "2215 as the water temperature increases the solubility of co2 in water decreases . coral is very dependent on zooxanthellae .\n",
        "2220 coral bleaching is very dependent on the environmental stressors that can negatively affect the relationship between the coral and zooxanthellae or algae . coral get their energy through algae in the process of photosynthesis and algae also gives coral its color .\n",
        "2222 this is partly because the process of photosynthesis is sensitive to changes in water temperature . based off of this information , we can conclude that the weather is something to consider when trying to find out how % why rates of coral bleaching vary at different times .\n",
        "2239 coral bleaching means that there was an event where the coral lost its color . when this is happening it increases the corals stress and the coral release their food - producing algae .\n",
        "2264 the coral physical state can make it bleached . blast fishing and dropped anchors can damage its physical state .\n",
        "2265 the enviromental force can damage the nutrients for the coral . in result , the coral will starve and be vulnerable to disease in the state of bleaching and die off .\n",
        "2311 when trade winds change direction the water get warmer . trade winds change because direction because they get weaker .\n",
        "2361 i say that area because of tradewinds . that is when winds travel from east to west and every couple year is switched from west to east .\n",
        "2382 also , the ocean salinity affects this process . because of the photosynthesis changing with the co2 and levels of salinity , the zooxanthallae ( algae ) is affected as well .\n",
        "2383 zooxanthallae cannot live outside of the coral because the tropical ocean is not rich in nutrients , so the coral provides the nutrients needed . the zooxanthallae passes some of the food they make from the suns energy to the coral .\n",
        "2385 coral bleaching is caused by the ejection or death of the zooxanthallae algae . the loss of algae is that coral begins to not be able to respond to the environment by itself .\n",
        "2404 in order for coral reefs to build and live is if the water is 00 - 85f . if the temperature of the water is really low then thats when coral bleaching begins .\n",
        "2422 this affects the coral because as the warm water moves away the marin life follow and the food supply for the coral lessen and my cause death for the coral . the zooxanthallae algae also dies from the cooler water levels when the warm water move away .\n",
        "2448 coral needs warm water to live . pg . 0 . corals are also sensitive to ocean salinity .\n",
        "2451 therefore , the coral loses water . physical damage such as tourist who drop anchors or walks on reefs .\n",
        "2452 corals need algae called zooxanthellae and without they'll bleach and eventually die . this is what happens in coral bleaching .\n",
        "2455 they vary because the temp . changes .\n",
        "2487 it also needs to be in clear shallow water that is o between 00 - 00 of , or else the photosynthesis will be unbalanced . environmental stressors can also cause coral bleaching .\n",
        "2497 another important thing for coral is photosynthesis . it just like any other plant .\n",
        "2500 there are many different things that could affect this process . salinity affects them this is when there is too much salt in the water because of excess rainfall .\n",
        "2502 if the temp of the water increases . the solubility of co2 goes down .\n",
        "2519 many times these winds would change direction , and as a result , the temperatures would change drastically ( for marine life that is ) and could switch from 00 of to 0 of , sometimes even 10of ( shifting trade winds . ) .\n",
        "2525 in the article trade winds and coral bleaching the graph shows how the trade winds affect coral bleaching . when the trade winds weaken the temperature goes up and when the temperature goes up the coral bleaching happen .\n",
        "2531 depending on the high water temps and trade winds it increases the bleaching of coral . salinity helps change corals color because it means how salty the water is .\n",
        "2540 if there is a hurricane or a severe rain event , then the massive amount of fresh water would make the salinity levels go down and that would threaten the health of the coral . also temperature and sunlight affect coral .\n",
        "2556 the trade winds weaken or reverse directions . when that happens the warm surface waters travel eastward .\n",
        "2573 zo was the corals source of energy . if the zo left the coral it was because there was a lot of weaker tradewinds in the ocean or the coral itself ejected the only food supply it had .\n",
        "2576 the pacific ocean goes through a trade wind , when the trade wind drags warm air to the water surface . pacific regions to warm normal water temperatures increase by 3of to 5of says carlton banks in national oceanic and atmospheric\n",
        "2577 once this happens , the water swells . corals live on the ground , and stay in one place .\n",
        "2606 occasionally , however , these winds alter . they can weaken or go in opposite directions .\n",
        "2614 according to the second graph called water temp . versus trade winds in year 0000 there was very low trade wind strength and there was the highest temperature and it is the highest temperature in the graph .\n",
        "2630 this may be a cause of how coral bleach . also when there storms , and when they drop fresh water into the ocean , then the salinity drops .\n",
        "2656 ocean salinity ( how salty the water is ) also threaten the balance necessary to keep the corals healthy ; ocean salinity consists largely of excessive rainfall . corals who sustain physical damage by blast fishing and anchors also affect the defense and health of the coral reef .\n",
        "2674 this can cause an area that is originally 00 - 00 f to warm up by 0 to 0 f or as much as 00 f . also another example is coral need water temperatures to range from 00 - 00 f .\n",
        "2695 photosynthesis is sensitive changes in water temperature . therefore , when the water is decreased so much so quickly , it stops the process of photosynthesis . this disruption threatens the delicate balance required to keep corals healthy .\n",
        "2707 it also say s the drop in salinity threatens the balance to keep coral healthy . these two quotes shows that the change in the environment like temperature dropping or storms can cause reactions in the water that can affect the coral .\n",
        "2710 the zooxanthellae gives the coral its color but if the zooxanthellae is ejected or killed the coral loses its color . so in conclusion that coral bleaching is happening is due to the environment change that affect how the coral structure functions and how it affect their health .\n"
       ]
      }
     ],
     "prompt_number": 17
    },
    {
     "cell_type": "code",
     "collapsed": false,
     "input": [
      "win = 30\n",
      "print len(matches), len(sentences)\n",
      "for i, match in matches:\n",
      "    ix = match.index(\".\")\n",
      "    print match[ix-win:ix+win]"
     ],
     "language": "python",
     "metadata": {},
     "outputs": [
      {
       "output_type": "stream",
       "stream": "stdout",
       "text": [
        "106 2711\n",
        "ey change on a different time . also on both they are differ\n",
        " colors that come from corals . in my opinion white should n\n",
        "t times because when the temp . increases , the carbon dioxi\n",
        " , that graph show water temp . vs . trade winds .\n",
        "at graph that show water temp . vs . trade winds , it show t\n",
        "were surface waters westwards . . this causes waters in the \n",
        "ause coral bleaching directly . zooxanthallae , or algae , a\n",
        "ls to get a disease or starve . if the coral goes for too lo\n",
        "bserved it , it was the worst . 00 % of corals died that tim\n",
        "mple , in 0000 the water temp . was high and the tradewinds \n",
        "ing yet in the most countries . ( over 00 ) .\n",
        "est trade winds , almost - 00 . 0 meters per second !\n",
        " low tides , usual water temp . , and normal salt levels , a\n",
        "bleached . ?\n",
        "th of the zooxanthellae algae . ?\n",
        "\n",
        " changes in water temperature . '\n",
        "ry to keep the corals healthy . '\n",
        "ence the name bleached corals . '\n",
        "int : what coral bleaching is . )\n",
        "lude , a change in water temp . , or changes in wind pattern\n",
        "\n",
        "- 00 \\ super o \\ nosupersub f . '\n",
        "hey eat . '\n",
        "acific to the western pacific . coral is mistaken for a plan\n",
        "astward towards south america . temperature is also a cause \n",
        "e water temperature increases . also in the graph titled cor\n",
        "one is depending on the water . it would have to be clear , \n",
        "roughout the years water temp . and trade winds have been go\n",
        "he wind trade went close to 0 . 0 f and the water temperatur\n",
        "l bleaching is photosynthesis . during photosynthesis zooxan\n",
        "\n",
        "\n",
        "\n",
        " why the coral loses it color . this is really bad for the e\n",
        "the zooxanthellae to come out . coral can go through photosy\n",
        "an water increase by 3f to 5f . that is how most corals blea\n",
        "ng were also at their highest . that shows ?\n",
        "cause of shifting trade winds . once in a while trade wind\n",
        "rm source emta yaris ( 0000 ) . coral needs sunlight and cor\n",
        "ther be cold one area or warm . the location , winds , tempe\n",
        " those in the western pacific . the trade winds are altered \n",
        "a good temperature to live in . as so told in the document s\n",
        "thellae live off of eachother . they support eachother in ea\n",
        "rm ar it will start bleaching . if coral does have zooxanth \n",
        "unt of energy and can survive . corals receive 00 % to 00 % \n",
        " or whatever the cause may be . also stated in the third art\n",
        "come white from the bleaching . the coral can + will starve \n",
        "as like the water temperature . fishermen may cause dirty su\n",
        "happen coral needs water temp . between 00 - 00 f .\n",
        "r eastward causing water temp . to increase 0 f to 0 f .\n",
        "\n",
        "g trade winds that cause temp . change , and stressful envir\n",
        " bleaching is the temperature . if reef - building coral is \n",
        "e sensitive to ocean salinity . when excessive rainfall happ\n",
        "s causes the water to collide . this is the cause of coral b\n",
        "ame time trade winds were + 0 . 0 seconds than what they nor\n",
        "normal\n",
        " temperatures between 00 - 00 . f\n",
        "y need salty water to survive . coral gets its food from zoo\n",
        "so be part of coral bleaching . the shifting of trade winds \n",
        "ora\n",
        "many variables that effect it . weather , temperature , sunl\n",
        "ce to keep the corals healthy . changes in wind , ocean curr\n",
        "s must live in specific temps . '\n",
        "e direction from west to east . another reason coral bleachi\n",
        "ows warm water , east or west . the temperature of water cha\n",
        "ot present coral can also die . they are what makes the cora\n",
        "he process of photo synthesis . photo synthesis only cures i\n",
        "ity of co2 in water decreases . coral is very dependent on z\n",
        "al and zooxanthellae or algae . coral get their energy throu\n",
        " changes in water temperature . based off of this informatio\n",
        "here the coral lost its color . when this is happening it in\n",
        "al state can make it bleached . blast fishing and dropped an\n",
        "e the nutrients for the coral . in result , the coral will s\n",
        "irection the water get warmer . trade winds change because d\n",
        "at area because of tradewinds . that is when winds travel fr\n",
        "salinity affects this process . because of the photosynthesi\n",
        "provides the nutrients needed . the zooxanthallae passes som\n",
        "th of the zooxanthallae algae . the loss of algae is that co\n",
        "e is if the water is 00 - 85f . if the temperature of the wa\n",
        " my cause death for the coral . the zooxanthallae algae also\n",
        "oral needs warm water to live . pg . 0 . corals are also sen\n",
        "efore , the coral loses water . physical damage such as tour\n",
        "'ll bleach and eventually die . this is what happens in cora\n",
        "s .\n",
        "osynthesis will be unbalanced . environmental stressors can \n",
        "g for coral is photosynthesis . it just like any other plant\n",
        "hat could affect this process . salinity affects them this i\n",
        "e temp of the water increases . the solubility of co2 goes d\n",
        "n 10of ( shifting trade winds . ) .\n",
        " winds affect coral bleaching . when the trade winds weaken \n",
        "reases the bleaching of coral . salinity helps change corals\n",
        "eaten the health of the coral . also temperature and sunligh\n",
        " weaken or reverse directions . when that happens the warm s\n",
        "s the corals source of energy . if the zo left the coral it \n",
        "warm air to the water surface . pacific regions to warm norm\n",
        "is happens , the water swells . corals live on the ground , \n",
        ", however , these winds alter . they can weaken or go in opp\n",
        "econd graph called water temp . versus trade winds in year 0\n",
        "e a cause of how coral bleach . also when there storms , and\n",
        "largely of excessive rainfall . corals who sustain physical \n",
        "y 0 to 0 f or as much as 00 f . also another example is cora\n",
        " changes in water temperature . therefore , when the water i\n",
        "balance to keep coral healthy . these two quotes shows that \n",
        "led the coral loses its color . so in conclusion that coral \n"
       ]
      }
     ],
     "prompt_number": 18
    },
    {
     "cell_type": "code",
     "collapsed": false,
     "input": [
      "ix = 2189\n",
      "print sentences[ix]\n",
      "sentences[ix].index(\".\"), len(sentences[ix])"
     ],
     "language": "python",
     "metadata": {},
     "outputs": []
    }
   ],
   "metadata": {}
  }
 ]
}