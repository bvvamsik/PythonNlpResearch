{
 "metadata": {
  "name": "",
  "signature": "sha256:2723c50cf0b6df26a4940d5aab4c71a5c37fb8041b97a07d5bb105ac73508639"
 },
 "nbformat": 3,
 "nbformat_minor": 0,
 "worksheets": [
  {
   "cells": [
    {
     "cell_type": "code",
     "collapsed": false,
     "input": [
      "from textblob import TextBlob\n",
      "import numpy as np\n",
      "from gensim import matutils\n",
      "from numpy import random\n",
      "\n",
      "from Metrics import rpf1a\n",
      "from Rpfa import rpfa, weighted_mean_rpfa\n",
      "from BrattEssay import load_bratt_essays\n",
      "from ProcessEssays import process_sentences\n",
      "from Decorators import timeit, memoize\n",
      "\n",
      "from WindowSplitter import split_into_windows\n",
      "\n",
      "from nltk import PorterStemmer\n",
      "from stanford_parser import parser\n",
      "import MontyLingua\n",
      "\n",
      "import logging\n",
      "logging.basicConfig(format='%(asctime)s : %(levelname)s : %(message)s', level=logging.INFO)"
     ],
     "language": "python",
     "metadata": {},
     "outputs": [],
     "prompt_number": 1
    },
    {
     "cell_type": "code",
     "collapsed": false,
     "input": [
      "parser = MontyLingua.MontyLingua(trace_p=0)"
     ],
     "language": "python",
     "metadata": {},
     "outputs": [
      {
       "output_type": "stream",
       "stream": "stdout",
       "text": [
        "\n",
        "****** MontyLingua v.2.1 ******\n",
        "***** by hugo@media.mit.edu *****\n",
        "Lemmatiser OK!"
       ]
      },
      {
       "output_type": "stream",
       "stream": "stdout",
       "text": [
        "\n",
        "Custom Lexicon Found! Now Loading!\n",
        "Fast Lexicon Found! Now Loading!\n",
        "Lexicon OK!\n",
        "LexicalRuleParser OK!\n",
        "ContextualRuleParser OK!\n",
        "Commonsense OK!"
       ]
      },
      {
       "output_type": "stream",
       "stream": "stdout",
       "text": [
        "\n",
        "Semantic Interpreter OK!\n",
        "Loading Morph Dictionary!\n",
        "*********************************\n"
       ]
      },
      {
       "output_type": "stream",
       "stream": "stdout",
       "text": [
        "\n"
       ]
      }
     ],
     "prompt_number": 2
    },
    {
     "cell_type": "code",
     "collapsed": false,
     "input": [
      "\"\"\" Settings \"\"\"\n",
      "\n",
      "MIN_SENTENCE_FREQ   = 0       #i.e. df. Note this is calculated BEFORE creating windows\n",
      "REMOVE_INFREQUENT   = False    # if false, infrequent words are replaced with \"INFREQUENT\"\n",
      "SPELLING_CORRECT    = True\n",
      "STEM                = False\n",
      "REPLACE_NUMS        = True    # 1989 -> 0000, 10 -> 00\n",
      "MIN_SENTENCE_LENGTH = 5\n",
      "REMOVE_STOP_WORDS   = False\n",
      "REMOVE_PUNCTUATION  = False "
     ],
     "language": "python",
     "metadata": {},
     "outputs": [],
     "prompt_number": 3
    },
    {
     "cell_type": "code",
     "collapsed": false,
     "input": [
      "@timeit\n",
      "def load_sentences(essays):\n",
      "    return process_sentences(essays, \n",
      "                              min_df = MIN_SENTENCE_FREQ, \n",
      "                              remove_infrequent = REMOVE_INFREQUENT,\n",
      "                              spelling_correct = SPELLING_CORRECT, \n",
      "                              replace_nums = REPLACE_NUMS, \n",
      "                              stem=STEM,\n",
      "                              remove_stop_words=REMOVE_STOP_WORDS,\n",
      "                              remove_punctuation=REMOVE_PUNCTUATION)\n",
      "# load from disk\n",
      "essays = load_bratt_essays()\n",
      "lbl_sentences = load_sentences(essays)"
     ],
     "language": "python",
     "metadata": {},
     "outputs": [
      {
       "output_type": "stream",
       "stream": "stdout",
       "text": [
        "Results Dir: /Users/simon.hughes/Google Drive/Phd/Results/\n",
        "Data Dir:    /Users/simon.hughes/Google Drive/Phd/Data/\n",
        "Root Dir:    /Users/simon.hughes/GitHub/NlpResearch/\n",
        "Public Data: /Users/simon.hughes/GitHub/NlpResearch/Data/PublicDatasets/\n",
        "297 files found\n",
        "297 essays processed"
       ]
      },
      {
       "output_type": "stream",
       "stream": "stdout",
       "text": [
        "\n",
        "timeit: load_sentences(...) took 19.59 secs"
       ]
      },
      {
       "output_type": "stream",
       "stream": "stdout",
       "text": [
        "\n"
       ]
      }
     ],
     "prompt_number": 4
    },
    {
     "cell_type": "code",
     "collapsed": false,
     "input": [
      "sentences = []\n",
      "for lbl_sentence in lbl_sentences:\n",
      "    wds, tags = zip(*lbl_sentence)\n",
      "    sentences.append(\" \".join(wds))\n",
      "print \"done\""
     ],
     "language": "python",
     "metadata": {},
     "outputs": [
      {
       "output_type": "stream",
       "stream": "stdout",
       "text": [
        "done\n"
       ]
      }
     ],
     "prompt_number": 5
    },
    {
     "cell_type": "code",
     "collapsed": false,
     "input": [
      "outp = parser.jist_predicates (\"the coral's physical state can make it bleached.\")\n",
      "outp"
     ],
     "language": "python",
     "metadata": {},
     "outputs": [
      {
       "output_type": "stream",
       "stream": "stdout",
       "text": [
        "(NX the/DT coral/NN 's/POS physical/JJ state/NN NX) (VX can/MD make/VB VX) (NX it/PRP NX) (NX bleached/JJ NX) ./.\n"
       ]
      },
      {
       "metadata": {},
       "output_type": "pyout",
       "prompt_number": 6,
       "text": [
        "[['(\"make\" \"coral \\'s physical state\" \"it\" \"bleached\")']]"
       ]
      }
     ],
     "prompt_number": 6
    },
    {
     "cell_type": "code",
     "collapsed": false,
     "input": [
      "lst = []\n",
      "for sentence in sentences[:5]:\n",
      "    vsoos = parser.jist_predicates(sentence)\n",
      "    lst.append((sentence, vsoos))"
     ],
     "language": "python",
     "metadata": {},
     "outputs": [
      {
       "output_type": "stream",
       "stream": "stdout",
       "text": [
        "the/DT (NX coral/JJ NX) (VX bleaching/VBG is/VBZ VX) (NX a/DT different/JJ type/NN NX) (NX they/PRP NX) (VX are/VBP VX) (NX bleached/JJ NX) and/CC (NX coral/JJ NX) (VX bleaching/VBG VX) ./.\n",
        "(NX the/DT bleached/JJ is/NNS NX) (NX plain/JJ white/JJ NX) ./.\n",
        "(NX the/DT coral/JJ polyps/NNS NX) (VX give/VBP VX) (NX different/JJ colors/NNS NX) ./.\n",
        "(NX the/DT skeleton/NN NX) (VX protects/VBZ VX) (NX the/DT body/NN NX) of/IN (NX polyp/NN NX) ./.\n",
        "(NX the/DT process/NN NX) (VX requires/VBZ VX) (NX both/DT carbon/NN dioxide/NN and/CC release/NN oxygen/NN NX) ./.\n"
       ]
      }
     ],
     "prompt_number": 7
    },
    {
     "cell_type": "code",
     "collapsed": false,
     "input": [
      "for sen, vso in lst:\n",
      "    print sen\n",
      "    print vso\n",
      "    print \"\""
     ],
     "language": "python",
     "metadata": {},
     "outputs": [
      {
       "output_type": "stream",
       "stream": "stdout",
       "text": [
        "the coral bleaching is a different type they are bleached and coral bleaching .\n",
        "[['(\"be\" \"coral\" \"different type\" \"they\")', '(\"be\" \"they\" \"bleached\")', '(\"bleach\" \"coral\" )']]\n",
        "\n",
        "the bleached is plain white .\n",
        "[[]]\n",
        "\n",
        "the coral polyps give different colors .\n",
        "[['(\"give\" \"coral polyp\" \"different color\")']]\n",
        "\n",
        "the skeleton protects the body of polyp .\n",
        "[['(\"protect\" \"skeleton\" \"body\" \"of polyp\")']]\n",
        "\n",
        "the process requires both carbon dioxide and release oxygen .\n",
        "[['(\"require\" \"process\" \"carbon dioxide and release oxygen\")']]\n",
        "\n"
       ]
      }
     ],
     "prompt_number": 8
    },
    {
     "cell_type": "code",
     "collapsed": false,
     "input": [
      "preds = parser.jist_predicates(\"I eat potatoes and I like to eat oranges.\")\n",
      "print preds\n",
      "preds[0][0], type(preds[0][0])"
     ],
     "language": "python",
     "metadata": {},
     "outputs": [
      {
       "output_type": "stream",
       "stream": "stdout",
       "text": [
        "(NX I/PRP NX) (VX eat/VBP VX) (NX potatoes/NNS NX) and/CC (NX I/PRP NX) like/RB to/TO (VX eat/VB VX) (NX oranges/NNS NX) ./.\n",
        "[['(\"eat\" \"I\" \"potato\")', '(\"eat\" \"\" \"orange\")']]\n"
       ]
      },
      {
       "metadata": {},
       "output_type": "pyout",
       "prompt_number": 9,
       "text": [
        "('(\"eat\" \"I\" \"potato\")', str)"
       ]
      }
     ],
     "prompt_number": 9
    },
    {
     "cell_type": "code",
     "collapsed": false,
     "input": [
      "parser.parse_pred_arg(preds[0][0])"
     ],
     "language": "python",
     "metadata": {},
     "outputs": [
      {
       "metadata": {},
       "output_type": "pyout",
       "prompt_number": 10,
       "text": [
        "['eat', 'I', 'potato']"
       ]
      }
     ],
     "prompt_number": 10
    },
    {
     "cell_type": "code",
     "collapsed": false,
     "input": [
      "jist = parser.jist(\"the coral's physical state can make it bleached.\")\n",
      "parser.pp_info(jist)"
     ],
     "language": "python",
     "metadata": {},
     "outputs": [
      {
       "output_type": "stream",
       "stream": "stdout",
       "text": [
        "(NX the/DT coral/NN 's/POS physical/JJ state/NN NX) (VX can/MD make/VB VX) (NX it/PRP NX) (NX bleached/JJ NX) ./.\n",
        "\n",
        "\n",
        "   SENTENCE #1 DIGEST:\n",
        "\n",
        "         adj_phrases: ['bleached']\n",
        "  adj_phrases_tagged: ['bleached/JJ']\n",
        "           modifiers: ['physical', 'bleached']\n",
        "    modifiers_tagged: ['physical/JJ', 'bleached/JJ']\n",
        "        noun_phrases: [\"coral 's physical state\", 'it']\n",
        " noun_phrases_tagged: [\"coral/NN 's/POS physical/JJ state/NN\", 'it/PRP']\n",
        "parameterized_predicates: [[['make', []], [\"coral 's physical state\", ['determiner=the']], ['it', []], ['bleached', []]]]\n",
        "        prep_phrases: []\n",
        " prep_phrases_tagged: []\n",
        " verb_arg_structures: [['can/MD make/VB', \"the/DT coral/NN 's/POS physical/JJ state/NN\", ['it/PRP', 'bleached/JJ']]]\n",
        "verb_arg_structures_concise: ['(\"make\" \"coral \\'s physical state\" \"it\" \"bleached\")']\n",
        "        verb_phrases: ['make']\n",
        " verb_phrases_tagged: ['make/VB']\n"
       ]
      }
     ],
     "prompt_number": 11
    },
    {
     "cell_type": "code",
     "collapsed": false,
     "input": [
      "tokenized = parser.tokenize(\"I can't eat lemons, but I can eat some oranges!\")\n",
      "print \"Tokenized:\\n\", tokenized, type(tokenized)\n",
      "tagged = parser.tag_tokenized(tokenized)\n",
      "print\n",
      "print \"Tagged:\\n\", tagged, type(tagged)\n",
      "print\n",
      "chunked = parser.chunk_tagged(tagged)\n",
      "print \"Chunked:\\n\", chunked, type(chunked)\n",
      "print"
     ],
     "language": "python",
     "metadata": {},
     "outputs": [
      {
       "output_type": "stream",
       "stream": "stdout",
       "text": [
        "Tokenized:\n",
        "I can't eat lemons , but I can eat some oranges ! <type 'str'>\n",
        "\n",
        "Tagged:\n",
        "I/PRP can't/MD eat/VB lemons/NNS ,/, but/CC I/PRP can/MD eat/VB some/DT oranges/NNS !/. <type 'str'>\n",
        "\n",
        "Chunked:\n",
        "(NX I/PRP NX) (VX can't/MD eat/VB VX) (NX lemons/NNS NX) ,/, but/CC (NX I/PRP NX) (VX can/MD eat/VB VX) (NX some/DT oranges/NNS NX) !/. <type 'str'>\n",
        "\n"
       ]
      }
     ],
     "prompt_number": 12
    },
    {
     "cell_type": "code",
     "collapsed": false,
     "input": [
      "for chnk in chunked.split(\"(\"):\n",
      "    if len(chnk.strip()) > 0:\n",
      "        ix = chnk.index(\")\")\n",
      "        print \"(\" + chnk[:ix+1]"
     ],
     "language": "python",
     "metadata": {},
     "outputs": [
      {
       "output_type": "stream",
       "stream": "stdout",
       "text": [
        "(NX I/PRP NX)\n",
        "(VX can't/MD eat/VB VX)\n",
        "(NX lemons/NNS NX)\n",
        "(NX I/PRP NX)\n",
        "(VX can/MD eat/VB VX)\n",
        "(NX some/DT oranges/NNS NX)\n"
       ]
      }
     ],
     "prompt_number": 13
    },
    {
     "cell_type": "code",
     "collapsed": false,
     "input": [
      "parser.extract_info(chunked)"
     ],
     "language": "python",
     "metadata": {},
     "outputs": [
      {
       "output_type": "stream",
       "stream": "stdout",
       "text": [
        "(NX I/PRP NX) (VX can't/MD eat/VB VX) (NX lemons/NNS NX) ,/, but/CC (NX I/PRP NX) (VX can/MD eat/VB VX) (NX some/DT oranges/NNS NX) !/.\n"
       ]
      },
      {
       "metadata": {},
       "output_type": "pyout",
       "prompt_number": 14,
       "text": [
        "{'adj_phrases': [],\n",
        " 'adj_phrases_tagged': [],\n",
        " 'modifiers': [],\n",
        " 'modifiers_tagged': [],\n",
        " 'noun_phrases': ['I', 'lemons', 'I', 'oranges'],\n",
        " 'noun_phrases_tagged': ['I/PRP', 'lemons/NNS', 'I/PRP', 'oranges/NNS'],\n",
        " 'parameterized_predicates': [[['eat', []], ['I', []], ['lemon', ['plural']]],\n",
        "  [['eat', []], ['I', []], ['orange', ['determiner=some', 'plural']]]],\n",
        " 'prep_phrases': [],\n",
        " 'prep_phrases_tagged': [],\n",
        " 'verb_arg_structures': [[\"can't/MD eat/VB\", 'I/PRP', ['lemons/NNS']],\n",
        "  ['can/MD eat/VB', 'I/PRP', ['oranges/NNS']]],\n",
        " 'verb_arg_structures_concise': ['(\"eat\" \"I\" \"lemon\")',\n",
        "  '(\"eat\" \"I\" \"orange\")'],\n",
        " 'verb_phrases': ['eat', 'eat'],\n",
        " 'verb_phrases_tagged': ['eat/VB', 'eat/VB']}"
       ]
      }
     ],
     "prompt_number": 14
    },
    {
     "cell_type": "code",
     "collapsed": false,
     "input": [
      "class VSO(object):\n",
      "    def __init__(self, pred_arg, sentence):\n",
      "        self.verb = pred_arg[0]\n",
      "        self.subj = pred_arg[1]\n",
      "        if len(pred_arg) > 2 and len(pred_arg[2]) > 0:\n",
      "            self.objs = pred_arg[2:]\n",
      "        else:\n",
      "            self.objs = []\n",
      "        self.pred_arg = pred_arg\n",
      "    \n",
      "    def is_triple(self):\n",
      "        return len(self.subj) > 0 and len(self.verb) > 0 and len (self.objs) > 0\n",
      "    \n",
      "    def __repr__(self):\n",
      "        return \"S(%s) V(%s) O(%s)\" % (self.subj, self.verb, \",\".join(self.objs)) \n",
      "\n",
      "def extract_predicates(sentence):\n",
      "    preds = parser.jist_predicates(sentence)\n",
      "    if len(preds) >= 2:\n",
      "        preds = filter(lambda l: len(l) > 0, preds)\n",
      "        if len(preds) >= 2:\n",
      "            print \"\\n\\n\"\n",
      "            print sentence\n",
      "            print\n",
      "            for p in preds:\n",
      "                print p\n",
      "            assert False, \"Multiple sentences found\" \n",
      "    sentence_predicates = preds[0]\n",
      "    retVals = []\n",
      "    for sp in sentence_predicates:\n",
      "        vsoos = parser.parse_pred_arg(sp)\n",
      "        if len(vsoos) > 0:\n",
      "            retVals.append(VSO(vsoos, sentence))\n",
      "    return retVals\n",
      "\n",
      "sent = \"I ate oranges and pears.\"\n",
      "# also lemmatizes the verbs, which is nice\n",
      "print extract_predicates(sent)"
     ],
     "language": "python",
     "metadata": {},
     "outputs": [
      {
       "output_type": "stream",
       "stream": "stdout",
       "text": [
        "(NX I/PRP NX) (VX ate/VBD VX) (NX oranges/NNS and/CC pears/NNS NX) ./.\n",
        "[S(I) V(eat) O(orange and pear)]\n"
       ]
      }
     ],
     "prompt_number": 15
    },
    {
     "cell_type": "code",
     "collapsed": false,
     "input": [
      "vsoos = map(extract_predicates, sentences)"
     ],
     "language": "python",
     "metadata": {},
     "outputs": [
      {
       "output_type": "stream",
       "stream": "stdout",
       "text": [
        "the/DT (NX coral/JJ NX) (VX bleaching/VBG is/VBZ VX) (NX a/DT different/JJ type/NN NX) (NX they/PRP NX) (VX are/VBP VX) (NX bleached/JJ NX) and/CC (NX coral/JJ NX) (VX bleaching/VBG VX) ./.\n",
        "(NX the/DT bleached/JJ is/NNS NX) (NX plain/JJ white/JJ NX) ./.\n",
        "(NX the/DT coral/JJ polyps/NNS NX) (VX give/VBP VX) (NX different/JJ colors/NNS NX) ./.\n",
        "(NX the/DT skeleton/NN NX) (VX protects/VBZ VX) (NX the/DT body/NN NX) of/IN (NX polyp/NN NX) ./.\n",
        "(NX the/DT process/NN NX) (VX requires/VBZ VX) (NX both/DT carbon/NN dioxide/NN and/CC release/NN oxygen/NN NX) ./.\n",
        "(NX they/PRP NX) (VX know/VBP VX) about/IN (NX changes/NNS NX) (VX wind/VBP VX) (NX ,/, ocean/NN currents/NNS and/CC temperature/NN NX) ./.\n",
        "(NX this/DT event/NN NX) (VX occurred/VBD VX) in/IN (NX 0000/CD NX) ./.\n",
        "(NX blue/JJ color/NN NX) (VX is/VBZ VX) (NX water/NN temperature/NN NX) ./.\n",
        "(NX red/JJ color/NN NX) (VX is/VBZ VX) (NX trade/NN wind/NN strength/NN NX) ./.\n",
        "(NX the/DT fishermen/NNS NX) (VX worked/VBD VX) along/IN (NX pacific/JJ coastal/JJ regions/NNS NX) of/IN (VX south/RB america/VB VX) for/IN (NX centuries/NNS NX) ./.\n",
        "(NX normal/JJ water/NN temperature/NN NX) (VX will/MD be/VB VX) (NX 00/CD NX) -/: (NX 00/CD degrees/NNS f/NN NX) ./.\n",
        "(NX ocean/NN water/NN temperature/NN NX) (VX will/MD be/VB VX) (NX 0/CD NX) to/TO (NX 0/CD degrees/NNS f/NN NX) ./.\n",
        "(NX the/DT oxygen/NN NX) (VX is/VBZ VX) (/( (NX o2/CD NX) )/) ./.\n",
        "(NX the/DT carbon/NN dioxide/NN NX) (/( (NX co2/CD NX) )/) ./.\n",
        "the/DT (NX necessary/JJ NX) (VX will/MD be/VB VX) (NX coral/JJ healthy/JJ NX) ./.\n",
        "during/IN (VX bleaching/VBG VX) (NX ,/, corals/NNS NX) (VX turn/VBP VX) (NX white/JJ due/JJ NX) to/TO (NX the/DT ejection/NN or/CC death/NN NX) of/IN (NX their/PRP$ algae/NNS NX) ./.\n",
        "(NX coral/JJ NX) (VX bleaching/VBG VX) (NX rates/NNS NX) (VX vary/VBP VX) at/IN (NX different/JJ times/NNS NX) ./."
       ]
      },
      {
       "output_type": "stream",
       "stream": "stdout",
       "text": [
        "\n",
        "(NX the/DT pacific/JJ trade/NN winds/NNS NX) (VX go/VBP VX) from/IN (NX east/JJ NX) to/TO (NX west/NN NX) ./.\n",
        "(NX the/DT winds/NNS NX) (VX move/VBP VX) (NX the/DT warm/JJ surface/NN waters/NNS NX) westward/RB ./.\n",
        "(NX these/DT warm/JJ waters/NNS NX) (VX got/VBD together/RB north/RB VX) of/IN (NX australia/NN NX) ,/, near/IN (NX papua/NN new/JJ guinea/NN NX) ./.\n",
        "at/IN (NX the/DT same/JJ time/NN NX) (NX the/DT deeper/JJR and/CC colder/JJR waters/NNS NX) in/IN (NX the/DT eastern/JJ pacific/JJ rise/NN NX) to/TO (NX the/DT surface/NN NX) ./.\n",
        "this/DT (VX is/VBZ called/VBN VX) (NX upwelling/NN NX) ./.\n",
        "(NX i/NN NX) (VX did/VBD not/RB know/VB VX) any/DT of/IN this/DT ./.\n",
        "Common sense violated! Correcting...\n",
        "(NX upwelling/NN causes/NNS colder/JJR temperature/NN NX) in/IN (NX surface/NN NX) (VX waters/VBZ VX) ./.\n",
        "when/WRB (NX I/PRP NX) (VX read/VBP VX) (NX more/JJR NX) (NX I/PRP NX) (VX learned/VBD VX) that/IN (NX algae/NNS NX) (VX needs/VBZ to/TO have/VB VX) (NX a/DT certain/JJ temperature/NN NX) to/TO (VX stay/VB VX) (NX alive/JJ NX) and/CC (NX also/RB healthy/JJ NX) ./.\n",
        "(NX coral/JJ NX) (VX bleaching/VBG is/VBZ when/WRB VX) (NX algae/NNS NX) (VX die/VBP VX) ./.\n",
        "(NX the/DT coral/NN NX) (VX loses/VBZ VX) (NX it/PRP NX) (VX color/VBP VX) because/IN (NX the/DT algae/NNS NX) (VX gave/VBD VX) (NX it/PRP NX) (NX the/DT color/NN NX) in/IN (NX the/DT first/JJ place/NN NX) ./.\n",
        "(NX the/DT thing/NN NX) that/IN (NX bleached/JJ corals/NNS NX) (VX are/VBP losing/VBG VX) (NX algae/NNS NX) or/CC very/RB (NX little/JJ algae/NNS NX) ./."
       ]
      },
      {
       "output_type": "stream",
       "stream": "stdout",
       "text": [
        "\n",
        "(NX coral/JJ NX) (VX bleaching/VBG is/VBZ VX) (NX an/DT example/NN NX) of/IN how/WRB (NX environmental/JJ sources/NNS NX) (VX can/MD negatively/RB affect/VB VX) (NX the/DT relationship/NN NX) between/IN (NX corals/NNS NX) and/CC (NX their/PRP$ algae/NNS NX) ./.\n",
        "(NX coral/JJ NX) (VX bleaching/VBG VX) (NX rates/NNS NX) (VX vary/VBP VX) at/IN (NX different/JJ types/NNS NX) (VX depending/VBG VX) on/IN (NX the/DT weather/NN NX) ./.\n",
        "(NX coral/JJ NX) (VX bleaching/VBG happens/VBZ VX) by/IN (NX the/DT corals/NNS NX) (VX losing/VBG VX) (NX their/PRP$ algae/NNS NX) ./.\n",
        "also/RB (NX it/PRP NX) (VX happens/VBZ when/WRB VX) (NX the/DT corals/NNS NX) (VX start/VBP losing/VBG VX) (NX their/PRP$ color/NN NX) and/CC (VX start/VB turning/VBG VX) (NX plain/JJ white/JJ NX) ./.\n",
        "why/WRB (NX coral/JJ NX) (VX bleaching/VBG VX) (NX rates/NNS NX) (VX vary/VBP VX) at/IN (NX different/JJ times/NNS NX) ?/.\n",
        "(NX it/PRP NX) because/IN (NX the/DT water/NN temperature/NN NX) ./.\n",
        "also/RB if/IN (NX its/PRP$ winter/NN or/CC fall/NN NX) (NX the/DT rates/NNS NX) (NX lower/JJR NX) ./.\n",
        "if/IN (NX its/PRP$ high/JJ one/CD NX) (NX it/PRP NX) (NX higher/JJR NX) like/IN (NX summer/NN or/CC spring/NN NX) ./.\n",
        "by/IN (NX this/DT time/NN NX) now/RB (NX the/DT corals/NNS NX) (VX are/VBP going/VBG to/TO turn/VB VX) (NX white/JJ NX) because/IN its/PRP$ (VX getting/VBG VX) (NX colder/JJR NX) ./.\n",
        "in/IN (NX conclusion/NN NX) ,/, (NX the/DT stuff/NN NX) that/IN (NX bleached/JJ corals/NNS NX) (VX are/VBP losing/VBG VX) (NX algae/NNS NX) ./.\n",
        "(NX that/WDT NX) (VX might/MD happen/VB VX) in/IN (NX fall/NN or/CC winter/NN time/NN NX) because/IN (NX the/DT sun/NN NX) (VX gives/VBZ VX) (NX salt/NN NX) to/TO (NX the/DT algae/NNS NX) for/IN (NX them/PRP NX) to/TO (VX eat/VB VX) ./.\n",
        "so/RB (NX they/PRP NX) (VX would/MD die/VB VX) if/IN (NX they/PRP NX) (VX didnt/VBP get/VB VX) (NX sun/NN NX) ./."
       ]
      },
      {
       "output_type": "stream",
       "stream": "stdout",
       "text": [
        "\n",
        "also/RB ,/, (NX the/DT rates/NNS NX) (VX change/VBP VX) in/IN (NX different/JJ times/NNS NX) because/IN (NX every/DT day/NN NX) not/RB (NX 00/CD NX) -/: (NX 00/CD degrees/NNS NX) ./.\n",
        "its/PRP$ (NX always/RB different/JJ NX) because/IN (NX the/DT corals/NNS NX) (VX eat/VBP VX) from/IN (NX the/DT algae/NNS NX) and/CC if/IN (NX they/PRP NX) (VX die/VBP VX) because/IN of/IN (NX the/DT cold/JJ weather/NN NX) than/IN that/DT (VX probably/RB means/VBZ VX) (NX the/DT corals/NNS NX) (VX are/VBP going/VBG to/TO die/VB VX) ./.\n",
        "(NX that/WDT NX) (VX is/VBZ VX) (NX my/PRP$ answer/NN NX) ./.\n",
        "(NX coral/JJ NX) (VX bleaching/VBG happens/VBZ VX) at/IN (NX different/JJ times/NNS NX) ./.\n",
        "for/IN this/DT to/TO (VX happen/VB VX) (NX it/PRP NX) (VX depends/VBZ VX) on/IN (NX certain/JJ things/NNS NX) ./.\n",
        "like/IN for/IN (NX example/NN one/CD certain/JJ way/NN NX) (VX is/VBZ VX) (NX the/DT temperature/NN NX) ./.\n",
        "(NX i/NN NX) (VX think/VBP VX) (NX the/DT temperature/NN NX) (VX is/VBZ VX) (NX something/NN NX) that/IN (VX really/RB affects/VBZ VX) the/DT (NX coral/JJ NX) (VX bleaching/VBG VX) ./.\n",
        "(NX it/PRP NX) (VX probably/RB affects/VBZ VX) (NX it/PRP NX) because/IN if/IN (NX it/PRP NX) (VX isnt/VBP VX) (NX the/DT right/NN temperature/NN NX) (NX it/PRP NX) (VX might/MD die/VB VX) or/CC (VX start/VB changing/VBG VX) (NX color/NN NX) ./.\n",
        "(NX another/DT think/NN NX) (NX that/WDT NX) (VX can/MD cause/VB VX) (NX coral/JJ NX) (VX bleaching/VBG are/VBP VX) (NX the/DT changes/NNS NX) in/IN (NX wind/NN NX) ./.\n",
        "(NX changes/NNS NX) in/IN (NX wind/NN NX) (VX is/VBZ also/RB VX) a/DT very/RB (NX important/JJ thing/NN NX) (NX that/WDT NX) (VX can/MD cause/VB VX) (NX coral/JJ NX) (VX bleaching/VBG VX) ./.\n",
        "(NX it/PRP NX) (VX might/MD cause/VB VX) (NX coral/JJ NX) (VX bleaching/VBG VX) because/IN when/WRB (NX the/DT wind/NN NX) (VX changes/VBZ VX) (NX the/DT temperature/NN NX) (VX will/MD change/VB VX) ./.\n",
        "for/IN (NX example/NN NX) in/IN (NX the/DT text/NN NX) (NX it/PRP NX) (VX says/VBZ VX) (NX normal/JJ water/NN temperature/NN NX) in/IN (NX these/DT regions/NNS NX) (VX is/VBZ VX) (NX 00/CD NX) -/: (NX 00/CD degrees/NNS f/NN NX) ./."
       ]
      },
      {
       "output_type": "stream",
       "stream": "stdout",
       "text": [
        "\n",
        "however/RB ,/, when/WRB (NX surface/NN water/NN shift/NN NX) eastward/RB (NX ,/, ocean/NN water/NN temperatures/NNS NX) (VX increase/VBP VX) by/IN (NX 0/CD NX) -/: (NX 0/CD degrees/NNS f/NN NX) ./.\n",
        "so/RB when/WRB (NX there/EX NX) (VX are/VBP VX) (NX changes/NNS NX) in/IN (NX wind/NN NX) (NX the/DT temperature/NN changes/NNS NX) ./.\n",
        "like/IN (NX I/PRP NX) (VX was/VBD saying/VBG VX) before/IN if/IN (NX the/DT temperature/NN changes/NNS NX) (NX it/PRP NX) (VX will/MD also/RB cause/VB VX) (NX coral/JJ NX) (VX bleaching/VBG VX) ./.\n",
        "(NX a/DT lot/NN NX) of/IN (NX stuff/NN NX) (VX can/MD cause/VB VX) (NX coral/JJ NX) (VX bleaching/VBG VX) ./.\n",
        "that/IN why/WRB (NX the/DT colors/NNS NX) (VX change/VBP VX) ./.\n",
        "(NX i/NN NX) (VX never/RB knew/VBD VX) all/DT (NX the/DT stuff/NN NX) (NX that/WDT NX) (VX can/MD cause/VB VX) (NX it/PRP NX) ./.\n",
        "some/DT of/IN (NX the/DT stuff/NN NX) (VX are/VBP VX) (NX changes/NNS NX) in/IN (NX wind/NN ,/, temperatures/NNS ,/, and/CC ocean/NN currents/NNS NX) ./.\n",
        "(NX the/DT rates/NNS NX) (VX vary/VBP VX) at/IN (NX different/JJ times/NNS NX) for/IN (NX many/JJ reasons/NNS NX) ./.\n",
        "(NX one/CD NX) of/IN (NX the/DT reasons/NNS NX) that/IN (NX it/PRP NX) (VX vary/VBP is/VBZ VX) (NX which/WDT way/NN NX) (NX the/DT trade/NN winds/NNS NX) (VX are/VBP going/VBG VX) ./.\n",
        "also/RB (NX higher/JJR water/NN temperature/NN NX) (VX could/MD affect/VB VX) (NX it/PRP NX) ./.\n",
        "(NX those/DT are/NN NX) (NX my/PRP$ reasons/NNS NX) ./.\n",
        "(NX i/NN NX) (VX saw/VBD VX) on/IN (NX the/DT graph/NN NX) (NX the/DT lowest/JJS trade/NN winds/NNS NX) (VX was/VBD VX) (NX the/DT same/JJ year/NN NX) as/IN when/WRB (NX more/JJR NX) than/IN (NX seventy/CD countries/NNS NX) (VX reported/VBD VX) (NX coral/JJ NX) (VX bleaching/VBG VX) ./.\n",
        "(NX trade/NN winds/NNS NX) (VX is/VBZ VX) (NX wind/NN NX) (NX that/WDT NX) (VX goes/VBZ VX) (NX east/JJ NX) to/TO (NX west/NN NX) ./."
       ]
      },
      {
       "output_type": "stream",
       "stream": "stdout",
       "text": [
        "\n",
        "that/DT (VX changes/VBZ VX) (NX every/DT couple/NN years/NNS NX) ./.\n",
        "(NX that/WDT NX) (VX is/VBZ how/WRB VX) (NX it/PRP NX) (VX might/MD affect/VB VX) (NX it/PRP NX) ./.\n",
        "(NX the/DT graph/NN NX) (VX showed/VBD VX) in/IN (NX 0000/CD NX) the/DT (NX higher/JJR NX) (NX the/DT water/NN temperature/NN NX) the/DT (NX higher/JJR NX) the/DT (NX coral/JJ NX) (VX bleaching/VBG VX) ./.\n",
        "(NX those/DT are/NN NX) (NX my/PRP$ thoughts/NNS NX) about/IN (NX coral/JJ NX) (VX bleaching/VBG VX) ./.\n",
        "?/.\n",
        "(NX there/EX NX) (VX are/VBP VX) (NX different/JJ ways/NNS NX) (NX coral/JJ NX) (VX bleaching/VBG VX) (NX rates/NNS NX) (VX vary/VBP VX) at/IN (NX different/JJ times/NNS NX) ./.\n",
        "(NX first/JJ coral/JJ NX) (VX bleaching/VBG is/VBZ VX) (NX something/NN NX) (NX that/WDT NX) (VX give/VBP VX) (NX the/DT corals/NNS NX) (NX their/PRP$ colors/NNS NX) ./.\n",
        "(NX some/DT coral/JJ have/NN NX) (VX lost/VBN VX) (NX their/PRP$ color/NN NX) and/CC (VX have/VBP been/VBN VX) (NX bleached/JJ plain/JJ white/JJ NX) ./.\n",
        "for/IN (NX me/PRP NX) (NX coral/JJ NX) (VX bleaching/VBG mainly/RB means/VBZ losing/VBG VX) (NX the/DT color/NN NX) ./.\n",
        "(NX that/WDT NX) (VX is/VBZ VX) (NX what/WP NX) (NX coral/JJ NX) (VX bleaching/VBG means/VBZ VX) ./.\n",
        "(NX coral/JJ NX) (VX bleaching/VBG VX) (NX changes/NNS NX) by/IN (NX its/PRP$ color/NN NX) ./.\n",
        "(NX the/DT author/NN NX) (VX said/VBD VX) that/IN (NX the/DT coral/JJ bleaching/VBG changes/NNS NX) ./.\n",
        "the/DT (VX bleaching/VBG changes/VBZ VX) (NX a/DT lot/NN NX) or/CC (NX less/JJR NX) throughout/IN (NX the/DT years/NNS NX) ./.\n",
        "the/DT (NX biggest/RBS coral/JJ NX) (VX bleaching/VBG was/VBD VX) on/IN (NX the/DT year/NN NX) of/IN (NX 0000/CD NX) ./."
       ]
      },
      {
       "output_type": "stream",
       "stream": "stdout",
       "text": [
        "\n",
        "in/IN (NX each/DT year/NN NX) on/IN (NX the/DT graph/NN NX) (NX there/EX NX) (VX are/VBP VX) (NX different/JJ things/NNS NX) ./.\n",
        "(NX the/DT author/NN NX) (VX said/VBD VX) that/IN (NX people/NNS NX) (VX often/RB mistake/VB VX) for/IN (NX a/DT rock/NN NX) or/CC (NX a/DT plant/NN NX) ./.\n",
        "(NX coral/NN NX) (VX is/VBZ mainly/RB made/VBN VX) up/IN from/IN (NX tiny/JJ animals/NNS NX) (VX called/VBN VX) (NX polyps/NNS NX) ./.\n",
        "in/IN (NX my/PRP$ opinion/NN NX) (NX I/PRP NX) (VX am/VBP amazed/VBN VX) that/IN (NX animals/NNS NX) (VX make/VBP VX) (NX coral/JJ NX) ./.\n",
        "(NX i/NN NX) (VX wondered/VBD how/WRB VX) (NX tiny/JJ little/JJ animals/NNS NX) (VX do/VBP VX) the/DT (NX coral/JJ NX) ./.\n",
        "(NX coral/JJ NX) (VX bleaching/VBG VX) (NX rates/NNS NX) (VX vary/VBP VX) at/IN (NX different/JJ times/NNS NX) (VX depending/VBG VX) on/IN how/WRB (NX much/JJ algae/NNS NX) (VX are/VBP VX) their/PRP$ ./.\n",
        "(NX the/DT reason/NN NX) (NX the/DT corals/NNS NX) (VX need/VBP VX) (NX algae/NNS NX) (VX is/VBZ VX) because/IN (NX they/PRP NX) (VX prey/VBP VX) on/IN (NX algae/NNS NX) ./.\n",
        "if/IN (NX they/PRP NX) (VX dont/VBP get/VB VX) (NX algae/NNS NX) (NX it/PRP NX) (VX leads/VBZ VX) the/DT (NX coral/JJ NX) to/TO (VX have/VB VX) (NX discoloration/NN NX) and/CC (NX they/PRP NX) (VX turn/VBP VX) (NX white/JJ NX) ./.\n",
        "(NX the/DT problem/NN NX) (VX is/VBZ VX) (NX the/DT algae/NNS NX) (VX is/VBZ not/RB always/RB there/RB VX) ./.\n",
        "this/DT (VX is/VBZ VX) because/IN (NX winds/NNS NX) (VX blow/VBP VX) (NX it/PRP NX) (NX east/JJ NX) to/TO (NX west/NN NX) ./.\n",
        "also/RB (NX ,/, water/NN levels/NNS NX) (VX increase/VBP VX) to/TO about/IN (NX several/JJ inches/NNS NX) to/TO (NX a/DT foot/NN NX) ./.\n",
        "(NX there/EX NX) (VX is/VBZ VX) no/DT (NX certain/JJ routine/JJ NX) for/IN when/WRB this/DT (VX happens/VBZ so/RB VX) (NX it/PRP NX) (VX happens/VBZ VX) at/IN very/RB (NX different/JJ times/NNS NX) ./."
       ]
      },
      {
       "output_type": "stream",
       "stream": "stdout",
       "text": [
        "\n",
        "(NX well/RB coral/JJ NX) (VX bleaching/VBG is/VBZ VX) (NX bad/JJ NX) because/IN (NX the/DT coral/NN NX) (VX has/VBZ VX) (NX it/PRP NX) (NX beautiful/JJ color/NN NX) ./.\n",
        "(NX the/DT coral/JJ bleach/NN NX) (VX is/VBZ VX) (NX bad/JJ NX) for/IN (NX those/DT bleachers/NNS NX) (VX takes/VBZ VX) (NX the/DT color/NN NX) and/CC (NX the/DT food/NN NX) that/IN (NX they/PRP NX) (VX eat/VBP VX) ./.\n",
        "this/DT (VX is/VBZ really/RB VX) (NX bad/JJ NX) for/IN (NX coral/JJ life/NN NX) ./.\n",
        "(NX the/DT corals/NNS NX) (VX need/VBP VX) (NX their/PRP$ color/NN NX) ./.\n",
        "plus/CC (NX they/PRP NX) (VX need/VBP VX) (NX food/NN NX) ./.\n",
        "for/IN (NX they/PRP NX) (VX could/MD obviously/RB survive/VB VX) ./.\n",
        "the/DT (VX is/VBZ VX) a/DT (VX living/VBG VX) (NX thing/NN NX) ./.\n",
        "(NX the/DT passage/NN states/NNS NX) however/RB (NX some/DT coral/JJ have/NN NX) (VX lost/VBN VX) (NX their/PRP$ color/NN NX) and/CC (VX been/VBN VX) (NX bleached/JJ NX) as/IN (NX plain/JJ white/JJ NX) ./.\n",
        "well/RB plus/CC (NX they/PRP NX) (NX coral/JJ dont/NN NX) (VX get/VB VX) (NX food/NN NX) (NX they/PRP NX) (VX have/VBP VX) (NX a/DT process/NN NX) of/IN (NX photosynthesis/NN NX) ./.\n",
        "(NX they/PRP NX) (VX need/VBP VX) (NX light/NN NX) to/TO (VX eat/VB VX) out/IN (NX the/DT ocean/NN NX) (VX could/MD turn/VB VX) of/IN (NX 00/CD NX) to/TO (NX 0/CD degrees/NNS NX) ./.\n",
        "so/RB (NX they/PRP NX) (VX need/VBP to/TO have/VB VX) (NX light/NN NX) to/TO (VX eat/VB VX) ./.\n",
        "(NX the/DT passage/NN states/NNS NX) (NX they/PRP NX) (VX have/VBP know/VB VX) about/IN (NX changes/NNS NX) in/IN (NX wind/NN ,/, temperatures/NNS NX) ./.\n",
        "this/DT (VX affects/VBZ VX) (NX coral/JJ NX) (NX it/PRP NX) (VX takes/VBZ VX) (NX there/EX NX) (NX color/NN NX) away/RB ./.\n",
        "then/RB (NX it/PRP NX) (VX takes/VBZ VX) (NX their/PRP$ food/NN NX) away/IN to/TO ./.\n",
        "plus/CC if/IN (NX the/DT corals/NNS NX) (VX are/VBP VX) (NX bleached/JJ NX) (NX they/PRP NX) (VX are/VBP not/RB VX) (NX healthy/JJ NX) ./."
       ]
      },
      {
       "output_type": "stream",
       "stream": "stdout",
       "text": [
        "\n",
        "(NX the/DT passage/NN states/NNS NX) during/IN (VX bleaching/VBG VX) (NX ,/, corals/NNS NX) (VX turn/VBP VX) (NX white/JJ due/JJ NX) to/TO (VX eject/VB VX) (NX or/CC death/NN NX) of/IN (NX their/PRP$ algae/NNS NX) ./.\n",
        "(NX so/JJ algae/NNS NX) (VX gives/VBZ VX) (NX it/PRP NX) (NX it/PRP NX) (VX color/VBP VX) ./.\n",
        "(NX finally/RB coral/JJ NX) (VX bleaching/VBG is/VBZ VX) (NX awful/JJ NX) to/TO (NX the/DT corals/NNS NX) ./.\n",
        "(NX they/PRP NX) (VX can/MD lose/VB VX) (NX healthiest/JJS NX) ./.\n",
        "this/DT (VX is/VBZ VX) (NX important/JJ topic/NN NX) of/IN (NX coral/JJ NX) (VX bleaching/VBG VX) ./.\n",
        "?/.\n",
        "(NX coral/JJ NX) (VX bleaching/VBG happens/VBZ when/WRB VX) (NX the/DT coral/NN NX) (VX has/VBZ VX) (NX no/DT algae/NNS or/CC sugar/NN NX) ./.\n",
        "then/RB (NX it/PRP NX) (VX becomes/VBZ VX) (NX bleached/JJ white/JJ NX) ./.\n",
        "this/DT (VX can/MD cause/VB VX) (NX death/NN NX) ./.\n",
        "(NX it/PRP NX) (VX can/MD spread/VB VX) across/IN (NX the/DT coral/JJ reef/NN NX) and/CC (VX destroy/VB VX) (NX the/DT coral/JJ reef/NN NX) ./.\n",
        "(NX it/PRP NX) (VX happens/VBZ VX) at/IN (NX different/JJ rates/NNS and/CC times/NNS NX) ./.\n",
        "why/WRB ?/.\n",
        "because/IN when/WRB (NX the/DT water/NN temperature/NN NX) (VX increases/VBZ VX) (NX the/DT carbon/NN dioxide/NN NX) in/IN (NX the/DT water/NN decreases/NNS NX) and/CC very/RB (NX little/JJ carbon/NN dioxide/NN NX) and/CC (NX it/PRP NX) (VX ruins/VBZ VX) (NX the/DT balance/NN NX) that/IN (NX corals/NNS NX) (VX need/VBP to/TO be/VB VX) (NX healthy/JJ NX) ./.\n",
        "then/RB when/WRB (NX the/DT coral/NN NX) (VX runs/VBZ VX) out/IN of/IN (NX it/PRP NX) (NX algae/NNS NX) and/CC (VX starts/VBZ to/TO bleach/VB VX) and/CC (VX dies/VBZ slowly/RB VX) (NX it/PRP NX) (VX does/VBZ not/RB get/VB VX) (NX it/PRP NX) (NX nutrients/NNS NX) and/CC (NX bleached/JJ NX) ./.\n",
        "(NX the/DT rates/NNS NX) (VX change/VBP VX) because/IN at/IN (NX different/JJ times/NNS NX) because/IN (NX the/DT water/NN temperature/NN changes/NNS NX) and/CC (NX the/DT coral/JJ cant/NN produce/NN food/NN or/CC things/NNS NX) that/IN (NX the/DT need/NN NX) (NX healthy/JJ NX) and/CC (NX alive/JJ NX) ./.\n",
        "also/RB (NX the/DT wind/NN NX) (VX affects/VBZ VX) (NX the/DT water/NN and/CC food/NN change/NN NX) since/IN (NX the/DT coral/NN NX) (VX is/VBZ VX) (NX sensitive/JJ NX) on/IN (NX temperatures/NNS and/CC cant/NN produce/NN NX) (NX any/DT food/NN NX) ./."
       ]
      },
      {
       "output_type": "stream",
       "stream": "stdout",
       "text": [
        "\n",
        "so/RB that/IN (NX it/PRP NX) that/IN (NX my/PRP$ answer/NN NX) ./.\n",
        "hopefully/RB that/IN (NX answers/NNS NX) (NX your/PRP$ question/NN NX) ./.\n",
        "the/DT (NX coral/JJ NX) (VX bleaching/VBG VX) at/IN a/DT (VX vary/VBP VX) (NX different/JJ time/NN NX) because/IN (NX there/EX NX) (VX is/VBZ VX) (NX enough/JJ nutrients/NNS NX) for/IN (NX algae/NNS NX) to/TO (VX protect/VB VX) (NX the/DT environment/NN NX) ./.\n",
        "(NX also/RB coral/JJ NX) (VX can/MD survive/VB VX) (NX damages/NNS NX) from/IN (NX some/DT destructive/JJ thing/NN NX) ,/, but/CC the/DT most/RBS (NX dangerous/JJ threats/NNS NX) to/TO (NX coral/JJ are/NN NX) those/DT (NX that/DT result/NN NX) in/IN (NX coral/JJ NX) (VX bleaching/VBG VX) ./.\n",
        "(NX coral/JJ NX) (VX bleaching/VBG refers/VBZ VX) to/TO (NX an/DT event/NN NX) whereby/WRB (NX corals/NNS NX) (VX lose/VBP VX) (NX their/PRP$ coloring/NN NX) ./.\n",
        "during/IN (VX bleaching/VBG VX) (NX coral/JJ turn/NN NX) (NX white/JJ due/JJ NX) to/TO (NX the/DT ejection/NN or/CC death/NN NX) of/IN (NX their/PRP$ algae/NNS NX) ./.\n",
        "(NX this/DT mean/NN NX) that/IN if/IN (NX they/PRP NX) (VX dont/VBP have/VBP VX) (NX enough/JJ nutrients/NNS or/CC algae/NNS NX) (NX they/PRP NX) (VX become/VBP VX) (NX coral/JJ NX) (VX bleaching/VBG VX) and/CC (NX it/PRP NX) (VX causes/VBZ VX) to/TO (VX died/VBD VX) ./.\n",
        "also/RB (NX it/PRP NX) (VX cause/VBP VX) by/IN (NX the/DT weather/NN NX) ./.\n",
        "(NX it/PRP NX) (VX change/VBP VX) (NX there/EX NX) (NX time/NN NX) ./.\n",
        "(NX it/PRP NX) (VX may/MD cause/VB VX) (NX thunderstorm/NN or/CC hurricanes/NNS NX) ./.\n",
        "(NX these/DT are/NN reason/NN NX) that/IN the/DT (NX coral/JJ NX) (VX bleaching/VBG VX) (NX rates/NNS NX) at/IN a/DT (VX vary/VBP VX) (NX time/NN NX) ./.\n",
        "(NX coral/JJ NX) (VX bleaching/VBG VX) (NX changes/NNS NX) at/IN (NX different/JJ times/NNS NX) ./.\n",
        "(NX that/WDT NX) (VX is/VBZ VX) because/IN when/WRB (NX they/PRP NX) (VX change/VBP VX) (NX they/PRP NX) (VX are/VBP not/RB VX) (NX healthy/JJ NX) ./.\n",
        "also/RB if/IN (NX they/PRP NX) (VX dont/VBP VX) (NX change/NN NX) (NX that/WDT NX) (VX means/VBZ VX) (NX they/PRP NX) (VX are/VBP so/RB VX) (NX healthy/JJ NX) ./."
       ]
      },
      {
       "output_type": "stream",
       "stream": "stdout",
       "text": [
        "\n",
        "although/IN if/IN (NX they/PRP NX) (VX change/VBP VX) (NX they/PRP NX) (VX turn/VBP VX) all/DT (NX white/JJ NX) ./.\n",
        "if/IN (NX they/PRP NX) (VX dont/VBP VX) (NX change/NN NX) (NX they/PRP NX) (VX stay/VBP VX) all/DT (NX orange/JJ NX) ./.\n",
        "also/RB when/WRB (NX they/PRP NX) (VX change/VBP VX) (NX it/PRP NX) (VX is/VBZ called/VBN bleaching/VBG VX) (NX that/WDT NX) (VX is/VBZ when/WRB VX) (NX it/PRP NX) (VX is/VBZ VX) (NX white/JJ NX) ./.\n",
        "(NX the/DT regular/JJ name/NN NX) (VX is/VBZ VX) (NX coral/JJ NX) when/WRB (NX it/PRP NX) (VX is/VBZ VX) (NX healthy/JJ NX) ./.\n",
        "the/DT (NX coral/JJ NX) (VX bleaching/VBG is/VBZ VX) around/IN (NX the/DT pacific/JJ ocean/NN NX) ./.\n",
        "like/IN (NX asia/NN ,/, australia/NN NX) ,/, and/CC (VX north/RB america/VB VX) ./.\n",
        "also/RB in/IN (NX the/DT pacific/JJ ocean/NN NX) (NX the/DT water/NN NX) (VX is/VBZ VX) (NX warmer/JJR NX) ./.\n",
        "and/CC a/DT little/RB (NX less/JJR cooler/JJR water/NN NX) ./.\n",
        "also/RB (NX coral/NN NX) (VX has/VBZ VX) (NX another/DT important/JJ thing/NN NX) (NX it/PRP NX) (VX can/MD survive/VB VX) (NX damage/NN NX) from/IN (NX some/DT destructive/JJ things/NNS NX) ./.\n",
        "mostly/RB (NX every/DT time/NN NX) (NX the/DT coral/NN NX) (VX loses/VBZ VX) (NX their/PRP$ color/NN NX) ./.\n",
        "(NX also/RB coral/JJ NX) (VX bleaching/VBG is/VBZ VX) (NX one/CD example/NN NX) of/IN how/WRB (NX environmental/JJ stressors/NNS NX) (VX can/MD negatively/RB affect/VB VX) (NX the/DT relationship/NN NX) between/IN (NX the/DT corals/NNS NX) and/CC (NX their/PRP$ algae/NNS NX) ./.\n",
        "(NX that/WDT NX) (VX is/VBZ why/WRB VX) (NX coral/JJ changes/NNS NX) ./.\n",
        "?/.\n",
        "(NX coral/JJ NX) (VX bleaching/VBG VX) (NX rate/NN NX) (VX vary/VBP VX) at/IN (NX different/JJ times/NNS NX) ./.\n",
        "(NX it/PRP NX) (VX happen/VBP mostly/RB VX) in/IN (NX the/DT pacific/JJ ocean/NN NX) ./.\n",
        "(NX coral/JJ NX) (VX bleaching/VBG happen/VB when/WRB VX) (NX it/PRP NX) (VX was/VBD VX) (NX 0000/CD NX) ./.\n",
        "(NX it/PRP NX) (VX happen/VBP VX) because/IN (NX the/DT wind/NN change/NN NX) ./."
       ]
      },
      {
       "output_type": "stream",
       "stream": "stdout",
       "text": [
        "\n",
        "(NX the/DT temperatures/NNS changes/NNS NX)\n",
        "(NX coral/JJ NX) (VX bleaching/VBG is/VBZ VX) (NX one/CD example/NN NX) of/IN how/WRB (NX environmental/JJ stressors/NNS NX) (VX can/MD negatively/RB affect/VB VX) (NX relationships/NNS NX) with/IN the/DT (NX coral/JJ NX) and/CC (NX their/PRP$ algae/NNS NX) ./.\n",
        "(NX they/PRP NX) (VX happen/VBP VX) on/IN (NX different/JJ times/NNS NX) because/IN (NX the/DT wind/NN and/CC water/NN temperature/NN NX) ./.\n",
        "because/IN (NX some/DT winds/NNS NX) (VX are/VBP VX) (NX weak/JJ NX) ./.\n",
        "and/CC (NX some/DT water/NN temperature/NN NX) (VX is/VBZ VX) (NX higher/JJR NX) ./.\n",
        "the/DT (NX coral/JJ NX) (VX can/MD survive/VB VX) (NX damage/NN NX) from/IN some/DT (NX destructive/JJ NX) ./.\n",
        "(NX it/PRP NX) (VX bleaching/VBG VX) because/IN (NX it/PRP NX) (VX does/VBZ not/RB get/VB VX) (NX carbon/NN dioxide/NN and/CC water/NN NX) to/TO (VX make/VB VX) (NX sugar/NN and/CC release/NN oxygen/NN NX) ./.\n",
        "so/RB if/IN (NX it/PRP NX) (VX does/VBZ not/RB have/VBP VX) that/IN (NX it/PRP NX) (VX turns/VBZ VX) (NX white/JJ NX) ./.\n",
        "(NX iam/NN NX) (NX sure/JJ NX) (NX there/EX NX) (VX are/VBP VX) (NX many/JJ reasons/NNS NX) why/WRB (NX coral/JJ NX) (VX bleaching/VBG is/VBZ caused/VBN VX) by/IN (NX things/NNS NX) ./.\n",
        "(NX there/EX NX) (VX are/VBP VX) (NX some/DT people/NNS NX) (NX who/WP NX) (VX do/VBP VX) (NX it/PRP NX) without/IN (VX realizing/VBG VX) (NX what/WP NX) (NX they/PRP NX) (VX had/VBD just/RB done/VBN VX) ./.\n",
        "but/CC then/RB (NX there/EX NX) (VX are/VBP VX) (NX other/JJ people/NNS NX) (NX who/WP NX) (VX do/VBP indispictuous/VBG VX) (NX things/NNS NX) joyfully/RB and/CC (NX proud/JJ NX) that/IN (NX they/PRP NX) (VX did/VBD VX) (NX it/PRP NX) ./.\n",
        "(NX i/NN dont/NN NX) (VX think/VBP VX) (NX people/NNS NX) (VX should/MD be/VB doing/VBG VX) this/DT ./.\n",
        "this/DT (VX is/VBZ VX) (NX my/PRP$ opinion/NN NX) for/IN the/DT (VX following/VBG VX)\n",
        "(NX first/JJ NX) of/IN all/DT (NX it/PRP NX) (NX wrong/JJ NX) because/IN (NX it/PRP NX) (VX can/MD harm/VB VX) (NX the/DT entire/JJ ecosystem/NN NX) ./.\n",
        "if/IN (NX an/DT animal/NN NX) (VX swallows/VBZ VX) (NX the/DT bleach/NN NX) ,/, (NX it/PRP NX) (VX can/MD kill/VB VX) (NX them/PRP NX) ./."
       ]
      },
      {
       "output_type": "stream",
       "stream": "stdout",
       "text": [
        "\n",
        "(NX second/JJ NX) of/IN all/DT ,/, (NX it/PRP NX) (VX is/VBZ VX) (NX wrong/JJ NX) because/IN (NX the/DT person/NN NX) (VX doing/VBG VX) (NX it/PRP NX) (VX can/MD go/VB to/TO jail/VB VX) because/IN (VX killing/VBG is/VBZ VX) (NX a/DT crime/NN NX) ./.\n",
        "in/IN (NX conclusion/NN NX) ,/, (NX they/PRP NX) (VX shouldnt/VBP VX) (NX bleach/NN random/JJ wild/JJ life/NN NX) because/IN (NX it/PRP NX) (VX is/VBZ VX) (NX risky/JJ NX) ./.\n",
        "and/CC (NX it/PRP NX) (VX can/MD kill/VB VX) (NX the/DT wild/JJ life/NN ecosystem/NN NX) ./.\n",
        "(NX i/NN NX) (VX think/VBP VX) (NX coral/JJ NX) (VX bleaching/VBG VX) (NX rates/NNS NX) (VX vary/VBP VX) at/IN (NX different/JJ times/NNS NX) because/IN of/IN (NX the/DT water/NN temperature/NN NX) ./.\n",
        "and/CC (NX the/DT way/NN NX) how/WRB (NX that/WDT NX) (VX happened/VBD was/VBD probably/RB VX) because/IN of/IN from/IN how/WRB (NX cold/JJ NX) or/CC (NX hot/JJ NX) (NX it/PRP NX) (VX is/VBZ VX) (NX a/DT times/NNS NX) ./.\n",
        "(NX i/NN NX) (VX also/RB think/VBP VX) (NX that/WDT NX) (VX is/VBZ was/VBD VX) because/IN of/IN (NX the/DT weather/NN temperatures/NNS NX) (NX that/WDT NX) (VX made/VBD VX) (NX the/DT corals/NNS bleach/NN NX) some/DT of/IN (NX it/PRP NX) (VX is/VBZ just/RB VX) (NX healthy/JJ pink/JJ coral/JJ NX) ./.\n",
        "in/IN (NX other/JJ words/NNS NX) in/IN (NX my/PRP$ opinion/NN NX) (NX I/PRP NX) (VX think/VBP VX) that/IN (NX some/DT coral/JJ are/NN NX) just/RB (NX healthy/JJ and/CC pink/JJ and/CC other/JJ corals/NNS NX) (VX can/MD be/VB VX) (NX bleached/JJ NX) and/CC (VX look/VB just/RB VX) (NX plain/JJ NX) and/CC (NX white/JJ NX) instead/RB of/IN (NX pink/JJ NX) and/CC (NX healthy/JJ NX) ./.\n",
        "in/IN (NX the/DT text/NN NX) (NX it/PRP NX) (VX shows/VBZ VX) (NX different/JJ graphs/NNS NX) for/IN (NX trade/NN winds/NNS NX) and/CC (NX coral/JJ NX) (VX bleaching/VBG VX) ./.\n",
        "(NX it/PRP NX) (VX also/RB has/VBZ VX) (NX a/DT map/NN NX) (NX that/WDT NX) (VX shows/VBZ were/VBD VX) the/DT (NX coral/JJ NX) (VX bleaching/VBG has/VBZ occurred/VBN so/RB far/RB VX) ./.\n",
        "(NX it/PRP NX) (VX has/VBZ also/RB occurred/VBN VX) in/IN (NX the/DT pacific/JJ ocean/NN NX) ./.\n",
        "in/IN (NX another/DT opinion/NN NX) (NX I/PRP NX) (VX think/VBP VX) that/IN (NX it/PRP NX) (VX might/MD be/VB VX) (NX the/DT trade/NN winds/NNS NX) (NX that/WDT NX) (VX are/VBP causing/VBG VX) (NX healthy/JJ pink/JJ coral/JJ NX) to/TO (VX become/VB VX) (NX plain/JJ white/JJ coral/JJ bleach/NN NX) in/IN (NX the/DT pacific/JJ ocean/NN NX) ./."
       ]
      },
      {
       "output_type": "stream",
       "stream": "stdout",
       "text": [
        "\n",
        "(NX i/NN NX) (VX saw/VBD VX) (NX some/DT pictures/NNS NX) of/IN (NX what/WP NX) (NX the/DT coral/NN NX) (VX looked/VBD VX) like/IN before/IN when/WRB (NX it/PRP NX) (VX was/VBD VX) (NX healthy/JJ NX) and/CC (NX pink/JJ NX) ./.\n",
        "in/IN (NX the/DT text/NN NX) (NX it/PRP NX) (VX said/VBD VX) that/IN (NX coral/NN NX) (VX had/VBD VX) (NX little/JJ tiny/JJ animals/NNS NX) (VX living/VBG VX) in/IN the/DT (NX coral/JJ NX) ./.\n",
        "in/IN (NX the/DT text/NN NX) (NX it/PRP NX) (VX had/VBD VX) (NX a/DT picture/NN NX) with/IN (NX arrows/NNS NX) and/CC (NX the/DT pacific/JJ ocean/NN NX) (VX showing/VBG VX) (NX some/DT animals/NNS NX) ./.\n",
        "for/IN (NX the/DT trade/NN winds/NNS NX) (NX it/PRP NX) (VX has/VBZ VX) (NX different/JJ colored/JJ arrows/NNS NX) to/TO (VX show/VB VX) (NX cool/JJ and/CC warm/JJ waters/NNS NX) in/IN (NX the/DT pacific/JJ ocean/NN NX) ./.\n",
        "(NX i/NN NX) (VX think/VBP VX) that/IN if/IN this/DT (VX keeps/VBZ VX) on/IN (VX going/VBG VX) on/IN this/DT (VX might/MD change/VB VX) (NX our/PRP$ lives/NNS NX) (VX might/MD change/VB VX) ./.\n",
        "so/RB (NX what/WP NX) (NX I/PRP NX) (VX want/VBP to/TO know/VB VX) (VX is/VBZ VX) (NX what/WP NX) (VX will/MD happen/VB VX) (NX next/JJ NX) ?/.\n",
        "(NX i/NN NX) (VX think/VBP VX) (NX the/DT coral/JJ bleaching/VBG rates/NNS NX) (VX vary/VBP VX) at/IN (NX different/JJ times/NNS NX) because/IN (NX I/PRP NX) (VX think/VBP VX) that/IN in/IN (NX each/DT ocean/NN NX) (NX the/DT little/JJ animals/NNS NX) (NX that/WDT NX) (VX cause/VBP VX) (NX that/WDT NX) (VX makes/VBZ VX) (NX it/PRP NX) (NX coral/JJ NX) (VX bleaching/VBG VX) ./.\n",
        "(NX corals/NNS NX) (VX live/VBP VX) in/IN (NX colonies/NNS NX) (NX that/WDT NX) (VX are/VBP made/VBN VX) up/IN of/IN (NX many/JJ polyps/NNS NX) ./."
       ]
      },
      {
       "output_type": "stream",
       "stream": "stdout",
       "text": [
        "\n",
        "this/DT (VX helped/VBN VX) (NX me/PRP NX) (VX understand/VBP VX) (NX the/DT text/NN NX) because/IN (NX I/PRP NX) (VX kept/VBD VX) on/IN (VX asking/VBG VX) (NX myself/PRP NX) (NX what/WP NX) (VX is/VBZ VX) (NX it/PRP NX) (VX made/VBD VX) of/IN ?/.\n",
        "and/CC (NX I/PRP NX) (VX think/VBP VX) (NX it/PRP NX) (VX rates/VBZ VX) at/IN (NX different/JJ times/NNS NX) because/IN maybe/RB in/IN (NX some/DT animals/NNS NX) (NX there/EX NX) (VX are/VBP less/RBR VX) (NX coral/JJ NX) (VX bleaching/VBG VX) ./.\n",
        "(NX which/WDT NX) (VX may/MD cause/VB less/RBR VX) (NX coral/JJ NX) (VX bleaching/VBG so/RB VX) (NX I/PRP NX) (VX think/VBP VX) this/DT (VX happens/VBZ VX) because/IN (NX there/EX NX) (VX might/MD be/VB VX) (NX a/DT lot/NN NX) of/IN (NX coral/JJ NX) (VX bleaching/VBG VX) in/IN (NX one/CD ocean/NN NX) and/CC a/DT (NX little/JJ coral/JJ NX) (VX bleaching/VBG VX) in/IN (NX another/DT ocean/NN NX) (NX which/WDT NX) (VX might/MD cause/VB VX) (NX it/PRP NX) to/TO (VX be/VB VX) in/IN (NX rates/NNS NX) of/IN (NX different/JJ times/NNS NX) ./.\n",
        "or/CC (NX it/PRP NX) (VX might/MD be/VB VX) that/IN in/IN (NX some/DT oceans/NNS NX) (NX the/DT water/NN NX) (VX may/MD not/RB have/VB VX) (NX those/DT animals/NNS NX) (NX that/WDT NX) (VX cause/VBP VX) (NX coral/JJ NX) (VX bleaching/VBG VX) ./.\n",
        "(NX i/NN NX) (VX think/VBP VX) (NX coral/JJ NX) (VX bleaching/VBG is/VBZ VX) like/IN (VX changing/VBG VX) (NX one/CD color/NN NX) to/TO (VX white/VB VX) ./.\n",
        "(NX every/DT color/NN NX) (VX turns/VBZ VX) (NX white/JJ NX) with/IN (NX bleach/NN NX) but/CC (NX I/PRP NX) (VX am/VBP not/RB VX) (NX sure/JJ NX) about/IN (NX coral/JJ NX) (VX bleaching/VBG VX) ./.\n",
        "(NX i/NN NX) (VX think/VBP VX) (NX it/PRP NX) (VX is/VBZ VX) the/DT (NX same/JJ NX) just/RB that/IN (NX coral/JJ NX) (VX bleaching/VBG happens/VBZ VX) in/IN (NX oceans/NNS NX) ./.\n",
        "and/CC in/IN (NX one/CD NX) of/IN (NX the/DT graphs/NNS NX) in/IN (NX 0000/CD NX) (NX there/EX NX) (VX was/VBD caused/VBN VX) (NX a/DT lot/NN NX) of/IN (NX coral/JJ NX) (VX bleaching/VBG VX) ./."
       ]
      },
      {
       "output_type": "stream",
       "stream": "stdout",
       "text": [
        "\n",
        "and/CC the/DT (NX coral/JJ NX) (VX bleaching/VBG was/VBD VX) at/IN (NX different/JJ dates/NNS NX) so/RB (NX that/WDT NX) (VX is/VBZ why/WRB VX) (NX coral/JJ NX) (VX bleaching/VBG is/VBZ caused/VBN VX) in/IN (NX different/JJ times/NNS NX) and/CC (NX what/WP NX) (VX is/VBZ VX) (NX it/PRP NX) (VX made/VBD VX) out/IN of/IN ./.\n",
        "(NX coral/JJ NX) (VX bleaching/VBG is/VBZ very/RB VX) (NX different/JJ NX) because/IN (NX there/EX NX) (VX are/VBP VX) (NX higher/JJR waves/NNS and/CC week/NN waters/NNS NX) ./.\n",
        "for/IN (NX example/NN NX) in/IN (NX the/DT year/NN 0000/CD NX) (NX there/EX NX) where/WRB (NX more/JJR weaker/JJR waves/NNS NX) than/IN (NX higher/JJR waves/NNS NX) ./.\n",
        "(NX upwelling/NN NX) in/IN (NX the/DT eastern/JJ pacific/JJ causes/NNS NX) (VX surface/VBP VX) (NX waters/NNS NX) to/TO (VX be/VB VX) (NX colder/JJR NX) than/IN (NX those/DT in/NN NX) the/DT (NX western/JJ pacific/JJ NX) ./.\n",
        "(NX the/DT reason/NN NX) why/WRB (NX I/PRP NX) (VX picked/VBD VX) (NX this/DT quote/NN NX) (VX was/VBD VX) because/IN in/IN (NX the/DT eastern/JJ pacific/JJ causes/NNS NX) (NX the/DT water/NN NX) to/TO (VX be/VB VX) (NX colder/JJR NX) than/IN in/IN the/DT (NX western/JJ pacific/JJ NX) ./.\n",
        "(NX a/DT other/JJ reason/NN NX) why/WRB (NX I/PRP NX) (VX picked/VBD VX) (NX this/DT quote/NN NX) (VX was/VBD VX) because/IN (NX it/PRP NX) (VX proves/VBZ VX) that/IN (NX there/EX NX) (VX are/VBP VX) (NX different/JJ water/NN waters/NNS NX) ./.\n",
        "at/IN (NX the/DT year/NN 0000/CD NX) (VX was/VBD VX) the/DT (NX highest/RBS severe/JJ coral/JJ NX) (VX bleaching/VBG VX) ./.\n",
        "(NX the/DT bar/NN NX) (VX is/VBZ VX) up/IN to/TO (NX 00/CD NX) or/CC around/IN there/RB ./.\n",
        "but/CC that/DT (VX was/VBD VX) the/DT (NX highest/RBS severe/JJ NX) in/IN (NX 0000/CD NX) (NX we/PRP NX) (VX havent/VBP had/VBD VX) any/DT (NX other/JJ severe/JJ NX) as/IN (NX 0000/CD NX) there/RB not/RB up/IN to/TO (NX 00/CD NX) ./.\n",
        "the/DT (NX average/JJ NX) (VX would/MD be/VB VX) around/IN (NX the/DT 20s/CD NX) to/TO (NX the/DT 30s/CD NX) but/CC not/RB (NX anything/NN NX) (NX higher/JJR NX) than/IN (NX the/DT 30s/CD NX) ./."
       ]
      },
      {
       "output_type": "stream",
       "stream": "stdout",
       "text": [
        "\n",
        "(NX it/PRP NX) (NX still/RB severe/JJ NX) but/CC not/RB as/IN (NX the/DT year/NN 0000/CD NX) ./.\n",
        "(NX coral/NN NX) (VX is/VBZ often/RB mistaken/VBN VX) for/IN (NX a/DT rock/NN or/CC plant/NN NX) ./.\n",
        "but/CC (NX it/PRP NX) (VX really/RB made/VBN VX) out/IN of/IN (NX tiny/JJ animals/NNS NX) (VX called/VBN VX) (NX polyps/NNS NX) ./.\n",
        "(NX the/DT reason/NN NX) why/WRB (NX I/PRP NX) (VX picked/VBD VX) (NX this/DT quote/NN NX) (VX is/VBZ VX) because/IN (NX it/PRP NX) (VX tells/VBZ VX) (NX you/PRP NX) (NX what/WP NX) (NX it/PRP NX) (VX made/VBD VX) out/IN of/IN ./.\n",
        "also/RB because/IN (NX it/PRP NX) (VX tells/VBZ VX) (NX you/PRP NX) (NX what/WP NX) (NX they/PRP NX) (NX mistake/NN NX) (NX it/PRP NX) for/IN ./.\n",
        "lastly/RB ,/, (NX I/PRP NX) (VX say/VBP where/WRB VX) (NX sunscreen/NN NX) because/IN (NX it/PRP NX) (VX could/MD give/VB VX) (NX you/PRP NX) (NX skin/NN cancer/NN NX) ./.\n",
        "(NX coral/JJ NX) (VX bleaching/VBG VX) (NX changes/NNS different/JJ times/NNS NX) in/IN (NX each/DT year/NN NX) (NX my/PRP$ evidence/NN NX) (VX is/VBZ VX) on/IN (NX the/DT page/NN 0/CD NX) ./.\n",
        "(NX it/PRP NX) (VX said/VBD VX) that/IN during/IN (NX the/DT years/NNS NX) (NX this/DT infection/NN NX) (VX happens/VBZ VX) ./.\n",
        "(NX it/PRP NX) (VX is/VBZ called/VBN VX) (NX coral/JJ NX) (VX bleaching/VBG VX) (NX which/WDT NX) (VX is/VBZ VX) (NX a/DT water/NN problem/NN NX) (NX which/WDT NX) (VX is/VBZ VX) (NX a/DT kind/NN NX) of/IN (NX problem/NN NX) (NX that/WDT NX) (VX will/MD give/VB VX) (NX you/PRP NX) (NX a/DT cause/NN NX) of/IN (NX death/NN NX) when/WRB the/DT (NX coral/JJ NX) (VX bleaching/VBG come/VB VX) during/IN (NX the/DT year/NN NX) ./.\n",
        "and/CC because/IN of/IN (NX coral/JJ NX) (VX bleaching/VBG VX) (NX the/DT water/NN NX) (VX gets/VBZ VX) (NX colder/JJR NX) and/CC (NX hotter/JJR NX) ./.\n",
        "(NX my/PRP$ evidence/NN NX) (VX is/VBZ VX) on/IN (NX page/NN 0/CD NX) in/IN (NX the/DT little/JJ picture/NN NX) with/IN (NX the/DT little/JJ arrows/NNS NX) (NX that/WDT NX) (VX are/VBP VX) (NX color/NN NX) (NX red/JJ NX) and/CC (NX blue/JJ NX) ./.\n",
        "(NX red/NN NX) (VX means/VBZ VX) (NX hot/JJ and/CC blue/NN NX) (VX means/VBZ VX) (NX cold/JJ NX) ./."
       ]
      },
      {
       "output_type": "stream",
       "stream": "stdout",
       "text": [
        "\n",
        "(NX i/NN NX) (VX got/VBD VX) that/IN also/RB on/IN (NX page/NN 0/CD NX) ./.\n",
        "(NX coral/JJ NX) (VX bleaching/VBG happens/VBZ VX) at/IN (NX different/JJ times/NNS NX) because/IN (NX rain/NN NX) (VX can/MD cause/VB VX) (NX coral/JJ NX) (VX bleaching/VBG VX) ./.\n",
        "its/PRP$ (VX not/RB going/VBG to/TO rain/VB VX) on/IN (NX the/DT same/JJ day/NN NX) (NX every/DT year/NN NX) ./.\n",
        "(NX this/DT drop/NN NX) in/IN (NX salinity/NN NX) (VX threatens/VBZ VX) (NX the/DT balance/NN NX) (NX necessary/JJ NX) to/TO (VX keep/VB VX) (NX the/DT corals/NNS NX) (NX healthy/JJ NX) ./.\n",
        "this/DT (VX is/VBZ VX) (NX a/DT good/JJ quote/NN NX) because/IN (NX it/PRP NX) (VX proved/VBD VX) (NX that/DT rain/NN NX) (VX can/MD damage/VB VX) the/DT (NX coral/JJ NX) and/CC that/IN (NX what/WP NX) (NX I/PRP NX) (VX said/VBD so/RB VX) (NX I/PRP NX) (VX proved/VBD VX) (NX it/PRP NX) ./.\n",
        "(NX coral/JJ NX) (VX bleaching/VBG happens/VBZ VX) at/IN (NX different/JJ times/NNS NX) because/IN almost/RB (NX every/DT day/NN NX) (NX there/EX NX) (VX is/VBZ VX) (NX a/DT different/JJ speed/NN NX) of/IN (NX wind/NN NX) ./.\n",
        "for/IN (NX example/NN NX) (NX the/DT wind/NN NX) (VX is/VBZ not/RB going/VBG to/TO be/VB VX) the/DT (NX same/JJ everyday/JJ NX) ./.\n",
        "(NX every/DT few/JJ years/NNS ,/, trade/NN winds/NNS NX) (VX change/VBP VX) ./.\n",
        "(NX that/WDT NX) (VX was/VBD VX) (NX a/DT good/JJ quote/NN NX) because/IN (NX I/PRP NX) (VX proved/VBD VX) that/IN (NX winds/NNS NX) (VX dont/VBP stay/VB VX) the/DT (NX same/JJ NX) like/IN (NX I/PRP NX) (VX said/VBD VX) ./.\n",
        "(NX coral/JJ NX) (VX bleaching/VBG happens/VBZ VX) at/IN (NX different/JJ times/NNS NX) because/IN of/IN (NX their/PRP$ color/NN NX) ./.\n",
        "for/IN (NX example/NN NX) (NX some/DT coral/NN NX) (VX gets/VBZ damaged/VBN quicker/RBR then/RB VX) some/DT so/RB some/DT (NX coral/JJ NX) (VX will/MD last/VB VX) or/CC (VX live/VB longer/RB VX) ./.\n",
        "(NX coral/JJ NX) (VX can/MD survive/VB VX) (NX damage/NN NX) from/IN (NX some/DT destructive/JJ things/NNS NX) ./.\n",
        "that/IN (NX a/DT good/JJ quote/NN NX) because/IN some/DT (VX can/MD survive/VB VX) (NX damage/NN NX) and/CC (NX some/DT cant/NN NX) like/IN (NX I/PRP NX) (VX said/VBD so/RB VX) (NX I/PRP NX) (VX proved/VBD VX) (NX that/DT iam/NN NX) (NX correct/JJ NX) ./."
       ]
      },
      {
       "output_type": "stream",
       "stream": "stdout",
       "text": [
        "\n",
        "?/.\n",
        "(NX there/EX NX) (VX are/VBP VX) (NX a/DT few/JJ reasons/NNS NX) on/IN why/WRB (NX coral/JJ NX) (VX bleaching/VBG VX) (NX rates/NNS NX) (VX vary/VBP VX) at/IN (NX different/JJ times/NNS NX) ./.\n",
        "(NX one/CD NX) of/IN (NX them/PRP NX) (VX is/VBZ VX) because/IN of/IN (NX the/DT winds/NNS NX) ./.\n",
        "another/DT (VX is/VBZ VX) because/IN (NX there/EX NX) (VX might/MD be/VB VX) (NX special/JJ events/NNS NX) ./.\n",
        "finally/RB (NX the/DT oceans/NNS salinity/NN NX) ./.\n",
        "(NX these/DT three/CD things/NNS NX) (VX can/MD cause/VB bleaching/VBG to/TO vary/VB VX) ./.\n",
        "(NX the/DT winds/NNS NX) (VX can/MD cause/VB bleaching/VBG to/TO vary/VB VX) ./.\n",
        "in/IN (NX specific/JJ detail/NN NX) the/DT (VX shifting/VBG VX) (NX trade/NN winds/NNS NX) ./.\n",
        "(NX they/PRP NX) (VX can/MD cause/VB VX) (NX water/NN temperatures/NNS NX) to/TO (VX go/VB VX) up/IN and/CC down/RB ./.\n",
        "(VX also/RB depending/VBG VX) on/IN (NX the/DT trade/NN NX) (NX the/DT corals/NNS NX) (VX will/MD be/VB effected/VBN VX) ./.\n",
        "also/RB (NX there/EX NX) (VX might/MD be/VB VX) (NX events/NNS NX) (NX that/WDT NX) (VX take/VBP VX) (NX place/NN NX) in/IN (NX the/DT ocean/NN NX) ./.\n",
        "(NX anything/NN NX) that/IN from/IN (NX fishing/NN NX) to/TO (NX explosives/NNS NX) ./.\n",
        "(NX those/DT items/NNS or/CC things/NNS NX) (VX can/MD damage/VB VX) (NX coral/JJ reefs/NNS NX) and/CC (VX can/MD possibly/RB start/VB bleaching/VBG VX) ./.\n",
        "sometimes/RB (NX they/PRP NX) (VX recover/VBP VX) though/IN ./.\n",
        "finally/RB (NX the/DT oceans/NNS salinity/NN NX) ./.\n",
        "(NX the/DT salinity/NN NX) (VX can/MD change/VB VX) in/IN (NX shallow/JJ oceans/NNS NX) ./.\n",
        "(NX the/DT coral/NN NX) (VX is/VBZ VX) (NX sensitive/JJ NX) to/TO (NX salinity/NN NX) ./."
       ]
      },
      {
       "output_type": "stream",
       "stream": "stdout",
       "text": [
        "\n",
        "(NX storms/NNS and/CC other/JJ possible/JJ events/NNS NX) (VX bring/VBP VX) (NX freshwater/JJR NX) to/TO (NX the/DT saltwater/NN NX) ./.\n",
        "(NX the/DT salinity/NN NX) (VX drops/VBZ VX) and/CC (NX it/PRP NX) (VX effects/VBZ VX) the/DT (NX coral/JJ NX) ./.\n",
        "(NX the/DT coral/NN NX) (VX becomes/VBZ VX) (NX unbalanced/JJ NX) and/CC (VX could/MD die/VB VX) ./.\n",
        "in/IN (NX conclusions/NNS NX) (NX there/EX NX) (VX were/VBD VX) (NX a/DT few/JJ reasons/NNS NX) ./.\n",
        "(NX one/CD NX) (VX was/VBD VX) because/IN of/IN (NX winds/NNS NX) ./.\n",
        "another/DT (VX was/VBD VX) because/IN of/IN (NX special/JJ events/NNS NX) in/IN (NX the/DT ocean/NN NX) ./.\n",
        "finally/RB (NX storms/NNS NX) (VX affect/VBP VX) (NX them/PRP NX) ./.\n",
        "(NX cause/NN NX) (NX coral/JJ NX) (VX bleaching/VBG VX) (NX changes/NNS NX) by/IN how/WRB (NX many/JJ degrees/NNS NX) ./.\n",
        "and/CC at/IN (NX some/DT years/NNS NX) (NX the/DT temperature/NN changes/NNS NX) and/CC then/RB some/DT (NX loose/JJ NX) (NX there/EX NX) (NX color/NN NX) and/CC so/RB (NX they/PRP NX) (VX end/VBP VX) up/IN (VX being/VBG VX) (NX bleached/JJ NX) so/RB (NX they/PRP NX) (VX turn/VBP VX) (NX white/JJ NX) ./.\n",
        "then/RB when/WRB (NX the/DT wind/NN NX) (VX is/VBZ moving/VBG VX) (NX the/DT water/NN NX) (NX they/PRP NX) (VX end/VBP VX) up/IN (VX shifting/VBG VX) to/TO (NX different/JJ areas/NNS NX) and/CC that/IN how/WRB (NX they/PRP NX) (VX are/VBP VX) (NX different/JJ NX) at/IN (NX times/NNS NX) ./.\n",
        "and/CC (NX it/PRP NX) (VX happen/VBP probably/RB happens/VBZ VX) in/IN (NX each/DT year/NN NX) ./.\n",
        "and/CC (NX some/DT years/NNS NX) (NX the/DT temperature/NN NX) (VX gets/VBZ VX) a/DT (NX little/RB higher/JJR NX) than/IN (NX the/DT other/JJ years/NNS NX) ./.\n",
        "(NX the/DT rates/NNS NX) (VX are/VBP VX) (NX a/DT different/JJ time/NN NX) by/IN how/WRB (NX it/PRP NX) (VX goes/VBZ VX) ./.\n",
        "(NX pacific/JJ travels/NNS NX) (NX east/JJ NX) to/TO (NX west/NN NX) ./.\n",
        "so/RB (NX it/PRP NX) (VX goes/VBZ VX) to/TO (NX different/JJ directions/NNS NX) ./.\n",
        "(NX every/DT years/NNS NX) (VX trade/VBP VX) (NX winds/NNS changes/NNS NX) ./.\n",
        "(NX some/DT text/NN evidence/NN NX) (VX is/VBZ VX) (NX the/DT trade/NN winds/NNS NX) (VX weaken/VBP VX) or/CC (VX reverse/VB VX) (NX direction/NN NX) completely/RB to/TO (VX blow/VB VX) of/IN (NX west/NN NX) to/TO (NX east/JJ NX) ./."
       ]
      },
      {
       "output_type": "stream",
       "stream": "stdout",
       "text": [
        "\n",
        "(NX some/DT more/JJR evidence/NN NX) from/IN (NX the/DT text/NN NX) (VX is/VBZ VX) that/IN (NX the/DT event/NN NX) (VX occurred/VBD VX) in/IN (NX 0000/CD NX) ./.\n",
        "(NX it/PRP NX) (VX also/RB changes/VBZ VX) (NX different/JJ times/NNS NX) by/IN how/WRB fast/RP (NX the/DT winds/NNS NX) (VX goes/VBZ VX) and/CC (NX what/WP NX) (NX direction/NN NX) ./.\n",
        "(NX another/DT thing/NN NX) (VX is/VBZ VX) by/IN (NX what/WP NX) (NX direction/NN NX) (NX it/PRP NX) (VX goes/VBZ VX) ./.\n",
        "its/PRP$ (NX these/DT animals/NNS NX) (NX that/WDT NX) (VX live/VBP VX) in/IN (NX colonies/NNS NX) and/CC (VX tend/VBP to/TO stay/VB VX) in/IN (NX one/CD place/NN NX) ./.\n",
        "in/IN the/DT (NX east/JJ NX) as/IN (NX temperature/NN NX) (VX increases/VBZ VX) (NX the/DT water/NN swells/NNS NX) so/RB (NX its/PRP$ saying/NN NX) if/IN (NX it/PRP NX) (VX increases/VBZ VX) the/DT (NX more/JJR bigger/JJR NX) (NX the/DT swells/NNS NX) (VX get/VBP VX) ./.\n",
        "(NX coral/JJ NX) (VX bleaching/VBG VX) (NX rates/NNS NX) at/IN (NX different/JJ time/NN NX) by/IN how/WRB (NX its/PRP$ different/JJ water/NN NX) ./.\n",
        "its/PRP$ (NX different/JJ NX) by/IN how/WRB or/CC (NX what/WP NX) (NX direction/NN NX) (NX it/PRP NX) (VX goes/VBZ VX) ./.\n",
        "also/RB by/IN how/WRB (NX sea/NN level/NN NX) (NX it/PRP NX) (VX goes/VBZ VX) ./.\n",
        "that/IN how/WRB (NX coral/JJ NX) (VX bleaching/VBG is/VBZ VX) (NX different/JJ times/NNS NX) ./.\n",
        "its/PRP$ (VX really/RB made/VBN VX) up/IN of/IN (NX tiny/JJ animals/NNS NX) (VX called/VBN VX) (NX polyps/NNS NX) ./.\n",
        "(NX these/DT animals/NNS NX) (VX live/VBP VX) in/IN (NX the/DT ocean/NN NX) ./.\n",
        "(NX storms/NNS NX) (NX that/WDT NX) (VX bring/VBP VX) (NX a/DT lot/NN NX) of/IN (NX rainfall/NN NX) like/IN (NX hurricanes/NNS or/CC tropical/JJ storms/NNS NX) ./.\n",
        "(NX coral/JJ NX) (VX bleaching/VBG rates/VBZ VX) (NX a/DT different/JJ time/NN NX) because/IN of/IN (NX trade/NN winds/NNS NX) ./.\n",
        "almost/RB (NX every/DT year/NN trade/NN wind/NN NX) (NX lower/JJR NX) (NX their/PRP$ strengths/NNS NX) ./."
       ]
      },
      {
       "output_type": "stream",
       "stream": "stdout",
       "text": [
        "\n",
        "(NX coral/JJ NX) (VX bleaching/VBG is/VBZ VX) (NX something/NN NX) (NX that/DT cause/NN NX) (NX coral/JJ NX) to/TO (VX go/VB VX) (NX plain/JJ white/JJ NX) ./.\n",
        "(NX coral/JJ NX) (VX bleaching/VBG happens/VBZ most/RBS often/RB VX) in/IN (NX the/DT pacific/JJ ocean/NN NX) ./.\n",
        "(NX sometimes/RB coral/JJ NX) (VX can/MD survive/VB VX) from/IN (NX some/DT destructive/JJ thing/NN NX) ./.\n",
        "for/IN (NX example/NN NX) (NX they/PRP NX) (VX can/MD survive/VB VX) from/IN (NX an/DT underwater/JJ mine/NN NX) ./.\n",
        "most/RBS (NX bombs/NNS NX) (VX dont/VBP do/VBP affect/VB VX) in/IN (NX the/DT water/NN NX) ./.\n",
        "(NX but/CC fore/NN NX) (NX some/DT reason/NN fisherman/NN or/CC other/JJ people/NNS NX) (VX plant/VBP VX) (NX these/DT mines/NNS NX) in/IN (NX the/DT water/NN NX) ./.\n",
        "(NX there/EX NX) (VX was/VBD VX) (NX a/DT huge/JJ coral/JJ bleaching/VBG event/NN NX) (NX that/WDT NX) (VX happened/VBD VX) in/IN (NX 0000/CD NX) ./.\n",
        "(NX it/PRP NX) (VX was/VBD VX) (NX one/CD NX) of/IN the/DT (NX worst/RBS coral/JJ NX) (VX bleaching/VBG VX) ./.\n",
        "?/.\n",
        "(NX first/JJ NX) ,/, (NX coral/JJ NX) (VX bleaching/VBG VX) (VX can/MD be/VB caused/VBN VX) by/IN (NX little/JJ tiny/JJ animals/NNS NX) (VX eating/VBG VX) (NX sugar/NN NX) from/IN (NX coral/JJ NX) and/CC (NX the/DT coral/NN NX) (VX turns/VBZ VX) (NX white/JJ NX) (VX losing/VBG VX) (NX its/PRP$ color/NN NX) ,/, (NX it/PRP NX) (VX might/MD dye/VB VX) ./.\n",
        "(NX second/JJ ,/, zooxantallae/NN NX) (VX live/VB VX) in/IN (NX coral/JJ tissues/NNS and/CC need/NN light/NN NX) to/TO (VX make/VB VX) (NX food/NN NX) ./.\n",
        "during/IN (VX when/WRB doing/VBG VX) (NX photosynthesis/NN NX) (NX the/DT algae/NNS NX) (VX use/VBP VX) (NX energy/NN NX) from/IN (NX sunlight/NN NX) to/TO (VX combine/VB VX) (NX co2/CD NX) in/IN (NX h2o/CD NX) ./.\n",
        "so/RB ,/, (NX the/DT coral/NN NX) (VX gets/VBZ VX) (NX more/JJR energy/NN NX) ./.\n",
        "(NX third/JJ ,/, corals/NNS NX) (VX are/VBP VX) (NX sensitive/JJ NX) ./."
       ]
      },
      {
       "output_type": "stream",
       "stream": "stdout",
       "text": [
        "\n",
        "(NX it/PRP NX) (VX tells/VBZ VX) (NX the/DT scientist/NN NX) when/WRB (NX the/DT water/NN NX) (VX is/VBZ too/RB VX) (NX salty/JJ NX) ./.\n",
        "when/WRB (NX storms/NNS NX) (VX come/VBP VX) ,/, (NX it/PRP NX) (VX brings/VBZ VX) (NX a/DT lot/NN NX) of/IN (NX rain/NN NX) ./.\n",
        "then/RB ,/, (NX they/PRP NX) (VX bring/VBP VX) (NX fresh/JJ water/NN NX) ./.\n",
        "(NX the/DT drop/NN salinity/NN NX) (VX threatens/VBZ VX) (NX the/DT balance/NN NX) (NX necessary/JJ NX) to/TO (VX keep/VB VX) (NX corals/NNS NX) (NX healthy/JJ NX) ./.\n",
        "forth/RB (NX ,/, zooxanthallae/NN cant/NN NX) (VX live/VB VX) outside/IN of/IN (NX coral/JJ body/NN NX) because/IN (NX there/EX NX) (VX is/VBZ not/RB VX) (NX enough/JJ nutrients/NNS NX) in/IN (NX the/DT tropical/JJ ocean/NN NX) to/TO (VX allow/VB VX) (NX photosynthesis/NN NX) ./.\n",
        "(NX fifth/JJ ,/, coral/JJ changes/NNS NX) (VX color/VBP VX) ,/, (NX white/JJ NX) when/WRB (NX the/DT environment/NN NX) of/IN (NX photosynthesis/NN doesnt/NN NX) (VX agree/VB VX) with/IN (NX coral/JJ NX) ./.\n",
        "(NX coral/JJ NX) (VX will/MD have/VB VX) (NX an/DT disease/NN NX) or/CC (VX starve/VB VX) ./.\n",
        "(NX death/NN NX) too/RB ./.\n",
        "(NX sixth/JJ NX) ,/, (VX lastly/RB shifting/VBG VX) (NX trade/NN wind/NN NX) ,/, (VX makes/VBZ VX) (NX the/DT sea/NN level/NN NX) by/IN (NX the/DT surface/NN NX) ./.\n",
        "(NX it/PRP NX) (VX causes/VBZ VX) (NX major/JJ shifts/NNS NX) around/IN (NX the/DT water/NN surface/NN NX) ,/, (NX coral/JJ NX) ./.\n",
        "(NX seventh/JJ ,/, coral/NN NX) (VX is/VBZ VX) (NX beautiful/JJ NX) in/IN (NX many/JJ ways/NNS NX) ./.\n",
        "(NX well/RB coral/JJ NX) (VX bleaching/VBG is/VBZ very/RB VX) (NX different/JJ NX) (NX it/PRP NX) (VX happens/VBZ VX) (NX time/NN NX) to/TO (VX time/VB VX) ./.\n",
        "(NX coral/JJ NX) (VX can/MD be/VB VX) (NX severe/JJ NX) with/IN (NX coral/JJ NX) (VX bleaching/VBG VX) ./.\n",
        "for/IN (NX example/NN NX) in/IN (NX 0000/CD NX) (NX the/DT coral/NN NX) (VX had/VBD VX) (NX a/DT big/JJ rate/NN NX) about/IN (NX 00/CD NX) ./."
       ]
      },
      {
       "output_type": "stream",
       "stream": "stdout",
       "text": [
        "\n",
        "(NX coral/NN NX) (VX is/VBZ actually/RB not/RB plants/VBZ VX) (NX nor/CC rocks/NNS NX) ./.\n",
        "its/PRP$ (VX actually/RB made/VBN VX) of/IN (NX polyps/NNS NX) ./.\n",
        "with/IN (NX coral/JJ NX) (VX bleaching/VBG VX) in/IN (NX the/DT way/NN NX) (NX it/PRP NX) (NX a/DT problem/NN NX) to/TO (NX them/PRP NX) ./.\n",
        "(NX coral/JJ NX) (VX bleaching/VBG VX) (VX can/MD actually/RB affect/VB VX) (NX them/PRP NX) badly/RB ./.\n",
        "(NX a/DT lot/NN NX) of/IN (NX stress/NN NX) on/IN (NX corals/NNS NX) from/IN (NX the/DT environment/NN NX) (VX may/MD force/VB VX) the/DT (NX coral/JJ NX) to/TO (VX eject/VB VX) (NX their/PRP$ food/NN NX) (VX producing/VBG VX) (NX algae/NNS NX) ./.\n",
        "(NX so/JJ corals/NNS NX) (VX can/MD get/VB affected/VBN VX) and/CC (VX comes/VBZ VX) to/TO (NX a/DT product/NN NX) of/IN (NX coral/JJ NX) (VX bleaching/VBG VX) ./.\n",
        "(NX coral/JJ NX) (VX bleaching/VBG is/VBZ very/RB VX) (NX harsh/JJ NX) to/TO (NX coral/JJ NX) ./.\n",
        "(NX it/PRP NX) (VX comes/VBZ VX) (NX time/NN NX) to/TO (VX time/VB when/WRB VX) this/DT (VX happens/VBZ VX) ./.\n",
        "for/IN (NX example/NN NX) in/IN (NX the/DT chart/NN coral/JJ bleaching/VBG wasnt/NN NX) as/IN (NX bad/JJ NX) till/IN (NX 0000/CD NX) (NX that/WDT NX) (VX was/VBD VX) (NX the/DT problem/NN NX) ./.\n",
        "(NX coral/JJ NX) (VX bleaching/VBG VX) (VX can/MD damage/VB VX) (NX coral/JJ very/RB bad/JJ NX) ./.\n",
        "(VX bleaching/VBG makes/VBZ VX) (NX corals/NNS NX) (NX more/RBR likely/JJ NX) to/TO (VX get/VB VX) (NX a/DT disease/NN NX) or/CC (VX starve/VB VX) ./.\n",
        "(NX coral/JJ NX) (VX can/MD survive/VB VX) from/IN (NX destructive/JJ things/NNS NX) but/CC (NX not/RB coral/JJ NX) (VX bleaching/VBG VX) ./.\n",
        "(NX examples/NNS NX) of/IN this/DT (VX include/VBP fishing/VBG using/VBG VX) (NX explosives/NNS and/CC tourists/NNS NX) (NX who/WP NX) (VX drop/VBP VX) (NX anchors/NNS NX) or/CC (VX walk/VB VX) on/IN (NX reefs/NNS NX) ./.\n",
        "but/CC the/DT most/RBS (NX harmful/JJ thing/NN NX) to/TO (NX coral/NN NX) (VX is/VBZ VX) (NX coral/JJ NX) (VX bleaching/VBG VX) ./.\n",
        "(NX time/NN NX) to/TO (VX time/VB VX) (NX coral/JJ NX) (VX somewhat/RB can/MD still/RB get/VB affected/VBN VX) from/IN (NX 0000/CD NX) and/CC so/RB on/IN ./."
       ]
      },
      {
       "output_type": "stream",
       "stream": "stdout",
       "text": [
        "\n",
        "in/IN (NX 0000/CD NX) (NX it/PRP NX) (VX was/VBD probably/RB reaching/VBG VX) (NX higher/JJR NX) and/CC (NX higher/JJR NX) ./.\n",
        "(NX people/NNS NX) (VX dont/VBP leave/VB VX) (NX coral/JJ alone/RB coral/JJ NX) (VX might/MD not/RB exist/VB VX) no/DT (NX more/JJR NX) ./.\n",
        "(NX people/NNS NX) (VX should/MD help/VB VX) (NX coral/JJ NX) in/IN (NX some/DT way/NN NX) ./.\n",
        "or/CC to/TO (VX have/VB VX) (NX an/DT area/NN NX) for/IN (NX coral/JJ NX) only/RB ./.\n",
        "(NX coral/JJ NX) (VX can/MD be/VB very/RB VX) (NX different/JJ NX) through/IN (NX time/NN NX) ./.\n",
        "(NX coral/JJ NX) (VX also/RB faces/VBZ VX) (NX their/PRP$ challenges/NNS NX) ./.\n",
        "(NX coral/JJ NX) (VX can/MD be/VB helped/VBN VX) and/CC (VX not/RB be/VB harmed/VBN VX) ./.\n",
        "(NX people/NNS NX) (VX can/MD help/VB VX) (NX coral/JJ NX) (VX retrace/VB VX) (NX the/DT color/NN NX) back/RB ./.\n",
        "(NX it/PRP NX) (VX would/MD be/VB VX) (NX a/DT better/JJR thing/NN NX) to/TO (VX do/VB VX) ./.\n",
        "(NX coral/JJ NX) (VX bleaching/VBG VX) (NX rates/NNS NX) (VX vary/VBP VX) at/IN (NX different/JJ times/NNS NX) because/IN (NX it/PRP NX) (VX gets/VBZ VX) (NX lesser/JJR NX) ./.\n",
        "(NX coral/JJ NX) (VX bleaching/VBG VX) (NX rates/NNS NX) (VX are/VBP really/RB VX) (NX different/JJ NX) because/IN (NX they/PRP NX) (VX change/VBP VX) on/IN (NX a/DT different/JJ time/NN NX) ./.\n",
        "also/RB on/IN both/DT (NX they/PRP NX) (VX are/VBP VX) (NX different/JJ graphs/NNS NX) ./.\n",
        "(NX they/PRP NX) (VX change/VBP VX) on/IN (NX the/DT year/NN NX) ./.\n",
        "(NX one/CD NX) (VX gets/VBZ VX) by/IN (NX decimal/NN points/NNS and/CC one/CD NX) by/IN (NX a/DT line/NN graph/NN NX) ./.\n",
        "(NX it/PRP NX) (VX changes/VBZ VX) by/IN (NX one/CD year/NN NX) ./.\n",
        "(NX the/DT author/NN NX) (VX shows/VBZ VX) on/IN (NX the/DT two/CD graphs/NNS NX) ./.\n",
        "(NX it/PRP NX) (VX wins/VBZ VX) (NX the/DT first/JJ graph/NN NX) by/IN (NX guest/NN one/CD year/NN NX) ,/, to/TO (NX the/DT other/JJ graph/NN NX) ./.\n",
        "(NX coral/JJ NX) (VX bleaching/VBG VX) (NX rates/NNS NX) (VX vary/VBP VX) at/IN (NX different/JJ times/NNS NX) ./."
       ]
      },
      {
       "output_type": "stream",
       "stream": "stdout",
       "text": [
        "\n",
        "how/WRB (NX I/PRP NX) (VX found/VBD VX) in/IN (NX my/PRP$ answer/NN NX) would/MD by/IN (VX showing/VBG VX) in/IN (NX the/DT graphs/NNS NX) ./.\n",
        "(NX i/NN NX) (VX had/VBD never/RB seen/VBN how/WRB VX) or/CC (NX what/WP NX) (VX is/VBZ VX) (NX coral/JJ NX) (VX bleaching/VBG VX) ?/.\n",
        "but/CC yes/UH (NX they/PRP NX) (VX do/VBP VX) (NX rates/NNS NX) (VX vary/VBP VX) at/IN (NX different/JJ times/NNS NX) ./.\n",
        "(NX the/DT graph/NN NX) (VX are/VBP seen/VBN differently/RB VX) on/IN (NX the/DT graphs/NNS NX) ./.\n",
        "(NX it/PRP NX) (VX has/VBZ VX) (NX the/DT picture/NN NX) (NX different/JJ NX) and/CC (VX had/VBD seen/VBN VX) (NX different/JJ NX) to/TO ./.\n",
        "also/RB (NX it/PRP NX) (VX says/VBZ VX) that/IN the/DT (NX coral/JJ NX) (VX bleaching/VBG has/VBZ stared/VBN VX) at/IN (NX 0000/CD NX) ./.\n",
        "(NX coral/JJ NX) (VX bleaching/VBG VX) (NX rates/NNS NX) (VX vary/VBP VX) at/IN (NX different/JJ times/NNS NX) ./.\n",
        "?/.\n",
        "(NX it/PRP NX) (NX different/JJ NX) because/IN in/IN the/DT (VX beginning/VBG VX) (NX it/PRP NX) (VX said/VBD VX) (NX there/EX NX) (NX different/JJ kind/NN NX) of/IN (NX algae/NNS NX) and/CC that/DT (VX gives/VBZ VX) (NX it/PRP NX) (NX its/PRP$ color/NN NX) ./.\n",
        "however/RB ,/, (NX some/DT coral/JJ have/NN NX) (VX lost/VBN VX) (NX their/PRP$ color/NN NX) and/CC (VX been/VBN VX) (NX bleached/JJ NX) a/DT (NX plain/JJ white/JJ NX) ./.\n",
        "(NX that/WDT NX) (VX means/VBZ VX) (NX the/DT algae/NNS NX) (VX helps/VBZ VX) (NX it/PRP NX) (VX gets/VBZ VX) (NX its/PRP$ color/NN NX) but/CC (NX some/DT have/NN NX) (VX lost/VBN there/RB VX) (NX color/NN NX) that/IN why/WRB (NX there/EX NX) (VX called/VBN VX) (NX coral/JJ NX) (VX bleaching/VBG VX) ./.\n",
        "(NX coral/JJ bleach/NN NX) its/PRP$ in/IN (NX the/DT pacific/JJ ocean/NN NX) and/CC (NX it/PRP NX) (VX covers/VBZ VX) (NX 0/CD 0/CD NX) of/IN (NX it/PRP NX) ./.\n",
        "(NX zooxanthallae/NN and/CC coral/JJ bleach/NN NX) (VX are/VBP almost/RB VX) the/DT (NX same/JJ NX) ./.\n",
        "(NX coral/JJ NX) (VX bleaching/VBG has/VBZ VX) (NX different/JJ rates/NNS NX) because/IN if/IN (NX weaker/JJR trade/NN winds/NNS and/CC higher/JJR water/NN temps/NNS NX) the/DT (NX coral/JJ NX) (VX bleaching/VBG get/VB VX) (NX a/DT higher/JJR rating/NN NX) ./."
       ]
      },
      {
       "output_type": "stream",
       "stream": "stdout",
       "text": [
        "\n",
        "if/IN only/RB the/DT (NX the/DT water/NN temps/NNS NX) (VX is/VBZ VX) (NX high/JJ NX) (NX it/PRP NX) (VX will/MD have/VB less/RBR VX) (NX coral/JJ NX) (VX bleaching/VBG VX) ./.\n",
        "(NX those/DT 0/CD things/NNS NX) (NX which/WDT NX) (VX is/VBZ VX) (NX trade/NN winds/NNS and/CC water/NN temps/NNS NX) (NX they/PRP NX) (NX both/DT need/NN NX) to/TO (VX be/VB VX) (NX high/JJ NX) to/TO (VX get/VB VX) (NX a/DT better/JJR rating/NN NX) ./.\n",
        "when/WRB (NX there/EX NX) (NX both/DT have/NN high/JJ rates/NNS NX) (NX they/PRP NX) (VX have/VBP more/RBR VX) (NX coral/JJ NX) ./.\n",
        "here/RB (NX I/PRP NX) (VX will/MD be/VB explaining/VBG why/WRB VX) (NX coral/JJ NX) (VX bleaching/VBG VX) (NX rates/NNS NX) (VX vary/VBP VX) at/IN (NX different/JJ times/NNS NX) ./.\n",
        "(NX i/NN NX) (VX will/MD explaining/VBG how/WRB VX) (NX coral/JJ NX) (VX bleaching/VBG happen/VB VX) at/IN (NX different/JJ times/NNS NX) ./.\n",
        "(NX i/NN NX) (VX will/MD be/VB using/VBG VX) (NX specific/JJ information/NN NX) on/IN why/WRB (NX it/PRP NX) (VX happens/VBZ VX) at/IN (NX different/JJ times/NNS NX) ./.\n",
        "(NX one/CD reason/NN NX) (VX was/VBD VX) because/IN of/IN (NX weaker/JJR trade/NN winds/NNS NX) ./.\n",
        "in/IN (NX the/DT trade/NN winds/NNS NX) and/CC (NX coral/JJ NX) (VX bleaching/VBG VX) (NX page/NN NX) (VX is/VBZ VX) (NX a/DT group/NN NX) where/WRB (NX there/EX NX) (NX weaker/JJR trade/NN winds/NNS more/JJR reports/NNS NX) (VX happen/VBP VX) (/( in/IN (NX the/DT graph/NN NX) beneath/IN )/) ./.\n",
        "so/RB this/DT (VX showed/VBN VX) (NX me/PRP NX) the/DT (NX weaker/JJR NX) (NX the/DT trade/NN NX) (VX winds/VBZ VX) the/DT (NX more/RBR coral/JJ NX) (VX bleaching/VBG VX) ./.\n",
        "(NX so/RB coral/JJ NX) (VX bleaching/VBG happens/VBZ most/RBS when/WRB VX) (NX there/EX NX) (VX is/VBZ VX) (NX weaker/JJR trade/NN winds/NNS NX) ./.\n",
        "(NX another/DT reason/NN NX) for/IN (NX coral/JJ NX) (VX bleaching/VBG is/VBZ VX) (NX the/DT high/JJ water/NN temperature/NN NX) ./.\n",
        "(NX you/PRP NX) (VX can/MD see/VB VX) in/IN (NX 0000/CD NX) (NX the/DT water/NN temp/NN NX) (VX was/VBD VX) at/IN (NX its/PRP$ peak/NN NX) so/RB that/IN why/WRB (NX there/EX NX) (VX was/VBD so/RB VX) (NX many/JJ coral/JJ NX) (VX bleaching/VBG VX) (NX reports/NNS NX) ./."
       ]
      },
      {
       "output_type": "stream",
       "stream": "stdout",
       "text": [
        "\n",
        "so/RB this/DT (VX showed/VBN VX) (NX me/PRP NX) in/IN (NX higher/JJR water/NN temps/NNS NX) (NX there/EX NX) (VX is/VBZ more/RBR VX) (NX coral/JJ NX) (VX bleaching/VBG VX) ./.\n",
        "in/IN (NX conclusion/NN NX) (NX I/PRP NX) (VX think/VBP VX) (NX I/PRP NX) (VX learned/VBN VX) (NX a/DT lot/NN NX) from/IN this/DT !/.\n",
        "(NX the/DT main/JJ things/NNS NX) (NX that/WDT NX) (VX make/VBP VX) (NX coral/JJ NX) (VX bleaching/VBG happen/VB is/VBZ VX) (NX weaker/JJR trade/NN winds/NNS and/CC higher/JJR water/NN temps/NNS NX) ./.\n",
        "these/DT (VX were/VBD VX) (NX the/DT two/CD things/NNS NX) (NX that/WDT NX) (VX cause/VBP VX) (NX coral/JJ NX) (VX bleaching/VBG VX) ./.\n",
        "?/.\n",
        "how/WRB (NX coral/JJ NX) (VX bleaching/VBG VX) (NX rates/NNS NX) (VX vary/VBP VX) at/IN (NX different/JJ times/NNS NX) (VX is/VBZ VX) because/IN of/IN (NX the/DT temperature/NN NX) ./.\n",
        "(NX the/DT temperature/NN NX) (VX is/VBZ supposed/VBN to/TO be/VB VX) (NX 00/CD NX) -/: (NX 00/CD degrees/NNS f/NN NX) ./.\n",
        "if/IN (NX it/PRP NX) (VX is/VBZ not/RB VX) the/DT (NX coral/JJ NX) (VX could/MD die/VB VX) ./.\n",
        "(NX they/PRP NX) (VX also/RB need/VB VX) (NX a/DT lot/NN NX) of/IN (NX algae/NNS NX) to/TO (VX survive/VB VX) ./.\n",
        "if/IN (NX they/PRP NX) (VX dont/VBP VX) (NX they/PRP NX) (VX will/MD bleach/VB VX) ./.\n",
        "(NX they/PRP NX) (VX die/VBP VX) because/IN of/IN (NX the/DT temperature/NN NX) if/IN (NX the/DT sun/NN NX) (VX is/VBZ not/RB VX) out/IN (NX they/PRP NX) (VX die/VBP VX) ./.\n",
        "also/RB (NX the/DT sun/NN NX) (VX provides/VBZ VX) (NX heat/NN NX) ./.\n",
        "how/WRB the/DT (NX coral/JJ NX) (VX bleaching/VBG VX) (NX rates/NNS NX) (VX vary/VBP is/VBZ VX) (NX the/DT fisherman/NN NX) when/WRB (NX they/PRP NX) (VX come/VBP VX) (NX they/PRP NX) (VX spill/VBP VX) (NX oil/NN NX) and/CC (NX the/DT coral/JJ die/NN NX) ./.\n",
        "also/RB (NX they/PRP NX) (VX drop/VBP VX) (NX anchors/NNS NX) on/IN the/DT (NX coral/JJ NX) ./."
       ]
      },
      {
       "output_type": "stream",
       "stream": "stdout",
       "text": [
        "\n",
        "also/RB if/IN (NX they/PRP NX) (VX walk/VBP VX) on/IN (NX the/DT reefs/NNS NX) ./.\n",
        "(NX the/DT coral/NN NX) (VX needs/VBZ VX) (NX algae/NNS NX) to/TO (VX make/VB VX) (NX photosynthesis/NN NX) ./.\n",
        "when/WRB (NX scuba/NN NX) (NX the/DT boats/NNS NX) (VX come/VBP VX) by/IN (NX they/PRP NX) (VX might/MD hit/VBD VX) (NX a/DT reef/NN NX) and/CC (VX explode/VB VX) (NX which/WDT NX) (VX damages/VBZ VX) (NX the/DT reef/NN NX) (NX a/DT lot/NN NX) ./.\n",
        "?/.\n",
        "(NX coral/JJ NX) (VX bleaching/VBG happens/VBZ VX) in/IN (NX different/JJ times/NNS NX) for/IN (NX many/JJ reasons/NNS NX) ./.\n",
        "to/TO (VX start/VB VX) of/IN (NX a/DT coral/NN NX) (VX gets/VBZ VX) (NX its/PRP$ color/NN NX) from/IN (NX the/DT algae/NNS sugar/NN NX) ./.\n",
        "but/CC when/WRB (NX it/PRP NX) (VX doesnt/VBP get/VB enough/RB sugar/VB VX) ,/, (NX it/PRP NX) (VX loses/VBZ VX) (NX color/NN NX) and/CC that/IN (NX coral/JJ NX) (VX bleaching/VBG VX) ./.\n",
        "this/DT (VX can/MD happen/VB VX) at/IN (NX different/JJ rates/NNS NX) ./.\n",
        "for/IN (NX example/NN NX) (NX the/DT algae/NNS NX) (VX needs/VBZ to/TO go/VB VX) through/IN (NX photosynthesis/NN NX) to/TO (VX get/VB VX) (NX sugar/NN NX) for/IN (NX the/DT corals/NNS NX) ./.\n",
        "(NX but/CC certain/JJ years/NNS NX) (VX may/MD not/RB have/VB enough/RB sun/VB VX) (NX light/NN NX) ./.\n",
        "for/IN (NX example/NN one/CD year/NN NX) (VX can/MD have/VB VX) (NX a/DT lot/NN NX) of/IN (NX sun/NN light/NN NX) ./.\n",
        "(NX that/WDT NX) (VX means/VBZ VX) (NX the/DT algae/NNS NX) (VX will/MD make/VB VX) (NX some/DT sugar/NN NX) for/IN (NX the/DT coral/JJ reefs/NNS NX) ./.\n",
        "(NX but/CC other/JJ years/NNS NX) (VX may/MD not/RB have/VB VX) (NX sun/NN light/NN NX) (NX it/PRP NX) (VX could/MD be/VB VX) (NX cloudy/JJ NX) all/DT (NX the/DT time/NN NX) ./.\n",
        "(NX the/DT algae/NNS wont/JJ make/NN sugar/NN NX) and/CC (NX the/DT corals/NNS NX) (NX wont/JJ NX) (VX get/VB VX) (NX its/PRP$ nutrients/NNS NX) and/CC (VX will/MD go/VB VX) through/IN (NX coral/JJ NX) (VX bleaching/VBG VX) ./."
       ]
      },
      {
       "output_type": "stream",
       "stream": "stdout",
       "text": [
        "\n",
        "?/.\n",
        "well/RB why/WRB (NX coral/JJ NX) (VX bleaching/VBG VX) (NX rates/NNS NX) (VX vary/VBP VX) at/IN (NX different/JJ times/NNS NX) (VX is/VBZ VX) because/IN that/DT (NX the/DT winds/NNS NX) (VX move/VBP VX) ./.\n",
        "sometimes/RB (NX the/DT winds/NNS NX) (VX move/VBP to/TO warm/VB VX) (NX surfaces/NNS NX) and/CC sometimes/RB to/TO (VX cold/VB VX) (NX surfaces/NNS water/NN NX) ./.\n",
        "sometimes/RB (NX the/DT water/NN NX) (VX can/MD be/VB VX) (NX colder/JJR NX) and/CC (VX sometimes/RB can/MD be/VB VX) (NX warmer/JJR NX) or/CC (NX hotter/JJR NX) ./.\n",
        "some/DT of/IN (NX these/DT corals/NNS NX) (VX eat/VBP VX) (NX sugars/NNS NX) (VX made/VBN VX) by/IN (NX algae/NNS NX) (NX that/WDT NX) (VX live/VBP VX) in/IN (NX the/DT coral/JJ polyps/NNS NX) ./.\n",
        "(NX the/DT algae/NNS NX) (VX create/VBP VX) (NX sugars/NNS NX) from/IN (NX sunlight/NN NX) by/IN (NX the/DT process/NN NX) of/IN (NX photosynthesis/NN NX) ./.\n",
        "(NX the/DT process/NN NX) (VX requires/VBZ VX) (NX both/DT carbon/NN dioxide/NN and/CC water/NN NX) to/TO (VX make/VB VX) (NX sugars/NNS and/CC release/NN oxygen/NN NX) ./.\n",
        "(NX and/CC different/JJ types/NNS NX) of/IN (NX algae/NNS NX) (VX living/VBG VX) within/IN (NX the/DT coral/JJ polyps/NNS NX) and/CC (NX they/PRP NX) (VX give/VBP VX) (NX there/EX NX) (NX colors/NNS NX) to/TO (NX the/DT corals/NNS NX) ./.\n",
        "(NX the/DT corals/NNS NX) (VX live/VBP VX) in/IN (NX the/DT water/NN NX) in/IN (NX the/DT ocean/NN NX) ./.\n",
        "(NX some/DT corals/NNS NX) (VX can/MD survive/VB VX) at/IN (NX some/DT dangers/NNS destructive/JJ things/NNS NX) like/IN for/IN (NX example/NN anchors/NNS NX) ,/, or/CC (VX walking/VBG VX) on/IN (NX a/DT reef/NN NX) ./.\n",
        "but/CC (NX what/WP NX) (VX kills/VBZ VX) (NX a/DT coral/JJ reef/NN NX) (VX is/VBZ VX) (NX coral/JJ NX) (VX bleaching/VBG VX) because/IN (NX coral/JJ reefs/NNS NX) (VX dont/VBP VX) like/IN (NX coral/JJ NX) (VX bleaching/VBG VX) and/CC (NX it/PRP NX) (VX kills/VBZ VX) (NX them/PRP NX) ./.\n",
        "(NX so/JJ corals/NNS NX) (VX dont/VBP VX) like/IN (NX coral/JJ NX) (VX bleaching/VBG VX) ./."
       ]
      },
      {
       "output_type": "stream",
       "stream": "stdout",
       "text": [
        "\n",
        "(NX the/DT rates/NNS NX) of/IN (NX coral/JJ NX) (VX bleaching/VBG vary/VBP VX) at/IN (NX different/JJ times/NNS NX) because/IN of/IN (NX the/DT water/NN temperature/NN and/CC trade/NN wind/NN strength/NN NX) ./.\n",
        "also/RB how/WRB well/RB by/IN (NX the/DT weaker/JJR trade/NN winds/NNS and/CC higher/JJR temperatures/NNS NX) ./.\n",
        "(NX you/PRP NX) (VX see/VBP VX) if/IN (NX you/PRP NX) (VX read/VBP VX) (NX the/DT things/NNS NX) (NX I/PRP NX) (VX read/VBP VX) ./.\n",
        "(NX you/PRP NX) (VX would/MD understand/VB VX) (NX I/PRP NX) (VX got/VBN VX) (NX my/PRP$ evidence/NN NX) from/IN (NX the/DT fourth/JJ page/NN NX) ./.\n",
        "if/IN (NX you/PRP NX) where/WRB to/TO (VX put/VB VX) (NX it/PRP NX) in/IN (NX order/NN NX) like/IN (NX I/PRP NX) (VX got/VBD VX) (NX it/PRP NX) ./.\n",
        "(NX it/PRP NX) (VX explains/VBZ how/WRB VX) and/CC also/RB why/WRB the/DT (NX coral/JJ NX) (VX bleaching/VBG VX) (NX rates/NNS NX) (VX vary/VBP VX) at/IN (NX different/JJ times/NNS NX) ./.\n",
        "if/IN (NX you/PRP NX) (VX look/VBP VX) at/IN (NX the/DT fourth/JJ page/NN NX) ./.\n",
        "(NX you/PRP NX) (VX can/MD see/VB VX) (NX those/DT graphs/NNS NX) ./.\n",
        "(NX they/PRP NX) (VX are/VBP explaining/VBG VX) (NX the/DT changes/NNS NX) in/IN (NX trade/NN winds/NNS NX) and/CC (NX the/DT water/NN temperature/NN NX) ./.\n",
        "so/RB (NX it/PRP NX) (VX sort/VBP explains/VBZ VX) (NX the/DT whole/JJ idea/NN NX) ./.\n",
        "if/IN (NX you/PRP NX) (VX can/MD look/VB closely/RB VX) (NX the/DT lines/NNS NX) (VX change/VBP VX) ./.\n",
        "(VX also/RB everytime/VBG VX) (NX the/DT lines/NNS NX) (VX change/VBP VX) (NX the/DT coral/JJ bleaching/VBG changes/NNS NX) ./.\n",
        "so/RB the/DT (VX changing/VBG VX) of/IN (NX water/NN temperature/NN and/CC trade/NN wind/NN strengths/NNS NX) (VX affects/VBZ VX) the/DT (NX coral/JJ NX) (VX bleaching/VBG VX) ./.\n",
        "in/IN (NX conclusion/NN NX) (NX the/DT way/NN NX) (NX the/DT trade/NN winds/NNS strength/NN NX) and/CC (NX the/DT water/NN temperature/NN NX) (VX changes/VBZ VX) the/DT (NX coral/JJ NX) (VX bleaching/VBG when/WRB VX) (NX the/DT tradewinds/JJ are/NN NX) (NX weak/JJ NX) and/CC (NX the/DT water/NN temperatures/NNS NX) (VX go/VBP VX) up/IN (NX or/CC increase/NN NX) ./."
       ]
      },
      {
       "output_type": "stream",
       "stream": "stdout",
       "text": [
        "\n",
        "why/WRB and/CC how/WRB (NX coral/JJ NX) (VX bleaching/VBG is/VBZ VX) (NX different/JJ NX) at/IN (NX different/JJ times/NNS NX) (VX is/VBZ probably/RB VX) (NX due/JJ NX) to/TO (NX the/DT lack/NN NX) of/IN (NX population/NN NX) (/( (NX ill/JJ NX) (VX explain/VB VX) )/) and/CC probably/RB because/IN of/IN how/WRB (NX cautious/JJ people/NNS NX) (VX are/VBP VX) or/CC where/WRB back/RB then/RB ./.\n",
        "(NX i/NN NX) (VX got/VBD VX) (NX this/DT info/NN NX) because/IN its/PRP$ (NX logical/JJ NX) and/CC (NX possible/JJ NX) ./.\n",
        "(NX some/DT people/NNS NX) (VX can/MD be/VB VX) (NX lazy/JJ NX) sometimes/RB (NX that/WDT NX) (VX can/MD cause/VB VX) (NX coral/JJ NX) (VX bleaching/VBG VX) ,/, (VX going/VBG VX) along/IN with/IN (NX cautiousness/NN NX) ./.\n",
        "so/RB (NX I/PRP NX) (VX will/MD explain/VB VX) (NX my/PRP$ answers/NNS NX) to/TO (NX this/DT prompt/NN NX) ./.\n",
        "also/RB (NX temperature/NN NX) ./.\n",
        "so/RB (NX one/CD NX) of/IN (NX my/PRP$ responses/NNS NX) (VX was/VBD VX) because/IN of/IN (NX the/DT lack/NN NX) of/IN (NX population/NN NX) ./.\n",
        "(NX the/DT reason/NN NX) (VX being/VBG is/VBZ VX) because/IN (NX I/PRP NX) (VX had/VBD VX) the/DT (VX thought/VBN VX) of/IN (NX more/JJR fisherman/NN or/CC people/NNS NX) (NX that/WDT NX) (VX ride/VBP VX) over/IN (NX reefs/NNS NX) (NX which/WDT NX) (VX could/MD kill/VB VX) (NX or/CC damage/NN NX) (NX coral/JJ NX) ./.\n",
        "(NX i/NN NX) (VX got/VBD VX) this/DT because/IN (NX it/PRP NX) (NX possible/JJ NX) ./.\n",
        "(NX more/JJR people/NNS NX) (NX I/PRP NX) (VX think/VBP VX) will/MD slightly/RB to/TO (VX increase/VB VX) (NX more/JJR fisherman/NN and/CC boats/NNS witch/NN NX) (VX could/MD cause/VB VX) (NX coral/JJ NX) (VX bleaching/VBG VX) ./.\n",
        "so/RB this/DT (VX is/VBZ why/WRB VX) (NX I/PRP NX) (VX think/VBP so/RB VX) ./.\n",
        "(NX population/NN NX) (VX can/MD be/VB VX) (NX one/CD NX) of/IN (NX the/DT many/JJ causes/NNS NX) ./.\n",
        "(NX another/DT one/CD NX) (VX is/VBZ VX) (NX people/NNS NX) (VX being/VBG VX) non/FW (NX cautious/JJ NX) about/IN (NX this/DT situation/NN NX) ./."
       ]
      },
      {
       "output_type": "stream",
       "stream": "stdout",
       "text": [
        "\n",
        "(VX why/WRB is/VBZ VX) because/IN (NX the/DT world/NN NX) (VX is/VBZ so/RB VX) (NX cruel/JJ and/CC many/JJ people/NNS NX) (VX can/MD harm/VB VX) (NX coral/JJ colors/NNS NX) without/IN (VX knowing/VBG VX) (NX it/PRP NX) ./.\n",
        "this/DT (VX is/VBZ VX) (NX harmful/JJ NX) to/TO these/DT and/CC (NX we/PRP NX) (VX want/VBP to/TO preserve/VB VX) ./.\n",
        "so/RB this/DT (VX is/VBZ why/WRB VX) ./.\n",
        "(NX the/DT text/NN NX) (VX uses/VBZ VX) (NX fishermen/NNS NX) ./.\n",
        "and/CC (NX I/PRP NX) (VX think/VBP VX) (NX fisherman/NN NX) (VX is/VBZ VX) (NX one/CD cause/NN NX) ./.\n",
        "well/RB because/IN this/DT (VX is/VBZ VX) (NX man/NN and/CC humans/NNS NX) (VX are/VBP not/RB VX) (NX perfect/JJ NX) ./.\n",
        "(NX the/DT other/JJ reason/NN NX) of/IN (NX temperature/NN NX) (VX is/VBZ VX) because/IN (NX the/DT water/NN NX) (VX can/MD swell/VB VX) ./.\n",
        "as/IN well/RB as/IN (VX shifting/VBG VX) (NX trade/NN winds/NNS NX) ./.\n",
        "so/RB this/DT (VX is/VBZ VX) (NX sort/NN NX) of/IN (VX killing/VBG VX) some/DT (NX coral/JJ NX) ./.\n",
        "(NX the/DT text/NN states/NNS NX) as/IN (NX temperatures/NNS NX) (VX increase/VBP VX) ,/, (NX the/DT water/NN swells/NNS NX) ./.\n",
        "this/DT (VX is/VBZ VX) (NX a/DT natural/JJ weather/NN cause/NN NX) ./.\n",
        "in/IN (NX conclusion/NN NX) ,/, (NX these/DT are/NN NX) (NX the/DT reasons/NNS NX) why/WRB (NX coral/JJ NX) (VX bleaching/VBG occurs/VBZ VX) (NX frequent/JJ NX) over/IN (NX time/NN NX) ./.\n",
        "this/DT (VX is/VBZ how/WRB VX) and/CC why/WRB some/DT of/IN (NX the/DT events/NNS NX) (NX such/JJ NX) as/IN (NX temperature/NN and/CC population/NN NX) ./.\n",
        "as/IN well/RB as/IN (VX being/VBG VX) (NX cautious/JJ NX) ./.\n",
        "(NX coral/JJ NX) (VX bleaching/VBG VX) (NX rates/NNS NX) (VX vary/VBP VX) at/IN (NX different/JJ times/NNS NX) because/IN (NX coral/NN NX) (VX loses/VBZ VX) (NX their/PRP$ color/NN NX) and/CC (VX start/VB to/TO bleach/VB VX) ./.\n",
        "this/DT (VX is/VBZ when/WRB VX) (NX it/PRP NX) (VX is/VBZ called/VBN VX) (NX coral/JJ NX) (VX bleaching/VBG VX) ./.\n",
        "the/DT (VX bleaching/VBG VX) (NX is/NNS NX) (VX do/VBP VX) to/TO (NX the/DT time/NN NX) on/IN how/WRB (NX old/JJ NX) (NX they/PRP NX) (VX are/VBP VX) ./."
       ]
      },
      {
       "output_type": "stream",
       "stream": "stdout",
       "text": [
        "\n",
        "(NX the/DT process/NN NX) of/IN (VX bleaching/VBG requires/VBZ VX) (NX both/DT carbon/NN dioxide/NN and/CC water/NN NX) to/TO (VX make/VB VX) (NX sugars/NNS and/CC release/NN oxygen/NN NX) (VX also/RB called/VBN bleaching/VBG VX) ./.\n",
        "(NX coral/JJ NX) (VX bleaching/VBG is/VBZ when/WRB VX) a/DT (NX coral/JJ NX) (NX its/PRP$ losing/NN NX) (NX its/PRP$ colors/NNS NX) ./.\n",
        "the/DT (VX bleaching/VBG VX) of/IN a/DT (NX coral/JJ NX) (NX it/PRP NX) (VX is/VBZ VX) (NX sad/JJ NX) to/TO (VX watch/VB VX) ./.\n",
        "?/.\n",
        "(NX coral/JJ NX) (VX bleaching/VBG VX) (NX rates/NNS NX) (VX vary/VBP VX) at/IN (NX different/JJ times/NNS NX) because/IN (NX it/PRP NX) (VX depends/VBZ how/WRB fast/RP VX) (NX the/DT wind/NN NX) (VX is/VBZ going/VBG VX) ./.\n",
        "for/IN (NX example/NN NX) (NX it/PRP NX) (VX is/VBZ VX) (NX fall/NN and/CC strong/JJ winds/NNS NX) (VX happen/VBP VX) ./.\n",
        "Common sense violated! Correcting...\n",
        "when/WRB (NX its/PRP$ winter/NN NX) =/SYM (NX more/JJR air/NN and/CC temperatures/NNS NX) in/IN (NX water/NN NX) (VX go/VB VX) (NX higher/JJR NX) ./.\n",
        "(NX it/PRP NX) (VX depends/VBZ VX) in/IN (NX wind/NN and/CC temperature/NN NX) ./.\n",
        "(NX wind/NN NX) (VX goes/VBZ VX) (NX lower/JJR water/NN NX) (VX goes/VBZ VX) (NX higher/JJR NX) ./.\n",
        "(NX winds/NNS NX) (VX go/VBP VX) up/IN (NX and/CC water/NN NX) (VX goes/VBZ down/RB VX) ./.\n",
        "?/.\n",
        "(NX the/DT way/NN NX) that/IN (NX coral/JJ NX) (VX bleaching/VBG VX) (NX rates/NNS NX) (VX vary/VBP VX) at/IN (NX different/JJ times/NNS NX) (VX is/VBZ VX) by/IN ,/, (NX the/DT way/NN NX) that/IN ,/, (NX it/PRP NX) (VX has/VBZ been/VBN discovered/VBN VX) (NX many/JJ different/JJ types/NNS NX) of/IN (NX corals/NNS NX) (VX living/VBG VX) in/IN (NX the/DT ocean/NN NX) ./.\n",
        "(NX they/PRP NX) (VX are/VBP vary/VBP VX) at/IN (NX different/JJ times/NNS NX) because/IN in/IN (NX the/DT text/NN NX) (NX it/PRP NX) (VX states/VBZ VX) that/IN (NX the/DT invertebrate/JJ animals/NNS NX) (VX live/VBP together/RB VX) in/IN (NX colonies/NNS NX) ./."
       ]
      },
      {
       "output_type": "stream",
       "stream": "stdout",
       "text": [
        "\n",
        "(NX they/PRP NX) (VX can/MD vary/VB VX) at/IN (NX different/JJ times/NNS NX) because/IN of/IN (NX the/DT shifting/VBG trade/NN winds/NNS NX) ,/, too/RB ,/, (VX depending/VBG how/WRB VX) (NX the/DT wind/NN NX) (VX is/VBZ going/VBG VX) and/CC to/TO (NX what/WP NX) (NX direction/NN NX) ./.\n",
        "(NX another/DT thing/NN NX) (VX is/VBZ VX) that/IN in/IN (NX the/DT text/NN NX) (NX it/PRP NX) (VX says/VBZ VX) that/IN ,/, (NX coral/JJ NX) (VX bleaching/VBG is/VBZ VX) (NX one/CD example/NN NX) of/IN how/WRB (NX environmental/JJ stresses/NNS NX) (VX can/MD negatively/RB affect/VB VX) (NX the/DT relationship/NN NX) between/IN (NX the/DT coral/JJ and/CC environment/NN NX) ,/, so/RB (NX I/PRP NX) (VX think/VBP VX) that/IN this/DT (VX is/VBZ VX) (NX another/DT reason/NN NX) of/IN why/WRB (NX coral/JJ NX) (VX bleaching/VBG VX) (NX rates/NNS NX) (VX vary/VBP VX) at/IN (NX different/JJ times/NNS NX) ./.\n",
        "(NX coral/JJ NX) (VX bleaching/VBG VX) (VX can/MD vary/VB VX) over/IN (NX different/JJ periods/NNS NX) of/IN (NX times/NNS NX) because/IN (NX there/EX NX) (VX are/VBP VX) (NX many/JJ different/JJ factors/NNS NX) (NX that/WDT NX) (VX contribute/VBP VX) to/TO (NX the/DT bleach/NN NX) ./.\n",
        "(NX there/EX NX) (VX can/MD be/VB VX) (NX temperature/NN change/NN ,/, accident/NN NX) (VX spilled/VBD VX) (NX ,/, anchor/NN NX) (VX drops/VBZ VX) (NX ,/, people/NNS NX) (VX walking/VBG VX) (NX ,/, climate/NN change/NN ,/, and/CC hot/JJ and/CC cold/JJ wings/NNS NX) ./.\n",
        "all/DT of/IN (NX these/DT things/NNS NX) (VX can/MD contribute/VB VX) of/IN (NX the/DT murder/NN NX) of/IN (NX thousands/NNS NX) of/IN (NX zooxanthallae/NN NX) (NX which/WDT NX) (VX is/VBZ VX) (NX a/DT major/JJ organism/NN NX) (NX that/WDT NX) (VX helps/VBZ VX) (NX the/DT coral/JJ polyps/NNS NX) (VX survive/VBP VX) ./.\n",
        "without/IN (NX them/PRP NX) the/DT (NX coral/JJ NX) (VX will/MD keep/VB losing/VBG VX) (NX its/PRP$ color/NN NX) and/CC (VX are/VBP so/RB thats/VB VX) (NX it/PRP NX) its/PRP$ why/WRB (NX zooxanthallae/NN NX) (VX is/VBZ VX) (NX a/DT major/JJ thing/NN NX) to/TO (VX be/VB kept/VBN VX) (NX alive/JJ NX) and/CC (VX surviving/VBG VX) ./."
       ]
      },
      {
       "output_type": "stream",
       "stream": "stdout",
       "text": [
        "\n",
        "(NX that/WDT NX) (VX is/VBZ why/WRB VX) (NX coral/JJ NX) (VX bleaching/VBG VX) (NX rates/NNS NX) (VX differently/RB ever/RB time/VB VX) ./.\n",
        "(NX coral/JJ NX) (VX bleaching/VBG VX) (NX rates/NNS NX) (VX vary/VBP VX) at/IN (NX different/JJ times/NNS NX) by/IN (NX many/JJ reasons/NNS NX) ./.\n",
        "(NX one/CD reason/NN NX) (VX is/VBZ VX) that/IN when/WRB (NX there/EX NX) (NX hurricanes/NNS and/CC tropical/JJ storms/NNS NX) (NX they/PRP NX) (VX bring/VBP VX) (NX fresh/JJ water/NN NX) to/TO (NX salty/JJ water/NN NX) and/CC (VX causes/VBZ VX) (NX the/DT salt/NN levels/NNS NX) of/IN (NX the/DT ocean/NN NX) to/TO (VX decrease/VB VX) and/CC (NX the/DT corals/NNS NX) (VX need/VBP VX) (NX the/DT salt/NN NX) to/TO (VX survive/VB VX) ./.\n",
        "(NX another/DT reason/NN NX) ,/, (NX it/PRP NX) that/IN (NX some/DT destructive/JJ practices/NNS NX) (VX include/VBP VX) (NX blast/NN fishing/NN and/CC tourist/NN NX) (VX dropping/VBG VX) (NX anchors/NNS NX) or/CC (VX walking/VBG VX) on/IN (NX reefs/NNS NX) (VX cause/VBP VX) (NX damage/NN NX) too/RB ./.\n",
        "(NX another/DT reason/NN NX) that/IN (NX causes/NNS NX) (NX coral/JJ NX) (VX bleaching/VBG is/VBZ VX) (NX enviromental/NN stressors/NNS NX) (VX can/MD threaten/VB VX) the/DT (NX coral/JJ NX) and/CC (NX the/DT zooxanthallae/NN algae/NNS NX) ./.\n",
        "(NX the/DT algae/NNS NX) and/CC (NX the/DT coral/JJ need/NN eachother/NN NX) to/TO (VX survive/VB VX) because/IN (NX they/PRP NX) (VX use/VBP eachother/VBG VX) (NX nutrients/NNS NX) to/TO (VX live/VB VX) ./.\n",
        "(NX another/DT reason/NN NX) for/IN (NX coral/JJ NX) (VX bleaching/VBG is/VBZ VX) (NX the/DT death/NN NX) of/IN (NX the/DT zooxanthellae/NN algae/NNS NX) ./.\n",
        "(NX those/DT are/NN NX) all/DT (NX the/DT reasons/NNS NX) why/WRB (NX coral/NN NX) (VX is/VBZ bleaching/VBG VX) ./."
       ]
      },
      {
       "output_type": "stream",
       "stream": "stdout",
       "text": [
        "\n",
        "(NX they/PRP NX) (VX happen/VBP VX) in/IN (NX different/JJ times/NNS NX) because/IN (NX it/PRP NX) all/DT (VX depends/VBZ VX) on/IN (NX the/DT water/NN NX) ./.\n",
        "like/IN (NX the/DT diagram/NN NX) (VX shows/VBZ VX) (NX the/DT water/NN NX) (VX can/MD have/VB VX) (NX high/JJ wind/NN strength/NN or/CC low/JJ wind/NN strength/NN NX) ./.\n",
        "in/IN (NX 0000/CD NX) (NX they/PRP NX) (VX had/VBD VX) (NX the/DT lowest/JJS wind/NN strength/NN NX) so/RB not/RB that/IN (NX many/JJ corals/NNS NX) (VX were/VBD infected/VBN VX) because/IN of/IN (NX the/DT wind/NN NX) ./.\n",
        "when/WRB (NX the/DT water/NN temperature/NN NX) (VX increases/VBZ VX) (NX the/DT carbon/NN dioxide/NN decreases/NNS NX) and/CC because/IN of/IN this/DT (NX the/DT corals/NNS NX) (VX start/VBP to/TO get/VB VX) (VX threatens/VBZ VX) because/IN (NX the/DT carbon/NN dioxide/NN NX) (VX helps/VBZ VX) (NX the/DT coral/JJ stay/NN NX) (NX alive/JJ NX) and/CC (NX healthy/JJ NX) ./.\n",
        "(NX corals/NNS cant/NN NX) (VX be/VB VX) in/IN (NX salty/JJ water/NN NX) because/IN that/DT (VX harms/VBZ VX) (NX them/PRP NX) ./.\n",
        "when/WRB (NX it/PRP NX) (VX rains/VBZ VX) (NX it/PRP NX) (VX helps/VBZ VX) the/DT (NX coral/JJ NX) because/IN (NX the/DT saltyness/NN decreases/NNS NX) ./.\n",
        "the/DT (NX coral/JJ NX) (VX bleaching/VBG is/VBZ VX) (NX important/JJ NX) in/IN (NX different/JJ ways/NNS NX) ./.\n",
        "for/IN (NX example/NN NX) the/DT (NX coral/JJ NX) (VX bleaching/VBG affects/VBZ VX) (NX the/DT pacific/JJ ocean/NN NX) ./.\n",
        "(NX the/DT ocean/NN NX) (VX covers/VBZ VX) about/IN (NX 0/CD 0/CD NX) of/IN (NX the/DT surface/NN NX) of/IN (NX the/DT entire/JJ globe/NN NX) ,/, and/CC (VX contains/VBZ VX) (NX double/JJ NX) (NX the/DT amount/NN NX) of/IN (NX water/NN NX) (VX found/VBD VX) in/IN (NX the/DT atlantic/JJ ocean/NN NX) ./."
       ]
      },
      {
       "output_type": "stream",
       "stream": "stdout",
       "text": [
        "\n",
        "(NX the/DT different/JJ types/NNS NX) of/IN (NX algae/NNS NX) (VX living/VBG VX) within/IN (NX the/DT coral/JJ polyps/NNS NX) (VX give/VBP VX) (NX the/DT corals/NNS NX) (NX their/PRP$ varying/VBG colors/NNS NX) ./.\n",
        "(NX some/DT coral/JJ have/NN NX) (VX been/VBN VX) (NX bleached/JJ NX) a/DT (NX plain/JJ white/JJ NX) ./.\n",
        "of/IN (NX course/NN NX) the/DT (NX coral/JJ NX) (VX bleaching/VBG is/VBZ VX) (NX a/DT phenomenon/NN NX) in/IN (NX which/WDT coral/NN NX) (VX loses/VBZ VX) (NX it/PRP NX) (VX color/VBP VX) ./.\n",
        "(NX but/CC even/JJ events/NNS NX) (VX leading/VBG VX) to/TO (NX coral/JJ NX) (VX bleaching/VBG are/VBP VX) an/DT (NX a/DT series/NN problem/NN NX) with/IN (NX a/DT serious/JJ impact/NN NX) on/IN (NX the/DT world/NN coral/JJ reefs/NNS NX) ./.\n",
        "of/IN (NX course/NN coral/NN NX) (VX is/VBZ often/RB mistaken/VBN VX) for/IN (NX a/DT rock/NN or/CC plant/NN NX) ./.\n",
        "but/CC (NX a/DT coral/JJ polyp/NN NX) (VX has/VBZ VX) (NX a/DT saline/NN body/NN NX) and/CC (NX a/DT mouth/NN NX) (VX surrounded/VBN VX) by/IN (NX stinging/JJ tentacles/NNS NX) ./.\n",
        "(NX but/CC coral/JJ polyps/NNS NX) (VX range/VBP VX) of/IN (NX the/DT in/NN size/NN NX) from/IN (NX tiny/JJ NX) to/TO up/IN to/TO (NX a/DT foot/NN NX) in/IN (NX diameter/NN NX) ./.\n",
        "(NX corals/NNS NX) (VX live/VBP VX) in/IN (NX colonies/NNS NX) (NX that/WDT NX) (VX are/VBP made/VBN VX) up/IN of/IN (NX many/JJ polyps/NNS NX) ./.\n",
        "(NX polyps/NNS NX) (VX use/VBP VX) (NX limestone/NN NX) from/IN (NX seawater/NN NX) to/TO (VX build/VB VX) (NX a/DT hard/JJ skeleton/NN NX) ./.\n",
        "(NX this/DT hard/JJ skeleton/NN NX) (VX protects/VBZ VX) (NX the/DT delicate/JJ body/NN NX) of/IN (NX the/DT polyp/NN NX) ./.\n",
        "but/CC some/DT of/IN (NX the/DT corals/NNS reefs/NNS NX) (VX are/VBP only/RB found/VBN VX) in/IN (NX a/DT clear/JJ ,/, shallow/JJ tropical/JJ waters/NNS NX) ./."
       ]
      },
      {
       "output_type": "stream",
       "stream": "stdout",
       "text": [
        "\n",
        "but/CC (NX it/PRP NX) (VX was/VBD VX) because/IN (NX algae/NNS NX) ,/, (VX called/VBN VX) (NX zooanthellae/NN NX) ,/, (NX that/WDT NX) (VX live/VBP VX) in/IN (NX a/DT coral/JJ tissues/NNS and/CC need/NN light/NN NX) for/IN (NX photosynthesis/NN NX) ./.\n",
        "(NX coral/JJ NX) (VX bleaching/VBG VX) (NX rates/NNS NX) (VX vary/VBP VX) at/IN (NX different/JJ times/NNS NX) because/IN (NX it/PRP NX) (VX depends/VBZ where/WRB VX) (NX the/DT coral/JJ reefs/NNS NX) (VX live/VBP VX) at/IN ./.\n",
        "(NX every/DT few/JJ years/NNS winds/NNS NX) (VX are/VBP altered/VBN VX) ./.\n",
        "this/DT (VX causes/VBZ VX) (NX the/DT trade/NN winds/NNS NX) to/TO (VX weaken/VB VX) or/CC (VX completely/RB change/VB VX) (NX direction/NN NX) ./.\n",
        "also/RB ,/, because/IN in/IN (NX order/NN NX) for/IN (NX corals/NNS NX) to/TO (VX live/VB VX) (NX they/PRP NX) (VX must/MD be/VB VX) in/IN (NX a/DT water/NN temperatures/NNS NX) between/IN (NX 00/CD NX) -/: (NX 00/CD f/NN NX) ./.\n",
        "however/RB ,/, when/WRB (NX surface/NN water/NN shifts/NNS NX) eastward/RB (NX ,/, ocean/NN waters/NNS temperature/NN NX) (VX can/MD increase/VB VX) by/IN (NX 0/CD NX) -/: (NX 0/CD f/NN NX) and/CC in/IN some/DT (VX places/VBZ VX) (NX the/DT water/NN temperature/NN NX) (VX can/MD increase/VB VX) over/IN (NX 00/CD f/NN NX) above/IN (NX the/DT customary/JJ range/NN NX) ./.\n",
        "this/DT (VX is/VBZ not/RB VX) (NX healthy/JJ NX) because/IN if/IN (NX the/DT water/NN temperature/NN increases/NNS NX) (NX too/RB much/JJ NX) ,/, (NX the/DT corals/NNS NX) (VX might/MD be/VB VX) in/IN (NX danger/NN NX) ./.\n",
        "(NX another/DT reason/NN NX) why/WRB (NX coral/JJ NX) (VX bleaching/VBG VX) (NX rates/NNS NX) (VX vary/VBP VX) at/IN (NX different/JJ times/NNS NX) (VX is/VBZ VX) because/IN (NX the/DT process/NN NX) of/IN (NX photosynthesis/NN NX) (VX is/VBZ VX) (NX sensitive/JJ NX) to/TO (NX changes/NNS NX) in/IN (NX water/NN temperature/NN NX) ./.\n",
        "if/IN (NX the/DT water/NN temperature/NN increases/NNS NX) ,/, (NX the/DT solubility/NN NX) of/IN (NX carbon/NN dioxide/NN NX) in/IN (NX water/NN decreases/NNS NX) ./."
       ]
      },
      {
       "output_type": "stream",
       "stream": "stdout",
       "text": [
        "\n",
        "(NX the/DT decrease/NN NX) in/IN (NX carbon/NN dioxide/NN NX) (VX disrupts/VBZ VX) (NX the/DT process/NN NX) of/IN (NX photosynthesis/NN NX) and/CC this/DT (VX will/MD not/RB keep/VB VX) (NX the/DT corals/NNS NX) (NX healthy/JJ NX) ./.\n",
        "finally/RB ,/, (NX coral/JJ NX) (VX bleaching/VBG VX) (NX rates/NNS NX) (VX can/MD happen/VB VX) at/IN (NX different/JJ times/NNS NX) (VX depending/VBG VX) on/IN (NX the/DT zooxanthellae/NN NX) ./.\n",
        "(NX the/DT zooxanthellae/NN NX) (VX has/VBZ VX) (NX a/DT symbiotic/JJ relationship/NN NX) with/IN (NX the/DT corals/NNS NX) so/RB (NX they/PRP NX) (NX both/DT benefit/NN NX) from/IN (NX eachother/NN NX) ./.\n",
        "if/IN (NX the/DT zooxanthallae/NN NX) (VX dies/VBZ VX) ,/, (NX the/DT corals/NNS NX) (VX will/MD bleach/VB VX) and/CC (VX turn/VB VX) (NX white/JJ NX) ./.\n",
        "(VX increased/VBN VX) (NX stress/NN NX) on/IN (NX the/DT corals/NNS NX) from/IN (NX the/DT environment/NN NX) like/IN (NX blast/NN fishing/NN ,/, tourists/NNS NX) (NX who/WP NX) (VX drop/VBP VX) (NX anchors/NNS NX) (VX can/MD cause/VB VX) the/DT (NX coral/JJ NX) to/TO (VX eject/VB VX) (NX the/DT zooxanthallae/NN NX) and/CC then/RB (NX the/DT corals/NNS NX) (VX will/MD bleach/VB VX) and/CC (VX make/VB VX) (NX the/DT corals/NNS NX) (NX diseased/JJ NX) ./.\n",
        "if/IN (NX the/DT coral/NN NX) (VX goes/VBZ VX) for/IN (NX too/RB long/JJ NX) without/IN (NX zooxanthallae/NN NX) ,/, (VX bleaching/VBG VX) (VX can/MD result/VB VX) in/IN (NX death/NN NX) ./.\n",
        "(NX coral/JJ NX) (VX bleaching/VBG VX) (VX can/MD happen/VB VX) at/IN (NX different/JJ times/NNS NX) because/IN (NX the/DT wind/NN and/CC temperature/NN NX) (VX can/MD affect/VB VX) (NX it/PRP NX) ,/, also/RB (NX the/DT food/NN NX) (NX they/PRP NX) (VX eat/VBP VX) like/IN (NX zooxantheallae/NN NX) ./.\n",
        "(NX coral/JJ NX) (VX bleaching/VBG VX) (NX rates/NNS NX) (VX vary/VBP VX) at/IN (NX different/JJ times/NNS NX) because/IN in/IN (NX the/DT text/NN NX) (NX it/PRP NX) (VX states/VBZ VX) that/IN (NX every/DT few/JJ years/NNS ,/, trade/NN winds/NNS NX) (VX are/VBP altered/VBN VX) ./.\n",
        "(NX they/PRP NX) (VX weaken/VBP VX) or/CC (VX reverse/VB VX) (NX direction/NN NX) ./."
       ]
      },
      {
       "output_type": "stream",
       "stream": "stdout",
       "text": [
        "\n",
        "under/IN (NX these/DT circumstances/NNS ,/, warm/JJ surface/NN waters/NNS NX) (VX travel/VBP eastwards/RB VX) ./.\n",
        "(NX this/DT movement/NN NX) (VX causes/VBZ VX) (NX the/DT central/JJ and/CC eastern/JJ pacific/JJ regions/NNS NX) to/TO (VX warm/VB VX) up/IN ./.\n",
        "on/IN (NX the/DT graph/NN NX) (NX it/PRP NX) (VX shows/VBZ VX) that/IN when/WRB (NX the/DT wind/NN NX) (VX weakens/VBZ VX) (NX the/DT temperature/NN NX) (VX rises/VBZ VX) ./.\n",
        "on/IN (NX the/DT other/JJ graph/NN NX) (NX it/PRP NX) (VX shows/VBZ VX) that/IN when/WRB (NX the/DT wind/NN weakend/NN NX) and/CC (NX the/DT temperature/NN NX) (VX rose/VBD VX) ,/, (NX the/DT number/NN NX) of/IN (NX countries/NNS NX) (VX reporting/VBG VX) (NX coral/JJ NX) (VX bleaching/VBG was/VBD VX) (NX high/JJ NX) ./.\n",
        "Common sense violated! Correcting...\n",
        "(NX reef/NN building/NN NX) (NX coral/JJ NX) (VX need/VBP VX) (NX water/NN temperature/NN NX) between/IN (NX 00/CD NX) -/: (NX 00/CD f/NN NX) ./.\n",
        "when/WRB (NX temperature/NN increases/NNS NX) (NX it/PRP NX) (VX threatens/VBZ VX) (NX the/DT health/NN NX) of/IN (NX coral/JJ reefs/NNS salinity/NN NX) (VX also/RB threatens/VBZ VX) (NX their/PRP$ health/NN NX) ./.\n",
        "this/DT (VX happens/VBZ VX) during/IN (NX storms/NNS NX) ./.\n",
        "(NX these/DT are/NN reasons/NNS NX) how/WRB and/CC why/WRB (NX coral/JJ NX) (VX bleaching/VBG VX) (NX rates/NNS NX) (VX vary/VBP VX) at/IN (NX different/JJ times/NNS NX) ./.\n",
        "(NX coral/JJ NX) (VX bleaching/VBG VX) (NX rates/NNS NX) (VX vary/VBP VX) at/IN (NX different/JJ times/NNS NX) (NX due/JJ NX) to/TO (NX the/DT weather/NN NX) ./.\n",
        "(NX also/RB due/JJ NX) to/TO (NX the/DT tourist/NN NX) (NX that/WDT NX) (VX go/VBP VX) ./.\n",
        "(NX so/RB coral/JJ NX) (VX bleaching/VBG VX) (NX isnt/NN NX) always/RB the/DT (NX same/JJ NX) its/PRP$ (NX different/JJ NX) because/IN of/IN (NX the/DT food/NN NX) that/IN (NX they/PRP NX) (VX need/VBP VX) and/CC (NX they/PRP NX) (VX dont/VBP get/VB VX) (NX which/WDT NX) (VX is/VBZ VX) (NX what/WP NX) (VX makes/VBZ VX) (NX it/PRP NX) (NX different/JJ NX) ./.\n",
        "(NX also/RB due/JJ NX) to/TO (NX what/WP NX) (VX is/VBZ making/VBG VX) (NX the/DT coral/JJ bleach/NN NX) (NX that/WDT NX) (VX is/VBZ how/WRB VX) (NX much/JJ NX) (NX the/DT rate/NN NX) (VX will/MD change/VB VX) and/CC (NX wont/JJ NX) (VX be/VB VX) the/DT (NX same/JJ NX) ./."
       ]
      },
      {
       "output_type": "stream",
       "stream": "stdout",
       "text": [
        "\n",
        "to/TO (VX start/VB VX) of/IN ,/, (NX there/EX NX) (VX are/VBP VX) (NX rates/NNS NX) (NX that/WDT NX) (VX vary/VBP VX) (NX due/JJ NX) to/TO (NX the/DT weather/NN NX) ./.\n",
        "since/IN (NX it/PRP NX) (VX says/VBZ VX) (NX that/DT reef/NN NX) -/: (NX building/NN corals/NNS NX) (VX need/VBP VX) (NX water/NN temperatures/NNS NX) between/IN (NX 00/CD NX) -/: (NX 00/CD f/NN NX) ./.\n",
        "(NX photosynthesis/NN NX) (VX is/VBZ VX) (NX sensitive/JJ NX) to/TO (VX change/VB VX) in/IN (NX water/NN temperature/NN NX) ./.\n",
        "this/DT (VX affects/VBZ VX) the/DT (NX coral/JJ NX) since/IN (NX it/PRP NX) (VX feeds/VBZ VX) off/IN from/IN (NX sugar/NN NX) and/CC (NX the/DT sugar/NN NX) (VX creates/VBZ VX) (NX algae/NNS NX) from/IN (NX the/DT light/NN NX) (NX the/DT sun/NN NX) (VX gives/VBZ VX) (NX which/WDT NX) (VX is/VBZ VX) (NX the/DT process/NN NX) of/IN (NX photosynthesis/NN NX) ./.\n",
        "(NX this/DT is/NNS NX) (VX are/VBP VX) (NX the/DT way/NN coral/JJ rates/NNS NX) (VX vary/VBP VX) ./.\n",
        "when/WRB (NX storms/NNS NX) (VX drop/VBP VX) (NX fresh/JJ water/NN NX) into/IN (NX the/DT ocean/NN NX) ,/, (NX the/DT salinity/NN NX) (VX drops/VBZ VX) ./.\n",
        "(NX this/DT drop/NN NX) in/IN (NX salinity/NN NX) (VX threatens/VBZ VX) (NX the/DT balance/NN NX) (NX necessary/JJ NX) to/TO (VX keep/VB VX) (NX corals/NNS NX) (NX healthy/JJ NX) ./.\n",
        "(NX another/DT way/NN NX) (NX that/WDT NX) (VX explains/VBZ why/WRB VX) (NX coral/JJ NX) (VX bleaching/VBG VX) (NX rates/NNS NX) (VX vary/VBP VX) at/IN (NX different/JJ times/NNS NX) (VX is/VBZ VX) (NX due/JJ NX) to/TO (NX the/DT tourists/NNS NX) (NX that/WDT NX) (VX go/VBP VX) on/IN (NX oceans/NNS NX) ./.\n",
        "(NX corals/NNS NX) (VX can/MD sustain/VB VX) (NX physical/JJ damage/NN NX) from/IN (NX some/DT destructive/JJ practices/NNS NX) ./."
       ]
      },
      {
       "output_type": "stream",
       "stream": "stdout",
       "text": [
        "\n",
        "(NX examples/NNS NX) of/IN this/DT (VX include/VBP VX) (NX blast/NN fishing/NN and/CC tourists/NNS NX) (NX who/WP NX) (VX drop/VBP VX) (NX anchors/NNS NX) or/CC (VX walk/VB VX) on/IN (NX reefs/NNS NX) ./.\n",
        "this/DT (VX affects/VBZ VX) (NX reefs/NNS NX) because/IN (NX they/PRP NX) (VX are/VBP being/VBG stepped/VBN VX) on/IN ./.\n",
        "(NX who/WP NX) (VX knows/VBZ maybe/RB VX) (NX they/PRP NX) (VX can/MD get/VB damaged/VBN VX) (NX due/JJ NX) to/TO this/DT ./.\n",
        "but/CC also/RB since/IN (NX the/DT coral/JJ reefs/NNS NX) (VX can/MD get/VB stuck/VBN VX) on/IN (NX anchors/NNS NX) or/CC (VX can/MD get/VB dropped/VBN VX) off/IN ./.\n",
        "however/RB ,/, (NX there/EX NX) (VX is/VBZ also/RB VX) (NX another/DT thing/NN NX) (NX that/WDT NX) (VX shows/VBZ why/WRB VX) (NX coral/JJ NX) (VX bleaching/VBG VX) (NX rates/NNS NX) (VX vary/VBP VX) at/IN (NX different/JJ times/NNS NX) ./.\n",
        "this/DT (VX is/VBZ VX) (NX due/JJ NX) to/TO (NX the/DT fact/NN NX) that/IN whereby/WRB (NX corals/NNS NX) (VX are/VBP loosing/VBG VX) (NX their/PRP$ coloring/NN NX) ./.\n",
        "(NX also/RB due/JJ NX) to/TO (NX the/DT increasing/VBG stress/NN NX) on/IN (NX corals/NNS NX) from/IN (NX the/DT environment/NN force/NN NX) to/TO the/DT (NX coral/JJ NX) to/TO (VX eject/VB VX) (NX their/PRP$ food/NN NX) -/: (VX producing/VBG VX) (NX algae/NNS NX) ./.\n",
        "(NX this/DT result/NN NX) in/IN a/DT (VX bleaching/VBG VX) (NX event/NN NX) (NX that/WDT NX) (VX makes/VBZ VX) (NX corals/NNS NX) (NX vulnerable/JJ NX) to/TO (NX disease/NN and/CC starvation/NN NX) ./.\n",
        "also/RB if/IN (NX the/DT coral/NN NX) (VX goes/VBZ to/TO long/VB VX) without/IN (NX zooxanthallae/NN NX) ,/, (VX bleaching/VBG VX) (VX can/MD result/VB VX) to/TO (NX dead/JJ NX) ./.\n",
        "this/DT (VX is/VBZ how/WRB VX) (NX coral/JJ NX) (VX bleaching/VBG VX) (NX rates/NNS NX) (VX vary/VBP VX) at/IN (NX different/JJ times/NNS NX) ./.\n",
        "?/.\n",
        "(NX coral/JJ NX) (VX bleaching/VBG happens/VBZ when/WRB VX) (NX the/DT coral/JJ doesnt/NN NX) (VX get/VB VX) (NX the/DT right/NN amount/NN NX) of/IN (NX food/NN or/CC nutrients/NNS NX) (VX needed/VBN to/TO live/VB VX) ./."
       ]
      },
      {
       "output_type": "stream",
       "stream": "stdout",
       "text": [
        "\n",
        "(NX the/DT corals/NNS NX) (VX need/VBP zooxanthallae/VBG to/TO live/VB VX) and/CC by/IN (NX the/DT years/NNS NX) (VX pass/VBP VX) (NX the/DT amount/NN NX) of/IN (NX zooxanthallae/NN decreases/NNS NX) (VX wich/VBP makes/VBZ VX) (NX the/DT coral/JJ bleach/NN NX) ./.\n",
        "(NX another/DT reason/NN NX) why/WRB (NX coral/JJ NX) (VX bleaching/VBG occurs/VBZ VX) (VX would/MD be/VB VX) because/IN of/IN (NX the/DT water/NN temperatures/NNS NX) around/IN (NX the/DT world/NN NX) ./.\n",
        "(NX the/DT water/NN NX) (VX is/VBZ already/RB VX) (NX warm/JJ NX) because/IN (NX the/DT wind/NN NX) (VX has/VBZ moved/VBN VX) (NX it/PRP NX) to/TO (NX different/JJ spots/NNS NX) then/RB (NX the/DT sun/NN NX) (VX warms/VBZ VX) (NX the/DT water/NN wich/NN NX) (VX makes/VBZ VX) (NX it/PRP NX) (NX hard/JJ NX) to/TO (VX make/VB VX) (NX photosynthesis/NN or/CC food/NN NX) for/IN (NX the/DT corals/NNS NX) ./.\n",
        "(NX coral/JJ NX) (VX bleaching/VBG VX) (NX rates/NNS NX) (VX vary/VBP VX) at/IN (NX different/JJ times/NNS NX) because/IN of/IN (NX the/DT wind/NN NX) ./.\n",
        "on/IN (NX the/DT graphs/NNS NX) (VX shown/VBN VX) to/TO (NX me/PRP NX) (NX I/PRP NX) (VX found/VBD VX) (NX a/DT pattern/NN wich/NN NX) (VX was/VBD VX) ,/, the/DT (NX higher/JJR NX) (NX the/DT water/NN temperature/NN NX) the/DT (NX lower/JJR NX) (NX the/DT wind/NN strength/NN NX) and/CC the/DT (NX lower/JJR NX) (NX the/DT wind/NN strength/NN NX) the/DT (NX higher/JJR NX) (NX the/DT water/NN temperature/NN NX) ./.\n",
        "on/IN (NX my/PRP$ graph/NN NX) (NX I/PRP NX) (VX also/RB found/VBD VX) that/IN in/IN (NX the/DT year/NN 0000/CD NX) -/: (NX 00/CD NX) (NX the/DT wind/NN strength/NN NX) (VX was/VBD really/RB wear/VB VX) and/CC (NX it/PRP NX) (VX had/VBD VX) (NX a/DT high/JJ amount/NN NX) of/IN (NX water/NN temperature/NN NX) ./.\n",
        "(NX i/NN NX) (VX also/RB noticed/VBD VX) on/IN (NX my/PRP$ second/JJ graph/NN NX) that/IN in/IN (NX the/DT year/NN 0000/CD NX) (NX the/DT severe/JJ number/NN NX) of/IN (NX coral/JJ NX) (VX bleaching/VBG was/VBD VX) (NX higher/JJR NX) than/IN (NX 00/CD NX) ./."
       ]
      },
      {
       "output_type": "stream",
       "stream": "stdout",
       "text": [
        "\n",
        "(NX the/DT usual/JJ colors/NNS NX) of/IN (NX corals/NNS NX) (VX are/VBP VX) (NX bright/JJ NX) like/IN (NX orange/JJ yellow/JJ blue/JJ green/JJ many/JJ other/JJ variety/NN NX) of/IN (NX colors/NNS NX) (NX that/WDT NX) (VX come/VBP VX) from/IN (NX corals/NNS NX) ./.\n",
        "in/IN (NX my/PRP$ opinion/NN NX) (NX white/JJ NX) (VX should/MD not/RB be/VB VX) (NX one/CD NX) of/IN (NX those/DT colors/NNS NX) ./.\n",
        "all/DT around/IN (NX the/DT pacific/JJ ocean/NN close/NN NX) to/TO (VX north/RB america/VB VX) (NX and/CC asia/NN and/CC papua/NN new/JJ guinea/NN NX) (NX there/EX NX) (VX has/VBZ been/VBN VX) (NX alot/NN NX) of/IN (NX coral/JJ NX) (VX bleaching/VBG VX) ./.\n",
        "this/DT (VX might/MD be/VB VX) because/IN of/IN (NX the/DT human/JJ activity/NN NX) around/IN the/DT with/IN (NX the/DT fishing/NN and/CC fisherman/NN NX) (VX hurting/VBG VX) (NX the/DT corals/NNS NX) ./.\n",
        "(NX coral/JJ NX) (VX bleaching/VBG also/RB means/VBZ VX) that/IN (NX the/DT corals/NNS NX) (VX are/VBP dying/VBG not/RB VX) (NX good/JJ NX) ./.\n",
        "(NX those/DT are/NN NX) (NX some/DT reasons/NNS NX) (NX coral/JJ NX) (VX bleaching/VBG happen/VB VX) and/CC (NX the/DT more/JJR reasons/NNS NX) why/WRB (NX we/PRP NX) (VX should/MD preserve/VB VX) (NX corals/NNS NX) ./.\n",
        "?/.\n",
        "(NX i/NN NX) (VX think/VBP VX) that/IN (NX coral/JJ NX) (VX bleaching/VBG VX) (NX rates/NNS NX) (VX change/VBP VX) at/IN (NX different/JJ times/NNS NX) because/IN of/IN (NX many/JJ 0/CD reasons/NNS NX) ./.\n",
        "in/IN (NX the/DT article/NN NX) about/IN (NX the/DT background/NN NX) (NX it/PRP NX) (VX stated/VBD VX) that/IN (NX one/CD NX) of/IN (NX the/DT big/JJ factors/NNS NX) on/IN the/DT (VX bleaching/VBG VX) of/IN (NX corals/NNS NX) (VX is/VBZ VX) because/IN (NX the/DT change/NN NX) in/IN (NX the/DT wind/NN NX) ./.\n",
        "(NX another/DT factor/NN NX) (NX that/WDT NX) (VX is/VBZ stated/VBN is/VBZ VX) (NX the/DT temperature/NN NX) of/IN (NX the/DT ocean/NN NX) ./.\n",
        "finally/RB ,/, (NX I/PRP NX) (VX think/VBP VX) that/IN (NX the/DT rates/NNS NX) (VX change/VBP VX) by/IN (NX ocean/NN currents/NNS NX) ./.\n",
        "(NX the/DT change/NN NX) in/IN (NX the/DT wind/NN NX) (VX is/VBZ VX) (NX a/DT big/JJ factor/NN NX) on/IN (NX coral/JJ NX) (VX bleaching/VBG VX) (NX rates/NNS NX) when/WRB (NX the/DT wind/NN blows/NNS NX) in/IN (NX a/DT certain/JJ direction/NN NX) (NX that/WDT NX) (VX affects/VBZ VX) (NX the/DT temperature/NN NX) ./."
       ]
      },
      {
       "output_type": "stream",
       "stream": "stdout",
       "text": [
        "\n",
        "(NX the/DT wind/NN NX) (NX that/WDT NX) (VX is/VBZ being/VBG blown/VBN VX) in/IN (NX a/DT direction/NN NX) (VX can/MD be/VB VX) either/DT (NX cold/JJ NX) or/CC (NX warm/JJ NX) (VX changing/VBG VX) (NX the/DT temperature/NN NX) ./.\n",
        "when/WRB (NX the/DT temperature/NN NX) (VX is/VBZ VX) (NX change/NN NX) (VX is/VBZ affects/VBZ VX) (NX the/DT zooxanthellae/NN process/NN NX) of/IN (NX phonosinthisis/NN NX) (NX which/WDT NX) (VX give/VBP VX) (NX the/DT coral/JJ color/NN NX) ./.\n",
        "(NX it/PRP NX) all/DT (VX depends/VBZ when/WRB VX) (NX the/DT direction/NN NX) of/IN (NX the/DT wind/NN changes/NNS NX) ./.\n",
        "(NX coral/JJ NX) (VX bleaching/VBG VX) (NX rates/NNS NX) (VX vary/VBP VX) at/IN (NX different/JJ times/NNS NX) because/IN (NX every/DT few/JJ years/NNS NX) (NX the/DT trade/NN winds/NNS NX) (VX change/VBP VX) (NX direction/NN NX) (VX going/VBG VX) (NX opposite/JJ NX) and/CC some/DT (NX last/JJ NX) over/IN about/IN (NX 0/CD months/NNS NX) ./.\n",
        "(NX this/DT causes/NNS major/JJ shifts/NNS NX) in/IN (NX the/DT worlds/NNS climate/NN NX) ./.\n",
        "also/RB (NX the/DT graph/NN NX) of/IN this/DT (VX shows/VBZ how/WRB mostly/RB VX) (NX every/DT 0/CD years/NNS NX) (NX the/DT water/NN temps/NNS NX) (VX get/VBP VX) (NX higher/JJR NX) ,/, (NX the/DT same/JJ report/NN NX) for/IN the/DT (NX coral/JJ NX) (VX bleaching/VBG VX) (NX it/PRP NX) (VX gets/VBZ VX) (NX severe/JJ NX) (NX each/DT 0/CD years/NNS NX) ./.\n",
        "(NX coral/JJ NX) (VX bleaching/VBG also/RB vary/VBP VX) at/IN (NX different/JJ times/NNS NX) because/IN when/WRB (NX water/NN temperatures/NNS NX) (VX increase/VBP VX) (NX the/DT solubility/NN NX) of/IN (NX carbon/NN dioxide/NN decrease/NN NX) and/CC when/WRB (NX carbon/NN dioxide/NN NX) (VX decreases/VBZ VX) (NX this/DT disruption/NN NX) (VX threatens/VBZ VX) (NX the/DT delicate/JJ balance/NN NX) (VX required/VBN to/TO keep/VB VX) (NX corals/NNS NX) (NX healthy/JJ NX) ./.\n",
        "also/RB when/WRB (NX storms/NNS NX) (VX drop/VBP VX) (NX fresh/JJ water/NN NX) in/IN (NX the/DT ocean/NN NX) (NX the/DT salinity/NN NX) (VX drops/VBZ VX) and/CC (NX the/DT salinity/NN NX) (VX threatens/VBZ VX) (NX the/DT balance/NN NX) (NX necessary/JJ NX) to/TO (VX keep/VB VX) (NX the/DT corals/NNS NX) (NX healthy/JJ NX) ./."
       ]
      },
      {
       "output_type": "stream",
       "stream": "stdout",
       "text": [
        "\n",
        "of/IN (NX the/DT corals/NNS NX) (VX do/VBP not/RB get/VB VX) (NX zooxanthellae/NN NX) (NX that/WDT NX) (VX passes/VBZ VX) (NX food/NN NX) (NX they/PRP NX) (VX make/VBP VX) from/IN (NX the/DT sun/NN energy/NN NX) to/TO the/DT (NX coral/JJ NX) the/DT (NX coral/JJ NX) (VX can/MD die/VB causing/VBG bleaching/VBG VX) (NX death/NN NX) to/TO (NX it/PRP NX) ./.\n",
        "this/DT (VX is/VBZ how/WRB VX) and/CC why/WRB (NX coral/JJ NX) (VX bleaching/VBG VX) (NX rates/NNS NX) (VX vary/VBP VX) at/IN (NX different/JJ times/NNS NX) ./.\n",
        "this/DT (VX were/VBD VX) (NX the/DT reason/NN NX) why/WRB and/CC how/WRB (NX coral/JJ NX) (VX bleaching/VBG occurs/VBZ VX) ./.\n",
        "(NX coral/JJ NX) (VX bleaching/VBG VX) (NX rates/NNS NX) (VX vary/VBP VX) at/IN (NX different/JJ times/NNS NX) because/IN when/WRB (NX the/DT temp/NN NX) ./.\n",
        "(NX increases/NNS NX) ,/, (NX the/DT carbon/NN dioxide/NN decreases/NNS NX) and/CC (VX creates/VBZ VX) (NX a/DT disruption/NN NX) (NX that/WDT NX) (VX threatens/VBZ VX) (NX the/DT balance/NN NX) to/TO (VX keep/VB VX) (NX the/DT corals/NNS NX) (NX healthy/JJ NX) ./.\n",
        "\n",
        "\n",
        "\n",
        "coral bleaching rates vary at different times because when the temp . increases , the carbon dioxide decreases and creates a disruption that threatens the balance to keep the corals healthy .\n",
        "\n",
        "['(\"bleach\" \"coral\" \"rate\")', '(\"vary\" \"rate\" \"at different time\")']\n",
        "['(\"create\" \"\" \"disruption\" \"that\")', '(\"threaten\" \"that\" \"balance\")', '(\"keep\" \"\" \"coral\" \"healthy\")']\n"
       ]
      },
      {
       "ename": "AssertionError",
       "evalue": "Multiple sentences found",
       "output_type": "pyerr",
       "traceback": [
        "\u001b[0;31m---------------------------------------------------------------------------\u001b[0m\n\u001b[0;31mAssertionError\u001b[0m                            Traceback (most recent call last)",
        "\u001b[0;32m<ipython-input-16-ed9c5dcb1a74>\u001b[0m in \u001b[0;36m<module>\u001b[0;34m()\u001b[0m\n\u001b[0;32m----> 1\u001b[0;31m \u001b[0mvsoos\u001b[0m \u001b[0;34m=\u001b[0m \u001b[0mmap\u001b[0m\u001b[0;34m(\u001b[0m\u001b[0mextract_predicates\u001b[0m\u001b[0;34m,\u001b[0m \u001b[0msentences\u001b[0m\u001b[0;34m)\u001b[0m\u001b[0;34m\u001b[0m\u001b[0m\n\u001b[0m",
        "\u001b[0;32m<ipython-input-15-e228c5b72ee3>\u001b[0m in \u001b[0;36mextract_predicates\u001b[0;34m(sentence)\u001b[0m\n\u001b[1;32m     25\u001b[0m             \u001b[0;32mfor\u001b[0m \u001b[0mp\u001b[0m \u001b[0;32min\u001b[0m \u001b[0mpreds\u001b[0m\u001b[0;34m:\u001b[0m\u001b[0;34m\u001b[0m\u001b[0m\n\u001b[1;32m     26\u001b[0m                 \u001b[0;32mprint\u001b[0m \u001b[0mp\u001b[0m\u001b[0;34m\u001b[0m\u001b[0m\n\u001b[0;32m---> 27\u001b[0;31m             \u001b[0;32massert\u001b[0m \u001b[0mFalse\u001b[0m\u001b[0;34m,\u001b[0m \u001b[0;34m\"Multiple sentences found\"\u001b[0m\u001b[0;34m\u001b[0m\u001b[0m\n\u001b[0m\u001b[1;32m     28\u001b[0m     \u001b[0msentence_predicates\u001b[0m \u001b[0;34m=\u001b[0m \u001b[0mpreds\u001b[0m\u001b[0;34m[\u001b[0m\u001b[0;36m0\u001b[0m\u001b[0;34m]\u001b[0m\u001b[0;34m\u001b[0m\u001b[0m\n\u001b[1;32m     29\u001b[0m     \u001b[0mretVals\u001b[0m \u001b[0;34m=\u001b[0m \u001b[0;34m[\u001b[0m\u001b[0;34m]\u001b[0m\u001b[0;34m\u001b[0m\u001b[0m\n",
        "\u001b[0;31mAssertionError\u001b[0m: Multiple sentences found"
       ]
      }
     ],
     "prompt_number": 16
    },
    {
     "cell_type": "code",
     "collapsed": false,
     "input": [
      "print \"\\\" some coral have lost their color and have been bleached plain white . \\\"\".replace(\"\\\"\",\"\")\n",
      "\n",
      "matches = []\n",
      "for i,sent in enumerate(sentences):\n",
      "    if \".\" in sent:\n",
      "        stripped = sent.strip()\n",
      "        ix = stripped.index(\".\")\n",
      "        if ix < (len(stripped) -1):\n",
      "            print i, stripped\n",
      "            matches.append((i, stripped))"
     ],
     "language": "python",
     "metadata": {},
     "outputs": []
    },
    {
     "cell_type": "code",
     "collapsed": false,
     "input": [
      "win = 30\n",
      "print len(matches), len(sentences)\n",
      "for i, match in matches:\n",
      "    ix = match.index(\".\")\n",
      "    print match[ix-win:ix+win]"
     ],
     "language": "python",
     "metadata": {},
     "outputs": []
    },
    {
     "cell_type": "code",
     "collapsed": false,
     "input": [
      "ix = 2189\n",
      "print sentences[ix]\n",
      "sentences[ix].index(\".\"), len(sentences[ix])"
     ],
     "language": "python",
     "metadata": {},
     "outputs": []
    }
   ],
   "metadata": {}
  }
 ]
}