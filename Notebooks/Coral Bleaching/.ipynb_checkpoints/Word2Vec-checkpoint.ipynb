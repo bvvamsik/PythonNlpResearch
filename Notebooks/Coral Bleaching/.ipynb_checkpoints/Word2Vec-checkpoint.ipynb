{
 "cells": [
  {
   "cell_type": "code",
   "execution_count": 43,
   "metadata": {
    "collapsed": false
   },
   "outputs": [
    {
     "name": "stdout",
     "output_type": "stream",
     "text": [
      "Results Dir: /Users/simon.hughes/Google Drive/Phd/Results/\n",
      "Data Dir:    /Users/simon.hughes/Google Drive/Phd/Data/\n",
      "Root Dir:    /Users/simon.hughes/GitHub/NlpResearch/\n",
      "Public Data: /Users/simon.hughes/GitHub/NlpResearch/Data/PublicDatasets/\n",
      "('Pickle Key:', 'folder_/Users/simon.hughes/Google Drive/Phd/Data/CoralBleaching/BrattData/EBA1415_Merged/_include_normal_False_include_vague_True_lower_case_False_min_df_5_min_sentence_length_3_remove_infrequent_False_remove_punctuation_True_remove_stop_words_False_replace_nums_True_spelling_correct_True_stem_True_window_size_7')\n"
     ]
    }
   ],
   "source": [
    "from Decorators import memoize_to_disk\n",
    "from load_data import load_process_essays\n",
    "import Settings\n",
    "from window_based_tagger_config import get_config\n",
    "\n",
    "settings = Settings.Settings()\n",
    "folder =                            settings.data_directory + \"CoralBleaching/BrattData/EBA1415_Merged/\"\n",
    "processed_essay_filename_prefix =   settings.data_directory + \"CoralBleaching/BrattData/Pickled/essays_proc_pickled_\"\n",
    "\n",
    "config = get_config(folder)\n",
    "config[\"stem\"] = True\n",
    "\n",
    "mem_process_essays = memoize_to_disk(filename_prefix=processed_essay_filename_prefix)(load_process_essays)\n",
    "tagged_essays = mem_process_essays( **config )"
   ]
  },
  {
   "cell_type": "code",
   "execution_count": 44,
   "metadata": {
    "collapsed": true
   },
   "outputs": [],
   "source": [
    "sentences = []\n",
    "for essay in tagged_essays:\n",
    "    for sentence in essay.sentences:\n",
    "        sentences.append(zip(*sentence)[0])"
   ]
  },
  {
   "cell_type": "code",
   "execution_count": 45,
   "metadata": {
    "collapsed": false
   },
   "outputs": [
    {
     "data": {
      "text/plain": [
       "(u'that',\n",
       " u'lead',\n",
       " u'to',\n",
       " u'differ',\n",
       " u'in',\n",
       " u'the',\n",
       " u'rate',\n",
       " u'of',\n",
       " u'coral',\n",
       " u'bleach')"
      ]
     },
     "execution_count": 45,
     "metadata": {},
     "output_type": "execute_result"
    }
   ],
   "source": [
    "sentences[0]"
   ]
  },
  {
   "cell_type": "code",
   "execution_count": 46,
   "metadata": {
    "collapsed": false
   },
   "outputs": [
    {
     "name": "stderr",
     "output_type": "stream",
     "text": [
      "WARNING:gensim.models.word2vec:consider setting layer size to a multiple of 4 for greater performance\n"
     ]
    }
   ],
   "source": [
    "import gensim\n",
    "from gensim.models.word2vec import Word2Vec\n",
    "\n",
    "model = Word2Vec(sentences, iter=100, size=50, window=3, min_count=5, workers=8, sample=1e-6, hs=0, negative=20)"
   ]
  },
  {
   "cell_type": "code",
   "execution_count": 54,
   "metadata": {
    "collapsed": false
   },
   "outputs": [
    {
     "data": {
      "text/plain": [
       "[(u'final', 0.999596118927002),\n",
       " (u'toward', 0.9995176792144775),\n",
       " (u'c', 0.9995037317276001),\n",
       " (u'rich', 0.9994980096817017),\n",
       " (u'end', 0.9994946122169495),\n",
       " (u'benefit', 0.9994897246360779),\n",
       " (u'abov', 0.9994885325431824),\n",
       " (u'guid', 0.999484121799469),\n",
       " (u'understand', 0.9994809627532959),\n",
       " (u'low', 0.9994692802429199)]"
      ]
     },
     "execution_count": 54,
     "metadata": {},
     "output_type": "execute_result"
    }
   ],
   "source": [
    "model.most_similar(positive=[\"lead\"])"
   ]
  },
  {
   "cell_type": "code",
   "execution_count": 10,
   "metadata": {
    "collapsed": false
   },
   "outputs": [
    {
     "data": {
      "text/plain": [
       "10209"
      ]
     },
     "execution_count": 10,
     "metadata": {},
     "output_type": "execute_result"
    }
   ],
   "source": [
    "len(sentences)"
   ]
  },
  {
   "cell_type": "code",
   "execution_count": 37,
   "metadata": {
    "collapsed": true
   },
   "outputs": [],
   "source": [
    "filename = \"/Users/simon.hughes/Documents/Dice Data/Word2Vec/GoogleNews-vectors-negative300.bin\"\n",
    "full_model = Word2Vec.load_word2vec_format(filename, binary=True)"
   ]
  },
  {
   "cell_type": "code",
   "execution_count": 42,
   "metadata": {
    "collapsed": false
   },
   "outputs": [
    {
     "data": {
      "text/plain": [
       "[(u'teeth_whitening', 0.7431495189666748),\n",
       " (u'tooth_whitening', 0.7134369611740112),\n",
       " (u'Teeth_whitening', 0.6533203125),\n",
       " (u'microdermabrasion', 0.6517258882522583),\n",
       " (u'Whitening', 0.6478936672210693),\n",
       " (u'tooth_bleaching', 0.6321505904197693),\n",
       " (u'skin_lightening', 0.6302615404129028),\n",
       " (u'whiten', 0.6267747282981873),\n",
       " (u'whiten_teeth', 0.6228857040405273),\n",
       " (u'whitening_strips', 0.6214999556541443)]"
      ]
     },
     "execution_count": 42,
     "metadata": {},
     "output_type": "execute_result"
    }
   ],
   "source": [
    "full_model.most_similar(\"whitening\")"
   ]
  },
  {
   "cell_type": "code",
   "execution_count": null,
   "metadata": {
    "collapsed": true
   },
   "outputs": [],
   "source": []
  }
 ],
 "metadata": {
  "kernelspec": {
   "display_name": "Python 2",
   "language": "python",
   "name": "python2"
  },
  "language_info": {
   "codemirror_mode": {
    "name": "ipython",
    "version": 2
   },
   "file_extension": ".py",
   "mimetype": "text/x-python",
   "name": "python",
   "nbconvert_exporter": "python",
   "pygments_lexer": "ipython2",
   "version": "2.7.3"
  }
 },
 "nbformat": 4,
 "nbformat_minor": 0
}
