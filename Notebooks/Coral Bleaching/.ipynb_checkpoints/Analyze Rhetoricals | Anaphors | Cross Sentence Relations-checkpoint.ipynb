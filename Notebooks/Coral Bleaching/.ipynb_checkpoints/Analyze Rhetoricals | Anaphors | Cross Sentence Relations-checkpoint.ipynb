{
 "cells": [
  {
   "cell_type": "markdown",
   "metadata": {},
   "source": [
    "# Grab All Matching Files"
   ]
  },
  {
   "cell_type": "code",
   "execution_count": 112,
   "metadata": {
    "collapsed": false
   },
   "outputs": [],
   "source": [
    "from FindFiles import find_files\n",
    "\n",
    "#root = \"/Users/simon.hughes/Google Drive/PhD/Data/CoralBleaching\"\n",
    "root = \"/Users/simon.hughes/Google Drive/PhD/Data/SkinCancer\"\n",
    "\n",
    "#folder = \"/Users/simon.hughes/Google Drive/Phd/Data/CoralBleaching/BrattData/EBA1415_Merged/\"\n",
    "if \"coral\" in root.lower():\n",
    "    folder = root + \"/BrattData/EBA1415_Merged/\"\n",
    "else:\n",
    "    folder = root + \"/EBA1415_Merged/\"\n",
    "\n",
    "files = find_files(folder, \".*\\.ann\", True)\n",
    "#files"
   ]
  },
  {
   "cell_type": "markdown",
   "metadata": {},
   "source": [
    "# How Many Essays and Lines Have Anaphors and Rhetoricals in them?"
   ]
  },
  {
   "cell_type": "code",
   "execution_count": 144,
   "metadata": {
    "collapsed": false
   },
   "outputs": [
    {
     "name": "stdout",
     "output_type": "stream",
     "text": [
      "rhetorical 1.17% of essays\n",
      "Anaphor    29.72% of essays\n"
     ]
    }
   ],
   "source": [
    "from collections import defaultdict\n",
    "\n",
    "to_match = [\"rhetorical\", \"Anaphor\"]\n",
    "matching_files = defaultdict(set)\n",
    "matching_lines = defaultdict(list)\n",
    "\n",
    "total_line_count = 0\n",
    "total_coreferent_lines = 0\n",
    "for f in files:\n",
    "    with open(f, \"r+\") as fin:\n",
    "        for line in fin.readlines():\n",
    "            total_line_count += 1\n",
    "            has_coreferent = False\n",
    "            for annot in to_match:\n",
    "                if \"\\t%s \" % annot in line:\n",
    "                    matching_files[annot].add(f)\n",
    "                    matching_lines[annot].append(line)\n",
    "                    has_coreferent = True\n",
    "            if has_coreferent:\n",
    "                total_coreferent_lines += 1\n",
    "                \n",
    "NUM_DIGITS = 2\n",
    "for annot in to_match:\n",
    "    m_files = matching_files[annot]\n",
    "    m_lines = matching_lines[annot]\n",
    "    print annot.ljust(10), #len(m_files), len(files), \n",
    "    print str(round(100.0*float(len(m_files)) / len(files),NUM_DIGITS)) + \"% of essays\\n\",\n",
    "    \n",
    "    #not accurate vvv\n",
    "    #print str(round(100.0*float(len(m_lines)) / total_line_count,NUM_DIGITS)) + \"% of lines\""
   ]
  },
  {
   "cell_type": "markdown",
   "metadata": {},
   "source": [
    "### How Many Essays and Sentences Contain Some Coreference Reference?"
   ]
  },
  {
   "cell_type": "code",
   "execution_count": 145,
   "metadata": {
    "collapsed": false
   },
   "outputs": [
    {
     "name": "stdout",
     "output_type": "stream",
     "text": [
      "Essays:    333 coreferents 1107 essays 30.1%\n"
     ]
    }
   ],
   "source": [
    "all_rhetorical = matching_files[\"rhetorical\"].union(matching_files[\"Anaphor\"])\n",
    "print \"Essays:   \", len(all_rhetorical), \"coreferents\", len(files), \"essays\", str(100.0 * round(len(all_rhetorical) / float(len(files)),3)) + \"%\"\n",
    "\n",
    "#Not accurate vvv\n",
    "#print \"Sentences:\", total_coreferent_lines, \"coreferents\", total_line_count, \"lines\", str(100.0 * round(total_coreferent_lines / float(total_line_count),3)) + \"%\""
   ]
  },
  {
   "cell_type": "markdown",
   "metadata": {},
   "source": [
    "# How Many Sentences Have Cross-Sentence Causal Relations?\n",
    "We can't compute this directly without manually analyzing the data. But we can approximate it by looking at sentences containing some causal relation where one or both parts of the relation are not contained within the sentence"
   ]
  },
  {
   "cell_type": "code",
   "execution_count": 115,
   "metadata": {
    "collapsed": false
   },
   "outputs": [
    {
     "data": {
      "text/html": [
       "<div>\n",
       "<table border=\"1\" class=\"dataframe\">\n",
       "  <thead>\n",
       "    <tr style=\"text-align: right;\">\n",
       "      <th></th>\n",
       "      <th>Essay</th>\n",
       "      <th>Concept Codes</th>\n",
       "      <th>Predictions</th>\n",
       "    </tr>\n",
       "  </thead>\n",
       "  <tbody>\n",
       "    <tr>\n",
       "      <th>0</th>\n",
       "      <td>EBA1415_AEKD_4_SC_ES-05566.ann</td>\n",
       "      <td></td>\n",
       "      <td></td>\n",
       "    </tr>\n",
       "    <tr>\n",
       "      <th>1</th>\n",
       "      <td>EBA1415_AEKD_4_SC_ES-05566.ann</td>\n",
       "      <td></td>\n",
       "      <td></td>\n",
       "    </tr>\n",
       "    <tr>\n",
       "      <th>2</th>\n",
       "      <td>EBA1415_AEKD_4_SC_ES-05566.ann</td>\n",
       "      <td>50</td>\n",
       "      <td>50</td>\n",
       "    </tr>\n",
       "    <tr>\n",
       "      <th>3</th>\n",
       "      <td>EBA1415_AEKD_4_SC_ES-05566.ann</td>\n",
       "      <td></td>\n",
       "      <td></td>\n",
       "    </tr>\n",
       "    <tr>\n",
       "      <th>4</th>\n",
       "      <td>EBA1415_AEKD_4_SC_ES-05566.ann</td>\n",
       "      <td></td>\n",
       "      <td></td>\n",
       "    </tr>\n",
       "    <tr>\n",
       "      <th>5</th>\n",
       "      <td>EBA1415_AEKD_4_SC_ES-05566.ann</td>\n",
       "      <td></td>\n",
       "      <td></td>\n",
       "    </tr>\n",
       "    <tr>\n",
       "      <th>6</th>\n",
       "      <td>EBA1415_AEKD_4_SC_ES-05566.ann</td>\n",
       "      <td>1,2,_C-&gt;R,_CRel,_RRel,Causer,Result,Causer:1,R...</td>\n",
       "      <td>1,2,_C-&gt;R,_CRel,_RRel,Causer,Result,Causer:1,R...</td>\n",
       "    </tr>\n",
       "    <tr>\n",
       "      <th>7</th>\n",
       "      <td>EBA1415_AEKD_4_SC_ES-05566.ann</td>\n",
       "      <td>1,50,_C-&gt;R,_CRel,_RRel,Causer,Result,Causer:1,...</td>\n",
       "      <td></td>\n",
       "    </tr>\n",
       "    <tr>\n",
       "      <th>8</th>\n",
       "      <td>EBA1415_AEKD_4_SC_ES-05566.ann</td>\n",
       "      <td></td>\n",
       "      <td></td>\n",
       "    </tr>\n",
       "    <tr>\n",
       "      <th>9</th>\n",
       "      <td>EBA1415_AEKD_4_SC_ES-05566.ann</td>\n",
       "      <td></td>\n",
       "      <td>_C-&gt;R,_CRel,_RRel,Causer,Result,explicit,Cause...</td>\n",
       "    </tr>\n",
       "  </tbody>\n",
       "</table>\n",
       "</div>"
      ],
      "text/plain": [
       "                            Essay  \\\n",
       "0  EBA1415_AEKD_4_SC_ES-05566.ann   \n",
       "1  EBA1415_AEKD_4_SC_ES-05566.ann   \n",
       "2  EBA1415_AEKD_4_SC_ES-05566.ann   \n",
       "3  EBA1415_AEKD_4_SC_ES-05566.ann   \n",
       "4  EBA1415_AEKD_4_SC_ES-05566.ann   \n",
       "5  EBA1415_AEKD_4_SC_ES-05566.ann   \n",
       "6  EBA1415_AEKD_4_SC_ES-05566.ann   \n",
       "7  EBA1415_AEKD_4_SC_ES-05566.ann   \n",
       "8  EBA1415_AEKD_4_SC_ES-05566.ann   \n",
       "9  EBA1415_AEKD_4_SC_ES-05566.ann   \n",
       "\n",
       "                                       Concept Codes  \\\n",
       "0                                                      \n",
       "1                                                      \n",
       "2                                                 50   \n",
       "3                                                      \n",
       "4                                                      \n",
       "5                                                      \n",
       "6  1,2,_C->R,_CRel,_RRel,Causer,Result,Causer:1,R...   \n",
       "7  1,50,_C->R,_CRel,_RRel,Causer,Result,Causer:1,...   \n",
       "8                                                      \n",
       "9                                                      \n",
       "\n",
       "                                         Predictions  \n",
       "0                                                     \n",
       "1                                                     \n",
       "2                                                 50  \n",
       "3                                                     \n",
       "4                                                     \n",
       "5                                                     \n",
       "6  1,2,_C->R,_CRel,_RRel,Causer,Result,Causer:1,R...  \n",
       "7                                                     \n",
       "8                                                     \n",
       "9  _C->R,_CRel,_RRel,Causer,Result,explicit,Cause...  "
      ]
     },
     "execution_count": 115,
     "metadata": {},
     "output_type": "execute_result"
    }
   ],
   "source": [
    "#Load output file - has original annotation data in it\n",
    "import pandas as pd\n",
    "\n",
    "fname = root + \"/Results/causal_codes_for_analysis.txt\"\n",
    "#fname = /Users/simon.hughes/Google Drive/PhD/Data/CoralBleaching/Results/predictions-causal_relations.txt\"\n",
    "#fname = \"/Users/simon.hughes/Google Drive/PhD/Data/SkinCancer/Results/predictions.txt\"\n",
    "data = pd.read_csv(fname, sep=\"|\")\n",
    "data[\"Concept Codes\"] = data[\"Concept Codes\"].astype(str).apply(lambda s: \"\" if s == \"nan\" else s)\n",
    "data[\"Predictions\"] = data[\"Predictions\"].astype(str).apply(lambda s: \"\" if s == \"nan\" else s)\n",
    "data[[\"Essay\",\"Concept Codes\", \"Predictions\"]].head(10)"
   ]
  },
  {
   "cell_type": "code",
   "execution_count": 116,
   "metadata": {
    "collapsed": false
   },
   "outputs": [],
   "source": [
    "def to_concepts_only(s):\n",
    "    splt = s.split(\",\")\n",
    "    if not splt:\n",
    "        return set()\n",
    "    filtered = filter(lambda s: s and s[0].isdigit() and not \"-\" in s, splt)\n",
    "    return set(filtered)\n",
    "\n",
    "def is_causal(s):\n",
    "    return s.startswith(\"Causer:\") and \"->Result:\" in s\n",
    "\n",
    "def to_relations_only(s):\n",
    "    splt = s.split(\",\")\n",
    "    if not splt:\n",
    "        return set()\n",
    "    filtered = filter(lambda s: s and is_causal(s), splt)\n",
    "    cleaned = map(lambda s: s.replace(\"Causer:\",\"\").replace(\"Result:\",\"\"), filtered)\n",
    "    return set(cleaned)\n",
    "\n",
    "def set_to_str(a_set):\n",
    "    if len(a_set) == 0:\n",
    "        return \"-\"\n",
    "    return \",\".join(sorted(a_set))\n",
    "\n",
    "data[\"Codes\"] = data[\"Concept Codes\"].apply(to_concepts_only)\n",
    "data[\"sCodes\"] = data[\"Codes\"].apply(set_to_str)\n",
    "data[\"Causal\"] = data[\"Concept Codes\"].apply(to_relations_only)\n",
    "data[\"sCausal\"] = data[\"Causal\"].apply(set_to_str)\n",
    "#del data[\"Concept Codes\"]\n",
    "#data[\"Flt_Preds\"] = data[\"Predictions\"].apply(to_concepts_only)\n",
    "#del data[\"Predictions\"]"
   ]
  },
  {
   "cell_type": "code",
   "execution_count": 117,
   "metadata": {
    "collapsed": false
   },
   "outputs": [
    {
     "data": {
      "text/html": [
       "<div>\n",
       "<table border=\"1\" class=\"dataframe\">\n",
       "  <thead>\n",
       "    <tr style=\"text-align: right;\">\n",
       "      <th></th>\n",
       "      <th>Codes</th>\n",
       "      <th>sCodes</th>\n",
       "      <th>Causal</th>\n",
       "      <th>sCausal</th>\n",
       "    </tr>\n",
       "  </thead>\n",
       "  <tbody>\n",
       "    <tr>\n",
       "      <th>0</th>\n",
       "      <td>set([])</td>\n",
       "      <td>-</td>\n",
       "      <td>set([])</td>\n",
       "      <td>-</td>\n",
       "    </tr>\n",
       "    <tr>\n",
       "      <th>1</th>\n",
       "      <td>set([])</td>\n",
       "      <td>-</td>\n",
       "      <td>set([])</td>\n",
       "      <td>-</td>\n",
       "    </tr>\n",
       "    <tr>\n",
       "      <th>2</th>\n",
       "      <td>set([50])</td>\n",
       "      <td>50</td>\n",
       "      <td>set([])</td>\n",
       "      <td>-</td>\n",
       "    </tr>\n",
       "    <tr>\n",
       "      <th>3</th>\n",
       "      <td>set([])</td>\n",
       "      <td>-</td>\n",
       "      <td>set([])</td>\n",
       "      <td>-</td>\n",
       "    </tr>\n",
       "    <tr>\n",
       "      <th>4</th>\n",
       "      <td>set([])</td>\n",
       "      <td>-</td>\n",
       "      <td>set([])</td>\n",
       "      <td>-</td>\n",
       "    </tr>\n",
       "    <tr>\n",
       "      <th>5</th>\n",
       "      <td>set([])</td>\n",
       "      <td>-</td>\n",
       "      <td>set([])</td>\n",
       "      <td>-</td>\n",
       "    </tr>\n",
       "    <tr>\n",
       "      <th>6</th>\n",
       "      <td>set([1, 2])</td>\n",
       "      <td>1,2</td>\n",
       "      <td>set([1-&gt;2])</td>\n",
       "      <td>1-&gt;2</td>\n",
       "    </tr>\n",
       "    <tr>\n",
       "      <th>7</th>\n",
       "      <td>set([1, 50])</td>\n",
       "      <td>1,50</td>\n",
       "      <td>set([1-&gt;50])</td>\n",
       "      <td>1-&gt;50</td>\n",
       "    </tr>\n",
       "    <tr>\n",
       "      <th>8</th>\n",
       "      <td>set([])</td>\n",
       "      <td>-</td>\n",
       "      <td>set([])</td>\n",
       "      <td>-</td>\n",
       "    </tr>\n",
       "    <tr>\n",
       "      <th>9</th>\n",
       "      <td>set([])</td>\n",
       "      <td>-</td>\n",
       "      <td>set([])</td>\n",
       "      <td>-</td>\n",
       "    </tr>\n",
       "  </tbody>\n",
       "</table>\n",
       "</div>"
      ],
      "text/plain": [
       "          Codes sCodes        Causal sCausal\n",
       "0       set([])      -       set([])       -\n",
       "1       set([])      -       set([])       -\n",
       "2     set([50])     50       set([])       -\n",
       "3       set([])      -       set([])       -\n",
       "4       set([])      -       set([])       -\n",
       "5       set([])      -       set([])       -\n",
       "6   set([1, 2])    1,2   set([1->2])    1->2\n",
       "7  set([1, 50])   1,50  set([1->50])   1->50\n",
       "8       set([])      -       set([])       -\n",
       "9       set([])      -       set([])       -"
      ]
     },
     "execution_count": 117,
     "metadata": {},
     "output_type": "execute_result"
    }
   ],
   "source": [
    "data[[\"Codes\", \"sCodes\", \"Causal\", \"sCausal\"]].head(10)"
   ]
  },
  {
   "cell_type": "code",
   "execution_count": 118,
   "metadata": {
    "collapsed": false
   },
   "outputs": [
    {
     "data": {
      "text/plain": [
       "array([ '1,2,_C->R,_CRel,_RRel,Causer,Result,Causer:1,Result:2,explicit,Causer:1->Result:2',\n",
       "       '1,50,_C->R,_CRel,_RRel,Causer,Result,Causer:1,explicit,Result:50,Causer:1->Result:50',\n",
       "       '4,5,_C->R,_CRel,_RRel,Causer,Result,Causer:4,Result:5,explicit,Causer:4->Result:5',\n",
       "       ...,\n",
       "       '_C->R,_CRel,_RRel,Causer,Result,Causer:5,Result:6,explicit,Causer:5->Result:6',\n",
       "       '5,6,50,_C->R,_CRel,_RRel,Causer,Result,Causer:5,Causer:6,Result:6,explicit,Result:50,Causer:5->Result:6,Causer:6->Result:50',\n",
       "       '5,50,_C->R,_CRel,_RRel,Causer,Result,Causer:5,explicit,Result:50,Causer:5->Result:50'], dtype=object)"
      ]
     },
     "execution_count": 118,
     "metadata": {},
     "output_type": "execute_result"
    }
   ],
   "source": [
    "data[data[\"sCausal\"] != \"-\"][\"Concept Codes\"].values"
   ]
  },
  {
   "cell_type": "code",
   "execution_count": 119,
   "metadata": {
    "collapsed": false
   },
   "outputs": [
    {
     "data": {
      "text/html": [
       "<div>\n",
       "<table border=\"1\" class=\"dataframe\">\n",
       "  <thead>\n",
       "    <tr style=\"text-align: right;\">\n",
       "      <th></th>\n",
       "      <th>sCodes</th>\n",
       "      <th>sCausal</th>\n",
       "    </tr>\n",
       "  </thead>\n",
       "  <tbody>\n",
       "    <tr>\n",
       "      <th>6</th>\n",
       "      <td>1,2</td>\n",
       "      <td>1-&gt;2</td>\n",
       "    </tr>\n",
       "    <tr>\n",
       "      <th>7</th>\n",
       "      <td>1,50</td>\n",
       "      <td>1-&gt;50</td>\n",
       "    </tr>\n",
       "    <tr>\n",
       "      <th>15</th>\n",
       "      <td>4,5</td>\n",
       "      <td>4-&gt;5</td>\n",
       "    </tr>\n",
       "    <tr>\n",
       "      <th>24</th>\n",
       "      <td>4,5</td>\n",
       "      <td>4-&gt;5</td>\n",
       "    </tr>\n",
       "    <tr>\n",
       "      <th>26</th>\n",
       "      <td>2,50</td>\n",
       "      <td>2-&gt;50</td>\n",
       "    </tr>\n",
       "  </tbody>\n",
       "</table>\n",
       "</div>"
      ],
      "text/plain": [
       "   sCodes sCausal\n",
       "6     1,2    1->2\n",
       "7    1,50   1->50\n",
       "15    4,5    4->5\n",
       "24    4,5    4->5\n",
       "26   2,50   2->50"
      ]
     },
     "execution_count": 119,
     "metadata": {},
     "output_type": "execute_result"
    }
   ],
   "source": [
    "causal = data[data[\"sCausal\"] != \"-\"]\n",
    "causal[[\"sCodes\",\"sCausal\"]].head()"
   ]
  },
  {
   "cell_type": "code",
   "execution_count": 120,
   "metadata": {
    "collapsed": false
   },
   "outputs": [
    {
     "data": {
      "text/plain": [
       "(4025, 9693, 41.52)"
      ]
     },
     "execution_count": 120,
     "metadata": {},
     "output_type": "execute_result"
    }
   ],
   "source": [
    "from __future__ import division\n",
    "len(causal), len(data), round(100* len(causal)/ len(data),2)"
   ]
  },
  {
   "cell_type": "code",
   "execution_count": 121,
   "metadata": {
    "collapsed": false
   },
   "outputs": [
    {
     "data": {
      "text/plain": [
       "360"
      ]
     },
     "execution_count": 121,
     "metadata": {},
     "output_type": "execute_result"
    }
   ],
   "source": [
    "#causal[causal[\"sCodes\"] == \"-\"][[\"sCausal\", \"sCodes\"]]\n",
    "len(causal[causal[\"sCodes\"] == \"-\"])"
   ]
  },
  {
   "cell_type": "code",
   "execution_count": 122,
   "metadata": {
    "collapsed": false
   },
   "outputs": [
    {
     "data": {
      "text/plain": [
       "(793, 433)"
      ]
     },
     "execution_count": 122,
     "metadata": {},
     "output_type": "execute_result"
    }
   ],
   "source": [
    "cross_sent_count = 0\n",
    "examplars = []\n",
    "for i, row in causal[[\"Codes\", \"sCausal\"]].iterrows():\n",
    "    codes = row[\"Codes\"]\n",
    "    s_causal_relns = row[\"sCausal\"]\n",
    "    #if causal == \"-\":\n",
    "    #    continue\n",
    "    if not codes:\n",
    "        cross_sent_count +=1\n",
    "        continue\n",
    "    for rel in s_causal_relns.split(\",\"):\n",
    "        rcodes = rel.split(\"->\")\n",
    "        assert len(rcodes) == 2, \"wrong number of codes: {0}, relation: {1}\".format(len(rcodes), rel)\n",
    "        assert all(map(lambda s: s[0].isdigit(), rcodes)), \"not all codes are numeric {0}\".format(rel)\n",
    "        if not all(map(lambda c: c in codes, rcodes)):\n",
    "            examplars.append((codes, rel, rcodes))\n",
    "            cross_sent_count +=1\n",
    "            break\n",
    "cross_sent_count, len(examplars)"
   ]
  },
  {
   "cell_type": "code",
   "execution_count": 123,
   "metadata": {
    "collapsed": false
   },
   "outputs": [
    {
     "data": {
      "text/plain": [
       "[({'50'}, '12->50', ['12', '50']),\n",
       " ({'50'}, '5->6', ['5', '6']),\n",
       " ({'4'}, '4->5', ['4', '5']),\n",
       " ({'5'}, '4->5', ['4', '5']),\n",
       " ({'3'}, '12->3', ['12', '3']),\n",
       " ({'3', '4'}, '12->3', ['12', '3']),\n",
       " ({'2', '50'}, '5->50', ['5', '50']),\n",
       " ({'5'}, '5->50', ['5', '50']),\n",
       " ({'2', '50'}, '5->50', ['5', '50']),\n",
       " ({'5'}, '5->50', ['5', '50']),\n",
       " ({'12'}, '12->3', ['12', '3']),\n",
       " ({'2', '5'}, '5->6', ['5', '6']),\n",
       " ({'3'}, '3->4', ['3', '4']),\n",
       " ({'12', '3'}, '3->4', ['3', '4']),\n",
       " ({'4', '5'}, '11->12', ['11', '12']),\n",
       " ({'11', '50'}, '11->12', ['11', '12']),\n",
       " ({'3', '4', '50'}, '3->6', ['3', '6']),\n",
       " ({'5'}, '5->6', ['5', '6']),\n",
       " ({'11'}, '11->12', ['11', '12']),\n",
       " ({'12', '3'}, '11->12', ['11', '12'])]"
      ]
     },
     "execution_count": 123,
     "metadata": {},
     "output_type": "execute_result"
    }
   ],
   "source": [
    "#Sanity Check\n",
    "examplars[0:20]"
   ]
  },
  {
   "cell_type": "code",
   "execution_count": 124,
   "metadata": {
    "collapsed": false
   },
   "outputs": [
    {
     "data": {
      "text/plain": [
       "(19.7, 793, 4025)"
      ]
     },
     "execution_count": 124,
     "metadata": {},
     "output_type": "execute_result"
    }
   ],
   "source": [
    "pctCrossing = 100.0 * cross_sent_count / len(causal)\n",
    "round(pctCrossing,2), cross_sent_count, len(causal)"
   ]
  },
  {
   "cell_type": "markdown",
   "metadata": {},
   "source": [
    "## ** CONCLUSION ** Around 20% of the Causal Relations Are Cross Sentences"
   ]
  },
  {
   "cell_type": "markdown",
   "metadata": {},
   "source": [
    "## For Comparison with the Anaphora and Rhetorical Counts, We need to Compute % of Lines"
   ]
  },
  {
   "cell_type": "code",
   "execution_count": 125,
   "metadata": {
    "collapsed": false
   },
   "outputs": [
    {
     "name": "stdout",
     "output_type": "stream",
     "text": [
      "2.09 % of lines have cross-sentence causal relations\n"
     ]
    }
   ],
   "source": [
    "print round(100*cross_sent_count / total_line_count,2), \"% of lines have cross-sentence causal relations\""
   ]
  },
  {
   "cell_type": "markdown",
   "metadata": {},
   "source": [
    "# Both Datasets (CB and SK) Aggregated"
   ]
  },
  {
   "cell_type": "markdown",
   "metadata": {},
   "source": [
    "CB\n",
    "\n",
    "Essays:    281 coreferents   1154  essays 24.4%\n",
    "\n",
    "(20.19% causal references cross sentences, 550 causal, 2724 causal references)\n",
    "\n",
    "SC\n",
    "\n",
    "Essays:    333 coreferents   1107  essays 30.1%\n",
    "\n",
    "(19.7, 793, 4025)\n",
    "\n",
    "TOTAL\n",
    "Essays: "
   ]
  },
  {
   "cell_type": "code",
   "execution_count": 136,
   "metadata": {
    "collapsed": false
   },
   "outputs": [
    {
     "data": {
      "text/plain": [
       "('Essays', 614, 2261, '27.16%')"
      ]
     },
     "execution_count": 136,
     "metadata": {},
     "output_type": "execute_result"
    }
   ],
   "source": [
    "\"Essays\",     281 + 333, 1154 + 1107, str(round((281 + 333.0) / (1154 + 1107) * 100.0,2)) + \"%\""
   ]
  },
  {
   "cell_type": "code",
   "execution_count": null,
   "metadata": {
    "collapsed": true
   },
   "outputs": [],
   "source": []
  }
 ],
 "metadata": {
  "kernelspec": {
   "display_name": "Python 2",
   "language": "python",
   "name": "python2"
  },
  "language_info": {
   "codemirror_mode": {
    "name": "ipython",
    "version": 2
   },
   "file_extension": ".py",
   "mimetype": "text/x-python",
   "name": "python",
   "nbconvert_exporter": "python",
   "pygments_lexer": "ipython2",
   "version": "2.7.10"
  }
 },
 "nbformat": 4,
 "nbformat_minor": 0
}
